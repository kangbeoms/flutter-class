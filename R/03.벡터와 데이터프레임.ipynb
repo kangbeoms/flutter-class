{
 "cells": [
  {
   "cell_type": "code",
   "execution_count": 23,
   "metadata": {
    "vscode": {
     "languageId": "r"
    }
   },
   "outputs": [],
   "source": [
    " samp <- sample(1:150, 10)"
   ]
  },
  {
   "cell_type": "code",
   "execution_count": 30,
   "metadata": {
    "vscode": {
     "languageId": "r"
    }
   },
   "outputs": [
    {
     "data": {
      "text/html": [
       "<table>\n",
       "<thead><tr><th></th><th scope=col>Sepal.Length</th><th scope=col>Sepal.Width</th><th scope=col>Petal.Length</th><th scope=col>Petal.Width</th><th scope=col>Species</th></tr></thead>\n",
       "<tbody>\n",
       "\t<tr><th scope=row>70</th><td>5.6       </td><td>2.5       </td><td>3.9       </td><td>1.1       </td><td>versicolor</td></tr>\n",
       "\t<tr><th scope=row>97</th><td>5.7       </td><td>2.9       </td><td>4.2       </td><td>1.3       </td><td>versicolor</td></tr>\n",
       "\t<tr><th scope=row>107</th><td>4.9       </td><td>2.5       </td><td>4.5       </td><td>1.7       </td><td>virginica </td></tr>\n",
       "\t<tr><th scope=row>77</th><td>6.8       </td><td>2.8       </td><td>4.8       </td><td>1.4       </td><td>versicolor</td></tr>\n",
       "\t<tr><th scope=row>27</th><td>5.0       </td><td>3.4       </td><td>1.6       </td><td>0.4       </td><td>setosa    </td></tr>\n",
       "\t<tr><th scope=row>41</th><td>5.0       </td><td>3.5       </td><td>1.3       </td><td>0.3       </td><td>setosa    </td></tr>\n",
       "\t<tr><th scope=row>8</th><td>5.0       </td><td>3.4       </td><td>1.5       </td><td>0.2       </td><td>setosa    </td></tr>\n",
       "\t<tr><th scope=row>127</th><td>6.2       </td><td>2.8       </td><td>4.8       </td><td>1.8       </td><td>virginica </td></tr>\n",
       "\t<tr><th scope=row>53</th><td>6.9       </td><td>3.1       </td><td>4.9       </td><td>1.5       </td><td>versicolor</td></tr>\n",
       "\t<tr><th scope=row>102</th><td>5.8       </td><td>2.7       </td><td>5.1       </td><td>1.9       </td><td>virginica </td></tr>\n",
       "</tbody>\n",
       "</table>\n"
      ],
      "text/latex": [
       "\\begin{tabular}{r|lllll}\n",
       "  & Sepal.Length & Sepal.Width & Petal.Length & Petal.Width & Species\\\\\n",
       "\\hline\n",
       "\t70 & 5.6        & 2.5        & 3.9        & 1.1        & versicolor\\\\\n",
       "\t97 & 5.7        & 2.9        & 4.2        & 1.3        & versicolor\\\\\n",
       "\t107 & 4.9        & 2.5        & 4.5        & 1.7        & virginica \\\\\n",
       "\t77 & 6.8        & 2.8        & 4.8        & 1.4        & versicolor\\\\\n",
       "\t27 & 5.0        & 3.4        & 1.6        & 0.4        & setosa    \\\\\n",
       "\t41 & 5.0        & 3.5        & 1.3        & 0.3        & setosa    \\\\\n",
       "\t8 & 5.0        & 3.4        & 1.5        & 0.2        & setosa    \\\\\n",
       "\t127 & 6.2        & 2.8        & 4.8        & 1.8        & virginica \\\\\n",
       "\t53 & 6.9        & 3.1        & 4.9        & 1.5        & versicolor\\\\\n",
       "\t102 & 5.8        & 2.7        & 5.1        & 1.9        & virginica \\\\\n",
       "\\end{tabular}\n"
      ],
      "text/markdown": [
       "\n",
       "| <!--/--> | Sepal.Length | Sepal.Width | Petal.Length | Petal.Width | Species |\n",
       "|---|---|---|---|---|---|\n",
       "| 70 | 5.6        | 2.5        | 3.9        | 1.1        | versicolor |\n",
       "| 97 | 5.7        | 2.9        | 4.2        | 1.3        | versicolor |\n",
       "| 107 | 4.9        | 2.5        | 4.5        | 1.7        | virginica  |\n",
       "| 77 | 6.8        | 2.8        | 4.8        | 1.4        | versicolor |\n",
       "| 27 | 5.0        | 3.4        | 1.6        | 0.4        | setosa     |\n",
       "| 41 | 5.0        | 3.5        | 1.3        | 0.3        | setosa     |\n",
       "| 8 | 5.0        | 3.4        | 1.5        | 0.2        | setosa     |\n",
       "| 127 | 6.2        | 2.8        | 4.8        | 1.8        | virginica  |\n",
       "| 53 | 6.9        | 3.1        | 4.9        | 1.5        | versicolor |\n",
       "| 102 | 5.8        | 2.7        | 5.1        | 1.9        | virginica  |\n",
       "\n"
      ],
      "text/plain": [
       "    Sepal.Length Sepal.Width Petal.Length Petal.Width Species   \n",
       "70  5.6          2.5         3.9          1.1         versicolor\n",
       "97  5.7          2.9         4.2          1.3         versicolor\n",
       "107 4.9          2.5         4.5          1.7         virginica \n",
       "77  6.8          2.8         4.8          1.4         versicolor\n",
       "27  5.0          3.4         1.6          0.4         setosa    \n",
       "41  5.0          3.5         1.3          0.3         setosa    \n",
       "8   5.0          3.4         1.5          0.2         setosa    \n",
       "127 6.2          2.8         4.8          1.8         virginica \n",
       "53  6.9          3.1         4.9          1.5         versicolor\n",
       "102 5.8          2.7         5.1          1.9         virginica "
      ]
     },
     "metadata": {},
     "output_type": "display_data"
    }
   ],
   "source": [
    "\n",
    "samp <- sample(1:150, 10)\n",
    "# 샘플링은 모집단의 특징을 가지고 와야 한다 ( 만약 iris 를 샘플링 한다 하면 3가지 종류를 10개씩 가져와야 맞다)\n",
    "# iris 는 타겟 데이터가 종류 나머지가 fecher 다 \n",
    "iris[samp,]"
   ]
  },
  {
   "cell_type": "code",
   "execution_count": 36,
   "metadata": {
    "vscode": {
     "languageId": "r"
    }
   },
   "outputs": [
    {
     "data": {
      "text/html": [
       "<table>\n",
       "<thead><tr><th></th><th scope=col>Sepal.Length</th><th scope=col>Sepal.Width</th><th scope=col>Petal.Length</th><th scope=col>Petal.Width</th><th scope=col>Species</th></tr></thead>\n",
       "<tbody>\n",
       "\t<tr><th scope=row>10</th><td>4.9       </td><td>3.1       </td><td>1.5       </td><td>0.1       </td><td>setosa    </td></tr>\n",
       "\t<tr><th scope=row>20</th><td>5.1       </td><td>3.8       </td><td>1.5       </td><td>0.3       </td><td>setosa    </td></tr>\n",
       "\t<tr><th scope=row>30</th><td>4.7       </td><td>3.2       </td><td>1.6       </td><td>0.2       </td><td>setosa    </td></tr>\n",
       "\t<tr><th scope=row>40</th><td>5.1       </td><td>3.4       </td><td>1.5       </td><td>0.2       </td><td>setosa    </td></tr>\n",
       "\t<tr><th scope=row>50</th><td>5.0       </td><td>3.3       </td><td>1.4       </td><td>0.2       </td><td>setosa    </td></tr>\n",
       "\t<tr><th scope=row>60</th><td>5.2       </td><td>2.7       </td><td>3.9       </td><td>1.4       </td><td>versicolor</td></tr>\n",
       "\t<tr><th scope=row>70</th><td>5.6       </td><td>2.5       </td><td>3.9       </td><td>1.1       </td><td>versicolor</td></tr>\n",
       "\t<tr><th scope=row>80</th><td>5.7       </td><td>2.6       </td><td>3.5       </td><td>1.0       </td><td>versicolor</td></tr>\n",
       "\t<tr><th scope=row>90</th><td>5.5       </td><td>2.5       </td><td>4.0       </td><td>1.3       </td><td>versicolor</td></tr>\n",
       "\t<tr><th scope=row>100</th><td>5.7       </td><td>2.8       </td><td>4.1       </td><td>1.3       </td><td>versicolor</td></tr>\n",
       "\t<tr><th scope=row>110</th><td>7.2       </td><td>3.6       </td><td>6.1       </td><td>2.5       </td><td>virginica </td></tr>\n",
       "\t<tr><th scope=row>120</th><td>6.0       </td><td>2.2       </td><td>5.0       </td><td>1.5       </td><td>virginica </td></tr>\n",
       "\t<tr><th scope=row>130</th><td>7.2       </td><td>3.0       </td><td>5.8       </td><td>1.6       </td><td>virginica </td></tr>\n",
       "\t<tr><th scope=row>140</th><td>6.9       </td><td>3.1       </td><td>5.4       </td><td>2.1       </td><td>virginica </td></tr>\n",
       "\t<tr><th scope=row>150</th><td>5.9       </td><td>3.0       </td><td>5.1       </td><td>1.8       </td><td>virginica </td></tr>\n",
       "</tbody>\n",
       "</table>\n"
      ],
      "text/latex": [
       "\\begin{tabular}{r|lllll}\n",
       "  & Sepal.Length & Sepal.Width & Petal.Length & Petal.Width & Species\\\\\n",
       "\\hline\n",
       "\t10 & 4.9        & 3.1        & 1.5        & 0.1        & setosa    \\\\\n",
       "\t20 & 5.1        & 3.8        & 1.5        & 0.3        & setosa    \\\\\n",
       "\t30 & 4.7        & 3.2        & 1.6        & 0.2        & setosa    \\\\\n",
       "\t40 & 5.1        & 3.4        & 1.5        & 0.2        & setosa    \\\\\n",
       "\t50 & 5.0        & 3.3        & 1.4        & 0.2        & setosa    \\\\\n",
       "\t60 & 5.2        & 2.7        & 3.9        & 1.4        & versicolor\\\\\n",
       "\t70 & 5.6        & 2.5        & 3.9        & 1.1        & versicolor\\\\\n",
       "\t80 & 5.7        & 2.6        & 3.5        & 1.0        & versicolor\\\\\n",
       "\t90 & 5.5        & 2.5        & 4.0        & 1.3        & versicolor\\\\\n",
       "\t100 & 5.7        & 2.8        & 4.1        & 1.3        & versicolor\\\\\n",
       "\t110 & 7.2        & 3.6        & 6.1        & 2.5        & virginica \\\\\n",
       "\t120 & 6.0        & 2.2        & 5.0        & 1.5        & virginica \\\\\n",
       "\t130 & 7.2        & 3.0        & 5.8        & 1.6        & virginica \\\\\n",
       "\t140 & 6.9        & 3.1        & 5.4        & 2.1        & virginica \\\\\n",
       "\t150 & 5.9        & 3.0        & 5.1        & 1.8        & virginica \\\\\n",
       "\\end{tabular}\n"
      ],
      "text/markdown": [
       "\n",
       "| <!--/--> | Sepal.Length | Sepal.Width | Petal.Length | Petal.Width | Species |\n",
       "|---|---|---|---|---|---|\n",
       "| 10 | 4.9        | 3.1        | 1.5        | 0.1        | setosa     |\n",
       "| 20 | 5.1        | 3.8        | 1.5        | 0.3        | setosa     |\n",
       "| 30 | 4.7        | 3.2        | 1.6        | 0.2        | setosa     |\n",
       "| 40 | 5.1        | 3.4        | 1.5        | 0.2        | setosa     |\n",
       "| 50 | 5.0        | 3.3        | 1.4        | 0.2        | setosa     |\n",
       "| 60 | 5.2        | 2.7        | 3.9        | 1.4        | versicolor |\n",
       "| 70 | 5.6        | 2.5        | 3.9        | 1.1        | versicolor |\n",
       "| 80 | 5.7        | 2.6        | 3.5        | 1.0        | versicolor |\n",
       "| 90 | 5.5        | 2.5        | 4.0        | 1.3        | versicolor |\n",
       "| 100 | 5.7        | 2.8        | 4.1        | 1.3        | versicolor |\n",
       "| 110 | 7.2        | 3.6        | 6.1        | 2.5        | virginica  |\n",
       "| 120 | 6.0        | 2.2        | 5.0        | 1.5        | virginica  |\n",
       "| 130 | 7.2        | 3.0        | 5.8        | 1.6        | virginica  |\n",
       "| 140 | 6.9        | 3.1        | 5.4        | 2.1        | virginica  |\n",
       "| 150 | 5.9        | 3.0        | 5.1        | 1.8        | virginica  |\n",
       "\n"
      ],
      "text/plain": [
       "    Sepal.Length Sepal.Width Petal.Length Petal.Width Species   \n",
       "10  4.9          3.1         1.5          0.1         setosa    \n",
       "20  5.1          3.8         1.5          0.3         setosa    \n",
       "30  4.7          3.2         1.6          0.2         setosa    \n",
       "40  5.1          3.4         1.5          0.2         setosa    \n",
       "50  5.0          3.3         1.4          0.2         setosa    \n",
       "60  5.2          2.7         3.9          1.4         versicolor\n",
       "70  5.6          2.5         3.9          1.1         versicolor\n",
       "80  5.7          2.6         3.5          1.0         versicolor\n",
       "90  5.5          2.5         4.0          1.3         versicolor\n",
       "100 5.7          2.8         4.1          1.3         versicolor\n",
       "110 7.2          3.6         6.1          2.5         virginica \n",
       "120 6.0          2.2         5.0          1.5         virginica \n",
       "130 7.2          3.0         5.8          1.6         virginica \n",
       "140 6.9          3.1         5.4          2.1         virginica \n",
       "150 5.9          3.0         5.1          1.8         virginica "
      ]
     },
     "metadata": {},
     "output_type": "display_data"
    }
   ],
   "source": [
    "iris[seq(0,150,10),]"
   ]
  },
  {
   "cell_type": "code",
   "execution_count": 50,
   "metadata": {
    "vscode": {
     "languageId": "r"
    }
   },
   "outputs": [
    {
     "name": "stdout",
     "output_type": "stream",
     "text": [
      "'data.frame':\t150 obs. of  5 variables:\n",
      " $ Sepal.Length: num  5.1 4.9 4.7 4.6 5 5.4 4.6 5 4.4 4.9 ...\n",
      " $ Sepal.Width : num  3.5 3 3.2 3.1 3.6 3.9 3.4 3.4 2.9 3.1 ...\n",
      " $ Petal.Length: num  1.4 1.4 1.3 1.5 1.4 1.7 1.4 1.5 1.4 1.5 ...\n",
      " $ Petal.Width : num  0.2 0.2 0.2 0.2 0.2 0.4 0.3 0.2 0.2 0.1 ...\n",
      " $ Species     : Factor w/ 3 levels \"setosa\",\"versicolor\",..: 1 1 1 1 1 1 1 1 1 1 ...\n"
     ]
    },
    {
     "data": {
      "text/html": [
       "<ol class=list-inline>\n",
       "\t<li>setosa</li>\n",
       "\t<li>versicolor</li>\n",
       "\t<li>virginica</li>\n",
       "</ol>\n",
       "\n",
       "<details>\n",
       "\t<summary style=display:list-item;cursor:pointer>\n",
       "\t\t<strong>Levels</strong>:\n",
       "\t</summary>\n",
       "\t<ol class=list-inline>\n",
       "\t\t<li>'setosa'</li>\n",
       "\t\t<li>'versicolor'</li>\n",
       "\t\t<li>'virginica'</li>\n",
       "\t</ol>\n",
       "</details>"
      ],
      "text/latex": [
       "\\begin{enumerate*}\n",
       "\\item setosa\n",
       "\\item versicolor\n",
       "\\item virginica\n",
       "\\end{enumerate*}\n",
       "\n",
       "\\emph{Levels}: \\begin{enumerate*}\n",
       "\\item 'setosa'\n",
       "\\item 'versicolor'\n",
       "\\item 'virginica'\n",
       "\\end{enumerate*}\n"
      ],
      "text/markdown": [
       "1. setosa\n",
       "2. versicolor\n",
       "3. virginica\n",
       "\n",
       "\n",
       "\n",
       "**Levels**: 1. 'setosa'\n",
       "2. 'versicolor'\n",
       "3. 'virginica'\n",
       "\n",
       "\n"
      ],
      "text/plain": [
       "[1] setosa     versicolor virginica \n",
       "Levels: setosa versicolor virginica"
      ]
     },
     "metadata": {},
     "output_type": "display_data"
    }
   ],
   "source": [
    "# 데이터 정보 보이기\n",
    "str(iris)\n",
    "unique(iris$Species)"
   ]
  },
  {
   "cell_type": "code",
   "execution_count": 39,
   "metadata": {
    "vscode": {
     "languageId": "r"
    }
   },
   "outputs": [
    {
     "data": {
      "text/html": [
       "5"
      ],
      "text/latex": [
       "5"
      ],
      "text/markdown": [
       "5"
      ],
      "text/plain": [
       "[1] 5"
      ]
     },
     "metadata": {},
     "output_type": "display_data"
    },
    {
     "data": {
      "text/html": [
       "5"
      ],
      "text/latex": [
       "5"
      ],
      "text/markdown": [
       "5"
      ],
      "text/plain": [
       "[1] 5"
      ]
     },
     "metadata": {},
     "output_type": "display_data"
    },
    {
     "data": {
      "text/html": [
       "150"
      ],
      "text/latex": [
       "150"
      ],
      "text/markdown": [
       "150"
      ],
      "text/plain": [
       "[1] 150"
      ]
     },
     "metadata": {},
     "output_type": "display_data"
    }
   ],
   "source": [
    "# Column수 \n",
    "# 5개의 벡터로 이루어진 데이터 프레임이다\n",
    "length(iris)\n",
    "# Data Frame 의 컬럼수\n",
    "ncol(iris)\n",
    "\n",
    "# DataFrame의 Row수\n",
    "nrow(iris)"
   ]
  },
  {
   "cell_type": "code",
   "execution_count": 45,
   "metadata": {
    "vscode": {
     "languageId": "r"
    }
   },
   "outputs": [
    {
     "data": {
      "text/html": [
       "TRUE"
      ],
      "text/latex": [
       "TRUE"
      ],
      "text/markdown": [
       "TRUE"
      ],
      "text/plain": [
       "[1] TRUE"
      ]
     },
     "metadata": {},
     "output_type": "display_data"
    }
   ],
   "source": [
    "# iris 의 sepal.Length의 최대값과 최소값의 차이가 평균보다 큰가\n",
    "   m <- mean(iris$Sepal.Length)\n",
    "  ( max(iris$Sepal.Length) - min(iris$Sepal.Length) ) < m\n",
    "   "
   ]
  },
  {
   "cell_type": "code",
   "execution_count": 56,
   "metadata": {
    "vscode": {
     "languageId": "r"
    }
   },
   "outputs": [
    {
     "data": {
      "text/html": [
       "<ol class=list-inline>\n",
       "\t<li>'Sepal.Length'</li>\n",
       "\t<li>'Sepal.Width'</li>\n",
       "\t<li>'Petal.Length'</li>\n",
       "\t<li>'Petal.Width'</li>\n",
       "\t<li>'Species'</li>\n",
       "</ol>\n"
      ],
      "text/latex": [
       "\\begin{enumerate*}\n",
       "\\item 'Sepal.Length'\n",
       "\\item 'Sepal.Width'\n",
       "\\item 'Petal.Length'\n",
       "\\item 'Petal.Width'\n",
       "\\item 'Species'\n",
       "\\end{enumerate*}\n"
      ],
      "text/markdown": [
       "1. 'Sepal.Length'\n",
       "2. 'Sepal.Width'\n",
       "3. 'Petal.Length'\n",
       "4. 'Petal.Width'\n",
       "5. 'Species'\n",
       "\n",
       "\n"
      ],
      "text/plain": [
       "[1] \"Sepal.Length\" \"Sepal.Width\"  \"Petal.Length\" \"Petal.Width\"  \"Species\"     "
      ]
     },
     "metadata": {},
     "output_type": "display_data"
    },
    {
     "data": {
      "text/html": [
       "<ol class=list-inline>\n",
       "\t<li>'1'</li>\n",
       "\t<li>'2'</li>\n",
       "\t<li>'3'</li>\n",
       "\t<li>'4'</li>\n",
       "\t<li>'5'</li>\n",
       "\t<li>'6'</li>\n",
       "\t<li>'7'</li>\n",
       "\t<li>'8'</li>\n",
       "\t<li>'9'</li>\n",
       "\t<li>'10'</li>\n",
       "\t<li>'11'</li>\n",
       "\t<li>'12'</li>\n",
       "\t<li>'13'</li>\n",
       "\t<li>'14'</li>\n",
       "\t<li>'15'</li>\n",
       "\t<li>'16'</li>\n",
       "\t<li>'17'</li>\n",
       "\t<li>'18'</li>\n",
       "\t<li>'19'</li>\n",
       "\t<li>'20'</li>\n",
       "\t<li>'21'</li>\n",
       "\t<li>'22'</li>\n",
       "\t<li>'23'</li>\n",
       "\t<li>'24'</li>\n",
       "\t<li>'25'</li>\n",
       "\t<li>'26'</li>\n",
       "\t<li>'27'</li>\n",
       "\t<li>'28'</li>\n",
       "\t<li>'29'</li>\n",
       "\t<li>'30'</li>\n",
       "\t<li>'31'</li>\n",
       "\t<li>'32'</li>\n",
       "\t<li>'33'</li>\n",
       "\t<li>'34'</li>\n",
       "\t<li>'35'</li>\n",
       "\t<li>'36'</li>\n",
       "\t<li>'37'</li>\n",
       "\t<li>'38'</li>\n",
       "\t<li>'39'</li>\n",
       "\t<li>'40'</li>\n",
       "\t<li>'41'</li>\n",
       "\t<li>'42'</li>\n",
       "\t<li>'43'</li>\n",
       "\t<li>'44'</li>\n",
       "\t<li>'45'</li>\n",
       "\t<li>'46'</li>\n",
       "\t<li>'47'</li>\n",
       "\t<li>'48'</li>\n",
       "\t<li>'49'</li>\n",
       "\t<li>'50'</li>\n",
       "\t<li>'51'</li>\n",
       "\t<li>'52'</li>\n",
       "\t<li>'53'</li>\n",
       "\t<li>'54'</li>\n",
       "\t<li>'55'</li>\n",
       "\t<li>'56'</li>\n",
       "\t<li>'57'</li>\n",
       "\t<li>'58'</li>\n",
       "\t<li>'59'</li>\n",
       "\t<li>'60'</li>\n",
       "\t<li>'61'</li>\n",
       "\t<li>'62'</li>\n",
       "\t<li>'63'</li>\n",
       "\t<li>'64'</li>\n",
       "\t<li>'65'</li>\n",
       "\t<li>'66'</li>\n",
       "\t<li>'67'</li>\n",
       "\t<li>'68'</li>\n",
       "\t<li>'69'</li>\n",
       "\t<li>'70'</li>\n",
       "\t<li>'71'</li>\n",
       "\t<li>'72'</li>\n",
       "\t<li>'73'</li>\n",
       "\t<li>'74'</li>\n",
       "\t<li>'75'</li>\n",
       "\t<li>'76'</li>\n",
       "\t<li>'77'</li>\n",
       "\t<li>'78'</li>\n",
       "\t<li>'79'</li>\n",
       "\t<li>'80'</li>\n",
       "\t<li>'81'</li>\n",
       "\t<li>'82'</li>\n",
       "\t<li>'83'</li>\n",
       "\t<li>'84'</li>\n",
       "\t<li>'85'</li>\n",
       "\t<li>'86'</li>\n",
       "\t<li>'87'</li>\n",
       "\t<li>'88'</li>\n",
       "\t<li>'89'</li>\n",
       "\t<li>'90'</li>\n",
       "\t<li>'91'</li>\n",
       "\t<li>'92'</li>\n",
       "\t<li>'93'</li>\n",
       "\t<li>'94'</li>\n",
       "\t<li>'95'</li>\n",
       "\t<li>'96'</li>\n",
       "\t<li>'97'</li>\n",
       "\t<li>'98'</li>\n",
       "\t<li>'99'</li>\n",
       "\t<li>'100'</li>\n",
       "\t<li>'101'</li>\n",
       "\t<li>'102'</li>\n",
       "\t<li>'103'</li>\n",
       "\t<li>'104'</li>\n",
       "\t<li>'105'</li>\n",
       "\t<li>'106'</li>\n",
       "\t<li>'107'</li>\n",
       "\t<li>'108'</li>\n",
       "\t<li>'109'</li>\n",
       "\t<li>'110'</li>\n",
       "\t<li>'111'</li>\n",
       "\t<li>'112'</li>\n",
       "\t<li>'113'</li>\n",
       "\t<li>'114'</li>\n",
       "\t<li>'115'</li>\n",
       "\t<li>'116'</li>\n",
       "\t<li>'117'</li>\n",
       "\t<li>'118'</li>\n",
       "\t<li>'119'</li>\n",
       "\t<li>'120'</li>\n",
       "\t<li>'121'</li>\n",
       "\t<li>'122'</li>\n",
       "\t<li>'123'</li>\n",
       "\t<li>'124'</li>\n",
       "\t<li>'125'</li>\n",
       "\t<li>'126'</li>\n",
       "\t<li>'127'</li>\n",
       "\t<li>'128'</li>\n",
       "\t<li>'129'</li>\n",
       "\t<li>'130'</li>\n",
       "\t<li>'131'</li>\n",
       "\t<li>'132'</li>\n",
       "\t<li>'133'</li>\n",
       "\t<li>'134'</li>\n",
       "\t<li>'135'</li>\n",
       "\t<li>'136'</li>\n",
       "\t<li>'137'</li>\n",
       "\t<li>'138'</li>\n",
       "\t<li>'139'</li>\n",
       "\t<li>'140'</li>\n",
       "\t<li>'141'</li>\n",
       "\t<li>'142'</li>\n",
       "\t<li>'143'</li>\n",
       "\t<li>'144'</li>\n",
       "\t<li>'145'</li>\n",
       "\t<li>'146'</li>\n",
       "\t<li>'147'</li>\n",
       "\t<li>'148'</li>\n",
       "\t<li>'149'</li>\n",
       "\t<li>'150'</li>\n",
       "</ol>\n"
      ],
      "text/latex": [
       "\\begin{enumerate*}\n",
       "\\item '1'\n",
       "\\item '2'\n",
       "\\item '3'\n",
       "\\item '4'\n",
       "\\item '5'\n",
       "\\item '6'\n",
       "\\item '7'\n",
       "\\item '8'\n",
       "\\item '9'\n",
       "\\item '10'\n",
       "\\item '11'\n",
       "\\item '12'\n",
       "\\item '13'\n",
       "\\item '14'\n",
       "\\item '15'\n",
       "\\item '16'\n",
       "\\item '17'\n",
       "\\item '18'\n",
       "\\item '19'\n",
       "\\item '20'\n",
       "\\item '21'\n",
       "\\item '22'\n",
       "\\item '23'\n",
       "\\item '24'\n",
       "\\item '25'\n",
       "\\item '26'\n",
       "\\item '27'\n",
       "\\item '28'\n",
       "\\item '29'\n",
       "\\item '30'\n",
       "\\item '31'\n",
       "\\item '32'\n",
       "\\item '33'\n",
       "\\item '34'\n",
       "\\item '35'\n",
       "\\item '36'\n",
       "\\item '37'\n",
       "\\item '38'\n",
       "\\item '39'\n",
       "\\item '40'\n",
       "\\item '41'\n",
       "\\item '42'\n",
       "\\item '43'\n",
       "\\item '44'\n",
       "\\item '45'\n",
       "\\item '46'\n",
       "\\item '47'\n",
       "\\item '48'\n",
       "\\item '49'\n",
       "\\item '50'\n",
       "\\item '51'\n",
       "\\item '52'\n",
       "\\item '53'\n",
       "\\item '54'\n",
       "\\item '55'\n",
       "\\item '56'\n",
       "\\item '57'\n",
       "\\item '58'\n",
       "\\item '59'\n",
       "\\item '60'\n",
       "\\item '61'\n",
       "\\item '62'\n",
       "\\item '63'\n",
       "\\item '64'\n",
       "\\item '65'\n",
       "\\item '66'\n",
       "\\item '67'\n",
       "\\item '68'\n",
       "\\item '69'\n",
       "\\item '70'\n",
       "\\item '71'\n",
       "\\item '72'\n",
       "\\item '73'\n",
       "\\item '74'\n",
       "\\item '75'\n",
       "\\item '76'\n",
       "\\item '77'\n",
       "\\item '78'\n",
       "\\item '79'\n",
       "\\item '80'\n",
       "\\item '81'\n",
       "\\item '82'\n",
       "\\item '83'\n",
       "\\item '84'\n",
       "\\item '85'\n",
       "\\item '86'\n",
       "\\item '87'\n",
       "\\item '88'\n",
       "\\item '89'\n",
       "\\item '90'\n",
       "\\item '91'\n",
       "\\item '92'\n",
       "\\item '93'\n",
       "\\item '94'\n",
       "\\item '95'\n",
       "\\item '96'\n",
       "\\item '97'\n",
       "\\item '98'\n",
       "\\item '99'\n",
       "\\item '100'\n",
       "\\item '101'\n",
       "\\item '102'\n",
       "\\item '103'\n",
       "\\item '104'\n",
       "\\item '105'\n",
       "\\item '106'\n",
       "\\item '107'\n",
       "\\item '108'\n",
       "\\item '109'\n",
       "\\item '110'\n",
       "\\item '111'\n",
       "\\item '112'\n",
       "\\item '113'\n",
       "\\item '114'\n",
       "\\item '115'\n",
       "\\item '116'\n",
       "\\item '117'\n",
       "\\item '118'\n",
       "\\item '119'\n",
       "\\item '120'\n",
       "\\item '121'\n",
       "\\item '122'\n",
       "\\item '123'\n",
       "\\item '124'\n",
       "\\item '125'\n",
       "\\item '126'\n",
       "\\item '127'\n",
       "\\item '128'\n",
       "\\item '129'\n",
       "\\item '130'\n",
       "\\item '131'\n",
       "\\item '132'\n",
       "\\item '133'\n",
       "\\item '134'\n",
       "\\item '135'\n",
       "\\item '136'\n",
       "\\item '137'\n",
       "\\item '138'\n",
       "\\item '139'\n",
       "\\item '140'\n",
       "\\item '141'\n",
       "\\item '142'\n",
       "\\item '143'\n",
       "\\item '144'\n",
       "\\item '145'\n",
       "\\item '146'\n",
       "\\item '147'\n",
       "\\item '148'\n",
       "\\item '149'\n",
       "\\item '150'\n",
       "\\end{enumerate*}\n"
      ],
      "text/markdown": [
       "1. '1'\n",
       "2. '2'\n",
       "3. '3'\n",
       "4. '4'\n",
       "5. '5'\n",
       "6. '6'\n",
       "7. '7'\n",
       "8. '8'\n",
       "9. '9'\n",
       "10. '10'\n",
       "11. '11'\n",
       "12. '12'\n",
       "13. '13'\n",
       "14. '14'\n",
       "15. '15'\n",
       "16. '16'\n",
       "17. '17'\n",
       "18. '18'\n",
       "19. '19'\n",
       "20. '20'\n",
       "21. '21'\n",
       "22. '22'\n",
       "23. '23'\n",
       "24. '24'\n",
       "25. '25'\n",
       "26. '26'\n",
       "27. '27'\n",
       "28. '28'\n",
       "29. '29'\n",
       "30. '30'\n",
       "31. '31'\n",
       "32. '32'\n",
       "33. '33'\n",
       "34. '34'\n",
       "35. '35'\n",
       "36. '36'\n",
       "37. '37'\n",
       "38. '38'\n",
       "39. '39'\n",
       "40. '40'\n",
       "41. '41'\n",
       "42. '42'\n",
       "43. '43'\n",
       "44. '44'\n",
       "45. '45'\n",
       "46. '46'\n",
       "47. '47'\n",
       "48. '48'\n",
       "49. '49'\n",
       "50. '50'\n",
       "51. '51'\n",
       "52. '52'\n",
       "53. '53'\n",
       "54. '54'\n",
       "55. '55'\n",
       "56. '56'\n",
       "57. '57'\n",
       "58. '58'\n",
       "59. '59'\n",
       "60. '60'\n",
       "61. '61'\n",
       "62. '62'\n",
       "63. '63'\n",
       "64. '64'\n",
       "65. '65'\n",
       "66. '66'\n",
       "67. '67'\n",
       "68. '68'\n",
       "69. '69'\n",
       "70. '70'\n",
       "71. '71'\n",
       "72. '72'\n",
       "73. '73'\n",
       "74. '74'\n",
       "75. '75'\n",
       "76. '76'\n",
       "77. '77'\n",
       "78. '78'\n",
       "79. '79'\n",
       "80. '80'\n",
       "81. '81'\n",
       "82. '82'\n",
       "83. '83'\n",
       "84. '84'\n",
       "85. '85'\n",
       "86. '86'\n",
       "87. '87'\n",
       "88. '88'\n",
       "89. '89'\n",
       "90. '90'\n",
       "91. '91'\n",
       "92. '92'\n",
       "93. '93'\n",
       "94. '94'\n",
       "95. '95'\n",
       "96. '96'\n",
       "97. '97'\n",
       "98. '98'\n",
       "99. '99'\n",
       "100. '100'\n",
       "101. '101'\n",
       "102. '102'\n",
       "103. '103'\n",
       "104. '104'\n",
       "105. '105'\n",
       "106. '106'\n",
       "107. '107'\n",
       "108. '108'\n",
       "109. '109'\n",
       "110. '110'\n",
       "111. '111'\n",
       "112. '112'\n",
       "113. '113'\n",
       "114. '114'\n",
       "115. '115'\n",
       "116. '116'\n",
       "117. '117'\n",
       "118. '118'\n",
       "119. '119'\n",
       "120. '120'\n",
       "121. '121'\n",
       "122. '122'\n",
       "123. '123'\n",
       "124. '124'\n",
       "125. '125'\n",
       "126. '126'\n",
       "127. '127'\n",
       "128. '128'\n",
       "129. '129'\n",
       "130. '130'\n",
       "131. '131'\n",
       "132. '132'\n",
       "133. '133'\n",
       "134. '134'\n",
       "135. '135'\n",
       "136. '136'\n",
       "137. '137'\n",
       "138. '138'\n",
       "139. '139'\n",
       "140. '140'\n",
       "141. '141'\n",
       "142. '142'\n",
       "143. '143'\n",
       "144. '144'\n",
       "145. '145'\n",
       "146. '146'\n",
       "147. '147'\n",
       "148. '148'\n",
       "149. '149'\n",
       "150. '150'\n",
       "\n",
       "\n"
      ],
      "text/plain": [
       "  [1] \"1\"   \"2\"   \"3\"   \"4\"   \"5\"   \"6\"   \"7\"   \"8\"   \"9\"   \"10\"  \"11\"  \"12\" \n",
       " [13] \"13\"  \"14\"  \"15\"  \"16\"  \"17\"  \"18\"  \"19\"  \"20\"  \"21\"  \"22\"  \"23\"  \"24\" \n",
       " [25] \"25\"  \"26\"  \"27\"  \"28\"  \"29\"  \"30\"  \"31\"  \"32\"  \"33\"  \"34\"  \"35\"  \"36\" \n",
       " [37] \"37\"  \"38\"  \"39\"  \"40\"  \"41\"  \"42\"  \"43\"  \"44\"  \"45\"  \"46\"  \"47\"  \"48\" \n",
       " [49] \"49\"  \"50\"  \"51\"  \"52\"  \"53\"  \"54\"  \"55\"  \"56\"  \"57\"  \"58\"  \"59\"  \"60\" \n",
       " [61] \"61\"  \"62\"  \"63\"  \"64\"  \"65\"  \"66\"  \"67\"  \"68\"  \"69\"  \"70\"  \"71\"  \"72\" \n",
       " [73] \"73\"  \"74\"  \"75\"  \"76\"  \"77\"  \"78\"  \"79\"  \"80\"  \"81\"  \"82\"  \"83\"  \"84\" \n",
       " [85] \"85\"  \"86\"  \"87\"  \"88\"  \"89\"  \"90\"  \"91\"  \"92\"  \"93\"  \"94\"  \"95\"  \"96\" \n",
       " [97] \"97\"  \"98\"  \"99\"  \"100\" \"101\" \"102\" \"103\" \"104\" \"105\" \"106\" \"107\" \"108\"\n",
       "[109] \"109\" \"110\" \"111\" \"112\" \"113\" \"114\" \"115\" \"116\" \"117\" \"118\" \"119\" \"120\"\n",
       "[121] \"121\" \"122\" \"123\" \"124\" \"125\" \"126\" \"127\" \"128\" \"129\" \"130\" \"131\" \"132\"\n",
       "[133] \"133\" \"134\" \"135\" \"136\" \"137\" \"138\" \"139\" \"140\" \"141\" \"142\" \"143\" \"144\"\n",
       "[145] \"145\" \"146\" \"147\" \"148\" \"149\" \"150\""
      ]
     },
     "metadata": {},
     "output_type": "display_data"
    },
    {
     "data": {
      "text/html": [
       "<ol class=list-inline>\n",
       "\t<li>'Sepal.Length'</li>\n",
       "\t<li>'Sepal.Width'</li>\n",
       "\t<li>'Petal.Length'</li>\n",
       "\t<li>'Petal.Width'</li>\n",
       "\t<li>'Species'</li>\n",
       "</ol>\n"
      ],
      "text/latex": [
       "\\begin{enumerate*}\n",
       "\\item 'Sepal.Length'\n",
       "\\item 'Sepal.Width'\n",
       "\\item 'Petal.Length'\n",
       "\\item 'Petal.Width'\n",
       "\\item 'Species'\n",
       "\\end{enumerate*}\n"
      ],
      "text/markdown": [
       "1. 'Sepal.Length'\n",
       "2. 'Sepal.Width'\n",
       "3. 'Petal.Length'\n",
       "4. 'Petal.Width'\n",
       "5. 'Species'\n",
       "\n",
       "\n"
      ],
      "text/plain": [
       "[1] \"Sepal.Length\" \"Sepal.Width\"  \"Petal.Length\" \"Petal.Width\"  \"Species\"     "
      ]
     },
     "metadata": {},
     "output_type": "display_data"
    }
   ],
   "source": [
    "# 컬럼이름 알아보기\n",
    "colnames(iris)\n",
    "# Row 이름 알아보기\n",
    "rownames(iris)\n"
   ]
  },
  {
   "cell_type": "code",
   "execution_count": 53,
   "metadata": {
    "vscode": {
     "languageId": "r"
    }
   },
   "outputs": [
    {
     "data": {
      "text/html": [
       "<table>\n",
       "<thead><tr><th scope=col>Sepal.Length</th><th scope=col>Sepal.Width</th></tr></thead>\n",
       "<tbody>\n",
       "\t<tr><td>5.1</td><td>3.5</td></tr>\n",
       "\t<tr><td>4.9</td><td>3.0</td></tr>\n",
       "\t<tr><td>4.7</td><td>3.2</td></tr>\n",
       "\t<tr><td>4.6</td><td>3.1</td></tr>\n",
       "\t<tr><td>5.0</td><td>3.6</td></tr>\n",
       "\t<tr><td>5.4</td><td>3.9</td></tr>\n",
       "\t<tr><td>4.6</td><td>3.4</td></tr>\n",
       "\t<tr><td>5.0</td><td>3.4</td></tr>\n",
       "\t<tr><td>4.4</td><td>2.9</td></tr>\n",
       "\t<tr><td>4.9</td><td>3.1</td></tr>\n",
       "</tbody>\n",
       "</table>\n"
      ],
      "text/latex": [
       "\\begin{tabular}{r|ll}\n",
       " Sepal.Length & Sepal.Width\\\\\n",
       "\\hline\n",
       "\t 5.1 & 3.5\\\\\n",
       "\t 4.9 & 3.0\\\\\n",
       "\t 4.7 & 3.2\\\\\n",
       "\t 4.6 & 3.1\\\\\n",
       "\t 5.0 & 3.6\\\\\n",
       "\t 5.4 & 3.9\\\\\n",
       "\t 4.6 & 3.4\\\\\n",
       "\t 5.0 & 3.4\\\\\n",
       "\t 4.4 & 2.9\\\\\n",
       "\t 4.9 & 3.1\\\\\n",
       "\\end{tabular}\n"
      ],
      "text/markdown": [
       "\n",
       "| Sepal.Length | Sepal.Width |\n",
       "|---|---|\n",
       "| 5.1 | 3.5 |\n",
       "| 4.9 | 3.0 |\n",
       "| 4.7 | 3.2 |\n",
       "| 4.6 | 3.1 |\n",
       "| 5.0 | 3.6 |\n",
       "| 5.4 | 3.9 |\n",
       "| 4.6 | 3.4 |\n",
       "| 5.0 | 3.4 |\n",
       "| 4.4 | 2.9 |\n",
       "| 4.9 | 3.1 |\n",
       "\n"
      ],
      "text/plain": [
       "   Sepal.Length Sepal.Width\n",
       "1  5.1          3.5        \n",
       "2  4.9          3.0        \n",
       "3  4.7          3.2        \n",
       "4  4.6          3.1        \n",
       "5  5.0          3.6        \n",
       "6  5.4          3.9        \n",
       "7  4.6          3.4        \n",
       "8  5.0          3.4        \n",
       "9  4.4          2.9        \n",
       "10 4.9          3.1        "
      ]
     },
     "metadata": {},
     "output_type": "display_data"
    },
    {
     "data": {
      "text/html": [
       "<table>\n",
       "<thead><tr><th scope=col>Sepal.Length</th><th scope=col>Petal.Length</th></tr></thead>\n",
       "<tbody>\n",
       "\t<tr><td>5.1</td><td>1.4</td></tr>\n",
       "\t<tr><td>4.9</td><td>1.4</td></tr>\n",
       "\t<tr><td>4.7</td><td>1.3</td></tr>\n",
       "\t<tr><td>4.6</td><td>1.5</td></tr>\n",
       "\t<tr><td>5.0</td><td>1.4</td></tr>\n",
       "\t<tr><td>5.4</td><td>1.7</td></tr>\n",
       "\t<tr><td>4.6</td><td>1.4</td></tr>\n",
       "\t<tr><td>5.0</td><td>1.5</td></tr>\n",
       "\t<tr><td>4.4</td><td>1.4</td></tr>\n",
       "\t<tr><td>4.9</td><td>1.5</td></tr>\n",
       "</tbody>\n",
       "</table>\n"
      ],
      "text/latex": [
       "\\begin{tabular}{r|ll}\n",
       " Sepal.Length & Petal.Length\\\\\n",
       "\\hline\n",
       "\t 5.1 & 1.4\\\\\n",
       "\t 4.9 & 1.4\\\\\n",
       "\t 4.7 & 1.3\\\\\n",
       "\t 4.6 & 1.5\\\\\n",
       "\t 5.0 & 1.4\\\\\n",
       "\t 5.4 & 1.7\\\\\n",
       "\t 4.6 & 1.4\\\\\n",
       "\t 5.0 & 1.5\\\\\n",
       "\t 4.4 & 1.4\\\\\n",
       "\t 4.9 & 1.5\\\\\n",
       "\\end{tabular}\n"
      ],
      "text/markdown": [
       "\n",
       "| Sepal.Length | Petal.Length |\n",
       "|---|---|\n",
       "| 5.1 | 1.4 |\n",
       "| 4.9 | 1.4 |\n",
       "| 4.7 | 1.3 |\n",
       "| 4.6 | 1.5 |\n",
       "| 5.0 | 1.4 |\n",
       "| 5.4 | 1.7 |\n",
       "| 4.6 | 1.4 |\n",
       "| 5.0 | 1.5 |\n",
       "| 4.4 | 1.4 |\n",
       "| 4.9 | 1.5 |\n",
       "\n"
      ],
      "text/plain": [
       "   Sepal.Length Petal.Length\n",
       "1  5.1          1.4         \n",
       "2  4.9          1.4         \n",
       "3  4.7          1.3         \n",
       "4  4.6          1.5         \n",
       "5  5.0          1.4         \n",
       "6  5.4          1.7         \n",
       "7  4.6          1.4         \n",
       "8  5.0          1.5         \n",
       "9  4.4          1.4         \n",
       "10 4.9          1.5         "
      ]
     },
     "metadata": {},
     "output_type": "display_data"
    },
    {
     "data": {
      "text/html": [
       "<table>\n",
       "<thead><tr><th scope=col>Sepal.Length</th><th scope=col>Petal.Length</th></tr></thead>\n",
       "<tbody>\n",
       "\t<tr><td>5.1</td><td>1.4</td></tr>\n",
       "\t<tr><td>4.9</td><td>1.4</td></tr>\n",
       "\t<tr><td>4.7</td><td>1.3</td></tr>\n",
       "\t<tr><td>4.6</td><td>1.5</td></tr>\n",
       "\t<tr><td>5.0</td><td>1.4</td></tr>\n",
       "\t<tr><td>5.4</td><td>1.7</td></tr>\n",
       "\t<tr><td>4.6</td><td>1.4</td></tr>\n",
       "\t<tr><td>5.0</td><td>1.5</td></tr>\n",
       "\t<tr><td>4.4</td><td>1.4</td></tr>\n",
       "\t<tr><td>4.9</td><td>1.5</td></tr>\n",
       "</tbody>\n",
       "</table>\n"
      ],
      "text/latex": [
       "\\begin{tabular}{r|ll}\n",
       " Sepal.Length & Petal.Length\\\\\n",
       "\\hline\n",
       "\t 5.1 & 1.4\\\\\n",
       "\t 4.9 & 1.4\\\\\n",
       "\t 4.7 & 1.3\\\\\n",
       "\t 4.6 & 1.5\\\\\n",
       "\t 5.0 & 1.4\\\\\n",
       "\t 5.4 & 1.7\\\\\n",
       "\t 4.6 & 1.4\\\\\n",
       "\t 5.0 & 1.5\\\\\n",
       "\t 4.4 & 1.4\\\\\n",
       "\t 4.9 & 1.5\\\\\n",
       "\\end{tabular}\n"
      ],
      "text/markdown": [
       "\n",
       "| Sepal.Length | Petal.Length |\n",
       "|---|---|\n",
       "| 5.1 | 1.4 |\n",
       "| 4.9 | 1.4 |\n",
       "| 4.7 | 1.3 |\n",
       "| 4.6 | 1.5 |\n",
       "| 5.0 | 1.4 |\n",
       "| 5.4 | 1.7 |\n",
       "| 4.6 | 1.4 |\n",
       "| 5.0 | 1.5 |\n",
       "| 4.4 | 1.4 |\n",
       "| 4.9 | 1.5 |\n",
       "\n"
      ],
      "text/plain": [
       "   Sepal.Length Petal.Length\n",
       "1  5.1          1.4         \n",
       "2  4.9          1.4         \n",
       "3  4.7          1.3         \n",
       "4  4.6          1.5         \n",
       "5  5.0          1.4         \n",
       "6  5.4          1.7         \n",
       "7  4.6          1.4         \n",
       "8  5.0          1.5         \n",
       "9  4.4          1.4         \n",
       "10 4.9          1.5         "
      ]
     },
     "metadata": {},
     "output_type": "display_data"
    },
    {
     "data": {
      "text/html": [
       "<table>\n",
       "<thead><tr><th scope=col>Sepal.Length</th><th scope=col>Petal.Length</th></tr></thead>\n",
       "<tbody>\n",
       "\t<tr><td>5.1</td><td>1.4</td></tr>\n",
       "\t<tr><td>4.9</td><td>1.4</td></tr>\n",
       "\t<tr><td>4.7</td><td>1.3</td></tr>\n",
       "\t<tr><td>4.6</td><td>1.5</td></tr>\n",
       "\t<tr><td>5.0</td><td>1.4</td></tr>\n",
       "\t<tr><td>5.4</td><td>1.7</td></tr>\n",
       "\t<tr><td>4.6</td><td>1.4</td></tr>\n",
       "\t<tr><td>5.0</td><td>1.5</td></tr>\n",
       "\t<tr><td>4.4</td><td>1.4</td></tr>\n",
       "\t<tr><td>4.9</td><td>1.5</td></tr>\n",
       "</tbody>\n",
       "</table>\n"
      ],
      "text/latex": [
       "\\begin{tabular}{r|ll}\n",
       " Sepal.Length & Petal.Length\\\\\n",
       "\\hline\n",
       "\t 5.1 & 1.4\\\\\n",
       "\t 4.9 & 1.4\\\\\n",
       "\t 4.7 & 1.3\\\\\n",
       "\t 4.6 & 1.5\\\\\n",
       "\t 5.0 & 1.4\\\\\n",
       "\t 5.4 & 1.7\\\\\n",
       "\t 4.6 & 1.4\\\\\n",
       "\t 5.0 & 1.5\\\\\n",
       "\t 4.4 & 1.4\\\\\n",
       "\t 4.9 & 1.5\\\\\n",
       "\\end{tabular}\n"
      ],
      "text/markdown": [
       "\n",
       "| Sepal.Length | Petal.Length |\n",
       "|---|---|\n",
       "| 5.1 | 1.4 |\n",
       "| 4.9 | 1.4 |\n",
       "| 4.7 | 1.3 |\n",
       "| 4.6 | 1.5 |\n",
       "| 5.0 | 1.4 |\n",
       "| 5.4 | 1.7 |\n",
       "| 4.6 | 1.4 |\n",
       "| 5.0 | 1.5 |\n",
       "| 4.4 | 1.4 |\n",
       "| 4.9 | 1.5 |\n",
       "\n"
      ],
      "text/plain": [
       "   Sepal.Length Petal.Length\n",
       "1  5.1          1.4         \n",
       "2  4.9          1.4         \n",
       "3  4.7          1.3         \n",
       "4  4.6          1.5         \n",
       "5  5.0          1.4         \n",
       "6  5.4          1.7         \n",
       "7  4.6          1.4         \n",
       "8  5.0          1.5         \n",
       "9  4.4          1.4         \n",
       "10 4.9          1.5         "
      ]
     },
     "metadata": {},
     "output_type": "display_data"
    }
   ],
   "source": [
    "# iris 에서 1~10 까지의 데이터중 SEpal.Length와 Sepal.Width만 출력하기\n",
    "iris[1:10,1:2]\n",
    "# 길이만 보고싶다\n",
    "iris[1:10,c(1,3)]\n",
    "iris[1:10,seq(1,3,2)]\n",
    "iris[1:10,c(\"Sepal.Length\", \"Petal.Length\")]"
   ]
  },
  {
   "cell_type": "code",
   "execution_count": 71,
   "metadata": {
    "vscode": {
     "languageId": "r"
    }
   },
   "outputs": [
    {
     "data": {
      "text/html": [
       "<ol class=list-inline>\n",
       "\t<li>4.7</li>\n",
       "\t<li>4.6</li>\n",
       "\t<li>5</li>\n",
       "\t<li>5.4</li>\n",
       "\t<li>4.6</li>\n",
       "\t<li>5</li>\n",
       "</ol>\n"
      ],
      "text/latex": [
       "\\begin{enumerate*}\n",
       "\\item 4.7\n",
       "\\item 4.6\n",
       "\\item 5\n",
       "\\item 5.4\n",
       "\\item 4.6\n",
       "\\item 5\n",
       "\\end{enumerate*}\n"
      ],
      "text/markdown": [
       "1. 4.7\n",
       "2. 4.6\n",
       "3. 5\n",
       "4. 5.4\n",
       "5. 4.6\n",
       "6. 5\n",
       "\n",
       "\n"
      ],
      "text/plain": [
       "[1] 4.7 4.6 5.0 5.4 4.6 5.0"
      ]
     },
     "metadata": {},
     "output_type": "display_data"
    },
    {
     "data": {
      "text/html": [
       "148"
      ],
      "text/latex": [
       "148"
      ],
      "text/markdown": [
       "148"
      ],
      "text/plain": [
       "[1] 148"
      ]
     },
     "metadata": {},
     "output_type": "display_data"
    }
   ],
   "source": [
    "# iris의 Sepal.Length를 iSL이라는 벡터를 생성하고 이중 1번 2번 데이터를 삭제하고완료하기\n",
    "       iSL  <- iris$Sepal.Length\n",
    "       \n",
    "       iSL <- iSL[-c(1,2)]\n",
    "       head(iSL)\n",
    "       length(iSL)"
   ]
  },
  {
   "cell_type": "code",
   "execution_count": 74,
   "metadata": {
    "vscode": {
     "languageId": "r"
    }
   },
   "outputs": [
    {
     "data": {
      "text/html": [
       "<table>\n",
       "<thead><tr><th scope=col>Sepal.Length</th><th scope=col>Sepal.Width</th><th scope=col>Petal.Length</th><th scope=col>Petal.Width</th><th scope=col>Species</th></tr></thead>\n",
       "<tbody>\n",
       "\t<tr><td>5.1   </td><td>3.5   </td><td>1.4   </td><td>0.2   </td><td>setosa</td></tr>\n",
       "\t<tr><td>4.9   </td><td>3.0   </td><td>1.4   </td><td>0.2   </td><td>setosa</td></tr>\n",
       "\t<tr><td>4.7   </td><td>3.2   </td><td>1.3   </td><td>0.2   </td><td>setosa</td></tr>\n",
       "\t<tr><td>4.6   </td><td>3.1   </td><td>1.5   </td><td>0.2   </td><td>setosa</td></tr>\n",
       "\t<tr><td>5.0   </td><td>3.6   </td><td>1.4   </td><td>0.2   </td><td>setosa</td></tr>\n",
       "\t<tr><td>5.4   </td><td>3.9   </td><td>1.7   </td><td>0.4   </td><td>setosa</td></tr>\n",
       "</tbody>\n",
       "</table>\n"
      ],
      "text/latex": [
       "\\begin{tabular}{r|lllll}\n",
       " Sepal.Length & Sepal.Width & Petal.Length & Petal.Width & Species\\\\\n",
       "\\hline\n",
       "\t 5.1    & 3.5    & 1.4    & 0.2    & setosa\\\\\n",
       "\t 4.9    & 3.0    & 1.4    & 0.2    & setosa\\\\\n",
       "\t 4.7    & 3.2    & 1.3    & 0.2    & setosa\\\\\n",
       "\t 4.6    & 3.1    & 1.5    & 0.2    & setosa\\\\\n",
       "\t 5.0    & 3.6    & 1.4    & 0.2    & setosa\\\\\n",
       "\t 5.4    & 3.9    & 1.7    & 0.4    & setosa\\\\\n",
       "\\end{tabular}\n"
      ],
      "text/markdown": [
       "\n",
       "| Sepal.Length | Sepal.Width | Petal.Length | Petal.Width | Species |\n",
       "|---|---|---|---|---|\n",
       "| 5.1    | 3.5    | 1.4    | 0.2    | setosa |\n",
       "| 4.9    | 3.0    | 1.4    | 0.2    | setosa |\n",
       "| 4.7    | 3.2    | 1.3    | 0.2    | setosa |\n",
       "| 4.6    | 3.1    | 1.5    | 0.2    | setosa |\n",
       "| 5.0    | 3.6    | 1.4    | 0.2    | setosa |\n",
       "| 5.4    | 3.9    | 1.7    | 0.4    | setosa |\n",
       "\n"
      ],
      "text/plain": [
       "  Sepal.Length Sepal.Width Petal.Length Petal.Width Species\n",
       "1 5.1          3.5         1.4          0.2         setosa \n",
       "2 4.9          3.0         1.4          0.2         setosa \n",
       "3 4.7          3.2         1.3          0.2         setosa \n",
       "4 4.6          3.1         1.5          0.2         setosa \n",
       "5 5.0          3.6         1.4          0.2         setosa \n",
       "6 5.4          3.9         1.7          0.4         setosa "
      ]
     },
     "metadata": {},
     "output_type": "display_data"
    },
    {
     "data": {
      "text/html": [
       "<table>\n",
       "<thead><tr><th></th><th scope=col>Sepal.Length</th><th scope=col>Sepal.Width</th><th scope=col>Petal.Length</th><th scope=col>Petal.Width</th><th scope=col>Species</th></tr></thead>\n",
       "<tbody>\n",
       "\t<tr><th scope=row>145</th><td>6.7      </td><td>3.3      </td><td>5.7      </td><td>2.5      </td><td>virginica</td></tr>\n",
       "\t<tr><th scope=row>146</th><td>6.7      </td><td>3.0      </td><td>5.2      </td><td>2.3      </td><td>virginica</td></tr>\n",
       "\t<tr><th scope=row>147</th><td>6.3      </td><td>2.5      </td><td>5.0      </td><td>1.9      </td><td>virginica</td></tr>\n",
       "\t<tr><th scope=row>148</th><td>6.5      </td><td>3.0      </td><td>5.2      </td><td>2.0      </td><td>virginica</td></tr>\n",
       "\t<tr><th scope=row>149</th><td>6.2      </td><td>3.4      </td><td>5.4      </td><td>2.3      </td><td>virginica</td></tr>\n",
       "\t<tr><th scope=row>150</th><td>5.9      </td><td>3.0      </td><td>5.1      </td><td>1.8      </td><td>virginica</td></tr>\n",
       "</tbody>\n",
       "</table>\n"
      ],
      "text/latex": [
       "\\begin{tabular}{r|lllll}\n",
       "  & Sepal.Length & Sepal.Width & Petal.Length & Petal.Width & Species\\\\\n",
       "\\hline\n",
       "\t145 & 6.7       & 3.3       & 5.7       & 2.5       & virginica\\\\\n",
       "\t146 & 6.7       & 3.0       & 5.2       & 2.3       & virginica\\\\\n",
       "\t147 & 6.3       & 2.5       & 5.0       & 1.9       & virginica\\\\\n",
       "\t148 & 6.5       & 3.0       & 5.2       & 2.0       & virginica\\\\\n",
       "\t149 & 6.2       & 3.4       & 5.4       & 2.3       & virginica\\\\\n",
       "\t150 & 5.9       & 3.0       & 5.1       & 1.8       & virginica\\\\\n",
       "\\end{tabular}\n"
      ],
      "text/markdown": [
       "\n",
       "| <!--/--> | Sepal.Length | Sepal.Width | Petal.Length | Petal.Width | Species |\n",
       "|---|---|---|---|---|---|\n",
       "| 145 | 6.7       | 3.3       | 5.7       | 2.5       | virginica |\n",
       "| 146 | 6.7       | 3.0       | 5.2       | 2.3       | virginica |\n",
       "| 147 | 6.3       | 2.5       | 5.0       | 1.9       | virginica |\n",
       "| 148 | 6.5       | 3.0       | 5.2       | 2.0       | virginica |\n",
       "| 149 | 6.2       | 3.4       | 5.4       | 2.3       | virginica |\n",
       "| 150 | 5.9       | 3.0       | 5.1       | 1.8       | virginica |\n",
       "\n"
      ],
      "text/plain": [
       "    Sepal.Length Sepal.Width Petal.Length Petal.Width Species  \n",
       "145 6.7          3.3         5.7          2.5         virginica\n",
       "146 6.7          3.0         5.2          2.3         virginica\n",
       "147 6.3          2.5         5.0          1.9         virginica\n",
       "148 6.5          3.0         5.2          2.0         virginica\n",
       "149 6.2          3.4         5.4          2.3         virginica\n",
       "150 5.9          3.0         5.1          1.8         virginica"
      ]
     },
     "metadata": {},
     "output_type": "display_data"
    },
    {
     "name": "stdout",
     "output_type": "stream",
     "text": [
      "'data.frame':\t150 obs. of  5 variables:\n",
      " $ Sepal.Length: num  5.1 4.9 4.7 4.6 5 5.4 4.6 5 4.4 4.9 ...\n",
      " $ Sepal.Width : num  3.5 3 3.2 3.1 3.6 3.9 3.4 3.4 2.9 3.1 ...\n",
      " $ Petal.Length: num  1.4 1.4 1.3 1.5 1.4 1.7 1.4 1.5 1.4 1.5 ...\n",
      " $ Petal.Width : num  0.2 0.2 0.2 0.2 0.2 0.4 0.3 0.2 0.2 0.1 ...\n",
      " $ Species     : Factor w/ 3 levels \"setosa\",\"versicolor\",..: 1 1 1 1 1 1 1 1 1 1 ...\n"
     ]
    }
   ],
   "source": [
    "# 기본 정보\n",
    "head(iris)\n",
    "tail(iris)\n",
    "str(iris)"
   ]
  },
  {
   "cell_type": "code",
   "execution_count": 76,
   "metadata": {
    "vscode": {
     "languageId": "r"
    }
   },
   "outputs": [
    {
     "data": {
      "text/plain": [
       "  Sepal.Length    Sepal.Width     Petal.Length    Petal.Width   \n",
       " Min.   :4.300   Min.   :2.000   Min.   :1.000   Min.   :0.100  \n",
       " 1st Qu.:5.100   1st Qu.:2.800   1st Qu.:1.600   1st Qu.:0.300  \n",
       " Median :5.800   Median :3.000   Median :4.350   Median :1.300  \n",
       " Mean   :5.843   Mean   :3.057   Mean   :3.758   Mean   :1.199  \n",
       " 3rd Qu.:6.400   3rd Qu.:3.300   3rd Qu.:5.100   3rd Qu.:1.800  \n",
       " Max.   :7.900   Max.   :4.400   Max.   :6.900   Max.   :2.500  \n",
       "       Species  \n",
       " setosa    :50  \n",
       " versicolor:50  \n",
       " virginica :50  \n",
       "                \n",
       "                \n",
       "                "
      ]
     },
     "metadata": {},
     "output_type": "display_data"
    },
    {
     "data": {
      "text/plain": [
       "   Min. 1st Qu.  Median    Mean 3rd Qu.    Max. \n",
       "  1.000   1.600   4.350   3.758   5.100   6.900 "
      ]
     },
     "metadata": {},
     "output_type": "display_data"
    }
   ],
   "source": [
    "# 기본 통계량\n",
    "summary(iris)\n",
    "# 중앙값과 평균이 비슷할수록 완전한 정규분포\n",
    "summary(iris$Petal.Length)"
   ]
  },
  {
   "cell_type": "code",
   "execution_count": 80,
   "metadata": {
    "vscode": {
     "languageId": "r"
    }
   },
   "outputs": [
    {
     "data": {
      "text/html": [
       "1.8"
      ],
      "text/latex": [
       "1.8"
      ],
      "text/markdown": [
       "1.8"
      ],
      "text/plain": [
       "[1] 1.8"
      ]
     },
     "metadata": {},
     "output_type": "display_data"
    },
    {
     "data": {
      "text/html": [
       "1"
      ],
      "text/latex": [
       "1"
      ],
      "text/markdown": [
       "1"
      ],
      "text/plain": [
       "[1] 1"
      ]
     },
     "metadata": {},
     "output_type": "display_data"
    }
   ],
   "source": [
    "# 중앙값과 평균\n",
    "    #  이 경우 5가 outlire(이상치)\n",
    "num1 <- c(1,1,1,1,5)\n",
    "mean(num1)\n",
    "median(num1)"
   ]
  },
  {
   "cell_type": "code",
   "execution_count": 82,
   "metadata": {
    "vscode": {
     "languageId": "r"
    }
   },
   "outputs": [
    {
     "data": {
      "text/html": [
       "<ol class=list-inline>\n",
       "\t<li>'setosa'</li>\n",
       "\t<li>'setosa'</li>\n",
       "\t<li>'setosa'</li>\n",
       "\t<li>'setosa'</li>\n",
       "\t<li>'setosa'</li>\n",
       "\t<li>'setosa'</li>\n",
       "\t<li>'setosa'</li>\n",
       "\t<li>'setosa'</li>\n",
       "\t<li>'setosa'</li>\n",
       "\t<li>'setosa'</li>\n",
       "\t<li>'setosa'</li>\n",
       "\t<li>'setosa'</li>\n",
       "\t<li>'setosa'</li>\n",
       "\t<li>'setosa'</li>\n",
       "\t<li>'setosa'</li>\n",
       "\t<li>'setosa'</li>\n",
       "\t<li>'setosa'</li>\n",
       "\t<li>'setosa'</li>\n",
       "\t<li>'setosa'</li>\n",
       "\t<li>'setosa'</li>\n",
       "\t<li>'setosa'</li>\n",
       "\t<li>'setosa'</li>\n",
       "\t<li>'setosa'</li>\n",
       "\t<li>'setosa'</li>\n",
       "\t<li>'setosa'</li>\n",
       "\t<li>'setosa'</li>\n",
       "\t<li>'setosa'</li>\n",
       "\t<li>'setosa'</li>\n",
       "\t<li>'setosa'</li>\n",
       "\t<li>'setosa'</li>\n",
       "\t<li>'setosa'</li>\n",
       "\t<li>'setosa'</li>\n",
       "\t<li>'setosa'</li>\n",
       "\t<li>'setosa'</li>\n",
       "\t<li>'setosa'</li>\n",
       "\t<li>'setosa'</li>\n",
       "\t<li>'setosa'</li>\n",
       "\t<li>'setosa'</li>\n",
       "\t<li>'setosa'</li>\n",
       "\t<li>'setosa'</li>\n",
       "\t<li>'setosa'</li>\n",
       "\t<li>'setosa'</li>\n",
       "\t<li>'setosa'</li>\n",
       "\t<li>'setosa'</li>\n",
       "\t<li>'setosa'</li>\n",
       "\t<li>'setosa'</li>\n",
       "\t<li>'setosa'</li>\n",
       "\t<li>'setosa'</li>\n",
       "\t<li>'setosa'</li>\n",
       "\t<li>'setosa'</li>\n",
       "\t<li>'versicolor'</li>\n",
       "\t<li>'versicolor'</li>\n",
       "\t<li>'versicolor'</li>\n",
       "\t<li>'versicolor'</li>\n",
       "\t<li>'versicolor'</li>\n",
       "\t<li>'versicolor'</li>\n",
       "\t<li>'versicolor'</li>\n",
       "\t<li>'versicolor'</li>\n",
       "\t<li>'versicolor'</li>\n",
       "\t<li>'versicolor'</li>\n",
       "\t<li>'versicolor'</li>\n",
       "\t<li>'versicolor'</li>\n",
       "\t<li>'versicolor'</li>\n",
       "\t<li>'versicolor'</li>\n",
       "\t<li>'versicolor'</li>\n",
       "\t<li>'versicolor'</li>\n",
       "\t<li>'versicolor'</li>\n",
       "\t<li>'versicolor'</li>\n",
       "\t<li>'versicolor'</li>\n",
       "\t<li>'versicolor'</li>\n",
       "\t<li>'versicolor'</li>\n",
       "\t<li>'versicolor'</li>\n",
       "\t<li>'versicolor'</li>\n",
       "\t<li>'versicolor'</li>\n",
       "\t<li>'versicolor'</li>\n",
       "\t<li>'versicolor'</li>\n",
       "\t<li>'versicolor'</li>\n",
       "\t<li>'versicolor'</li>\n",
       "\t<li>'versicolor'</li>\n",
       "\t<li>'versicolor'</li>\n",
       "\t<li>'versicolor'</li>\n",
       "\t<li>'versicolor'</li>\n",
       "\t<li>'versicolor'</li>\n",
       "\t<li>'versicolor'</li>\n",
       "\t<li>'versicolor'</li>\n",
       "\t<li>'versicolor'</li>\n",
       "\t<li>'versicolor'</li>\n",
       "\t<li>'versicolor'</li>\n",
       "\t<li>'versicolor'</li>\n",
       "\t<li>'versicolor'</li>\n",
       "\t<li>'versicolor'</li>\n",
       "\t<li>'versicolor'</li>\n",
       "\t<li>'versicolor'</li>\n",
       "\t<li>'versicolor'</li>\n",
       "\t<li>'versicolor'</li>\n",
       "\t<li>'versicolor'</li>\n",
       "\t<li>'versicolor'</li>\n",
       "\t<li>'versicolor'</li>\n",
       "\t<li>'versicolor'</li>\n",
       "\t<li>'versicolor'</li>\n",
       "\t<li>'virginica'</li>\n",
       "\t<li>'virginica'</li>\n",
       "\t<li>'virginica'</li>\n",
       "\t<li>'virginica'</li>\n",
       "\t<li>'virginica'</li>\n",
       "\t<li>'virginica'</li>\n",
       "\t<li>'virginica'</li>\n",
       "\t<li>'virginica'</li>\n",
       "\t<li>'virginica'</li>\n",
       "\t<li>'virginica'</li>\n",
       "\t<li>'virginica'</li>\n",
       "\t<li>'virginica'</li>\n",
       "\t<li>'virginica'</li>\n",
       "\t<li>'virginica'</li>\n",
       "\t<li>'virginica'</li>\n",
       "\t<li>'virginica'</li>\n",
       "\t<li>'virginica'</li>\n",
       "\t<li>'virginica'</li>\n",
       "\t<li>'virginica'</li>\n",
       "\t<li>'virginica'</li>\n",
       "\t<li>'virginica'</li>\n",
       "\t<li>'virginica'</li>\n",
       "\t<li>'virginica'</li>\n",
       "\t<li>'virginica'</li>\n",
       "\t<li>'virginica'</li>\n",
       "\t<li>'virginica'</li>\n",
       "\t<li>'virginica'</li>\n",
       "\t<li>'virginica'</li>\n",
       "\t<li>'virginica'</li>\n",
       "\t<li>'virginica'</li>\n",
       "\t<li>'virginica'</li>\n",
       "\t<li>'virginica'</li>\n",
       "\t<li>'virginica'</li>\n",
       "\t<li>'virginica'</li>\n",
       "\t<li>'virginica'</li>\n",
       "\t<li>'virginica'</li>\n",
       "\t<li>'virginica'</li>\n",
       "\t<li>'virginica'</li>\n",
       "\t<li>'virginica'</li>\n",
       "\t<li>'virginica'</li>\n",
       "\t<li>'virginica'</li>\n",
       "\t<li>'virginica'</li>\n",
       "\t<li>'virginica'</li>\n",
       "\t<li>'virginica'</li>\n",
       "\t<li>'virginica'</li>\n",
       "\t<li>'virginica'</li>\n",
       "\t<li>'virginica'</li>\n",
       "\t<li>'virginica'</li>\n",
       "\t<li>'virginica'</li>\n",
       "\t<li>'virginica'</li>\n",
       "</ol>\n"
      ],
      "text/latex": [
       "\\begin{enumerate*}\n",
       "\\item 'setosa'\n",
       "\\item 'setosa'\n",
       "\\item 'setosa'\n",
       "\\item 'setosa'\n",
       "\\item 'setosa'\n",
       "\\item 'setosa'\n",
       "\\item 'setosa'\n",
       "\\item 'setosa'\n",
       "\\item 'setosa'\n",
       "\\item 'setosa'\n",
       "\\item 'setosa'\n",
       "\\item 'setosa'\n",
       "\\item 'setosa'\n",
       "\\item 'setosa'\n",
       "\\item 'setosa'\n",
       "\\item 'setosa'\n",
       "\\item 'setosa'\n",
       "\\item 'setosa'\n",
       "\\item 'setosa'\n",
       "\\item 'setosa'\n",
       "\\item 'setosa'\n",
       "\\item 'setosa'\n",
       "\\item 'setosa'\n",
       "\\item 'setosa'\n",
       "\\item 'setosa'\n",
       "\\item 'setosa'\n",
       "\\item 'setosa'\n",
       "\\item 'setosa'\n",
       "\\item 'setosa'\n",
       "\\item 'setosa'\n",
       "\\item 'setosa'\n",
       "\\item 'setosa'\n",
       "\\item 'setosa'\n",
       "\\item 'setosa'\n",
       "\\item 'setosa'\n",
       "\\item 'setosa'\n",
       "\\item 'setosa'\n",
       "\\item 'setosa'\n",
       "\\item 'setosa'\n",
       "\\item 'setosa'\n",
       "\\item 'setosa'\n",
       "\\item 'setosa'\n",
       "\\item 'setosa'\n",
       "\\item 'setosa'\n",
       "\\item 'setosa'\n",
       "\\item 'setosa'\n",
       "\\item 'setosa'\n",
       "\\item 'setosa'\n",
       "\\item 'setosa'\n",
       "\\item 'setosa'\n",
       "\\item 'versicolor'\n",
       "\\item 'versicolor'\n",
       "\\item 'versicolor'\n",
       "\\item 'versicolor'\n",
       "\\item 'versicolor'\n",
       "\\item 'versicolor'\n",
       "\\item 'versicolor'\n",
       "\\item 'versicolor'\n",
       "\\item 'versicolor'\n",
       "\\item 'versicolor'\n",
       "\\item 'versicolor'\n",
       "\\item 'versicolor'\n",
       "\\item 'versicolor'\n",
       "\\item 'versicolor'\n",
       "\\item 'versicolor'\n",
       "\\item 'versicolor'\n",
       "\\item 'versicolor'\n",
       "\\item 'versicolor'\n",
       "\\item 'versicolor'\n",
       "\\item 'versicolor'\n",
       "\\item 'versicolor'\n",
       "\\item 'versicolor'\n",
       "\\item 'versicolor'\n",
       "\\item 'versicolor'\n",
       "\\item 'versicolor'\n",
       "\\item 'versicolor'\n",
       "\\item 'versicolor'\n",
       "\\item 'versicolor'\n",
       "\\item 'versicolor'\n",
       "\\item 'versicolor'\n",
       "\\item 'versicolor'\n",
       "\\item 'versicolor'\n",
       "\\item 'versicolor'\n",
       "\\item 'versicolor'\n",
       "\\item 'versicolor'\n",
       "\\item 'versicolor'\n",
       "\\item 'versicolor'\n",
       "\\item 'versicolor'\n",
       "\\item 'versicolor'\n",
       "\\item 'versicolor'\n",
       "\\item 'versicolor'\n",
       "\\item 'versicolor'\n",
       "\\item 'versicolor'\n",
       "\\item 'versicolor'\n",
       "\\item 'versicolor'\n",
       "\\item 'versicolor'\n",
       "\\item 'versicolor'\n",
       "\\item 'versicolor'\n",
       "\\item 'versicolor'\n",
       "\\item 'versicolor'\n",
       "\\item 'virginica'\n",
       "\\item 'virginica'\n",
       "\\item 'virginica'\n",
       "\\item 'virginica'\n",
       "\\item 'virginica'\n",
       "\\item 'virginica'\n",
       "\\item 'virginica'\n",
       "\\item 'virginica'\n",
       "\\item 'virginica'\n",
       "\\item 'virginica'\n",
       "\\item 'virginica'\n",
       "\\item 'virginica'\n",
       "\\item 'virginica'\n",
       "\\item 'virginica'\n",
       "\\item 'virginica'\n",
       "\\item 'virginica'\n",
       "\\item 'virginica'\n",
       "\\item 'virginica'\n",
       "\\item 'virginica'\n",
       "\\item 'virginica'\n",
       "\\item 'virginica'\n",
       "\\item 'virginica'\n",
       "\\item 'virginica'\n",
       "\\item 'virginica'\n",
       "\\item 'virginica'\n",
       "\\item 'virginica'\n",
       "\\item 'virginica'\n",
       "\\item 'virginica'\n",
       "\\item 'virginica'\n",
       "\\item 'virginica'\n",
       "\\item 'virginica'\n",
       "\\item 'virginica'\n",
       "\\item 'virginica'\n",
       "\\item 'virginica'\n",
       "\\item 'virginica'\n",
       "\\item 'virginica'\n",
       "\\item 'virginica'\n",
       "\\item 'virginica'\n",
       "\\item 'virginica'\n",
       "\\item 'virginica'\n",
       "\\item 'virginica'\n",
       "\\item 'virginica'\n",
       "\\item 'virginica'\n",
       "\\item 'virginica'\n",
       "\\item 'virginica'\n",
       "\\item 'virginica'\n",
       "\\item 'virginica'\n",
       "\\item 'virginica'\n",
       "\\item 'virginica'\n",
       "\\item 'virginica'\n",
       "\\end{enumerate*}\n"
      ],
      "text/markdown": [
       "1. 'setosa'\n",
       "2. 'setosa'\n",
       "3. 'setosa'\n",
       "4. 'setosa'\n",
       "5. 'setosa'\n",
       "6. 'setosa'\n",
       "7. 'setosa'\n",
       "8. 'setosa'\n",
       "9. 'setosa'\n",
       "10. 'setosa'\n",
       "11. 'setosa'\n",
       "12. 'setosa'\n",
       "13. 'setosa'\n",
       "14. 'setosa'\n",
       "15. 'setosa'\n",
       "16. 'setosa'\n",
       "17. 'setosa'\n",
       "18. 'setosa'\n",
       "19. 'setosa'\n",
       "20. 'setosa'\n",
       "21. 'setosa'\n",
       "22. 'setosa'\n",
       "23. 'setosa'\n",
       "24. 'setosa'\n",
       "25. 'setosa'\n",
       "26. 'setosa'\n",
       "27. 'setosa'\n",
       "28. 'setosa'\n",
       "29. 'setosa'\n",
       "30. 'setosa'\n",
       "31. 'setosa'\n",
       "32. 'setosa'\n",
       "33. 'setosa'\n",
       "34. 'setosa'\n",
       "35. 'setosa'\n",
       "36. 'setosa'\n",
       "37. 'setosa'\n",
       "38. 'setosa'\n",
       "39. 'setosa'\n",
       "40. 'setosa'\n",
       "41. 'setosa'\n",
       "42. 'setosa'\n",
       "43. 'setosa'\n",
       "44. 'setosa'\n",
       "45. 'setosa'\n",
       "46. 'setosa'\n",
       "47. 'setosa'\n",
       "48. 'setosa'\n",
       "49. 'setosa'\n",
       "50. 'setosa'\n",
       "51. 'versicolor'\n",
       "52. 'versicolor'\n",
       "53. 'versicolor'\n",
       "54. 'versicolor'\n",
       "55. 'versicolor'\n",
       "56. 'versicolor'\n",
       "57. 'versicolor'\n",
       "58. 'versicolor'\n",
       "59. 'versicolor'\n",
       "60. 'versicolor'\n",
       "61. 'versicolor'\n",
       "62. 'versicolor'\n",
       "63. 'versicolor'\n",
       "64. 'versicolor'\n",
       "65. 'versicolor'\n",
       "66. 'versicolor'\n",
       "67. 'versicolor'\n",
       "68. 'versicolor'\n",
       "69. 'versicolor'\n",
       "70. 'versicolor'\n",
       "71. 'versicolor'\n",
       "72. 'versicolor'\n",
       "73. 'versicolor'\n",
       "74. 'versicolor'\n",
       "75. 'versicolor'\n",
       "76. 'versicolor'\n",
       "77. 'versicolor'\n",
       "78. 'versicolor'\n",
       "79. 'versicolor'\n",
       "80. 'versicolor'\n",
       "81. 'versicolor'\n",
       "82. 'versicolor'\n",
       "83. 'versicolor'\n",
       "84. 'versicolor'\n",
       "85. 'versicolor'\n",
       "86. 'versicolor'\n",
       "87. 'versicolor'\n",
       "88. 'versicolor'\n",
       "89. 'versicolor'\n",
       "90. 'versicolor'\n",
       "91. 'versicolor'\n",
       "92. 'versicolor'\n",
       "93. 'versicolor'\n",
       "94. 'versicolor'\n",
       "95. 'versicolor'\n",
       "96. 'versicolor'\n",
       "97. 'versicolor'\n",
       "98. 'versicolor'\n",
       "99. 'versicolor'\n",
       "100. 'versicolor'\n",
       "101. 'virginica'\n",
       "102. 'virginica'\n",
       "103. 'virginica'\n",
       "104. 'virginica'\n",
       "105. 'virginica'\n",
       "106. 'virginica'\n",
       "107. 'virginica'\n",
       "108. 'virginica'\n",
       "109. 'virginica'\n",
       "110. 'virginica'\n",
       "111. 'virginica'\n",
       "112. 'virginica'\n",
       "113. 'virginica'\n",
       "114. 'virginica'\n",
       "115. 'virginica'\n",
       "116. 'virginica'\n",
       "117. 'virginica'\n",
       "118. 'virginica'\n",
       "119. 'virginica'\n",
       "120. 'virginica'\n",
       "121. 'virginica'\n",
       "122. 'virginica'\n",
       "123. 'virginica'\n",
       "124. 'virginica'\n",
       "125. 'virginica'\n",
       "126. 'virginica'\n",
       "127. 'virginica'\n",
       "128. 'virginica'\n",
       "129. 'virginica'\n",
       "130. 'virginica'\n",
       "131. 'virginica'\n",
       "132. 'virginica'\n",
       "133. 'virginica'\n",
       "134. 'virginica'\n",
       "135. 'virginica'\n",
       "136. 'virginica'\n",
       "137. 'virginica'\n",
       "138. 'virginica'\n",
       "139. 'virginica'\n",
       "140. 'virginica'\n",
       "141. 'virginica'\n",
       "142. 'virginica'\n",
       "143. 'virginica'\n",
       "144. 'virginica'\n",
       "145. 'virginica'\n",
       "146. 'virginica'\n",
       "147. 'virginica'\n",
       "148. 'virginica'\n",
       "149. 'virginica'\n",
       "150. 'virginica'\n",
       "\n",
       "\n"
      ],
      "text/plain": [
       "  [1] \"setosa\"     \"setosa\"     \"setosa\"     \"setosa\"     \"setosa\"    \n",
       "  [6] \"setosa\"     \"setosa\"     \"setosa\"     \"setosa\"     \"setosa\"    \n",
       " [11] \"setosa\"     \"setosa\"     \"setosa\"     \"setosa\"     \"setosa\"    \n",
       " [16] \"setosa\"     \"setosa\"     \"setosa\"     \"setosa\"     \"setosa\"    \n",
       " [21] \"setosa\"     \"setosa\"     \"setosa\"     \"setosa\"     \"setosa\"    \n",
       " [26] \"setosa\"     \"setosa\"     \"setosa\"     \"setosa\"     \"setosa\"    \n",
       " [31] \"setosa\"     \"setosa\"     \"setosa\"     \"setosa\"     \"setosa\"    \n",
       " [36] \"setosa\"     \"setosa\"     \"setosa\"     \"setosa\"     \"setosa\"    \n",
       " [41] \"setosa\"     \"setosa\"     \"setosa\"     \"setosa\"     \"setosa\"    \n",
       " [46] \"setosa\"     \"setosa\"     \"setosa\"     \"setosa\"     \"setosa\"    \n",
       " [51] \"versicolor\" \"versicolor\" \"versicolor\" \"versicolor\" \"versicolor\"\n",
       " [56] \"versicolor\" \"versicolor\" \"versicolor\" \"versicolor\" \"versicolor\"\n",
       " [61] \"versicolor\" \"versicolor\" \"versicolor\" \"versicolor\" \"versicolor\"\n",
       " [66] \"versicolor\" \"versicolor\" \"versicolor\" \"versicolor\" \"versicolor\"\n",
       " [71] \"versicolor\" \"versicolor\" \"versicolor\" \"versicolor\" \"versicolor\"\n",
       " [76] \"versicolor\" \"versicolor\" \"versicolor\" \"versicolor\" \"versicolor\"\n",
       " [81] \"versicolor\" \"versicolor\" \"versicolor\" \"versicolor\" \"versicolor\"\n",
       " [86] \"versicolor\" \"versicolor\" \"versicolor\" \"versicolor\" \"versicolor\"\n",
       " [91] \"versicolor\" \"versicolor\" \"versicolor\" \"versicolor\" \"versicolor\"\n",
       " [96] \"versicolor\" \"versicolor\" \"versicolor\" \"versicolor\" \"versicolor\"\n",
       "[101] \"virginica\"  \"virginica\"  \"virginica\"  \"virginica\"  \"virginica\" \n",
       "[106] \"virginica\"  \"virginica\"  \"virginica\"  \"virginica\"  \"virginica\" \n",
       "[111] \"virginica\"  \"virginica\"  \"virginica\"  \"virginica\"  \"virginica\" \n",
       "[116] \"virginica\"  \"virginica\"  \"virginica\"  \"virginica\"  \"virginica\" \n",
       "[121] \"virginica\"  \"virginica\"  \"virginica\"  \"virginica\"  \"virginica\" \n",
       "[126] \"virginica\"  \"virginica\"  \"virginica\"  \"virginica\"  \"virginica\" \n",
       "[131] \"virginica\"  \"virginica\"  \"virginica\"  \"virginica\"  \"virginica\" \n",
       "[136] \"virginica\"  \"virginica\"  \"virginica\"  \"virginica\"  \"virginica\" \n",
       "[141] \"virginica\"  \"virginica\"  \"virginica\"  \"virginica\"  \"virginica\" \n",
       "[146] \"virginica\"  \"virginica\"  \"virginica\"  \"virginica\"  \"virginica\" "
      ]
     },
     "metadata": {},
     "output_type": "display_data"
    },
    {
     "data": {
      "text/html": [
       "<ol class=list-inline>\n",
       "\t<li>1</li>\n",
       "\t<li>1</li>\n",
       "\t<li>1</li>\n",
       "\t<li>1</li>\n",
       "\t<li>1</li>\n",
       "\t<li>1</li>\n",
       "\t<li>1</li>\n",
       "\t<li>1</li>\n",
       "\t<li>1</li>\n",
       "\t<li>1</li>\n",
       "\t<li>1</li>\n",
       "\t<li>1</li>\n",
       "\t<li>1</li>\n",
       "\t<li>1</li>\n",
       "\t<li>1</li>\n",
       "\t<li>1</li>\n",
       "\t<li>1</li>\n",
       "\t<li>1</li>\n",
       "\t<li>1</li>\n",
       "\t<li>1</li>\n",
       "\t<li>1</li>\n",
       "\t<li>1</li>\n",
       "\t<li>1</li>\n",
       "\t<li>1</li>\n",
       "\t<li>1</li>\n",
       "\t<li>1</li>\n",
       "\t<li>1</li>\n",
       "\t<li>1</li>\n",
       "\t<li>1</li>\n",
       "\t<li>1</li>\n",
       "\t<li>1</li>\n",
       "\t<li>1</li>\n",
       "\t<li>1</li>\n",
       "\t<li>1</li>\n",
       "\t<li>1</li>\n",
       "\t<li>1</li>\n",
       "\t<li>1</li>\n",
       "\t<li>1</li>\n",
       "\t<li>1</li>\n",
       "\t<li>1</li>\n",
       "\t<li>1</li>\n",
       "\t<li>1</li>\n",
       "\t<li>1</li>\n",
       "\t<li>1</li>\n",
       "\t<li>1</li>\n",
       "\t<li>1</li>\n",
       "\t<li>1</li>\n",
       "\t<li>1</li>\n",
       "\t<li>1</li>\n",
       "\t<li>1</li>\n",
       "\t<li>2</li>\n",
       "\t<li>2</li>\n",
       "\t<li>2</li>\n",
       "\t<li>2</li>\n",
       "\t<li>2</li>\n",
       "\t<li>2</li>\n",
       "\t<li>2</li>\n",
       "\t<li>2</li>\n",
       "\t<li>2</li>\n",
       "\t<li>2</li>\n",
       "\t<li>2</li>\n",
       "\t<li>2</li>\n",
       "\t<li>2</li>\n",
       "\t<li>2</li>\n",
       "\t<li>2</li>\n",
       "\t<li>2</li>\n",
       "\t<li>2</li>\n",
       "\t<li>2</li>\n",
       "\t<li>2</li>\n",
       "\t<li>2</li>\n",
       "\t<li>2</li>\n",
       "\t<li>2</li>\n",
       "\t<li>2</li>\n",
       "\t<li>2</li>\n",
       "\t<li>2</li>\n",
       "\t<li>2</li>\n",
       "\t<li>2</li>\n",
       "\t<li>2</li>\n",
       "\t<li>2</li>\n",
       "\t<li>2</li>\n",
       "\t<li>2</li>\n",
       "\t<li>2</li>\n",
       "\t<li>2</li>\n",
       "\t<li>2</li>\n",
       "\t<li>2</li>\n",
       "\t<li>2</li>\n",
       "\t<li>2</li>\n",
       "\t<li>2</li>\n",
       "\t<li>2</li>\n",
       "\t<li>2</li>\n",
       "\t<li>2</li>\n",
       "\t<li>2</li>\n",
       "\t<li>2</li>\n",
       "\t<li>2</li>\n",
       "\t<li>2</li>\n",
       "\t<li>2</li>\n",
       "\t<li>2</li>\n",
       "\t<li>2</li>\n",
       "\t<li>2</li>\n",
       "\t<li>2</li>\n",
       "\t<li>3</li>\n",
       "\t<li>3</li>\n",
       "\t<li>3</li>\n",
       "\t<li>3</li>\n",
       "\t<li>3</li>\n",
       "\t<li>3</li>\n",
       "\t<li>3</li>\n",
       "\t<li>3</li>\n",
       "\t<li>3</li>\n",
       "\t<li>3</li>\n",
       "\t<li>3</li>\n",
       "\t<li>3</li>\n",
       "\t<li>3</li>\n",
       "\t<li>3</li>\n",
       "\t<li>3</li>\n",
       "\t<li>3</li>\n",
       "\t<li>3</li>\n",
       "\t<li>3</li>\n",
       "\t<li>3</li>\n",
       "\t<li>3</li>\n",
       "\t<li>3</li>\n",
       "\t<li>3</li>\n",
       "\t<li>3</li>\n",
       "\t<li>3</li>\n",
       "\t<li>3</li>\n",
       "\t<li>3</li>\n",
       "\t<li>3</li>\n",
       "\t<li>3</li>\n",
       "\t<li>3</li>\n",
       "\t<li>3</li>\n",
       "\t<li>3</li>\n",
       "\t<li>3</li>\n",
       "\t<li>3</li>\n",
       "\t<li>3</li>\n",
       "\t<li>3</li>\n",
       "\t<li>3</li>\n",
       "\t<li>3</li>\n",
       "\t<li>3</li>\n",
       "\t<li>3</li>\n",
       "\t<li>3</li>\n",
       "\t<li>3</li>\n",
       "\t<li>3</li>\n",
       "\t<li>3</li>\n",
       "\t<li>3</li>\n",
       "\t<li>3</li>\n",
       "\t<li>3</li>\n",
       "\t<li>3</li>\n",
       "\t<li>3</li>\n",
       "\t<li>3</li>\n",
       "\t<li>3</li>\n",
       "</ol>\n"
      ],
      "text/latex": [
       "\\begin{enumerate*}\n",
       "\\item 1\n",
       "\\item 1\n",
       "\\item 1\n",
       "\\item 1\n",
       "\\item 1\n",
       "\\item 1\n",
       "\\item 1\n",
       "\\item 1\n",
       "\\item 1\n",
       "\\item 1\n",
       "\\item 1\n",
       "\\item 1\n",
       "\\item 1\n",
       "\\item 1\n",
       "\\item 1\n",
       "\\item 1\n",
       "\\item 1\n",
       "\\item 1\n",
       "\\item 1\n",
       "\\item 1\n",
       "\\item 1\n",
       "\\item 1\n",
       "\\item 1\n",
       "\\item 1\n",
       "\\item 1\n",
       "\\item 1\n",
       "\\item 1\n",
       "\\item 1\n",
       "\\item 1\n",
       "\\item 1\n",
       "\\item 1\n",
       "\\item 1\n",
       "\\item 1\n",
       "\\item 1\n",
       "\\item 1\n",
       "\\item 1\n",
       "\\item 1\n",
       "\\item 1\n",
       "\\item 1\n",
       "\\item 1\n",
       "\\item 1\n",
       "\\item 1\n",
       "\\item 1\n",
       "\\item 1\n",
       "\\item 1\n",
       "\\item 1\n",
       "\\item 1\n",
       "\\item 1\n",
       "\\item 1\n",
       "\\item 1\n",
       "\\item 2\n",
       "\\item 2\n",
       "\\item 2\n",
       "\\item 2\n",
       "\\item 2\n",
       "\\item 2\n",
       "\\item 2\n",
       "\\item 2\n",
       "\\item 2\n",
       "\\item 2\n",
       "\\item 2\n",
       "\\item 2\n",
       "\\item 2\n",
       "\\item 2\n",
       "\\item 2\n",
       "\\item 2\n",
       "\\item 2\n",
       "\\item 2\n",
       "\\item 2\n",
       "\\item 2\n",
       "\\item 2\n",
       "\\item 2\n",
       "\\item 2\n",
       "\\item 2\n",
       "\\item 2\n",
       "\\item 2\n",
       "\\item 2\n",
       "\\item 2\n",
       "\\item 2\n",
       "\\item 2\n",
       "\\item 2\n",
       "\\item 2\n",
       "\\item 2\n",
       "\\item 2\n",
       "\\item 2\n",
       "\\item 2\n",
       "\\item 2\n",
       "\\item 2\n",
       "\\item 2\n",
       "\\item 2\n",
       "\\item 2\n",
       "\\item 2\n",
       "\\item 2\n",
       "\\item 2\n",
       "\\item 2\n",
       "\\item 2\n",
       "\\item 2\n",
       "\\item 2\n",
       "\\item 2\n",
       "\\item 2\n",
       "\\item 3\n",
       "\\item 3\n",
       "\\item 3\n",
       "\\item 3\n",
       "\\item 3\n",
       "\\item 3\n",
       "\\item 3\n",
       "\\item 3\n",
       "\\item 3\n",
       "\\item 3\n",
       "\\item 3\n",
       "\\item 3\n",
       "\\item 3\n",
       "\\item 3\n",
       "\\item 3\n",
       "\\item 3\n",
       "\\item 3\n",
       "\\item 3\n",
       "\\item 3\n",
       "\\item 3\n",
       "\\item 3\n",
       "\\item 3\n",
       "\\item 3\n",
       "\\item 3\n",
       "\\item 3\n",
       "\\item 3\n",
       "\\item 3\n",
       "\\item 3\n",
       "\\item 3\n",
       "\\item 3\n",
       "\\item 3\n",
       "\\item 3\n",
       "\\item 3\n",
       "\\item 3\n",
       "\\item 3\n",
       "\\item 3\n",
       "\\item 3\n",
       "\\item 3\n",
       "\\item 3\n",
       "\\item 3\n",
       "\\item 3\n",
       "\\item 3\n",
       "\\item 3\n",
       "\\item 3\n",
       "\\item 3\n",
       "\\item 3\n",
       "\\item 3\n",
       "\\item 3\n",
       "\\item 3\n",
       "\\item 3\n",
       "\\end{enumerate*}\n"
      ],
      "text/markdown": [
       "1. 1\n",
       "2. 1\n",
       "3. 1\n",
       "4. 1\n",
       "5. 1\n",
       "6. 1\n",
       "7. 1\n",
       "8. 1\n",
       "9. 1\n",
       "10. 1\n",
       "11. 1\n",
       "12. 1\n",
       "13. 1\n",
       "14. 1\n",
       "15. 1\n",
       "16. 1\n",
       "17. 1\n",
       "18. 1\n",
       "19. 1\n",
       "20. 1\n",
       "21. 1\n",
       "22. 1\n",
       "23. 1\n",
       "24. 1\n",
       "25. 1\n",
       "26. 1\n",
       "27. 1\n",
       "28. 1\n",
       "29. 1\n",
       "30. 1\n",
       "31. 1\n",
       "32. 1\n",
       "33. 1\n",
       "34. 1\n",
       "35. 1\n",
       "36. 1\n",
       "37. 1\n",
       "38. 1\n",
       "39. 1\n",
       "40. 1\n",
       "41. 1\n",
       "42. 1\n",
       "43. 1\n",
       "44. 1\n",
       "45. 1\n",
       "46. 1\n",
       "47. 1\n",
       "48. 1\n",
       "49. 1\n",
       "50. 1\n",
       "51. 2\n",
       "52. 2\n",
       "53. 2\n",
       "54. 2\n",
       "55. 2\n",
       "56. 2\n",
       "57. 2\n",
       "58. 2\n",
       "59. 2\n",
       "60. 2\n",
       "61. 2\n",
       "62. 2\n",
       "63. 2\n",
       "64. 2\n",
       "65. 2\n",
       "66. 2\n",
       "67. 2\n",
       "68. 2\n",
       "69. 2\n",
       "70. 2\n",
       "71. 2\n",
       "72. 2\n",
       "73. 2\n",
       "74. 2\n",
       "75. 2\n",
       "76. 2\n",
       "77. 2\n",
       "78. 2\n",
       "79. 2\n",
       "80. 2\n",
       "81. 2\n",
       "82. 2\n",
       "83. 2\n",
       "84. 2\n",
       "85. 2\n",
       "86. 2\n",
       "87. 2\n",
       "88. 2\n",
       "89. 2\n",
       "90. 2\n",
       "91. 2\n",
       "92. 2\n",
       "93. 2\n",
       "94. 2\n",
       "95. 2\n",
       "96. 2\n",
       "97. 2\n",
       "98. 2\n",
       "99. 2\n",
       "100. 2\n",
       "101. 3\n",
       "102. 3\n",
       "103. 3\n",
       "104. 3\n",
       "105. 3\n",
       "106. 3\n",
       "107. 3\n",
       "108. 3\n",
       "109. 3\n",
       "110. 3\n",
       "111. 3\n",
       "112. 3\n",
       "113. 3\n",
       "114. 3\n",
       "115. 3\n",
       "116. 3\n",
       "117. 3\n",
       "118. 3\n",
       "119. 3\n",
       "120. 3\n",
       "121. 3\n",
       "122. 3\n",
       "123. 3\n",
       "124. 3\n",
       "125. 3\n",
       "126. 3\n",
       "127. 3\n",
       "128. 3\n",
       "129. 3\n",
       "130. 3\n",
       "131. 3\n",
       "132. 3\n",
       "133. 3\n",
       "134. 3\n",
       "135. 3\n",
       "136. 3\n",
       "137. 3\n",
       "138. 3\n",
       "139. 3\n",
       "140. 3\n",
       "141. 3\n",
       "142. 3\n",
       "143. 3\n",
       "144. 3\n",
       "145. 3\n",
       "146. 3\n",
       "147. 3\n",
       "148. 3\n",
       "149. 3\n",
       "150. 3\n",
       "\n",
       "\n"
      ],
      "text/plain": [
       "  [1] 1 1 1 1 1 1 1 1 1 1 1 1 1 1 1 1 1 1 1 1 1 1 1 1 1 1 1 1 1 1 1 1 1 1 1 1 1\n",
       " [38] 1 1 1 1 1 1 1 1 1 1 1 1 1 2 2 2 2 2 2 2 2 2 2 2 2 2 2 2 2 2 2 2 2 2 2 2 2\n",
       " [75] 2 2 2 2 2 2 2 2 2 2 2 2 2 2 2 2 2 2 2 2 2 2 2 2 2 2 3 3 3 3 3 3 3 3 3 3 3\n",
       "[112] 3 3 3 3 3 3 3 3 3 3 3 3 3 3 3 3 3 3 3 3 3 3 3 3 3 3 3 3 3 3 3 3 3 3 3 3 3\n",
       "[149] 3 3"
      ]
     },
     "metadata": {},
     "output_type": "display_data"
    }
   ],
   "source": [
    "# factor Type인 Species에서 문자와 숫자로 각각 출력하기\n",
    "as.character(iris$Species)\n",
    "as.numeric(iris$Species)"
   ]
  },
  {
   "cell_type": "code",
   "execution_count": 85,
   "metadata": {
    "vscode": {
     "languageId": "r"
    }
   },
   "outputs": [
    {
     "data": {
      "text/html": [
       "<ol class=list-inline>\n",
       "\t<li>4</li>\n",
       "\t<li>7</li>\n",
       "\t<li>10</li>\n",
       "\t<li>13</li>\n",
       "\t<li>16</li>\n",
       "</ol>\n"
      ],
      "text/latex": [
       "\\begin{enumerate*}\n",
       "\\item 4\n",
       "\\item 7\n",
       "\\item 10\n",
       "\\item 13\n",
       "\\item 16\n",
       "\\end{enumerate*}\n"
      ],
      "text/markdown": [
       "1. 4\n",
       "2. 7\n",
       "3. 10\n",
       "4. 13\n",
       "5. 16\n",
       "\n",
       "\n"
      ],
      "text/plain": [
       "[1]  4  7 10 13 16"
      ]
     },
     "metadata": {},
     "output_type": "display_data"
    },
    {
     "data": {
      "text/html": [
       "<ol class=list-inline>\n",
       "\t<li>4</li>\n",
       "\t<li>8</li>\n",
       "\t<li>12</li>\n",
       "\t<li>16</li>\n",
       "\t<li>20</li>\n",
       "</ol>\n"
      ],
      "text/latex": [
       "\\begin{enumerate*}\n",
       "\\item 4\n",
       "\\item 8\n",
       "\\item 12\n",
       "\\item 16\n",
       "\\item 20\n",
       "\\end{enumerate*}\n"
      ],
      "text/markdown": [
       "1. 4\n",
       "2. 8\n",
       "3. 12\n",
       "4. 16\n",
       "5. 20\n",
       "\n",
       "\n"
      ],
      "text/plain": [
       "[1]  4  8 12 16 20"
      ]
     },
     "metadata": {},
     "output_type": "display_data"
    },
    {
     "name": "stderr",
     "output_type": "stream",
     "text": [
      "Warning message in x + c(2, 3):\n",
      "“두 객체의 길이가 서로 배수관계에 있지 않습니다”"
     ]
    },
    {
     "data": {
      "text/html": [
       "<ol class=list-inline>\n",
       "\t<li>5</li>\n",
       "\t<li>9</li>\n",
       "\t<li>11</li>\n",
       "\t<li>15</li>\n",
       "\t<li>17</li>\n",
       "</ol>\n"
      ],
      "text/latex": [
       "\\begin{enumerate*}\n",
       "\\item 5\n",
       "\\item 9\n",
       "\\item 11\n",
       "\\item 15\n",
       "\\item 17\n",
       "\\end{enumerate*}\n"
      ],
      "text/markdown": [
       "1. 5\n",
       "2. 9\n",
       "3. 11\n",
       "4. 15\n",
       "5. 17\n",
       "\n",
       "\n"
      ],
      "text/plain": [
       "[1]  5  9 11 15 17"
      ]
     },
     "metadata": {},
     "output_type": "display_data"
    }
   ],
   "source": [
    "# 벡터 계산 \n",
    "x <- c(3,6,9,12,15)\n",
    "x + 1\n",
    "x +c(1,2,3,4,5)\n",
    "# 벡터의 덧셈, 뺄셈을 할 때에는 길이를 체크해서 되도록이면 길이를 맞추자\n",
    "x + c(2,3)"
   ]
  },
  {
   "cell_type": "code",
   "execution_count": 88,
   "metadata": {
    "vscode": {
     "languageId": "r"
    }
   },
   "outputs": [
    {
     "data": {
      "text/html": [
       "<ol class=list-inline>\n",
       "\t<li>3</li>\n",
       "\t<li>5</li>\n",
       "\t<li>6</li>\n",
       "\t<li>12</li>\n",
       "\t<li>15</li>\n",
       "\t<li>1</li>\n",
       "\t<li>2</li>\n",
       "\t<li>3</li>\n",
       "\t<li>4</li>\n",
       "\t<li>5</li>\n",
       "</ol>\n"
      ],
      "text/latex": [
       "\\begin{enumerate*}\n",
       "\\item 3\n",
       "\\item 5\n",
       "\\item 6\n",
       "\\item 12\n",
       "\\item 15\n",
       "\\item 1\n",
       "\\item 2\n",
       "\\item 3\n",
       "\\item 4\n",
       "\\item 5\n",
       "\\end{enumerate*}\n"
      ],
      "text/markdown": [
       "1. 3\n",
       "2. 5\n",
       "3. 6\n",
       "4. 12\n",
       "5. 15\n",
       "6. 1\n",
       "7. 2\n",
       "8. 3\n",
       "9. 4\n",
       "10. 5\n",
       "\n",
       "\n"
      ],
      "text/plain": [
       " [1]  3  5  6 12 15  1  2  3  4  5"
      ]
     },
     "metadata": {},
     "output_type": "display_data"
    },
    {
     "data": {
      "text/html": [
       "<ol class=list-inline>\n",
       "\t<li>3</li>\n",
       "\t<li>5</li>\n",
       "\t<li>6</li>\n",
       "\t<li>12</li>\n",
       "\t<li>15</li>\n",
       "\t<li>1</li>\n",
       "\t<li>2</li>\n",
       "\t<li>3</li>\n",
       "\t<li>4</li>\n",
       "\t<li>5</li>\n",
       "</ol>\n"
      ],
      "text/latex": [
       "\\begin{enumerate*}\n",
       "\\item 3\n",
       "\\item 5\n",
       "\\item 6\n",
       "\\item 12\n",
       "\\item 15\n",
       "\\item 1\n",
       "\\item 2\n",
       "\\item 3\n",
       "\\item 4\n",
       "\\item 5\n",
       "\\end{enumerate*}\n"
      ],
      "text/markdown": [
       "1. 3\n",
       "2. 5\n",
       "3. 6\n",
       "4. 12\n",
       "5. 15\n",
       "6. 1\n",
       "7. 2\n",
       "8. 3\n",
       "9. 4\n",
       "10. 5\n",
       "\n",
       "\n"
      ],
      "text/plain": [
       " [1]  3  5  6 12 15  1  2  3  4  5"
      ]
     },
     "metadata": {},
     "output_type": "display_data"
    }
   ],
   "source": [
    "#벡터 합치기\n",
    "x <- c(3,5,6,12,15)\n",
    "y <- c(1,2,3,4,5)\n",
    "z <- append(x,y)\n",
    "z1 <- c(x,y)\n",
    "z\n",
    "z1"
   ]
  },
  {
   "cell_type": "code",
   "execution_count": 102,
   "metadata": {
    "vscode": {
     "languageId": "r"
    }
   },
   "outputs": [
    {
     "data": {
      "text/html": [
       "4.28571428571429"
      ],
      "text/latex": [
       "4.28571428571429"
      ],
      "text/markdown": [
       "4.28571428571429"
      ],
      "text/plain": [
       "[1] 4.285714"
      ]
     },
     "metadata": {},
     "output_type": "display_data"
    }
   ],
   "source": [
    "# iris의 Sepal.Length의 중복되지 않은 갯수의 percent 구하기\n",
    "    all  <-  length(iris$Sepal.Length)\n",
    "    uni <-  length(unique(iris$Sepal.Length))\n",
    "       all/uni          \n",
    "    \n",
    "    \n",
    "      \n",
    "          "
   ]
  },
  {
   "cell_type": "markdown",
   "metadata": {},
   "source": [
    "# 문자열 관련 함수\n"
   ]
  },
  {
   "cell_type": "code",
   "execution_count": 104,
   "metadata": {
    "vscode": {
     "languageId": "r"
    }
   },
   "outputs": [
    {
     "data": {
      "text/html": [
       "<ol class=list-inline>\n",
       "\t<li>'a'</li>\n",
       "\t<li>'b'</li>\n",
       "\t<li>'c'</li>\n",
       "\t<li>'d'</li>\n",
       "\t<li>'e'</li>\n",
       "</ol>\n"
      ],
      "text/latex": [
       "\\begin{enumerate*}\n",
       "\\item 'a'\n",
       "\\item 'b'\n",
       "\\item 'c'\n",
       "\\item 'd'\n",
       "\\item 'e'\n",
       "\\end{enumerate*}\n"
      ],
      "text/markdown": [
       "1. 'a'\n",
       "2. 'b'\n",
       "3. 'c'\n",
       "4. 'd'\n",
       "5. 'e'\n",
       "\n",
       "\n"
      ],
      "text/plain": [
       "[1] \"a\" \"b\" \"c\" \"d\" \"e\""
      ]
     },
     "metadata": {},
     "output_type": "display_data"
    },
    {
     "data": {
      "text/html": [
       "'a b'"
      ],
      "text/latex": [
       "'a b'"
      ],
      "text/markdown": [
       "'a b'"
      ],
      "text/plain": [
       "[1] \"a b\""
      ]
     },
     "metadata": {},
     "output_type": "display_data"
    }
   ],
   "source": [
    "x <- c('a','b','c','d','e')\n",
    "x\n",
    "paste(x[1],x[2])"
   ]
  },
  {
   "cell_type": "code",
   "execution_count": 116,
   "metadata": {
    "vscode": {
     "languageId": "r"
    }
   },
   "outputs": [
    {
     "data": {
      "text/html": [
       "'setosa : versicolor : virginica'"
      ],
      "text/latex": [
       "'setosa : versicolor : virginica'"
      ],
      "text/markdown": [
       "'setosa : versicolor : virginica'"
      ],
      "text/plain": [
       "[1] \"setosa : versicolor : virginica\""
      ]
     },
     "metadata": {},
     "output_type": "display_data"
    }
   ],
   "source": [
    "#iris의 1, 51,  101번의 Species만 한꺼번에 출력하기\n",
    "paste(iris$Species[1],':',iris$Species[51],':',iris$Species[101])\n"
   ]
  },
  {
   "cell_type": "code",
   "execution_count": 49,
   "metadata": {
    "vscode": {
     "languageId": "r"
    }
   },
   "outputs": [
    {
     "name": "stdout",
     "output_type": "stream",
     "text": [
      "[1] \"a b\"\n",
      "a \n",
      "b"
     ]
    }
   ],
   "source": [
    "# 출력\n",
    "print(paste(\"a\",\"b\"))\n",
    "cat(\"a\",\"\\nb\")"
   ]
  },
  {
   "cell_type": "code",
   "execution_count": 141,
   "metadata": {
    "vscode": {
     "languageId": "r"
    }
   },
   "outputs": [
    {
     "name": "stdout",
     "output_type": "stream",
     "text": [
      " 국어      영어     수학\n"
     ]
    }
   ],
   "source": [
    "cat(\" 국어     \",\"영어    \",\"수학\\n\")\n",
    "cat(\" 90      \",\"80\"            )"
   ]
  },
  {
   "cell_type": "code",
   "execution_count": 149,
   "metadata": {
    "vscode": {
     "languageId": "r"
    }
   },
   "outputs": [
    {
     "data": {
      "text/html": [
       "'010-1111-2222'"
      ],
      "text/latex": [
       "'010-1111-2222'"
      ],
      "text/markdown": [
       "'010-1111-2222'"
      ],
      "text/plain": [
       "[1] \"010-1111-2222\""
      ]
     },
     "metadata": {},
     "output_type": "display_data"
    }
   ],
   "source": [
    "paste(\"010\", \"1111\", \"2222\" ,sep=\"-\")"
   ]
  },
  {
   "cell_type": "code",
   "execution_count": 152,
   "metadata": {
    "vscode": {
     "languageId": "r"
    }
   },
   "outputs": [
    {
     "data": {
      "text/html": [
       "'sdfq'"
      ],
      "text/latex": [
       "'sdfq'"
      ],
      "text/markdown": [
       "'sdfq'"
      ],
      "text/plain": [
       "[1] \"sdfq\""
      ]
     },
     "metadata": {},
     "output_type": "display_data"
    },
    {
     "data": {
      "text/html": [
       "'나다라마'"
      ],
      "text/latex": [
       "'나다라마'"
      ],
      "text/markdown": [
       "'나다라마'"
      ],
      "text/plain": [
       "[1] \"나다라마\""
      ]
     },
     "metadata": {},
     "output_type": "display_data"
    }
   ],
   "source": [
    "# 문자열 추출하기\n",
    "str01 <-\"asdfqwesdr\"\n",
    "# 2번째에서 5번째까지\n",
    "substring(str01, 2, 5)\n",
    "str02 <- \"가나다라마바사\"\n",
    "substring( str02, 2, 5 )"
   ]
  },
  {
   "cell_type": "markdown",
   "metadata": {},
   "source": [
    "# 행렬(matrix)\n",
    "- 2차원 자료를 저장하는 자료형\n",
    "- 데이터 형태가 모두 일치 되어야 구성"
   ]
  },
  {
   "cell_type": "code",
   "execution_count": 38,
   "metadata": {
    "vscode": {
     "languageId": "r"
    }
   },
   "outputs": [],
   "source": [
    "# 벡터를 이용하여 행렬 만들기\n",
    "vec1 <- c(1,2,3)\n",
    "vec2 <- c(4,5,6)\n",
    "vec3 <- c(7,8,9)\n"
   ]
  },
  {
   "cell_type": "code",
   "execution_count": 39,
   "metadata": {
    "vscode": {
     "languageId": "r"
    }
   },
   "outputs": [
    {
     "data": {
      "text/html": [
       "<table>\n",
       "<tbody>\n",
       "\t<tr><th scope=row>vec1</th><td>1</td><td>2</td><td>3</td></tr>\n",
       "\t<tr><th scope=row>vec2</th><td>4</td><td>5</td><td>6</td></tr>\n",
       "\t<tr><th scope=row>vec3</th><td>7</td><td>8</td><td>9</td></tr>\n",
       "</tbody>\n",
       "</table>\n"
      ],
      "text/latex": [
       "\\begin{tabular}{r|lll}\n",
       "\tvec1 & 1 & 2 & 3\\\\\n",
       "\tvec2 & 4 & 5 & 6\\\\\n",
       "\tvec3 & 7 & 8 & 9\\\\\n",
       "\\end{tabular}\n"
      ],
      "text/markdown": [
       "\n",
       "| vec1 | 1 | 2 | 3 |\n",
       "| vec2 | 4 | 5 | 6 |\n",
       "| vec3 | 7 | 8 | 9 |\n",
       "\n"
      ],
      "text/plain": [
       "     [,1] [,2] [,3]\n",
       "vec1 1    2    3   \n",
       "vec2 4    5    6   \n",
       "vec3 7    8    9   "
      ]
     },
     "metadata": {},
     "output_type": "display_data"
    }
   ],
   "source": [
    "# rbind: row bind\n",
    "# 데이터를 추가할 때\n",
    "mat1 <- rbind(vec1, vec2, vec3)\n",
    "mat1"
   ]
  },
  {
   "cell_type": "code",
   "execution_count": 47,
   "metadata": {
    "vscode": {
     "languageId": "r"
    }
   },
   "outputs": [
    {
     "data": {
      "text/html": [
       "<table>\n",
       "<thead><tr><th scope=col>vec1</th><th scope=col>vec2</th><th scope=col>vec3</th></tr></thead>\n",
       "<tbody>\n",
       "\t<tr><td>1</td><td>4</td><td>7</td></tr>\n",
       "\t<tr><td>2</td><td>5</td><td>8</td></tr>\n",
       "\t<tr><td>3</td><td>6</td><td>9</td></tr>\n",
       "</tbody>\n",
       "</table>\n"
      ],
      "text/latex": [
       "\\begin{tabular}{lll}\n",
       " vec1 & vec2 & vec3\\\\\n",
       "\\hline\n",
       "\t 1 & 4 & 7\\\\\n",
       "\t 2 & 5 & 8\\\\\n",
       "\t 3 & 6 & 9\\\\\n",
       "\\end{tabular}\n"
      ],
      "text/markdown": [
       "\n",
       "| vec1 | vec2 | vec3 |\n",
       "|---|---|---|\n",
       "| 1 | 4 | 7 |\n",
       "| 2 | 5 | 8 |\n",
       "| 3 | 6 | 9 |\n",
       "\n"
      ],
      "text/plain": [
       "     vec1 vec2 vec3\n",
       "[1,] 1    4    7   \n",
       "[2,] 2    5    8   \n",
       "[3,] 3    6    9   "
      ]
     },
     "metadata": {},
     "output_type": "display_data"
    }
   ],
   "source": [
    "# cbind: column bind \n",
    "# 속성을 추가할 때\n",
    "mat2 <- cbind(vec1, vec2, vec3)\n",
    "mat2"
   ]
  },
  {
   "cell_type": "code",
   "execution_count": 2,
   "metadata": {
    "vscode": {
     "languageId": "r"
    }
   },
   "outputs": [
    {
     "data": {
      "text/html": [
       "<table>\n",
       "<thead><tr><th scope=col>Sepal.Length</th><th scope=col>Sepal.Width</th><th scope=col>Petal.Length</th><th scope=col>Petal.Width</th><th scope=col>Species</th></tr></thead>\n",
       "<tbody>\n",
       "\t<tr><td>5.1   </td><td>3.5   </td><td>1.4   </td><td>0.2   </td><td>setosa</td></tr>\n",
       "\t<tr><td>4.9   </td><td>3.0   </td><td>1.4   </td><td>0.2   </td><td>setosa</td></tr>\n",
       "\t<tr><td>4.7   </td><td>3.2   </td><td>1.3   </td><td>0.2   </td><td>setosa</td></tr>\n",
       "\t<tr><td>4.6   </td><td>3.1   </td><td>1.5   </td><td>0.2   </td><td>setosa</td></tr>\n",
       "\t<tr><td>5.0   </td><td>3.6   </td><td>1.4   </td><td>0.2   </td><td>setosa</td></tr>\n",
       "</tbody>\n",
       "</table>\n"
      ],
      "text/latex": [
       "\\begin{tabular}{r|lllll}\n",
       " Sepal.Length & Sepal.Width & Petal.Length & Petal.Width & Species\\\\\n",
       "\\hline\n",
       "\t 5.1    & 3.5    & 1.4    & 0.2    & setosa\\\\\n",
       "\t 4.9    & 3.0    & 1.4    & 0.2    & setosa\\\\\n",
       "\t 4.7    & 3.2    & 1.3    & 0.2    & setosa\\\\\n",
       "\t 4.6    & 3.1    & 1.5    & 0.2    & setosa\\\\\n",
       "\t 5.0    & 3.6    & 1.4    & 0.2    & setosa\\\\\n",
       "\\end{tabular}\n"
      ],
      "text/markdown": [
       "\n",
       "| Sepal.Length | Sepal.Width | Petal.Length | Petal.Width | Species |\n",
       "|---|---|---|---|---|\n",
       "| 5.1    | 3.5    | 1.4    | 0.2    | setosa |\n",
       "| 4.9    | 3.0    | 1.4    | 0.2    | setosa |\n",
       "| 4.7    | 3.2    | 1.3    | 0.2    | setosa |\n",
       "| 4.6    | 3.1    | 1.5    | 0.2    | setosa |\n",
       "| 5.0    | 3.6    | 1.4    | 0.2    | setosa |\n",
       "\n"
      ],
      "text/plain": [
       "  Sepal.Length Sepal.Width Petal.Length Petal.Width Species\n",
       "1 5.1          3.5         1.4          0.2         setosa \n",
       "2 4.9          3.0         1.4          0.2         setosa \n",
       "3 4.7          3.2         1.3          0.2         setosa \n",
       "4 4.6          3.1         1.5          0.2         setosa \n",
       "5 5.0          3.6         1.4          0.2         setosa "
      ]
     },
     "metadata": {},
     "output_type": "display_data"
    },
    {
     "data": {
      "text/html": [
       "<table>\n",
       "<thead><tr><th scope=col>Sepal.Length</th><th scope=col>Sepal.Width</th><th scope=col>Petal.Length</th><th scope=col>Petal.Width</th><th scope=col>Species</th></tr></thead>\n",
       "<tbody>\n",
       "\t<tr><td>5.1   </td><td>3.5   </td><td>1.4   </td><td>0.2   </td><td>setosa</td></tr>\n",
       "\t<tr><td>4.9   </td><td>3     </td><td>1.4   </td><td>0.2   </td><td>setosa</td></tr>\n",
       "\t<tr><td>4.7   </td><td>3.2   </td><td>1.3   </td><td>0.2   </td><td>setosa</td></tr>\n",
       "\t<tr><td>4.6   </td><td>3.1   </td><td>1.5   </td><td>0.2   </td><td>setosa</td></tr>\n",
       "\t<tr><td>5     </td><td>3.6   </td><td>1.4   </td><td>0.2   </td><td>setosa</td></tr>\n",
       "\t<tr><td>1     </td><td>1     </td><td>1     </td><td>1     </td><td>setosa</td></tr>\n",
       "</tbody>\n",
       "</table>\n"
      ],
      "text/latex": [
       "\\begin{tabular}{r|lllll}\n",
       " Sepal.Length & Sepal.Width & Petal.Length & Petal.Width & Species\\\\\n",
       "\\hline\n",
       "\t 5.1    & 3.5    & 1.4    & 0.2    & setosa\\\\\n",
       "\t 4.9    & 3      & 1.4    & 0.2    & setosa\\\\\n",
       "\t 4.7    & 3.2    & 1.3    & 0.2    & setosa\\\\\n",
       "\t 4.6    & 3.1    & 1.5    & 0.2    & setosa\\\\\n",
       "\t 5      & 3.6    & 1.4    & 0.2    & setosa\\\\\n",
       "\t 1      & 1      & 1      & 1      & setosa\\\\\n",
       "\\end{tabular}\n"
      ],
      "text/markdown": [
       "\n",
       "| Sepal.Length | Sepal.Width | Petal.Length | Petal.Width | Species |\n",
       "|---|---|---|---|---|\n",
       "| 5.1    | 3.5    | 1.4    | 0.2    | setosa |\n",
       "| 4.9    | 3      | 1.4    | 0.2    | setosa |\n",
       "| 4.7    | 3.2    | 1.3    | 0.2    | setosa |\n",
       "| 4.6    | 3.1    | 1.5    | 0.2    | setosa |\n",
       "| 5      | 3.6    | 1.4    | 0.2    | setosa |\n",
       "| 1      | 1      | 1      | 1      | setosa |\n",
       "\n"
      ],
      "text/plain": [
       "  Sepal.Length Sepal.Width Petal.Length Petal.Width Species\n",
       "1 5.1          3.5         1.4          0.2         setosa \n",
       "2 4.9          3           1.4          0.2         setosa \n",
       "3 4.7          3.2         1.3          0.2         setosa \n",
       "4 4.6          3.1         1.5          0.2         setosa \n",
       "5 5            3.6         1.4          0.2         setosa \n",
       "6 1            1           1            1           setosa "
      ]
     },
     "metadata": {},
     "output_type": "display_data"
    },
    {
     "data": {
      "text/html": [
       "<table>\n",
       "<thead><tr><th scope=col>Sepal.Length</th><th scope=col>Sepal.Width</th><th scope=col>Petal.Length</th><th scope=col>Petal.Width</th><th scope=col>Species</th><th scope=col>abc</th></tr></thead>\n",
       "<tbody>\n",
       "\t<tr><td>5.1   </td><td>3.5   </td><td>1.4   </td><td>0.2   </td><td>setosa</td><td>2     </td></tr>\n",
       "\t<tr><td>4.9   </td><td>3     </td><td>1.4   </td><td>0.2   </td><td>setosa</td><td>2     </td></tr>\n",
       "\t<tr><td>4.7   </td><td>3.2   </td><td>1.3   </td><td>0.2   </td><td>setosa</td><td>2     </td></tr>\n",
       "\t<tr><td>4.6   </td><td>3.1   </td><td>1.5   </td><td>0.2   </td><td>setosa</td><td>2     </td></tr>\n",
       "\t<tr><td>5     </td><td>3.6   </td><td>1.4   </td><td>0.2   </td><td>setosa</td><td>2     </td></tr>\n",
       "\t<tr><td>1     </td><td>1     </td><td>1     </td><td>1     </td><td>setosa</td><td>2     </td></tr>\n",
       "</tbody>\n",
       "</table>\n"
      ],
      "text/latex": [
       "\\begin{tabular}{r|llllll}\n",
       " Sepal.Length & Sepal.Width & Petal.Length & Petal.Width & Species & abc\\\\\n",
       "\\hline\n",
       "\t 5.1    & 3.5    & 1.4    & 0.2    & setosa & 2     \\\\\n",
       "\t 4.9    & 3      & 1.4    & 0.2    & setosa & 2     \\\\\n",
       "\t 4.7    & 3.2    & 1.3    & 0.2    & setosa & 2     \\\\\n",
       "\t 4.6    & 3.1    & 1.5    & 0.2    & setosa & 2     \\\\\n",
       "\t 5      & 3.6    & 1.4    & 0.2    & setosa & 2     \\\\\n",
       "\t 1      & 1      & 1      & 1      & setosa & 2     \\\\\n",
       "\\end{tabular}\n"
      ],
      "text/markdown": [
       "\n",
       "| Sepal.Length | Sepal.Width | Petal.Length | Petal.Width | Species | abc |\n",
       "|---|---|---|---|---|---|\n",
       "| 5.1    | 3.5    | 1.4    | 0.2    | setosa | 2      |\n",
       "| 4.9    | 3      | 1.4    | 0.2    | setosa | 2      |\n",
       "| 4.7    | 3.2    | 1.3    | 0.2    | setosa | 2      |\n",
       "| 4.6    | 3.1    | 1.5    | 0.2    | setosa | 2      |\n",
       "| 5      | 3.6    | 1.4    | 0.2    | setosa | 2      |\n",
       "| 1      | 1      | 1      | 1      | setosa | 2      |\n",
       "\n"
      ],
      "text/plain": [
       "  Sepal.Length Sepal.Width Petal.Length Petal.Width Species abc\n",
       "1 5.1          3.5         1.4          0.2         setosa  2  \n",
       "2 4.9          3           1.4          0.2         setosa  2  \n",
       "3 4.7          3.2         1.3          0.2         setosa  2  \n",
       "4 4.6          3.1         1.5          0.2         setosa  2  \n",
       "5 5            3.6         1.4          0.2         setosa  2  \n",
       "6 1            1           1            1           setosa  2  "
      ]
     },
     "metadata": {},
     "output_type": "display_data"
    }
   ],
   "source": [
    "#iris의 1~5번 데이터만 추출\n",
    "irisHead <- head(iris,5)\n",
    "irisHead\n",
    "# 추출한 데이터의 row에 1,1,1,1, setosa 추가하기\n",
    "newiris <- rbind(irisHead,c(1,1,1,1,\"setosa\"))\n",
    "newiris\n",
    "abc <- rep(2,6)\n",
    "             newiris  <- cbind(newiris,abc)\n",
    "             newiris\n",
    "\n",
    "\n",
    "newiris$Sepal.Length <- as.numeric(newiris$Sepal.Length) \n",
    "newiris$Sepal.Width <- as.numeric(newiris$Sepal.Width) \n",
    "newiris$Petal.Length <- as.numeric(newiris$Petal.Length) \n",
    "newiris$Petal.Width <- as.numeric(newiris$Petal.Width)            "
   ]
  },
  {
   "cell_type": "code",
   "execution_count": 27,
   "metadata": {
    "vscode": {
     "languageId": "r"
    }
   },
   "outputs": [
    {
     "name": "stderr",
     "output_type": "stream",
     "text": [
      "Warning message in data.frame(..., check.names = FALSE):\n",
      "“row names were found from a short variable and have been discarded”"
     ]
    },
    {
     "data": {
      "text/html": [
       "<table>\n",
       "<thead><tr><th scope=col>Sepal.Length</th><th scope=col>Sepal.Width</th><th scope=col>Petal.Length</th><th scope=col>Petal.Width</th><th scope=col>Species</th><th scope=col>Length</th></tr></thead>\n",
       "<tbody>\n",
       "\t<tr><td>5.1   </td><td>3.5   </td><td>1.4   </td><td>0.2   </td><td>setosa</td><td>6.5   </td></tr>\n",
       "\t<tr><td>4.9   </td><td>3.0   </td><td>1.4   </td><td>0.2   </td><td>setosa</td><td>6.3   </td></tr>\n",
       "\t<tr><td>4.7   </td><td>3.2   </td><td>1.3   </td><td>0.2   </td><td>setosa</td><td>6.0   </td></tr>\n",
       "\t<tr><td>4.6   </td><td>3.1   </td><td>1.5   </td><td>0.2   </td><td>setosa</td><td>6.1   </td></tr>\n",
       "\t<tr><td>5.0   </td><td>3.6   </td><td>1.4   </td><td>0.2   </td><td>setosa</td><td>6.4   </td></tr>\n",
       "\t<tr><td>5.1   </td><td>3.5   </td><td>1.4   </td><td>0.2   </td><td>setosa</td><td>6.5   </td></tr>\n",
       "\t<tr><td>4.9   </td><td>3.0   </td><td>1.4   </td><td>0.2   </td><td>setosa</td><td>6.3   </td></tr>\n",
       "\t<tr><td>4.7   </td><td>3.2   </td><td>1.3   </td><td>0.2   </td><td>setosa</td><td>6.0   </td></tr>\n",
       "\t<tr><td>4.6   </td><td>3.1   </td><td>1.5   </td><td>0.2   </td><td>setosa</td><td>6.1   </td></tr>\n",
       "\t<tr><td>5.0   </td><td>3.6   </td><td>1.4   </td><td>0.2   </td><td>setosa</td><td>6.4   </td></tr>\n",
       "\t<tr><td>5.1   </td><td>3.5   </td><td>1.4   </td><td>0.2   </td><td>setosa</td><td>6.5   </td></tr>\n",
       "\t<tr><td>4.9   </td><td>3.0   </td><td>1.4   </td><td>0.2   </td><td>setosa</td><td>6.3   </td></tr>\n",
       "\t<tr><td>4.7   </td><td>3.2   </td><td>1.3   </td><td>0.2   </td><td>setosa</td><td>6.0   </td></tr>\n",
       "\t<tr><td>4.6   </td><td>3.1   </td><td>1.5   </td><td>0.2   </td><td>setosa</td><td>6.1   </td></tr>\n",
       "\t<tr><td>5.0   </td><td>3.6   </td><td>1.4   </td><td>0.2   </td><td>setosa</td><td>6.4   </td></tr>\n",
       "\t<tr><td>5.1   </td><td>3.5   </td><td>1.4   </td><td>0.2   </td><td>setosa</td><td>6.5   </td></tr>\n",
       "\t<tr><td>4.9   </td><td>3.0   </td><td>1.4   </td><td>0.2   </td><td>setosa</td><td>6.3   </td></tr>\n",
       "\t<tr><td>4.7   </td><td>3.2   </td><td>1.3   </td><td>0.2   </td><td>setosa</td><td>6.0   </td></tr>\n",
       "\t<tr><td>4.6   </td><td>3.1   </td><td>1.5   </td><td>0.2   </td><td>setosa</td><td>6.1   </td></tr>\n",
       "\t<tr><td>5.0   </td><td>3.6   </td><td>1.4   </td><td>0.2   </td><td>setosa</td><td>6.4   </td></tr>\n",
       "\t<tr><td>5.1   </td><td>3.5   </td><td>1.4   </td><td>0.2   </td><td>setosa</td><td>6.5   </td></tr>\n",
       "\t<tr><td>4.9   </td><td>3.0   </td><td>1.4   </td><td>0.2   </td><td>setosa</td><td>6.3   </td></tr>\n",
       "\t<tr><td>4.7   </td><td>3.2   </td><td>1.3   </td><td>0.2   </td><td>setosa</td><td>6.0   </td></tr>\n",
       "\t<tr><td>4.6   </td><td>3.1   </td><td>1.5   </td><td>0.2   </td><td>setosa</td><td>6.1   </td></tr>\n",
       "\t<tr><td>5.0   </td><td>3.6   </td><td>1.4   </td><td>0.2   </td><td>setosa</td><td>6.4   </td></tr>\n",
       "</tbody>\n",
       "</table>\n"
      ],
      "text/latex": [
       "\\begin{tabular}{r|llllll}\n",
       " Sepal.Length & Sepal.Width & Petal.Length & Petal.Width & Species & Length\\\\\n",
       "\\hline\n",
       "\t 5.1    & 3.5    & 1.4    & 0.2    & setosa & 6.5   \\\\\n",
       "\t 4.9    & 3.0    & 1.4    & 0.2    & setosa & 6.3   \\\\\n",
       "\t 4.7    & 3.2    & 1.3    & 0.2    & setosa & 6.0   \\\\\n",
       "\t 4.6    & 3.1    & 1.5    & 0.2    & setosa & 6.1   \\\\\n",
       "\t 5.0    & 3.6    & 1.4    & 0.2    & setosa & 6.4   \\\\\n",
       "\t 5.1    & 3.5    & 1.4    & 0.2    & setosa & 6.5   \\\\\n",
       "\t 4.9    & 3.0    & 1.4    & 0.2    & setosa & 6.3   \\\\\n",
       "\t 4.7    & 3.2    & 1.3    & 0.2    & setosa & 6.0   \\\\\n",
       "\t 4.6    & 3.1    & 1.5    & 0.2    & setosa & 6.1   \\\\\n",
       "\t 5.0    & 3.6    & 1.4    & 0.2    & setosa & 6.4   \\\\\n",
       "\t 5.1    & 3.5    & 1.4    & 0.2    & setosa & 6.5   \\\\\n",
       "\t 4.9    & 3.0    & 1.4    & 0.2    & setosa & 6.3   \\\\\n",
       "\t 4.7    & 3.2    & 1.3    & 0.2    & setosa & 6.0   \\\\\n",
       "\t 4.6    & 3.1    & 1.5    & 0.2    & setosa & 6.1   \\\\\n",
       "\t 5.0    & 3.6    & 1.4    & 0.2    & setosa & 6.4   \\\\\n",
       "\t 5.1    & 3.5    & 1.4    & 0.2    & setosa & 6.5   \\\\\n",
       "\t 4.9    & 3.0    & 1.4    & 0.2    & setosa & 6.3   \\\\\n",
       "\t 4.7    & 3.2    & 1.3    & 0.2    & setosa & 6.0   \\\\\n",
       "\t 4.6    & 3.1    & 1.5    & 0.2    & setosa & 6.1   \\\\\n",
       "\t 5.0    & 3.6    & 1.4    & 0.2    & setosa & 6.4   \\\\\n",
       "\t 5.1    & 3.5    & 1.4    & 0.2    & setosa & 6.5   \\\\\n",
       "\t 4.9    & 3.0    & 1.4    & 0.2    & setosa & 6.3   \\\\\n",
       "\t 4.7    & 3.2    & 1.3    & 0.2    & setosa & 6.0   \\\\\n",
       "\t 4.6    & 3.1    & 1.5    & 0.2    & setosa & 6.1   \\\\\n",
       "\t 5.0    & 3.6    & 1.4    & 0.2    & setosa & 6.4   \\\\\n",
       "\\end{tabular}\n"
      ],
      "text/markdown": [
       "\n",
       "| Sepal.Length | Sepal.Width | Petal.Length | Petal.Width | Species | Length |\n",
       "|---|---|---|---|---|---|\n",
       "| 5.1    | 3.5    | 1.4    | 0.2    | setosa | 6.5    |\n",
       "| 4.9    | 3.0    | 1.4    | 0.2    | setosa | 6.3    |\n",
       "| 4.7    | 3.2    | 1.3    | 0.2    | setosa | 6.0    |\n",
       "| 4.6    | 3.1    | 1.5    | 0.2    | setosa | 6.1    |\n",
       "| 5.0    | 3.6    | 1.4    | 0.2    | setosa | 6.4    |\n",
       "| 5.1    | 3.5    | 1.4    | 0.2    | setosa | 6.5    |\n",
       "| 4.9    | 3.0    | 1.4    | 0.2    | setosa | 6.3    |\n",
       "| 4.7    | 3.2    | 1.3    | 0.2    | setosa | 6.0    |\n",
       "| 4.6    | 3.1    | 1.5    | 0.2    | setosa | 6.1    |\n",
       "| 5.0    | 3.6    | 1.4    | 0.2    | setosa | 6.4    |\n",
       "| 5.1    | 3.5    | 1.4    | 0.2    | setosa | 6.5    |\n",
       "| 4.9    | 3.0    | 1.4    | 0.2    | setosa | 6.3    |\n",
       "| 4.7    | 3.2    | 1.3    | 0.2    | setosa | 6.0    |\n",
       "| 4.6    | 3.1    | 1.5    | 0.2    | setosa | 6.1    |\n",
       "| 5.0    | 3.6    | 1.4    | 0.2    | setosa | 6.4    |\n",
       "| 5.1    | 3.5    | 1.4    | 0.2    | setosa | 6.5    |\n",
       "| 4.9    | 3.0    | 1.4    | 0.2    | setosa | 6.3    |\n",
       "| 4.7    | 3.2    | 1.3    | 0.2    | setosa | 6.0    |\n",
       "| 4.6    | 3.1    | 1.5    | 0.2    | setosa | 6.1    |\n",
       "| 5.0    | 3.6    | 1.4    | 0.2    | setosa | 6.4    |\n",
       "| 5.1    | 3.5    | 1.4    | 0.2    | setosa | 6.5    |\n",
       "| 4.9    | 3.0    | 1.4    | 0.2    | setosa | 6.3    |\n",
       "| 4.7    | 3.2    | 1.3    | 0.2    | setosa | 6.0    |\n",
       "| 4.6    | 3.1    | 1.5    | 0.2    | setosa | 6.1    |\n",
       "| 5.0    | 3.6    | 1.4    | 0.2    | setosa | 6.4    |\n",
       "\n"
      ],
      "text/plain": [
       "   Sepal.Length Sepal.Width Petal.Length Petal.Width Species Length\n",
       "1  5.1          3.5         1.4          0.2         setosa  6.5   \n",
       "2  4.9          3.0         1.4          0.2         setosa  6.3   \n",
       "3  4.7          3.2         1.3          0.2         setosa  6.0   \n",
       "4  4.6          3.1         1.5          0.2         setosa  6.1   \n",
       "5  5.0          3.6         1.4          0.2         setosa  6.4   \n",
       "6  5.1          3.5         1.4          0.2         setosa  6.5   \n",
       "7  4.9          3.0         1.4          0.2         setosa  6.3   \n",
       "8  4.7          3.2         1.3          0.2         setosa  6.0   \n",
       "9  4.6          3.1         1.5          0.2         setosa  6.1   \n",
       "10 5.0          3.6         1.4          0.2         setosa  6.4   \n",
       "11 5.1          3.5         1.4          0.2         setosa  6.5   \n",
       "12 4.9          3.0         1.4          0.2         setosa  6.3   \n",
       "13 4.7          3.2         1.3          0.2         setosa  6.0   \n",
       "14 4.6          3.1         1.5          0.2         setosa  6.1   \n",
       "15 5.0          3.6         1.4          0.2         setosa  6.4   \n",
       "16 5.1          3.5         1.4          0.2         setosa  6.5   \n",
       "17 4.9          3.0         1.4          0.2         setosa  6.3   \n",
       "18 4.7          3.2         1.3          0.2         setosa  6.0   \n",
       "19 4.6          3.1         1.5          0.2         setosa  6.1   \n",
       "20 5.0          3.6         1.4          0.2         setosa  6.4   \n",
       "21 5.1          3.5         1.4          0.2         setosa  6.5   \n",
       "22 4.9          3.0         1.4          0.2         setosa  6.3   \n",
       "23 4.7          3.2         1.3          0.2         setosa  6.0   \n",
       "24 4.6          3.1         1.5          0.2         setosa  6.1   \n",
       "25 5.0          3.6         1.4          0.2         setosa  6.4   "
      ]
     },
     "metadata": {},
     "output_type": "display_data"
    }
   ],
   "source": [
    " irisHead <- head(iris,5)\n",
    " length <- irisHead$Sepal.Length + irisHead$Petal.Length\n",
    " \n",
    "\n",
    "  irisHead <-  cbind(irisHead,Length)\n",
    "  irisHead\n",
    " "
   ]
  },
  {
   "cell_type": "code",
   "execution_count": 25,
   "metadata": {
    "vscode": {
     "languageId": "r"
    }
   },
   "outputs": [
    {
     "data": {
      "text/html": [
       "<table>\n",
       "<thead><tr><th scope=col>Sepal.Length</th><th scope=col>Sepal.Width</th><th scope=col>Petal.Length</th><th scope=col>Petal.Width</th><th scope=col>Species</th><th scope=col>Length</th></tr></thead>\n",
       "<tbody>\n",
       "\t<tr><td>5.1   </td><td>3.5   </td><td>1.4   </td><td>0.2   </td><td>setosa</td><td>6.5   </td></tr>\n",
       "\t<tr><td>4.9   </td><td>3.0   </td><td>1.4   </td><td>0.2   </td><td>setosa</td><td>6.3   </td></tr>\n",
       "\t<tr><td>4.7   </td><td>3.2   </td><td>1.3   </td><td>0.2   </td><td>setosa</td><td>6.0   </td></tr>\n",
       "\t<tr><td>4.6   </td><td>3.1   </td><td>1.5   </td><td>0.2   </td><td>setosa</td><td>6.1   </td></tr>\n",
       "\t<tr><td>5.0   </td><td>3.6   </td><td>1.4   </td><td>0.2   </td><td>setosa</td><td>6.4   </td></tr>\n",
       "</tbody>\n",
       "</table>\n"
      ],
      "text/latex": [
       "\\begin{tabular}{r|llllll}\n",
       " Sepal.Length & Sepal.Width & Petal.Length & Petal.Width & Species & Length\\\\\n",
       "\\hline\n",
       "\t 5.1    & 3.5    & 1.4    & 0.2    & setosa & 6.5   \\\\\n",
       "\t 4.9    & 3.0    & 1.4    & 0.2    & setosa & 6.3   \\\\\n",
       "\t 4.7    & 3.2    & 1.3    & 0.2    & setosa & 6.0   \\\\\n",
       "\t 4.6    & 3.1    & 1.5    & 0.2    & setosa & 6.1   \\\\\n",
       "\t 5.0    & 3.6    & 1.4    & 0.2    & setosa & 6.4   \\\\\n",
       "\\end{tabular}\n"
      ],
      "text/markdown": [
       "\n",
       "| Sepal.Length | Sepal.Width | Petal.Length | Petal.Width | Species | Length |\n",
       "|---|---|---|---|---|---|\n",
       "| 5.1    | 3.5    | 1.4    | 0.2    | setosa | 6.5    |\n",
       "| 4.9    | 3.0    | 1.4    | 0.2    | setosa | 6.3    |\n",
       "| 4.7    | 3.2    | 1.3    | 0.2    | setosa | 6.0    |\n",
       "| 4.6    | 3.1    | 1.5    | 0.2    | setosa | 6.1    |\n",
       "| 5.0    | 3.6    | 1.4    | 0.2    | setosa | 6.4    |\n",
       "\n"
      ],
      "text/plain": [
       "  Sepal.Length Sepal.Width Petal.Length Petal.Width Species Length\n",
       "1 5.1          3.5         1.4          0.2         setosa  6.5   \n",
       "2 4.9          3.0         1.4          0.2         setosa  6.3   \n",
       "3 4.7          3.2         1.3          0.2         setosa  6.0   \n",
       "4 4.6          3.1         1.5          0.2         setosa  6.1   \n",
       "5 5.0          3.6         1.4          0.2         setosa  6.4   "
      ]
     },
     "metadata": {},
     "output_type": "display_data"
    }
   ],
   "source": [
    "irisHead <- head(iris,5)\n",
    "irisHead$Length <- irisHead$Sepal.Length + irisHead$Petal.Length\n",
    "irisHead"
   ]
  },
  {
   "cell_type": "code",
   "execution_count": 32,
   "metadata": {
    "vscode": {
     "languageId": "r"
    }
   },
   "outputs": [
    {
     "data": {
      "text/html": [
       "<table>\n",
       "<thead><tr><th scope=col>sl</th><th scope=col>sw</th></tr></thead>\n",
       "<tbody>\n",
       "\t<tr><td>5.1</td><td>3.5</td></tr>\n",
       "\t<tr><td>4.9</td><td>3.0</td></tr>\n",
       "\t<tr><td>4.7</td><td>3.2</td></tr>\n",
       "\t<tr><td>4.6</td><td>3.1</td></tr>\n",
       "\t<tr><td>5.0</td><td>3.6</td></tr>\n",
       "\t<tr><td>5.4</td><td>3.9</td></tr>\n",
       "</tbody>\n",
       "</table>\n"
      ],
      "text/latex": [
       "\\begin{tabular}{ll}\n",
       " sl & sw\\\\\n",
       "\\hline\n",
       "\t 5.1 & 3.5\\\\\n",
       "\t 4.9 & 3.0\\\\\n",
       "\t 4.7 & 3.2\\\\\n",
       "\t 4.6 & 3.1\\\\\n",
       "\t 5.0 & 3.6\\\\\n",
       "\t 5.4 & 3.9\\\\\n",
       "\\end{tabular}\n"
      ],
      "text/markdown": [
       "\n",
       "| sl | sw |\n",
       "|---|---|\n",
       "| 5.1 | 3.5 |\n",
       "| 4.9 | 3.0 |\n",
       "| 4.7 | 3.2 |\n",
       "| 4.6 | 3.1 |\n",
       "| 5.0 | 3.6 |\n",
       "| 5.4 | 3.9 |\n",
       "\n"
      ],
      "text/plain": [
       "     sl  sw \n",
       "[1,] 5.1 3.5\n",
       "[2,] 4.9 3.0\n",
       "[3,] 4.7 3.2\n",
       "[4,] 4.6 3.1\n",
       "[5,] 5.0 3.6\n",
       "[6,] 5.4 3.9"
      ]
     },
     "metadata": {},
     "output_type": "display_data"
    },
    {
     "data": {
      "text/html": [
       "'matrix'"
      ],
      "text/latex": [
       "'matrix'"
      ],
      "text/markdown": [
       "'matrix'"
      ],
      "text/plain": [
       "[1] \"matrix\""
      ]
     },
     "metadata": {},
     "output_type": "display_data"
    },
    {
     "data": {
      "text/html": [
       "'data.frame'"
      ],
      "text/latex": [
       "'data.frame'"
      ],
      "text/markdown": [
       "'data.frame'"
      ],
      "text/plain": [
       "[1] \"data.frame\""
      ]
     },
     "metadata": {},
     "output_type": "display_data"
    }
   ],
   "source": [
    "sl <- iris$Sepal.Length\n",
    "sw <- iris$Sepal.Width\n",
    "\n",
    "irisM <- cbind(sl,sw)\n",
    "head(irisM)\n",
    "class(irisM)\n",
    "irisD <- as.data.frame(irisM)\n",
    "class(irisD)"
   ]
  },
  {
   "cell_type": "code",
   "execution_count": 34,
   "metadata": {
    "vscode": {
     "languageId": "r"
    }
   },
   "outputs": [
    {
     "name": "stdout",
     "output_type": "stream",
     "text": [
      "'data.frame':\t150 obs. of  2 variables:\n",
      " $ sl: num  5.1 4.9 4.7 4.6 5 5.4 4.6 5 4.4 4.9 ...\n",
      " $ sw: num  3.5 3 3.2 3.1 3.6 3.9 3.4 3.4 2.9 3.1 ...\n",
      " num [1:150, 1:2] 5.1 4.9 4.7 4.6 5 5.4 4.6 5 4.4 4.9 ...\n",
      " - attr(*, \"dimnames\")=List of 2\n",
      "  ..$ : NULL\n",
      "  ..$ : chr [1:2] \"sl\" \"sw\"\n"
     ]
    }
   ],
   "source": [
    "str(irisD)\n",
    "str(irisM)"
   ]
  },
  {
   "cell_type": "code",
   "execution_count": 44,
   "metadata": {
    "vscode": {
     "languageId": "r"
    }
   },
   "outputs": [
    {
     "data": {
      "text/html": [
       "<table>\n",
       "<thead><tr><th></th><th scope=col>a</th><th scope=col>b</th><th scope=col>c</th></tr></thead>\n",
       "<tbody>\n",
       "\t<tr><th scope=row>vec1</th><td>1</td><td>2</td><td>3</td></tr>\n",
       "\t<tr><th scope=row>vec2</th><td>4</td><td>5</td><td>6</td></tr>\n",
       "\t<tr><th scope=row>vec3</th><td>7</td><td>8</td><td>9</td></tr>\n",
       "</tbody>\n",
       "</table>\n"
      ],
      "text/latex": [
       "\\begin{tabular}{r|lll}\n",
       "  & a & b & c\\\\\n",
       "\\hline\n",
       "\tvec1 & 1 & 2 & 3\\\\\n",
       "\tvec2 & 4 & 5 & 6\\\\\n",
       "\tvec3 & 7 & 8 & 9\\\\\n",
       "\\end{tabular}\n"
      ],
      "text/markdown": [
       "\n",
       "| <!--/--> | a | b | c |\n",
       "|---|---|---|---|\n",
       "| vec1 | 1 | 2 | 3 |\n",
       "| vec2 | 4 | 5 | 6 |\n",
       "| vec3 | 7 | 8 | 9 |\n",
       "\n"
      ],
      "text/plain": [
       "     a b c\n",
       "vec1 1 2 3\n",
       "vec2 4 5 6\n",
       "vec3 7 8 9"
      ]
     },
     "metadata": {},
     "output_type": "display_data"
    },
    {
     "data": {
      "text/html": [
       "<table>\n",
       "<thead><tr><th></th><th scope=col>a</th><th scope=col>b</th><th scope=col>c</th></tr></thead>\n",
       "<tbody>\n",
       "\t<tr><th scope=row>vec1</th><td>1</td><td>2</td><td>3</td></tr>\n",
       "\t<tr><th scope=row>vec2</th><td>4</td><td>5</td><td>6</td></tr>\n",
       "\t<tr><th scope=row>vec3</th><td>7</td><td>8</td><td>9</td></tr>\n",
       "</tbody>\n",
       "</table>\n"
      ],
      "text/latex": [
       "\\begin{tabular}{r|lll}\n",
       "  & a & b & c\\\\\n",
       "\\hline\n",
       "\tvec1 & 1 & 2 & 3\\\\\n",
       "\tvec2 & 4 & 5 & 6\\\\\n",
       "\tvec3 & 7 & 8 & 9\\\\\n",
       "\\end{tabular}\n"
      ],
      "text/markdown": [
       "\n",
       "| <!--/--> | a | b | c |\n",
       "|---|---|---|---|\n",
       "| vec1 | 1 | 2 | 3 |\n",
       "| vec2 | 4 | 5 | 6 |\n",
       "| vec3 | 7 | 8 | 9 |\n",
       "\n"
      ],
      "text/plain": [
       "     a b c\n",
       "vec1 1 2 3\n",
       "vec2 4 5 6\n",
       "vec3 7 8 9"
      ]
     },
     "metadata": {},
     "output_type": "display_data"
    },
    {
     "data": {
      "text/html": [
       "'data.frame'"
      ],
      "text/latex": [
       "'data.frame'"
      ],
      "text/markdown": [
       "'data.frame'"
      ],
      "text/plain": [
       "[1] \"data.frame\""
      ]
     },
     "metadata": {},
     "output_type": "display_data"
    }
   ],
   "source": [
    "mat1\n",
    "colnames(mat1) <- c(\"a\",\"b\",\"c\")\n",
    "mat1\n",
    "mat1D <- as.data.frame(mat1)\n",
    "class(mat1D)"
   ]
  },
  {
   "cell_type": "code",
   "execution_count": 50,
   "metadata": {
    "vscode": {
     "languageId": "r"
    }
   },
   "outputs": [
    {
     "data": {
      "text/html": [
       "<table>\n",
       "<thead><tr><th scope=col>vec1</th><th scope=col>vec2</th><th scope=col>vec3</th></tr></thead>\n",
       "<tbody>\n",
       "\t<tr><td>1</td><td>4</td><td>7</td></tr>\n",
       "\t<tr><td>2</td><td>5</td><td>8</td></tr>\n",
       "\t<tr><td>3</td><td>6</td><td>9</td></tr>\n",
       "</tbody>\n",
       "</table>\n"
      ],
      "text/latex": [
       "\\begin{tabular}{r|lll}\n",
       " vec1 & vec2 & vec3\\\\\n",
       "\\hline\n",
       "\t 1 & 4 & 7\\\\\n",
       "\t 2 & 5 & 8\\\\\n",
       "\t 3 & 6 & 9\\\\\n",
       "\\end{tabular}\n"
      ],
      "text/markdown": [
       "\n",
       "| vec1 | vec2 | vec3 |\n",
       "|---|---|---|\n",
       "| 1 | 4 | 7 |\n",
       "| 2 | 5 | 8 |\n",
       "| 3 | 6 | 9 |\n",
       "\n"
      ],
      "text/plain": [
       "  vec1 vec2 vec3\n",
       "1 1    4    7   \n",
       "2 2    5    8   \n",
       "3 3    6    9   "
      ]
     },
     "metadata": {},
     "output_type": "display_data"
    },
    {
     "data": {
      "text/html": [
       "'data.frame'"
      ],
      "text/latex": [
       "'data.frame'"
      ],
      "text/markdown": [
       "'data.frame'"
      ],
      "text/plain": [
       "[1] \"data.frame\""
      ]
     },
     "metadata": {},
     "output_type": "display_data"
    }
   ],
   "source": [
    "mat2\n",
    "rownames(mat2) <- 1:3\n",
    "mat2D <- as.data.frame(mat2)\n",
    "class(mat2D)"
   ]
  },
  {
   "cell_type": "code",
   "execution_count": 60,
   "metadata": {
    "vscode": {
     "languageId": "r"
    }
   },
   "outputs": [
    {
     "data": {
      "text/html": [
       "<table>\n",
       "<thead><tr><th></th><th scope=col>a</th><th scope=col>b</th><th scope=col>c</th></tr></thead>\n",
       "<tbody>\n",
       "\t<tr><th scope=row>vec1</th><td>1</td><td>2</td><td>3</td></tr>\n",
       "\t<tr><th scope=row>vec2</th><td>4</td><td>5</td><td>6</td></tr>\n",
       "\t<tr><th scope=row>vec3</th><td>7</td><td>8</td><td>9</td></tr>\n",
       "</tbody>\n",
       "</table>\n"
      ],
      "text/latex": [
       "\\begin{tabular}{r|lll}\n",
       "  & a & b & c\\\\\n",
       "\\hline\n",
       "\tvec1 & 1 & 2 & 3\\\\\n",
       "\tvec2 & 4 & 5 & 6\\\\\n",
       "\tvec3 & 7 & 8 & 9\\\\\n",
       "\\end{tabular}\n"
      ],
      "text/markdown": [
       "\n",
       "| <!--/--> | a | b | c |\n",
       "|---|---|---|---|\n",
       "| vec1 | 1 | 2 | 3 |\n",
       "| vec2 | 4 | 5 | 6 |\n",
       "| vec3 | 7 | 8 | 9 |\n",
       "\n"
      ],
      "text/plain": [
       "     a b c\n",
       "vec1 1 2 3\n",
       "vec2 4 5 6\n",
       "vec3 7 8 9"
      ]
     },
     "metadata": {},
     "output_type": "display_data"
    },
    {
     "data": {
      "text/html": [
       "<table>\n",
       "<thead><tr><th scope=col>a</th><th scope=col>b</th><th scope=col>c</th></tr></thead>\n",
       "<tbody>\n",
       "\t<tr><td>1</td><td>4</td><td>7</td></tr>\n",
       "\t<tr><td>2</td><td>5</td><td>8</td></tr>\n",
       "\t<tr><td>3</td><td>6</td><td>9</td></tr>\n",
       "</tbody>\n",
       "</table>\n"
      ],
      "text/latex": [
       "\\begin{tabular}{r|lll}\n",
       " a & b & c\\\\\n",
       "\\hline\n",
       "\t 1 & 4 & 7\\\\\n",
       "\t 2 & 5 & 8\\\\\n",
       "\t 3 & 6 & 9\\\\\n",
       "\\end{tabular}\n"
      ],
      "text/markdown": [
       "\n",
       "| a | b | c |\n",
       "|---|---|---|\n",
       "| 1 | 4 | 7 |\n",
       "| 2 | 5 | 8 |\n",
       "| 3 | 6 | 9 |\n",
       "\n"
      ],
      "text/plain": [
       "  a b c\n",
       "1 1 4 7\n",
       "2 2 5 8\n",
       "3 3 6 9"
      ]
     },
     "metadata": {},
     "output_type": "display_data"
    },
    {
     "data": {
      "text/html": [
       "<table>\n",
       "<thead><tr><th></th><th scope=col>a</th><th scope=col>b</th><th scope=col>c</th></tr></thead>\n",
       "<tbody>\n",
       "\t<tr><th scope=row>1</th><td>1</td><td>4</td><td>7</td></tr>\n",
       "\t<tr><th scope=row>2</th><td>2</td><td>5</td><td>8</td></tr>\n",
       "\t<tr><th scope=row>3</th><td>3</td><td>6</td><td>9</td></tr>\n",
       "\t<tr><th scope=row>vec1</th><td>1</td><td>2</td><td>3</td></tr>\n",
       "\t<tr><th scope=row>vec2</th><td>4</td><td>5</td><td>6</td></tr>\n",
       "\t<tr><th scope=row>vec3</th><td>7</td><td>8</td><td>9</td></tr>\n",
       "</tbody>\n",
       "</table>\n"
      ],
      "text/latex": [
       "\\begin{tabular}{r|lll}\n",
       "  & a & b & c\\\\\n",
       "\\hline\n",
       "\t1 & 1 & 4 & 7\\\\\n",
       "\t2 & 2 & 5 & 8\\\\\n",
       "\t3 & 3 & 6 & 9\\\\\n",
       "\tvec1 & 1 & 2 & 3\\\\\n",
       "\tvec2 & 4 & 5 & 6\\\\\n",
       "\tvec3 & 7 & 8 & 9\\\\\n",
       "\\end{tabular}\n"
      ],
      "text/markdown": [
       "\n",
       "| <!--/--> | a | b | c |\n",
       "|---|---|---|---|\n",
       "| 1 | 1 | 4 | 7 |\n",
       "| 2 | 2 | 5 | 8 |\n",
       "| 3 | 3 | 6 | 9 |\n",
       "| vec1 | 1 | 2 | 3 |\n",
       "| vec2 | 4 | 5 | 6 |\n",
       "| vec3 | 7 | 8 | 9 |\n",
       "\n"
      ],
      "text/plain": [
       "     a b c\n",
       "1    1 4 7\n",
       "2    2 5 8\n",
       "3    3 6 9\n",
       "vec1 1 2 3\n",
       "vec2 4 5 6\n",
       "vec3 7 8 9"
      ]
     },
     "metadata": {},
     "output_type": "display_data"
    }
   ],
   "source": [
    "mat1D\n",
    "mat2D\n",
    "\n",
    "# mat2D 오ㅏ mat1D 를 하나의 DataSet 으로 만들기\n",
    "# Column name 이 틀려서 error 발생 - > colnames로 이름을 맞춘다\n",
    "colnames(mat2D) <- colnames(mat1D)\n",
    "mat12D  <- rbind(mat2D,mat1D)\n",
    "mat12D"
   ]
  },
  {
   "cell_type": "markdown",
   "metadata": {},
   "source": [
    "# 데이터 프레임\n",
    "- 다양한 자료형으로 구성된 2차원 형태의 데이터 구조"
   ]
  },
  {
   "cell_type": "code",
   "execution_count": 6,
   "metadata": {
    "vscode": {
     "languageId": "r"
    }
   },
   "outputs": [],
   "source": [
    "# 벡터로 데이터 프레임 만들기\n",
    "no <- 1:4\n",
    "name <- c(\"Apple\", \"Banana\", \"Peach\", \"Berry\")\n",
    "price <- c(500,400,300,200)\n",
    "qty <- c(5,2,5,4)"
   ]
  },
  {
   "cell_type": "code",
   "execution_count": 7,
   "metadata": {
    "vscode": {
     "languageId": "r"
    }
   },
   "outputs": [
    {
     "data": {
      "text/html": [
       "<table>\n",
       "<thead><tr><th scope=col>번호</th><th scope=col>상품명</th><th scope=col>가격</th><th scope=col>수량</th></tr></thead>\n",
       "<tbody>\n",
       "\t<tr><td>1     </td><td>Apple </td><td>500   </td><td>5     </td></tr>\n",
       "\t<tr><td>2     </td><td>Banana</td><td>400   </td><td>2     </td></tr>\n",
       "\t<tr><td>3     </td><td>Peach </td><td>300   </td><td>5     </td></tr>\n",
       "\t<tr><td>4     </td><td>Berry </td><td>200   </td><td>4     </td></tr>\n",
       "</tbody>\n",
       "</table>\n"
      ],
      "text/latex": [
       "\\begin{tabular}{r|llll}\n",
       " 번호 & 상품명 & 가격 & 수량\\\\\n",
       "\\hline\n",
       "\t 1      & Apple  & 500    & 5     \\\\\n",
       "\t 2      & Banana & 400    & 2     \\\\\n",
       "\t 3      & Peach  & 300    & 5     \\\\\n",
       "\t 4      & Berry  & 200    & 4     \\\\\n",
       "\\end{tabular}\n"
      ],
      "text/markdown": [
       "\n",
       "| 번호 | 상품명 | 가격 | 수량 |\n",
       "|---|---|---|---|\n",
       "| 1      | Apple  | 500    | 5      |\n",
       "| 2      | Banana | 400    | 2      |\n",
       "| 3      | Peach  | 300    | 5      |\n",
       "| 4      | Berry  | 200    | 4      |\n",
       "\n"
      ],
      "text/plain": [
       "  번호 상품명 가격 수량\n",
       "1 1    Apple  500  5   \n",
       "2 2    Banana 400  2   \n",
       "3 3    Peach  300  5   \n",
       "4 4    Berry  200  4   "
      ]
     },
     "metadata": {},
     "output_type": "display_data"
    }
   ],
   "source": [
    "fruit <- data.frame(번호=no, 상품명=name, 가격=price, 수량=qty)\n",
    "fruit"
   ]
  },
  {
   "cell_type": "code",
   "execution_count": 8,
   "metadata": {
    "vscode": {
     "languageId": "r"
    }
   },
   "outputs": [
    {
     "name": "stdout",
     "output_type": "stream",
     "text": [
      "'data.frame':\t4 obs. of  4 variables:\n",
      " $ 번호  : int  1 2 3 4\n",
      " $ 상품명: Factor w/ 4 levels \"Apple\",\"Banana\",..: 1 2 4 3\n",
      " $ 가격  : num  500 400 300 200\n",
      " $ 수량  : num  5 2 5 4\n"
     ]
    }
   ],
   "source": [
    "str(fruit)"
   ]
  },
  {
   "cell_type": "code",
   "execution_count": 9,
   "metadata": {
    "vscode": {
     "languageId": "r"
    }
   },
   "outputs": [
    {
     "data": {
      "text/html": [
       "<table>\n",
       "<thead><tr><th scope=col>상품명</th><th scope=col>수량</th></tr></thead>\n",
       "<tbody>\n",
       "\t<tr><td>Apple </td><td>5     </td></tr>\n",
       "\t<tr><td>Banana</td><td>2     </td></tr>\n",
       "\t<tr><td>Peach </td><td>5     </td></tr>\n",
       "\t<tr><td>Berry </td><td>4     </td></tr>\n",
       "</tbody>\n",
       "</table>\n"
      ],
      "text/latex": [
       "\\begin{tabular}{r|ll}\n",
       " 상품명 & 수량\\\\\n",
       "\\hline\n",
       "\t Apple  & 5     \\\\\n",
       "\t Banana & 2     \\\\\n",
       "\t Peach  & 5     \\\\\n",
       "\t Berry  & 4     \\\\\n",
       "\\end{tabular}\n"
      ],
      "text/markdown": [
       "\n",
       "| 상품명 | 수량 |\n",
       "|---|---|\n",
       "| Apple  | 5      |\n",
       "| Banana | 2      |\n",
       "| Peach  | 5      |\n",
       "| Berry  | 4      |\n",
       "\n"
      ],
      "text/plain": [
       "  상품명 수량\n",
       "1 Apple  5   \n",
       "2 Banana 2   \n",
       "3 Peach  5   \n",
       "4 Berry  4   "
      ]
     },
     "metadata": {},
     "output_type": "display_data"
    }
   ],
   "source": [
    "# fruit 에서 상품명과 재고량만 보기\n",
    "\n",
    "fruit[c(2,4)]"
   ]
  },
  {
   "cell_type": "code",
   "execution_count": 10,
   "metadata": {
    "vscode": {
     "languageId": "r"
    }
   },
   "outputs": [
    {
     "data": {
      "text/html": [
       "<table>\n",
       "<thead><tr><th scope=col>상품명</th><th scope=col>가격</th><th scope=col>수량</th></tr></thead>\n",
       "<tbody>\n",
       "\t<tr><td>Apple </td><td>500   </td><td>5     </td></tr>\n",
       "\t<tr><td>Banana</td><td>400   </td><td>2     </td></tr>\n",
       "\t<tr><td>Peach </td><td>300   </td><td>5     </td></tr>\n",
       "\t<tr><td>Berry </td><td>200   </td><td>4     </td></tr>\n",
       "</tbody>\n",
       "</table>\n"
      ],
      "text/latex": [
       "\\begin{tabular}{r|lll}\n",
       " 상품명 & 가격 & 수량\\\\\n",
       "\\hline\n",
       "\t Apple  & 500    & 5     \\\\\n",
       "\t Banana & 400    & 2     \\\\\n",
       "\t Peach  & 300    & 5     \\\\\n",
       "\t Berry  & 200    & 4     \\\\\n",
       "\\end{tabular}\n"
      ],
      "text/markdown": [
       "\n",
       "| 상품명 | 가격 | 수량 |\n",
       "|---|---|---|\n",
       "| Apple  | 500    | 5      |\n",
       "| Banana | 400    | 2      |\n",
       "| Peach  | 300    | 5      |\n",
       "| Berry  | 200    | 4      |\n",
       "\n"
      ],
      "text/plain": [
       "  상품명 가격 수량\n",
       "1 Apple  500  5   \n",
       "2 Banana 400  2   \n",
       "3 Peach  300  5   \n",
       "4 Berry  200  4   "
      ]
     },
     "metadata": {},
     "output_type": "display_data"
    },
    {
     "data": {
      "text/html": [
       "<table>\n",
       "<thead><tr><th scope=col>상품명</th><th scope=col>가격</th><th scope=col>수량</th></tr></thead>\n",
       "<tbody>\n",
       "\t<tr><td>Apple </td><td>500   </td><td>5     </td></tr>\n",
       "\t<tr><td>Banana</td><td>400   </td><td>2     </td></tr>\n",
       "\t<tr><td>Peach </td><td>300   </td><td>5     </td></tr>\n",
       "\t<tr><td>Berry </td><td>200   </td><td>4     </td></tr>\n",
       "</tbody>\n",
       "</table>\n"
      ],
      "text/latex": [
       "\\begin{tabular}{r|lll}\n",
       " 상품명 & 가격 & 수량\\\\\n",
       "\\hline\n",
       "\t Apple  & 500    & 5     \\\\\n",
       "\t Banana & 400    & 2     \\\\\n",
       "\t Peach  & 300    & 5     \\\\\n",
       "\t Berry  & 200    & 4     \\\\\n",
       "\\end{tabular}\n"
      ],
      "text/markdown": [
       "\n",
       "| 상품명 | 가격 | 수량 |\n",
       "|---|---|---|\n",
       "| Apple  | 500    | 5      |\n",
       "| Banana | 400    | 2      |\n",
       "| Peach  | 300    | 5      |\n",
       "| Berry  | 200    | 4      |\n",
       "\n"
      ],
      "text/plain": [
       "  상품명 가격 수량\n",
       "1 Apple  500  5   \n",
       "2 Banana 400  2   \n",
       "3 Peach  300  5   \n",
       "4 Berry  200  4   "
      ]
     },
     "metadata": {},
     "output_type": "display_data"
    }
   ],
   "source": [
    "# fruit 에서 번호를 제외한 모든 내용 보기\n",
    "fruit[(c(-1))]\n",
    "fruit[,-1]"
   ]
  },
  {
   "cell_type": "code",
   "execution_count": 12,
   "metadata": {
    "vscode": {
     "languageId": "r"
    }
   },
   "outputs": [
    {
     "data": {
      "text/html": [
       "<table>\n",
       "<thead><tr><th></th><th scope=col>상품명</th><th scope=col>가격</th><th scope=col>수량</th><th scope=col>재고금액</th><th scope=col>원산지</th></tr></thead>\n",
       "<tbody>\n",
       "\t<tr><th scope=row>1</th><td>Apple</td><td>500  </td><td>5    </td><td>2500 </td><td>한국 </td></tr>\n",
       "\t<tr><th scope=row>3</th><td>Peach</td><td>300  </td><td>5    </td><td>1500 </td><td>한국 </td></tr>\n",
       "</tbody>\n",
       "</table>\n"
      ],
      "text/latex": [
       "\\begin{tabular}{r|lllll}\n",
       "  & 상품명 & 가격 & 수량 & 재고금액 & 원산지\\\\\n",
       "\\hline\n",
       "\t1 & Apple & 500   & 5     & 2500  & 한국 \\\\\n",
       "\t3 & Peach & 300   & 5     & 1500  & 한국 \\\\\n",
       "\\end{tabular}\n"
      ],
      "text/markdown": [
       "\n",
       "| <!--/--> | 상품명 | 가격 | 수량 | 재고금액 | 원산지 |\n",
       "|---|---|---|---|---|---|\n",
       "| 1 | Apple | 500   | 5     | 2500  | 한국  |\n",
       "| 3 | Peach | 300   | 5     | 1500  | 한국  |\n",
       "\n"
      ],
      "text/plain": [
       "  상품명 가격 수량 재고금액 원산지\n",
       "1 Apple  500  5    2500     한국  \n",
       "3 Peach  300  5    1500     한국  "
      ]
     },
     "metadata": {},
     "output_type": "display_data"
    }
   ],
   "source": [
    "# fruit 에서 2,4 번 행을 제외한 상품명, 금액, 재고량만 출력\n",
    "    fruit[-c(2,4),-1]"
   ]
  },
  {
   "cell_type": "code",
   "execution_count": 11,
   "metadata": {
    "vscode": {
     "languageId": "r"
    }
   },
   "outputs": [
    {
     "data": {
      "text/html": [
       "<table>\n",
       "<thead><tr><th scope=col>번호</th><th scope=col>상품명</th><th scope=col>가격</th><th scope=col>수량</th><th scope=col>재고금액</th><th scope=col>원산지</th></tr></thead>\n",
       "<tbody>\n",
       "\t<tr><td>1     </td><td>Apple </td><td>500   </td><td>5     </td><td>2500  </td><td>한국  </td></tr>\n",
       "\t<tr><td>2     </td><td>Banana</td><td>400   </td><td>2     </td><td> 800  </td><td>태국  </td></tr>\n",
       "\t<tr><td>3     </td><td>Peach </td><td>300   </td><td>5     </td><td>1500  </td><td>한국  </td></tr>\n",
       "\t<tr><td>4     </td><td>Berry </td><td>200   </td><td>4     </td><td> 800  </td><td>중국  </td></tr>\n",
       "</tbody>\n",
       "</table>\n"
      ],
      "text/latex": [
       "\\begin{tabular}{r|llllll}\n",
       " 번호 & 상품명 & 가격 & 수량 & 재고금액 & 원산지\\\\\n",
       "\\hline\n",
       "\t 1      & Apple  & 500    & 5      & 2500   & 한국  \\\\\n",
       "\t 2      & Banana & 400    & 2      &  800   & 태국  \\\\\n",
       "\t 3      & Peach  & 300    & 5      & 1500   & 한국  \\\\\n",
       "\t 4      & Berry  & 200    & 4      &  800   & 중국  \\\\\n",
       "\\end{tabular}\n"
      ],
      "text/markdown": [
       "\n",
       "| 번호 | 상품명 | 가격 | 수량 | 재고금액 | 원산지 |\n",
       "|---|---|---|---|---|---|\n",
       "| 1      | Apple  | 500    | 5      | 2500   | 한국   |\n",
       "| 2      | Banana | 400    | 2      |  800   | 태국   |\n",
       "| 3      | Peach  | 300    | 5      | 1500   | 한국   |\n",
       "| 4      | Berry  | 200    | 4      |  800   | 중국   |\n",
       "\n"
      ],
      "text/plain": [
       "  번호 상품명 가격 수량 재고금액 원산지\n",
       "1 1    Apple  500  5    2500     한국  \n",
       "2 2    Banana 400  2     800     태국  \n",
       "3 3    Peach  300  5    1500     한국  \n",
       "4 4    Berry  200  4     800     중국  "
      ]
     },
     "metadata": {},
     "output_type": "display_data"
    }
   ],
   "source": [
    "\n",
    "fruit$재고금액 <- fruit$가격*fruit$수량\n",
    "fruit$원산지 <- c(\"한국\",\"태국\",\"한국\",\"중국\")\n",
    "fruit"
   ]
  },
  {
   "cell_type": "code",
   "execution_count": 14,
   "metadata": {
    "vscode": {
     "languageId": "r"
    }
   },
   "outputs": [
    {
     "name": "stdout",
     "output_type": "stream",
     "text": [
      "'data.frame':\t4 obs. of  6 variables:\n",
      " $ 번호    : int  1 2 3 4\n",
      " $ 상품명  : Factor w/ 4 levels \"Apple\",\"Banana\",..: 1 2 4 3\n",
      " $ 가격    : num  500 400 300 200\n",
      " $ 수량    : num  5 2 5 4\n",
      " $ 재고금액: num  2500 800 1500 800\n",
      " $ 원산지  : chr  \"한국\" \"태국\" \"한국\" \"중국\"\n"
     ]
    }
   ],
   "source": [
    "str(fruit)"
   ]
  },
  {
   "cell_type": "markdown",
   "metadata": {},
   "source": [
    "# 외부 File 불러오기"
   ]
  },
  {
   "cell_type": "code",
   "execution_count": 13,
   "metadata": {
    "vscode": {
     "languageId": "r"
    }
   },
   "outputs": [
    {
     "data": {
      "text/html": [
       "<table>\n",
       "<thead><tr><th scope=col>사번</th><th scope=col>이름</th><th scope=col>급여</th></tr></thead>\n",
       "<tbody>\n",
       "\t<tr><td>101 </td><td>hong</td><td>150 </td></tr>\n",
       "\t<tr><td>201 </td><td>lee </td><td>250 </td></tr>\n",
       "\t<tr><td>301 </td><td>kim </td><td>300 </td></tr>\n",
       "</tbody>\n",
       "</table>\n"
      ],
      "text/latex": [
       "\\begin{tabular}{r|lll}\n",
       " 사번 & 이름 & 급여\\\\\n",
       "\\hline\n",
       "\t 101  & hong & 150 \\\\\n",
       "\t 201  & lee  & 250 \\\\\n",
       "\t 301  & kim  & 300 \\\\\n",
       "\\end{tabular}\n"
      ],
      "text/markdown": [
       "\n",
       "| 사번 | 이름 | 급여 |\n",
       "|---|---|---|\n",
       "| 101  | hong | 150  |\n",
       "| 201  | lee  | 250  |\n",
       "| 301  | kim  | 300  |\n",
       "\n"
      ],
      "text/plain": [
       "  사번 이름 급여\n",
       "1 101  hong 150 \n",
       "2 201  lee  250 \n",
       "3 301  kim  300 "
      ]
     },
     "metadata": {},
     "output_type": "display_data"
    }
   ],
   "source": [
    "# .txt 파일 불러오기\n",
    "     txtEmp <-  read.table(\"./Data/emp.txt\", header = T, sep=\"\", stringsAsFactors = F, fileEncoding = \"utf-8\")\n",
    "     txtEmp"
   ]
  },
  {
   "cell_type": "code",
   "execution_count": 22,
   "metadata": {
    "vscode": {
     "languageId": "r"
    }
   },
   "outputs": [
    {
     "data": {
      "text/html": [
       "<table>\n",
       "<thead><tr><th scope=col>V1</th><th scope=col>V2</th><th scope=col>V3</th></tr></thead>\n",
       "<tbody>\n",
       "\t<tr><td>101   </td><td>홍길동</td><td>150   </td></tr>\n",
       "\t<tr><td>102   </td><td>이순신</td><td>450   </td></tr>\n",
       "\t<tr><td>103   </td><td>강감찬</td><td>500   </td></tr>\n",
       "\t<tr><td>104   </td><td>유관순</td><td>350   </td></tr>\n",
       "\t<tr><td>105   </td><td>김유신</td><td>400   </td></tr>\n",
       "</tbody>\n",
       "</table>\n"
      ],
      "text/latex": [
       "\\begin{tabular}{r|lll}\n",
       " V1 & V2 & V3\\\\\n",
       "\\hline\n",
       "\t 101    & 홍길동 & 150   \\\\\n",
       "\t 102    & 이순신 & 450   \\\\\n",
       "\t 103    & 강감찬 & 500   \\\\\n",
       "\t 104    & 유관순 & 350   \\\\\n",
       "\t 105    & 김유신 & 400   \\\\\n",
       "\\end{tabular}\n"
      ],
      "text/markdown": [
       "\n",
       "| V1 | V2 | V3 |\n",
       "|---|---|---|\n",
       "| 101    | 홍길동 | 150    |\n",
       "| 102    | 이순신 | 450    |\n",
       "| 103    | 강감찬 | 500    |\n",
       "| 104    | 유관순 | 350    |\n",
       "| 105    | 김유신 | 400    |\n",
       "\n"
      ],
      "text/plain": [
       "  V1  V2     V3 \n",
       "1 101 홍길동 150\n",
       "2 102 이순신 450\n",
       "3 103 강감찬 500\n",
       "4 104 유관순 350\n",
       "5 105 김유신 400"
      ]
     },
     "metadata": {},
     "output_type": "display_data"
    },
    {
     "data": {
      "text/html": [
       "<table>\n",
       "<thead><tr><th scope=col>사번</th><th scope=col>이름</th><th scope=col>급여</th></tr></thead>\n",
       "<tbody>\n",
       "\t<tr><td>101   </td><td>홍길동</td><td>150   </td></tr>\n",
       "\t<tr><td>102   </td><td>이순신</td><td>450   </td></tr>\n",
       "\t<tr><td>103   </td><td>강감찬</td><td>500   </td></tr>\n",
       "\t<tr><td>104   </td><td>유관순</td><td>350   </td></tr>\n",
       "\t<tr><td>105   </td><td>김유신</td><td>400   </td></tr>\n",
       "</tbody>\n",
       "</table>\n"
      ],
      "text/latex": [
       "\\begin{tabular}{r|lll}\n",
       " 사번 & 이름 & 급여\\\\\n",
       "\\hline\n",
       "\t 101    & 홍길동 & 150   \\\\\n",
       "\t 102    & 이순신 & 450   \\\\\n",
       "\t 103    & 강감찬 & 500   \\\\\n",
       "\t 104    & 유관순 & 350   \\\\\n",
       "\t 105    & 김유신 & 400   \\\\\n",
       "\\end{tabular}\n"
      ],
      "text/markdown": [
       "\n",
       "| 사번 | 이름 | 급여 |\n",
       "|---|---|---|\n",
       "| 101    | 홍길동 | 150    |\n",
       "| 102    | 이순신 | 450    |\n",
       "| 103    | 강감찬 | 500    |\n",
       "| 104    | 유관순 | 350    |\n",
       "| 105    | 김유신 | 400    |\n",
       "\n"
      ],
      "text/plain": [
       "  사번 이름   급여\n",
       "1 101  홍길동 150 \n",
       "2 102  이순신 450 \n",
       "3 103  강감찬 500 \n",
       "4 104  유관순 350 \n",
       "5 105  김유신 400 "
      ]
     },
     "metadata": {},
     "output_type": "display_data"
    }
   ],
   "source": [
    "   csvEmp   <-   read.csv(\"./Data/emp2.csv\",\n",
    "         header=F, stringsAsFactors = F)\n",
    "\n",
    "csvEmp\n",
    "# 컬럼명을 사번, 이름, 급여로 변경하기\n",
    "                colnames(csvEmp) <- c(\"사번\",\"이름\",\"급여\") \n",
    "csvEmp"
   ]
  },
  {
   "cell_type": "code",
   "execution_count": 25,
   "metadata": {
    "vscode": {
     "languageId": "r"
    }
   },
   "outputs": [
    {
     "data": {
      "text/html": [
       "3"
      ],
      "text/latex": [
       "3"
      ],
      "text/markdown": [
       "3"
      ],
      "text/plain": [
       "[1] 3"
      ]
     },
     "metadata": {},
     "output_type": "display_data"
    },
    {
     "data": {
      "text/html": [
       "5"
      ],
      "text/latex": [
       "5"
      ],
      "text/markdown": [
       "5"
      ],
      "text/plain": [
       "[1] 5"
      ]
     },
     "metadata": {},
     "output_type": "display_data"
    }
   ],
   "source": [
    "# 컬럼이 몇개?\n",
    "ncol(csvEmp)\n",
    "#row가 몇개?\n",
    "nrow(csvEmp)"
   ]
  },
  {
   "cell_type": "code",
   "execution_count": 56,
   "metadata": {
    "vscode": {
     "languageId": "r"
    }
   },
   "outputs": [
    {
     "data": {
      "text/html": [
       "<table>\n",
       "<thead><tr><th scope=col>x</th><th scope=col>y</th><th scope=col>z</th></tr></thead>\n",
       "<tbody>\n",
       "\t<tr><td>1 </td><td> 2</td><td>a </td></tr>\n",
       "\t<tr><td>2 </td><td> 4</td><td>b </td></tr>\n",
       "\t<tr><td>3 </td><td> 6</td><td>c </td></tr>\n",
       "\t<tr><td>4 </td><td> 8</td><td>d </td></tr>\n",
       "\t<tr><td>5 </td><td>10</td><td>e </td></tr>\n",
       "</tbody>\n",
       "</table>\n"
      ],
      "text/latex": [
       "\\begin{tabular}{r|lll}\n",
       " x & y & z\\\\\n",
       "\\hline\n",
       "\t 1  &  2 & a \\\\\n",
       "\t 2  &  4 & b \\\\\n",
       "\t 3  &  6 & c \\\\\n",
       "\t 4  &  8 & d \\\\\n",
       "\t 5  & 10 & e \\\\\n",
       "\\end{tabular}\n"
      ],
      "text/markdown": [
       "\n",
       "| x | y | z |\n",
       "|---|---|---|\n",
       "| 1  |  2 | a  |\n",
       "| 2  |  4 | b  |\n",
       "| 3  |  6 | c  |\n",
       "| 4  |  8 | d  |\n",
       "| 5  | 10 | e  |\n",
       "\n"
      ],
      "text/plain": [
       "  x y  z\n",
       "1 1  2 a\n",
       "2 2  4 b\n",
       "3 3  6 c\n",
       "4 4  8 d\n",
       "5 5 10 e"
      ]
     },
     "metadata": {},
     "output_type": "display_data"
    },
    {
     "data": {
      "text/html": [
       "<ol class=list-inline>\n",
       "\t<li>1</li>\n",
       "\t<li>2</li>\n",
       "\t<li>3</li>\n",
       "\t<li>4</li>\n",
       "\t<li>5</li>\n",
       "</ol>\n"
      ],
      "text/latex": [
       "\\begin{enumerate*}\n",
       "\\item 1\n",
       "\\item 2\n",
       "\\item 3\n",
       "\\item 4\n",
       "\\item 5\n",
       "\\end{enumerate*}\n"
      ],
      "text/markdown": [
       "1. 1\n",
       "2. 2\n",
       "3. 3\n",
       "4. 4\n",
       "5. 5\n",
       "\n",
       "\n"
      ],
      "text/plain": [
       "[1] 1 2 3 4 5"
      ]
     },
     "metadata": {},
     "output_type": "display_data"
    }
   ],
   "source": [
    "df <- data.frame(x = 1:5,y = seq(2,10,2),\n",
    "                 z = c('a','b','c','d','e'))\n",
    "df\n",
    "as.numeric(df$x)"
   ]
  },
  {
   "cell_type": "code",
   "execution_count": 29,
   "metadata": {
    "vscode": {
     "languageId": "r"
    }
   },
   "outputs": [
    {
     "name": "stdout",
     "output_type": "stream",
     "text": [
      "'data.frame':\t5 obs. of  3 variables:\n",
      " $ x: int  1 2 3 4 5\n",
      " $ y: num  2 4 6 8 10\n",
      " $ z: Factor w/ 5 levels \"a\",\"b\",\"c\",\"d\",..: 1 2 3 4 5\n"
     ]
    }
   ],
   "source": [
    "str(df)"
   ]
  },
  {
   "cell_type": "code",
   "execution_count": 57,
   "metadata": {
    "vscode": {
     "languageId": "r"
    }
   },
   "outputs": [
    {
     "data": {
      "text/html": [
       "45"
      ],
      "text/latex": [
       "45"
      ],
      "text/markdown": [
       "45"
      ],
      "text/plain": [
       "[1] 45"
      ]
     },
     "metadata": {},
     "output_type": "display_data"
    }
   ],
   "source": [
    "# x, y 컬럼의 합계 구하기\n",
    "sum(df$x,df$y) "
   ]
  },
  {
   "cell_type": "markdown",
   "metadata": {},
   "source": [
    "### 함수를 부르는 함수"
   ]
  },
  {
   "cell_type": "code",
   "execution_count": 58,
   "metadata": {
    "vscode": {
     "languageId": "r"
    }
   },
   "outputs": [
    {
     "data": {
      "text/html": [
       "<dl class=dl-horizontal>\n",
       "\t<dt>x</dt>\n",
       "\t\t<dd>15</dd>\n",
       "\t<dt>y</dt>\n",
       "\t\t<dd>30</dd>\n",
       "</dl>\n"
      ],
      "text/latex": [
       "\\begin{description*}\n",
       "\\item[x] 15\n",
       "\\item[y] 30\n",
       "\\end{description*}\n"
      ],
      "text/markdown": [
       "x\n",
       ":   15y\n",
       ":   30\n",
       "\n"
      ],
      "text/plain": [
       " x  y \n",
       "15 30 "
      ]
     },
     "metadata": {},
     "output_type": "display_data"
    },
    {
     "data": {
      "text/html": [
       "<dl class=dl-horizontal>\n",
       "\t<dt>x</dt>\n",
       "\t\t<dd>3</dd>\n",
       "\t<dt>y</dt>\n",
       "\t\t<dd>6</dd>\n",
       "</dl>\n"
      ],
      "text/latex": [
       "\\begin{description*}\n",
       "\\item[x] 3\n",
       "\\item[y] 6\n",
       "\\end{description*}\n"
      ],
      "text/markdown": [
       "x\n",
       ":   3y\n",
       ":   6\n",
       "\n"
      ],
      "text/plain": [
       "x y \n",
       "3 6 "
      ]
     },
     "metadata": {},
     "output_type": "display_data"
    },
    {
     "data": {
      "text/html": [
       "<dl class=dl-horizontal>\n",
       "\t<dt>x</dt>\n",
       "\t\t<dd>1.58113883008419</dd>\n",
       "\t<dt>y</dt>\n",
       "\t\t<dd>3.16227766016838</dd>\n",
       "</dl>\n"
      ],
      "text/latex": [
       "\\begin{description*}\n",
       "\\item[x] 1.58113883008419\n",
       "\\item[y] 3.16227766016838\n",
       "\\end{description*}\n"
      ],
      "text/markdown": [
       "x\n",
       ":   1.58113883008419y\n",
       ":   3.16227766016838\n",
       "\n"
      ],
      "text/plain": [
       "       x        y \n",
       "1.581139 3.162278 "
      ]
     },
     "metadata": {},
     "output_type": "display_data"
    }
   ],
   "source": [
    "# 열방향\n",
    "apply(df[,1:2], 2, sum)\n",
    "apply(df[,1:2], 2, mean)\n",
    "apply(df[,1:2], 2, sd)\n"
   ]
  },
  {
   "cell_type": "code",
   "execution_count": 59,
   "metadata": {
    "vscode": {
     "languageId": "r"
    }
   },
   "outputs": [
    {
     "data": {
      "text/html": [
       "<ol class=list-inline>\n",
       "\t<li>3</li>\n",
       "\t<li>6</li>\n",
       "\t<li>9</li>\n",
       "\t<li>12</li>\n",
       "\t<li>15</li>\n",
       "</ol>\n"
      ],
      "text/latex": [
       "\\begin{enumerate*}\n",
       "\\item 3\n",
       "\\item 6\n",
       "\\item 9\n",
       "\\item 12\n",
       "\\item 15\n",
       "\\end{enumerate*}\n"
      ],
      "text/markdown": [
       "1. 3\n",
       "2. 6\n",
       "3. 9\n",
       "4. 12\n",
       "5. 15\n",
       "\n",
       "\n"
      ],
      "text/plain": [
       "[1]  3  6  9 12 15"
      ]
     },
     "metadata": {},
     "output_type": "display_data"
    }
   ],
   "source": [
    "# 행방향\n",
    "apply(df[,1:2],1, sum)"
   ]
  },
  {
   "cell_type": "code",
   "execution_count": 60,
   "metadata": {
    "vscode": {
     "languageId": "r"
    }
   },
   "outputs": [
    {
     "data": {
      "text/html": [
       "<table>\n",
       "<thead><tr><th scope=col>x</th><th scope=col>y</th><th scope=col>z</th><th scope=col>Hap</th></tr></thead>\n",
       "<tbody>\n",
       "\t<tr><td>1 </td><td> 2</td><td>a </td><td> 3</td></tr>\n",
       "\t<tr><td>2 </td><td> 4</td><td>b </td><td> 6</td></tr>\n",
       "\t<tr><td>3 </td><td> 6</td><td>c </td><td> 9</td></tr>\n",
       "\t<tr><td>4 </td><td> 8</td><td>d </td><td>12</td></tr>\n",
       "\t<tr><td>5 </td><td>10</td><td>e </td><td>15</td></tr>\n",
       "</tbody>\n",
       "</table>\n"
      ],
      "text/latex": [
       "\\begin{tabular}{r|llll}\n",
       " x & y & z & Hap\\\\\n",
       "\\hline\n",
       "\t 1  &  2 & a  &  3\\\\\n",
       "\t 2  &  4 & b  &  6\\\\\n",
       "\t 3  &  6 & c  &  9\\\\\n",
       "\t 4  &  8 & d  & 12\\\\\n",
       "\t 5  & 10 & e  & 15\\\\\n",
       "\\end{tabular}\n"
      ],
      "text/markdown": [
       "\n",
       "| x | y | z | Hap |\n",
       "|---|---|---|---|\n",
       "| 1  |  2 | a  |  3 |\n",
       "| 2  |  4 | b  |  6 |\n",
       "| 3  |  6 | c  |  9 |\n",
       "| 4  |  8 | d  | 12 |\n",
       "| 5  | 10 | e  | 15 |\n",
       "\n"
      ],
      "text/plain": [
       "  x y  z Hap\n",
       "1 1  2 a  3 \n",
       "2 2  4 b  6 \n",
       "3 3  6 c  9 \n",
       "4 4  8 d 12 \n",
       "5 5 10 e 15 "
      ]
     },
     "metadata": {},
     "output_type": "display_data"
    }
   ],
   "source": [
    "\n",
    "df$Hap <- apply(df[,1:2],1,sum)\n",
    "df"
   ]
  },
  {
   "cell_type": "code",
   "execution_count": 40,
   "metadata": {
    "vscode": {
     "languageId": "r"
    }
   },
   "outputs": [
    {
     "data": {
      "text/html": [
       "<table>\n",
       "<thead><tr><th></th><th scope=col>x</th><th scope=col>y</th><th scope=col>z</th><th scope=col>Hap</th></tr></thead>\n",
       "<tbody>\n",
       "\t<tr><th scope=row>4</th><td>4 </td><td> 8</td><td>d </td><td>12</td></tr>\n",
       "\t<tr><th scope=row>5</th><td>5 </td><td>10</td><td>e </td><td>15</td></tr>\n",
       "</tbody>\n",
       "</table>\n"
      ],
      "text/latex": [
       "\\begin{tabular}{r|llll}\n",
       "  & x & y & z & Hap\\\\\n",
       "\\hline\n",
       "\t4 & 4  &  8 & d  & 12\\\\\n",
       "\t5 & 5  & 10 & e  & 15\\\\\n",
       "\\end{tabular}\n"
      ],
      "text/markdown": [
       "\n",
       "| <!--/--> | x | y | z | Hap |\n",
       "|---|---|---|---|---|\n",
       "| 4 | 4  |  8 | d  | 12 |\n",
       "| 5 | 5  | 10 | e  | 15 |\n",
       "\n"
      ],
      "text/plain": [
       "  x y  z Hap\n",
       "4 4  8 d 12 \n",
       "5 5 10 e 15 "
      ]
     },
     "metadata": {},
     "output_type": "display_data"
    },
    {
     "data": {
      "text/html": [
       "2"
      ],
      "text/latex": [
       "2"
      ],
      "text/markdown": [
       "2"
      ],
      "text/plain": [
       "[1] 2"
      ]
     },
     "metadata": {},
     "output_type": "display_data"
    }
   ],
   "source": [
    "# 부분집합\n",
    "subset(df, x >= 3 & y >=8)\n",
    "nrow(subset(df, x >= 3 & y >=8))   "
   ]
  },
  {
   "cell_type": "code",
   "execution_count": 49,
   "metadata": {
    "vscode": {
     "languageId": "r"
    }
   },
   "outputs": [
    {
     "data": {
      "text/html": [
       "<dl class=dl-horizontal>\n",
       "\t<dt>x</dt>\n",
       "\t\t<dd>9</dd>\n",
       "\t<dt>y</dt>\n",
       "\t\t<dd>18</dd>\n",
       "</dl>\n"
      ],
      "text/latex": [
       "\\begin{description*}\n",
       "\\item[x] 9\n",
       "\\item[y] 18\n",
       "\\end{description*}\n"
      ],
      "text/markdown": [
       "x\n",
       ":   9y\n",
       ":   18\n",
       "\n"
      ],
      "text/plain": [
       " x  y \n",
       " 9 18 "
      ]
     },
     "metadata": {},
     "output_type": "display_data"
    }
   ],
   "source": [
    "# x 가 3이상 이고 y 가 8이상인 데이터중 x와y의 합계\n",
    "re  <- subset(df, x >= 3 & y >=8)\n",
    "apply(re[,1:2],2,sum)\n"
   ]
  },
  {
   "cell_type": "markdown",
   "metadata": {},
   "source": [
    "# 두개 이상의 데이터프레임 병합"
   ]
  },
  {
   "cell_type": "code",
   "execution_count": 69,
   "metadata": {
    "vscode": {
     "languageId": "r"
    }
   },
   "outputs": [
    {
     "data": {
      "text/html": [
       "<table>\n",
       "<thead><tr><th scope=col>id</th><th scope=col>height</th></tr></thead>\n",
       "<tbody>\n",
       "\t<tr><td>1  </td><td>160</td></tr>\n",
       "\t<tr><td>2  </td><td>170</td></tr>\n",
       "\t<tr><td>3  </td><td>180</td></tr>\n",
       "</tbody>\n",
       "</table>\n"
      ],
      "text/latex": [
       "\\begin{tabular}{r|ll}\n",
       " id & height\\\\\n",
       "\\hline\n",
       "\t 1   & 160\\\\\n",
       "\t 2   & 170\\\\\n",
       "\t 3   & 180\\\\\n",
       "\\end{tabular}\n"
      ],
      "text/markdown": [
       "\n",
       "| id | height |\n",
       "|---|---|\n",
       "| 1   | 160 |\n",
       "| 2   | 170 |\n",
       "| 3   | 180 |\n",
       "\n"
      ],
      "text/plain": [
       "  id height\n",
       "1 1  160   \n",
       "2 2  170   \n",
       "3 3  180   "
      ]
     },
     "metadata": {},
     "output_type": "display_data"
    }
   ],
   "source": [
    "# case 1: Key 값이 되는 컬럼이 동일하고 data의 갯수도 동일한 경우\n",
    "height <- data.frame(id = 1:3,\n",
    "height = c(160,170,180))\n",
    "height                   "
   ]
  },
  {
   "cell_type": "code",
   "execution_count": 70,
   "metadata": {
    "vscode": {
     "languageId": "r"
    }
   },
   "outputs": [
    {
     "data": {
      "text/html": [
       "<table>\n",
       "<thead><tr><th scope=col>id</th><th scope=col>weight</th></tr></thead>\n",
       "<tbody>\n",
       "\t<tr><td>1 </td><td>70</td></tr>\n",
       "\t<tr><td>2 </td><td>60</td></tr>\n",
       "\t<tr><td>3 </td><td>80</td></tr>\n",
       "</tbody>\n",
       "</table>\n"
      ],
      "text/latex": [
       "\\begin{tabular}{r|ll}\n",
       " id & weight\\\\\n",
       "\\hline\n",
       "\t 1  & 70\\\\\n",
       "\t 2  & 60\\\\\n",
       "\t 3  & 80\\\\\n",
       "\\end{tabular}\n"
      ],
      "text/markdown": [
       "\n",
       "| id | weight |\n",
       "|---|---|\n",
       "| 1  | 70 |\n",
       "| 2  | 60 |\n",
       "| 3  | 80 |\n",
       "\n"
      ],
      "text/plain": [
       "  id weight\n",
       "1 1  70    \n",
       "2 2  60    \n",
       "3 3  80    "
      ]
     },
     "metadata": {},
     "output_type": "display_data"
    }
   ],
   "source": [
    "weight <- data.frame(id = c(1,2,3),\n",
    "            weight = c(70, 60, 80))\n",
    "weight                    "
   ]
  },
  {
   "cell_type": "code",
   "execution_count": 71,
   "metadata": {
    "vscode": {
     "languageId": "r"
    }
   },
   "outputs": [
    {
     "data": {
      "text/html": [
       "<table>\n",
       "<thead><tr><th scope=col>id</th><th scope=col>height</th><th scope=col>weight</th></tr></thead>\n",
       "<tbody>\n",
       "\t<tr><td>1  </td><td>160</td><td>70 </td></tr>\n",
       "\t<tr><td>2  </td><td>170</td><td>60 </td></tr>\n",
       "\t<tr><td>3  </td><td>180</td><td>80 </td></tr>\n",
       "</tbody>\n",
       "</table>\n"
      ],
      "text/latex": [
       "\\begin{tabular}{r|lll}\n",
       " id & height & weight\\\\\n",
       "\\hline\n",
       "\t 1   & 160 & 70 \\\\\n",
       "\t 2   & 170 & 60 \\\\\n",
       "\t 3   & 180 & 80 \\\\\n",
       "\\end{tabular}\n"
      ],
      "text/markdown": [
       "\n",
       "| id | height | weight |\n",
       "|---|---|---|\n",
       "| 1   | 160 | 70  |\n",
       "| 2   | 170 | 60  |\n",
       "| 3   | 180 | 80  |\n",
       "\n"
      ],
      "text/plain": [
       "  id height weight\n",
       "1 1  160    70    \n",
       "2 2  170    60    \n",
       "3 3  180    80    "
      ]
     },
     "metadata": {},
     "output_type": "display_data"
    }
   ],
   "source": [
    "merge(height,weight)"
   ]
  },
  {
   "cell_type": "code",
   "execution_count": 72,
   "metadata": {
    "vscode": {
     "languageId": "r"
    }
   },
   "outputs": [
    {
     "ename": "ERROR",
     "evalue": "Error in parse(text = x, srcfile = src): <text>:7:25: 예상하지 못한 입력입니다.\n6: weight    \n7: merge(height, weight)   \\\n                           ^\n",
     "output_type": "error",
     "traceback": [
      "Error in parse(text = x, srcfile = src): <text>:7:25: 예상하지 못한 입력입니다.\n6: weight    \n7: merge(height, weight)   \\\n                           ^\nTraceback:\n"
     ]
    }
   ],
   "source": [
    "height <- data.frame(id = 1:3,\n",
    "height = c(160,170,180))\n",
    "height   \n",
    "weight <- data.frame(id = c(1,2,3),\n",
    "            weight = c(70, 60, 80))\n",
    "weight    \n",
    "merge(height, weight)   \\\n",
    "# Key 를 정의하기 : data 가 적은쪽의 기준으로 merge한다\n",
    "merge(x = height, y = weight, by.x = \"id\", by.y = \"id\")\n",
    "weight"
   ]
  },
  {
   "cell_type": "code",
   "execution_count": 73,
   "metadata": {
    "vscode": {
     "languageId": "r"
    }
   },
   "outputs": [
    {
     "data": {
      "text/html": [
       "<table>\n",
       "<thead><tr><th scope=col>id</th><th scope=col>height</th><th scope=col>weight</th></tr></thead>\n",
       "<tbody>\n",
       "\t<tr><td>1  </td><td>160</td><td>70 </td></tr>\n",
       "\t<tr><td>2  </td><td>170</td><td>60 </td></tr>\n",
       "\t<tr><td>3  </td><td>180</td><td>80 </td></tr>\n",
       "</tbody>\n",
       "</table>\n"
      ],
      "text/latex": [
       "\\begin{tabular}{r|lll}\n",
       " id & height & weight\\\\\n",
       "\\hline\n",
       "\t 1   & 160 & 70 \\\\\n",
       "\t 2   & 170 & 60 \\\\\n",
       "\t 3   & 180 & 80 \\\\\n",
       "\\end{tabular}\n"
      ],
      "text/markdown": [
       "\n",
       "| id | height | weight |\n",
       "|---|---|---|\n",
       "| 1   | 160 | 70  |\n",
       "| 2   | 170 | 60  |\n",
       "| 3   | 180 | 80  |\n",
       "\n"
      ],
      "text/plain": [
       "  id height weight\n",
       "1 1  160    70    \n",
       "2 2  170    60    \n",
       "3 3  180    80    "
      ]
     },
     "metadata": {},
     "output_type": "display_data"
    }
   ],
   "source": [
    "merge(x =height, y = weight, by.x = \"id\",)"
   ]
  },
  {
   "cell_type": "markdown",
   "metadata": {},
   "source": [
    "### 행렬 함수로 행렬(matrix) 만들기"
   ]
  },
  {
   "cell_type": "code",
   "execution_count": 64,
   "metadata": {
    "vscode": {
     "languageId": "r"
    }
   },
   "outputs": [
    {
     "data": {
      "text/html": [
       "<table>\n",
       "<tbody>\n",
       "\t<tr><td> 1</td></tr>\n",
       "\t<tr><td> 2</td></tr>\n",
       "\t<tr><td> 3</td></tr>\n",
       "\t<tr><td> 4</td></tr>\n",
       "\t<tr><td> 5</td></tr>\n",
       "\t<tr><td> 6</td></tr>\n",
       "\t<tr><td> 7</td></tr>\n",
       "\t<tr><td> 8</td></tr>\n",
       "\t<tr><td> 9</td></tr>\n",
       "\t<tr><td>10</td></tr>\n",
       "</tbody>\n",
       "</table>\n"
      ],
      "text/latex": [
       "\\begin{tabular}{l}\n",
       "\t  1\\\\\n",
       "\t  2\\\\\n",
       "\t  3\\\\\n",
       "\t  4\\\\\n",
       "\t  5\\\\\n",
       "\t  6\\\\\n",
       "\t  7\\\\\n",
       "\t  8\\\\\n",
       "\t  9\\\\\n",
       "\t 10\\\\\n",
       "\\end{tabular}\n"
      ],
      "text/markdown": [
       "\n",
       "|  1 |\n",
       "|  2 |\n",
       "|  3 |\n",
       "|  4 |\n",
       "|  5 |\n",
       "|  6 |\n",
       "|  7 |\n",
       "|  8 |\n",
       "|  9 |\n",
       "| 10 |\n",
       "\n"
      ],
      "text/plain": [
       "      [,1]\n",
       " [1,]  1  \n",
       " [2,]  2  \n",
       " [3,]  3  \n",
       " [4,]  4  \n",
       " [5,]  5  \n",
       " [6,]  6  \n",
       " [7,]  7  \n",
       " [8,]  8  \n",
       " [9,]  9  \n",
       "[10,] 10  "
      ]
     },
     "metadata": {},
     "output_type": "display_data"
    },
    {
     "data": {
      "text/html": [
       "<table>\n",
       "<tbody>\n",
       "\t<tr><td>1 </td><td>3 </td><td>5 </td><td>7 </td><td> 9</td></tr>\n",
       "\t<tr><td>2 </td><td>4 </td><td>6 </td><td>8 </td><td>10</td></tr>\n",
       "</tbody>\n",
       "</table>\n"
      ],
      "text/latex": [
       "\\begin{tabular}{lllll}\n",
       "\t 1  & 3  & 5  & 7  &  9\\\\\n",
       "\t 2  & 4  & 6  & 8  & 10\\\\\n",
       "\\end{tabular}\n"
      ],
      "text/markdown": [
       "\n",
       "| 1  | 3  | 5  | 7  |  9 |\n",
       "| 2  | 4  | 6  | 8  | 10 |\n",
       "\n"
      ],
      "text/plain": [
       "     [,1] [,2] [,3] [,4] [,5]\n",
       "[1,] 1    3    5    7     9  \n",
       "[2,] 2    4    6    8    10  "
      ]
     },
     "metadata": {},
     "output_type": "display_data"
    },
    {
     "data": {
      "text/html": [
       "<table>\n",
       "<tbody>\n",
       "\t<tr><td>1</td><td>2</td><td>3</td></tr>\n",
       "\t<tr><td>4</td><td>5</td><td>6</td></tr>\n",
       "\t<tr><td>7</td><td>8</td><td>9</td></tr>\n",
       "</tbody>\n",
       "</table>\n"
      ],
      "text/latex": [
       "\\begin{tabular}{lll}\n",
       "\t 1 & 2 & 3\\\\\n",
       "\t 4 & 5 & 6\\\\\n",
       "\t 7 & 8 & 9\\\\\n",
       "\\end{tabular}\n"
      ],
      "text/markdown": [
       "\n",
       "| 1 | 2 | 3 |\n",
       "| 4 | 5 | 6 |\n",
       "| 7 | 8 | 9 |\n",
       "\n"
      ],
      "text/plain": [
       "     [,1] [,2] [,3]\n",
       "[1,] 1    2    3   \n",
       "[2,] 4    5    6   \n",
       "[3,] 7    8    9   "
      ]
     },
     "metadata": {},
     "output_type": "display_data"
    }
   ],
   "source": [
    "matrix(1:10)\n",
    "matrix(1:10, nrow = 2)\n",
    "t(matrix(1:9, nrow = 3, ncol=3))"
   ]
  },
  {
   "cell_type": "markdown",
   "metadata": {},
   "source": [
    "## List \n",
    "- 성격이 다른 자료구조로 생성이 가능하다.\n",
    "- Key 와 value 값으로 \n"
   ]
  },
  {
   "cell_type": "code",
   "execution_count": 71,
   "metadata": {
    "vscode": {
     "languageId": "r"
    }
   },
   "outputs": [
    {
     "data": {
      "text/html": [
       "<dl>\n",
       "\t<dt>$name</dt>\n",
       "\t\t<dd>'홍길동'</dd>\n",
       "\t<dt>$address</dt>\n",
       "\t\t<dd>'서울'</dd>\n",
       "\t<dt>$tel</dt>\n",
       "\t\t<dd>'010-1111-1111'</dd>\n",
       "\t<dt>$pay</dt>\n",
       "\t\t<dd>300</dd>\n",
       "</dl>\n"
      ],
      "text/latex": [
       "\\begin{description}\n",
       "\\item[\\$name] '홍길동'\n",
       "\\item[\\$address] '서울'\n",
       "\\item[\\$tel] '010-1111-1111'\n",
       "\\item[\\$pay] 300\n",
       "\\end{description}\n"
      ],
      "text/markdown": [
       "$name\n",
       ":   '홍길동'\n",
       "$address\n",
       ":   '서울'\n",
       "$tel\n",
       ":   '010-1111-1111'\n",
       "$pay\n",
       ":   300\n",
       "\n",
       "\n"
      ],
      "text/plain": [
       "$name\n",
       "[1] \"홍길동\"\n",
       "\n",
       "$address\n",
       "[1] \"서울\"\n",
       "\n",
       "$tel\n",
       "[1] \"010-1111-1111\"\n",
       "\n",
       "$pay\n",
       "[1] 300\n"
      ]
     },
     "metadata": {},
     "output_type": "display_data"
    }
   ],
   "source": [
    "# dataframe 한 줄\n",
    "member <- list(name=\"홍길동\", address=\"서울\", tel=\"010-1111-1111\", pay=300)\n",
    "member"
   ]
  },
  {
   "cell_type": "code",
   "execution_count": 72,
   "metadata": {
    "vscode": {
     "languageId": "r"
    }
   },
   "outputs": [
    {
     "data": {
      "text/html": [
       "'홍길동'"
      ],
      "text/latex": [
       "'홍길동'"
      ],
      "text/markdown": [
       "'홍길동'"
      ],
      "text/plain": [
       "[1] \"홍길동\""
      ]
     },
     "metadata": {},
     "output_type": "display_data"
    }
   ],
   "source": [
    "member$name"
   ]
  },
  {
   "cell_type": "code",
   "execution_count": 74,
   "metadata": {
    "vscode": {
     "languageId": "r"
    }
   },
   "outputs": [
    {
     "data": {
      "text/html": [
       "<dl>\n",
       "\t<dt>$name</dt>\n",
       "\t\t<dd>'홍길동'</dd>\n",
       "\t<dt>$address</dt>\n",
       "\t\t<dd>'서울'</dd>\n",
       "\t<dt>$tel</dt>\n",
       "\t\t<dd>'010-1111-1111'</dd>\n",
       "\t<dt>$pay</dt>\n",
       "\t\t<dd>300</dd>\n",
       "\t<dt>$birth</dt>\n",
       "\t\t<dd>1984</dd>\n",
       "</dl>\n"
      ],
      "text/latex": [
       "\\begin{description}\n",
       "\\item[\\$name] '홍길동'\n",
       "\\item[\\$address] '서울'\n",
       "\\item[\\$tel] '010-1111-1111'\n",
       "\\item[\\$pay] 300\n",
       "\\item[\\$birth] 1984\n",
       "\\end{description}\n"
      ],
      "text/markdown": [
       "$name\n",
       ":   '홍길동'\n",
       "$address\n",
       ":   '서울'\n",
       "$tel\n",
       ":   '010-1111-1111'\n",
       "$pay\n",
       ":   300\n",
       "$birth\n",
       ":   1984\n",
       "\n",
       "\n"
      ],
      "text/plain": [
       "$name\n",
       "[1] \"홍길동\"\n",
       "\n",
       "$address\n",
       "[1] \"서울\"\n",
       "\n",
       "$tel\n",
       "[1] \"010-1111-1111\"\n",
       "\n",
       "$pay\n",
       "[1] 300\n",
       "\n",
       "$birth\n",
       "[1] 1984\n"
      ]
     },
     "metadata": {},
     "output_type": "display_data"
    }
   ],
   "source": [
    "member$birth <- 2000-11-05\n",
    "member"
   ]
  },
  {
   "cell_type": "markdown",
   "metadata": {},
   "source": [
    "# 문자열 처리\n",
    "수집한 데이터의 필요한 문자열을 자르고, 교체하고, 추출하는 작업\n",
    "\n",
    "## stringr package사용\n",
    "-str_length() : 문자열 길이   \n",
    "-str_c() : 문자열 연결   \n",
    "-str_sub() : 범위에 해당하는 문자열 생성   \n",
    "-str_split() : 구분자를 기준으로 문자열을 분리하여 부분 생성   \n",
    "-str_replace() : 기존 문자열을 특정 문자열로 변환    \n",
    "-str_extract() : 문자열에서 특정 문자열 패턴의 첫번째 문자열 추출   \n",
    "-str_extract_all() :    다추출    \n",
    "-str_locate() : 문자열에서 특정 문자열 패턴의 첫번째 위치 추출   \n",
    "-str_locate_all() :    다 가져오기"
   ]
  },
  {
   "cell_type": "code",
   "execution_count": 2,
   "metadata": {
    "vscode": {
     "languageId": "r"
    }
   },
   "outputs": [],
   "source": [
    "# 패키지 불러오기\n",
    "# library 는 노트당 한번만 하면된다\n",
    "library(stringr)"
   ]
  },
  {
   "cell_type": "code",
   "execution_count": 3,
   "metadata": {
    "vscode": {
     "languageId": "r"
    }
   },
   "outputs": [],
   "source": [
    "string <- \"hongkildong105youbee1002kwanwoo25장비2005\"   "
   ]
  },
  {
   "cell_type": "code",
   "execution_count": 4,
   "metadata": {
    "vscode": {
     "languageId": "r"
    }
   },
   "outputs": [
    {
     "data": {
      "text/html": [
       "<ol>\n",
       "\t<li><ol class=list-inline>\n",
       "\t<li>'hon'</li>\n",
       "\t<li>'gki'</li>\n",
       "\t<li>'ldo'</li>\n",
       "\t<li>'you'</li>\n",
       "\t<li>'bee'</li>\n",
       "\t<li>'kwa'</li>\n",
       "\t<li>'nwo'</li>\n",
       "</ol>\n",
       "</li>\n",
       "</ol>\n"
      ],
      "text/latex": [
       "\\begin{enumerate}\n",
       "\\item \\begin{enumerate*}\n",
       "\\item 'hon'\n",
       "\\item 'gki'\n",
       "\\item 'ldo'\n",
       "\\item 'you'\n",
       "\\item 'bee'\n",
       "\\item 'kwa'\n",
       "\\item 'nwo'\n",
       "\\end{enumerate*}\n",
       "\n",
       "\\end{enumerate}\n"
      ],
      "text/markdown": [
       "1. 1. 'hon'\n",
       "2. 'gki'\n",
       "3. 'ldo'\n",
       "4. 'you'\n",
       "5. 'bee'\n",
       "6. 'kwa'\n",
       "7. 'nwo'\n",
       "\n",
       "\n",
       "\n",
       "\n",
       "\n"
      ],
      "text/plain": [
       "[[1]]\n",
       "[1] \"hon\" \"gki\" \"ldo\" \"you\" \"bee\" \"kwa\" \"nwo\"\n"
      ]
     },
     "metadata": {},
     "output_type": "display_data"
    }
   ],
   "source": [
    "# a ~ z 까지의 영문자가 연속으로 3개 발견된문자열을 추출\n",
    "str_extract_all(string, \"[a-z]{3}\")    "
   ]
  },
  {
   "cell_type": "code",
   "execution_count": 5,
   "metadata": {
    "vscode": {
     "languageId": "r"
    }
   },
   "outputs": [
    {
     "data": {
      "text/html": [
       "<ol>\n",
       "\t<li><ol class=list-inline>\n",
       "\t<li>'hongk'</li>\n",
       "\t<li>'ildon'</li>\n",
       "\t<li>'yoube'</li>\n",
       "\t<li>'kwanw'</li>\n",
       "</ol>\n",
       "</li>\n",
       "</ol>\n"
      ],
      "text/latex": [
       "\\begin{enumerate}\n",
       "\\item \\begin{enumerate*}\n",
       "\\item 'hongk'\n",
       "\\item 'ildon'\n",
       "\\item 'yoube'\n",
       "\\item 'kwanw'\n",
       "\\end{enumerate*}\n",
       "\n",
       "\\end{enumerate}\n"
      ],
      "text/markdown": [
       "1. 1. 'hongk'\n",
       "2. 'ildon'\n",
       "3. 'yoube'\n",
       "4. 'kwanw'\n",
       "\n",
       "\n",
       "\n",
       "\n",
       "\n"
      ],
      "text/plain": [
       "[[1]]\n",
       "[1] \"hongk\" \"ildon\" \"yoube\" \"kwanw\"\n"
      ]
     },
     "metadata": {},
     "output_type": "display_data"
    }
   ],
   "source": [
    "# a ~ z 까지의 영문자가 연속으로 3개 ~ 5개 발견된 문자열 추출\n",
    "str_extract_all(string, \"[a-z]{3,5}\")"
   ]
  },
  {
   "cell_type": "code",
   "execution_count": 8,
   "metadata": {
    "vscode": {
     "languageId": "r"
    }
   },
   "outputs": [
    {
     "data": {
      "text/html": [
       "<ol>\n",
       "\t<li><ol class=list-inline>\n",
       "\t<li>'hongkildong'</li>\n",
       "\t<li>'youbee'</li>\n",
       "\t<li>'kwanwoo'</li>\n",
       "</ol>\n",
       "</li>\n",
       "</ol>\n"
      ],
      "text/latex": [
       "\\begin{enumerate}\n",
       "\\item \\begin{enumerate*}\n",
       "\\item 'hongkildong'\n",
       "\\item 'youbee'\n",
       "\\item 'kwanwoo'\n",
       "\\end{enumerate*}\n",
       "\n",
       "\\end{enumerate}\n"
      ],
      "text/markdown": [
       "1. 1. 'hongkildong'\n",
       "2. 'youbee'\n",
       "3. 'kwanwoo'\n",
       "\n",
       "\n",
       "\n",
       "\n",
       "\n"
      ],
      "text/plain": [
       "[[1]]\n",
       "[1] \"hongkildong\" \"youbee\"      \"kwanwoo\"    \n"
      ]
     },
     "metadata": {},
     "output_type": "display_data"
    },
    {
     "data": {
      "text/html": [
       "'hongkildong'"
      ],
      "text/latex": [
       "'hongkildong'"
      ],
      "text/markdown": [
       "'hongkildong'"
      ],
      "text/plain": [
       "[1] \"hongkildong\""
      ]
     },
     "metadata": {},
     "output_type": "display_data"
    }
   ],
   "source": [
    "# 영문만 추출하기\n",
    "aaa <- str_extract_all(string, \"[a-z]{1,}\")\n",
    "aaa\n",
    "unlist(aaa)[1]\n"
   ]
  },
  {
   "cell_type": "code",
   "execution_count": 7,
   "metadata": {
    "vscode": {
     "languageId": "r"
    }
   },
   "outputs": [
    {
     "data": {
      "text/html": [
       "<ol>\n",
       "\t<li><ol class=list-inline>\n",
       "\t<li>'105'</li>\n",
       "\t<li>'1002'</li>\n",
       "\t<li>'25'</li>\n",
       "\t<li>'2005'</li>\n",
       "</ol>\n",
       "</li>\n",
       "</ol>\n"
      ],
      "text/latex": [
       "\\begin{enumerate}\n",
       "\\item \\begin{enumerate*}\n",
       "\\item '105'\n",
       "\\item '1002'\n",
       "\\item '25'\n",
       "\\item '2005'\n",
       "\\end{enumerate*}\n",
       "\n",
       "\\end{enumerate}\n"
      ],
      "text/markdown": [
       "1. 1. '105'\n",
       "2. '1002'\n",
       "3. '25'\n",
       "4. '2005'\n",
       "\n",
       "\n",
       "\n",
       "\n",
       "\n"
      ],
      "text/plain": [
       "[[1]]\n",
       "[1] \"105\"  \"1002\" \"25\"   \"2005\"\n"
      ]
     },
     "metadata": {},
     "output_type": "display_data"
    },
    {
     "data": {
      "text/html": [
       "<ol class=list-inline>\n",
       "\t<li>105</li>\n",
       "\t<li>1002</li>\n",
       "\t<li>25</li>\n",
       "\t<li>2005</li>\n",
       "</ol>\n"
      ],
      "text/latex": [
       "\\begin{enumerate*}\n",
       "\\item 105\n",
       "\\item 1002\n",
       "\\item 25\n",
       "\\item 2005\n",
       "\\end{enumerate*}\n"
      ],
      "text/markdown": [
       "1. 105\n",
       "2. 1002\n",
       "3. 25\n",
       "4. 2005\n",
       "\n",
       "\n"
      ],
      "text/plain": [
       "[1]  105 1002   25 2005"
      ]
     },
     "metadata": {},
     "output_type": "display_data"
    }
   ],
   "source": [
    "#숫자만 추출\n",
    "ddd <- str_extract_all(string, \"[0-9]{1,}\")\n",
    "ddd\n",
    "\n",
    "as.numeric(unlist(ddd))"
   ]
  },
  {
   "cell_type": "code",
   "execution_count": 6,
   "metadata": {
    "vscode": {
     "languageId": "r"
    }
   },
   "outputs": [
    {
     "data": {
      "text/html": [
       "'장비'"
      ],
      "text/latex": [
       "'장비'"
      ],
      "text/markdown": [
       "'장비'"
      ],
      "text/plain": [
       "[1] \"장비\""
      ]
     },
     "metadata": {},
     "output_type": "display_data"
    },
    {
     "data": {
      "text/html": [
       "'장비'"
      ],
      "text/latex": [
       "'장비'"
      ],
      "text/markdown": [
       "'장비'"
      ],
      "text/plain": [
       "[1] \"장비\""
      ]
     },
     "metadata": {},
     "output_type": "display_data"
    },
    {
     "data": {
      "text/html": [
       "'character'"
      ],
      "text/latex": [
       "'character'"
      ],
      "text/markdown": [
       "'character'"
      ],
      "text/plain": [
       "[1] \"character\""
      ]
     },
     "metadata": {},
     "output_type": "display_data"
    }
   ],
   "source": [
    "# 한글만 추출\n",
    "ccc <- str_extract(string, \"[가-힣]{1,}\")\n",
    "ccc \n",
    "unlist(ccc)\n",
    "class(unlist(ccc)) "
   ]
  },
  {
   "cell_type": "code",
   "execution_count": 9,
   "metadata": {
    "vscode": {
     "languageId": "r"
    }
   },
   "outputs": [
    {
     "data": {
      "text/html": [
       "<ol>\n",
       "\t<li><ol class=list-inline>\n",
       "\t<li>'105'</li>\n",
       "\t<li>'1002'</li>\n",
       "\t<li>'25장비2005'</li>\n",
       "</ol>\n",
       "</li>\n",
       "</ol>\n"
      ],
      "text/latex": [
       "\\begin{enumerate}\n",
       "\\item \\begin{enumerate*}\n",
       "\\item '105'\n",
       "\\item '1002'\n",
       "\\item '25장비2005'\n",
       "\\end{enumerate*}\n",
       "\n",
       "\\end{enumerate}\n"
      ],
      "text/markdown": [
       "1. 1. '105'\n",
       "2. '1002'\n",
       "3. '25장비2005'\n",
       "\n",
       "\n",
       "\n",
       "\n",
       "\n"
      ],
      "text/plain": [
       "[[1]]\n",
       "[1] \"105\"        \"1002\"       \"25장비2005\"\n"
      ]
     },
     "metadata": {},
     "output_type": "display_data"
    }
   ],
   "source": [
    "# 영문자를 제외한 문자 출력하기\n",
    "str_extract_all(string, \"[^a-z]{1,}\")"
   ]
  },
  {
   "cell_type": "code",
   "execution_count": 11,
   "metadata": {
    "vscode": {
     "languageId": "r"
    }
   },
   "outputs": [
    {
     "data": {
      "text/html": [
       "39"
      ],
      "text/latex": [
       "39"
      ],
      "text/markdown": [
       "39"
      ],
      "text/plain": [
       "[1] 39"
      ]
     },
     "metadata": {},
     "output_type": "display_data"
    }
   ],
   "source": [
    "# 문자열 길이구하기\n",
    "str_length(string)"
   ]
  },
  {
   "cell_type": "code",
   "execution_count": 12,
   "metadata": {
    "vscode": {
     "languageId": "r"
    }
   },
   "outputs": [
    {
     "data": {
      "text/html": [
       "<table>\n",
       "<thead><tr><th scope=col>start</th><th scope=col>end</th></tr></thead>\n",
       "<tbody>\n",
       "\t<tr><td>34</td><td>35</td></tr>\n",
       "</tbody>\n",
       "</table>\n"
      ],
      "text/latex": [
       "\\begin{tabular}{ll}\n",
       " start & end\\\\\n",
       "\\hline\n",
       "\t 34 & 35\\\\\n",
       "\\end{tabular}\n"
      ],
      "text/markdown": [
       "\n",
       "| start | end |\n",
       "|---|---|\n",
       "| 34 | 35 |\n",
       "\n"
      ],
      "text/plain": [
       "     start end\n",
       "[1,] 34    35 "
      ]
     },
     "metadata": {},
     "output_type": "display_data"
    }
   ],
   "source": [
    "#문자열 위치 구하기\n",
    "str_locate(string, \"장비\")"
   ]
  },
  {
   "cell_type": "code",
   "execution_count": 16,
   "metadata": {
    "vscode": {
     "languageId": "r"
    }
   },
   "outputs": [
    {
     "data": {
      "text/html": [
       "'hongkildong105youbee1002kwanwoo25'"
      ],
      "text/latex": [
       "'hongkildong105youbee1002kwanwoo25'"
      ],
      "text/markdown": [
       "'hongkildong105youbee1002kwanwoo25'"
      ],
      "text/plain": [
       "[1] \"hongkildong105youbee1002kwanwoo25\""
      ]
     },
     "metadata": {},
     "output_type": "display_data"
    },
    {
     "data": {
      "text/html": [
       "'hongkildong105youbee1002kwanwoo25'"
      ],
      "text/latex": [
       "'hongkildong105youbee1002kwanwoo25'"
      ],
      "text/markdown": [
       "'hongkildong105youbee1002kwanwoo25'"
      ],
      "text/plain": [
       "[1] \"hongkildong105youbee1002kwanwoo25\""
      ]
     },
     "metadata": {},
     "output_type": "display_data"
    }
   ],
   "source": [
    "# 부분 문자열 추출\n",
    "#  1번째부터 33까지\n",
    "str_sub(string, 1, 33)\n",
    "# 특정 부분 앞부분만 보고싶다\n",
    "str_sub(string, 1, str_locate(string,\"장비\")[1]-1)"
   ]
  },
  {
   "cell_type": "code",
   "execution_count": 17,
   "metadata": {
    "vscode": {
     "languageId": "r"
    }
   },
   "outputs": [
    {
     "data": {
      "text/html": [
       "'HONGKILDONG105YOUBEE1002KWANWOO25장비2005'"
      ],
      "text/latex": [
       "'HONGKILDONG105YOUBEE1002KWANWOO25장비2005'"
      ],
      "text/markdown": [
       "'HONGKILDONG105YOUBEE1002KWANWOO25장비2005'"
      ],
      "text/plain": [
       "[1] \"HONGKILDONG105YOUBEE1002KWANWOO25장비2005\""
      ]
     },
     "metadata": {},
     "output_type": "display_data"
    }
   ],
   "source": [
    "# 대문자 바꾸기\n",
    "str_to_upper(string)"
   ]
  },
  {
   "cell_type": "code",
   "execution_count": 18,
   "metadata": {
    "vscode": {
     "languageId": "r"
    }
   },
   "outputs": [
    {
     "data": {
      "text/html": [
       "'홍길동35,유비45,관우25,장비20'"
      ],
      "text/latex": [
       "'홍길동35,유비45,관우25,장비20'"
      ],
      "text/markdown": [
       "'홍길동35,유비45,관우25,장비20'"
      ],
      "text/plain": [
       "[1] \"홍길동35,유비45,관우25,장비20\""
      ]
     },
     "metadata": {},
     "output_type": "display_data"
    }
   ],
   "source": [
    "# 문자열 교체하기\n",
    "string <- str_replace(string, \"hongkildong105\", \"홍길동35,\")\n",
    "string <- str_replace(string, \"youbee1002\",\"유비45,\")\n",
    "string <- str_replace(string, \"kwanwoo25\",\"관우25,\")\n",
    "string <- str_replace(string, \"2005\", \"20\")\n",
    "string"
   ]
  },
  {
   "cell_type": "code",
   "execution_count": 76,
   "metadata": {
    "vscode": {
     "languageId": "r"
    }
   },
   "outputs": [
    {
     "data": {
      "text/html": [
       "'홍길동35,유비45,관우25,장비20'"
      ],
      "text/latex": [
       "'홍길동35,유비45,관우25,장비20'"
      ],
      "text/markdown": [
       "'홍길동35,유비45,관우25,장비20'"
      ],
      "text/plain": [
       "[1] \"홍길동35,유비45,관우25,장비20\""
      ]
     },
     "metadata": {},
     "output_type": "display_data"
    },
    {
     "data": {
      "text/html": [
       "<ol class=list-inline>\n",
       "\t<li>'홍길동35'</li>\n",
       "\t<li>'유비45'</li>\n",
       "\t<li>'관우25'</li>\n",
       "\t<li>'장비20'</li>\n",
       "</ol>\n"
      ],
      "text/latex": [
       "\\begin{enumerate*}\n",
       "\\item '홍길동35'\n",
       "\\item '유비45'\n",
       "\\item '관우25'\n",
       "\\item '장비20'\n",
       "\\end{enumerate*}\n"
      ],
      "text/markdown": [
       "1. '홍길동35'\n",
       "2. '유비45'\n",
       "3. '관우25'\n",
       "4. '장비20'\n",
       "\n",
       "\n"
      ],
      "text/plain": [
       "[1] \"홍길동35\" \"유비45\"   \"관우25\"   \"장비20\"  "
      ]
     },
     "metadata": {},
     "output_type": "display_data"
    }
   ],
   "source": [
    "# 문자열 분리하기\n",
    "unlist(str_split(string,\",\"))"
   ]
  },
  {
   "cell_type": "code",
   "execution_count": 32,
   "metadata": {
    "vscode": {
     "languageId": "r"
    }
   },
   "outputs": [
    {
     "data": {
      "text/html": [],
      "text/latex": [],
      "text/markdown": [],
      "text/plain": [
       "numeric(0)"
      ]
     },
     "metadata": {},
     "output_type": "display_data"
    },
    {
     "data": {
      "text/html": [
       "123456789"
      ],
      "text/latex": [
       "123456789"
      ],
      "text/markdown": [
       "123456789"
      ],
      "text/plain": [
       "[1] 123456789"
      ]
     },
     "metadata": {},
     "output_type": "display_data"
    },
    {
     "data": {
      "text/html": [
       "123456789"
      ],
      "text/latex": [
       "123456789"
      ],
      "text/markdown": [
       "123456789"
      ],
      "text/plain": [
       "[1] 123456789"
      ]
     },
     "metadata": {},
     "output_type": "display_data"
    }
   ],
   "source": [
    "# 천단위 쉼표가 들어간 문자열을 숫자로 변경하기\n",
    "price <- \"123,456,789\"\n",
    "as.numeric()\n",
    "\n",
    "as.numeric(unlist(str_replace_all(price, \",\",\"\")))\n",
    "as.numeric(unlist(str_remove_all(price, \",\")))"
   ]
  },
  {
   "cell_type": "code",
   "execution_count": 44,
   "metadata": {
    "vscode": {
     "languageId": "r"
    }
   },
   "outputs": [
    {
     "data": {
      "text/html": [
       "<ol class=list-inline>\n",
       "\t<li>1</li>\n",
       "\t<li>2</li>\n",
       "\t<li>&lt;NA&gt;</li>\n",
       "\t<li>4</li>\n",
       "</ol>\n"
      ],
      "text/latex": [
       "\\begin{enumerate*}\n",
       "\\item 1\n",
       "\\item 2\n",
       "\\item <NA>\n",
       "\\item 4\n",
       "\\end{enumerate*}\n"
      ],
      "text/markdown": [
       "1. 1\n",
       "2. 2\n",
       "3. &lt;NA&gt;\n",
       "4. 4\n",
       "\n",
       "\n"
      ],
      "text/plain": [
       "[1]  1  2 NA  4"
      ]
     },
     "metadata": {},
     "output_type": "display_data"
    },
    {
     "data": {
      "text/html": [
       "<ol class=list-inline>\n",
       "\t<li>'1'</li>\n",
       "\t<li>'2'</li>\n",
       "\t<li>'NA'</li>\n",
       "\t<li>'4'</li>\n",
       "</ol>\n"
      ],
      "text/latex": [
       "\\begin{enumerate*}\n",
       "\\item '1'\n",
       "\\item '2'\n",
       "\\item 'NA'\n",
       "\\item '4'\n",
       "\\end{enumerate*}\n"
      ],
      "text/markdown": [
       "1. '1'\n",
       "2. '2'\n",
       "3. 'NA'\n",
       "4. '4'\n",
       "\n",
       "\n"
      ],
      "text/plain": [
       "[1] \"1\"  \"2\"  \"NA\" \"4\" "
      ]
     },
     "metadata": {},
     "output_type": "display_data"
    },
    {
     "data": {
      "text/html": [
       "<ol class=list-inline>\n",
       "\t<li>'1'</li>\n",
       "\t<li>'2'</li>\n",
       "\t<li>'3'</li>\n",
       "\t<li>'4'</li>\n",
       "</ol>\n"
      ],
      "text/latex": [
       "\\begin{enumerate*}\n",
       "\\item '1'\n",
       "\\item '2'\n",
       "\\item '3'\n",
       "\\item '4'\n",
       "\\end{enumerate*}\n"
      ],
      "text/markdown": [
       "1. '1'\n",
       "2. '2'\n",
       "3. '3'\n",
       "4. '4'\n",
       "\n",
       "\n"
      ],
      "text/plain": [
       "[1] \"1\" \"2\" \"3\" \"4\""
      ]
     },
     "metadata": {},
     "output_type": "display_data"
    },
    {
     "data": {
      "text/html": [
       "'character'"
      ],
      "text/latex": [
       "'character'"
      ],
      "text/markdown": [
       "'character'"
      ],
      "text/plain": [
       "[1] \"character\""
      ]
     },
     "metadata": {},
     "output_type": "display_data"
    }
   ],
   "source": [
    "# Na 를 변경하기\n",
    "temp <- c(1,2,NA, 4)\n",
    "temp\n",
    "str_replace_na(temp)\n",
    "str_replace_all(str_replace_na(temp), 'NA', '3')\n",
    "class(str_replace_na(temp))"
   ]
  },
  {
   "cell_type": "code",
   "execution_count": 48,
   "metadata": {
    "vscode": {
     "languageId": "r"
    }
   },
   "outputs": [
    {
     "data": {
      "text/html": [
       "<ol class=list-inline>\n",
       "\t<li>1</li>\n",
       "\t<li>2</li>\n",
       "\t<li>&lt;NA&gt;</li>\n",
       "\t<li>4</li>\n",
       "</ol>\n"
      ],
      "text/latex": [
       "\\begin{enumerate*}\n",
       "\\item 1\n",
       "\\item 2\n",
       "\\item <NA>\n",
       "\\item 4\n",
       "\\end{enumerate*}\n"
      ],
      "text/markdown": [
       "1. 1\n",
       "2. 2\n",
       "3. &lt;NA&gt;\n",
       "4. 4\n",
       "\n",
       "\n"
      ],
      "text/plain": [
       "[1]  1  2 NA  4"
      ]
     },
     "metadata": {},
     "output_type": "display_data"
    },
    {
     "data": {
      "text/html": [
       "<ol class=list-inline>\n",
       "\t<li>1</li>\n",
       "\t<li>2</li>\n",
       "\t<li>4</li>\n",
       "</ol>\n"
      ],
      "text/latex": [
       "\\begin{enumerate*}\n",
       "\\item 1\n",
       "\\item 2\n",
       "\\item 4\n",
       "\\end{enumerate*}\n"
      ],
      "text/markdown": [
       "1. 1\n",
       "2. 2\n",
       "3. 4\n",
       "\n",
       "\n"
      ],
      "text/plain": [
       "[1] 1 2 4\n",
       "attr(,\"na.action\")\n",
       "[1] 3\n",
       "attr(,\"class\")\n",
       "[1] \"omit\""
      ]
     },
     "metadata": {},
     "output_type": "display_data"
    }
   ],
   "source": [
    "#NA를 제거하기\n",
    "temp <- c(1,2,NA, 4)\n",
    "temp\n",
    "na.omit(temp)"
   ]
  }
 ],
 "metadata": {
  "kernelspec": {
   "display_name": "R",
   "language": "R",
   "name": "ir"
  },
  "language_info": {
   "codemirror_mode": "r",
   "file_extension": ".r",
   "mimetype": "text/x-r-source",
   "name": "R",
   "pygments_lexer": "r",
   "version": "3.6.1"
  }
 },
 "nbformat": 4,
 "nbformat_minor": 2
}
