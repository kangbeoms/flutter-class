{
 "cells": [
  {
   "cell_type": "code",
   "execution_count": 13,
   "metadata": {
    "vscode": {
     "languageId": "r"
    }
   },
   "outputs": [
    {
     "data": {
      "text/html": [
       "'ko_KR.UTF-8/ko_KR.UTF-8/ko_KR.UTF-8/C/ko_KR.UTF-8/C'"
      ],
      "text/latex": [
       "'ko\\_KR.UTF-8/ko\\_KR.UTF-8/ko\\_KR.UTF-8/C/ko\\_KR.UTF-8/C'"
      ],
      "text/markdown": [
       "'ko_KR.UTF-8/ko_KR.UTF-8/ko_KR.UTF-8/C/ko_KR.UTF-8/C'"
      ],
      "text/plain": [
       "[1] \"ko_KR.UTF-8/ko_KR.UTF-8/ko_KR.UTF-8/C/ko_KR.UTF-8/C\""
      ]
     },
     "metadata": {},
     "output_type": "display_data"
    }
   ],
   "source": [
    "options(warn = -1)\n",
    "options(repr.plot.width=15, repr.plot.height=9) \n",
    "Sys.setlocale(category = \"LC_ALL\", locale = \"ko_KR.UTF-8\")"
   ]
  },
  {
   "cell_type": "code",
   "execution_count": 14,
   "metadata": {
    "vscode": {
     "languageId": "r"
    }
   },
   "outputs": [
    {
     "name": "stdout",
     "output_type": "stream",
     "text": [
      "[1] \"x가 작다\"\n"
     ]
    }
   ],
   "source": [
    "x <- 10\n",
    "y <- runif(1) * 100\n",
    "\n",
    "if(x>y) {\n",
    "            print(\"x가 크다\")\n",
    "}else if(x<y) {\n",
    " print(\"x가 작다\")\n",
    "}else {\n",
    " print(\"x,y가 동일하다\")\n",
    "}"
   ]
  },
  {
   "cell_type": "code",
   "execution_count": 15,
   "metadata": {
    "vscode": {
     "languageId": "r"
    }
   },
   "outputs": [
    {
     "name": "stdout",
     "output_type": "stream",
     "text": [
      "123는 홀수 입니다."
     ]
    }
   ],
   "source": [
    "# 홀수 짝수 구분\n",
    "a <- c(1,2,3) \n",
    "\n",
    "# 8은 짝수입니다.\n",
    "\n",
    "if(a %%2 ==0) {\n",
    "cat(a,\"는 짝수 입니다.\", sep=\"\")\n",
    "}else {\n",
    "cat(a,\"는 홀수 입니다.\", sep=\"\")\n",
    "}"
   ]
  },
  {
   "cell_type": "code",
   "execution_count": 16,
   "metadata": {
    "vscode": {
     "languageId": "r"
    }
   },
   "outputs": [
    {
     "data": {
      "text/html": [
       "<ol class=list-inline>\n",
       "\t<li>'홀수'</li>\n",
       "\t<li>'짝수'</li>\n",
       "\t<li>'홀수'</li>\n",
       "</ol>\n"
      ],
      "text/latex": [
       "\\begin{enumerate*}\n",
       "\\item '홀수'\n",
       "\\item '짝수'\n",
       "\\item '홀수'\n",
       "\\end{enumerate*}\n"
      ],
      "text/markdown": [
       "1. '홀수'\n",
       "2. '짝수'\n",
       "3. '홀수'\n",
       "\n",
       "\n"
      ],
      "text/plain": [
       "[1] \"홀수\" \"짝수\" \"홀수\""
      ]
     },
     "metadata": {},
     "output_type": "display_data"
    }
   ],
   "source": [
    "# 홀짝수 구분\n",
    "# 삼항 연산자는 벡터를 알고, if 는 벡터를 모른다\n",
    "a <- c(1,2,3)\n",
    "# 삼항 연산자 모양, 조건, 진실,  거짓\n",
    "ifelse(a %% 2 == 0, \"짝수\", \"홀수\")\n"
   ]
  },
  {
   "cell_type": "code",
   "execution_count": 17,
   "metadata": {
    "vscode": {
     "languageId": "r"
    }
   },
   "outputs": [
    {
     "data": {
      "text/html": [
       "<ol class=list-inline>\n",
       "\t<li>'1 홀수'</li>\n",
       "\t<li>'2 짝수'</li>\n",
       "\t<li>'3 홀수'</li>\n",
       "</ol>\n"
      ],
      "text/latex": [
       "\\begin{enumerate*}\n",
       "\\item '1 홀수'\n",
       "\\item '2 짝수'\n",
       "\\item '3 홀수'\n",
       "\\end{enumerate*}\n"
      ],
      "text/markdown": [
       "1. '1 홀수'\n",
       "2. '2 짝수'\n",
       "3. '3 홀수'\n",
       "\n",
       "\n"
      ],
      "text/plain": [
       "[1] \"1 홀수\" \"2 짝수\" \"3 홀수\""
      ]
     },
     "metadata": {},
     "output_type": "display_data"
    }
   ],
   "source": [
    "# 홀짝수 구분\n",
    "a <- c(1,2,3)\n",
    "ifelse(a %% 2 == 0, paste(a,\"짝수\"),paste(a,\"홀수\"))\n"
   ]
  },
  {
   "cell_type": "markdown",
   "metadata": {},
   "source": [
    "# readline"
   ]
  },
  {
   "cell_type": "code",
   "execution_count": 18,
   "metadata": {
    "vscode": {
     "languageId": "r"
    }
   },
   "outputs": [
    {
     "data": {
      "text/html": [
       "4"
      ],
      "text/latex": [
       "4"
      ],
      "text/markdown": [
       "4"
      ],
      "text/plain": [
       "[1] 4"
      ]
     },
     "metadata": {},
     "output_type": "display_data"
    }
   ],
   "source": [
    "num1 <- as.integer(readline(\"숫자를 입력하세요\"))\n",
    "num1"
   ]
  },
  {
   "cell_type": "code",
   "execution_count": 22,
   "metadata": {
    "vscode": {
     "languageId": "r"
    }
   },
   "outputs": [
    {
     "data": {
      "text/html": [
       "7"
      ],
      "text/latex": [
       "7"
      ],
      "text/markdown": [
       "7"
      ],
      "text/plain": [
       "[1] 7"
      ]
     },
     "metadata": {},
     "output_type": "display_data"
    },
    {
     "name": "stdout",
     "output_type": "stream",
     "text": [
      "입력하신 숫자는7이고 홀수 입니다"
     ]
    }
   ],
   "source": [
    "# 사용자로 부터 data 를 입력받아 입력한 숫자가 홀수인지 짝수인지 판단하여 출력하기\n",
    "# Ex 결과물 ) 입력하신 숫자는 12 이고 짝수입니다.\n",
    " num <- as.integer(readline(\"숫자 입력\"))\n",
    " num\n",
    " if (num %% 2 == 0) {\n",
    "    cat(\"입력하신 숫자는 \",num,\"이고 짝수 입니다\", sep =\"\")\n",
    " }else {\n",
    "    cat(\"입력하신 숫자는\",num,\"이고 홀수 입니다\", sep=\"\")\n",
    " }"
   ]
  },
  {
   "cell_type": "code",
   "execution_count": 38,
   "metadata": {
    "vscode": {
     "languageId": "r"
    }
   },
   "outputs": [
    {
     "data": {
      "text/html": [
       "<table>\n",
       "<thead><tr><th scope=col>q1</th><th scope=col>q2</th><th scope=col>q3</th><th scope=col>q4</th><th scope=col>q5</th></tr></thead>\n",
       "<tbody>\n",
       "\t<tr><td>2</td><td>4</td><td>4</td><td>2</td><td>2</td></tr>\n",
       "\t<tr><td>1</td><td>2</td><td>2</td><td>2</td><td>2</td></tr>\n",
       "\t<tr><td>2</td><td>3</td><td>4</td><td>3</td><td>3</td></tr>\n",
       "\t<tr><td>3</td><td>5</td><td>5</td><td>3</td><td>3</td></tr>\n",
       "\t<tr><td>3</td><td>2</td><td>4</td><td>4</td><td>4</td></tr>\n",
       "\t<tr><td>4</td><td>3</td><td>3</td><td>4</td><td>2</td></tr>\n",
       "\t<tr><td>3</td><td>4</td><td>4</td><td>2</td><td>2</td></tr>\n",
       "\t<tr><td>4</td><td>2</td><td>4</td><td>4</td><td>4</td></tr>\n",
       "\t<tr><td>4</td><td>4</td><td>5</td><td>3</td><td>4</td></tr>\n",
       "\t<tr><td>4</td><td>2</td><td>4</td><td>2</td><td>3</td></tr>\n",
       "\t<tr><td>4</td><td>4</td><td>4</td><td>3</td><td>3</td></tr>\n",
       "\t<tr><td>3</td><td>1</td><td>4</td><td>3</td><td>4</td></tr>\n",
       "\t<tr><td>3</td><td>2</td><td>4</td><td>3</td><td>4</td></tr>\n",
       "\t<tr><td>3</td><td>4</td><td>3</td><td>4</td><td>5</td></tr>\n",
       "\t<tr><td>1</td><td>3</td><td>2</td><td>2</td><td>3</td></tr>\n",
       "\t<tr><td>3</td><td>4</td><td>2</td><td>3</td><td>4</td></tr>\n",
       "\t<tr><td>3</td><td>2</td><td>1</td><td>1</td><td>3</td></tr>\n",
       "\t<tr><td>3</td><td>3</td><td>3</td><td>4</td><td>3</td></tr>\n",
       "\t<tr><td>2</td><td>2</td><td>4</td><td>3</td><td>2</td></tr>\n",
       "\t<tr><td>3</td><td>4</td><td>4</td><td>3</td><td>4</td></tr>\n",
       "\t<tr><td>3</td><td>4</td><td>5</td><td>2</td><td>4</td></tr>\n",
       "\t<tr><td>4</td><td>3</td><td>4</td><td>2</td><td>3</td></tr>\n",
       "\t<tr><td>2</td><td>2</td><td>2</td><td>1</td><td>4</td></tr>\n",
       "\t<tr><td>2</td><td>3</td><td>4</td><td>3</td><td>5</td></tr>\n",
       "\t<tr><td>3</td><td>4</td><td>4</td><td>2</td><td>4</td></tr>\n",
       "\t<tr><td>4</td><td>2</td><td>3</td><td>3</td><td>2</td></tr>\n",
       "\t<tr><td>4</td><td>4</td><td>4</td><td>4</td><td>3</td></tr>\n",
       "\t<tr><td>4</td><td>4</td><td>5</td><td>3</td><td>3</td></tr>\n",
       "\t<tr><td>3</td><td>2</td><td>2</td><td>3</td><td>4</td></tr>\n",
       "\t<tr><td>3</td><td>2</td><td>4</td><td>3</td><td>5</td></tr>\n",
       "\t<tr><td>...</td><td>...</td><td>...</td><td>...</td><td>...</td></tr>\n",
       "\t<tr><td>4</td><td>4</td><td>3</td><td>4</td><td>5</td></tr>\n",
       "\t<tr><td>2</td><td>3</td><td>4</td><td>3</td><td>3</td></tr>\n",
       "\t<tr><td>2</td><td>4</td><td>5</td><td>3</td><td>5</td></tr>\n",
       "\t<tr><td>3</td><td>3</td><td>4</td><td>2</td><td>3</td></tr>\n",
       "\t<tr><td>3</td><td>2</td><td>2</td><td>2</td><td>3</td></tr>\n",
       "\t<tr><td>3</td><td>2</td><td>4</td><td>2</td><td>3</td></tr>\n",
       "\t<tr><td>2</td><td>4</td><td>5</td><td>2</td><td>2</td></tr>\n",
       "\t<tr><td>1</td><td>2</td><td>3</td><td>1</td><td>3</td></tr>\n",
       "\t<tr><td>3</td><td>1</td><td>2</td><td>3</td><td>5</td></tr>\n",
       "\t<tr><td>4</td><td>3</td><td>3</td><td>3</td><td>5</td></tr>\n",
       "\t<tr><td>3</td><td>4</td><td>4</td><td>3</td><td>3</td></tr>\n",
       "\t<tr><td>3</td><td>4</td><td>3</td><td>4</td><td>3</td></tr>\n",
       "\t<tr><td>2</td><td>2</td><td>2</td><td>2</td><td>4</td></tr>\n",
       "\t<tr><td>4</td><td>3</td><td>5</td><td>4</td><td>2</td></tr>\n",
       "\t<tr><td>3</td><td>2</td><td>3</td><td>3</td><td>4</td></tr>\n",
       "\t<tr><td>2</td><td>4</td><td>4</td><td>3</td><td>2</td></tr>\n",
       "\t<tr><td>3</td><td>2</td><td>2</td><td>1</td><td>4</td></tr>\n",
       "\t<tr><td>3</td><td>2</td><td>4</td><td>2</td><td>4</td></tr>\n",
       "\t<tr><td>1</td><td>2</td><td>2</td><td>2</td><td>2</td></tr>\n",
       "\t<tr><td>3</td><td>2</td><td>4</td><td>3</td><td>4</td></tr>\n",
       "\t<tr><td>2</td><td>4</td><td>4</td><td>3</td><td>4</td></tr>\n",
       "\t<tr><td>4</td><td>3</td><td>5</td><td>3</td><td>2</td></tr>\n",
       "\t<tr><td>3</td><td>1</td><td>2</td><td>1</td><td>1</td></tr>\n",
       "\t<tr><td>3</td><td>4</td><td>4</td><td>3</td><td>2</td></tr>\n",
       "\t<tr><td>2</td><td>3</td><td>5</td><td>2</td><td>4</td></tr>\n",
       "\t<tr><td>4</td><td>3</td><td>3</td><td>2</td><td>4</td></tr>\n",
       "\t<tr><td>2</td><td>4</td><td>4</td><td>2</td><td>3</td></tr>\n",
       "\t<tr><td>2</td><td>2</td><td>5</td><td>2</td><td>4</td></tr>\n",
       "\t<tr><td>2</td><td>3</td><td>4</td><td>2</td><td>4</td></tr>\n",
       "\t<tr><td>2</td><td>2</td><td>4</td><td>2</td><td>4</td></tr>\n",
       "</tbody>\n",
       "</table>\n"
      ],
      "text/latex": [
       "\\begin{tabular}{r|lllll}\n",
       " q1 & q2 & q3 & q4 & q5\\\\\n",
       "\\hline\n",
       "\t 2 & 4 & 4 & 2 & 2\\\\\n",
       "\t 1 & 2 & 2 & 2 & 2\\\\\n",
       "\t 2 & 3 & 4 & 3 & 3\\\\\n",
       "\t 3 & 5 & 5 & 3 & 3\\\\\n",
       "\t 3 & 2 & 4 & 4 & 4\\\\\n",
       "\t 4 & 3 & 3 & 4 & 2\\\\\n",
       "\t 3 & 4 & 4 & 2 & 2\\\\\n",
       "\t 4 & 2 & 4 & 4 & 4\\\\\n",
       "\t 4 & 4 & 5 & 3 & 4\\\\\n",
       "\t 4 & 2 & 4 & 2 & 3\\\\\n",
       "\t 4 & 4 & 4 & 3 & 3\\\\\n",
       "\t 3 & 1 & 4 & 3 & 4\\\\\n",
       "\t 3 & 2 & 4 & 3 & 4\\\\\n",
       "\t 3 & 4 & 3 & 4 & 5\\\\\n",
       "\t 1 & 3 & 2 & 2 & 3\\\\\n",
       "\t 3 & 4 & 2 & 3 & 4\\\\\n",
       "\t 3 & 2 & 1 & 1 & 3\\\\\n",
       "\t 3 & 3 & 3 & 4 & 3\\\\\n",
       "\t 2 & 2 & 4 & 3 & 2\\\\\n",
       "\t 3 & 4 & 4 & 3 & 4\\\\\n",
       "\t 3 & 4 & 5 & 2 & 4\\\\\n",
       "\t 4 & 3 & 4 & 2 & 3\\\\\n",
       "\t 2 & 2 & 2 & 1 & 4\\\\\n",
       "\t 2 & 3 & 4 & 3 & 5\\\\\n",
       "\t 3 & 4 & 4 & 2 & 4\\\\\n",
       "\t 4 & 2 & 3 & 3 & 2\\\\\n",
       "\t 4 & 4 & 4 & 4 & 3\\\\\n",
       "\t 4 & 4 & 5 & 3 & 3\\\\\n",
       "\t 3 & 2 & 2 & 3 & 4\\\\\n",
       "\t 3 & 2 & 4 & 3 & 5\\\\\n",
       "\t ... & ... & ... & ... & ...\\\\\n",
       "\t 4 & 4 & 3 & 4 & 5\\\\\n",
       "\t 2 & 3 & 4 & 3 & 3\\\\\n",
       "\t 2 & 4 & 5 & 3 & 5\\\\\n",
       "\t 3 & 3 & 4 & 2 & 3\\\\\n",
       "\t 3 & 2 & 2 & 2 & 3\\\\\n",
       "\t 3 & 2 & 4 & 2 & 3\\\\\n",
       "\t 2 & 4 & 5 & 2 & 2\\\\\n",
       "\t 1 & 2 & 3 & 1 & 3\\\\\n",
       "\t 3 & 1 & 2 & 3 & 5\\\\\n",
       "\t 4 & 3 & 3 & 3 & 5\\\\\n",
       "\t 3 & 4 & 4 & 3 & 3\\\\\n",
       "\t 3 & 4 & 3 & 4 & 3\\\\\n",
       "\t 2 & 2 & 2 & 2 & 4\\\\\n",
       "\t 4 & 3 & 5 & 4 & 2\\\\\n",
       "\t 3 & 2 & 3 & 3 & 4\\\\\n",
       "\t 2 & 4 & 4 & 3 & 2\\\\\n",
       "\t 3 & 2 & 2 & 1 & 4\\\\\n",
       "\t 3 & 2 & 4 & 2 & 4\\\\\n",
       "\t 1 & 2 & 2 & 2 & 2\\\\\n",
       "\t 3 & 2 & 4 & 3 & 4\\\\\n",
       "\t 2 & 4 & 4 & 3 & 4\\\\\n",
       "\t 4 & 3 & 5 & 3 & 2\\\\\n",
       "\t 3 & 1 & 2 & 1 & 1\\\\\n",
       "\t 3 & 4 & 4 & 3 & 2\\\\\n",
       "\t 2 & 3 & 5 & 2 & 4\\\\\n",
       "\t 4 & 3 & 3 & 2 & 4\\\\\n",
       "\t 2 & 4 & 4 & 2 & 3\\\\\n",
       "\t 2 & 2 & 5 & 2 & 4\\\\\n",
       "\t 2 & 3 & 4 & 2 & 4\\\\\n",
       "\t 2 & 2 & 4 & 2 & 4\\\\\n",
       "\\end{tabular}\n"
      ],
      "text/markdown": [
       "\n",
       "| q1 | q2 | q3 | q4 | q5 |\n",
       "|---|---|---|---|---|\n",
       "| 2 | 4 | 4 | 2 | 2 |\n",
       "| 1 | 2 | 2 | 2 | 2 |\n",
       "| 2 | 3 | 4 | 3 | 3 |\n",
       "| 3 | 5 | 5 | 3 | 3 |\n",
       "| 3 | 2 | 4 | 4 | 4 |\n",
       "| 4 | 3 | 3 | 4 | 2 |\n",
       "| 3 | 4 | 4 | 2 | 2 |\n",
       "| 4 | 2 | 4 | 4 | 4 |\n",
       "| 4 | 4 | 5 | 3 | 4 |\n",
       "| 4 | 2 | 4 | 2 | 3 |\n",
       "| 4 | 4 | 4 | 3 | 3 |\n",
       "| 3 | 1 | 4 | 3 | 4 |\n",
       "| 3 | 2 | 4 | 3 | 4 |\n",
       "| 3 | 4 | 3 | 4 | 5 |\n",
       "| 1 | 3 | 2 | 2 | 3 |\n",
       "| 3 | 4 | 2 | 3 | 4 |\n",
       "| 3 | 2 | 1 | 1 | 3 |\n",
       "| 3 | 3 | 3 | 4 | 3 |\n",
       "| 2 | 2 | 4 | 3 | 2 |\n",
       "| 3 | 4 | 4 | 3 | 4 |\n",
       "| 3 | 4 | 5 | 2 | 4 |\n",
       "| 4 | 3 | 4 | 2 | 3 |\n",
       "| 2 | 2 | 2 | 1 | 4 |\n",
       "| 2 | 3 | 4 | 3 | 5 |\n",
       "| 3 | 4 | 4 | 2 | 4 |\n",
       "| 4 | 2 | 3 | 3 | 2 |\n",
       "| 4 | 4 | 4 | 4 | 3 |\n",
       "| 4 | 4 | 5 | 3 | 3 |\n",
       "| 3 | 2 | 2 | 3 | 4 |\n",
       "| 3 | 2 | 4 | 3 | 5 |\n",
       "| ... | ... | ... | ... | ... |\n",
       "| 4 | 4 | 3 | 4 | 5 |\n",
       "| 2 | 3 | 4 | 3 | 3 |\n",
       "| 2 | 4 | 5 | 3 | 5 |\n",
       "| 3 | 3 | 4 | 2 | 3 |\n",
       "| 3 | 2 | 2 | 2 | 3 |\n",
       "| 3 | 2 | 4 | 2 | 3 |\n",
       "| 2 | 4 | 5 | 2 | 2 |\n",
       "| 1 | 2 | 3 | 1 | 3 |\n",
       "| 3 | 1 | 2 | 3 | 5 |\n",
       "| 4 | 3 | 3 | 3 | 5 |\n",
       "| 3 | 4 | 4 | 3 | 3 |\n",
       "| 3 | 4 | 3 | 4 | 3 |\n",
       "| 2 | 2 | 2 | 2 | 4 |\n",
       "| 4 | 3 | 5 | 4 | 2 |\n",
       "| 3 | 2 | 3 | 3 | 4 |\n",
       "| 2 | 4 | 4 | 3 | 2 |\n",
       "| 3 | 2 | 2 | 1 | 4 |\n",
       "| 3 | 2 | 4 | 2 | 4 |\n",
       "| 1 | 2 | 2 | 2 | 2 |\n",
       "| 3 | 2 | 4 | 3 | 4 |\n",
       "| 2 | 4 | 4 | 3 | 4 |\n",
       "| 4 | 3 | 5 | 3 | 2 |\n",
       "| 3 | 1 | 2 | 1 | 1 |\n",
       "| 3 | 4 | 4 | 3 | 2 |\n",
       "| 2 | 3 | 5 | 2 | 4 |\n",
       "| 4 | 3 | 3 | 2 | 4 |\n",
       "| 2 | 4 | 4 | 2 | 3 |\n",
       "| 2 | 2 | 5 | 2 | 4 |\n",
       "| 2 | 3 | 4 | 2 | 4 |\n",
       "| 2 | 2 | 4 | 2 | 4 |\n",
       "\n"
      ],
      "text/plain": [
       "    q1  q2  q3  q4  q5 \n",
       "1   2   4   4   2   2  \n",
       "2   1   2   2   2   2  \n",
       "3   2   3   4   3   3  \n",
       "4   3   5   5   3   3  \n",
       "5   3   2   4   4   4  \n",
       "6   4   3   3   4   2  \n",
       "7   3   4   4   2   2  \n",
       "8   4   2   4   4   4  \n",
       "9   4   4   5   3   4  \n",
       "10  4   2   4   2   3  \n",
       "11  4   4   4   3   3  \n",
       "12  3   1   4   3   4  \n",
       "13  3   2   4   3   4  \n",
       "14  3   4   3   4   5  \n",
       "15  1   3   2   2   3  \n",
       "16  3   4   2   3   4  \n",
       "17  3   2   1   1   3  \n",
       "18  3   3   3   4   3  \n",
       "19  2   2   4   3   2  \n",
       "20  3   4   4   3   4  \n",
       "21  3   4   5   2   4  \n",
       "22  4   3   4   2   3  \n",
       "23  2   2   2   1   4  \n",
       "24  2   3   4   3   5  \n",
       "25  3   4   4   2   4  \n",
       "26  4   2   3   3   2  \n",
       "27  4   4   4   4   3  \n",
       "28  4   4   5   3   3  \n",
       "29  3   2   2   3   4  \n",
       "30  3   2   4   3   5  \n",
       "... ... ... ... ... ...\n",
       "373 4   4   3   4   5  \n",
       "374 2   3   4   3   3  \n",
       "375 2   4   5   3   5  \n",
       "376 3   3   4   2   3  \n",
       "377 3   2   2   2   3  \n",
       "378 3   2   4   2   3  \n",
       "379 2   4   5   2   2  \n",
       "380 1   2   3   1   3  \n",
       "381 3   1   2   3   5  \n",
       "382 4   3   3   3   5  \n",
       "383 3   4   4   3   3  \n",
       "384 3   4   3   4   3  \n",
       "385 2   2   2   2   4  \n",
       "386 4   3   5   4   2  \n",
       "387 3   2   3   3   4  \n",
       "388 2   4   4   3   2  \n",
       "389 3   2   2   1   4  \n",
       "390 3   2   4   2   4  \n",
       "391 1   2   2   2   2  \n",
       "392 3   2   4   3   4  \n",
       "393 2   4   4   3   4  \n",
       "394 4   3   5   3   2  \n",
       "395 3   1   2   1   1  \n",
       "396 3   4   4   3   2  \n",
       "397 2   3   5   2   4  \n",
       "398 4   3   3   2   4  \n",
       "399 2   4   4   2   3  \n",
       "400 2   2   5   2   4  \n",
       "401 2   3   4   2   4  \n",
       "402 2   2   4   2   4  "
      ]
     },
     "metadata": {},
     "output_type": "display_data"
    },
    {
     "data": {
      "text/html": [
       "'data.frame'"
      ],
      "text/latex": [
       "'data.frame'"
      ],
      "text/markdown": [
       "'data.frame'"
      ],
      "text/plain": [
       "[1] \"data.frame\""
      ]
     },
     "metadata": {},
     "output_type": "display_data"
    },
    {
     "data": {
      "text/html": [
       "<table>\n",
       "<thead><tr><th scope=col>q1</th><th scope=col>q2</th><th scope=col>q3</th><th scope=col>q4</th><th scope=col>q5</th></tr></thead>\n",
       "<tbody>\n",
       "\t<tr><td>2</td><td>4</td><td>4</td><td>2</td><td>2</td></tr>\n",
       "\t<tr><td>1</td><td>2</td><td>2</td><td>2</td><td>2</td></tr>\n",
       "\t<tr><td>2</td><td>3</td><td>4</td><td>3</td><td>3</td></tr>\n",
       "\t<tr><td>3</td><td>5</td><td>5</td><td>3</td><td>3</td></tr>\n",
       "\t<tr><td>3</td><td>2</td><td>4</td><td>4</td><td>4</td></tr>\n",
       "\t<tr><td>4</td><td>3</td><td>3</td><td>4</td><td>2</td></tr>\n",
       "</tbody>\n",
       "</table>\n"
      ],
      "text/latex": [
       "\\begin{tabular}{r|lllll}\n",
       " q1 & q2 & q3 & q4 & q5\\\\\n",
       "\\hline\n",
       "\t 2 & 4 & 4 & 2 & 2\\\\\n",
       "\t 1 & 2 & 2 & 2 & 2\\\\\n",
       "\t 2 & 3 & 4 & 3 & 3\\\\\n",
       "\t 3 & 5 & 5 & 3 & 3\\\\\n",
       "\t 3 & 2 & 4 & 4 & 4\\\\\n",
       "\t 4 & 3 & 3 & 4 & 2\\\\\n",
       "\\end{tabular}\n"
      ],
      "text/markdown": [
       "\n",
       "| q1 | q2 | q3 | q4 | q5 |\n",
       "|---|---|---|---|---|\n",
       "| 2 | 4 | 4 | 2 | 2 |\n",
       "| 1 | 2 | 2 | 2 | 2 |\n",
       "| 2 | 3 | 4 | 3 | 3 |\n",
       "| 3 | 5 | 5 | 3 | 3 |\n",
       "| 3 | 2 | 4 | 4 | 4 |\n",
       "| 4 | 3 | 3 | 4 | 2 |\n",
       "\n"
      ],
      "text/plain": [
       "  q1 q2 q3 q4 q5\n",
       "1 2  4  4  2  2 \n",
       "2 1  2  2  2  2 \n",
       "3 2  3  4  3  3 \n",
       "4 3  5  5  3  3 \n",
       "5 3  2  4  4  4 \n",
       "6 4  3  3  4  2 "
      ]
     },
     "metadata": {},
     "output_type": "display_data"
    },
    {
     "data": {
      "text/html": [
       "<table>\n",
       "<thead><tr><th></th><th scope=col>q1</th><th scope=col>q2</th><th scope=col>q3</th><th scope=col>q4</th><th scope=col>q5</th></tr></thead>\n",
       "<tbody>\n",
       "\t<tr><th scope=row>397</th><td>2</td><td>3</td><td>5</td><td>2</td><td>4</td></tr>\n",
       "\t<tr><th scope=row>398</th><td>4</td><td>3</td><td>3</td><td>2</td><td>4</td></tr>\n",
       "\t<tr><th scope=row>399</th><td>2</td><td>4</td><td>4</td><td>2</td><td>3</td></tr>\n",
       "\t<tr><th scope=row>400</th><td>2</td><td>2</td><td>5</td><td>2</td><td>4</td></tr>\n",
       "\t<tr><th scope=row>401</th><td>2</td><td>3</td><td>4</td><td>2</td><td>4</td></tr>\n",
       "\t<tr><th scope=row>402</th><td>2</td><td>2</td><td>4</td><td>2</td><td>4</td></tr>\n",
       "</tbody>\n",
       "</table>\n"
      ],
      "text/latex": [
       "\\begin{tabular}{r|lllll}\n",
       "  & q1 & q2 & q3 & q4 & q5\\\\\n",
       "\\hline\n",
       "\t397 & 2 & 3 & 5 & 2 & 4\\\\\n",
       "\t398 & 4 & 3 & 3 & 2 & 4\\\\\n",
       "\t399 & 2 & 4 & 4 & 2 & 3\\\\\n",
       "\t400 & 2 & 2 & 5 & 2 & 4\\\\\n",
       "\t401 & 2 & 3 & 4 & 2 & 4\\\\\n",
       "\t402 & 2 & 2 & 4 & 2 & 4\\\\\n",
       "\\end{tabular}\n"
      ],
      "text/markdown": [
       "\n",
       "| <!--/--> | q1 | q2 | q3 | q4 | q5 |\n",
       "|---|---|---|---|---|---|\n",
       "| 397 | 2 | 3 | 5 | 2 | 4 |\n",
       "| 398 | 4 | 3 | 3 | 2 | 4 |\n",
       "| 399 | 2 | 4 | 4 | 2 | 3 |\n",
       "| 400 | 2 | 2 | 5 | 2 | 4 |\n",
       "| 401 | 2 | 3 | 4 | 2 | 4 |\n",
       "| 402 | 2 | 2 | 4 | 2 | 4 |\n",
       "\n"
      ],
      "text/plain": [
       "    q1 q2 q3 q4 q5\n",
       "397 2  3  5  2  4 \n",
       "398 4  3  3  2  4 \n",
       "399 2  4  4  2  3 \n",
       "400 2  2  5  2  4 \n",
       "401 2  3  4  2  4 \n",
       "402 2  2  4  2  4 "
      ]
     },
     "metadata": {},
     "output_type": "display_data"
    },
    {
     "name": "stdout",
     "output_type": "stream",
     "text": [
      "'data.frame':\t402 obs. of  5 variables:\n",
      " $ q1: int  2 1 2 3 3 4 3 4 4 4 ...\n",
      " $ q2: int  4 2 3 5 2 3 4 2 4 2 ...\n",
      " $ q3: int  4 2 4 5 4 3 4 4 5 4 ...\n",
      " $ q4: int  2 2 3 3 4 4 2 4 3 2 ...\n",
      " $ q5: int  2 2 3 3 4 2 2 4 4 3 ...\n"
     ]
    },
    {
     "data": {
      "text/plain": [
       "       q1              q2              q3              q4             q5       \n",
       " Min.   :1.000   Min.   :1.000   Min.   :1.000   Min.   :1.00   Min.   :1.000  \n",
       " 1st Qu.:2.000   1st Qu.:2.000   1st Qu.:3.000   1st Qu.:2.00   1st Qu.:3.000  \n",
       " Median :3.000   Median :3.000   Median :4.000   Median :2.00   Median :4.000  \n",
       " Mean   :2.734   Mean   :2.908   Mean   :3.622   Mean   :2.51   Mean   :3.386  \n",
       " 3rd Qu.:3.000   3rd Qu.:4.000   3rd Qu.:4.000   3rd Qu.:3.00   3rd Qu.:4.000  \n",
       " Max.   :5.000   Max.   :5.000   Max.   :5.000   Max.   :4.00   Max.   :5.000  "
      ]
     },
     "metadata": {},
     "output_type": "display_data"
    }
   ],
   "source": [
    "# excel.csv를 읽어서 excel 이라는 벡터변수에 할당하기\n",
    "excel <- read.csv(\"./Data/excel.csv\")\n",
    "excel\n",
    "class(excel)\n",
    "head(excel)\n",
    "tail(excel)\n",
    "str(excel)\n",
    "summary(excel)"
   ]
  },
  {
   "cell_type": "code",
   "execution_count": 42,
   "metadata": {
    "vscode": {
     "languageId": "r"
    }
   },
   "outputs": [],
   "source": [
    "# q1 컬럼에서 data가 3보다 크거나 같으면 data의 제곱근을 구하고 아니면 원래 data를 출력하기\n",
    "q <- excel$q1\n",
    "\n",
    "  newC   <- ifelse(q >= 3, sqrt(q),q)\n"
   ]
  },
  {
   "cell_type": "code",
   "execution_count": 46,
   "metadata": {
    "vscode": {
     "languageId": "r"
    }
   },
   "outputs": [
    {
     "data": {
      "text/html": [
       "'numeric'"
      ],
      "text/latex": [
       "'numeric'"
      ],
      "text/markdown": [
       "'numeric'"
      ],
      "text/plain": [
       "[1] \"numeric\""
      ]
     },
     "metadata": {},
     "output_type": "display_data"
    },
    {
     "data": {
      "text/html": [
       "<table>\n",
       "<thead><tr><th scope=col>q1</th><th scope=col>q2</th><th scope=col>q3</th><th scope=col>q4</th><th scope=col>q5</th><th scope=col>q6</th></tr></thead>\n",
       "<tbody>\n",
       "\t<tr><td>2       </td><td>4       </td><td>4       </td><td>2       </td><td>2       </td><td>2.000000</td></tr>\n",
       "\t<tr><td>1       </td><td>2       </td><td>2       </td><td>2       </td><td>2       </td><td>1.000000</td></tr>\n",
       "\t<tr><td>2       </td><td>3       </td><td>4       </td><td>3       </td><td>3       </td><td>2.000000</td></tr>\n",
       "\t<tr><td>3       </td><td>5       </td><td>5       </td><td>3       </td><td>3       </td><td>1.732051</td></tr>\n",
       "\t<tr><td>3       </td><td>2       </td><td>4       </td><td>4       </td><td>4       </td><td>1.732051</td></tr>\n",
       "\t<tr><td>4       </td><td>3       </td><td>3       </td><td>4       </td><td>2       </td><td>2.000000</td></tr>\n",
       "\t<tr><td>3       </td><td>4       </td><td>4       </td><td>2       </td><td>2       </td><td>1.732051</td></tr>\n",
       "\t<tr><td>4       </td><td>2       </td><td>4       </td><td>4       </td><td>4       </td><td>2.000000</td></tr>\n",
       "\t<tr><td>4       </td><td>4       </td><td>5       </td><td>3       </td><td>4       </td><td>2.000000</td></tr>\n",
       "\t<tr><td>4       </td><td>2       </td><td>4       </td><td>2       </td><td>3       </td><td>2.000000</td></tr>\n",
       "\t<tr><td>4       </td><td>4       </td><td>4       </td><td>3       </td><td>3       </td><td>2.000000</td></tr>\n",
       "\t<tr><td>3       </td><td>1       </td><td>4       </td><td>3       </td><td>4       </td><td>1.732051</td></tr>\n",
       "\t<tr><td>3       </td><td>2       </td><td>4       </td><td>3       </td><td>4       </td><td>1.732051</td></tr>\n",
       "\t<tr><td>3       </td><td>4       </td><td>3       </td><td>4       </td><td>5       </td><td>1.732051</td></tr>\n",
       "\t<tr><td>1       </td><td>3       </td><td>2       </td><td>2       </td><td>3       </td><td>1.000000</td></tr>\n",
       "\t<tr><td>3       </td><td>4       </td><td>2       </td><td>3       </td><td>4       </td><td>1.732051</td></tr>\n",
       "\t<tr><td>3       </td><td>2       </td><td>1       </td><td>1       </td><td>3       </td><td>1.732051</td></tr>\n",
       "\t<tr><td>3       </td><td>3       </td><td>3       </td><td>4       </td><td>3       </td><td>1.732051</td></tr>\n",
       "\t<tr><td>2       </td><td>2       </td><td>4       </td><td>3       </td><td>2       </td><td>2.000000</td></tr>\n",
       "\t<tr><td>3       </td><td>4       </td><td>4       </td><td>3       </td><td>4       </td><td>1.732051</td></tr>\n",
       "\t<tr><td>3       </td><td>4       </td><td>5       </td><td>2       </td><td>4       </td><td>1.732051</td></tr>\n",
       "\t<tr><td>4       </td><td>3       </td><td>4       </td><td>2       </td><td>3       </td><td>2.000000</td></tr>\n",
       "\t<tr><td>2       </td><td>2       </td><td>2       </td><td>1       </td><td>4       </td><td>2.000000</td></tr>\n",
       "\t<tr><td>2       </td><td>3       </td><td>4       </td><td>3       </td><td>5       </td><td>2.000000</td></tr>\n",
       "\t<tr><td>3       </td><td>4       </td><td>4       </td><td>2       </td><td>4       </td><td>1.732051</td></tr>\n",
       "\t<tr><td>4       </td><td>2       </td><td>3       </td><td>3       </td><td>2       </td><td>2.000000</td></tr>\n",
       "\t<tr><td>4       </td><td>4       </td><td>4       </td><td>4       </td><td>3       </td><td>2.000000</td></tr>\n",
       "\t<tr><td>4       </td><td>4       </td><td>5       </td><td>3       </td><td>3       </td><td>2.000000</td></tr>\n",
       "\t<tr><td>3       </td><td>2       </td><td>2       </td><td>3       </td><td>4       </td><td>1.732051</td></tr>\n",
       "\t<tr><td>3       </td><td>2       </td><td>4       </td><td>3       </td><td>5       </td><td>1.732051</td></tr>\n",
       "\t<tr><td>...</td><td>...</td><td>...</td><td>...</td><td>...</td><td>...</td></tr>\n",
       "\t<tr><td>4       </td><td>4       </td><td>3       </td><td>4       </td><td>5       </td><td>2.000000</td></tr>\n",
       "\t<tr><td>2       </td><td>3       </td><td>4       </td><td>3       </td><td>3       </td><td>2.000000</td></tr>\n",
       "\t<tr><td>2       </td><td>4       </td><td>5       </td><td>3       </td><td>5       </td><td>2.000000</td></tr>\n",
       "\t<tr><td>3       </td><td>3       </td><td>4       </td><td>2       </td><td>3       </td><td>1.732051</td></tr>\n",
       "\t<tr><td>3       </td><td>2       </td><td>2       </td><td>2       </td><td>3       </td><td>1.732051</td></tr>\n",
       "\t<tr><td>3       </td><td>2       </td><td>4       </td><td>2       </td><td>3       </td><td>1.732051</td></tr>\n",
       "\t<tr><td>2       </td><td>4       </td><td>5       </td><td>2       </td><td>2       </td><td>2.000000</td></tr>\n",
       "\t<tr><td>1       </td><td>2       </td><td>3       </td><td>1       </td><td>3       </td><td>1.000000</td></tr>\n",
       "\t<tr><td>3       </td><td>1       </td><td>2       </td><td>3       </td><td>5       </td><td>1.732051</td></tr>\n",
       "\t<tr><td>4       </td><td>3       </td><td>3       </td><td>3       </td><td>5       </td><td>2.000000</td></tr>\n",
       "\t<tr><td>3       </td><td>4       </td><td>4       </td><td>3       </td><td>3       </td><td>1.732051</td></tr>\n",
       "\t<tr><td>3       </td><td>4       </td><td>3       </td><td>4       </td><td>3       </td><td>1.732051</td></tr>\n",
       "\t<tr><td>2       </td><td>2       </td><td>2       </td><td>2       </td><td>4       </td><td>2.000000</td></tr>\n",
       "\t<tr><td>4       </td><td>3       </td><td>5       </td><td>4       </td><td>2       </td><td>2.000000</td></tr>\n",
       "\t<tr><td>3       </td><td>2       </td><td>3       </td><td>3       </td><td>4       </td><td>1.732051</td></tr>\n",
       "\t<tr><td>2       </td><td>4       </td><td>4       </td><td>3       </td><td>2       </td><td>2.000000</td></tr>\n",
       "\t<tr><td>3       </td><td>2       </td><td>2       </td><td>1       </td><td>4       </td><td>1.732051</td></tr>\n",
       "\t<tr><td>3       </td><td>2       </td><td>4       </td><td>2       </td><td>4       </td><td>1.732051</td></tr>\n",
       "\t<tr><td>1       </td><td>2       </td><td>2       </td><td>2       </td><td>2       </td><td>1.000000</td></tr>\n",
       "\t<tr><td>3       </td><td>2       </td><td>4       </td><td>3       </td><td>4       </td><td>1.732051</td></tr>\n",
       "\t<tr><td>2       </td><td>4       </td><td>4       </td><td>3       </td><td>4       </td><td>2.000000</td></tr>\n",
       "\t<tr><td>4       </td><td>3       </td><td>5       </td><td>3       </td><td>2       </td><td>2.000000</td></tr>\n",
       "\t<tr><td>3       </td><td>1       </td><td>2       </td><td>1       </td><td>1       </td><td>1.732051</td></tr>\n",
       "\t<tr><td>3       </td><td>4       </td><td>4       </td><td>3       </td><td>2       </td><td>1.732051</td></tr>\n",
       "\t<tr><td>2       </td><td>3       </td><td>5       </td><td>2       </td><td>4       </td><td>2.000000</td></tr>\n",
       "\t<tr><td>4       </td><td>3       </td><td>3       </td><td>2       </td><td>4       </td><td>2.000000</td></tr>\n",
       "\t<tr><td>2       </td><td>4       </td><td>4       </td><td>2       </td><td>3       </td><td>2.000000</td></tr>\n",
       "\t<tr><td>2       </td><td>2       </td><td>5       </td><td>2       </td><td>4       </td><td>2.000000</td></tr>\n",
       "\t<tr><td>2       </td><td>3       </td><td>4       </td><td>2       </td><td>4       </td><td>2.000000</td></tr>\n",
       "\t<tr><td>2       </td><td>2       </td><td>4       </td><td>2       </td><td>4       </td><td>2.000000</td></tr>\n",
       "</tbody>\n",
       "</table>\n"
      ],
      "text/latex": [
       "\\begin{tabular}{r|llllll}\n",
       " q1 & q2 & q3 & q4 & q5 & q6\\\\\n",
       "\\hline\n",
       "\t 2        & 4        & 4        & 2        & 2        & 2.000000\\\\\n",
       "\t 1        & 2        & 2        & 2        & 2        & 1.000000\\\\\n",
       "\t 2        & 3        & 4        & 3        & 3        & 2.000000\\\\\n",
       "\t 3        & 5        & 5        & 3        & 3        & 1.732051\\\\\n",
       "\t 3        & 2        & 4        & 4        & 4        & 1.732051\\\\\n",
       "\t 4        & 3        & 3        & 4        & 2        & 2.000000\\\\\n",
       "\t 3        & 4        & 4        & 2        & 2        & 1.732051\\\\\n",
       "\t 4        & 2        & 4        & 4        & 4        & 2.000000\\\\\n",
       "\t 4        & 4        & 5        & 3        & 4        & 2.000000\\\\\n",
       "\t 4        & 2        & 4        & 2        & 3        & 2.000000\\\\\n",
       "\t 4        & 4        & 4        & 3        & 3        & 2.000000\\\\\n",
       "\t 3        & 1        & 4        & 3        & 4        & 1.732051\\\\\n",
       "\t 3        & 2        & 4        & 3        & 4        & 1.732051\\\\\n",
       "\t 3        & 4        & 3        & 4        & 5        & 1.732051\\\\\n",
       "\t 1        & 3        & 2        & 2        & 3        & 1.000000\\\\\n",
       "\t 3        & 4        & 2        & 3        & 4        & 1.732051\\\\\n",
       "\t 3        & 2        & 1        & 1        & 3        & 1.732051\\\\\n",
       "\t 3        & 3        & 3        & 4        & 3        & 1.732051\\\\\n",
       "\t 2        & 2        & 4        & 3        & 2        & 2.000000\\\\\n",
       "\t 3        & 4        & 4        & 3        & 4        & 1.732051\\\\\n",
       "\t 3        & 4        & 5        & 2        & 4        & 1.732051\\\\\n",
       "\t 4        & 3        & 4        & 2        & 3        & 2.000000\\\\\n",
       "\t 2        & 2        & 2        & 1        & 4        & 2.000000\\\\\n",
       "\t 2        & 3        & 4        & 3        & 5        & 2.000000\\\\\n",
       "\t 3        & 4        & 4        & 2        & 4        & 1.732051\\\\\n",
       "\t 4        & 2        & 3        & 3        & 2        & 2.000000\\\\\n",
       "\t 4        & 4        & 4        & 4        & 3        & 2.000000\\\\\n",
       "\t 4        & 4        & 5        & 3        & 3        & 2.000000\\\\\n",
       "\t 3        & 2        & 2        & 3        & 4        & 1.732051\\\\\n",
       "\t 3        & 2        & 4        & 3        & 5        & 1.732051\\\\\n",
       "\t ... & ... & ... & ... & ... & ...\\\\\n",
       "\t 4        & 4        & 3        & 4        & 5        & 2.000000\\\\\n",
       "\t 2        & 3        & 4        & 3        & 3        & 2.000000\\\\\n",
       "\t 2        & 4        & 5        & 3        & 5        & 2.000000\\\\\n",
       "\t 3        & 3        & 4        & 2        & 3        & 1.732051\\\\\n",
       "\t 3        & 2        & 2        & 2        & 3        & 1.732051\\\\\n",
       "\t 3        & 2        & 4        & 2        & 3        & 1.732051\\\\\n",
       "\t 2        & 4        & 5        & 2        & 2        & 2.000000\\\\\n",
       "\t 1        & 2        & 3        & 1        & 3        & 1.000000\\\\\n",
       "\t 3        & 1        & 2        & 3        & 5        & 1.732051\\\\\n",
       "\t 4        & 3        & 3        & 3        & 5        & 2.000000\\\\\n",
       "\t 3        & 4        & 4        & 3        & 3        & 1.732051\\\\\n",
       "\t 3        & 4        & 3        & 4        & 3        & 1.732051\\\\\n",
       "\t 2        & 2        & 2        & 2        & 4        & 2.000000\\\\\n",
       "\t 4        & 3        & 5        & 4        & 2        & 2.000000\\\\\n",
       "\t 3        & 2        & 3        & 3        & 4        & 1.732051\\\\\n",
       "\t 2        & 4        & 4        & 3        & 2        & 2.000000\\\\\n",
       "\t 3        & 2        & 2        & 1        & 4        & 1.732051\\\\\n",
       "\t 3        & 2        & 4        & 2        & 4        & 1.732051\\\\\n",
       "\t 1        & 2        & 2        & 2        & 2        & 1.000000\\\\\n",
       "\t 3        & 2        & 4        & 3        & 4        & 1.732051\\\\\n",
       "\t 2        & 4        & 4        & 3        & 4        & 2.000000\\\\\n",
       "\t 4        & 3        & 5        & 3        & 2        & 2.000000\\\\\n",
       "\t 3        & 1        & 2        & 1        & 1        & 1.732051\\\\\n",
       "\t 3        & 4        & 4        & 3        & 2        & 1.732051\\\\\n",
       "\t 2        & 3        & 5        & 2        & 4        & 2.000000\\\\\n",
       "\t 4        & 3        & 3        & 2        & 4        & 2.000000\\\\\n",
       "\t 2        & 4        & 4        & 2        & 3        & 2.000000\\\\\n",
       "\t 2        & 2        & 5        & 2        & 4        & 2.000000\\\\\n",
       "\t 2        & 3        & 4        & 2        & 4        & 2.000000\\\\\n",
       "\t 2        & 2        & 4        & 2        & 4        & 2.000000\\\\\n",
       "\\end{tabular}\n"
      ],
      "text/markdown": [
       "\n",
       "| q1 | q2 | q3 | q4 | q5 | q6 |\n",
       "|---|---|---|---|---|---|\n",
       "| 2        | 4        | 4        | 2        | 2        | 2.000000 |\n",
       "| 1        | 2        | 2        | 2        | 2        | 1.000000 |\n",
       "| 2        | 3        | 4        | 3        | 3        | 2.000000 |\n",
       "| 3        | 5        | 5        | 3        | 3        | 1.732051 |\n",
       "| 3        | 2        | 4        | 4        | 4        | 1.732051 |\n",
       "| 4        | 3        | 3        | 4        | 2        | 2.000000 |\n",
       "| 3        | 4        | 4        | 2        | 2        | 1.732051 |\n",
       "| 4        | 2        | 4        | 4        | 4        | 2.000000 |\n",
       "| 4        | 4        | 5        | 3        | 4        | 2.000000 |\n",
       "| 4        | 2        | 4        | 2        | 3        | 2.000000 |\n",
       "| 4        | 4        | 4        | 3        | 3        | 2.000000 |\n",
       "| 3        | 1        | 4        | 3        | 4        | 1.732051 |\n",
       "| 3        | 2        | 4        | 3        | 4        | 1.732051 |\n",
       "| 3        | 4        | 3        | 4        | 5        | 1.732051 |\n",
       "| 1        | 3        | 2        | 2        | 3        | 1.000000 |\n",
       "| 3        | 4        | 2        | 3        | 4        | 1.732051 |\n",
       "| 3        | 2        | 1        | 1        | 3        | 1.732051 |\n",
       "| 3        | 3        | 3        | 4        | 3        | 1.732051 |\n",
       "| 2        | 2        | 4        | 3        | 2        | 2.000000 |\n",
       "| 3        | 4        | 4        | 3        | 4        | 1.732051 |\n",
       "| 3        | 4        | 5        | 2        | 4        | 1.732051 |\n",
       "| 4        | 3        | 4        | 2        | 3        | 2.000000 |\n",
       "| 2        | 2        | 2        | 1        | 4        | 2.000000 |\n",
       "| 2        | 3        | 4        | 3        | 5        | 2.000000 |\n",
       "| 3        | 4        | 4        | 2        | 4        | 1.732051 |\n",
       "| 4        | 2        | 3        | 3        | 2        | 2.000000 |\n",
       "| 4        | 4        | 4        | 4        | 3        | 2.000000 |\n",
       "| 4        | 4        | 5        | 3        | 3        | 2.000000 |\n",
       "| 3        | 2        | 2        | 3        | 4        | 1.732051 |\n",
       "| 3        | 2        | 4        | 3        | 5        | 1.732051 |\n",
       "| ... | ... | ... | ... | ... | ... |\n",
       "| 4        | 4        | 3        | 4        | 5        | 2.000000 |\n",
       "| 2        | 3        | 4        | 3        | 3        | 2.000000 |\n",
       "| 2        | 4        | 5        | 3        | 5        | 2.000000 |\n",
       "| 3        | 3        | 4        | 2        | 3        | 1.732051 |\n",
       "| 3        | 2        | 2        | 2        | 3        | 1.732051 |\n",
       "| 3        | 2        | 4        | 2        | 3        | 1.732051 |\n",
       "| 2        | 4        | 5        | 2        | 2        | 2.000000 |\n",
       "| 1        | 2        | 3        | 1        | 3        | 1.000000 |\n",
       "| 3        | 1        | 2        | 3        | 5        | 1.732051 |\n",
       "| 4        | 3        | 3        | 3        | 5        | 2.000000 |\n",
       "| 3        | 4        | 4        | 3        | 3        | 1.732051 |\n",
       "| 3        | 4        | 3        | 4        | 3        | 1.732051 |\n",
       "| 2        | 2        | 2        | 2        | 4        | 2.000000 |\n",
       "| 4        | 3        | 5        | 4        | 2        | 2.000000 |\n",
       "| 3        | 2        | 3        | 3        | 4        | 1.732051 |\n",
       "| 2        | 4        | 4        | 3        | 2        | 2.000000 |\n",
       "| 3        | 2        | 2        | 1        | 4        | 1.732051 |\n",
       "| 3        | 2        | 4        | 2        | 4        | 1.732051 |\n",
       "| 1        | 2        | 2        | 2        | 2        | 1.000000 |\n",
       "| 3        | 2        | 4        | 3        | 4        | 1.732051 |\n",
       "| 2        | 4        | 4        | 3        | 4        | 2.000000 |\n",
       "| 4        | 3        | 5        | 3        | 2        | 2.000000 |\n",
       "| 3        | 1        | 2        | 1        | 1        | 1.732051 |\n",
       "| 3        | 4        | 4        | 3        | 2        | 1.732051 |\n",
       "| 2        | 3        | 5        | 2        | 4        | 2.000000 |\n",
       "| 4        | 3        | 3        | 2        | 4        | 2.000000 |\n",
       "| 2        | 4        | 4        | 2        | 3        | 2.000000 |\n",
       "| 2        | 2        | 5        | 2        | 4        | 2.000000 |\n",
       "| 2        | 3        | 4        | 2        | 4        | 2.000000 |\n",
       "| 2        | 2        | 4        | 2        | 4        | 2.000000 |\n",
       "\n"
      ],
      "text/plain": [
       "    q1  q2  q3  q4  q5  q6      \n",
       "1   2   4   4   2   2   2.000000\n",
       "2   1   2   2   2   2   1.000000\n",
       "3   2   3   4   3   3   2.000000\n",
       "4   3   5   5   3   3   1.732051\n",
       "5   3   2   4   4   4   1.732051\n",
       "6   4   3   3   4   2   2.000000\n",
       "7   3   4   4   2   2   1.732051\n",
       "8   4   2   4   4   4   2.000000\n",
       "9   4   4   5   3   4   2.000000\n",
       "10  4   2   4   2   3   2.000000\n",
       "11  4   4   4   3   3   2.000000\n",
       "12  3   1   4   3   4   1.732051\n",
       "13  3   2   4   3   4   1.732051\n",
       "14  3   4   3   4   5   1.732051\n",
       "15  1   3   2   2   3   1.000000\n",
       "16  3   4   2   3   4   1.732051\n",
       "17  3   2   1   1   3   1.732051\n",
       "18  3   3   3   4   3   1.732051\n",
       "19  2   2   4   3   2   2.000000\n",
       "20  3   4   4   3   4   1.732051\n",
       "21  3   4   5   2   4   1.732051\n",
       "22  4   3   4   2   3   2.000000\n",
       "23  2   2   2   1   4   2.000000\n",
       "24  2   3   4   3   5   2.000000\n",
       "25  3   4   4   2   4   1.732051\n",
       "26  4   2   3   3   2   2.000000\n",
       "27  4   4   4   4   3   2.000000\n",
       "28  4   4   5   3   3   2.000000\n",
       "29  3   2   2   3   4   1.732051\n",
       "30  3   2   4   3   5   1.732051\n",
       "... ... ... ... ... ... ...     \n",
       "373 4   4   3   4   5   2.000000\n",
       "374 2   3   4   3   3   2.000000\n",
       "375 2   4   5   3   5   2.000000\n",
       "376 3   3   4   2   3   1.732051\n",
       "377 3   2   2   2   3   1.732051\n",
       "378 3   2   4   2   3   1.732051\n",
       "379 2   4   5   2   2   2.000000\n",
       "380 1   2   3   1   3   1.000000\n",
       "381 3   1   2   3   5   1.732051\n",
       "382 4   3   3   3   5   2.000000\n",
       "383 3   4   4   3   3   1.732051\n",
       "384 3   4   3   4   3   1.732051\n",
       "385 2   2   2   2   4   2.000000\n",
       "386 4   3   5   4   2   2.000000\n",
       "387 3   2   3   3   4   1.732051\n",
       "388 2   4   4   3   2   2.000000\n",
       "389 3   2   2   1   4   1.732051\n",
       "390 3   2   4   2   4   1.732051\n",
       "391 1   2   2   2   2   1.000000\n",
       "392 3   2   4   3   4   1.732051\n",
       "393 2   4   4   3   4   2.000000\n",
       "394 4   3   5   3   2   2.000000\n",
       "395 3   1   2   1   1   1.732051\n",
       "396 3   4   4   3   2   1.732051\n",
       "397 2   3   5   2   4   2.000000\n",
       "398 4   3   3   2   4   2.000000\n",
       "399 2   4   4   2   3   2.000000\n",
       "400 2   2   5   2   4   2.000000\n",
       "401 2   3   4   2   4   2.000000\n",
       "402 2   2   4   2   4   2.000000"
      ]
     },
     "metadata": {},
     "output_type": "display_data"
    },
    {
     "data": {
      "text/html": [
       "'data.frame'"
      ],
      "text/latex": [
       "'data.frame'"
      ],
      "text/markdown": [
       "'data.frame'"
      ],
      "text/plain": [
       "[1] \"data.frame\""
      ]
     },
     "metadata": {},
     "output_type": "display_data"
    }
   ],
   "source": [
    "# 위의 결과를 q6이라는 컬럼을 만들어 dataSet에 추가하기\n",
    "class(newC)\n",
    "excel$q6 <- newC\n",
    "excel\n",
    "class(excel)"
   ]
  },
  {
   "cell_type": "code",
   "execution_count": null,
   "metadata": {
    "vscode": {
     "languageId": "r"
    }
   },
   "outputs": [],
   "source": []
  }
 ],
 "metadata": {
  "kernelspec": {
   "display_name": "R",
   "language": "R",
   "name": "ir"
  },
  "language_info": {
   "codemirror_mode": "r",
   "file_extension": ".r",
   "mimetype": "text/x-r-source",
   "name": "R",
   "pygments_lexer": "r",
   "version": "3.6.1"
  }
 },
 "nbformat": 4,
 "nbformat_minor": 2
}
