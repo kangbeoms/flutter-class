{
 "cells": [
  {
   "cell_type": "code",
   "execution_count": 2,
   "metadata": {
    "vscode": {
     "languageId": "r"
    }
   },
   "outputs": [
    {
     "name": "stdout",
     "output_type": "stream",
     "text": [
      "[1] 1\n",
      "[1] 2\n",
      "[1] 3\n",
      "[1] 4\n",
      "[1] 5\n",
      "[1] 6\n",
      "[1] 7\n",
      "[1] 8\n",
      "[1] 9\n",
      "[1] 10\n"
     ]
    }
   ],
   "source": [
    "# 1~10까지 출력\n",
    "for(i in 1:10) {\n",
    "    print(i)\n",
    "}"
   ]
  },
  {
   "cell_type": "code",
   "execution_count": 3,
   "metadata": {
    "vscode": {
     "languageId": "r"
    }
   },
   "outputs": [
    {
     "name": "stdout",
     "output_type": "stream",
     "text": [
      "[1] 1\n",
      "[1] 2\n",
      "[1] 3\n"
     ]
    }
   ],
   "source": [
    "for(i in c(1,2,3)) {\n",
    "    print(i)\n",
    "}"
   ]
  },
  {
   "cell_type": "code",
   "execution_count": 13,
   "metadata": {
    "vscode": {
     "languageId": "r"
    }
   },
   "outputs": [
    {
     "data": {
      "text/html": [
       "2500"
      ],
      "text/latex": [
       "2500"
      ],
      "text/markdown": [
       "2500"
      ],
      "text/plain": [
       "[1] 2500"
      ]
     },
     "metadata": {},
     "output_type": "display_data"
    }
   ],
   "source": [
    "# 1부터 100까지의 홀수의 합 구하기( 단, for문을 사용)\n",
    "tot = 0\n",
    "for(i in seq(1,100,2)) {\n",
    "            tot <- tot +i\n",
    "}\n",
    "tot"
   ]
  },
  {
   "cell_type": "code",
   "execution_count": 17,
   "metadata": {
    "vscode": {
     "languageId": "r"
    }
   },
   "outputs": [
    {
     "name": "stdout",
     "output_type": "stream",
     "text": [
      "1 => 1 \n",
      "2 => 1.414214 \n",
      "3 => 1.732051 \n",
      "4 => 2 \n",
      "5 => 2.236068 \n",
      "6 => 2.44949 \n",
      "7 => 2.645751 \n",
      "8 => 2.828427 \n",
      "9 => 3 \n",
      "10 => 3.162278 \n"
     ]
    }
   ],
   "source": [
    "# for 문 1~ 10까지     각 숫자에 각각 제곱근 앞에 해당숫자  뒤에 제곱근 씌운값\n",
    "for(i in 1:10) {\n",
    "    cat(i,\"=>\",sqrt(i),\"\\n\")\n",
    "}"
   ]
  },
  {
   "cell_type": "code",
   "execution_count": 3,
   "metadata": {
    "vscode": {
     "languageId": "r"
    }
   },
   "outputs": [
    {
     "data": {
      "text/plain": [
       "[1] ‘3.6.1’"
      ]
     },
     "metadata": {},
     "output_type": "display_data"
    }
   ],
   "source": [
    "package_version(R.version) "
   ]
  },
  {
   "cell_type": "code",
   "execution_count": 34,
   "metadata": {
    "vscode": {
     "languageId": "r"
    }
   },
   "outputs": [
    {
     "data": {
      "text/html": [
       "'data.frame'"
      ],
      "text/latex": [
       "'data.frame'"
      ],
      "text/markdown": [
       "'data.frame'"
      ],
      "text/plain": [
       "[1] \"data.frame\""
      ]
     },
     "metadata": {},
     "output_type": "display_data"
    },
    {
     "data": {
      "text/html": [
       "'integer'"
      ],
      "text/latex": [
       "'integer'"
      ],
      "text/markdown": [
       "'integer'"
      ],
      "text/plain": [
       "[1] \"integer\""
      ]
     },
     "metadata": {},
     "output_type": "display_data"
    },
    {
     "data": {
      "text/html": [
       "402"
      ],
      "text/latex": [
       "402"
      ],
      "text/markdown": [
       "402"
      ],
      "text/plain": [
       "[1] 402"
      ]
     },
     "metadata": {},
     "output_type": "display_data"
    },
    {
     "data": {
      "text/html": [
       "852"
      ],
      "text/latex": [
       "852"
      ],
      "text/markdown": [
       "852"
      ],
      "text/plain": [
       "[1] 852"
      ]
     },
     "metadata": {},
     "output_type": "display_data"
    },
    {
     "data": {
      "text/html": [
       "604"
      ],
      "text/latex": [
       "604"
      ],
      "text/markdown": [
       "604"
      ],
      "text/plain": [
       "[1] 604"
      ]
     },
     "metadata": {},
     "output_type": "display_data"
    }
   ],
   "source": [
    "#excel file 에서 q3컬럼의 홀수의 합과 짝수의 합 구하기\n",
    "     csv  <- read.csv(\"./Data/excel.csv\")\n",
    "     class(csv)\n",
    "     class(csv$q3)\n",
    "    q  <- csv$q3\n",
    "  \n",
    "    length(csv$q3)\n",
    "     sum(ifelse(q %% 2==0,jat <- (csv$q3) , 0 ))\n",
    "     sum(ifelse(q %% 2==1,hol <- (csv$q3), 0 ))\n",
    "             \n"
   ]
  },
  {
   "cell_type": "code",
   "execution_count": 38,
   "metadata": {
    "vscode": {
     "languageId": "r"
    }
   },
   "outputs": [
    {
     "data": {
      "text/html": [
       "5"
      ],
      "text/latex": [
       "5"
      ],
      "text/markdown": [
       "5"
      ],
      "text/plain": [
       "[1] 5"
      ]
     },
     "metadata": {},
     "output_type": "display_data"
    },
    {
     "data": {
      "text/html": [
       "1"
      ],
      "text/latex": [
       "1"
      ],
      "text/markdown": [
       "1"
      ],
      "text/plain": [
       "[1] 1"
      ]
     },
     "metadata": {},
     "output_type": "display_data"
    }
   ],
   "source": [
    "# excel file에서 q3 컬럼 데이터 중 3의 배수도 되고 4의 배수도 되는 수의 합계를 구하시오\n",
    "# 부분 집합 사용\n",
    "# 3의 배수 & 4의 배수 = 12의 배수?\n",
    "\n",
    "max(q)\n",
    "min(q)\n",
    "\n",
    "subset(max(q) %/% 12 )\n"
   ]
  },
  {
   "cell_type": "code",
   "execution_count": 39,
   "metadata": {
    "vscode": {
     "languageId": "r"
    }
   },
   "outputs": [
    {
     "name": "stdout",
     "output_type": "stream",
     "text": [
      "2 X 1 = 2 \n",
      "2 X 2 = 4 \n",
      "2 X 3 = 6 \n",
      "2 X 4 = 8 \n",
      "2 X 5 = 10 \n",
      "2 X 6 = 12 \n",
      "2 X 7 = 14 \n",
      "2 X 8 = 16 \n",
      "2 X 9 = 18 \n"
     ]
    }
   ],
   "source": [
    "# 구구단 2단 출력\n",
    "    for(i in 1:9) {\n",
    "        cat(\"2 X\",i,\"=\",2*i,\"\\n\")\n",
    "    }"
   ]
  },
  {
   "cell_type": "code",
   "execution_count": 41,
   "metadata": {
    "vscode": {
     "languageId": "r"
    }
   },
   "outputs": [
    {
     "name": "stdout",
     "output_type": "stream",
     "text": [
      "3 X 1 = 3 \n",
      "3 X 2 = 6 \n",
      "3 X 3 = 9 \n",
      "3 X 4 = 12 \n",
      "3 X 5 = 15 \n",
      "3 X 6 = 18 \n",
      "3 X 7 = 21 \n",
      "3 X 8 = 24 \n",
      "3 X 9 = 27 \n"
     ]
    }
   ],
   "source": [
    "# \\\n",
    "dan <- as.integer(readline(\"단을 입력\"))\n",
    "for(i in 1:9) {\n",
    "        cat(dan,\"X\",i,\"=\",dan*i,\"\\n\")\n",
    "    }"
   ]
  },
  {
   "cell_type": "code",
   "execution_count": 42,
   "metadata": {
    "vscode": {
     "languageId": "r"
    }
   },
   "outputs": [],
   "source": [
    "# 구구단 함수만들기 - 1 \n",
    "# function 함수로 감싸기\n",
    "gugu <- function() {\n",
    "dan <- as.integer(readline(\"단을 입력\"))\n",
    "for(i in 1:9) {\n",
    "        cat(dan,\"X\",i,\"=\",dan*i,\"\\n\")\n",
    "    }\n",
    "}"
   ]
  },
  {
   "cell_type": "code",
   "execution_count": 45,
   "metadata": {
    "vscode": {
     "languageId": "r"
    }
   },
   "outputs": [
    {
     "name": "stdout",
     "output_type": "stream",
     "text": [
      "4 X 1 = 4 \n",
      "4 X 2 = 8 \n",
      "4 X 3 = 12 \n",
      "4 X 4 = 16 \n",
      "4 X 5 = 20 \n",
      "4 X 6 = 24 \n",
      "4 X 7 = 28 \n",
      "4 X 8 = 32 \n",
      "4 X 9 = 36 \n"
     ]
    },
    {
     "data": {
      "text/html": [
       "'NULL'"
      ],
      "text/latex": [
       "'NULL'"
      ],
      "text/markdown": [
       "'NULL'"
      ],
      "text/plain": [
       "[1] \"NULL\""
      ]
     },
     "metadata": {},
     "output_type": "display_data"
    }
   ],
   "source": [
    "gugu()"
   ]
  },
  {
   "cell_type": "code",
   "execution_count": 54,
   "metadata": {
    "vscode": {
     "languageId": "r"
    }
   },
   "outputs": [],
   "source": [
    "gugu2 <- function(dan) {\n",
    "        for(i in 1:9) {\n",
    "        cat(dan,\"X\",i,\"=\",dan*i,\"\\n\")\n",
    "    }\n",
    "\n",
    "} "
   ]
  },
  {
   "cell_type": "code",
   "execution_count": 55,
   "metadata": {
    "vscode": {
     "languageId": "r"
    }
   },
   "outputs": [
    {
     "name": "stdout",
     "output_type": "stream",
     "text": [
      "3 X 1 = 3 \n",
      "3 X 2 = 6 \n",
      "3 X 3 = 9 \n",
      "3 X 4 = 12 \n",
      "3 X 5 = 15 \n",
      "3 X 6 = 18 \n",
      "3 X 7 = 21 \n",
      "3 X 8 = 24 \n",
      "3 X 9 = 27 \n"
     ]
    }
   ],
   "source": [
    "gugu2(3)"
   ]
  },
  {
   "cell_type": "code",
   "execution_count": 56,
   "metadata": {
    "vscode": {
     "languageId": "r"
    }
   },
   "outputs": [],
   "source": [
    "gugu3 <- function(x,y) {\n",
    "        for(i in 1:y) {\n",
    "        cat(x,\"X\",i,\"=\",x*i,\"\\n\")\n",
    "    }      \n",
    "}"
   ]
  },
  {
   "cell_type": "code",
   "execution_count": 59,
   "metadata": {
    "vscode": {
     "languageId": "r"
    }
   },
   "outputs": [
    {
     "name": "stdout",
     "output_type": "stream",
     "text": [
      "3 X 1 = 3 \n",
      "3 X 2 = 6 \n",
      "3 X 3 = 9 \n",
      "3 X 4 = 12 \n",
      "3 X 5 = 15 \n",
      "3 X 6 = 18 \n",
      "3 X 7 = 21 \n"
     ]
    }
   ],
   "source": [
    "gugu3(3,7)"
   ]
  },
  {
   "cell_type": "code",
   "execution_count": 70,
   "metadata": {
    "vscode": {
     "languageId": "r"
    }
   },
   "outputs": [
    {
     "ename": "ERROR",
     "evalue": "Error in parse(text = x, srcfile = src): <text>:4:13: 예상하지 못한 기호(symbol)입니다.\n3:      as.character(       cat(\"head\",\"\\t\",head(x))\n4:             cat\n               ^\n",
     "output_type": "error",
     "traceback": [
      "Error in parse(text = x, srcfile = src): <text>:4:13: 예상하지 못한 기호(symbol)입니다.\n3:      as.character(       cat(\"head\",\"\\t\",head(x))\n4:             cat\n               ^\nTraceback:\n"
     ]
    }
   ],
   "source": [
    "BaseInfo <- function(x) {\n",
    "            cat(\"head\",\"\\t\",head(x))\n",
    "            cat(\"tail\",\"\\t\",tail(x))\n",
    "            cat(\"str\",\"\\t\", str(x))\n",
    "            cat(\"summary\",\"\\t\",summary(x))\n",
    "     \n",
    "}"
   ]
  },
  {
   "cell_type": "code",
   "execution_count": 61,
   "metadata": {
    "vscode": {
     "languageId": "r"
    }
   },
   "outputs": [
    {
     "name": "stdout",
     "output_type": "stream",
     "text": [
      "1 X 1 = 1 \n",
      "2 X 1 = 2 \n",
      "3 X 1 = 3 \n",
      "4 X 1 = 4 \n",
      "5 X 1 = 5 \n",
      "6 X 1 = 6 \n",
      "7 X 1 = 7 \n",
      "8 X 1 = 8 \n",
      "9 X 1 = 9 \n",
      "1 X 2 = 2 \n",
      "2 X 2 = 4 \n",
      "3 X 2 = 6 \n",
      "4 X 2 = 8 \n",
      "5 X 2 = 10 \n",
      "6 X 2 = 12 \n",
      "7 X 2 = 14 \n",
      "8 X 2 = 16 \n",
      "9 X 2 = 18 \n",
      "1 X 3 = 3 \n",
      "2 X 3 = 6 \n",
      "3 X 3 = 9 \n",
      "4 X 3 = 12 \n",
      "5 X 3 = 15 \n",
      "6 X 3 = 18 \n",
      "7 X 3 = 21 \n",
      "8 X 3 = 24 \n",
      "9 X 3 = 27 \n",
      "1 X 4 = 4 \n",
      "2 X 4 = 8 \n",
      "3 X 4 = 12 \n",
      "4 X 4 = 16 \n",
      "5 X 4 = 20 \n",
      "6 X 4 = 24 \n",
      "7 X 4 = 28 \n",
      "8 X 4 = 32 \n",
      "9 X 4 = 36 \n",
      "1 X 5 = 5 \n",
      "2 X 5 = 10 \n",
      "3 X 5 = 15 \n",
      "4 X 5 = 20 \n",
      "5 X 5 = 25 \n",
      "6 X 5 = 30 \n",
      "7 X 5 = 35 \n",
      "8 X 5 = 40 \n",
      "9 X 5 = 45 \n",
      "1 X 6 = 6 \n",
      "2 X 6 = 12 \n",
      "3 X 6 = 18 \n",
      "4 X 6 = 24 \n",
      "5 X 6 = 30 \n",
      "6 X 6 = 36 \n",
      "7 X 6 = 42 \n",
      "8 X 6 = 48 \n",
      "9 X 6 = 54 \n",
      "1 X 7 = 7 \n",
      "2 X 7 = 14 \n",
      "3 X 7 = 21 \n",
      "4 X 7 = 28 \n",
      "5 X 7 = 35 \n",
      "6 X 7 = 42 \n",
      "7 X 7 = 49 \n",
      "8 X 7 = 56 \n",
      "9 X 7 = 63 \n",
      "1 X 8 = 8 \n",
      "2 X 8 = 16 \n",
      "3 X 8 = 24 \n",
      "4 X 8 = 32 \n",
      "5 X 8 = 40 \n",
      "6 X 8 = 48 \n",
      "7 X 8 = 56 \n",
      "8 X 8 = 64 \n",
      "9 X 8 = 72 \n",
      "1 X 9 = 9 \n",
      "2 X 9 = 18 \n",
      "3 X 9 = 27 \n",
      "4 X 9 = 36 \n",
      "5 X 9 = 45 \n",
      "6 X 9 = 54 \n",
      "7 X 9 = 63 \n",
      "8 X 9 = 72 \n",
      "9 X 9 = 81 \n"
     ]
    }
   ],
   "source": [
    "# 구구단 전체 출력하기\n",
    "    for (i in 1:9 ) {\n",
    "        for( e in 1:9) {\n",
    "                cat(e,\"X\",i,\"=\",e*i,\"\\n\")\n",
    "        }\n",
    "\n",
    "    }"
   ]
  },
  {
   "cell_type": "code",
   "execution_count": 69,
   "metadata": {
    "vscode": {
     "languageId": "r"
    }
   },
   "outputs": [
    {
     "name": "stdout",
     "output_type": "stream",
     "text": [
      "2 x 2 = 4 \n",
      "2 x 4 = 8 \n",
      "2 x 6 = 12 \n",
      "2 x 8 = 16 \n",
      "------------------- \n",
      "4 x 2 = 8 \n",
      "4 x 4 = 16 \n",
      "4 x 6 = 24 \n",
      "4 x 8 = 32 \n",
      "------------------- \n",
      "6 x 2 = 12 \n",
      "6 x 4 = 24 \n",
      "6 x 6 = 36 \n",
      "6 x 8 = 48 \n",
      "------------------- \n",
      "8 x 2 = 16 \n",
      "8 x 4 = 32 \n",
      "8 x 6 = 48 \n",
      "8 x 8 = 64 \n",
      "------------------- \n"
     ]
    }
   ],
   "source": [
    "# 구구단중 짝수단과 짝수 곱해지는 수만 출력하기\n",
    "for(i in seq(2,8,2)) {\n",
    "    for(e in seq(2,8,2)) {\n",
    "            cat(i,\"x\",e,\"=\",e*i,\"\\n\")\n",
    "    }\n",
    "    cat(\"-------------------\",\"\\n\")\n",
    "}"
   ]
  },
  {
   "cell_type": "code",
   "execution_count": 108,
   "metadata": {
    "vscode": {
     "languageId": "r"
    }
   },
   "outputs": [
    {
     "data": {
      "text/html": [
       "'numeric'"
      ],
      "text/latex": [
       "'numeric'"
      ],
      "text/markdown": [
       "'numeric'"
      ],
      "text/plain": [
       "[1] \"numeric\""
      ]
     },
     "metadata": {},
     "output_type": "display_data"
    },
    {
     "data": {
      "text/html": [
       "'character'"
      ],
      "text/latex": [
       "'character'"
      ],
      "text/markdown": [
       "'character'"
      ],
      "text/plain": [
       "[1] \"character\""
      ]
     },
     "metadata": {},
     "output_type": "display_data"
    },
    {
     "name": "stdout",
     "output_type": "stream",
     "text": [
      " 유비 : 85 \n",
      " 관우 : 95 \n",
      " 장비 : 89\n",
      "\n",
      "\n",
      " 유비 : 85 \n",
      " 관우 : 95 \n",
      " 장비 : 89 \n"
     ]
    }
   ],
   "source": [
    "# 2개의 벡터 자료를 함께 출력하기\n",
    "score <- c(85,95,89)\n",
    "name <- c(\"유비\", \"관우\", \"장비\")\n",
    "\n",
    "class(score)\n",
    "class(name)\n",
    "\n",
    "cat(\"\",name[1],\":\",score[1],\"\\n\",name[2],\":\",score[2],\"\\n\",name[3],\":\",score[3], sep=\" \")   \n",
    "\n",
    "cat(\"\\n\\n\\n\", paste(name, \":\", score, \"\\n\"))\n"
   ]
  },
  {
   "cell_type": "markdown",
   "metadata": {},
   "source": [
    "# while"
   ]
  },
  {
   "cell_type": "code",
   "execution_count": 109,
   "metadata": {
    "vscode": {
     "languageId": "r"
    }
   },
   "outputs": [
    {
     "name": "stdout",
     "output_type": "stream",
     "text": [
      "[1] 1\n",
      "[1] 2\n",
      "[1] 3\n",
      "[1] 4\n",
      "[1] 5\n",
      "[1] 6\n",
      "[1] 7\n",
      "[1] 8\n",
      "[1] 9\n",
      "[1] 10\n"
     ]
    }
   ],
   "source": [
    "i <- 0 \n",
    "while(T) {\n",
    "    i = i+1\n",
    "    print(i)\n",
    "    if (i>9) {\n",
    "        break\n",
    "    }\n",
    "}"
   ]
  },
  {
   "cell_type": "markdown",
   "metadata": {},
   "source": [
    "# repeat"
   ]
  },
  {
   "cell_type": "code",
   "execution_count": 110,
   "metadata": {
    "vscode": {
     "languageId": "r"
    }
   },
   "outputs": [
    {
     "name": "stdout",
     "output_type": "stream",
     "text": [
      "[1] 1\n",
      "[1] 2\n",
      "[1] 3\n",
      "[1] 4\n",
      "[1] 5\n",
      "[1] 6\n",
      "[1] 7\n",
      "[1] 8\n",
      "[1] 9\n",
      "[1] 10\n"
     ]
    }
   ],
   "source": [
    "i <- 0\n",
    "repeat{\n",
    "    i <- i +1\n",
    "    if (i>10) {\n",
    "        break \n",
    "    }\n",
    "    print(i)\n",
    "}"
   ]
  },
  {
   "cell_type": "code",
   "execution_count": null,
   "metadata": {
    "vscode": {
     "languageId": "r"
    }
   },
   "outputs": [],
   "source": []
  }
 ],
 "metadata": {
  "kernelspec": {
   "display_name": "R",
   "language": "R",
   "name": "ir"
  },
  "language_info": {
   "codemirror_mode": "r",
   "file_extension": ".r",
   "mimetype": "text/x-r-source",
   "name": "R",
   "pygments_lexer": "r",
   "version": "3.6.1"
  }
 },
 "nbformat": 4,
 "nbformat_minor": 2
}
