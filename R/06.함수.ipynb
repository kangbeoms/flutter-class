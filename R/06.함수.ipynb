{
 "cells": [
  {
   "cell_type": "code",
   "execution_count": 1,
   "metadata": {
    "vscode": {
     "languageId": "r"
    }
   },
   "outputs": [
    {
     "data": {
      "text/html": [
       "'ko_KR.UTF-8/ko_KR.UTF-8/ko_KR.UTF-8/C/ko_KR.UTF-8/C'"
      ],
      "text/latex": [
       "'ko\\_KR.UTF-8/ko\\_KR.UTF-8/ko\\_KR.UTF-8/C/ko\\_KR.UTF-8/C'"
      ],
      "text/markdown": [
       "'ko_KR.UTF-8/ko_KR.UTF-8/ko_KR.UTF-8/C/ko_KR.UTF-8/C'"
      ],
      "text/plain": [
       "[1] \"ko_KR.UTF-8/ko_KR.UTF-8/ko_KR.UTF-8/C/ko_KR.UTF-8/C\""
      ]
     },
     "metadata": {},
     "output_type": "display_data"
    }
   ],
   "source": [
    "options(warn = -1)\n",
    "options(repr.plot.width=15, repr.plot.height=9) \n",
    "Sys.setlocale(category = \"LC_ALL\", locale = \"ko_KR.UTF-8\")"
   ]
  },
  {
   "cell_type": "markdown",
   "metadata": {},
   "source": [
    "# 함수 (function)\n",
    "- 함수는 코드의 집합"
   ]
  },
  {
   "cell_type": "code",
   "execution_count": 5,
   "metadata": {
    "vscode": {
     "languageId": "r"
    }
   },
   "outputs": [
    {
     "data": {
      "text/html": [
       "10"
      ],
      "text/latex": [
       "10"
      ],
      "text/markdown": [
       "10"
      ],
      "text/plain": [
       "[1] 10"
      ]
     },
     "metadata": {},
     "output_type": "display_data"
    },
    {
     "data": {
      "text/html": [
       "20"
      ],
      "text/latex": [
       "20"
      ],
      "text/markdown": [
       "20"
      ],
      "text/plain": [
       "[1] 20"
      ]
     },
     "metadata": {},
     "output_type": "display_data"
    },
    {
     "data": {
      "text/html": [
       "15"
      ],
      "text/latex": [
       "15"
      ],
      "text/markdown": [
       "15"
      ],
      "text/plain": [
       "[1] 15"
      ]
     },
     "metadata": {},
     "output_type": "display_data"
    },
    {
     "data": {
      "text/html": [
       "15"
      ],
      "text/latex": [
       "15"
      ],
      "text/markdown": [
       "15"
      ],
      "text/plain": [
       "[1] 15"
      ]
     },
     "metadata": {},
     "output_type": "display_data"
    },
    {
     "data": {
      "text/html": [
       "165"
      ],
      "text/latex": [
       "165"
      ],
      "text/markdown": [
       "165"
      ],
      "text/plain": [
       "[1] 165"
      ]
     },
     "metadata": {},
     "output_type": "display_data"
    },
    {
     "data": {
      "text/html": [
       "3.3166247903554"
      ],
      "text/latex": [
       "3.3166247903554"
      ],
      "text/markdown": [
       "3.3166247903554"
      ],
      "text/plain": [
       "[1] 3.316625"
      ]
     },
     "metadata": {},
     "output_type": "display_data"
    },
    {
     "data": {
      "text/plain": [
       "   Min. 1st Qu.  Median    Mean 3rd Qu.    Max. \n",
       "   10.0    12.5    15.0    15.0    17.5    20.0 "
      ]
     },
     "metadata": {},
     "output_type": "display_data"
    },
    {
     "data": {
      "text/plain": [
       "vec\n",
       "10 11 12 13 14 15 16 17 18 19 20 \n",
       " 1  1  1  1  1  1  1  1  1  1  1 "
      ]
     },
     "metadata": {},
     "output_type": "display_data"
    },
    {
     "data": {
      "text/html": [
       "<ol class=list-inline>\n",
       "\t<li>10</li>\n",
       "\t<li>20</li>\n",
       "</ol>\n"
      ],
      "text/latex": [
       "\\begin{enumerate*}\n",
       "\\item 10\n",
       "\\item 20\n",
       "\\end{enumerate*}\n"
      ],
      "text/markdown": [
       "1. 10\n",
       "2. 20\n",
       "\n",
       "\n"
      ],
      "text/plain": [
       "[1] 10 20"
      ]
     },
     "metadata": {},
     "output_type": "display_data"
    }
   ],
   "source": [
    "# 주요 내장 함수\n",
    "vec <- 10:20\n",
    "min(vec) \n",
    "max(vec)\n",
    "mean(vec)\n",
    "median(vec)\n",
    "sum(vec)\n",
    "sd(vec) # 표준편차\n",
    "summary(vec)   # 기본 통계량 \n",
    "table(vec) # 빈도수\n",
    "range(vec) # 범위값"
   ]
  },
  {
   "cell_type": "markdown",
   "metadata": {},
   "source": [
    "## 기술통계량을 계산하는 함수 정의"
   ]
  },
  {
   "cell_type": "code",
   "execution_count": 8,
   "metadata": {
    "vscode": {
     "languageId": "r"
    }
   },
   "outputs": [],
   "source": [
    "# text.csv를 읽어서 test라는 벡터 변수에 넣기\n",
    "test <- read.csv(\"./Data/test.csv\")"
   ]
  },
  {
   "cell_type": "code",
   "execution_count": 21,
   "metadata": {
    "vscode": {
     "languageId": "r"
    }
   },
   "outputs": [
    {
     "name": "stdout",
     "output_type": "stream",
     "text": [
      "'data.frame':\t402 obs. of  5 variables:\n",
      " $ A: int  2 1 2 3 3 4 3 4 4 4 ...\n",
      " $ B: int  4 2 3 5 2 3 4 2 4 2 ...\n",
      " $ C: int  4 2 4 5 4 3 4 4 5 4 ...\n",
      " $ D: int  2 2 3 3 4 4 2 4 3 2 ...\n",
      " $ E: int  2 2 3 3 4 2 2 4 4 3 ...\n"
     ]
    }
   ],
   "source": [
    "# test의 자료 구조 확인하기\n",
    "\n",
    "str(test)"
   ]
  },
  {
   "cell_type": "code",
   "execution_count": 13,
   "metadata": {
    "vscode": {
     "languageId": "r"
    }
   },
   "outputs": [
    {
     "data": {
      "text/plain": [
       "       A               B               C               D              E        \n",
       " Min.   :1.000   Min.   :1.000   Min.   :1.000   Min.   :1.00   Min.   :1.000  \n",
       " 1st Qu.:2.000   1st Qu.:2.000   1st Qu.:3.000   1st Qu.:2.00   1st Qu.:3.000  \n",
       " Median :3.000   Median :3.000   Median :4.000   Median :2.00   Median :4.000  \n",
       " Mean   :2.734   Mean   :2.908   Mean   :3.622   Mean   :2.51   Mean   :3.386  \n",
       " 3rd Qu.:3.000   3rd Qu.:4.000   3rd Qu.:4.000   3rd Qu.:3.00   3rd Qu.:4.000  \n",
       " Max.   :5.000   Max.   :5.000   Max.   :5.000   Max.   :4.00   Max.   :5.000  "
      ]
     },
     "metadata": {},
     "output_type": "display_data"
    }
   ],
   "source": [
    "# test 의 기본 통계량 보기\n",
    "summary(test)"
   ]
  },
  {
   "cell_type": "code",
   "execution_count": 23,
   "metadata": {
    "vscode": {
     "languageId": "r"
    }
   },
   "outputs": [
    {
     "data": {
      "text/html": [
       "5"
      ],
      "text/latex": [
       "5"
      ],
      "text/markdown": [
       "5"
      ],
      "text/plain": [
       "[1] 5"
      ]
     },
     "metadata": {},
     "output_type": "display_data"
    },
    {
     "data": {
      "text/html": [
       "1"
      ],
      "text/latex": [
       "1"
      ],
      "text/markdown": [
       "1"
      ],
      "text/plain": [
       "[1] 1"
      ]
     },
     "metadata": {},
     "output_type": "display_data"
    },
    {
     "data": {
      "text/plain": [
       "\n",
       "  1   2   3   4   5 \n",
       " 30 133 156  80   3 "
      ]
     },
     "metadata": {},
     "output_type": "display_data"
    }
   ],
   "source": [
    "#A 컬럼의 최대 최소 빈도수 확인\n",
    "max(test$A)\n",
    "min(test$A)\n",
    "table(test$A)"
   ]
  },
  {
   "cell_type": "code",
   "execution_count": 31,
   "metadata": {
    "vscode": {
     "languageId": "r"
    }
   },
   "outputs": [
    {
     "name": "stdout",
     "output_type": "stream",
     "text": [
      "A 컬림 빈도분석\n",
      "  1   2   3   4   5 \n",
      " 30 133 156  80   3 \n",
      "---------------\n",
      "B 컬림 빈도분석\n",
      "  1   2   3   4   5 \n",
      " 16 150  98 131   7 \n",
      "---------------\n",
      "C 컬림 빈도분석\n",
      "  1   2   3   4   5 \n",
      "  3  74  72 176  77 \n",
      "---------------\n",
      "D 컬림 빈도분석\n",
      "  1   2   3   4 \n",
      " 30 178 153  41 \n",
      "---------------\n",
      "E 컬림 빈도분석\n",
      "  1   2   3   4   5 \n",
      "  8  81 107 160  46 \n",
      "---------------\n"
     ]
    }
   ],
   "source": [
    "# 각 컬럼의 빈도수 구하기\n",
    "for(i in 1:ncol(test)) {\n",
    "    cat(colnames(test)[i],\"컬림 빈도분석\")\n",
    "    print(table(test[,i]))\n",
    "    cat(\"---------------\\n\")\n",
    "}"
   ]
  },
  {
   "cell_type": "code",
   "execution_count": 41,
   "metadata": {
    "vscode": {
     "languageId": "r"
    }
   },
   "outputs": [
    {
     "name": "stdout",
     "output_type": "stream",
     "text": [
      "1 번째 컬럼 빈도수의 최대값과 최소값\n",
      "최대값: 156 최소값: 3 \n",
      "---------------------------\n",
      "2 번째 컬럼 빈도수의 최대값과 최소값\n",
      "최대값: 150 최소값: 7 \n",
      "---------------------------\n",
      "3 번째 컬럼 빈도수의 최대값과 최소값\n",
      "최대값: 176 최소값: 3 \n",
      "---------------------------\n",
      "4 번째 컬럼 빈도수의 최대값과 최소값\n",
      "최대값: 178 최소값: 30 \n",
      "---------------------------\n",
      "5 번째 컬럼 빈도수의 최대값과 최소값\n",
      "최대값: 160 최소값: 8 \n",
      "---------------------------\n"
     ]
    },
    {
     "data": {
      "text/html": [
       "178"
      ],
      "text/latex": [
       "178"
      ],
      "text/markdown": [
       "178"
      ],
      "text/plain": [
       "[1] 178"
      ]
     },
     "metadata": {},
     "output_type": "display_data"
    }
   ],
   "source": [
    "# 각 컬림의 빈도수의 최대값, 최소값 구하기  \n",
    "for (i in 1:ncol(test)) {\n",
    "        cat(i,\"번째 컬럼 빈도수의 최대값과 최소값\\n\")\n",
    "        cat(\"최대값:\",max(table(test[,i])), \"최소값:\",min(table(test[,i])), \"\\n\")\n",
    "        cat(\"---------------------------\\n\")\n",
    "        \n",
    "}\n",
    "max(table(test[,4]))"
   ]
  },
  {
   "cell_type": "code",
   "execution_count": null,
   "metadata": {
    "vscode": {
     "languageId": "r"
    }
   },
   "outputs": [],
   "source": []
  },
  {
   "cell_type": "code",
   "execution_count": 1,
   "metadata": {
    "vscode": {
     "languageId": "r"
    }
   },
   "outputs": [],
   "source": [
    "gugu <- function(x,y) {\n",
    "        cat(paste(x,\"x\",y,\"=\",x*y,\"\\n\", sep=\"\"))\n",
    "}"
   ]
  },
  {
   "cell_type": "code",
   "execution_count": 5,
   "metadata": {
    "vscode": {
     "languageId": "r"
    }
   },
   "outputs": [
    {
     "name": "stderr",
     "output_type": "stream",
     "text": [
      "Warning message in x * y:\n",
      "\"longer object length is not a multiple of shorter object length\"\n"
     ]
    },
    {
     "name": "stdout",
     "output_type": "stream",
     "text": [
      "1x2=2\n",
      " 2x3=6\n",
      " 3x4=12\n",
      " 1x5=5\n"
     ]
    }
   ],
   "source": [
    "# 구구단 춢력 함수\n",
    "x <- c(2:3) # 단\n",
    "y <- c(1:5) # 곱하는 구\n",
    "\n",
    "\n",
    "\n",
    "\n",
    "\n",
    "gugu(1:3,2:5)"
   ]
  },
  {
   "cell_type": "markdown",
   "metadata": {},
   "source": [
    "# 결측치 자료 평균 계산"
   ]
  },
  {
   "cell_type": "code",
   "execution_count": 7,
   "metadata": {
    "vscode": {
     "languageId": "r"
    }
   },
   "outputs": [],
   "source": [
    "data <- c(10,20,5,4,40,7,NA,6,3,NA,2,NA)"
   ]
  },
  {
   "cell_type": "code",
   "execution_count": 8,
   "metadata": {
    "vscode": {
     "languageId": "r"
    }
   },
   "outputs": [
    {
     "data": {
      "text/html": [
       "&lt;NA&gt;"
      ],
      "text/latex": [
       "<NA>"
      ],
      "text/markdown": [
       "&lt;NA&gt;"
      ],
      "text/plain": [
       "[1] NA"
      ]
     },
     "metadata": {},
     "output_type": "display_data"
    }
   ],
   "source": [
    "mean(data)"
   ]
  },
  {
   "cell_type": "code",
   "execution_count": 9,
   "metadata": {
    "vscode": {
     "languageId": "r"
    }
   },
   "outputs": [
    {
     "data": {
      "text/html": [
       "3"
      ],
      "text/latex": [
       "3"
      ],
      "text/markdown": [
       "3"
      ],
      "text/plain": [
       "[1] 3"
      ]
     },
     "metadata": {},
     "output_type": "display_data"
    },
    {
     "data": {
      "text/plain": [
       "\n",
       "FALSE  TRUE \n",
       "    9     3 "
      ]
     },
     "metadata": {},
     "output_type": "display_data"
    }
   ],
   "source": [
    "# NA의 갯수 구하기\n",
    "sum(is.na(data))\n",
    "table(is.na(data))"
   ]
  },
  {
   "cell_type": "code",
   "execution_count": 10,
   "metadata": {
    "vscode": {
     "languageId": "r"
    }
   },
   "outputs": [
    {
     "data": {
      "text/html": [
       "10.7777777777778"
      ],
      "text/latex": [
       "10.7777777777778"
      ],
      "text/markdown": [
       "10.7777777777778"
      ],
      "text/plain": [
       "[1] 10.77778"
      ]
     },
     "metadata": {},
     "output_type": "display_data"
    }
   ],
   "source": [
    "# 결측치를 무조건 제거하면 통계량을 얻을수 없으며, 데이터 손실로 문제 발생\n",
    "# 결측치를 제거하고 평균 구하기\n",
    "mean(data,na.rm = T)"
   ]
  },
  {
   "cell_type": "code",
   "execution_count": 11,
   "metadata": {
    "vscode": {
     "languageId": "r"
    }
   },
   "outputs": [
    {
     "data": {
      "text/html": [
       "'numeric'"
      ],
      "text/latex": [
       "'numeric'"
      ],
      "text/markdown": [
       "'numeric'"
      ],
      "text/plain": [
       "[1] \"numeric\""
      ]
     },
     "metadata": {},
     "output_type": "display_data"
    },
    {
     "data": {
      "text/html": [
       "8.08333333333333"
      ],
      "text/latex": [
       "8.08333333333333"
      ],
      "text/markdown": [
       "8.08333333333333"
      ],
      "text/plain": [
       "[1] 8.083333"
      ]
     },
     "metadata": {},
     "output_type": "display_data"
    }
   ],
   "source": [
    "# 1) NA를 0으로 대체하여 평균구해보기\n",
    "class(data)\n",
    "mean(ifelse(is.na(data), 0, data))\n"
   ]
  },
  {
   "cell_type": "code",
   "execution_count": 13,
   "metadata": {
    "vscode": {
     "languageId": "r"
    }
   },
   "outputs": [
    {
     "data": {
      "text/html": [
       "10.7777777777778"
      ],
      "text/latex": [
       "10.7777777777778"
      ],
      "text/markdown": [
       "10.7777777777778"
      ],
      "text/plain": [
       "[1] 10.77778"
      ]
     },
     "metadata": {},
     "output_type": "display_data"
    }
   ],
   "source": [
    "# 2) NA를 평균으로 대체하여 평균 구해보기\n",
    "mean(ifelse(is.na(data),mean(data,na.rm = T),data))\n"
   ]
  },
  {
   "cell_type": "code",
   "execution_count": 15,
   "metadata": {
    "vscode": {
     "languageId": "r"
    }
   },
   "outputs": [
    {
     "data": {
      "text/html": [
       "9.58333333333333"
      ],
      "text/latex": [
       "9.58333333333333"
      ],
      "text/markdown": [
       "9.58333333333333"
      ],
      "text/plain": [
       "[1] 9.583333"
      ]
     },
     "metadata": {},
     "output_type": "display_data"
    }
   ],
   "source": [
    "# 3) NA르 중앙값으로 대체하여 평균 구해보기\n",
    "mean(ifelse(is.na(data),median(data,na.rm = T),data))"
   ]
  },
  {
   "cell_type": "code",
   "execution_count": 16,
   "metadata": {
    "vscode": {
     "languageId": "r"
    }
   },
   "outputs": [
    {
     "data": {
      "text/html": [
       "8.58333333333333"
      ],
      "text/latex": [
       "8.58333333333333"
      ],
      "text/markdown": [
       "8.58333333333333"
      ],
      "text/plain": [
       "[1] 8.583333"
      ]
     },
     "metadata": {},
     "output_type": "display_data"
    }
   ],
   "source": [
    "# 4) NA를 최소값으로 대체하여 평균 구해보기\n",
    "mean(ifelse(is.na(data),min(data,na.rm = T),data))"
   ]
  },
  {
   "cell_type": "code",
   "execution_count": 17,
   "metadata": {
    "vscode": {
     "languageId": "r"
    }
   },
   "outputs": [
    {
     "data": {
      "text/html": [
       "18.0833333333333"
      ],
      "text/latex": [
       "18.0833333333333"
      ],
      "text/markdown": [
       "18.0833333333333"
      ],
      "text/plain": [
       "[1] 18.08333"
      ]
     },
     "metadata": {},
     "output_type": "display_data"
    }
   ],
   "source": [
    "# 5) NA를 최대값으로 대체하여 평균 구해보기\n",
    "mean(ifelse(is.na(data),max(data,na.rm = T),data))"
   ]
  },
  {
   "cell_type": "code",
   "execution_count": 19,
   "metadata": {
    "vscode": {
     "languageId": "r"
    }
   },
   "outputs": [
    {
     "data": {
      "text/plain": [
       "   Min. 1st Qu.  Median    Mean 3rd Qu.    Max.    NA's \n",
       "   2.00    4.00    6.00   10.78   10.00   40.00       3 "
      ]
     },
     "metadata": {},
     "output_type": "display_data"
    }
   ],
   "source": [
    "summary(data)"
   ]
  },
  {
   "cell_type": "code",
   "execution_count": 21,
   "metadata": {
    "vscode": {
     "languageId": "r"
    }
   },
   "outputs": [
    {
     "data": {
      "text/html": [
       "9.08333333333333"
      ],
      "text/latex": [
       "9.08333333333333"
      ],
      "text/markdown": [
       "9.08333333333333"
      ],
      "text/plain": [
       "[1] 9.083333"
      ]
     },
     "metadata": {},
     "output_type": "display_data"
    }
   ],
   "source": [
    "# 6) NA를 1사분위수로 대체하여 평균 구해보기\n",
    "mean(ifelse(is.na(data),quantile(data, 0.25, na.rm = T),data))"
   ]
  },
  {
   "cell_type": "code",
   "execution_count": 32,
   "metadata": {
    "vscode": {
     "languageId": "r"
    }
   },
   "outputs": [
    {
     "data": {
      "text/html": [
       "10.5833333333333"
      ],
      "text/latex": [
       "10.5833333333333"
      ],
      "text/markdown": [
       "10.5833333333333"
      ],
      "text/plain": [
       "[1] 10.58333"
      ]
     },
     "metadata": {},
     "output_type": "display_data"
    }
   ],
   "source": [
    "# 7) NA를 3사분위수로 대체하여 평균 구해보기 \n",
    "mean(ifelse(is.na(data),quantile(data, 0.75, na.rm = T),data))"
   ]
  },
  {
   "cell_type": "code",
   "execution_count": 33,
   "metadata": {
    "vscode": {
     "languageId": "r"
    }
   },
   "outputs": [],
   "source": [
    "# 8) NA에 3사분위 평균을 넣어서 전체 평균을 구하자\n",
    "    "
   ]
  },
  {
   "cell_type": "markdown",
   "metadata": {},
   "source": [
    "# 몬테카를로 시뮬레이션\n",
    "\n",
    "## 동전의 앞면 뒷면 시뮬레이션"
   ]
  },
  {
   "cell_type": "code",
   "execution_count": 56,
   "metadata": {
    "vscode": {
     "languageId": "r"
    }
   },
   "outputs": [
    {
     "name": "stdout",
     "output_type": "stream",
     "text": [
      "[1] 1\n"
     ]
    }
   ],
   "source": [
    "x <- runif(1)\n",
    "if (x <= 1/2) {\n",
    "    result = 0 # 앞면 \n",
    "}else {\n",
    "    result = 1 # 뒷면\n",
    "}\n",
    "print(result)"
   ]
  },
  {
   "cell_type": "code",
   "execution_count": 59,
   "metadata": {
    "vscode": {
     "languageId": "r"
    }
   },
   "outputs": [],
   "source": [
    "coin <- function(n) {\n",
    "    count1 <- 0 # 앞면\n",
    "    count2 <- 0 # 뒷면\n",
    "    \n",
    "    for(i in 1:n) {\n",
    "        if (runif(1) <=1/2) {\n",
    "            count1 = count1+1\n",
    "        }else {\n",
    "            count2 = count2 +1\n",
    "        }\n",
    "    }\n",
    "    cat(\"앞면 :\", count1,\"\\n\")\n",
    "    cat(\"뒷면 :\", count2,\"\\n\")\n",
    "    cat(\"----------------\\n\")\n",
    "}"
   ]
  },
  {
   "cell_type": "code",
   "execution_count": 1,
   "metadata": {
    "vscode": {
     "languageId": "r"
    }
   },
   "outputs": [
    {
     "ename": "ERROR",
     "evalue": "Error in coin(10): 함수 \"coin\"를 찾을 수 없습니다\n",
     "output_type": "error",
     "traceback": [
      "Error in coin(10): 함수 \"coin\"를 찾을 수 없습니다\nTraceback:\n"
     ]
    }
   ],
   "source": [
    "coin(10)\n",
    "coin(100)\n",
    "coin(1000)\n",
    "coin(10000)\n",
    "coin(100000)\n",
    "coin(1000000)"
   ]
  },
  {
   "cell_type": "code",
   "execution_count": 5,
   "metadata": {
    "vscode": {
     "languageId": "r"
    }
   },
   "outputs": [],
   "source": [
    "# 가위 바위 보 시뮬레이션\n",
    "\n",
    "rock <- function(x) {\n",
    "        s = 0\n",
    "        r = 0\n",
    "        p =0\n",
    "        for(i in 1:x) {\n",
    "            x <- trunc(runif(1) * 3) + 1\n",
    "            if(x==1) s= s+1\n",
    "            if(x==2) r = r+1\n",
    "            if(x==3) p = p+1\n",
    "        }   \n",
    "        cat(\"가위 : \", s, \"\\n\") \n",
    "        cat(\"바위 : \", r, \"\\n\") \n",
    "        cat(\"보 : \", p, \"\\n\") \n",
    "        cat(\"------------------\\n\")\n",
    "}"
   ]
  },
  {
   "cell_type": "code",
   "execution_count": 6,
   "metadata": {
    "vscode": {
     "languageId": "r"
    }
   },
   "outputs": [
    {
     "name": "stdout",
     "output_type": "stream",
     "text": [
      "가위 :  6 \n",
      "바위 :  3 \n",
      "보 :  1 \n",
      "------------------\n",
      "가위 :  38 \n",
      "바위 :  32 \n",
      "보 :  30 \n",
      "------------------\n",
      "가위 :  329 \n",
      "바위 :  327 \n",
      "보 :  344 \n",
      "------------------\n",
      "가위 :  3413 \n",
      "바위 :  3299 \n",
      "보 :  3288 \n",
      "------------------\n"
     ]
    },
    {
     "name": "stdout",
     "output_type": "stream",
     "text": [
      "가위 :  33279 \n",
      "바위 :  33510 \n",
      "보 :  33211 \n",
      "------------------\n"
     ]
    }
   ],
   "source": [
    "rock(10)\n",
    "rock(100)\n",
    "rock(1000)\n",
    "rock(10000)\n",
    "rock(100000)"
   ]
  },
  {
   "cell_type": "code",
   "execution_count": 10,
   "metadata": {
    "vscode": {
     "languageId": "r"
    }
   },
   "outputs": [],
   "source": [
    "# 주사위 시뮬레이션\n",
    "\n",
    "dice <- function(n) {\n",
    "     d <- rep(0,6)\n",
    "        cat(\"던진횟수\",n,\"\\n\")\n",
    "        for (i in 1:n) {\n",
    "            x <- trunc(runif(1) * 6) +1\n",
    "            d[x] = d[x] +1\n",
    "        }\n",
    "        for (i in 1:length(d)){\n",
    "                cat(\"No\",i,\"=>\",d[i],\"\\n\")\n",
    "        }\n",
    "        cat(\"---------------------\\n\")\n",
    "}"
   ]
  },
  {
   "cell_type": "code",
   "execution_count": 13,
   "metadata": {
    "vscode": {
     "languageId": "r"
    }
   },
   "outputs": [
    {
     "name": "stdout",
     "output_type": "stream",
     "text": [
      "던진횟수 10 \n",
      "No 1 => 2 \n",
      "No 2 => 0 \n",
      "No 3 => 4 \n",
      "No 4 => 3 \n",
      "No 5 => 0 \n",
      "No 6 => 1 \n",
      "---------------------\n",
      "던진횟수 100 \n",
      "No 1 => 12 \n",
      "No 2 => 21 \n",
      "No 3 => 17 \n",
      "No 4 => 18 \n",
      "No 5 => 13 \n",
      "No 6 => 19 \n",
      "---------------------\n",
      "던진횟수 1000 \n",
      "No 1 => 148 \n",
      "No 2 => 151 \n",
      "No 3 => 180 \n",
      "No 4 => 167 \n",
      "No 5 => 172 \n",
      "No 6 => 182 \n",
      "---------------------\n",
      "던진횟수 10000 \n",
      "No 1 => 1635 \n",
      "No 2 => 1647 \n",
      "No 3 => 1644 \n",
      "No 4 => 1658 \n",
      "No 5 => 1701 \n",
      "No 6 => 1715 \n",
      "---------------------\n",
      "던진횟수 100000 \n",
      "No 1 => 16573 \n",
      "No 2 => 16730 \n",
      "No 3 => 16667 \n",
      "No 4 => 16549 \n",
      "No 5 => 16693 \n",
      "No 6 => 16788 \n",
      "---------------------\n"
     ]
    }
   ],
   "source": [
    "dice(10)\n",
    "dice(100)\n",
    "dice(1000)\n",
    "dice(10000)\n",
    "dice(100000)"
   ]
  },
  {
   "cell_type": "code",
   "execution_count": 12,
   "metadata": {
    "vscode": {
     "languageId": "r"
    }
   },
   "outputs": [],
   "source": [
    "options(scipen = 100)"
   ]
  },
  {
   "cell_type": "code",
   "execution_count": null,
   "metadata": {
    "vscode": {
     "languageId": "r"
    }
   },
   "outputs": [],
   "source": []
  }
 ],
 "metadata": {
  "kernelspec": {
   "display_name": "R",
   "language": "R",
   "name": "r"
  },
  "language_info": {
   "codemirror_mode": "r",
   "file_extension": ".r",
   "mimetype": "text/x-r-source",
   "name": "R",
   "pygments_lexer": "r",
   "version": "4.3.3"
  }
 },
 "nbformat": 4,
 "nbformat_minor": 2
}
