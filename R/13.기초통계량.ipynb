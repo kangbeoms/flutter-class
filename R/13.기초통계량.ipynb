{
 "cells": [
  {
   "cell_type": "code",
   "execution_count": 37,
   "metadata": {
    "vscode": {
     "languageId": "r"
    }
   },
   "outputs": [
    {
     "data": {
      "text/html": [
       "'ko_KR.UTF-8/ko_KR.UTF-8/ko_KR.UTF-8/C/ko_KR.UTF-8/C'"
      ],
      "text/latex": [
       "'ko\\_KR.UTF-8/ko\\_KR.UTF-8/ko\\_KR.UTF-8/C/ko\\_KR.UTF-8/C'"
      ],
      "text/markdown": [
       "'ko_KR.UTF-8/ko_KR.UTF-8/ko_KR.UTF-8/C/ko_KR.UTF-8/C'"
      ],
      "text/plain": [
       "[1] \"ko_KR.UTF-8/ko_KR.UTF-8/ko_KR.UTF-8/C/ko_KR.UTF-8/C\""
      ]
     },
     "metadata": {},
     "output_type": "display_data"
    }
   ],
   "source": [
    "options(warn = -1)\n",
    "options(repr.plot.width=15, repr.plot.height=9) \n",
    "Sys.setlocale(category = \"LC_ALL\", locale = \"ko_KR.UTF-8\")"
   ]
  },
  {
   "cell_type": "code",
   "execution_count": 3,
   "metadata": {
    "vscode": {
     "languageId": "r"
    }
   },
   "outputs": [
    {
     "data": {
      "text/html": [
       "<table class=\"dataframe\">\n",
       "<caption>A data.frame: 28 x 5</caption>\n",
       "<thead>\n",
       "\t<tr><th scope=col>X...seq</th><th scope=col>Day.Code</th><th scope=col>Day.of.Week</th><th scope=col>Coffee</th><th scope=col>Fruit.Cup</th></tr>\n",
       "\t<tr><th scope=col>&lt;int&gt;</th><th scope=col>&lt;int&gt;</th><th scope=col>&lt;chr&gt;</th><th scope=col>&lt;int&gt;</th><th scope=col>&lt;int&gt;</th></tr>\n",
       "</thead>\n",
       "<tbody>\n",
       "\t<tr><td> 1</td><td>1</td><td>Mon</td><td> 3</td><td> 1</td></tr>\n",
       "\t<tr><td> 2</td><td>2</td><td>Tue</td><td> 8</td><td> 0</td></tr>\n",
       "\t<tr><td> 3</td><td>3</td><td>Wed</td><td>11</td><td> 0</td></tr>\n",
       "\t<tr><td> 4</td><td>4</td><td>Thu</td><td>24</td><td> 0</td></tr>\n",
       "\t<tr><td> 5</td><td>5</td><td>Fri</td><td> 5</td><td> 5</td></tr>\n",
       "\t<tr><td> 6</td><td>6</td><td>Sat</td><td>10</td><td> 0</td></tr>\n",
       "\t<tr><td> 7</td><td>7</td><td>Sun</td><td>22</td><td> 0</td></tr>\n",
       "\t<tr><td> 8</td><td>1</td><td>Mon</td><td>25</td><td>15</td></tr>\n",
       "\t<tr><td> 9</td><td>2</td><td>Tue</td><td>27</td><td> 7</td></tr>\n",
       "\t<tr><td>10</td><td>3</td><td>Wed</td><td>13</td><td> 8</td></tr>\n",
       "\t<tr><td>11</td><td>4</td><td>Thu</td><td> 5</td><td> 0</td></tr>\n",
       "\t<tr><td>12</td><td>5</td><td>Fri</td><td> 9</td><td>23</td></tr>\n",
       "\t<tr><td>13</td><td>6</td><td>Sat</td><td>11</td><td> 0</td></tr>\n",
       "\t<tr><td>14</td><td>7</td><td>Sun</td><td>14</td><td> 0</td></tr>\n",
       "\t<tr><td>15</td><td>1</td><td>Mon</td><td>18</td><td> 4</td></tr>\n",
       "\t<tr><td>16</td><td>2</td><td>Tue</td><td>29</td><td> 7</td></tr>\n",
       "\t<tr><td>17</td><td>3</td><td>Wed</td><td>33</td><td>13</td></tr>\n",
       "\t<tr><td>18</td><td>4</td><td>Thu</td><td>34</td><td>12</td></tr>\n",
       "\t<tr><td>19</td><td>5</td><td>Fri</td><td>29</td><td>15</td></tr>\n",
       "\t<tr><td>20</td><td>6</td><td>Sat</td><td>50</td><td>15</td></tr>\n",
       "\t<tr><td>21</td><td>7</td><td>Sun</td><td>51</td><td>18</td></tr>\n",
       "\t<tr><td>22</td><td>1</td><td>Mon</td><td>54</td><td> 3</td></tr>\n",
       "\t<tr><td>23</td><td>2</td><td>Tue</td><td>53</td><td> 5</td></tr>\n",
       "\t<tr><td>24</td><td>3</td><td>Wed</td><td>56</td><td> 7</td></tr>\n",
       "\t<tr><td>25</td><td>4</td><td>Thu</td><td>59</td><td> 0</td></tr>\n",
       "\t<tr><td>26</td><td>5</td><td>Fri</td><td>34</td><td> 2</td></tr>\n",
       "\t<tr><td>27</td><td>6</td><td>Sat</td><td>49</td><td> 3</td></tr>\n",
       "\t<tr><td>28</td><td>7</td><td>Sun</td><td>50</td><td> 7</td></tr>\n",
       "</tbody>\n",
       "</table>\n"
      ],
      "text/latex": [
       "A data.frame: 28 x 5\n",
       "\\begin{tabular}{lllll}\n",
       " X...seq & Day.Code & Day.of.Week & Coffee & Fruit.Cup\\\\\n",
       " <int> & <int> & <chr> & <int> & <int>\\\\\n",
       "\\hline\n",
       "\t  1 & 1 & Mon &  3 &  1\\\\\n",
       "\t  2 & 2 & Tue &  8 &  0\\\\\n",
       "\t  3 & 3 & Wed & 11 &  0\\\\\n",
       "\t  4 & 4 & Thu & 24 &  0\\\\\n",
       "\t  5 & 5 & Fri &  5 &  5\\\\\n",
       "\t  6 & 6 & Sat & 10 &  0\\\\\n",
       "\t  7 & 7 & Sun & 22 &  0\\\\\n",
       "\t  8 & 1 & Mon & 25 & 15\\\\\n",
       "\t  9 & 2 & Tue & 27 &  7\\\\\n",
       "\t 10 & 3 & Wed & 13 &  8\\\\\n",
       "\t 11 & 4 & Thu &  5 &  0\\\\\n",
       "\t 12 & 5 & Fri &  9 & 23\\\\\n",
       "\t 13 & 6 & Sat & 11 &  0\\\\\n",
       "\t 14 & 7 & Sun & 14 &  0\\\\\n",
       "\t 15 & 1 & Mon & 18 &  4\\\\\n",
       "\t 16 & 2 & Tue & 29 &  7\\\\\n",
       "\t 17 & 3 & Wed & 33 & 13\\\\\n",
       "\t 18 & 4 & Thu & 34 & 12\\\\\n",
       "\t 19 & 5 & Fri & 29 & 15\\\\\n",
       "\t 20 & 6 & Sat & 50 & 15\\\\\n",
       "\t 21 & 7 & Sun & 51 & 18\\\\\n",
       "\t 22 & 1 & Mon & 54 &  3\\\\\n",
       "\t 23 & 2 & Tue & 53 &  5\\\\\n",
       "\t 24 & 3 & Wed & 56 &  7\\\\\n",
       "\t 25 & 4 & Thu & 59 &  0\\\\\n",
       "\t 26 & 5 & Fri & 34 &  2\\\\\n",
       "\t 27 & 6 & Sat & 49 &  3\\\\\n",
       "\t 28 & 7 & Sun & 50 &  7\\\\\n",
       "\\end{tabular}\n"
      ],
      "text/markdown": [
       "\n",
       "A data.frame: 28 x 5\n",
       "\n",
       "| X...seq &lt;int&gt; | Day.Code &lt;int&gt; | Day.of.Week &lt;chr&gt; | Coffee &lt;int&gt; | Fruit.Cup &lt;int&gt; |\n",
       "|---|---|---|---|---|\n",
       "|  1 | 1 | Mon |  3 |  1 |\n",
       "|  2 | 2 | Tue |  8 |  0 |\n",
       "|  3 | 3 | Wed | 11 |  0 |\n",
       "|  4 | 4 | Thu | 24 |  0 |\n",
       "|  5 | 5 | Fri |  5 |  5 |\n",
       "|  6 | 6 | Sat | 10 |  0 |\n",
       "|  7 | 7 | Sun | 22 |  0 |\n",
       "|  8 | 1 | Mon | 25 | 15 |\n",
       "|  9 | 2 | Tue | 27 |  7 |\n",
       "| 10 | 3 | Wed | 13 |  8 |\n",
       "| 11 | 4 | Thu |  5 |  0 |\n",
       "| 12 | 5 | Fri |  9 | 23 |\n",
       "| 13 | 6 | Sat | 11 |  0 |\n",
       "| 14 | 7 | Sun | 14 |  0 |\n",
       "| 15 | 1 | Mon | 18 |  4 |\n",
       "| 16 | 2 | Tue | 29 |  7 |\n",
       "| 17 | 3 | Wed | 33 | 13 |\n",
       "| 18 | 4 | Thu | 34 | 12 |\n",
       "| 19 | 5 | Fri | 29 | 15 |\n",
       "| 20 | 6 | Sat | 50 | 15 |\n",
       "| 21 | 7 | Sun | 51 | 18 |\n",
       "| 22 | 1 | Mon | 54 |  3 |\n",
       "| 23 | 2 | Tue | 53 |  5 |\n",
       "| 24 | 3 | Wed | 56 |  7 |\n",
       "| 25 | 4 | Thu | 59 |  0 |\n",
       "| 26 | 5 | Fri | 34 |  2 |\n",
       "| 27 | 6 | Sat | 49 |  3 |\n",
       "| 28 | 7 | Sun | 50 |  7 |\n",
       "\n"
      ],
      "text/plain": [
       "   X...seq Day.Code Day.of.Week Coffee Fruit.Cup\n",
       "1   1      1        Mon          3      1       \n",
       "2   2      2        Tue          8      0       \n",
       "3   3      3        Wed         11      0       \n",
       "4   4      4        Thu         24      0       \n",
       "5   5      5        Fri          5      5       \n",
       "6   6      6        Sat         10      0       \n",
       "7   7      7        Sun         22      0       \n",
       "8   8      1        Mon         25     15       \n",
       "9   9      2        Tue         27      7       \n",
       "10 10      3        Wed         13      8       \n",
       "11 11      4        Thu          5      0       \n",
       "12 12      5        Fri          9     23       \n",
       "13 13      6        Sat         11      0       \n",
       "14 14      7        Sun         14      0       \n",
       "15 15      1        Mon         18      4       \n",
       "16 16      2        Tue         29      7       \n",
       "17 17      3        Wed         33     13       \n",
       "18 18      4        Thu         34     12       \n",
       "19 19      5        Fri         29     15       \n",
       "20 20      6        Sat         50     15       \n",
       "21 21      7        Sun         51     18       \n",
       "22 22      1        Mon         54      3       \n",
       "23 23      2        Tue         53      5       \n",
       "24 24      3        Wed         56      7       \n",
       "25 25      4        Thu         59      0       \n",
       "26 26      5        Fri         34      2       \n",
       "27 27      6        Sat         49      3       \n",
       "28 28      7        Sun         50      7       "
      ]
     },
     "metadata": {},
     "output_type": "display_data"
    }
   ],
   "source": [
    "cafe <- read.csv(\"./Data/coffee.csv\")\n",
    "cafe"
   ]
  },
  {
   "cell_type": "code",
   "execution_count": 4,
   "metadata": {
    "vscode": {
     "languageId": "r"
    }
   },
   "outputs": [
    {
     "data": {
      "text/plain": [
       "\n",
       " 3  5  8  9 10 11 13 14 18 22 24 25 27 29 33 34 49 50 51 53 54 56 59 \n",
       " 1  2  1  1  1  2  1  1  1  1  1  1  1  2  1  2  1  2  1  1  1  1  1 "
      ]
     },
     "metadata": {},
     "output_type": "display_data"
    }
   ],
   "source": [
    "# 빈도수 \n",
    "table(cafe$Coffee)"
   ]
  },
  {
   "cell_type": "code",
   "execution_count": 8,
   "metadata": {
    "vscode": {
     "languageId": "r"
    }
   },
   "outputs": [
    {
     "data": {
      "text/html": [
       "<table class=\"dataframe\">\n",
       "<caption>A data.frame: 6 x 5</caption>\n",
       "<thead>\n",
       "\t<tr><th></th><th scope=col>X...seq</th><th scope=col>Day.Code</th><th scope=col>Day.of.Week</th><th scope=col>Coffee</th><th scope=col>Fruit.Cup</th></tr>\n",
       "\t<tr><th></th><th scope=col>&lt;int&gt;</th><th scope=col>&lt;int&gt;</th><th scope=col>&lt;chr&gt;</th><th scope=col>&lt;int&gt;</th><th scope=col>&lt;int&gt;</th></tr>\n",
       "</thead>\n",
       "<tbody>\n",
       "\t<tr><th scope=row>1</th><td>1</td><td>1</td><td>Mon</td><td> 3</td><td>1</td></tr>\n",
       "\t<tr><th scope=row>2</th><td>2</td><td>2</td><td>Tue</td><td> 8</td><td>0</td></tr>\n",
       "\t<tr><th scope=row>3</th><td>3</td><td>3</td><td>Wed</td><td>11</td><td>0</td></tr>\n",
       "\t<tr><th scope=row>4</th><td>4</td><td>4</td><td>Thu</td><td>24</td><td>0</td></tr>\n",
       "\t<tr><th scope=row>5</th><td>5</td><td>5</td><td>Fri</td><td> 5</td><td>5</td></tr>\n",
       "\t<tr><th scope=row>6</th><td>6</td><td>6</td><td>Sat</td><td>10</td><td>0</td></tr>\n",
       "</tbody>\n",
       "</table>\n"
      ],
      "text/latex": [
       "A data.frame: 6 x 5\n",
       "\\begin{tabular}{r|lllll}\n",
       "  & X...seq & Day.Code & Day.of.Week & Coffee & Fruit.Cup\\\\\n",
       "  & <int> & <int> & <chr> & <int> & <int>\\\\\n",
       "\\hline\n",
       "\t1 & 1 & 1 & Mon &  3 & 1\\\\\n",
       "\t2 & 2 & 2 & Tue &  8 & 0\\\\\n",
       "\t3 & 3 & 3 & Wed & 11 & 0\\\\\n",
       "\t4 & 4 & 4 & Thu & 24 & 0\\\\\n",
       "\t5 & 5 & 5 & Fri &  5 & 5\\\\\n",
       "\t6 & 6 & 6 & Sat & 10 & 0\\\\\n",
       "\\end{tabular}\n"
      ],
      "text/markdown": [
       "\n",
       "A data.frame: 6 x 5\n",
       "\n",
       "| <!--/--> | X...seq &lt;int&gt; | Day.Code &lt;int&gt; | Day.of.Week &lt;chr&gt; | Coffee &lt;int&gt; | Fruit.Cup &lt;int&gt; |\n",
       "|---|---|---|---|---|---|\n",
       "| 1 | 1 | 1 | Mon |  3 | 1 |\n",
       "| 2 | 2 | 2 | Tue |  8 | 0 |\n",
       "| 3 | 3 | 3 | Wed | 11 | 0 |\n",
       "| 4 | 4 | 4 | Thu | 24 | 0 |\n",
       "| 5 | 5 | 5 | Fri |  5 | 5 |\n",
       "| 6 | 6 | 6 | Sat | 10 | 0 |\n",
       "\n"
      ],
      "text/plain": [
       "  X...seq Day.Code Day.of.Week Coffee Fruit.Cup\n",
       "1 1       1        Mon          3     1        \n",
       "2 2       2        Tue          8     0        \n",
       "3 3       3        Wed         11     0        \n",
       "4 4       4        Thu         24     0        \n",
       "5 5       5        Fri          5     5        \n",
       "6 6       6        Sat         10     0        "
      ]
     },
     "metadata": {},
     "output_type": "display_data"
    }
   ],
   "source": [
    "head(cafe)"
   ]
  },
  {
   "cell_type": "code",
   "execution_count": 10,
   "metadata": {
    "vscode": {
     "languageId": "r"
    }
   },
   "outputs": [
    {
     "data": {
      "text/html": [
       "<style>\n",
       ".list-inline {list-style: none; margin:0; padding: 0}\n",
       ".list-inline>li {display: inline-block}\n",
       ".list-inline>li:not(:last-child)::after {content: \"\\00b7\"; padding: 0 .5ex}\n",
       "</style>\n",
       "<ol class=list-inline><li>0</li><li>10</li><li>20</li><li>30</li><li>40</li><li>50</li><li>60</li></ol>\n"
      ],
      "text/latex": [
       "\\begin{enumerate*}\n",
       "\\item 0\n",
       "\\item 10\n",
       "\\item 20\n",
       "\\item 30\n",
       "\\item 40\n",
       "\\item 50\n",
       "\\item 60\n",
       "\\end{enumerate*}\n"
      ],
      "text/markdown": [
       "1. 0\n",
       "2. 10\n",
       "3. 20\n",
       "4. 30\n",
       "5. 40\n",
       "6. 50\n",
       "7. 60\n",
       "\n",
       "\n"
      ],
      "text/plain": [
       "[1]  0 10 20 30 40 50 60"
      ]
     },
     "metadata": {},
     "output_type": "display_data"
    },
    {
     "data": {
      "text/plain": [
       "\n",
       " (0,10] (10,20] (20,30] (30,40] (40,50] (50,60] \n",
       "      6       5       6       3       3       5 "
      ]
     },
     "metadata": {},
     "output_type": "display_data"
    },
    {
     "data": {
      "text/plain": [
       "\n",
       " [0,10) [10,20) [20,30) [30,40) [40,50) [50,60) \n",
       "      5       6       6       3       1       7 "
      ]
     },
     "metadata": {},
     "output_type": "display_data"
    }
   ],
   "source": [
    "# 범위 빈도수 \n",
    "coffee_Range <- seq(0,60,10)\n",
    "coffee_Range\n",
    "# 범위를 자른다        커피 레인지 만큼 끈는다\n",
    "# 빈도수를 알기위해 table 함수 사용\n",
    "table(cut(cafe$Coffee,breaks = coffee_Range))\n",
    "# 열린괄호 는 50을 포함 안하고 닫힌 괄호는 포함한다\n",
    "\n",
    "# 닫힌괄호를 왼쪽으로 하고싶으면 이거 사용\n",
    "table(cut(cafe$Coffee,breaks = coffee_Range, right = F))"
   ]
  },
  {
   "cell_type": "code",
   "execution_count": 11,
   "metadata": {
    "vscode": {
     "languageId": "r"
    }
   },
   "outputs": [
    {
     "name": "stdout",
     "output_type": "stream",
     "text": [
      "\n",
      "  The decimal point is 1 digit(s) to the right of the |\n",
      "\n",
      "  0 | 35589\n",
      "  1 | 011348\n",
      "  2 | 245799\n",
      "  3 | 344\n",
      "  4 | 9\n",
      "  5 | 0013469\n",
      "\n"
     ]
    }
   ],
   "source": [
    "# 줄기-잎 그림\n",
    "stem(cafe$Coffee)\n"
   ]
  },
  {
   "cell_type": "code",
   "execution_count": 38,
   "metadata": {
    "vscode": {
     "languageId": "r"
    }
   },
   "outputs": [
    {
     "data": {
      "text/html": [
       "<table class=\"dataframe\">\n",
       "<caption>A data.frame: 6 x 5</caption>\n",
       "<thead>\n",
       "\t<tr><th></th><th scope=col>X...seq</th><th scope=col>Day.Code</th><th scope=col>Day.of.Week</th><th scope=col>Coffee</th><th scope=col>Fruit.Cup</th></tr>\n",
       "\t<tr><th></th><th scope=col>&lt;int&gt;</th><th scope=col>&lt;int&gt;</th><th scope=col>&lt;chr&gt;</th><th scope=col>&lt;int&gt;</th><th scope=col>&lt;int&gt;</th></tr>\n",
       "</thead>\n",
       "<tbody>\n",
       "\t<tr><th scope=row>1</th><td>1</td><td>1</td><td>Mon</td><td> 3</td><td>1</td></tr>\n",
       "\t<tr><th scope=row>2</th><td>2</td><td>2</td><td>Tue</td><td> 8</td><td>0</td></tr>\n",
       "\t<tr><th scope=row>3</th><td>3</td><td>3</td><td>Wed</td><td>11</td><td>0</td></tr>\n",
       "\t<tr><th scope=row>4</th><td>4</td><td>4</td><td>Thu</td><td>24</td><td>0</td></tr>\n",
       "\t<tr><th scope=row>5</th><td>5</td><td>5</td><td>Fri</td><td> 5</td><td>5</td></tr>\n",
       "\t<tr><th scope=row>6</th><td>6</td><td>6</td><td>Sat</td><td>10</td><td>0</td></tr>\n",
       "</tbody>\n",
       "</table>\n"
      ],
      "text/latex": [
       "A data.frame: 6 x 5\n",
       "\\begin{tabular}{r|lllll}\n",
       "  & X...seq & Day.Code & Day.of.Week & Coffee & Fruit.Cup\\\\\n",
       "  & <int> & <int> & <chr> & <int> & <int>\\\\\n",
       "\\hline\n",
       "\t1 & 1 & 1 & Mon &  3 & 1\\\\\n",
       "\t2 & 2 & 2 & Tue &  8 & 0\\\\\n",
       "\t3 & 3 & 3 & Wed & 11 & 0\\\\\n",
       "\t4 & 4 & 4 & Thu & 24 & 0\\\\\n",
       "\t5 & 5 & 5 & Fri &  5 & 5\\\\\n",
       "\t6 & 6 & 6 & Sat & 10 & 0\\\\\n",
       "\\end{tabular}\n"
      ],
      "text/markdown": [
       "\n",
       "A data.frame: 6 x 5\n",
       "\n",
       "| <!--/--> | X...seq &lt;int&gt; | Day.Code &lt;int&gt; | Day.of.Week &lt;chr&gt; | Coffee &lt;int&gt; | Fruit.Cup &lt;int&gt; |\n",
       "|---|---|---|---|---|---|\n",
       "| 1 | 1 | 1 | Mon |  3 | 1 |\n",
       "| 2 | 2 | 2 | Tue |  8 | 0 |\n",
       "| 3 | 3 | 3 | Wed | 11 | 0 |\n",
       "| 4 | 4 | 4 | Thu | 24 | 0 |\n",
       "| 5 | 5 | 5 | Fri |  5 | 5 |\n",
       "| 6 | 6 | 6 | Sat | 10 | 0 |\n",
       "\n"
      ],
      "text/plain": [
       "  X...seq Day.Code Day.of.Week Coffee Fruit.Cup\n",
       "1 1       1        Mon          3     1        \n",
       "2 2       2        Tue          8     0        \n",
       "3 3       3        Wed         11     0        \n",
       "4 4       4        Thu         24     0        \n",
       "5 5       5        Fri          5     5        \n",
       "6 6       6        Sat         10     0        "
      ]
     },
     "metadata": {},
     "output_type": "display_data"
    },
    {
     "data": {
      "text/html": [
       "<strong>Coffee:</strong> 28.0714285714286"
      ],
      "text/latex": [
       "\\textbf{Coffee:} 28.0714285714286"
      ],
      "text/markdown": [
       "**Coffee:** 28.0714285714286"
      ],
      "text/plain": [
       "  Coffee \n",
       "28.07143 "
      ]
     },
     "metadata": {},
     "output_type": "display_data"
    },
    {
     "data": {
      "text/html": [
       "<strong>Fruit.Cup:</strong> 6.07142857142857"
      ],
      "text/latex": [
       "\\textbf{Fruit.Cup:} 6.07142857142857"
      ],
      "text/markdown": [
       "**Fruit.Cup:** 6.07142857142857"
      ],
      "text/plain": [
       "Fruit.Cup \n",
       " 6.071429 "
      ]
     },
     "metadata": {},
     "output_type": "display_data"
    },
    {
     "name": "stdout",
     "output_type": "stream",
     "text": [
      "커피 변동계수"
     ]
    },
    {
     "data": {
      "text/html": [
       "18.3"
      ],
      "text/latex": [
       "18.3"
      ],
      "text/markdown": [
       "18.3"
      ],
      "text/plain": [
       "[1] 18.3"
      ]
     },
     "metadata": {},
     "output_type": "display_data"
    },
    {
     "data": {
      "text/html": [
       "6.5"
      ],
      "text/latex": [
       "6.5"
      ],
      "text/markdown": [
       "6.5"
      ],
      "text/plain": [
       "[1] 6.5"
      ]
     },
     "metadata": {},
     "output_type": "display_data"
    },
    {
     "data": {
      "text/html": [
       "<strong>Coffee:</strong> 0.65082"
      ],
      "text/latex": [
       "\\textbf{Coffee:} 0.65082"
      ],
      "text/markdown": [
       "**Coffee:** 0.65082"
      ],
      "text/plain": [
       " Coffee \n",
       "0.65082 "
      ]
     },
     "metadata": {},
     "output_type": "display_data"
    },
    {
     "data": {
      "text/html": [
       "<strong>Fruit.Cup:</strong> 1.07859"
      ],
      "text/latex": [
       "\\textbf{Fruit.Cup:} 1.07859"
      ],
      "text/markdown": [
       "**Fruit.Cup:** 1.07859"
      ],
      "text/plain": [
       "Fruit.Cup \n",
       "  1.07859 "
      ]
     },
     "metadata": {},
     "output_type": "display_data"
    }
   ],
   "source": [
    "# 커피와 주스의 변동계수 구하기\n",
    "head(cafe)\n",
    "\n",
    "# 평균 구하기\n",
    "cmeanval <- apply(cafe[4],2,sum) / length(cafe[,4])\n",
    "cmeanval\n",
    "\n",
    "jmeanval <- apply(cafe[5],2,sum) / length(cafe[,5])\n",
    "jmeanval\n",
    "# 표준편차 구하기\n",
    "Csd <- sd(cafe$Coffee)\n",
    "cat(\"커피 변동계수\")\n",
    "round(Csd,1)\n",
    "Jsd <- sd(cafe$Fruit.Cup)\n",
    "round(Jsd,1)\n",
    "# 변동계수 결과값\n",
    "\n",
    "round( Csd / cmeanval , 5)\n",
    "round(Jsd / jmeanval ,5)\n"
   ]
  },
  {
   "cell_type": "code",
   "execution_count": 40,
   "metadata": {
    "vscode": {
     "languageId": "r"
    }
   },
   "outputs": [
    {
     "data": {
      "text/html": [
       "<style>\n",
       ".list-inline {list-style: none; margin:0; padding: 0}\n",
       ".list-inline>li {display: inline-block}\n",
       ".list-inline>li:not(:last-child)::after {content: \"\\00b7\"; padding: 0 .5ex}\n",
       "</style>\n",
       "<ol class=list-inline><li>0</li><li>0</li><li>0</li><li>0</li><li>0</li><li>0</li><li>0</li><li>0</li><li>0</li><li>1</li><li>2</li><li>3</li><li>3</li><li>4</li><li>5</li><li>5</li><li>7</li><li>7</li><li>7</li><li>7</li><li>8</li><li>12</li><li>13</li><li>15</li><li>15</li><li>15</li><li>18</li><li>23</li></ol>\n"
      ],
      "text/latex": [
       "\\begin{enumerate*}\n",
       "\\item 0\n",
       "\\item 0\n",
       "\\item 0\n",
       "\\item 0\n",
       "\\item 0\n",
       "\\item 0\n",
       "\\item 0\n",
       "\\item 0\n",
       "\\item 0\n",
       "\\item 1\n",
       "\\item 2\n",
       "\\item 3\n",
       "\\item 3\n",
       "\\item 4\n",
       "\\item 5\n",
       "\\item 5\n",
       "\\item 7\n",
       "\\item 7\n",
       "\\item 7\n",
       "\\item 7\n",
       "\\item 8\n",
       "\\item 12\n",
       "\\item 13\n",
       "\\item 15\n",
       "\\item 15\n",
       "\\item 15\n",
       "\\item 18\n",
       "\\item 23\n",
       "\\end{enumerate*}\n"
      ],
      "text/markdown": [
       "1. 0\n",
       "2. 0\n",
       "3. 0\n",
       "4. 0\n",
       "5. 0\n",
       "6. 0\n",
       "7. 0\n",
       "8. 0\n",
       "9. 0\n",
       "10. 1\n",
       "11. 2\n",
       "12. 3\n",
       "13. 3\n",
       "14. 4\n",
       "15. 5\n",
       "16. 5\n",
       "17. 7\n",
       "18. 7\n",
       "19. 7\n",
       "20. 7\n",
       "21. 8\n",
       "22. 12\n",
       "23. 13\n",
       "24. 15\n",
       "25. 15\n",
       "26. 15\n",
       "27. 18\n",
       "28. 23\n",
       "\n",
       "\n"
      ],
      "text/plain": [
       " [1]  0  0  0  0  0  0  0  0  0  1  2  3  3  4  5  5  7  7  7  7  8 12 13 15 15\n",
       "[26] 15 18 23"
      ]
     },
     "metadata": {},
     "output_type": "display_data"
    },
    {
     "data": {
      "text/html": [
       "<style>\n",
       ".list-inline {list-style: none; margin:0; padding: 0}\n",
       ".list-inline>li {display: inline-block}\n",
       ".list-inline>li:not(:last-child)::after {content: \"\\00b7\"; padding: 0 .5ex}\n",
       "</style>\n",
       "<ol class=list-inline><li>3</li><li>5</li><li>5</li><li>8</li><li>9</li><li>10</li><li>11</li><li>11</li><li>13</li><li>14</li><li>18</li><li>22</li><li>24</li><li>25</li><li>27</li><li>29</li><li>29</li><li>33</li><li>34</li><li>34</li><li>49</li><li>50</li><li>50</li><li>51</li><li>53</li><li>54</li><li>56</li><li>59</li></ol>\n"
      ],
      "text/latex": [
       "\\begin{enumerate*}\n",
       "\\item 3\n",
       "\\item 5\n",
       "\\item 5\n",
       "\\item 8\n",
       "\\item 9\n",
       "\\item 10\n",
       "\\item 11\n",
       "\\item 11\n",
       "\\item 13\n",
       "\\item 14\n",
       "\\item 18\n",
       "\\item 22\n",
       "\\item 24\n",
       "\\item 25\n",
       "\\item 27\n",
       "\\item 29\n",
       "\\item 29\n",
       "\\item 33\n",
       "\\item 34\n",
       "\\item 34\n",
       "\\item 49\n",
       "\\item 50\n",
       "\\item 50\n",
       "\\item 51\n",
       "\\item 53\n",
       "\\item 54\n",
       "\\item 56\n",
       "\\item 59\n",
       "\\end{enumerate*}\n"
      ],
      "text/markdown": [
       "1. 3\n",
       "2. 5\n",
       "3. 5\n",
       "4. 8\n",
       "5. 9\n",
       "6. 10\n",
       "7. 11\n",
       "8. 11\n",
       "9. 13\n",
       "10. 14\n",
       "11. 18\n",
       "12. 22\n",
       "13. 24\n",
       "14. 25\n",
       "15. 27\n",
       "16. 29\n",
       "17. 29\n",
       "18. 33\n",
       "19. 34\n",
       "20. 34\n",
       "21. 49\n",
       "22. 50\n",
       "23. 50\n",
       "24. 51\n",
       "25. 53\n",
       "26. 54\n",
       "27. 56\n",
       "28. 59\n",
       "\n",
       "\n"
      ],
      "text/plain": [
       " [1]  3  5  5  8  9 10 11 11 13 14 18 22 24 25 27 29 29 33 34 34 49 50 50 51 53\n",
       "[26] 54 56 59"
      ]
     },
     "metadata": {},
     "output_type": "display_data"
    }
   ],
   "source": [
    "# 변동계수 증거자료\n",
    "# 주스는 안팔린 때가 있지만 커피는 계속 팔린다\n",
    "sort(cafe$Fruit.Cup)\n",
    "sort(cafe$Coffee)"
   ]
  },
  {
   "cell_type": "code",
   "execution_count": 42,
   "metadata": {
    "vscode": {
     "languageId": "r"
    }
   },
   "outputs": [
    {
     "data": {
      "image/png": "[encoded data removed]",
      "text/plain": [
       "plot without title"
      ]
     },
     "metadata": {
      "image/png": {
       "height": 540,
       "width": 900
      }
     },
     "output_type": "display_data"
    }
   ],
   "source": [
    "# 커피는 정규분포를 이루고 있지만 주스는 한쪽으로 쏠려있다\n",
    "par(bg = 'white')\n",
    "boxplot(cafe$Coffee,cafe$Fruit.Cup)"
   ]
  },
  {
   "cell_type": "code",
   "execution_count": null,
   "metadata": {
    "vscode": {
     "languageId": "r"
    }
   },
   "outputs": [],
   "source": []
  }
 ],
 "metadata": {
  "kernelspec": {
   "display_name": "R",
   "language": "R",
   "name": "r"
  },
  "language_info": {
   "codemirror_mode": "r",
   "file_extension": ".r",
   "mimetype": "text/x-r-source",
   "name": "R",
   "pygments_lexer": "r",
   "version": "4.3.3"
  }
 },
 "nbformat": 4,
 "nbformat_minor": 2
}
