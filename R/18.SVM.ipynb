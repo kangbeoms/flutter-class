{
 "cells": [
  {
   "cell_type": "markdown",
   "metadata": {},
   "source": [
    "# SVM(Suport Vector Machine)"
   ]
  },
  {
   "cell_type": "code",
   "execution_count": 1,
   "metadata": {
    "vscode": {
     "languageId": "r"
    }
   },
   "outputs": [
    {
     "name": "stdout",
     "output_type": "stream",
     "text": [
      "\n",
      "The downloaded binary packages are in\n",
      "\t/var/folders/yv/6lsgw8xx2qv1cgvxrdpr6_pw0000gn/T//Rtmpp1BHcg/downloaded_packages\n"
     ]
    }
   ],
   "source": [
    "#install.packages('e1071')"
   ]
  },
  {
   "cell_type": "code",
   "execution_count": 4,
   "metadata": {
    "vscode": {
     "languageId": "r"
    }
   },
   "outputs": [
    {
     "name": "stderr",
     "output_type": "stream",
     "text": [
      "Loading required package: ggplot2\n",
      "\n",
      "Loading required package: lattice\n",
      "\n"
     ]
    }
   ],
   "source": [
    "library(e1071)\n",
    "library(caret)\n",
    "# 보통 객관식 문제를 풀기위해 사용"
   ]
  },
  {
   "cell_type": "code",
   "execution_count": 5,
   "metadata": {
    "vscode": {
     "languageId": "r"
    }
   },
   "outputs": [],
   "source": [
    "#학습용, 검증용 분류\n",
    "samp <- createDataPartition(iris$Species,p = 0.7, list = F)\n",
    "#학습용\n",
    "data.tr <- iris[samp,]\n",
    "# 검증용\n",
    "data.test <- iris[-samp,]\n"
   ]
  },
  {
   "cell_type": "code",
   "execution_count": 17,
   "metadata": {
    "vscode": {
     "languageId": "r"
    }
   },
   "outputs": [
    {
     "data": {
      "text/html": [
       "'data.frame'"
      ],
      "text/latex": [
       "'data.frame'"
      ],
      "text/markdown": [
       "'data.frame'"
      ],
      "text/plain": [
       "[1] \"data.frame\""
      ]
     },
     "metadata": {},
     "output_type": "display_data"
    },
    {
     "data": {
      "text/html": [
       "'factor'"
      ],
      "text/latex": [
       "'factor'"
      ],
      "text/markdown": [
       "'factor'"
      ],
      "text/plain": [
       "[1] \"factor\""
      ]
     },
     "metadata": {},
     "output_type": "display_data"
    }
   ],
   "source": [
    "# 문제와 정답 만들기\n",
    "x <- subset(data.test, select = -Species )\n",
    "y <- data.test$Species\n",
    "class(x)\n",
    "class(y)"
   ]
  },
  {
   "cell_type": "code",
   "execution_count": 14,
   "metadata": {
    "vscode": {
     "languageId": "r"
    }
   },
   "outputs": [
    {
     "data": {
      "text/plain": [
       "\n",
       "Call:\n",
       "svm(formula = Species ~ ., data = data.tr)\n",
       "\n",
       "\n",
       "Parameters:\n",
       "   SVM-Type:  C-classification \n",
       " SVM-Kernel:  radial \n",
       "       cost:  1 \n",
       "\n",
       "Number of Support Vectors:  46\n"
      ]
     },
     "metadata": {},
     "output_type": "display_data"
    },
    {
     "data": {
      "text/html": [
       "<style>\n",
       ".list-inline {list-style: none; margin:0; padding: 0}\n",
       ".list-inline>li {display: inline-block}\n",
       ".list-inline>li:not(:last-child)::after {content: \"\\00b7\"; padding: 0 .5ex}\n",
       "</style>\n",
       "<ol class=list-inline><li>'svm.formula'</li><li>'svm'</li></ol>\n"
      ],
      "text/latex": [
       "\\begin{enumerate*}\n",
       "\\item 'svm.formula'\n",
       "\\item 'svm'\n",
       "\\end{enumerate*}\n"
      ],
      "text/markdown": [
       "1. 'svm.formula'\n",
       "2. 'svm'\n",
       "\n",
       "\n"
      ],
      "text/plain": [
       "[1] \"svm.formula\" \"svm\"        "
      ]
     },
     "metadata": {},
     "output_type": "display_data"
    }
   ],
   "source": [
    "# 학습시키기 \n",
    "model <- svm(Species ~ ., data=data.tr)\n",
    "model\n",
    "class(model)"
   ]
  },
  {
   "cell_type": "code",
   "execution_count": 16,
   "metadata": {
    "vscode": {
     "languageId": "r"
    }
   },
   "outputs": [
    {
     "data": {
      "text/html": [
       "<style>\n",
       ".dl-inline {width: auto; margin:0; padding: 0}\n",
       ".dl-inline>dt, .dl-inline>dd {float: none; width: auto; display: inline-block}\n",
       ".dl-inline>dt::after {content: \":\\0020\"; padding-right: .5ex}\n",
       ".dl-inline>dt:not(:first-of-type) {padding-left: .5ex}\n",
       "</style><dl class=dl-inline><dt>2</dt><dd>setosa</dd><dt>3</dt><dd>setosa</dd><dt>8</dt><dd>setosa</dd><dt>9</dt><dd>setosa</dd><dt>19</dt><dd>setosa</dd><dt>22</dt><dd>setosa</dd><dt>25</dt><dd>setosa</dd><dt>27</dt><dd>setosa</dd><dt>30</dt><dd>setosa</dd><dt>31</dt><dd>setosa</dd><dt>32</dt><dd>setosa</dd><dt>39</dt><dd>setosa</dd><dt>40</dt><dd>setosa</dd><dt>47</dt><dd>setosa</dd><dt>48</dt><dd>setosa</dd><dt>55</dt><dd>versicolor</dd><dt>60</dt><dd>versicolor</dd><dt>63</dt><dd>versicolor</dd><dt>66</dt><dd>versicolor</dd><dt>71</dt><dd>versicolor</dd><dt>77</dt><dd>versicolor</dd><dt>81</dt><dd>versicolor</dd><dt>83</dt><dd>versicolor</dd><dt>88</dt><dd>versicolor</dd><dt>89</dt><dd>versicolor</dd><dt>90</dt><dd>versicolor</dd><dt>92</dt><dd>versicolor</dd><dt>93</dt><dd>versicolor</dd><dt>95</dt><dd>versicolor</dd><dt>99</dt><dd>versicolor</dd><dt>103</dt><dd>virginica</dd><dt>106</dt><dd>virginica</dd><dt>107</dt><dd>versicolor</dd><dt>111</dt><dd>virginica</dd><dt>112</dt><dd>virginica</dd><dt>115</dt><dd>virginica</dd><dt>117</dt><dd>virginica</dd><dt>119</dt><dd>virginica</dd><dt>121</dt><dd>virginica</dd><dt>126</dt><dd>virginica</dd><dt>130</dt><dd>virginica</dd><dt>132</dt><dd>virginica</dd><dt>140</dt><dd>virginica</dd><dt>146</dt><dd>virginica</dd><dt>148</dt><dd>virginica</dd></dl>\n",
       "\n",
       "<details>\n",
       "\t<summary style=display:list-item;cursor:pointer>\n",
       "\t\t<strong>Levels</strong>:\n",
       "\t</summary>\n",
       "\t<style>\n",
       "\t.list-inline {list-style: none; margin:0; padding: 0}\n",
       "\t.list-inline>li {display: inline-block}\n",
       "\t.list-inline>li:not(:last-child)::after {content: \"\\00b7\"; padding: 0 .5ex}\n",
       "\t</style>\n",
       "\t<ol class=list-inline><li>'setosa'</li><li>'versicolor'</li><li>'virginica'</li></ol>\n",
       "</details>"
      ],
      "text/latex": [
       "\\begin{description*}\n",
       "\\item[2] setosa\n",
       "\\item[3] setosa\n",
       "\\item[8] setosa\n",
       "\\item[9] setosa\n",
       "\\item[19] setosa\n",
       "\\item[22] setosa\n",
       "\\item[25] setosa\n",
       "\\item[27] setosa\n",
       "\\item[30] setosa\n",
       "\\item[31] setosa\n",
       "\\item[32] setosa\n",
       "\\item[39] setosa\n",
       "\\item[40] setosa\n",
       "\\item[47] setosa\n",
       "\\item[48] setosa\n",
       "\\item[55] versicolor\n",
       "\\item[60] versicolor\n",
       "\\item[63] versicolor\n",
       "\\item[66] versicolor\n",
       "\\item[71] versicolor\n",
       "\\item[77] versicolor\n",
       "\\item[81] versicolor\n",
       "\\item[83] versicolor\n",
       "\\item[88] versicolor\n",
       "\\item[89] versicolor\n",
       "\\item[90] versicolor\n",
       "\\item[92] versicolor\n",
       "\\item[93] versicolor\n",
       "\\item[95] versicolor\n",
       "\\item[99] versicolor\n",
       "\\item[103] virginica\n",
       "\\item[106] virginica\n",
       "\\item[107] versicolor\n",
       "\\item[111] virginica\n",
       "\\item[112] virginica\n",
       "\\item[115] virginica\n",
       "\\item[117] virginica\n",
       "\\item[119] virginica\n",
       "\\item[121] virginica\n",
       "\\item[126] virginica\n",
       "\\item[130] virginica\n",
       "\\item[132] virginica\n",
       "\\item[140] virginica\n",
       "\\item[146] virginica\n",
       "\\item[148] virginica\n",
       "\\end{description*}\n",
       "\n",
       "\\emph{Levels}: \\begin{enumerate*}\n",
       "\\item 'setosa'\n",
       "\\item 'versicolor'\n",
       "\\item 'virginica'\n",
       "\\end{enumerate*}\n"
      ],
      "text/markdown": [
       "2\n",
       ":   setosa3\n",
       ":   setosa8\n",
       ":   setosa9\n",
       ":   setosa19\n",
       ":   setosa22\n",
       ":   setosa25\n",
       ":   setosa27\n",
       ":   setosa30\n",
       ":   setosa31\n",
       ":   setosa32\n",
       ":   setosa39\n",
       ":   setosa40\n",
       ":   setosa47\n",
       ":   setosa48\n",
       ":   setosa55\n",
       ":   versicolor60\n",
       ":   versicolor63\n",
       ":   versicolor66\n",
       ":   versicolor71\n",
       ":   versicolor77\n",
       ":   versicolor81\n",
       ":   versicolor83\n",
       ":   versicolor88\n",
       ":   versicolor89\n",
       ":   versicolor90\n",
       ":   versicolor92\n",
       ":   versicolor93\n",
       ":   versicolor95\n",
       ":   versicolor99\n",
       ":   versicolor103\n",
       ":   virginica106\n",
       ":   virginica107\n",
       ":   versicolor111\n",
       ":   virginica112\n",
       ":   virginica115\n",
       ":   virginica117\n",
       ":   virginica119\n",
       ":   virginica121\n",
       ":   virginica126\n",
       ":   virginica130\n",
       ":   virginica132\n",
       ":   virginica140\n",
       ":   virginica146\n",
       ":   virginica148\n",
       ":   virginica\n",
       "\n",
       "\n",
       "**Levels**: 1. 'setosa'\n",
       "2. 'versicolor'\n",
       "3. 'virginica'\n",
       "\n",
       "\n"
      ],
      "text/plain": [
       "         2          3          8          9         19         22         25 \n",
       "    setosa     setosa     setosa     setosa     setosa     setosa     setosa \n",
       "        27         30         31         32         39         40         47 \n",
       "    setosa     setosa     setosa     setosa     setosa     setosa     setosa \n",
       "        48         55         60         63         66         71         77 \n",
       "    setosa versicolor versicolor versicolor versicolor versicolor versicolor \n",
       "        81         83         88         89         90         92         93 \n",
       "versicolor versicolor versicolor versicolor versicolor versicolor versicolor \n",
       "        95         99        103        106        107        111        112 \n",
       "versicolor versicolor  virginica  virginica versicolor  virginica  virginica \n",
       "       115        117        119        121        126        130        132 \n",
       " virginica  virginica  virginica  virginica  virginica  virginica  virginica \n",
       "       140        146        148 \n",
       " virginica  virginica  virginica \n",
       "Levels: setosa versicolor virginica"
      ]
     },
     "metadata": {},
     "output_type": "display_data"
    },
    {
     "data": {
      "text/html": [
       "'factor'"
      ],
      "text/latex": [
       "'factor'"
      ],
      "text/markdown": [
       "'factor'"
      ],
      "text/plain": [
       "[1] \"factor\""
      ]
     },
     "metadata": {},
     "output_type": "display_data"
    }
   ],
   "source": [
    "# 검증하기\n",
    "pred <- predict(model,x)\n",
    "pred\n",
    "class(pred)"
   ]
  },
  {
   "cell_type": "code",
   "execution_count": 11,
   "metadata": {
    "vscode": {
     "languageId": "r"
    }
   },
   "outputs": [
    {
     "data": {
      "text/html": [
       "0.977777777777778"
      ],
      "text/latex": [
       "0.977777777777778"
      ],
      "text/markdown": [
       "0.977777777777778"
      ],
      "text/plain": [
       "[1] 0.9777778"
      ]
     },
     "metadata": {},
     "output_type": "display_data"
    }
   ],
   "source": [
    "#예측율\n",
    "mean(y == pred)"
   ]
  },
  {
   "cell_type": "code",
   "execution_count": 19,
   "metadata": {
    "vscode": {
     "languageId": "r"
    }
   },
   "outputs": [
    {
     "data": {
      "text/plain": [
       "            y\n",
       "pred         setosa versicolor virginica\n",
       "  setosa         15          0         0\n",
       "  versicolor      0         15         1\n",
       "  virginica       0          0        14"
      ]
     },
     "metadata": {},
     "output_type": "display_data"
    },
    {
     "data": {
      "text/html": [
       "<style>\n",
       ".list-inline {list-style: none; margin:0; padding: 0}\n",
       ".list-inline>li {display: inline-block}\n",
       ".list-inline>li:not(:last-child)::after {content: \"\\00b7\"; padding: 0 .5ex}\n",
       "</style>\n",
       "<ol class=list-inline><li>setosa</li><li>setosa</li><li>setosa</li><li>setosa</li><li>setosa</li><li>setosa</li><li>setosa</li><li>setosa</li><li>setosa</li><li>setosa</li><li>setosa</li><li>setosa</li><li>setosa</li><li>setosa</li><li>setosa</li><li>versicolor</li><li>versicolor</li><li>versicolor</li><li>versicolor</li><li>versicolor</li><li>versicolor</li><li>versicolor</li><li>versicolor</li><li>versicolor</li><li>versicolor</li><li>versicolor</li><li>versicolor</li><li>versicolor</li><li>versicolor</li><li>versicolor</li><li>virginica</li><li>virginica</li><li>virginica</li><li>virginica</li><li>virginica</li><li>virginica</li><li>virginica</li><li>virginica</li><li>virginica</li><li>virginica</li><li>virginica</li><li>virginica</li><li>virginica</li><li>virginica</li><li>virginica</li></ol>\n",
       "\n",
       "<details>\n",
       "\t<summary style=display:list-item;cursor:pointer>\n",
       "\t\t<strong>Levels</strong>:\n",
       "\t</summary>\n",
       "\t<style>\n",
       "\t.list-inline {list-style: none; margin:0; padding: 0}\n",
       "\t.list-inline>li {display: inline-block}\n",
       "\t.list-inline>li:not(:last-child)::after {content: \"\\00b7\"; padding: 0 .5ex}\n",
       "\t</style>\n",
       "\t<ol class=list-inline><li>'setosa'</li><li>'versicolor'</li><li>'virginica'</li></ol>\n",
       "</details>"
      ],
      "text/latex": [
       "\\begin{enumerate*}\n",
       "\\item setosa\n",
       "\\item setosa\n",
       "\\item setosa\n",
       "\\item setosa\n",
       "\\item setosa\n",
       "\\item setosa\n",
       "\\item setosa\n",
       "\\item setosa\n",
       "\\item setosa\n",
       "\\item setosa\n",
       "\\item setosa\n",
       "\\item setosa\n",
       "\\item setosa\n",
       "\\item setosa\n",
       "\\item setosa\n",
       "\\item versicolor\n",
       "\\item versicolor\n",
       "\\item versicolor\n",
       "\\item versicolor\n",
       "\\item versicolor\n",
       "\\item versicolor\n",
       "\\item versicolor\n",
       "\\item versicolor\n",
       "\\item versicolor\n",
       "\\item versicolor\n",
       "\\item versicolor\n",
       "\\item versicolor\n",
       "\\item versicolor\n",
       "\\item versicolor\n",
       "\\item versicolor\n",
       "\\item virginica\n",
       "\\item virginica\n",
       "\\item virginica\n",
       "\\item virginica\n",
       "\\item virginica\n",
       "\\item virginica\n",
       "\\item virginica\n",
       "\\item virginica\n",
       "\\item virginica\n",
       "\\item virginica\n",
       "\\item virginica\n",
       "\\item virginica\n",
       "\\item virginica\n",
       "\\item virginica\n",
       "\\item virginica\n",
       "\\end{enumerate*}\n",
       "\n",
       "\\emph{Levels}: \\begin{enumerate*}\n",
       "\\item 'setosa'\n",
       "\\item 'versicolor'\n",
       "\\item 'virginica'\n",
       "\\end{enumerate*}\n"
      ],
      "text/markdown": [
       "1. setosa\n",
       "2. setosa\n",
       "3. setosa\n",
       "4. setosa\n",
       "5. setosa\n",
       "6. setosa\n",
       "7. setosa\n",
       "8. setosa\n",
       "9. setosa\n",
       "10. setosa\n",
       "11. setosa\n",
       "12. setosa\n",
       "13. setosa\n",
       "14. setosa\n",
       "15. setosa\n",
       "16. versicolor\n",
       "17. versicolor\n",
       "18. versicolor\n",
       "19. versicolor\n",
       "20. versicolor\n",
       "21. versicolor\n",
       "22. versicolor\n",
       "23. versicolor\n",
       "24. versicolor\n",
       "25. versicolor\n",
       "26. versicolor\n",
       "27. versicolor\n",
       "28. versicolor\n",
       "29. versicolor\n",
       "30. versicolor\n",
       "31. virginica\n",
       "32. virginica\n",
       "33. virginica\n",
       "34. virginica\n",
       "35. virginica\n",
       "36. virginica\n",
       "37. virginica\n",
       "38. virginica\n",
       "39. virginica\n",
       "40. virginica\n",
       "41. virginica\n",
       "42. virginica\n",
       "43. virginica\n",
       "44. virginica\n",
       "45. virginica\n",
       "\n",
       "\n",
       "\n",
       "**Levels**: 1. 'setosa'\n",
       "2. 'versicolor'\n",
       "3. 'virginica'\n",
       "\n",
       "\n"
      ],
      "text/plain": [
       " [1] setosa     setosa     setosa     setosa     setosa     setosa    \n",
       " [7] setosa     setosa     setosa     setosa     setosa     setosa    \n",
       "[13] setosa     setosa     setosa     versicolor versicolor versicolor\n",
       "[19] versicolor versicolor versicolor versicolor versicolor versicolor\n",
       "[25] versicolor versicolor versicolor versicolor versicolor versicolor\n",
       "[31] virginica  virginica  virginica  virginica  virginica  virginica \n",
       "[37] virginica  virginica  virginica  virginica  virginica  virginica \n",
       "[43] virginica  virginica  virginica \n",
       "Levels: setosa versicolor virginica"
      ]
     },
     "metadata": {},
     "output_type": "display_data"
    },
    {
     "data": {
      "text/html": [
       "<style>\n",
       ".dl-inline {width: auto; margin:0; padding: 0}\n",
       ".dl-inline>dt, .dl-inline>dd {float: none; width: auto; display: inline-block}\n",
       ".dl-inline>dt::after {content: \":\\0020\"; padding-right: .5ex}\n",
       ".dl-inline>dt:not(:first-of-type) {padding-left: .5ex}\n",
       "</style><dl class=dl-inline><dt>2</dt><dd>setosa</dd><dt>3</dt><dd>setosa</dd><dt>8</dt><dd>setosa</dd><dt>9</dt><dd>setosa</dd><dt>19</dt><dd>setosa</dd><dt>22</dt><dd>setosa</dd><dt>25</dt><dd>setosa</dd><dt>27</dt><dd>setosa</dd><dt>30</dt><dd>setosa</dd><dt>31</dt><dd>setosa</dd><dt>32</dt><dd>setosa</dd><dt>39</dt><dd>setosa</dd><dt>40</dt><dd>setosa</dd><dt>47</dt><dd>setosa</dd><dt>48</dt><dd>setosa</dd><dt>55</dt><dd>versicolor</dd><dt>60</dt><dd>versicolor</dd><dt>63</dt><dd>versicolor</dd><dt>66</dt><dd>versicolor</dd><dt>71</dt><dd>versicolor</dd><dt>77</dt><dd>versicolor</dd><dt>81</dt><dd>versicolor</dd><dt>83</dt><dd>versicolor</dd><dt>88</dt><dd>versicolor</dd><dt>89</dt><dd>versicolor</dd><dt>90</dt><dd>versicolor</dd><dt>92</dt><dd>versicolor</dd><dt>93</dt><dd>versicolor</dd><dt>95</dt><dd>versicolor</dd><dt>99</dt><dd>versicolor</dd><dt>103</dt><dd>virginica</dd><dt>106</dt><dd>virginica</dd><dt>107</dt><dd>versicolor</dd><dt>111</dt><dd>virginica</dd><dt>112</dt><dd>virginica</dd><dt>115</dt><dd>virginica</dd><dt>117</dt><dd>virginica</dd><dt>119</dt><dd>virginica</dd><dt>121</dt><dd>virginica</dd><dt>126</dt><dd>virginica</dd><dt>130</dt><dd>virginica</dd><dt>132</dt><dd>virginica</dd><dt>140</dt><dd>virginica</dd><dt>146</dt><dd>virginica</dd><dt>148</dt><dd>virginica</dd></dl>\n",
       "\n",
       "<details>\n",
       "\t<summary style=display:list-item;cursor:pointer>\n",
       "\t\t<strong>Levels</strong>:\n",
       "\t</summary>\n",
       "\t<style>\n",
       "\t.list-inline {list-style: none; margin:0; padding: 0}\n",
       "\t.list-inline>li {display: inline-block}\n",
       "\t.list-inline>li:not(:last-child)::after {content: \"\\00b7\"; padding: 0 .5ex}\n",
       "\t</style>\n",
       "\t<ol class=list-inline><li>'setosa'</li><li>'versicolor'</li><li>'virginica'</li></ol>\n",
       "</details>"
      ],
      "text/latex": [
       "\\begin{description*}\n",
       "\\item[2] setosa\n",
       "\\item[3] setosa\n",
       "\\item[8] setosa\n",
       "\\item[9] setosa\n",
       "\\item[19] setosa\n",
       "\\item[22] setosa\n",
       "\\item[25] setosa\n",
       "\\item[27] setosa\n",
       "\\item[30] setosa\n",
       "\\item[31] setosa\n",
       "\\item[32] setosa\n",
       "\\item[39] setosa\n",
       "\\item[40] setosa\n",
       "\\item[47] setosa\n",
       "\\item[48] setosa\n",
       "\\item[55] versicolor\n",
       "\\item[60] versicolor\n",
       "\\item[63] versicolor\n",
       "\\item[66] versicolor\n",
       "\\item[71] versicolor\n",
       "\\item[77] versicolor\n",
       "\\item[81] versicolor\n",
       "\\item[83] versicolor\n",
       "\\item[88] versicolor\n",
       "\\item[89] versicolor\n",
       "\\item[90] versicolor\n",
       "\\item[92] versicolor\n",
       "\\item[93] versicolor\n",
       "\\item[95] versicolor\n",
       "\\item[99] versicolor\n",
       "\\item[103] virginica\n",
       "\\item[106] virginica\n",
       "\\item[107] versicolor\n",
       "\\item[111] virginica\n",
       "\\item[112] virginica\n",
       "\\item[115] virginica\n",
       "\\item[117] virginica\n",
       "\\item[119] virginica\n",
       "\\item[121] virginica\n",
       "\\item[126] virginica\n",
       "\\item[130] virginica\n",
       "\\item[132] virginica\n",
       "\\item[140] virginica\n",
       "\\item[146] virginica\n",
       "\\item[148] virginica\n",
       "\\end{description*}\n",
       "\n",
       "\\emph{Levels}: \\begin{enumerate*}\n",
       "\\item 'setosa'\n",
       "\\item 'versicolor'\n",
       "\\item 'virginica'\n",
       "\\end{enumerate*}\n"
      ],
      "text/markdown": [
       "2\n",
       ":   setosa3\n",
       ":   setosa8\n",
       ":   setosa9\n",
       ":   setosa19\n",
       ":   setosa22\n",
       ":   setosa25\n",
       ":   setosa27\n",
       ":   setosa30\n",
       ":   setosa31\n",
       ":   setosa32\n",
       ":   setosa39\n",
       ":   setosa40\n",
       ":   setosa47\n",
       ":   setosa48\n",
       ":   setosa55\n",
       ":   versicolor60\n",
       ":   versicolor63\n",
       ":   versicolor66\n",
       ":   versicolor71\n",
       ":   versicolor77\n",
       ":   versicolor81\n",
       ":   versicolor83\n",
       ":   versicolor88\n",
       ":   versicolor89\n",
       ":   versicolor90\n",
       ":   versicolor92\n",
       ":   versicolor93\n",
       ":   versicolor95\n",
       ":   versicolor99\n",
       ":   versicolor103\n",
       ":   virginica106\n",
       ":   virginica107\n",
       ":   versicolor111\n",
       ":   virginica112\n",
       ":   virginica115\n",
       ":   virginica117\n",
       ":   virginica119\n",
       ":   virginica121\n",
       ":   virginica126\n",
       ":   virginica130\n",
       ":   virginica132\n",
       ":   virginica140\n",
       ":   virginica146\n",
       ":   virginica148\n",
       ":   virginica\n",
       "\n",
       "\n",
       "**Levels**: 1. 'setosa'\n",
       "2. 'versicolor'\n",
       "3. 'virginica'\n",
       "\n",
       "\n"
      ],
      "text/plain": [
       "         2          3          8          9         19         22         25 \n",
       "    setosa     setosa     setosa     setosa     setosa     setosa     setosa \n",
       "        27         30         31         32         39         40         47 \n",
       "    setosa     setosa     setosa     setosa     setosa     setosa     setosa \n",
       "        48         55         60         63         66         71         77 \n",
       "    setosa versicolor versicolor versicolor versicolor versicolor versicolor \n",
       "        81         83         88         89         90         92         93 \n",
       "versicolor versicolor versicolor versicolor versicolor versicolor versicolor \n",
       "        95         99        103        106        107        111        112 \n",
       "versicolor versicolor  virginica  virginica versicolor  virginica  virginica \n",
       "       115        117        119        121        126        130        132 \n",
       " virginica  virginica  virginica  virginica  virginica  virginica  virginica \n",
       "       140        146        148 \n",
       " virginica  virginica  virginica \n",
       "Levels: setosa versicolor virginica"
      ]
     },
     "metadata": {},
     "output_type": "display_data"
    }
   ],
   "source": [
    "# 오답표 만들기\n",
    "table(pred,y)\n"
   ]
  },
  {
   "cell_type": "code",
   "execution_count": null,
   "metadata": {
    "vscode": {
     "languageId": "r"
    }
   },
   "outputs": [],
   "source": []
  },
  {
   "cell_type": "code",
   "execution_count": 20,
   "metadata": {
    "vscode": {
     "languageId": "r"
    }
   },
   "outputs": [
    {
     "name": "stdout",
     "output_type": "stream",
     "text": [
      "[1] \"a\" \"b\" \"c\" \"d\"\n"
     ]
    }
   ],
   "source": [
    "# 'ddd' 데이터 프레임 생성 (예시)\n",
    "ddd <- data.frame(count = factor(c(\"a\", \"b\", \"c\", \"d\")))\n",
    "\n",
    "# 'count' 열에서 'count'만 추출\n",
    "count_values <- as.character(ddd$count)\n",
    "\n",
    "# 결과 출력\n",
    "print(count_values)"
   ]
  },
  {
   "cell_type": "code",
   "execution_count": null,
   "metadata": {
    "vscode": {
     "languageId": "r"
    }
   },
   "outputs": [],
   "source": []
  }
 ],
 "metadata": {
  "kernelspec": {
   "display_name": "R",
   "language": "R",
   "name": "r"
  },
  "language_info": {
   "codemirror_mode": "r",
   "file_extension": ".r",
   "mimetype": "text/x-r-source",
   "name": "R",
   "pygments_lexer": "r",
   "version": "4.3.3"
  }
 },
 "nbformat": 4,
 "nbformat_minor": 2
}
