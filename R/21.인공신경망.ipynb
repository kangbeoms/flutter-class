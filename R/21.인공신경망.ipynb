{
 "cells": [
  {
   "cell_type": "code",
   "execution_count": 1,
   "metadata": {
    "vscode": {
     "languageId": "r"
    }
   },
   "outputs": [
    {
     "name": "stderr",
     "output_type": "stream",
     "text": [
      "Loading required package: ggplot2\n",
      "\n",
      "Loading required package: lattice\n",
      "\n"
     ]
    }
   ],
   "source": [
    "library(caret)"
   ]
  },
  {
   "cell_type": "code",
   "execution_count": 28,
   "metadata": {
    "vscode": {
     "languageId": "r"
    }
   },
   "outputs": [],
   "source": [
    "set.seed(1234)\n",
    "samp <- createDataPartition(iris$Species, p =0.7 , list = F)\n"
   ]
  },
  {
   "cell_type": "code",
   "execution_count": 3,
   "metadata": {
    "vscode": {
     "languageId": "r"
    }
   },
   "outputs": [],
   "source": [
    "#학습용 검증용\n",
    "data.tr <- iris[samp,]\n",
    "data.test <- iris[-samp,]"
   ]
  },
  {
   "cell_type": "code",
   "execution_count": 4,
   "metadata": {
    "vscode": {
     "languageId": "r"
    }
   },
   "outputs": [],
   "source": [
    "# 인공신경망 \n",
    "library(nnet)"
   ]
  },
  {
   "cell_type": "code",
   "execution_count": 5,
   "metadata": {
    "vscode": {
     "languageId": "r"
    }
   },
   "outputs": [
    {
     "name": "stdout",
     "output_type": "stream",
     "text": [
      "# weights:  27\n",
      "initial  value 121.492256 \n",
      "iter  10 value 110.581609\n",
      "iter  20 value 49.740861\n",
      "iter  30 value 26.600820\n",
      "iter  40 value 1.834745\n",
      "iter  50 value 0.008937\n",
      "final  value 0.000074 \n",
      "converged\n"
     ]
    }
   ],
   "source": [
    "model.nnet <- nnet(Species ~ ., data=data.tr, size = 3) # size : 층 갯수 "
   ]
  },
  {
   "cell_type": "code",
   "execution_count": 32,
   "metadata": {
    "vscode": {
     "languageId": "r"
    }
   },
   "outputs": [
    {
     "data": {
      "text/html": [
       "<table class=\"dataframe\">\n",
       "<caption>A data.frame: 45 x 4</caption>\n",
       "<thead>\n",
       "\t<tr><th></th><th scope=col>Sepal.Length</th><th scope=col>Sepal.Width</th><th scope=col>Petal.Length</th><th scope=col>Petal.Width</th></tr>\n",
       "\t<tr><th></th><th scope=col>&lt;dbl&gt;</th><th scope=col>&lt;dbl&gt;</th><th scope=col>&lt;dbl&gt;</th><th scope=col>&lt;dbl&gt;</th></tr>\n",
       "</thead>\n",
       "<tbody>\n",
       "\t<tr><th scope=row>1</th><td>5.1</td><td>3.5</td><td>1.4</td><td>0.2</td></tr>\n",
       "\t<tr><th scope=row>7</th><td>4.6</td><td>3.4</td><td>1.4</td><td>0.3</td></tr>\n",
       "\t<tr><th scope=row>10</th><td>4.9</td><td>3.1</td><td>1.5</td><td>0.1</td></tr>\n",
       "\t<tr><th scope=row>11</th><td>5.4</td><td>3.7</td><td>1.5</td><td>0.2</td></tr>\n",
       "\t<tr><th scope=row>13</th><td>4.8</td><td>3.0</td><td>1.4</td><td>0.1</td></tr>\n",
       "\t<tr><th scope=row>17</th><td>5.4</td><td>3.9</td><td>1.3</td><td>0.4</td></tr>\n",
       "\t<tr><th scope=row>18</th><td>5.1</td><td>3.5</td><td>1.4</td><td>0.3</td></tr>\n",
       "\t<tr><th scope=row>19</th><td>5.7</td><td>3.8</td><td>1.7</td><td>0.3</td></tr>\n",
       "\t<tr><th scope=row>23</th><td>4.6</td><td>3.6</td><td>1.0</td><td>0.2</td></tr>\n",
       "\t<tr><th scope=row>25</th><td>4.8</td><td>3.4</td><td>1.9</td><td>0.2</td></tr>\n",
       "\t<tr><th scope=row>27</th><td>5.0</td><td>3.4</td><td>1.6</td><td>0.4</td></tr>\n",
       "\t<tr><th scope=row>33</th><td>5.2</td><td>4.1</td><td>1.5</td><td>0.1</td></tr>\n",
       "\t<tr><th scope=row>36</th><td>5.0</td><td>3.2</td><td>1.2</td><td>0.2</td></tr>\n",
       "\t<tr><th scope=row>43</th><td>4.4</td><td>3.2</td><td>1.3</td><td>0.2</td></tr>\n",
       "\t<tr><th scope=row>45</th><td>5.1</td><td>3.8</td><td>1.9</td><td>0.4</td></tr>\n",
       "\t<tr><th scope=row>51</th><td>7.0</td><td>3.2</td><td>4.7</td><td>1.4</td></tr>\n",
       "\t<tr><th scope=row>54</th><td>5.5</td><td>2.3</td><td>4.0</td><td>1.3</td></tr>\n",
       "\t<tr><th scope=row>55</th><td>6.5</td><td>2.8</td><td>4.6</td><td>1.5</td></tr>\n",
       "\t<tr><th scope=row>57</th><td>6.3</td><td>3.3</td><td>4.7</td><td>1.6</td></tr>\n",
       "\t<tr><th scope=row>61</th><td>5.0</td><td>2.0</td><td>3.5</td><td>1.0</td></tr>\n",
       "\t<tr><th scope=row>64</th><td>6.1</td><td>2.9</td><td>4.7</td><td>1.4</td></tr>\n",
       "\t<tr><th scope=row>70</th><td>5.6</td><td>2.5</td><td>3.9</td><td>1.1</td></tr>\n",
       "\t<tr><th scope=row>71</th><td>5.9</td><td>3.2</td><td>4.8</td><td>1.8</td></tr>\n",
       "\t<tr><th scope=row>74</th><td>6.1</td><td>2.8</td><td>4.7</td><td>1.2</td></tr>\n",
       "\t<tr><th scope=row>77</th><td>6.8</td><td>2.8</td><td>4.8</td><td>1.4</td></tr>\n",
       "\t<tr><th scope=row>78</th><td>6.7</td><td>3.0</td><td>5.0</td><td>1.7</td></tr>\n",
       "\t<tr><th scope=row>81</th><td>5.5</td><td>2.4</td><td>3.8</td><td>1.1</td></tr>\n",
       "\t<tr><th scope=row>83</th><td>5.8</td><td>2.7</td><td>3.9</td><td>1.2</td></tr>\n",
       "\t<tr><th scope=row>84</th><td>6.0</td><td>2.7</td><td>5.1</td><td>1.6</td></tr>\n",
       "\t<tr><th scope=row>94</th><td>5.0</td><td>2.3</td><td>3.3</td><td>1.0</td></tr>\n",
       "\t<tr><th scope=row>105</th><td>6.5</td><td>3.0</td><td>5.8</td><td>2.2</td></tr>\n",
       "\t<tr><th scope=row>114</th><td>5.7</td><td>2.5</td><td>5.0</td><td>2.0</td></tr>\n",
       "\t<tr><th scope=row>115</th><td>5.8</td><td>2.8</td><td>5.1</td><td>2.4</td></tr>\n",
       "\t<tr><th scope=row>118</th><td>7.7</td><td>3.8</td><td>6.7</td><td>2.2</td></tr>\n",
       "\t<tr><th scope=row>123</th><td>7.7</td><td>2.8</td><td>6.7</td><td>2.0</td></tr>\n",
       "\t<tr><th scope=row>125</th><td>6.7</td><td>3.3</td><td>5.7</td><td>2.1</td></tr>\n",
       "\t<tr><th scope=row>134</th><td>6.3</td><td>2.8</td><td>5.1</td><td>1.5</td></tr>\n",
       "\t<tr><th scope=row>138</th><td>6.4</td><td>3.1</td><td>5.5</td><td>1.8</td></tr>\n",
       "\t<tr><th scope=row>140</th><td>6.9</td><td>3.1</td><td>5.4</td><td>2.1</td></tr>\n",
       "\t<tr><th scope=row>142</th><td>6.9</td><td>3.1</td><td>5.1</td><td>2.3</td></tr>\n",
       "\t<tr><th scope=row>143</th><td>5.8</td><td>2.7</td><td>5.1</td><td>1.9</td></tr>\n",
       "\t<tr><th scope=row>145</th><td>6.7</td><td>3.3</td><td>5.7</td><td>2.5</td></tr>\n",
       "\t<tr><th scope=row>148</th><td>6.5</td><td>3.0</td><td>5.2</td><td>2.0</td></tr>\n",
       "\t<tr><th scope=row>149</th><td>6.2</td><td>3.4</td><td>5.4</td><td>2.3</td></tr>\n",
       "\t<tr><th scope=row>150</th><td>5.9</td><td>3.0</td><td>5.1</td><td>1.8</td></tr>\n",
       "</tbody>\n",
       "</table>\n"
      ],
      "text/latex": [
       "A data.frame: 45 x 4\n",
       "\\begin{tabular}{r|llll}\n",
       "  & Sepal.Length & Sepal.Width & Petal.Length & Petal.Width\\\\\n",
       "  & <dbl> & <dbl> & <dbl> & <dbl>\\\\\n",
       "\\hline\n",
       "\t1 & 5.1 & 3.5 & 1.4 & 0.2\\\\\n",
       "\t7 & 4.6 & 3.4 & 1.4 & 0.3\\\\\n",
       "\t10 & 4.9 & 3.1 & 1.5 & 0.1\\\\\n",
       "\t11 & 5.4 & 3.7 & 1.5 & 0.2\\\\\n",
       "\t13 & 4.8 & 3.0 & 1.4 & 0.1\\\\\n",
       "\t17 & 5.4 & 3.9 & 1.3 & 0.4\\\\\n",
       "\t18 & 5.1 & 3.5 & 1.4 & 0.3\\\\\n",
       "\t19 & 5.7 & 3.8 & 1.7 & 0.3\\\\\n",
       "\t23 & 4.6 & 3.6 & 1.0 & 0.2\\\\\n",
       "\t25 & 4.8 & 3.4 & 1.9 & 0.2\\\\\n",
       "\t27 & 5.0 & 3.4 & 1.6 & 0.4\\\\\n",
       "\t33 & 5.2 & 4.1 & 1.5 & 0.1\\\\\n",
       "\t36 & 5.0 & 3.2 & 1.2 & 0.2\\\\\n",
       "\t43 & 4.4 & 3.2 & 1.3 & 0.2\\\\\n",
       "\t45 & 5.1 & 3.8 & 1.9 & 0.4\\\\\n",
       "\t51 & 7.0 & 3.2 & 4.7 & 1.4\\\\\n",
       "\t54 & 5.5 & 2.3 & 4.0 & 1.3\\\\\n",
       "\t55 & 6.5 & 2.8 & 4.6 & 1.5\\\\\n",
       "\t57 & 6.3 & 3.3 & 4.7 & 1.6\\\\\n",
       "\t61 & 5.0 & 2.0 & 3.5 & 1.0\\\\\n",
       "\t64 & 6.1 & 2.9 & 4.7 & 1.4\\\\\n",
       "\t70 & 5.6 & 2.5 & 3.9 & 1.1\\\\\n",
       "\t71 & 5.9 & 3.2 & 4.8 & 1.8\\\\\n",
       "\t74 & 6.1 & 2.8 & 4.7 & 1.2\\\\\n",
       "\t77 & 6.8 & 2.8 & 4.8 & 1.4\\\\\n",
       "\t78 & 6.7 & 3.0 & 5.0 & 1.7\\\\\n",
       "\t81 & 5.5 & 2.4 & 3.8 & 1.1\\\\\n",
       "\t83 & 5.8 & 2.7 & 3.9 & 1.2\\\\\n",
       "\t84 & 6.0 & 2.7 & 5.1 & 1.6\\\\\n",
       "\t94 & 5.0 & 2.3 & 3.3 & 1.0\\\\\n",
       "\t105 & 6.5 & 3.0 & 5.8 & 2.2\\\\\n",
       "\t114 & 5.7 & 2.5 & 5.0 & 2.0\\\\\n",
       "\t115 & 5.8 & 2.8 & 5.1 & 2.4\\\\\n",
       "\t118 & 7.7 & 3.8 & 6.7 & 2.2\\\\\n",
       "\t123 & 7.7 & 2.8 & 6.7 & 2.0\\\\\n",
       "\t125 & 6.7 & 3.3 & 5.7 & 2.1\\\\\n",
       "\t134 & 6.3 & 2.8 & 5.1 & 1.5\\\\\n",
       "\t138 & 6.4 & 3.1 & 5.5 & 1.8\\\\\n",
       "\t140 & 6.9 & 3.1 & 5.4 & 2.1\\\\\n",
       "\t142 & 6.9 & 3.1 & 5.1 & 2.3\\\\\n",
       "\t143 & 5.8 & 2.7 & 5.1 & 1.9\\\\\n",
       "\t145 & 6.7 & 3.3 & 5.7 & 2.5\\\\\n",
       "\t148 & 6.5 & 3.0 & 5.2 & 2.0\\\\\n",
       "\t149 & 6.2 & 3.4 & 5.4 & 2.3\\\\\n",
       "\t150 & 5.9 & 3.0 & 5.1 & 1.8\\\\\n",
       "\\end{tabular}\n"
      ],
      "text/markdown": [
       "\n",
       "A data.frame: 45 x 4\n",
       "\n",
       "| <!--/--> | Sepal.Length &lt;dbl&gt; | Sepal.Width &lt;dbl&gt; | Petal.Length &lt;dbl&gt; | Petal.Width &lt;dbl&gt; |\n",
       "|---|---|---|---|---|\n",
       "| 1 | 5.1 | 3.5 | 1.4 | 0.2 |\n",
       "| 7 | 4.6 | 3.4 | 1.4 | 0.3 |\n",
       "| 10 | 4.9 | 3.1 | 1.5 | 0.1 |\n",
       "| 11 | 5.4 | 3.7 | 1.5 | 0.2 |\n",
       "| 13 | 4.8 | 3.0 | 1.4 | 0.1 |\n",
       "| 17 | 5.4 | 3.9 | 1.3 | 0.4 |\n",
       "| 18 | 5.1 | 3.5 | 1.4 | 0.3 |\n",
       "| 19 | 5.7 | 3.8 | 1.7 | 0.3 |\n",
       "| 23 | 4.6 | 3.6 | 1.0 | 0.2 |\n",
       "| 25 | 4.8 | 3.4 | 1.9 | 0.2 |\n",
       "| 27 | 5.0 | 3.4 | 1.6 | 0.4 |\n",
       "| 33 | 5.2 | 4.1 | 1.5 | 0.1 |\n",
       "| 36 | 5.0 | 3.2 | 1.2 | 0.2 |\n",
       "| 43 | 4.4 | 3.2 | 1.3 | 0.2 |\n",
       "| 45 | 5.1 | 3.8 | 1.9 | 0.4 |\n",
       "| 51 | 7.0 | 3.2 | 4.7 | 1.4 |\n",
       "| 54 | 5.5 | 2.3 | 4.0 | 1.3 |\n",
       "| 55 | 6.5 | 2.8 | 4.6 | 1.5 |\n",
       "| 57 | 6.3 | 3.3 | 4.7 | 1.6 |\n",
       "| 61 | 5.0 | 2.0 | 3.5 | 1.0 |\n",
       "| 64 | 6.1 | 2.9 | 4.7 | 1.4 |\n",
       "| 70 | 5.6 | 2.5 | 3.9 | 1.1 |\n",
       "| 71 | 5.9 | 3.2 | 4.8 | 1.8 |\n",
       "| 74 | 6.1 | 2.8 | 4.7 | 1.2 |\n",
       "| 77 | 6.8 | 2.8 | 4.8 | 1.4 |\n",
       "| 78 | 6.7 | 3.0 | 5.0 | 1.7 |\n",
       "| 81 | 5.5 | 2.4 | 3.8 | 1.1 |\n",
       "| 83 | 5.8 | 2.7 | 3.9 | 1.2 |\n",
       "| 84 | 6.0 | 2.7 | 5.1 | 1.6 |\n",
       "| 94 | 5.0 | 2.3 | 3.3 | 1.0 |\n",
       "| 105 | 6.5 | 3.0 | 5.8 | 2.2 |\n",
       "| 114 | 5.7 | 2.5 | 5.0 | 2.0 |\n",
       "| 115 | 5.8 | 2.8 | 5.1 | 2.4 |\n",
       "| 118 | 7.7 | 3.8 | 6.7 | 2.2 |\n",
       "| 123 | 7.7 | 2.8 | 6.7 | 2.0 |\n",
       "| 125 | 6.7 | 3.3 | 5.7 | 2.1 |\n",
       "| 134 | 6.3 | 2.8 | 5.1 | 1.5 |\n",
       "| 138 | 6.4 | 3.1 | 5.5 | 1.8 |\n",
       "| 140 | 6.9 | 3.1 | 5.4 | 2.1 |\n",
       "| 142 | 6.9 | 3.1 | 5.1 | 2.3 |\n",
       "| 143 | 5.8 | 2.7 | 5.1 | 1.9 |\n",
       "| 145 | 6.7 | 3.3 | 5.7 | 2.5 |\n",
       "| 148 | 6.5 | 3.0 | 5.2 | 2.0 |\n",
       "| 149 | 6.2 | 3.4 | 5.4 | 2.3 |\n",
       "| 150 | 5.9 | 3.0 | 5.1 | 1.8 |\n",
       "\n"
      ],
      "text/plain": [
       "    Sepal.Length Sepal.Width Petal.Length Petal.Width\n",
       "1   5.1          3.5         1.4          0.2        \n",
       "7   4.6          3.4         1.4          0.3        \n",
       "10  4.9          3.1         1.5          0.1        \n",
       "11  5.4          3.7         1.5          0.2        \n",
       "13  4.8          3.0         1.4          0.1        \n",
       "17  5.4          3.9         1.3          0.4        \n",
       "18  5.1          3.5         1.4          0.3        \n",
       "19  5.7          3.8         1.7          0.3        \n",
       "23  4.6          3.6         1.0          0.2        \n",
       "25  4.8          3.4         1.9          0.2        \n",
       "27  5.0          3.4         1.6          0.4        \n",
       "33  5.2          4.1         1.5          0.1        \n",
       "36  5.0          3.2         1.2          0.2        \n",
       "43  4.4          3.2         1.3          0.2        \n",
       "45  5.1          3.8         1.9          0.4        \n",
       "51  7.0          3.2         4.7          1.4        \n",
       "54  5.5          2.3         4.0          1.3        \n",
       "55  6.5          2.8         4.6          1.5        \n",
       "57  6.3          3.3         4.7          1.6        \n",
       "61  5.0          2.0         3.5          1.0        \n",
       "64  6.1          2.9         4.7          1.4        \n",
       "70  5.6          2.5         3.9          1.1        \n",
       "71  5.9          3.2         4.8          1.8        \n",
       "74  6.1          2.8         4.7          1.2        \n",
       "77  6.8          2.8         4.8          1.4        \n",
       "78  6.7          3.0         5.0          1.7        \n",
       "81  5.5          2.4         3.8          1.1        \n",
       "83  5.8          2.7         3.9          1.2        \n",
       "84  6.0          2.7         5.1          1.6        \n",
       "94  5.0          2.3         3.3          1.0        \n",
       "105 6.5          3.0         5.8          2.2        \n",
       "114 5.7          2.5         5.0          2.0        \n",
       "115 5.8          2.8         5.1          2.4        \n",
       "118 7.7          3.8         6.7          2.2        \n",
       "123 7.7          2.8         6.7          2.0        \n",
       "125 6.7          3.3         5.7          2.1        \n",
       "134 6.3          2.8         5.1          1.5        \n",
       "138 6.4          3.1         5.5          1.8        \n",
       "140 6.9          3.1         5.4          2.1        \n",
       "142 6.9          3.1         5.1          2.3        \n",
       "143 5.8          2.7         5.1          1.9        \n",
       "145 6.7          3.3         5.7          2.5        \n",
       "148 6.5          3.0         5.2          2.0        \n",
       "149 6.2          3.4         5.4          2.3        \n",
       "150 5.9          3.0         5.1          1.8        "
      ]
     },
     "metadata": {},
     "output_type": "display_data"
    },
    {
     "data": {
      "text/html": [
       "<style>\n",
       ".list-inline {list-style: none; margin:0; padding: 0}\n",
       ".list-inline>li {display: inline-block}\n",
       ".list-inline>li:not(:last-child)::after {content: \"\\00b7\"; padding: 0 .5ex}\n",
       "</style>\n",
       "<ol class=list-inline><li>setosa</li><li>setosa</li><li>setosa</li><li>setosa</li><li>setosa</li><li>setosa</li><li>setosa</li><li>setosa</li><li>setosa</li><li>setosa</li><li>setosa</li><li>setosa</li><li>setosa</li><li>setosa</li><li>setosa</li><li>versicolor</li><li>versicolor</li><li>versicolor</li><li>versicolor</li><li>versicolor</li><li>versicolor</li><li>versicolor</li><li>versicolor</li><li>versicolor</li><li>versicolor</li><li>versicolor</li><li>versicolor</li><li>versicolor</li><li>versicolor</li><li>versicolor</li><li>virginica</li><li>virginica</li><li>virginica</li><li>virginica</li><li>virginica</li><li>virginica</li><li>virginica</li><li>virginica</li><li>virginica</li><li>virginica</li><li>virginica</li><li>virginica</li><li>virginica</li><li>virginica</li><li>virginica</li></ol>\n",
       "\n",
       "<details>\n",
       "\t<summary style=display:list-item;cursor:pointer>\n",
       "\t\t<strong>Levels</strong>:\n",
       "\t</summary>\n",
       "\t<style>\n",
       "\t.list-inline {list-style: none; margin:0; padding: 0}\n",
       "\t.list-inline>li {display: inline-block}\n",
       "\t.list-inline>li:not(:last-child)::after {content: \"\\00b7\"; padding: 0 .5ex}\n",
       "\t</style>\n",
       "\t<ol class=list-inline><li>'setosa'</li><li>'versicolor'</li><li>'virginica'</li></ol>\n",
       "</details>"
      ],
      "text/latex": [
       "\\begin{enumerate*}\n",
       "\\item setosa\n",
       "\\item setosa\n",
       "\\item setosa\n",
       "\\item setosa\n",
       "\\item setosa\n",
       "\\item setosa\n",
       "\\item setosa\n",
       "\\item setosa\n",
       "\\item setosa\n",
       "\\item setosa\n",
       "\\item setosa\n",
       "\\item setosa\n",
       "\\item setosa\n",
       "\\item setosa\n",
       "\\item setosa\n",
       "\\item versicolor\n",
       "\\item versicolor\n",
       "\\item versicolor\n",
       "\\item versicolor\n",
       "\\item versicolor\n",
       "\\item versicolor\n",
       "\\item versicolor\n",
       "\\item versicolor\n",
       "\\item versicolor\n",
       "\\item versicolor\n",
       "\\item versicolor\n",
       "\\item versicolor\n",
       "\\item versicolor\n",
       "\\item versicolor\n",
       "\\item versicolor\n",
       "\\item virginica\n",
       "\\item virginica\n",
       "\\item virginica\n",
       "\\item virginica\n",
       "\\item virginica\n",
       "\\item virginica\n",
       "\\item virginica\n",
       "\\item virginica\n",
       "\\item virginica\n",
       "\\item virginica\n",
       "\\item virginica\n",
       "\\item virginica\n",
       "\\item virginica\n",
       "\\item virginica\n",
       "\\item virginica\n",
       "\\end{enumerate*}\n",
       "\n",
       "\\emph{Levels}: \\begin{enumerate*}\n",
       "\\item 'setosa'\n",
       "\\item 'versicolor'\n",
       "\\item 'virginica'\n",
       "\\end{enumerate*}\n"
      ],
      "text/markdown": [
       "1. setosa\n",
       "2. setosa\n",
       "3. setosa\n",
       "4. setosa\n",
       "5. setosa\n",
       "6. setosa\n",
       "7. setosa\n",
       "8. setosa\n",
       "9. setosa\n",
       "10. setosa\n",
       "11. setosa\n",
       "12. setosa\n",
       "13. setosa\n",
       "14. setosa\n",
       "15. setosa\n",
       "16. versicolor\n",
       "17. versicolor\n",
       "18. versicolor\n",
       "19. versicolor\n",
       "20. versicolor\n",
       "21. versicolor\n",
       "22. versicolor\n",
       "23. versicolor\n",
       "24. versicolor\n",
       "25. versicolor\n",
       "26. versicolor\n",
       "27. versicolor\n",
       "28. versicolor\n",
       "29. versicolor\n",
       "30. versicolor\n",
       "31. virginica\n",
       "32. virginica\n",
       "33. virginica\n",
       "34. virginica\n",
       "35. virginica\n",
       "36. virginica\n",
       "37. virginica\n",
       "38. virginica\n",
       "39. virginica\n",
       "40. virginica\n",
       "41. virginica\n",
       "42. virginica\n",
       "43. virginica\n",
       "44. virginica\n",
       "45. virginica\n",
       "\n",
       "\n",
       "\n",
       "**Levels**: 1. 'setosa'\n",
       "2. 'versicolor'\n",
       "3. 'virginica'\n",
       "\n",
       "\n"
      ],
      "text/plain": [
       " [1] setosa     setosa     setosa     setosa     setosa     setosa    \n",
       " [7] setosa     setosa     setosa     setosa     setosa     setosa    \n",
       "[13] setosa     setosa     setosa     versicolor versicolor versicolor\n",
       "[19] versicolor versicolor versicolor versicolor versicolor versicolor\n",
       "[25] versicolor versicolor versicolor versicolor versicolor versicolor\n",
       "[31] virginica  virginica  virginica  virginica  virginica  virginica \n",
       "[37] virginica  virginica  virginica  virginica  virginica  virginica \n",
       "[43] virginica  virginica  virginica \n",
       "Levels: setosa versicolor virginica"
      ]
     },
     "metadata": {},
     "output_type": "display_data"
    }
   ],
   "source": [
    "# 문제 및 정답\n",
    "x <- subset(data.test, select = -Species)\n",
    "y <- data.test$Species\n",
    "x\n",
    "y"
   ]
  },
  {
   "cell_type": "code",
   "execution_count": 8,
   "metadata": {
    "vscode": {
     "languageId": "r"
    }
   },
   "outputs": [
    {
     "data": {
      "text/html": [
       "<style>\n",
       ".list-inline {list-style: none; margin:0; padding: 0}\n",
       ".list-inline>li {display: inline-block}\n",
       ".list-inline>li:not(:last-child)::after {content: \"\\00b7\"; padding: 0 .5ex}\n",
       "</style>\n",
       "<ol class=list-inline><li>'setosa'</li><li>'setosa'</li><li>'setosa'</li><li>'setosa'</li><li>'setosa'</li><li>'setosa'</li></ol>\n"
      ],
      "text/latex": [
       "\\begin{enumerate*}\n",
       "\\item 'setosa'\n",
       "\\item 'setosa'\n",
       "\\item 'setosa'\n",
       "\\item 'setosa'\n",
       "\\item 'setosa'\n",
       "\\item 'setosa'\n",
       "\\end{enumerate*}\n"
      ],
      "text/markdown": [
       "1. 'setosa'\n",
       "2. 'setosa'\n",
       "3. 'setosa'\n",
       "4. 'setosa'\n",
       "5. 'setosa'\n",
       "6. 'setosa'\n",
       "\n",
       "\n"
      ],
      "text/plain": [
       "[1] \"setosa\" \"setosa\" \"setosa\" \"setosa\" \"setosa\" \"setosa\""
      ]
     },
     "metadata": {},
     "output_type": "display_data"
    }
   ],
   "source": [
    "# 검증                , 인공신경망은 타입을 정해여한다( 객관식,주관식)\n",
    "pred <- predict(model.nnet, x, type = \"class\") # class : 객관식 , raw : 주관식\n",
    "head(pred)"
   ]
  },
  {
   "cell_type": "code",
   "execution_count": 9,
   "metadata": {
    "vscode": {
     "languageId": "r"
    }
   },
   "outputs": [
    {
     "data": {
      "text/html": [
       "0.955555555555556"
      ],
      "text/latex": [
       "0.955555555555556"
      ],
      "text/markdown": [
       "0.955555555555556"
      ],
      "text/plain": [
       "[1] 0.9555556"
      ]
     },
     "metadata": {},
     "output_type": "display_data"
    }
   ],
   "source": [
    "# 예측력\n",
    "mean(pred == y)"
   ]
  },
  {
   "cell_type": "code",
   "execution_count": 10,
   "metadata": {
    "vscode": {
     "languageId": "r"
    }
   },
   "outputs": [
    {
     "data": {
      "text/plain": [
       "            y\n",
       "pred         setosa versicolor virginica\n",
       "  setosa         15          0         0\n",
       "  versicolor      0         13         0\n",
       "  virginica       0          2        15"
      ]
     },
     "metadata": {},
     "output_type": "display_data"
    }
   ],
   "source": [
    "# 정오표\n",
    "table(pred,y)"
   ]
  },
  {
   "cell_type": "code",
   "execution_count": 12,
   "metadata": {
    "vscode": {
     "languageId": "r"
    }
   },
   "outputs": [
    {
     "data": {
      "text/html": [
       "<table class=\"dataframe\">\n",
       "<caption>A matrix: 6 x 3 of type dbl</caption>\n",
       "<thead>\n",
       "\t<tr><th></th><th scope=col>setosa</th><th scope=col>versicolor</th><th scope=col>virginica</th></tr>\n",
       "</thead>\n",
       "<tbody>\n",
       "\t<tr><th scope=row>1</th><td>0.9999979</td><td>2.107860e-06</td><td>1.880438e-62</td></tr>\n",
       "\t<tr><th scope=row>7</th><td>0.9999979</td><td>2.107611e-06</td><td>1.879894e-62</td></tr>\n",
       "\t<tr><th scope=row>10</th><td>0.9999979</td><td>2.107761e-06</td><td>1.880220e-62</td></tr>\n",
       "\t<tr><th scope=row>11</th><td>0.9999979</td><td>2.107948e-06</td><td>1.880630e-62</td></tr>\n",
       "\t<tr><th scope=row>13</th><td>0.9999979</td><td>2.107657e-06</td><td>1.879993e-62</td></tr>\n",
       "\t<tr><th scope=row>17</th><td>0.9999979</td><td>2.107942e-06</td><td>1.880617e-62</td></tr>\n",
       "</tbody>\n",
       "</table>\n"
      ],
      "text/latex": [
       "A matrix: 6 x 3 of type dbl\n",
       "\\begin{tabular}{r|lll}\n",
       "  & setosa & versicolor & virginica\\\\\n",
       "\\hline\n",
       "\t1 & 0.9999979 & 2.107860e-06 & 1.880438e-62\\\\\n",
       "\t7 & 0.9999979 & 2.107611e-06 & 1.879894e-62\\\\\n",
       "\t10 & 0.9999979 & 2.107761e-06 & 1.880220e-62\\\\\n",
       "\t11 & 0.9999979 & 2.107948e-06 & 1.880630e-62\\\\\n",
       "\t13 & 0.9999979 & 2.107657e-06 & 1.879993e-62\\\\\n",
       "\t17 & 0.9999979 & 2.107942e-06 & 1.880617e-62\\\\\n",
       "\\end{tabular}\n"
      ],
      "text/markdown": [
       "\n",
       "A matrix: 6 x 3 of type dbl\n",
       "\n",
       "| <!--/--> | setosa | versicolor | virginica |\n",
       "|---|---|---|---|\n",
       "| 1 | 0.9999979 | 2.107860e-06 | 1.880438e-62 |\n",
       "| 7 | 0.9999979 | 2.107611e-06 | 1.879894e-62 |\n",
       "| 10 | 0.9999979 | 2.107761e-06 | 1.880220e-62 |\n",
       "| 11 | 0.9999979 | 2.107948e-06 | 1.880630e-62 |\n",
       "| 13 | 0.9999979 | 2.107657e-06 | 1.879993e-62 |\n",
       "| 17 | 0.9999979 | 2.107942e-06 | 1.880617e-62 |\n",
       "\n"
      ],
      "text/plain": [
       "   setosa    versicolor   virginica   \n",
       "1  0.9999979 2.107860e-06 1.880438e-62\n",
       "7  0.9999979 2.107611e-06 1.879894e-62\n",
       "10 0.9999979 2.107761e-06 1.880220e-62\n",
       "11 0.9999979 2.107948e-06 1.880630e-62\n",
       "13 0.9999979 2.107657e-06 1.879993e-62\n",
       "17 0.9999979 2.107942e-06 1.880617e-62"
      ]
     },
     "metadata": {},
     "output_type": "display_data"
    },
    {
     "data": {
      "text/html": [
       "<table class=\"dataframe\">\n",
       "<caption>A matrix: 6 x 3 of type dbl</caption>\n",
       "<thead>\n",
       "\t<tr><th></th><th scope=col>setosa</th><th scope=col>versicolor</th><th scope=col>virginica</th></tr>\n",
       "</thead>\n",
       "<tbody>\n",
       "\t<tr><th scope=row>142</th><td>3.598902e-40</td><td>2.633577e-15</td><td>1</td></tr>\n",
       "\t<tr><th scope=row>143</th><td>2.059146e-40</td><td>1.661319e-15</td><td>1</td></tr>\n",
       "\t<tr><th scope=row>145</th><td>1.668759e-40</td><td>1.396752e-15</td><td>1</td></tr>\n",
       "\t<tr><th scope=row>148</th><td>3.630734e-40</td><td>2.652783e-15</td><td>1</td></tr>\n",
       "\t<tr><th scope=row>149</th><td>1.678871e-40</td><td>1.403732e-15</td><td>1</td></tr>\n",
       "\t<tr><th scope=row>150</th><td>3.800221e-40</td><td>2.754560e-15</td><td>1</td></tr>\n",
       "</tbody>\n",
       "</table>\n"
      ],
      "text/latex": [
       "A matrix: 6 x 3 of type dbl\n",
       "\\begin{tabular}{r|lll}\n",
       "  & setosa & versicolor & virginica\\\\\n",
       "\\hline\n",
       "\t142 & 3.598902e-40 & 2.633577e-15 & 1\\\\\n",
       "\t143 & 2.059146e-40 & 1.661319e-15 & 1\\\\\n",
       "\t145 & 1.668759e-40 & 1.396752e-15 & 1\\\\\n",
       "\t148 & 3.630734e-40 & 2.652783e-15 & 1\\\\\n",
       "\t149 & 1.678871e-40 & 1.403732e-15 & 1\\\\\n",
       "\t150 & 3.800221e-40 & 2.754560e-15 & 1\\\\\n",
       "\\end{tabular}\n"
      ],
      "text/markdown": [
       "\n",
       "A matrix: 6 x 3 of type dbl\n",
       "\n",
       "| <!--/--> | setosa | versicolor | virginica |\n",
       "|---|---|---|---|\n",
       "| 142 | 3.598902e-40 | 2.633577e-15 | 1 |\n",
       "| 143 | 2.059146e-40 | 1.661319e-15 | 1 |\n",
       "| 145 | 1.668759e-40 | 1.396752e-15 | 1 |\n",
       "| 148 | 3.630734e-40 | 2.652783e-15 | 1 |\n",
       "| 149 | 1.678871e-40 | 1.403732e-15 | 1 |\n",
       "| 150 | 3.800221e-40 | 2.754560e-15 | 1 |\n",
       "\n"
      ],
      "text/plain": [
       "    setosa       versicolor   virginica\n",
       "142 3.598902e-40 2.633577e-15 1        \n",
       "143 2.059146e-40 1.661319e-15 1        \n",
       "145 1.668759e-40 1.396752e-15 1        \n",
       "148 3.630734e-40 2.652783e-15 1        \n",
       "149 1.678871e-40 1.403732e-15 1        \n",
       "150 3.800221e-40 2.754560e-15 1        "
      ]
     },
     "metadata": {},
     "output_type": "display_data"
    }
   ],
   "source": [
    "pred <- predict(model.nnet, x, type = \"raw\") # class : 객관식 , raw : 주관식\n",
    "head(pred)\n",
    "tail(pred)"
   ]
  },
  {
   "cell_type": "markdown",
   "metadata": {},
   "source": [
    "### 학습시킨 머신러닝 사용하기"
   ]
  },
  {
   "cell_type": "code",
   "execution_count": 30,
   "metadata": {
    "vscode": {
     "languageId": "r"
    }
   },
   "outputs": [
    {
     "data": {
      "text/plain": [
       "  Sepal.Length    Sepal.Width     Petal.Length    Petal.Width   \n",
       " Min.   :4.300   Min.   :2.000   Min.   :1.000   Min.   :0.100  \n",
       " 1st Qu.:5.100   1st Qu.:2.800   1st Qu.:1.600   1st Qu.:0.300  \n",
       " Median :5.800   Median :3.000   Median :4.350   Median :1.300  \n",
       " Mean   :5.843   Mean   :3.057   Mean   :3.758   Mean   :1.199  \n",
       " 3rd Qu.:6.400   3rd Qu.:3.300   3rd Qu.:5.100   3rd Qu.:1.800  \n",
       " Max.   :7.900   Max.   :4.400   Max.   :6.900   Max.   :2.500  \n",
       "       Species  \n",
       " setosa    :50  \n",
       " versicolor:50  \n",
       " virginica :50  \n",
       "                \n",
       "                \n",
       "                "
      ]
     },
     "metadata": {},
     "output_type": "display_data"
    }
   ],
   "source": [
    "\n",
    "summary(iris)"
   ]
  },
  {
   "cell_type": "code",
   "execution_count": 34,
   "metadata": {
    "vscode": {
     "languageId": "r"
    }
   },
   "outputs": [
    {
     "data": {
      "text/html": [
       "<style>\n",
       ".list-inline {list-style: none; margin:0; padding: 0}\n",
       ".list-inline>li {display: inline-block}\n",
       ".list-inline>li:not(:last-child)::after {content: \"\\00b7\"; padding: 0 .5ex}\n",
       "</style>\n",
       "<ol class=list-inline><li>5.1</li><li>4.6</li><li>4.9</li><li>5.4</li><li>4.8</li><li>5.4</li><li>5.1</li><li>5.7</li><li>4.6</li><li>4.8</li><li>5</li><li>5.2</li><li>5</li><li>4.4</li><li>5.1</li><li>7</li><li>5.5</li><li>6.5</li><li>6.3</li><li>5</li><li>6.1</li><li>5.6</li><li>5.9</li><li>6.1</li><li>6.8</li><li>6.7</li><li>5.5</li><li>5.8</li><li>6</li><li>5</li><li>6.5</li><li>5.7</li><li>5.8</li><li>7.7</li><li>7.7</li><li>6.7</li><li>6.3</li><li>6.4</li><li>6.9</li><li>6.9</li><li>5.8</li><li>6.7</li><li>6.5</li><li>6.2</li><li>5.9</li></ol>\n"
      ],
      "text/latex": [
       "\\begin{enumerate*}\n",
       "\\item 5.1\n",
       "\\item 4.6\n",
       "\\item 4.9\n",
       "\\item 5.4\n",
       "\\item 4.8\n",
       "\\item 5.4\n",
       "\\item 5.1\n",
       "\\item 5.7\n",
       "\\item 4.6\n",
       "\\item 4.8\n",
       "\\item 5\n",
       "\\item 5.2\n",
       "\\item 5\n",
       "\\item 4.4\n",
       "\\item 5.1\n",
       "\\item 7\n",
       "\\item 5.5\n",
       "\\item 6.5\n",
       "\\item 6.3\n",
       "\\item 5\n",
       "\\item 6.1\n",
       "\\item 5.6\n",
       "\\item 5.9\n",
       "\\item 6.1\n",
       "\\item 6.8\n",
       "\\item 6.7\n",
       "\\item 5.5\n",
       "\\item 5.8\n",
       "\\item 6\n",
       "\\item 5\n",
       "\\item 6.5\n",
       "\\item 5.7\n",
       "\\item 5.8\n",
       "\\item 7.7\n",
       "\\item 7.7\n",
       "\\item 6.7\n",
       "\\item 6.3\n",
       "\\item 6.4\n",
       "\\item 6.9\n",
       "\\item 6.9\n",
       "\\item 5.8\n",
       "\\item 6.7\n",
       "\\item 6.5\n",
       "\\item 6.2\n",
       "\\item 5.9\n",
       "\\end{enumerate*}\n"
      ],
      "text/markdown": [
       "1. 5.1\n",
       "2. 4.6\n",
       "3. 4.9\n",
       "4. 5.4\n",
       "5. 4.8\n",
       "6. 5.4\n",
       "7. 5.1\n",
       "8. 5.7\n",
       "9. 4.6\n",
       "10. 4.8\n",
       "11. 5\n",
       "12. 5.2\n",
       "13. 5\n",
       "14. 4.4\n",
       "15. 5.1\n",
       "16. 7\n",
       "17. 5.5\n",
       "18. 6.5\n",
       "19. 6.3\n",
       "20. 5\n",
       "21. 6.1\n",
       "22. 5.6\n",
       "23. 5.9\n",
       "24. 6.1\n",
       "25. 6.8\n",
       "26. 6.7\n",
       "27. 5.5\n",
       "28. 5.8\n",
       "29. 6\n",
       "30. 5\n",
       "31. 6.5\n",
       "32. 5.7\n",
       "33. 5.8\n",
       "34. 7.7\n",
       "35. 7.7\n",
       "36. 6.7\n",
       "37. 6.3\n",
       "38. 6.4\n",
       "39. 6.9\n",
       "40. 6.9\n",
       "41. 5.8\n",
       "42. 6.7\n",
       "43. 6.5\n",
       "44. 6.2\n",
       "45. 5.9\n",
       "\n",
       "\n"
      ],
      "text/plain": [
       " [1] 5.1 4.6 4.9 5.4 4.8 5.4 5.1 5.7 4.6 4.8 5.0 5.2 5.0 4.4 5.1 7.0 5.5 6.5 6.3\n",
       "[20] 5.0 6.1 5.6 5.9 6.1 6.8 6.7 5.5 5.8 6.0 5.0 6.5 5.7 5.8 7.7 7.7 6.7 6.3 6.4\n",
       "[39] 6.9 6.9 5.8 6.7 6.5 6.2 5.9"
      ]
     },
     "metadata": {},
     "output_type": "display_data"
    }
   ],
   "source": []
  },
  {
   "cell_type": "code",
   "execution_count": 23,
   "metadata": {
    "vscode": {
     "languageId": "r"
    }
   },
   "outputs": [
    {
     "data": {
      "text/html": [
       "<style>\n",
       ".list-inline {list-style: none; margin:0; padding: 0}\n",
       ".list-inline>li {display: inline-block}\n",
       ".list-inline>li:not(:last-child)::after {content: \"\\00b7\"; padding: 0 .5ex}\n",
       "</style>\n",
       "<ol class=list-inline><li>'setosa'</li><li>'setosa'</li><li>'setosa'</li><li>'setosa'</li><li>'setosa'</li><li>'setosa'</li><li>'setosa'</li><li>'setosa'</li><li>'setosa'</li><li>'setosa'</li><li>'setosa'</li><li>'setosa'</li><li>'setosa'</li><li>'setosa'</li><li>'setosa'</li><li>'setosa'</li><li>'setosa'</li><li>'setosa'</li><li>'setosa'</li><li>'setosa'</li><li>'setosa'</li><li>'setosa'</li><li>'setosa'</li><li>'setosa'</li><li>'setosa'</li><li>'setosa'</li><li>'setosa'</li><li>'setosa'</li><li>'setosa'</li><li>'setosa'</li><li>'setosa'</li><li>'setosa'</li><li>'setosa'</li><li>'setosa'</li><li>'setosa'</li><li>'versicolor'</li><li>'versicolor'</li><li>'versicolor'</li><li>'versicolor'</li><li>'versicolor'</li><li>'versicolor'</li><li>'versicolor'</li><li>'versicolor'</li><li>'versicolor'</li><li>'versicolor'</li><li>'versicolor'</li><li>'versicolor'</li><li>'versicolor'</li><li>'versicolor'</li><li>'versicolor'</li><li>'versicolor'</li><li>'versicolor'</li><li>'versicolor'</li><li>'versicolor'</li><li>'versicolor'</li><li>'versicolor'</li><li>'versicolor'</li><li>'versicolor'</li><li>'versicolor'</li><li>'versicolor'</li><li>'versicolor'</li><li>'versicolor'</li><li>'versicolor'</li><li>'versicolor'</li><li>'versicolor'</li><li>'versicolor'</li><li>'versicolor'</li><li>'versicolor'</li><li>'versicolor'</li><li>'versicolor'</li><li>'virginica'</li><li>'virginica'</li><li>'virginica'</li><li>'virginica'</li><li>'virginica'</li><li>'virginica'</li><li>'virginica'</li><li>'virginica'</li><li>'virginica'</li><li>'virginica'</li><li>'virginica'</li><li>'virginica'</li><li>'virginica'</li><li>'virginica'</li><li>'virginica'</li><li>'virginica'</li><li>'virginica'</li><li>'virginica'</li><li>'virginica'</li><li>'virginica'</li><li>'virginica'</li><li>'virginica'</li><li>'virginica'</li><li>'virginica'</li><li>'virginica'</li><li>'virginica'</li><li>'virginica'</li><li>'virginica'</li><li>'virginica'</li><li>'virginica'</li><li>'virginica'</li><li>'virginica'</li><li>'virginica'</li><li>'virginica'</li><li>'virginica'</li></ol>\n"
      ],
      "text/latex": [
       "\\begin{enumerate*}\n",
       "\\item 'setosa'\n",
       "\\item 'setosa'\n",
       "\\item 'setosa'\n",
       "\\item 'setosa'\n",
       "\\item 'setosa'\n",
       "\\item 'setosa'\n",
       "\\item 'setosa'\n",
       "\\item 'setosa'\n",
       "\\item 'setosa'\n",
       "\\item 'setosa'\n",
       "\\item 'setosa'\n",
       "\\item 'setosa'\n",
       "\\item 'setosa'\n",
       "\\item 'setosa'\n",
       "\\item 'setosa'\n",
       "\\item 'setosa'\n",
       "\\item 'setosa'\n",
       "\\item 'setosa'\n",
       "\\item 'setosa'\n",
       "\\item 'setosa'\n",
       "\\item 'setosa'\n",
       "\\item 'setosa'\n",
       "\\item 'setosa'\n",
       "\\item 'setosa'\n",
       "\\item 'setosa'\n",
       "\\item 'setosa'\n",
       "\\item 'setosa'\n",
       "\\item 'setosa'\n",
       "\\item 'setosa'\n",
       "\\item 'setosa'\n",
       "\\item 'setosa'\n",
       "\\item 'setosa'\n",
       "\\item 'setosa'\n",
       "\\item 'setosa'\n",
       "\\item 'setosa'\n",
       "\\item 'versicolor'\n",
       "\\item 'versicolor'\n",
       "\\item 'versicolor'\n",
       "\\item 'versicolor'\n",
       "\\item 'versicolor'\n",
       "\\item 'versicolor'\n",
       "\\item 'versicolor'\n",
       "\\item 'versicolor'\n",
       "\\item 'versicolor'\n",
       "\\item 'versicolor'\n",
       "\\item 'versicolor'\n",
       "\\item 'versicolor'\n",
       "\\item 'versicolor'\n",
       "\\item 'versicolor'\n",
       "\\item 'versicolor'\n",
       "\\item 'versicolor'\n",
       "\\item 'versicolor'\n",
       "\\item 'versicolor'\n",
       "\\item 'versicolor'\n",
       "\\item 'versicolor'\n",
       "\\item 'versicolor'\n",
       "\\item 'versicolor'\n",
       "\\item 'versicolor'\n",
       "\\item 'versicolor'\n",
       "\\item 'versicolor'\n",
       "\\item 'versicolor'\n",
       "\\item 'versicolor'\n",
       "\\item 'versicolor'\n",
       "\\item 'versicolor'\n",
       "\\item 'versicolor'\n",
       "\\item 'versicolor'\n",
       "\\item 'versicolor'\n",
       "\\item 'versicolor'\n",
       "\\item 'versicolor'\n",
       "\\item 'versicolor'\n",
       "\\item 'virginica'\n",
       "\\item 'virginica'\n",
       "\\item 'virginica'\n",
       "\\item 'virginica'\n",
       "\\item 'virginica'\n",
       "\\item 'virginica'\n",
       "\\item 'virginica'\n",
       "\\item 'virginica'\n",
       "\\item 'virginica'\n",
       "\\item 'virginica'\n",
       "\\item 'virginica'\n",
       "\\item 'virginica'\n",
       "\\item 'virginica'\n",
       "\\item 'virginica'\n",
       "\\item 'virginica'\n",
       "\\item 'virginica'\n",
       "\\item 'virginica'\n",
       "\\item 'virginica'\n",
       "\\item 'virginica'\n",
       "\\item 'virginica'\n",
       "\\item 'virginica'\n",
       "\\item 'virginica'\n",
       "\\item 'virginica'\n",
       "\\item 'virginica'\n",
       "\\item 'virginica'\n",
       "\\item 'virginica'\n",
       "\\item 'virginica'\n",
       "\\item 'virginica'\n",
       "\\item 'virginica'\n",
       "\\item 'virginica'\n",
       "\\item 'virginica'\n",
       "\\item 'virginica'\n",
       "\\item 'virginica'\n",
       "\\item 'virginica'\n",
       "\\item 'virginica'\n",
       "\\end{enumerate*}\n"
      ],
      "text/markdown": [
       "1. 'setosa'\n",
       "2. 'setosa'\n",
       "3. 'setosa'\n",
       "4. 'setosa'\n",
       "5. 'setosa'\n",
       "6. 'setosa'\n",
       "7. 'setosa'\n",
       "8. 'setosa'\n",
       "9. 'setosa'\n",
       "10. 'setosa'\n",
       "11. 'setosa'\n",
       "12. 'setosa'\n",
       "13. 'setosa'\n",
       "14. 'setosa'\n",
       "15. 'setosa'\n",
       "16. 'setosa'\n",
       "17. 'setosa'\n",
       "18. 'setosa'\n",
       "19. 'setosa'\n",
       "20. 'setosa'\n",
       "21. 'setosa'\n",
       "22. 'setosa'\n",
       "23. 'setosa'\n",
       "24. 'setosa'\n",
       "25. 'setosa'\n",
       "26. 'setosa'\n",
       "27. 'setosa'\n",
       "28. 'setosa'\n",
       "29. 'setosa'\n",
       "30. 'setosa'\n",
       "31. 'setosa'\n",
       "32. 'setosa'\n",
       "33. 'setosa'\n",
       "34. 'setosa'\n",
       "35. 'setosa'\n",
       "36. 'versicolor'\n",
       "37. 'versicolor'\n",
       "38. 'versicolor'\n",
       "39. 'versicolor'\n",
       "40. 'versicolor'\n",
       "41. 'versicolor'\n",
       "42. 'versicolor'\n",
       "43. 'versicolor'\n",
       "44. 'versicolor'\n",
       "45. 'versicolor'\n",
       "46. 'versicolor'\n",
       "47. 'versicolor'\n",
       "48. 'versicolor'\n",
       "49. 'versicolor'\n",
       "50. 'versicolor'\n",
       "51. 'versicolor'\n",
       "52. 'versicolor'\n",
       "53. 'versicolor'\n",
       "54. 'versicolor'\n",
       "55. 'versicolor'\n",
       "56. 'versicolor'\n",
       "57. 'versicolor'\n",
       "58. 'versicolor'\n",
       "59. 'versicolor'\n",
       "60. 'versicolor'\n",
       "61. 'versicolor'\n",
       "62. 'versicolor'\n",
       "63. 'versicolor'\n",
       "64. 'versicolor'\n",
       "65. 'versicolor'\n",
       "66. 'versicolor'\n",
       "67. 'versicolor'\n",
       "68. 'versicolor'\n",
       "69. 'versicolor'\n",
       "70. 'versicolor'\n",
       "71. 'virginica'\n",
       "72. 'virginica'\n",
       "73. 'virginica'\n",
       "74. 'virginica'\n",
       "75. 'virginica'\n",
       "76. 'virginica'\n",
       "77. 'virginica'\n",
       "78. 'virginica'\n",
       "79. 'virginica'\n",
       "80. 'virginica'\n",
       "81. 'virginica'\n",
       "82. 'virginica'\n",
       "83. 'virginica'\n",
       "84. 'virginica'\n",
       "85. 'virginica'\n",
       "86. 'virginica'\n",
       "87. 'virginica'\n",
       "88. 'virginica'\n",
       "89. 'virginica'\n",
       "90. 'virginica'\n",
       "91. 'virginica'\n",
       "92. 'virginica'\n",
       "93. 'virginica'\n",
       "94. 'virginica'\n",
       "95. 'virginica'\n",
       "96. 'virginica'\n",
       "97. 'virginica'\n",
       "98. 'virginica'\n",
       "99. 'virginica'\n",
       "100. 'virginica'\n",
       "101. 'virginica'\n",
       "102. 'virginica'\n",
       "103. 'virginica'\n",
       "104. 'virginica'\n",
       "105. 'virginica'\n",
       "\n",
       "\n"
      ],
      "text/plain": [
       "  [1] \"setosa\"     \"setosa\"     \"setosa\"     \"setosa\"     \"setosa\"    \n",
       "  [6] \"setosa\"     \"setosa\"     \"setosa\"     \"setosa\"     \"setosa\"    \n",
       " [11] \"setosa\"     \"setosa\"     \"setosa\"     \"setosa\"     \"setosa\"    \n",
       " [16] \"setosa\"     \"setosa\"     \"setosa\"     \"setosa\"     \"setosa\"    \n",
       " [21] \"setosa\"     \"setosa\"     \"setosa\"     \"setosa\"     \"setosa\"    \n",
       " [26] \"setosa\"     \"setosa\"     \"setosa\"     \"setosa\"     \"setosa\"    \n",
       " [31] \"setosa\"     \"setosa\"     \"setosa\"     \"setosa\"     \"setosa\"    \n",
       " [36] \"versicolor\" \"versicolor\" \"versicolor\" \"versicolor\" \"versicolor\"\n",
       " [41] \"versicolor\" \"versicolor\" \"versicolor\" \"versicolor\" \"versicolor\"\n",
       " [46] \"versicolor\" \"versicolor\" \"versicolor\" \"versicolor\" \"versicolor\"\n",
       " [51] \"versicolor\" \"versicolor\" \"versicolor\" \"versicolor\" \"versicolor\"\n",
       " [56] \"versicolor\" \"versicolor\" \"versicolor\" \"versicolor\" \"versicolor\"\n",
       " [61] \"versicolor\" \"versicolor\" \"versicolor\" \"versicolor\" \"versicolor\"\n",
       " [66] \"versicolor\" \"versicolor\" \"versicolor\" \"versicolor\" \"versicolor\"\n",
       " [71] \"virginica\"  \"virginica\"  \"virginica\"  \"virginica\"  \"virginica\" \n",
       " [76] \"virginica\"  \"virginica\"  \"virginica\"  \"virginica\"  \"virginica\" \n",
       " [81] \"virginica\"  \"virginica\"  \"virginica\"  \"virginica\"  \"virginica\" \n",
       " [86] \"virginica\"  \"virginica\"  \"virginica\"  \"virginica\"  \"virginica\" \n",
       " [91] \"virginica\"  \"virginica\"  \"virginica\"  \"virginica\"  \"virginica\" \n",
       " [96] \"virginica\"  \"virginica\"  \"virginica\"  \"virginica\"  \"virginica\" \n",
       "[101] \"virginica\"  \"virginica\"  \"virginica\"  \"virginica\"  \"virginica\" "
      ]
     },
     "metadata": {},
     "output_type": "display_data"
    },
    {
     "data": {
      "text/html": [
       "'character'"
      ],
      "text/latex": [
       "'character'"
      ],
      "text/markdown": [
       "'character'"
      ],
      "text/plain": [
       "[1] \"character\""
      ]
     },
     "metadata": {},
     "output_type": "display_data"
    }
   ],
   "source": [
    "pre2 <- predict(model.nnet, Sepal.Length = 5.3, type = \"class\")\n",
    "pre2\n",
    "\n",
    "class(pre2)\n",
    "\n"
   ]
  },
  {
   "cell_type": "code",
   "execution_count": 29,
   "metadata": {
    "vscode": {
     "languageId": "r"
    }
   },
   "outputs": [],
   "source": []
  }
 ],
 "metadata": {
  "kernelspec": {
   "display_name": "R",
   "language": "R",
   "name": "r"
  },
  "language_info": {
   "codemirror_mode": "r",
   "file_extension": ".r",
   "mimetype": "text/x-r-source",
   "name": "R",
   "pygments_lexer": "r",
   "version": "4.3.3"
  }
 },
 "nbformat": 4,
 "nbformat_minor": 2
}
