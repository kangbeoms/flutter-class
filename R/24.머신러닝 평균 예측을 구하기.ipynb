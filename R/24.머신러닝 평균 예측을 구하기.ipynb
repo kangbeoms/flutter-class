{
 "cells": [
  {
   "cell_type": "code",
   "execution_count": 1,
   "metadata": {
    "vscode": {
     "languageId": "r"
    }
   },
   "outputs": [
    {
     "data": {
      "text/html": [
       "'ko_KR.UTF-8/ko_KR.UTF-8/ko_KR.UTF-8/C/ko_KR.UTF-8/C'"
      ],
      "text/latex": [
       "'ko\\_KR.UTF-8/ko\\_KR.UTF-8/ko\\_KR.UTF-8/C/ko\\_KR.UTF-8/C'"
      ],
      "text/markdown": [
       "'ko_KR.UTF-8/ko_KR.UTF-8/ko_KR.UTF-8/C/ko_KR.UTF-8/C'"
      ],
      "text/plain": [
       "[1] \"ko_KR.UTF-8/ko_KR.UTF-8/ko_KR.UTF-8/C/ko_KR.UTF-8/C\""
      ]
     },
     "metadata": {},
     "output_type": "display_data"
    }
   ],
   "source": [
    "options(warn = -1)\n",
    "options(repr.plot.width=15, repr.plot.height=9) \n",
    "Sys.setlocale(category = \"LC_ALL\", locale = \"ko_KR.UTF-8\")"
   ]
  },
  {
   "cell_type": "code",
   "execution_count": 2,
   "metadata": {
    "vscode": {
     "languageId": "r"
    }
   },
   "outputs": [],
   "source": [
    "# iris data를 randomForest로 예측을 구하기\n"
   ]
  },
  {
   "cell_type": "code",
   "execution_count": 3,
   "metadata": {
    "vscode": {
     "languageId": "r"
    }
   },
   "outputs": [
    {
     "name": "stderr",
     "output_type": "stream",
     "text": [
      "필요한 패키지를 로딩중입니다: ggplot2\n",
      "\n"
     ]
    },
    {
     "name": "stderr",
     "output_type": "stream",
     "text": [
      "필요한 패키지를 로딩중입니다: lattice\n",
      "\n",
      "randomForest 4.7-1.1\n",
      "\n",
      "Type rfNews() to see new features/changes/bug fixes.\n",
      "\n",
      "\n",
      "다음의 패키지를 부착합니다: ‘randomForest’\n",
      "\n",
      "\n",
      "The following object is masked from ‘package:ggplot2’:\n",
      "\n",
      "    margin\n",
      "\n",
      "\n"
     ]
    }
   ],
   "source": [
    "library(caret)\n",
    "library(randomForest)"
   ]
  },
  {
   "cell_type": "code",
   "execution_count": 4,
   "metadata": {
    "vscode": {
     "languageId": "r"
    }
   },
   "outputs": [],
   "source": [
    "# RandomForest 함수\n",
    "rfFun <- function(A) {\n",
    "cat(\"------------------------------------\\n\")\n",
    "cat(\"예측율\\n\")\n",
    "    library(caret)\n",
    "library(randomForest)\n",
    "for(i in 1:A) {\n",
    "sampA <- createDataPartition(iris$Species, p=0.7,list = F)\n",
    "# 학습용\n",
    "data.trA <- iris[sampA,]\n",
    "# 검증용\n",
    "data.testA <- iris[-sampA,]\n",
    "# 문제\n",
    "xA <- subset(data.testA, select = -Species)\n",
    "# 답\n",
    "yA <- data.testA$Species\n",
    "# 문제풀기  \n",
    "rfA <- randomForest(Species ~ ., data=data.trA, ntree = 100)\n",
    "# 예측\n",
    "predA <- predict(rfA, xA)\n",
    "predA\n",
    "cat(mean(predA == yA),\"\\t\")\n",
    "}\n",
    "cat(\"\\n------------------------------------\\n\")\n",
    "cat(\"\\n평균 예측율 :\", mean(mean(predA == yA)),\"\\n\")\n",
    "cat(\"------------------------------------\\n\")\n",
    "}"
   ]
  },
  {
   "cell_type": "code",
   "execution_count": 5,
   "metadata": {
    "vscode": {
     "languageId": "r"
    }
   },
   "outputs": [
    {
     "name": "stdout",
     "output_type": "stream",
     "text": [
      "------------------------------------\n",
      "예측율\n",
      "0.9111111 \t0.9555556 \t0.9555556 \t0.9777778 \t0.9777778 \t0.9555556 \t0.9777778 \t0.9333333 \t0.9333333 \t0.9777778 \t\n",
      "------------------------------------\n",
      "\n",
      "평균 예측율 : 0.9777778 \n",
      "------------------------------------\n"
     ]
    }
   ],
   "source": [
    "rfFun(10)"
   ]
  },
  {
   "cell_type": "code",
   "execution_count": 6,
   "metadata": {
    "vscode": {
     "languageId": "r"
    }
   },
   "outputs": [
    {
     "ename": "ERROR",
     "evalue": "Error in paste(\",\", ): 기본값이 없는 인수가 누락되어 있습니다\n",
     "output_type": "error",
     "traceback": [
      "Error in paste(\",\", ): 기본값이 없는 인수가 누락되어 있습니다\nTraceback:\n",
      "1. paste(\",\", )"
     ]
    }
   ],
   "source": [
    "paste(\",\", )\n",
    "data"
   ]
  },
  {
   "cell_type": "code",
   "execution_count": null,
   "metadata": {
    "vscode": {
     "languageId": "r"
    }
   },
   "outputs": [],
   "source": [
    "library(stringr)"
   ]
  },
  {
   "cell_type": "code",
   "execution_count": null,
   "metadata": {
    "vscode": {
     "languageId": "r"
    }
   },
   "outputs": [],
   "source": [
    "# 객관식 함수 모음\n",
    "myTest <- function(A, dataName, coln, ntreecount, per) {\n",
    "cat(\"------------------------------------\\n\")\n",
    "cat(\"예측율\\n\")\n",
    "# 라이브러리 받기\n",
    "library(caret)\n",
    "library(e1071)\n",
    "library(nnet)\n",
    "library(randomForest)\n",
    "for(i in 1:A) {\n",
    "sampA <- createDataPartition(dataName$Species, p = per, list = F)\n",
    "# 학습용    \n",
    "data.trA <- dataName[sampA,]\n",
    "# 검증용\n",
    "data.testA <- dataName[-sampA,]\n",
    "# 문제\n",
    "xA <- subset(data.testA, select = - Species)\n",
    "# 답\n",
    "yA <- data.testA$Species\n",
    "# 문제풀기  ( 랜덤 포레스트)\n",
    "rfA <- randomForest(Species ~ ., data=data.trA, ntree = ntreecount )\n",
    "# ( SVM )\n",
    "model <- svm(Species ~ ., data=data.trA)\n",
    "\n",
    "# 예측\n",
    "# 랜덤 포레스트\n",
    "predA <- predict(rfA, xA)\n",
    "\n",
    "# SVM\n",
    "pred2A <- predict(model,xA)\n",
    "\n",
    "# 랜덤 포레스트\n",
    "cat(\"\\nRandomForest 예측율 \", mean(predA == yA),\"\\t\")\n",
    "cat(\"\\n SVM 예측율 \", mean(yA == pred2A),\"\\t\")\n",
    "\n",
    "}\n",
    "# SVM\n",
    "cat(\"\\n------------------------------------\\n\")\n",
    "cat(\"\\nRandom Forest의 평균 예측율 :\", mean(mean(predA == yA)),\"\\n\")\n",
    "cat(\"------------------------------------\\n\")\n",
    "cat(\"\\nSVM의 평균 예측율 :\", mean(mean(pred2A == yA)),\"\\n\")\n",
    "cat(\"------------------------------------\\n\")\n",
    "\n",
    "}"
   ]
  },
  {
   "cell_type": "code",
   "execution_count": null,
   "metadata": {
    "vscode": {
     "languageId": "r"
    }
   },
   "outputs": [
    {
     "name": "stdout",
     "output_type": "stream",
     "text": [
      "------------------------------------\n",
      "예측율\n",
      "\n",
      "RandomForest 예측율  0.9111111 \t\n",
      " SVM 예측율  0.9111111 \t\n",
      "RandomForest 예측율  0.9555556 \t\n",
      " SVM 예측율  0.9777778 \t\n",
      "RandomForest 예측율  0.9555556 \t\n",
      " SVM 예측율  0.9555556 \t\n",
      "RandomForest 예측율  0.9111111 \t\n",
      " SVM 예측율  0.9555556 \t\n",
      "RandomForest 예측율  0.9333333 \t\n",
      " SVM 예측율  0.9333333 \t\n",
      "------------------------------------\n",
      "\n",
      "Random Forest의 평균 예측율 : 0.9333333 \n",
      "------------------------------------\n",
      "\n",
      "SVM의 평균 예측율 : 0.9333333 \n",
      "------------------------------------\n"
     ]
    }
   ],
   "source": [
    "myTest(A = 5, dataName = iris, coln = 5, ntreecount = 100,per = 0.7) "
   ]
  },
  {
   "cell_type": "code",
   "execution_count": null,
   "metadata": {
    "vscode": {
     "languageId": "r"
    }
   },
   "outputs": [],
   "source": []
  },
  {
   "cell_type": "code",
   "execution_count": null,
   "metadata": {
    "vscode": {
     "languageId": "r"
    }
   },
   "outputs": [],
   "source": []
  },
  {
   "cell_type": "code",
   "execution_count": null,
   "metadata": {
    "vscode": {
     "languageId": "r"
    }
   },
   "outputs": [],
   "source": []
  },
  {
   "cell_type": "code",
   "execution_count": null,
   "metadata": {
    "vscode": {
     "languageId": "r"
    }
   },
   "outputs": [
    {
     "data": {
      "text/html": [
       "<table class=\"dataframe\">\n",
       "<caption>A data.frame: 150 x 1</caption>\n",
       "<thead>\n",
       "\t<tr><th scope=col>Species</th></tr>\n",
       "\t<tr><th scope=col>&lt;fct&gt;</th></tr>\n",
       "</thead>\n",
       "<tbody>\n",
       "\t<tr><td>setosa</td></tr>\n",
       "\t<tr><td>setosa</td></tr>\n",
       "\t<tr><td>setosa</td></tr>\n",
       "\t<tr><td>setosa</td></tr>\n",
       "\t<tr><td>setosa</td></tr>\n",
       "\t<tr><td>setosa</td></tr>\n",
       "\t<tr><td>setosa</td></tr>\n",
       "\t<tr><td>setosa</td></tr>\n",
       "\t<tr><td>setosa</td></tr>\n",
       "\t<tr><td>setosa</td></tr>\n",
       "\t<tr><td>setosa</td></tr>\n",
       "\t<tr><td>setosa</td></tr>\n",
       "\t<tr><td>setosa</td></tr>\n",
       "\t<tr><td>setosa</td></tr>\n",
       "\t<tr><td>setosa</td></tr>\n",
       "\t<tr><td>setosa</td></tr>\n",
       "\t<tr><td>setosa</td></tr>\n",
       "\t<tr><td>setosa</td></tr>\n",
       "\t<tr><td>setosa</td></tr>\n",
       "\t<tr><td>setosa</td></tr>\n",
       "\t<tr><td>setosa</td></tr>\n",
       "\t<tr><td>setosa</td></tr>\n",
       "\t<tr><td>setosa</td></tr>\n",
       "\t<tr><td>setosa</td></tr>\n",
       "\t<tr><td>setosa</td></tr>\n",
       "\t<tr><td>setosa</td></tr>\n",
       "\t<tr><td>setosa</td></tr>\n",
       "\t<tr><td>setosa</td></tr>\n",
       "\t<tr><td>setosa</td></tr>\n",
       "\t<tr><td>setosa</td></tr>\n",
       "\t<tr><td>...</td></tr>\n",
       "\t<tr><td>virginica</td></tr>\n",
       "\t<tr><td>virginica</td></tr>\n",
       "\t<tr><td>virginica</td></tr>\n",
       "\t<tr><td>virginica</td></tr>\n",
       "\t<tr><td>virginica</td></tr>\n",
       "\t<tr><td>virginica</td></tr>\n",
       "\t<tr><td>virginica</td></tr>\n",
       "\t<tr><td>virginica</td></tr>\n",
       "\t<tr><td>virginica</td></tr>\n",
       "\t<tr><td>virginica</td></tr>\n",
       "\t<tr><td>virginica</td></tr>\n",
       "\t<tr><td>virginica</td></tr>\n",
       "\t<tr><td>virginica</td></tr>\n",
       "\t<tr><td>virginica</td></tr>\n",
       "\t<tr><td>virginica</td></tr>\n",
       "\t<tr><td>virginica</td></tr>\n",
       "\t<tr><td>virginica</td></tr>\n",
       "\t<tr><td>virginica</td></tr>\n",
       "\t<tr><td>virginica</td></tr>\n",
       "\t<tr><td>virginica</td></tr>\n",
       "\t<tr><td>virginica</td></tr>\n",
       "\t<tr><td>virginica</td></tr>\n",
       "\t<tr><td>virginica</td></tr>\n",
       "\t<tr><td>virginica</td></tr>\n",
       "\t<tr><td>virginica</td></tr>\n",
       "\t<tr><td>virginica</td></tr>\n",
       "\t<tr><td>virginica</td></tr>\n",
       "\t<tr><td>virginica</td></tr>\n",
       "\t<tr><td>virginica</td></tr>\n",
       "\t<tr><td>virginica</td></tr>\n",
       "</tbody>\n",
       "</table>\n"
      ],
      "text/latex": [
       "A data.frame: 150 x 1\n",
       "\\begin{tabular}{l}\n",
       " Species\\\\\n",
       " <fct>\\\\\n",
       "\\hline\n",
       "\t setosa\\\\\n",
       "\t setosa\\\\\n",
       "\t setosa\\\\\n",
       "\t setosa\\\\\n",
       "\t setosa\\\\\n",
       "\t setosa\\\\\n",
       "\t setosa\\\\\n",
       "\t setosa\\\\\n",
       "\t setosa\\\\\n",
       "\t setosa\\\\\n",
       "\t setosa\\\\\n",
       "\t setosa\\\\\n",
       "\t setosa\\\\\n",
       "\t setosa\\\\\n",
       "\t setosa\\\\\n",
       "\t setosa\\\\\n",
       "\t setosa\\\\\n",
       "\t setosa\\\\\n",
       "\t setosa\\\\\n",
       "\t setosa\\\\\n",
       "\t setosa\\\\\n",
       "\t setosa\\\\\n",
       "\t setosa\\\\\n",
       "\t setosa\\\\\n",
       "\t setosa\\\\\n",
       "\t setosa\\\\\n",
       "\t setosa\\\\\n",
       "\t setosa\\\\\n",
       "\t setosa\\\\\n",
       "\t setosa\\\\\n",
       "\t ...\\\\\n",
       "\t virginica\\\\\n",
       "\t virginica\\\\\n",
       "\t virginica\\\\\n",
       "\t virginica\\\\\n",
       "\t virginica\\\\\n",
       "\t virginica\\\\\n",
       "\t virginica\\\\\n",
       "\t virginica\\\\\n",
       "\t virginica\\\\\n",
       "\t virginica\\\\\n",
       "\t virginica\\\\\n",
       "\t virginica\\\\\n",
       "\t virginica\\\\\n",
       "\t virginica\\\\\n",
       "\t virginica\\\\\n",
       "\t virginica\\\\\n",
       "\t virginica\\\\\n",
       "\t virginica\\\\\n",
       "\t virginica\\\\\n",
       "\t virginica\\\\\n",
       "\t virginica\\\\\n",
       "\t virginica\\\\\n",
       "\t virginica\\\\\n",
       "\t virginica\\\\\n",
       "\t virginica\\\\\n",
       "\t virginica\\\\\n",
       "\t virginica\\\\\n",
       "\t virginica\\\\\n",
       "\t virginica\\\\\n",
       "\t virginica\\\\\n",
       "\\end{tabular}\n"
      ],
      "text/markdown": [
       "\n",
       "A data.frame: 150 x 1\n",
       "\n",
       "| Species &lt;fct&gt; |\n",
       "|---|\n",
       "| setosa |\n",
       "| setosa |\n",
       "| setosa |\n",
       "| setosa |\n",
       "| setosa |\n",
       "| setosa |\n",
       "| setosa |\n",
       "| setosa |\n",
       "| setosa |\n",
       "| setosa |\n",
       "| setosa |\n",
       "| setosa |\n",
       "| setosa |\n",
       "| setosa |\n",
       "| setosa |\n",
       "| setosa |\n",
       "| setosa |\n",
       "| setosa |\n",
       "| setosa |\n",
       "| setosa |\n",
       "| setosa |\n",
       "| setosa |\n",
       "| setosa |\n",
       "| setosa |\n",
       "| setosa |\n",
       "| setosa |\n",
       "| setosa |\n",
       "| setosa |\n",
       "| setosa |\n",
       "| setosa |\n",
       "| ... |\n",
       "| virginica |\n",
       "| virginica |\n",
       "| virginica |\n",
       "| virginica |\n",
       "| virginica |\n",
       "| virginica |\n",
       "| virginica |\n",
       "| virginica |\n",
       "| virginica |\n",
       "| virginica |\n",
       "| virginica |\n",
       "| virginica |\n",
       "| virginica |\n",
       "| virginica |\n",
       "| virginica |\n",
       "| virginica |\n",
       "| virginica |\n",
       "| virginica |\n",
       "| virginica |\n",
       "| virginica |\n",
       "| virginica |\n",
       "| virginica |\n",
       "| virginica |\n",
       "| virginica |\n",
       "| virginica |\n",
       "| virginica |\n",
       "| virginica |\n",
       "| virginica |\n",
       "| virginica |\n",
       "| virginica |\n",
       "\n"
      ],
      "text/plain": [
       "    Species  \n",
       "1   setosa   \n",
       "2   setosa   \n",
       "3   setosa   \n",
       "4   setosa   \n",
       "5   setosa   \n",
       "6   setosa   \n",
       "7   setosa   \n",
       "8   setosa   \n",
       "9   setosa   \n",
       "10  setosa   \n",
       "11  setosa   \n",
       "12  setosa   \n",
       "13  setosa   \n",
       "14  setosa   \n",
       "15  setosa   \n",
       "16  setosa   \n",
       "17  setosa   \n",
       "18  setosa   \n",
       "19  setosa   \n",
       "20  setosa   \n",
       "21  setosa   \n",
       "22  setosa   \n",
       "23  setosa   \n",
       "24  setosa   \n",
       "25  setosa   \n",
       "26  setosa   \n",
       "27  setosa   \n",
       "28  setosa   \n",
       "29  setosa   \n",
       "30  setosa   \n",
       "... ...      \n",
       "121 virginica\n",
       "122 virginica\n",
       "123 virginica\n",
       "124 virginica\n",
       "125 virginica\n",
       "126 virginica\n",
       "127 virginica\n",
       "128 virginica\n",
       "129 virginica\n",
       "130 virginica\n",
       "131 virginica\n",
       "132 virginica\n",
       "133 virginica\n",
       "134 virginica\n",
       "135 virginica\n",
       "136 virginica\n",
       "137 virginica\n",
       "138 virginica\n",
       "139 virginica\n",
       "140 virginica\n",
       "141 virginica\n",
       "142 virginica\n",
       "143 virginica\n",
       "144 virginica\n",
       "145 virginica\n",
       "146 virginica\n",
       "147 virginica\n",
       "148 virginica\n",
       "149 virginica\n",
       "150 virginica"
      ]
     },
     "metadata": {},
     "output_type": "display_data"
    }
   ],
   "source": [
    "iris[5]"
   ]
  },
  {
   "cell_type": "code",
   "execution_count": null,
   "metadata": {
    "vscode": {
     "languageId": "r"
    }
   },
   "outputs": [
    {
     "data": {
      "text/html": [
       "<table class=\"dataframe\">\n",
       "<caption>A data.frame: 6 x 5</caption>\n",
       "<thead>\n",
       "\t<tr><th></th><th scope=col>Sepal.Length</th><th scope=col>Sepal.Width</th><th scope=col>Petal.Length</th><th scope=col>Petal.Width</th><th scope=col>Species</th></tr>\n",
       "\t<tr><th></th><th scope=col>&lt;dbl&gt;</th><th scope=col>&lt;dbl&gt;</th><th scope=col>&lt;dbl&gt;</th><th scope=col>&lt;dbl&gt;</th><th scope=col>&lt;fct&gt;</th></tr>\n",
       "</thead>\n",
       "<tbody>\n",
       "\t<tr><th scope=row>1</th><td>5.1</td><td>3.5</td><td>1.4</td><td>0.2</td><td>setosa</td></tr>\n",
       "\t<tr><th scope=row>2</th><td>4.9</td><td>3.0</td><td>1.4</td><td>0.2</td><td>setosa</td></tr>\n",
       "\t<tr><th scope=row>3</th><td>4.7</td><td>3.2</td><td>1.3</td><td>0.2</td><td>setosa</td></tr>\n",
       "\t<tr><th scope=row>4</th><td>4.6</td><td>3.1</td><td>1.5</td><td>0.2</td><td>setosa</td></tr>\n",
       "\t<tr><th scope=row>5</th><td>5.0</td><td>3.6</td><td>1.4</td><td>0.2</td><td>setosa</td></tr>\n",
       "\t<tr><th scope=row>6</th><td>5.4</td><td>3.9</td><td>1.7</td><td>0.4</td><td>setosa</td></tr>\n",
       "</tbody>\n",
       "</table>\n"
      ],
      "text/latex": [
       "A data.frame: 6 x 5\n",
       "\\begin{tabular}{r|lllll}\n",
       "  & Sepal.Length & Sepal.Width & Petal.Length & Petal.Width & Species\\\\\n",
       "  & <dbl> & <dbl> & <dbl> & <dbl> & <fct>\\\\\n",
       "\\hline\n",
       "\t1 & 5.1 & 3.5 & 1.4 & 0.2 & setosa\\\\\n",
       "\t2 & 4.9 & 3.0 & 1.4 & 0.2 & setosa\\\\\n",
       "\t3 & 4.7 & 3.2 & 1.3 & 0.2 & setosa\\\\\n",
       "\t4 & 4.6 & 3.1 & 1.5 & 0.2 & setosa\\\\\n",
       "\t5 & 5.0 & 3.6 & 1.4 & 0.2 & setosa\\\\\n",
       "\t6 & 5.4 & 3.9 & 1.7 & 0.4 & setosa\\\\\n",
       "\\end{tabular}\n"
      ],
      "text/markdown": [
       "\n",
       "A data.frame: 6 x 5\n",
       "\n",
       "| <!--/--> | Sepal.Length &lt;dbl&gt; | Sepal.Width &lt;dbl&gt; | Petal.Length &lt;dbl&gt; | Petal.Width &lt;dbl&gt; | Species &lt;fct&gt; |\n",
       "|---|---|---|---|---|---|\n",
       "| 1 | 5.1 | 3.5 | 1.4 | 0.2 | setosa |\n",
       "| 2 | 4.9 | 3.0 | 1.4 | 0.2 | setosa |\n",
       "| 3 | 4.7 | 3.2 | 1.3 | 0.2 | setosa |\n",
       "| 4 | 4.6 | 3.1 | 1.5 | 0.2 | setosa |\n",
       "| 5 | 5.0 | 3.6 | 1.4 | 0.2 | setosa |\n",
       "| 6 | 5.4 | 3.9 | 1.7 | 0.4 | setosa |\n",
       "\n"
      ],
      "text/plain": [
       "  Sepal.Length Sepal.Width Petal.Length Petal.Width Species\n",
       "1 5.1          3.5         1.4          0.2         setosa \n",
       "2 4.9          3.0         1.4          0.2         setosa \n",
       "3 4.7          3.2         1.3          0.2         setosa \n",
       "4 4.6          3.1         1.5          0.2         setosa \n",
       "5 5.0          3.6         1.4          0.2         setosa \n",
       "6 5.4          3.9         1.7          0.4         setosa "
      ]
     },
     "metadata": {},
     "output_type": "display_data"
    },
    {
     "data": {
      "text/html": [
       "'iris $ Species'"
      ],
      "text/latex": [
       "'iris \\$ Species'"
      ],
      "text/markdown": [
       "'iris $ Species'"
      ],
      "text/plain": [
       "[1] \"iris $ Species\""
      ]
     },
     "metadata": {},
     "output_type": "display_data"
    }
   ],
   "source": [
    "data(iris)\n",
    "head(iris)\n",
    "A <- 'iris'\n",
    "B <- 'Species'\n",
    "paste(A,'$',B)\n",
    "\n"
   ]
  },
  {
   "cell_type": "code",
   "execution_count": null,
   "metadata": {
    "vscode": {
     "languageId": "r"
    }
   },
   "outputs": [],
   "source": [
    "library(stringr)"
   ]
  },
  {
   "cell_type": "code",
   "execution_count": null,
   "metadata": {
    "vscode": {
     "languageId": "r"
    }
   },
   "outputs": [
    {
     "data": {
      "text/html": [
       "150"
      ],
      "text/latex": [
       "150"
      ],
      "text/markdown": [
       "150"
      ],
      "text/plain": [
       "[1] 150"
      ]
     },
     "metadata": {},
     "output_type": "display_data"
    },
    {
     "data": {
      "text/html": [
       "'iris$Species'"
      ],
      "text/latex": [
       "'iris\\$Species'"
      ],
      "text/markdown": [
       "'iris$Species'"
      ],
      "text/plain": [
       "[1] \"iris$Species\""
      ]
     },
     "metadata": {},
     "output_type": "display_data"
    },
    {
     "data": {
      "text/html": [
       "<style>\n",
       ".list-inline {list-style: none; margin:0; padding: 0}\n",
       ".list-inline>li {display: inline-block}\n",
       ".list-inline>li:not(:last-child)::after {content: \"\\00b7\"; padding: 0 .5ex}\n",
       "</style>\n",
       "<ol class=list-inline><li>'iris$Species'</li><li>''</li></ol>\n"
      ],
      "text/latex": [
       "\\begin{enumerate*}\n",
       "\\item 'iris\\$Species'\n",
       "\\item ''\n",
       "\\end{enumerate*}\n"
      ],
      "text/markdown": [
       "1. 'iris$Species'\n",
       "2. ''\n",
       "\n",
       "\n"
      ],
      "text/plain": [
       "[1] \"iris$Species\" \"\"            "
      ]
     },
     "metadata": {},
     "output_type": "display_data"
    },
    {
     "data": {
      "text/html": [
       "'iris'"
      ],
      "text/latex": [
       "'iris'"
      ],
      "text/markdown": [
       "'iris'"
      ],
      "text/plain": [
       "[1] \"iris\""
      ]
     },
     "metadata": {},
     "output_type": "display_data"
    },
    {
     "data": {
      "text/html": [
       "12"
      ],
      "text/latex": [
       "12"
      ],
      "text/markdown": [
       "12"
      ],
      "text/plain": [
       "[1] 12"
      ]
     },
     "metadata": {},
     "output_type": "display_data"
    }
   ],
   "source": [
    "length(iris$Species)\n",
    "\n",
    "target <- 'iris$Species'\n",
    "target\n",
    "unlist(str_split(target,'$'))\n",
    "\n",
    "str_sub(target, 1, str_locate(target,\"$\")[2]-8)\n",
    "\n",
    "\n",
    "str_length(target)"
   ]
  },
  {
   "cell_type": "markdown",
   "metadata": {},
   "source": [
    "---\n",
    "# One - Hot Encoding\n",
    "- Feature Engineering 의 한 분야\n"
   ]
  },
  {
   "cell_type": "code",
   "execution_count": 7,
   "metadata": {
    "vscode": {
     "languageId": "r"
    }
   },
   "outputs": [
    {
     "ename": "ERROR",
     "evalue": "Error in eval(expr, envir, enclos): 객체 'mush'를 찾을 수 없습니다\n",
     "output_type": "error",
     "traceback": [
      "Error in eval(expr, envir, enclos): 객체 'mush'를 찾을 수 없습니다\nTraceback:\n",
      "1. cat(\"Column Name :\", colnames(mush)[i], \"\\n\")",
      "2. colnames(mush)",
      "3. is.data.frame(x)"
     ]
    }
   ],
   "source": [
    "# 각 컬럼별 Data 확인\n",
    "for (i in 2:23) {\n",
    "        cat(\"Column Name :\", colnames(mush)[i],\"\\n\")\n",
    "        table()\n",
    "} "
   ]
  },
  {
   "cell_type": "code",
   "execution_count": 8,
   "metadata": {
    "vscode": {
     "languageId": "r"
    }
   },
   "outputs": [
    {
     "ename": "ERROR",
     "evalue": "Error in eval(expr, envir, enclos): 객체 'mush'를 찾을 수 없습니다\n",
     "output_type": "error",
     "traceback": [
      "Error in eval(expr, envir, enclos): 객체 'mush'를 찾을 수 없습니다\nTraceback:\n",
      "1. append(num, length(unique(mush[, i])))",
      "2. unique(mush[, i])"
     ]
    }
   ],
   "source": [
    "# 작업 후의 컬럼 갯수 파악 \n",
    "num <- c()\n",
    "for(i in 2:23 ) {\n",
    "        num = append(num, length(unique(mush[,i])))\n",
    "}"
   ]
  },
  {
   "cell_type": "code",
   "execution_count": null,
   "metadata": {
    "vscode": {
     "languageId": "r"
    }
   },
   "outputs": [],
   "source": []
  }
 ],
 "metadata": {
  "kernelspec": {
   "display_name": "R",
   "language": "R",
   "name": "r"
  },
  "language_info": {
   "codemirror_mode": "r",
   "file_extension": ".r",
   "mimetype": "text/x-r-source",
   "name": "R",
   "pygments_lexer": "r",
   "version": "4.3.3"
  }
 },
 "nbformat": 4,
 "nbformat_minor": 2
}
