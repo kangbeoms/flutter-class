{
 "cells": [
  {
   "cell_type": "code",
   "execution_count": 1,
   "metadata": {
    "vscode": {
     "languageId": "r"
    }
   },
   "outputs": [
    {
     "data": {
      "text/html": [
       "'ko_KR.UTF-8/ko_KR.UTF-8/ko_KR.UTF-8/C/ko_KR.UTF-8/C'"
      ],
      "text/latex": [
       "'ko\\_KR.UTF-8/ko\\_KR.UTF-8/ko\\_KR.UTF-8/C/ko\\_KR.UTF-8/C'"
      ],
      "text/markdown": [
       "'ko_KR.UTF-8/ko_KR.UTF-8/ko_KR.UTF-8/C/ko_KR.UTF-8/C'"
      ],
      "text/plain": [
       "[1] \"ko_KR.UTF-8/ko_KR.UTF-8/ko_KR.UTF-8/C/ko_KR.UTF-8/C\""
      ]
     },
     "metadata": {},
     "output_type": "display_data"
    }
   ],
   "source": [
    "options(warn = -1)\n",
    "options(repr.plot.width=15, repr.plot.height=9) \n",
    "Sys.setlocale(category = \"LC_ALL\", locale = \"ko_KR.UTF-8\")"
   ]
  },
  {
   "cell_type": "code",
   "execution_count": 10,
   "metadata": {
    "vscode": {
     "languageId": "r"
    }
   },
   "outputs": [],
   "source": [
    "    library(caret)\n",
    "library(randomForest)\n",
    "\n",
    "samp <- c(sample(1:50, 35), sample(51:100, 35), sample(101:150, 35))\n",
    "iris.tr <- iris[samp,]\n",
    "iris.test <- iris[-samp,]\n"
   ]
  },
  {
   "cell_type": "code",
   "execution_count": 5,
   "metadata": {
    "vscode": {
     "languageId": "r"
    }
   },
   "outputs": [],
   "source": [
    "rf <- randomForest(Species ~ ., data=iris.tr, ntree = 100)\n"
   ]
  },
  {
   "cell_type": "code",
   "execution_count": 13,
   "metadata": {
    "vscode": {
     "languageId": "r"
    }
   },
   "outputs": [
    {
     "data": {
      "text/html": [
       "<style>\n",
       ".dl-inline {width: auto; margin:0; padding: 0}\n",
       ".dl-inline>dt, .dl-inline>dd {float: none; width: auto; display: inline-block}\n",
       ".dl-inline>dt::after {content: \":\\0020\"; padding-right: .5ex}\n",
       ".dl-inline>dt:not(:first-of-type) {padding-left: .5ex}\n",
       "</style><dl class=dl-inline><dt>1</dt><dd>setosa</dd><dt>2</dt><dd>setosa</dd><dt>3</dt><dd>setosa</dd><dt>7</dt><dd>setosa</dd><dt>11</dt><dd>setosa</dd><dt>15</dt><dd>setosa</dd><dt>28</dt><dd>setosa</dd><dt>29</dt><dd>setosa</dd><dt>31</dt><dd>setosa</dd><dt>33</dt><dd>setosa</dd><dt>34</dt><dd>setosa</dd><dt>43</dt><dd>setosa</dd><dt>44</dt><dd>setosa</dd><dt>46</dt><dd>setosa</dd><dt>50</dt><dd>setosa</dd><dt>59</dt><dd>versicolor</dd><dt>62</dt><dd>versicolor</dd><dt>63</dt><dd>versicolor</dd><dt>72</dt><dd>versicolor</dd><dt>77</dt><dd>versicolor</dd><dt>79</dt><dd>versicolor</dd><dt>80</dt><dd>versicolor</dd><dt>81</dt><dd>versicolor</dd><dt>84</dt><dd>virginica</dd><dt>85</dt><dd>versicolor</dd><dt>86</dt><dd>versicolor</dd><dt>90</dt><dd>versicolor</dd><dt>96</dt><dd>versicolor</dd><dt>97</dt><dd>versicolor</dd><dt>99</dt><dd>versicolor</dd><dt>106</dt><dd>virginica</dd><dt>107</dt><dd>versicolor</dd><dt>111</dt><dd>virginica</dd><dt>112</dt><dd>virginica</dd><dt>113</dt><dd>virginica</dd><dt>116</dt><dd>virginica</dd><dt>118</dt><dd>virginica</dd><dt>121</dt><dd>virginica</dd><dt>122</dt><dd>virginica</dd><dt>124</dt><dd>virginica</dd><dt>125</dt><dd>virginica</dd><dt>127</dt><dd>virginica</dd><dt>130</dt><dd>virginica</dd><dt>134</dt><dd>virginica</dd><dt>146</dt><dd>virginica</dd></dl>\n",
       "\n",
       "<details>\n",
       "\t<summary style=display:list-item;cursor:pointer>\n",
       "\t\t<strong>Levels</strong>:\n",
       "\t</summary>\n",
       "\t<style>\n",
       "\t.list-inline {list-style: none; margin:0; padding: 0}\n",
       "\t.list-inline>li {display: inline-block}\n",
       "\t.list-inline>li:not(:last-child)::after {content: \"\\00b7\"; padding: 0 .5ex}\n",
       "\t</style>\n",
       "\t<ol class=list-inline><li>'setosa'</li><li>'versicolor'</li><li>'virginica'</li></ol>\n",
       "</details>"
      ],
      "text/latex": [
       "\\begin{description*}\n",
       "\\item[1] setosa\n",
       "\\item[2] setosa\n",
       "\\item[3] setosa\n",
       "\\item[7] setosa\n",
       "\\item[11] setosa\n",
       "\\item[15] setosa\n",
       "\\item[28] setosa\n",
       "\\item[29] setosa\n",
       "\\item[31] setosa\n",
       "\\item[33] setosa\n",
       "\\item[34] setosa\n",
       "\\item[43] setosa\n",
       "\\item[44] setosa\n",
       "\\item[46] setosa\n",
       "\\item[50] setosa\n",
       "\\item[59] versicolor\n",
       "\\item[62] versicolor\n",
       "\\item[63] versicolor\n",
       "\\item[72] versicolor\n",
       "\\item[77] versicolor\n",
       "\\item[79] versicolor\n",
       "\\item[80] versicolor\n",
       "\\item[81] versicolor\n",
       "\\item[84] virginica\n",
       "\\item[85] versicolor\n",
       "\\item[86] versicolor\n",
       "\\item[90] versicolor\n",
       "\\item[96] versicolor\n",
       "\\item[97] versicolor\n",
       "\\item[99] versicolor\n",
       "\\item[106] virginica\n",
       "\\item[107] versicolor\n",
       "\\item[111] virginica\n",
       "\\item[112] virginica\n",
       "\\item[113] virginica\n",
       "\\item[116] virginica\n",
       "\\item[118] virginica\n",
       "\\item[121] virginica\n",
       "\\item[122] virginica\n",
       "\\item[124] virginica\n",
       "\\item[125] virginica\n",
       "\\item[127] virginica\n",
       "\\item[130] virginica\n",
       "\\item[134] virginica\n",
       "\\item[146] virginica\n",
       "\\end{description*}\n",
       "\n",
       "\\emph{Levels}: \\begin{enumerate*}\n",
       "\\item 'setosa'\n",
       "\\item 'versicolor'\n",
       "\\item 'virginica'\n",
       "\\end{enumerate*}\n"
      ],
      "text/markdown": [
       "1\n",
       ":   setosa2\n",
       ":   setosa3\n",
       ":   setosa7\n",
       ":   setosa11\n",
       ":   setosa15\n",
       ":   setosa28\n",
       ":   setosa29\n",
       ":   setosa31\n",
       ":   setosa33\n",
       ":   setosa34\n",
       ":   setosa43\n",
       ":   setosa44\n",
       ":   setosa46\n",
       ":   setosa50\n",
       ":   setosa59\n",
       ":   versicolor62\n",
       ":   versicolor63\n",
       ":   versicolor72\n",
       ":   versicolor77\n",
       ":   versicolor79\n",
       ":   versicolor80\n",
       ":   versicolor81\n",
       ":   versicolor84\n",
       ":   virginica85\n",
       ":   versicolor86\n",
       ":   versicolor90\n",
       ":   versicolor96\n",
       ":   versicolor97\n",
       ":   versicolor99\n",
       ":   versicolor106\n",
       ":   virginica107\n",
       ":   versicolor111\n",
       ":   virginica112\n",
       ":   virginica113\n",
       ":   virginica116\n",
       ":   virginica118\n",
       ":   virginica121\n",
       ":   virginica122\n",
       ":   virginica124\n",
       ":   virginica125\n",
       ":   virginica127\n",
       ":   virginica130\n",
       ":   virginica134\n",
       ":   virginica146\n",
       ":   virginica\n",
       "\n",
       "\n",
       "**Levels**: 1. 'setosa'\n",
       "2. 'versicolor'\n",
       "3. 'virginica'\n",
       "\n",
       "\n"
      ],
      "text/plain": [
       "         1          2          3          7         11         15         28 \n",
       "    setosa     setosa     setosa     setosa     setosa     setosa     setosa \n",
       "        29         31         33         34         43         44         46 \n",
       "    setosa     setosa     setosa     setosa     setosa     setosa     setosa \n",
       "        50         59         62         63         72         77         79 \n",
       "    setosa versicolor versicolor versicolor versicolor versicolor versicolor \n",
       "        80         81         84         85         86         90         96 \n",
       "versicolor versicolor  virginica versicolor versicolor versicolor versicolor \n",
       "        97         99        106        107        111        112        113 \n",
       "versicolor versicolor  virginica versicolor  virginica  virginica  virginica \n",
       "       116        118        121        122        124        125        127 \n",
       " virginica  virginica  virginica  virginica  virginica  virginica  virginica \n",
       "       130        134        146 \n",
       " virginica  virginica  virginica \n",
       "Levels: setosa versicolor virginica"
      ]
     },
     "metadata": {},
     "output_type": "display_data"
    },
    {
     "data": {
      "text/html": [
       "0.955555555555556"
      ],
      "text/latex": [
       "0.955555555555556"
      ],
      "text/markdown": [
       "0.955555555555556"
      ],
      "text/plain": [
       "[1] 0.9555556"
      ]
     },
     "metadata": {},
     "output_type": "display_data"
    },
    {
     "data": {
      "text/plain": [
       "            y\n",
       "pred         setosa versicolor virginica\n",
       "  setosa         15          0         0\n",
       "  versicolor      0         14         1\n",
       "  virginica       0          1        14"
      ]
     },
     "metadata": {},
     "output_type": "display_data"
    }
   ],
   "source": [
    "x <- subset(iris.test, select = -Species)\n",
    "# 답\n",
    "y <- itis.test$Species\n",
    "# 문제풀기  \n",
    "rf <- randomForest(Species ~ ., data=iris.tr, ntree = 100)\n",
    "# 예측\n",
    "pred <- predict(rf, x)\n",
    "pred\n",
    "\n",
    "mean(pred == y)\n",
    "table (pred,y)"
   ]
  },
  {
   "cell_type": "code",
   "execution_count": 14,
   "metadata": {
    "vscode": {
     "languageId": "r"
    }
   },
   "outputs": [],
   "source": [
    "saveRDS(rf, \"./Data/savedModel.rds\")"
   ]
  },
  {
   "cell_type": "code",
   "execution_count": null,
   "metadata": {
    "vscode": {
     "languageId": "r"
    }
   },
   "outputs": [],
   "source": []
  }
 ],
 "metadata": {
  "kernelspec": {
   "display_name": "R",
   "language": "R",
   "name": "r"
  },
  "language_info": {
   "codemirror_mode": "r",
   "file_extension": ".r",
   "mimetype": "text/x-r-source",
   "name": "R",
   "pygments_lexer": "r",
   "version": "4.3.3"
  }
 },
 "nbformat": 4,
 "nbformat_minor": 2
}
