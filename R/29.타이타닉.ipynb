{
 "cells": [
  {
   "cell_type": "code",
   "execution_count": 1,
   "metadata": {
    "vscode": {
     "languageId": "r"
    }
   },
   "outputs": [
    {
     "data": {
      "text/html": [
       "'ko_KR.UTF-8/ko_KR.UTF-8/ko_KR.UTF-8/C/ko_KR.UTF-8/C'"
      ],
      "text/latex": [
       "'ko\\_KR.UTF-8/ko\\_KR.UTF-8/ko\\_KR.UTF-8/C/ko\\_KR.UTF-8/C'"
      ],
      "text/markdown": [
       "'ko_KR.UTF-8/ko_KR.UTF-8/ko_KR.UTF-8/C/ko_KR.UTF-8/C'"
      ],
      "text/plain": [
       "[1] \"ko_KR.UTF-8/ko_KR.UTF-8/ko_KR.UTF-8/C/ko_KR.UTF-8/C\""
      ]
     },
     "metadata": {},
     "output_type": "display_data"
    }
   ],
   "source": [
    "options(warn = -1)\n",
    "options(repr.plot.width=15, repr.plot.height=9) \n",
    "Sys.setlocale(category = \"LC_ALL\", locale = \"ko_KR.UTF-8\")"
   ]
  },
  {
   "cell_type": "code",
   "execution_count": 2,
   "metadata": {
    "vscode": {
     "languageId": "r"
    }
   },
   "outputs": [
    {
     "data": {
      "text/html": [
       "<table class=\"dataframe\">\n",
       "<caption>A data.frame: 6 x 12</caption>\n",
       "<thead>\n",
       "\t<tr><th></th><th scope=col>X...PassengerId</th><th scope=col>Survived</th><th scope=col>Pclass</th><th scope=col>Name</th><th scope=col>Sex</th><th scope=col>Age</th><th scope=col>SibSp</th><th scope=col>Parch</th><th scope=col>Ticket</th><th scope=col>Fare</th><th scope=col>Cabin</th><th scope=col>Embarked</th></tr>\n",
       "\t<tr><th></th><th scope=col>&lt;int&gt;</th><th scope=col>&lt;int&gt;</th><th scope=col>&lt;int&gt;</th><th scope=col>&lt;chr&gt;</th><th scope=col>&lt;chr&gt;</th><th scope=col>&lt;dbl&gt;</th><th scope=col>&lt;int&gt;</th><th scope=col>&lt;int&gt;</th><th scope=col>&lt;chr&gt;</th><th scope=col>&lt;dbl&gt;</th><th scope=col>&lt;chr&gt;</th><th scope=col>&lt;chr&gt;</th></tr>\n",
       "</thead>\n",
       "<tbody>\n",
       "\t<tr><th scope=row>1</th><td>1</td><td>0</td><td>3</td><td>Braund, Mr. Owen Harris                            </td><td>male  </td><td>22</td><td>1</td><td>0</td><td>A/5 21171       </td><td> 7.2500</td><td>    </td><td>S</td></tr>\n",
       "\t<tr><th scope=row>2</th><td>2</td><td>1</td><td>1</td><td>Cumings, Mrs. John Bradley (Florence Briggs Thayer)</td><td>female</td><td>38</td><td>1</td><td>0</td><td>PC 17599        </td><td>71.2833</td><td>C85 </td><td>C</td></tr>\n",
       "\t<tr><th scope=row>3</th><td>3</td><td>1</td><td>3</td><td>Heikkinen, Miss. Laina                             </td><td>female</td><td>26</td><td>0</td><td>0</td><td>STON/O2. 3101282</td><td> 7.9250</td><td>    </td><td>S</td></tr>\n",
       "\t<tr><th scope=row>4</th><td>4</td><td>1</td><td>1</td><td>Futrelle, Mrs. Jacques Heath (Lily May Peel)       </td><td>female</td><td>35</td><td>1</td><td>0</td><td>113803          </td><td>53.1000</td><td>C123</td><td>S</td></tr>\n",
       "\t<tr><th scope=row>5</th><td>5</td><td>0</td><td>3</td><td>Allen, Mr. William Henry                           </td><td>male  </td><td>35</td><td>0</td><td>0</td><td>373450          </td><td> 8.0500</td><td>    </td><td>S</td></tr>\n",
       "\t<tr><th scope=row>6</th><td>6</td><td>0</td><td>3</td><td>Moran, Mr. James                                   </td><td>male  </td><td>NA</td><td>0</td><td>0</td><td>330877          </td><td> 8.4583</td><td>    </td><td>Q</td></tr>\n",
       "</tbody>\n",
       "</table>\n"
      ],
      "text/latex": [
       "A data.frame: 6 x 12\n",
       "\\begin{tabular}{r|llllllllllll}\n",
       "  & X...PassengerId & Survived & Pclass & Name & Sex & Age & SibSp & Parch & Ticket & Fare & Cabin & Embarked\\\\\n",
       "  & <int> & <int> & <int> & <chr> & <chr> & <dbl> & <int> & <int> & <chr> & <dbl> & <chr> & <chr>\\\\\n",
       "\\hline\n",
       "\t1 & 1 & 0 & 3 & Braund, Mr. Owen Harris                             & male   & 22 & 1 & 0 & A/5 21171        &  7.2500 &      & S\\\\\n",
       "\t2 & 2 & 1 & 1 & Cumings, Mrs. John Bradley (Florence Briggs Thayer) & female & 38 & 1 & 0 & PC 17599         & 71.2833 & C85  & C\\\\\n",
       "\t3 & 3 & 1 & 3 & Heikkinen, Miss. Laina                              & female & 26 & 0 & 0 & STON/O2. 3101282 &  7.9250 &      & S\\\\\n",
       "\t4 & 4 & 1 & 1 & Futrelle, Mrs. Jacques Heath (Lily May Peel)        & female & 35 & 1 & 0 & 113803           & 53.1000 & C123 & S\\\\\n",
       "\t5 & 5 & 0 & 3 & Allen, Mr. William Henry                            & male   & 35 & 0 & 0 & 373450           &  8.0500 &      & S\\\\\n",
       "\t6 & 6 & 0 & 3 & Moran, Mr. James                                    & male   & NA & 0 & 0 & 330877           &  8.4583 &      & Q\\\\\n",
       "\\end{tabular}\n"
      ],
      "text/markdown": [
       "\n",
       "A data.frame: 6 x 12\n",
       "\n",
       "| <!--/--> | X...PassengerId &lt;int&gt; | Survived &lt;int&gt; | Pclass &lt;int&gt; | Name &lt;chr&gt; | Sex &lt;chr&gt; | Age &lt;dbl&gt; | SibSp &lt;int&gt; | Parch &lt;int&gt; | Ticket &lt;chr&gt; | Fare &lt;dbl&gt; | Cabin &lt;chr&gt; | Embarked &lt;chr&gt; |\n",
       "|---|---|---|---|---|---|---|---|---|---|---|---|---|\n",
       "| 1 | 1 | 0 | 3 | Braund, Mr. Owen Harris                             | male   | 22 | 1 | 0 | A/5 21171        |  7.2500 | <!----> | S |\n",
       "| 2 | 2 | 1 | 1 | Cumings, Mrs. John Bradley (Florence Briggs Thayer) | female | 38 | 1 | 0 | PC 17599         | 71.2833 | C85  | C |\n",
       "| 3 | 3 | 1 | 3 | Heikkinen, Miss. Laina                              | female | 26 | 0 | 0 | STON/O2. 3101282 |  7.9250 | <!----> | S |\n",
       "| 4 | 4 | 1 | 1 | Futrelle, Mrs. Jacques Heath (Lily May Peel)        | female | 35 | 1 | 0 | 113803           | 53.1000 | C123 | S |\n",
       "| 5 | 5 | 0 | 3 | Allen, Mr. William Henry                            | male   | 35 | 0 | 0 | 373450           |  8.0500 | <!----> | S |\n",
       "| 6 | 6 | 0 | 3 | Moran, Mr. James                                    | male   | NA | 0 | 0 | 330877           |  8.4583 | <!----> | Q |\n",
       "\n"
      ],
      "text/plain": [
       "  X...PassengerId Survived Pclass\n",
       "1 1               0        3     \n",
       "2 2               1        1     \n",
       "3 3               1        3     \n",
       "4 4               1        1     \n",
       "5 5               0        3     \n",
       "6 6               0        3     \n",
       "  Name                                                Sex    Age SibSp Parch\n",
       "1 Braund, Mr. Owen Harris                             male   22  1     0    \n",
       "2 Cumings, Mrs. John Bradley (Florence Briggs Thayer) female 38  1     0    \n",
       "3 Heikkinen, Miss. Laina                              female 26  0     0    \n",
       "4 Futrelle, Mrs. Jacques Heath (Lily May Peel)        female 35  1     0    \n",
       "5 Allen, Mr. William Henry                            male   35  0     0    \n",
       "6 Moran, Mr. James                                    male   NA  0     0    \n",
       "  Ticket           Fare    Cabin Embarked\n",
       "1 A/5 21171         7.2500       S       \n",
       "2 PC 17599         71.2833 C85   C       \n",
       "3 STON/O2. 3101282  7.9250       S       \n",
       "4 113803           53.1000 C123  S       \n",
       "5 373450            8.0500       S       \n",
       "6 330877            8.4583       Q       "
      ]
     },
     "metadata": {},
     "output_type": "display_data"
    },
    {
     "data": {
      "text/html": [
       "<table class=\"dataframe\">\n",
       "<caption>A data.frame: 6 x 12</caption>\n",
       "<thead>\n",
       "\t<tr><th></th><th scope=col>X...PassengerId</th><th scope=col>Survived</th><th scope=col>Pclass</th><th scope=col>Name</th><th scope=col>Sex</th><th scope=col>Age</th><th scope=col>SibSp</th><th scope=col>Parch</th><th scope=col>Ticket</th><th scope=col>Fare</th><th scope=col>Cabin</th><th scope=col>Embarked</th></tr>\n",
       "\t<tr><th></th><th scope=col>&lt;int&gt;</th><th scope=col>&lt;int&gt;</th><th scope=col>&lt;int&gt;</th><th scope=col>&lt;chr&gt;</th><th scope=col>&lt;chr&gt;</th><th scope=col>&lt;dbl&gt;</th><th scope=col>&lt;int&gt;</th><th scope=col>&lt;int&gt;</th><th scope=col>&lt;chr&gt;</th><th scope=col>&lt;dbl&gt;</th><th scope=col>&lt;chr&gt;</th><th scope=col>&lt;chr&gt;</th></tr>\n",
       "</thead>\n",
       "<tbody>\n",
       "\t<tr><th scope=row>886</th><td>886</td><td>0</td><td>3</td><td>Rice, Mrs. William (Margaret Norton)    </td><td>female</td><td>39</td><td>0</td><td>5</td><td>382652    </td><td>29.125</td><td>    </td><td>Q</td></tr>\n",
       "\t<tr><th scope=row>887</th><td>887</td><td>0</td><td>2</td><td>Montvila, Rev. Juozas                   </td><td>male  </td><td>27</td><td>0</td><td>0</td><td>211536    </td><td>13.000</td><td>    </td><td>S</td></tr>\n",
       "\t<tr><th scope=row>888</th><td>888</td><td>1</td><td>1</td><td>Graham, Miss. Margaret Edith            </td><td>female</td><td>19</td><td>0</td><td>0</td><td>112053    </td><td>30.000</td><td>B42 </td><td>S</td></tr>\n",
       "\t<tr><th scope=row>889</th><td>889</td><td>0</td><td>3</td><td>Johnston, Miss. Catherine Helen \"Carrie\"</td><td>female</td><td>NA</td><td>1</td><td>2</td><td>W./C. 6607</td><td>23.450</td><td>    </td><td>S</td></tr>\n",
       "\t<tr><th scope=row>890</th><td>890</td><td>1</td><td>1</td><td>Behr, Mr. Karl Howell                   </td><td>male  </td><td>26</td><td>0</td><td>0</td><td>111369    </td><td>30.000</td><td>C148</td><td>C</td></tr>\n",
       "\t<tr><th scope=row>891</th><td>891</td><td>0</td><td>3</td><td>Dooley, Mr. Patrick                     </td><td>male  </td><td>32</td><td>0</td><td>0</td><td>370376    </td><td> 7.750</td><td>    </td><td>Q</td></tr>\n",
       "</tbody>\n",
       "</table>\n"
      ],
      "text/latex": [
       "A data.frame: 6 x 12\n",
       "\\begin{tabular}{r|llllllllllll}\n",
       "  & X...PassengerId & Survived & Pclass & Name & Sex & Age & SibSp & Parch & Ticket & Fare & Cabin & Embarked\\\\\n",
       "  & <int> & <int> & <int> & <chr> & <chr> & <dbl> & <int> & <int> & <chr> & <dbl> & <chr> & <chr>\\\\\n",
       "\\hline\n",
       "\t886 & 886 & 0 & 3 & Rice, Mrs. William (Margaret Norton)     & female & 39 & 0 & 5 & 382652     & 29.125 &      & Q\\\\\n",
       "\t887 & 887 & 0 & 2 & Montvila, Rev. Juozas                    & male   & 27 & 0 & 0 & 211536     & 13.000 &      & S\\\\\n",
       "\t888 & 888 & 1 & 1 & Graham, Miss. Margaret Edith             & female & 19 & 0 & 0 & 112053     & 30.000 & B42  & S\\\\\n",
       "\t889 & 889 & 0 & 3 & Johnston, Miss. Catherine Helen \"Carrie\" & female & NA & 1 & 2 & W./C. 6607 & 23.450 &      & S\\\\\n",
       "\t890 & 890 & 1 & 1 & Behr, Mr. Karl Howell                    & male   & 26 & 0 & 0 & 111369     & 30.000 & C148 & C\\\\\n",
       "\t891 & 891 & 0 & 3 & Dooley, Mr. Patrick                      & male   & 32 & 0 & 0 & 370376     &  7.750 &      & Q\\\\\n",
       "\\end{tabular}\n"
      ],
      "text/markdown": [
       "\n",
       "A data.frame: 6 x 12\n",
       "\n",
       "| <!--/--> | X...PassengerId &lt;int&gt; | Survived &lt;int&gt; | Pclass &lt;int&gt; | Name &lt;chr&gt; | Sex &lt;chr&gt; | Age &lt;dbl&gt; | SibSp &lt;int&gt; | Parch &lt;int&gt; | Ticket &lt;chr&gt; | Fare &lt;dbl&gt; | Cabin &lt;chr&gt; | Embarked &lt;chr&gt; |\n",
       "|---|---|---|---|---|---|---|---|---|---|---|---|---|\n",
       "| 886 | 886 | 0 | 3 | Rice, Mrs. William (Margaret Norton)     | female | 39 | 0 | 5 | 382652     | 29.125 | <!----> | Q |\n",
       "| 887 | 887 | 0 | 2 | Montvila, Rev. Juozas                    | male   | 27 | 0 | 0 | 211536     | 13.000 | <!----> | S |\n",
       "| 888 | 888 | 1 | 1 | Graham, Miss. Margaret Edith             | female | 19 | 0 | 0 | 112053     | 30.000 | B42  | S |\n",
       "| 889 | 889 | 0 | 3 | Johnston, Miss. Catherine Helen \"Carrie\" | female | NA | 1 | 2 | W./C. 6607 | 23.450 | <!----> | S |\n",
       "| 890 | 890 | 1 | 1 | Behr, Mr. Karl Howell                    | male   | 26 | 0 | 0 | 111369     | 30.000 | C148 | C |\n",
       "| 891 | 891 | 0 | 3 | Dooley, Mr. Patrick                      | male   | 32 | 0 | 0 | 370376     |  7.750 | <!----> | Q |\n",
       "\n"
      ],
      "text/plain": [
       "    X...PassengerId Survived Pclass Name                                    \n",
       "886 886             0        3      Rice, Mrs. William (Margaret Norton)    \n",
       "887 887             0        2      Montvila, Rev. Juozas                   \n",
       "888 888             1        1      Graham, Miss. Margaret Edith            \n",
       "889 889             0        3      Johnston, Miss. Catherine Helen \"Carrie\"\n",
       "890 890             1        1      Behr, Mr. Karl Howell                   \n",
       "891 891             0        3      Dooley, Mr. Patrick                     \n",
       "    Sex    Age SibSp Parch Ticket     Fare   Cabin Embarked\n",
       "886 female 39  0     5     382652     29.125       Q       \n",
       "887 male   27  0     0     211536     13.000       S       \n",
       "888 female 19  0     0     112053     30.000 B42   S       \n",
       "889 female NA  1     2     W./C. 6607 23.450       S       \n",
       "890 male   26  0     0     111369     30.000 C148  C       \n",
       "891 male   32  0     0     370376      7.750       Q       "
      ]
     },
     "metadata": {},
     "output_type": "display_data"
    },
    {
     "name": "stderr",
     "output_type": "stream",
     "text": [
      "Loading required package: ggplot2\n",
      "\n",
      "Loading required package: lattice\n",
      "\n"
     ]
    }
   ],
   "source": [
    "train_tf <- read.csv((\"./Data/Titanic_train.csv\"))\n",
    "head(train_tf)\n",
    "tail(train_tf)\n",
    "library(caret)\n",
    "library(e1071)\n",
    "library(nnet)"
   ]
  },
  {
   "cell_type": "code",
   "execution_count": 3,
   "metadata": {
    "vscode": {
     "languageId": "r"
    }
   },
   "outputs": [
    {
     "name": "stdout",
     "output_type": "stream",
     "text": [
      "'data.frame':\t891 obs. of  12 variables:\n",
      " $ PassengerId: int  1 2 3 4 5 6 7 8 9 10 ...\n",
      " $ Survived   : int  0 1 1 1 0 0 0 0 1 1 ...\n",
      " $ Pclass     : int  3 1 3 1 3 3 1 3 3 2 ...\n",
      " $ Name       : chr  \"Braund, Mr. Owen Harris\" \"Cumings, Mrs. John Bradley (Florence Briggs Thayer)\" \"Heikkinen, Miss. Laina\" \"Futrelle, Mrs. Jacques Heath (Lily May Peel)\" ...\n",
      " $ Sex        : chr  \"male\" \"female\" \"female\" \"female\" ...\n",
      " $ Age        : num  22 38 26 35 35 NA 54 2 27 14 ...\n",
      " $ SibSp      : int  1 1 0 1 0 0 0 3 0 1 ...\n",
      " $ Parch      : int  0 0 0 0 0 0 0 1 2 0 ...\n",
      " $ Ticket     : chr  \"A/5 21171\" \"PC 17599\" \"STON/O2. 3101282\" \"113803\" ...\n",
      " $ Fare       : num  7.25 71.28 7.92 53.1 8.05 ...\n",
      " $ Cabin      : chr  \"\" \"C85\" \"\" \"C123\" ...\n",
      " $ Embarked   : chr  \"S\" \"C\" \"S\" \"S\" ...\n"
     ]
    }
   ],
   "source": [
    "str(train_tf)"
   ]
  },
  {
   "cell_type": "markdown",
   "metadata": {},
   "source": [
    "### 컬럼 내용 확인\n",
    "- survived : 생존여부, 0=no, 1=yes\n",
    "- Pclass : 티켓등급, 1=1st, 2=2nd, 3=3rd\n",
    "- Sibsp : 함꼐 합승한 형제,자매,배우자의 수 \n",
    "- Parch : 함께 탑승한 부모, 자식의 수\n",
    "- Fare : 운임 \n",
    "- Cabin : 객실 번호\n",
    "- Embarked : 탑승항구, S= Southhampton, C = Chersbourg, Q=Queenstown"
   ]
  },
  {
   "cell_type": "markdown",
   "metadata": {},
   "source": [
    "##  EDA \n",
    "탐색적 데이터 분석\n",
    "- 무었이 타겟과 관련이 있는 컬럼일까\n"
   ]
  },
  {
   "cell_type": "markdown",
   "metadata": {},
   "source": [
    "선택한 타겟이 타겟으로 작동한지 생각하자 \n",
    "제일 좋은건 5:5 \n",
    "Feature 가 5:5 면 사용할수없다 최소 6:4 \n"
   ]
  },
  {
   "cell_type": "code",
   "execution_count": 4,
   "metadata": {
    "vscode": {
     "languageId": "r"
    }
   },
   "outputs": [
    {
     "data": {
      "text/html": [
       "<style>\n",
       ".dl-inline {width: auto; margin:0; padding: 0}\n",
       ".dl-inline>dt, .dl-inline>dd {float: none; width: auto; display: inline-block}\n",
       ".dl-inline>dt::after {content: \":\\0020\"; padding-right: .5ex}\n",
       ".dl-inline>dt:not(:first-of-type) {padding-left: .5ex}\n",
       "</style><dl class=dl-inline><dt>PassengerId</dt><dd>0</dd><dt>Survived</dt><dd>0</dd><dt>Pclass</dt><dd>0</dd><dt>Name</dt><dd>0</dd><dt>Sex</dt><dd>0</dd><dt>Age</dt><dd>177</dd><dt>SibSp</dt><dd>0</dd><dt>Parch</dt><dd>0</dd><dt>Ticket</dt><dd>0</dd><dt>Fare</dt><dd>0</dd><dt>Cabin</dt><dd>0</dd><dt>Embarked</dt><dd>0</dd></dl>\n"
      ],
      "text/latex": [
       "\\begin{description*}\n",
       "\\item[PassengerId] 0\n",
       "\\item[Survived] 0\n",
       "\\item[Pclass] 0\n",
       "\\item[Name] 0\n",
       "\\item[Sex] 0\n",
       "\\item[Age] 177\n",
       "\\item[SibSp] 0\n",
       "\\item[Parch] 0\n",
       "\\item[Ticket] 0\n",
       "\\item[Fare] 0\n",
       "\\item[Cabin] 0\n",
       "\\item[Embarked] 0\n",
       "\\end{description*}\n"
      ],
      "text/markdown": [
       "PassengerId\n",
       ":   0Survived\n",
       ":   0Pclass\n",
       ":   0Name\n",
       ":   0Sex\n",
       ":   0Age\n",
       ":   177SibSp\n",
       ":   0Parch\n",
       ":   0Ticket\n",
       ":   0Fare\n",
       ":   0Cabin\n",
       ":   0Embarked\n",
       ":   0\n",
       "\n"
      ],
      "text/plain": [
       "PassengerId    Survived      Pclass        Name         Sex         Age \n",
       "          0           0           0           0           0         177 \n",
       "      SibSp       Parch      Ticket        Fare       Cabin    Embarked \n",
       "          0           0           0           0           0           0 "
      ]
     },
     "metadata": {},
     "output_type": "display_data"
    }
   ],
   "source": [
    "# 결측치 \n",
    "# 결측치가 전체 데이터의 20% 를 넘으면 못씀\n",
    "colSums(is.na(train_tf))\n",
    "# 나이가 177개 NA "
   ]
  },
  {
   "cell_type": "code",
   "execution_count": 3,
   "metadata": {
    "vscode": {
     "languageId": "r"
    }
   },
   "outputs": [
    {
     "data": {
      "text/html": [
       "0.198653198653199"
      ],
      "text/latex": [
       "0.198653198653199"
      ],
      "text/markdown": [
       "0.198653198653199"
      ],
      "text/plain": [
       "[1] 0.1986532"
      ]
     },
     "metadata": {},
     "output_type": "display_data"
    },
    {
     "data": {
      "text/html": [
       "891"
      ],
      "text/latex": [
       "891"
      ],
      "text/markdown": [
       "891"
      ],
      "text/plain": [
       "[1] 891"
      ]
     },
     "metadata": {},
     "output_type": "display_data"
    }
   ],
   "source": [
    "177/891\n",
    "nrow(train_tf)"
   ]
  },
  {
   "cell_type": "code",
   "execution_count": 6,
   "metadata": {
    "vscode": {
     "languageId": "r"
    }
   },
   "outputs": [
    {
     "data": {
      "text/html": [
       "<table class=\"dataframe\">\n",
       "<caption>A data.frame: 714 x 12</caption>\n",
       "<thead>\n",
       "\t<tr><th></th><th scope=col>PassengerId</th><th scope=col>Survived</th><th scope=col>Pclass</th><th scope=col>Name</th><th scope=col>Sex</th><th scope=col>Age</th><th scope=col>SibSp</th><th scope=col>Parch</th><th scope=col>Ticket</th><th scope=col>Fare</th><th scope=col>Cabin</th><th scope=col>Embarked</th></tr>\n",
       "\t<tr><th></th><th scope=col>&lt;int&gt;</th><th scope=col>&lt;int&gt;</th><th scope=col>&lt;int&gt;</th><th scope=col>&lt;chr&gt;</th><th scope=col>&lt;chr&gt;</th><th scope=col>&lt;dbl&gt;</th><th scope=col>&lt;int&gt;</th><th scope=col>&lt;int&gt;</th><th scope=col>&lt;chr&gt;</th><th scope=col>&lt;dbl&gt;</th><th scope=col>&lt;chr&gt;</th><th scope=col>&lt;chr&gt;</th></tr>\n",
       "</thead>\n",
       "<tbody>\n",
       "\t<tr><th scope=row>1</th><td> 1</td><td>0</td><td>3</td><td>Braund, Mr. Owen Harris                                  </td><td>male  </td><td>22</td><td>1</td><td>0</td><td>A/5 21171       </td><td>  7.2500</td><td>           </td><td>S</td></tr>\n",
       "\t<tr><th scope=row>2</th><td> 2</td><td>1</td><td>1</td><td>Cumings, Mrs. John Bradley (Florence Briggs Thayer)      </td><td>female</td><td>38</td><td>1</td><td>0</td><td>PC 17599        </td><td> 71.2833</td><td>C85        </td><td>C</td></tr>\n",
       "\t<tr><th scope=row>3</th><td> 3</td><td>1</td><td>3</td><td>Heikkinen, Miss. Laina                                   </td><td>female</td><td>26</td><td>0</td><td>0</td><td>STON/O2. 3101282</td><td>  7.9250</td><td>           </td><td>S</td></tr>\n",
       "\t<tr><th scope=row>4</th><td> 4</td><td>1</td><td>1</td><td>Futrelle, Mrs. Jacques Heath (Lily May Peel)             </td><td>female</td><td>35</td><td>1</td><td>0</td><td>113803          </td><td> 53.1000</td><td>C123       </td><td>S</td></tr>\n",
       "\t<tr><th scope=row>5</th><td> 5</td><td>0</td><td>3</td><td>Allen, Mr. William Henry                                 </td><td>male  </td><td>35</td><td>0</td><td>0</td><td>373450          </td><td>  8.0500</td><td>           </td><td>S</td></tr>\n",
       "\t<tr><th scope=row>7</th><td> 7</td><td>0</td><td>1</td><td>McCarthy, Mr. Timothy J                                  </td><td>male  </td><td>54</td><td>0</td><td>0</td><td>17463           </td><td> 51.8625</td><td>E46        </td><td>S</td></tr>\n",
       "\t<tr><th scope=row>8</th><td> 8</td><td>0</td><td>3</td><td>Palsson, Master. Gosta Leonard                           </td><td>male  </td><td> 2</td><td>3</td><td>1</td><td>349909          </td><td> 21.0750</td><td>           </td><td>S</td></tr>\n",
       "\t<tr><th scope=row>9</th><td> 9</td><td>1</td><td>3</td><td>Johnson, Mrs. Oscar W (Elisabeth Vilhelmina Berg)        </td><td>female</td><td>27</td><td>0</td><td>2</td><td>347742          </td><td> 11.1333</td><td>           </td><td>S</td></tr>\n",
       "\t<tr><th scope=row>10</th><td>10</td><td>1</td><td>2</td><td>Nasser, Mrs. Nicholas (Adele Achem)                      </td><td>female</td><td>14</td><td>1</td><td>0</td><td>237736          </td><td> 30.0708</td><td>           </td><td>C</td></tr>\n",
       "\t<tr><th scope=row>11</th><td>11</td><td>1</td><td>3</td><td>Sandstrom, Miss. Marguerite Rut                          </td><td>female</td><td> 4</td><td>1</td><td>1</td><td>PP 9549         </td><td> 16.7000</td><td>G6         </td><td>S</td></tr>\n",
       "\t<tr><th scope=row>12</th><td>12</td><td>1</td><td>1</td><td>Bonnell, Miss. Elizabeth                                 </td><td>female</td><td>58</td><td>0</td><td>0</td><td>113783          </td><td> 26.5500</td><td>C103       </td><td>S</td></tr>\n",
       "\t<tr><th scope=row>13</th><td>13</td><td>0</td><td>3</td><td>Saundercock, Mr. William Henry                           </td><td>male  </td><td>20</td><td>0</td><td>0</td><td>A/5. 2151       </td><td>  8.0500</td><td>           </td><td>S</td></tr>\n",
       "\t<tr><th scope=row>14</th><td>14</td><td>0</td><td>3</td><td>Andersson, Mr. Anders Johan                              </td><td>male  </td><td>39</td><td>1</td><td>5</td><td>347082          </td><td> 31.2750</td><td>           </td><td>S</td></tr>\n",
       "\t<tr><th scope=row>15</th><td>15</td><td>0</td><td>3</td><td>Vestrom, Miss. Hulda Amanda Adolfina                     </td><td>female</td><td>14</td><td>0</td><td>0</td><td>350406          </td><td>  7.8542</td><td>           </td><td>S</td></tr>\n",
       "\t<tr><th scope=row>16</th><td>16</td><td>1</td><td>2</td><td>Hewlett, Mrs. (Mary D Kingcome)                          </td><td>female</td><td>55</td><td>0</td><td>0</td><td>248706          </td><td> 16.0000</td><td>           </td><td>S</td></tr>\n",
       "\t<tr><th scope=row>17</th><td>17</td><td>0</td><td>3</td><td>Rice, Master. Eugene                                     </td><td>male  </td><td> 2</td><td>4</td><td>1</td><td>382652          </td><td> 29.1250</td><td>           </td><td>Q</td></tr>\n",
       "\t<tr><th scope=row>19</th><td>19</td><td>0</td><td>3</td><td>Vander Planke, Mrs. Julius (Emelia Maria Vandemoortele)  </td><td>female</td><td>31</td><td>1</td><td>0</td><td>345763          </td><td> 18.0000</td><td>           </td><td>S</td></tr>\n",
       "\t<tr><th scope=row>21</th><td>21</td><td>0</td><td>2</td><td>Fynney, Mr. Joseph J                                     </td><td>male  </td><td>35</td><td>0</td><td>0</td><td>239865          </td><td> 26.0000</td><td>           </td><td>S</td></tr>\n",
       "\t<tr><th scope=row>22</th><td>22</td><td>1</td><td>2</td><td>Beesley, Mr. Lawrence                                    </td><td>male  </td><td>34</td><td>0</td><td>0</td><td>248698          </td><td> 13.0000</td><td>D56        </td><td>S</td></tr>\n",
       "\t<tr><th scope=row>23</th><td>23</td><td>1</td><td>3</td><td>McGowan, Miss. Anna \"Annie\"                              </td><td>female</td><td>15</td><td>0</td><td>0</td><td>330923          </td><td>  8.0292</td><td>           </td><td>Q</td></tr>\n",
       "\t<tr><th scope=row>24</th><td>24</td><td>1</td><td>1</td><td>Sloper, Mr. William Thompson                             </td><td>male  </td><td>28</td><td>0</td><td>0</td><td>113788          </td><td> 35.5000</td><td>A6         </td><td>S</td></tr>\n",
       "\t<tr><th scope=row>25</th><td>25</td><td>0</td><td>3</td><td>Palsson, Miss. Torborg Danira                            </td><td>female</td><td> 8</td><td>3</td><td>1</td><td>349909          </td><td> 21.0750</td><td>           </td><td>S</td></tr>\n",
       "\t<tr><th scope=row>26</th><td>26</td><td>1</td><td>3</td><td>Asplund, Mrs. Carl Oscar (Selma Augusta Emilia Johansson)</td><td>female</td><td>38</td><td>1</td><td>5</td><td>347077          </td><td> 31.3875</td><td>           </td><td>S</td></tr>\n",
       "\t<tr><th scope=row>28</th><td>28</td><td>0</td><td>1</td><td>Fortune, Mr. Charles Alexander                           </td><td>male  </td><td>19</td><td>3</td><td>2</td><td>19950           </td><td>263.0000</td><td>C23 C25 C27</td><td>S</td></tr>\n",
       "\t<tr><th scope=row>31</th><td>31</td><td>0</td><td>1</td><td>Uruchurtu, Don. Manuel E                                 </td><td>male  </td><td>40</td><td>0</td><td>0</td><td>PC 17601        </td><td> 27.7208</td><td>           </td><td>C</td></tr>\n",
       "\t<tr><th scope=row>34</th><td>34</td><td>0</td><td>2</td><td>Wheadon, Mr. Edward H                                    </td><td>male  </td><td>66</td><td>0</td><td>0</td><td>C.A. 24579      </td><td> 10.5000</td><td>           </td><td>S</td></tr>\n",
       "\t<tr><th scope=row>35</th><td>35</td><td>0</td><td>1</td><td>Meyer, Mr. Edgar Joseph                                  </td><td>male  </td><td>28</td><td>1</td><td>0</td><td>PC 17604        </td><td> 82.1708</td><td>           </td><td>C</td></tr>\n",
       "\t<tr><th scope=row>36</th><td>36</td><td>0</td><td>1</td><td>Holverson, Mr. Alexander Oskar                           </td><td>male  </td><td>42</td><td>1</td><td>0</td><td>113789          </td><td> 52.0000</td><td>           </td><td>S</td></tr>\n",
       "\t<tr><th scope=row>38</th><td>38</td><td>0</td><td>3</td><td>Cann, Mr. Ernest Charles                                 </td><td>male  </td><td>21</td><td>0</td><td>0</td><td>A./5. 2152      </td><td>  8.0500</td><td>           </td><td>S</td></tr>\n",
       "\t<tr><th scope=row>39</th><td>39</td><td>0</td><td>3</td><td>Vander Planke, Miss. Augusta Maria                       </td><td>female</td><td>18</td><td>2</td><td>0</td><td>345764          </td><td> 18.0000</td><td>           </td><td>S</td></tr>\n",
       "\t<tr><th scope=row>...</th><td>...</td><td>...</td><td>...</td><td>...</td><td>...</td><td>...</td><td>...</td><td>...</td><td>...</td><td>...</td><td>...</td><td>...</td></tr>\n",
       "\t<tr><th scope=row>857</th><td>857</td><td>1</td><td>1</td><td>Wick, Mrs. George Dennick (Mary Hitchcock)         </td><td>female</td><td>45</td><td>1</td><td>1</td><td>36928           </td><td>164.8667</td><td>           </td><td>S</td></tr>\n",
       "\t<tr><th scope=row>858</th><td>858</td><td>1</td><td>1</td><td>Daly, Mr. Peter Denis                              </td><td>male  </td><td>51</td><td>0</td><td>0</td><td>113055          </td><td> 26.5500</td><td>E17        </td><td>S</td></tr>\n",
       "\t<tr><th scope=row>859</th><td>859</td><td>1</td><td>3</td><td>Baclini, Mrs. Solomon (Latifa Qurban)              </td><td>female</td><td>24</td><td>0</td><td>3</td><td>2666            </td><td> 19.2583</td><td>           </td><td>C</td></tr>\n",
       "\t<tr><th scope=row>861</th><td>861</td><td>0</td><td>3</td><td>Hansen, Mr. Claus Peter                            </td><td>male  </td><td>41</td><td>2</td><td>0</td><td>350026          </td><td> 14.1083</td><td>           </td><td>S</td></tr>\n",
       "\t<tr><th scope=row>862</th><td>862</td><td>0</td><td>2</td><td>Giles, Mr. Frederick Edward                        </td><td>male  </td><td>21</td><td>1</td><td>0</td><td>28134           </td><td> 11.5000</td><td>           </td><td>S</td></tr>\n",
       "\t<tr><th scope=row>863</th><td>863</td><td>1</td><td>1</td><td>Swift, Mrs. Frederick Joel (Margaret Welles Barron)</td><td>female</td><td>48</td><td>0</td><td>0</td><td>17466           </td><td> 25.9292</td><td>D17        </td><td>S</td></tr>\n",
       "\t<tr><th scope=row>865</th><td>865</td><td>0</td><td>2</td><td>Gill, Mr. John William                             </td><td>male  </td><td>24</td><td>0</td><td>0</td><td>233866          </td><td> 13.0000</td><td>           </td><td>S</td></tr>\n",
       "\t<tr><th scope=row>866</th><td>866</td><td>1</td><td>2</td><td>Bystrom, Mrs. (Karolina)                           </td><td>female</td><td>42</td><td>0</td><td>0</td><td>236852          </td><td> 13.0000</td><td>           </td><td>S</td></tr>\n",
       "\t<tr><th scope=row>867</th><td>867</td><td>1</td><td>2</td><td>Duran y More, Miss. Asuncion                       </td><td>female</td><td>27</td><td>1</td><td>0</td><td>SC/PARIS 2149   </td><td> 13.8583</td><td>           </td><td>C</td></tr>\n",
       "\t<tr><th scope=row>868</th><td>868</td><td>0</td><td>1</td><td>Roebling, Mr. Washington Augustus II               </td><td>male  </td><td>31</td><td>0</td><td>0</td><td>PC 17590        </td><td> 50.4958</td><td>A24        </td><td>S</td></tr>\n",
       "\t<tr><th scope=row>870</th><td>870</td><td>1</td><td>3</td><td>Johnson, Master. Harold Theodor                    </td><td>male  </td><td> 4</td><td>1</td><td>1</td><td>347742          </td><td> 11.1333</td><td>           </td><td>S</td></tr>\n",
       "\t<tr><th scope=row>871</th><td>871</td><td>0</td><td>3</td><td>Balkic, Mr. Cerin                                  </td><td>male  </td><td>26</td><td>0</td><td>0</td><td>349248          </td><td>  7.8958</td><td>           </td><td>S</td></tr>\n",
       "\t<tr><th scope=row>872</th><td>872</td><td>1</td><td>1</td><td>Beckwith, Mrs. Richard Leonard (Sallie Monypeny)   </td><td>female</td><td>47</td><td>1</td><td>1</td><td>11751           </td><td> 52.5542</td><td>D35        </td><td>S</td></tr>\n",
       "\t<tr><th scope=row>873</th><td>873</td><td>0</td><td>1</td><td>Carlsson, Mr. Frans Olof                           </td><td>male  </td><td>33</td><td>0</td><td>0</td><td>695             </td><td>  5.0000</td><td>B51 B53 B55</td><td>S</td></tr>\n",
       "\t<tr><th scope=row>874</th><td>874</td><td>0</td><td>3</td><td>Vander Cruyssen, Mr. Victor                        </td><td>male  </td><td>47</td><td>0</td><td>0</td><td>345765          </td><td>  9.0000</td><td>           </td><td>S</td></tr>\n",
       "\t<tr><th scope=row>875</th><td>875</td><td>1</td><td>2</td><td>Abelson, Mrs. Samuel (Hannah Wizosky)              </td><td>female</td><td>28</td><td>1</td><td>0</td><td>P/PP 3381       </td><td> 24.0000</td><td>           </td><td>C</td></tr>\n",
       "\t<tr><th scope=row>876</th><td>876</td><td>1</td><td>3</td><td>Najib, Miss. Adele Kiamie \"Jane\"                   </td><td>female</td><td>15</td><td>0</td><td>0</td><td>2667            </td><td>  7.2250</td><td>           </td><td>C</td></tr>\n",
       "\t<tr><th scope=row>877</th><td>877</td><td>0</td><td>3</td><td>Gustafsson, Mr. Alfred Ossian                      </td><td>male  </td><td>20</td><td>0</td><td>0</td><td>7534            </td><td>  9.8458</td><td>           </td><td>S</td></tr>\n",
       "\t<tr><th scope=row>878</th><td>878</td><td>0</td><td>3</td><td>Petroff, Mr. Nedelio                               </td><td>male  </td><td>19</td><td>0</td><td>0</td><td>349212          </td><td>  7.8958</td><td>           </td><td>S</td></tr>\n",
       "\t<tr><th scope=row>880</th><td>880</td><td>1</td><td>1</td><td>Potter, Mrs. Thomas Jr (Lily Alexenia Wilson)      </td><td>female</td><td>56</td><td>0</td><td>1</td><td>11767           </td><td> 83.1583</td><td>C50        </td><td>C</td></tr>\n",
       "\t<tr><th scope=row>881</th><td>881</td><td>1</td><td>2</td><td>Shelley, Mrs. William (Imanita Parrish Hall)       </td><td>female</td><td>25</td><td>0</td><td>1</td><td>230433          </td><td> 26.0000</td><td>           </td><td>S</td></tr>\n",
       "\t<tr><th scope=row>882</th><td>882</td><td>0</td><td>3</td><td>Markun, Mr. Johann                                 </td><td>male  </td><td>33</td><td>0</td><td>0</td><td>349257          </td><td>  7.8958</td><td>           </td><td>S</td></tr>\n",
       "\t<tr><th scope=row>883</th><td>883</td><td>0</td><td>3</td><td>Dahlberg, Miss. Gerda Ulrika                       </td><td>female</td><td>22</td><td>0</td><td>0</td><td>7552            </td><td> 10.5167</td><td>           </td><td>S</td></tr>\n",
       "\t<tr><th scope=row>884</th><td>884</td><td>0</td><td>2</td><td>Banfield, Mr. Frederick James                      </td><td>male  </td><td>28</td><td>0</td><td>0</td><td>C.A./SOTON 34068</td><td> 10.5000</td><td>           </td><td>S</td></tr>\n",
       "\t<tr><th scope=row>885</th><td>885</td><td>0</td><td>3</td><td>Sutehall, Mr. Henry Jr                             </td><td>male  </td><td>25</td><td>0</td><td>0</td><td>SOTON/OQ 392076 </td><td>  7.0500</td><td>           </td><td>S</td></tr>\n",
       "\t<tr><th scope=row>886</th><td>886</td><td>0</td><td>3</td><td>Rice, Mrs. William (Margaret Norton)               </td><td>female</td><td>39</td><td>0</td><td>5</td><td>382652          </td><td> 29.1250</td><td>           </td><td>Q</td></tr>\n",
       "\t<tr><th scope=row>887</th><td>887</td><td>0</td><td>2</td><td>Montvila, Rev. Juozas                              </td><td>male  </td><td>27</td><td>0</td><td>0</td><td>211536          </td><td> 13.0000</td><td>           </td><td>S</td></tr>\n",
       "\t<tr><th scope=row>888</th><td>888</td><td>1</td><td>1</td><td>Graham, Miss. Margaret Edith                       </td><td>female</td><td>19</td><td>0</td><td>0</td><td>112053          </td><td> 30.0000</td><td>B42        </td><td>S</td></tr>\n",
       "\t<tr><th scope=row>890</th><td>890</td><td>1</td><td>1</td><td>Behr, Mr. Karl Howell                              </td><td>male  </td><td>26</td><td>0</td><td>0</td><td>111369          </td><td> 30.0000</td><td>C148       </td><td>C</td></tr>\n",
       "\t<tr><th scope=row>891</th><td>891</td><td>0</td><td>3</td><td>Dooley, Mr. Patrick                                </td><td>male  </td><td>32</td><td>0</td><td>0</td><td>370376          </td><td>  7.7500</td><td>           </td><td>Q</td></tr>\n",
       "</tbody>\n",
       "</table>\n"
      ],
      "text/latex": [
       "A data.frame: 714 x 12\n",
       "\\begin{tabular}{r|llllllllllll}\n",
       "  & PassengerId & Survived & Pclass & Name & Sex & Age & SibSp & Parch & Ticket & Fare & Cabin & Embarked\\\\\n",
       "  & <int> & <int> & <int> & <chr> & <chr> & <dbl> & <int> & <int> & <chr> & <dbl> & <chr> & <chr>\\\\\n",
       "\\hline\n",
       "\t1 &  1 & 0 & 3 & Braund, Mr. Owen Harris                                   & male   & 22 & 1 & 0 & A/5 21171        &   7.2500 &             & S\\\\\n",
       "\t2 &  2 & 1 & 1 & Cumings, Mrs. John Bradley (Florence Briggs Thayer)       & female & 38 & 1 & 0 & PC 17599         &  71.2833 & C85         & C\\\\\n",
       "\t3 &  3 & 1 & 3 & Heikkinen, Miss. Laina                                    & female & 26 & 0 & 0 & STON/O2. 3101282 &   7.9250 &             & S\\\\\n",
       "\t4 &  4 & 1 & 1 & Futrelle, Mrs. Jacques Heath (Lily May Peel)              & female & 35 & 1 & 0 & 113803           &  53.1000 & C123        & S\\\\\n",
       "\t5 &  5 & 0 & 3 & Allen, Mr. William Henry                                  & male   & 35 & 0 & 0 & 373450           &   8.0500 &             & S\\\\\n",
       "\t7 &  7 & 0 & 1 & McCarthy, Mr. Timothy J                                   & male   & 54 & 0 & 0 & 17463            &  51.8625 & E46         & S\\\\\n",
       "\t8 &  8 & 0 & 3 & Palsson, Master. Gosta Leonard                            & male   &  2 & 3 & 1 & 349909           &  21.0750 &             & S\\\\\n",
       "\t9 &  9 & 1 & 3 & Johnson, Mrs. Oscar W (Elisabeth Vilhelmina Berg)         & female & 27 & 0 & 2 & 347742           &  11.1333 &             & S\\\\\n",
       "\t10 & 10 & 1 & 2 & Nasser, Mrs. Nicholas (Adele Achem)                       & female & 14 & 1 & 0 & 237736           &  30.0708 &             & C\\\\\n",
       "\t11 & 11 & 1 & 3 & Sandstrom, Miss. Marguerite Rut                           & female &  4 & 1 & 1 & PP 9549          &  16.7000 & G6          & S\\\\\n",
       "\t12 & 12 & 1 & 1 & Bonnell, Miss. Elizabeth                                  & female & 58 & 0 & 0 & 113783           &  26.5500 & C103        & S\\\\\n",
       "\t13 & 13 & 0 & 3 & Saundercock, Mr. William Henry                            & male   & 20 & 0 & 0 & A/5. 2151        &   8.0500 &             & S\\\\\n",
       "\t14 & 14 & 0 & 3 & Andersson, Mr. Anders Johan                               & male   & 39 & 1 & 5 & 347082           &  31.2750 &             & S\\\\\n",
       "\t15 & 15 & 0 & 3 & Vestrom, Miss. Hulda Amanda Adolfina                      & female & 14 & 0 & 0 & 350406           &   7.8542 &             & S\\\\\n",
       "\t16 & 16 & 1 & 2 & Hewlett, Mrs. (Mary D Kingcome)                           & female & 55 & 0 & 0 & 248706           &  16.0000 &             & S\\\\\n",
       "\t17 & 17 & 0 & 3 & Rice, Master. Eugene                                      & male   &  2 & 4 & 1 & 382652           &  29.1250 &             & Q\\\\\n",
       "\t19 & 19 & 0 & 3 & Vander Planke, Mrs. Julius (Emelia Maria Vandemoortele)   & female & 31 & 1 & 0 & 345763           &  18.0000 &             & S\\\\\n",
       "\t21 & 21 & 0 & 2 & Fynney, Mr. Joseph J                                      & male   & 35 & 0 & 0 & 239865           &  26.0000 &             & S\\\\\n",
       "\t22 & 22 & 1 & 2 & Beesley, Mr. Lawrence                                     & male   & 34 & 0 & 0 & 248698           &  13.0000 & D56         & S\\\\\n",
       "\t23 & 23 & 1 & 3 & McGowan, Miss. Anna \"Annie\"                               & female & 15 & 0 & 0 & 330923           &   8.0292 &             & Q\\\\\n",
       "\t24 & 24 & 1 & 1 & Sloper, Mr. William Thompson                              & male   & 28 & 0 & 0 & 113788           &  35.5000 & A6          & S\\\\\n",
       "\t25 & 25 & 0 & 3 & Palsson, Miss. Torborg Danira                             & female &  8 & 3 & 1 & 349909           &  21.0750 &             & S\\\\\n",
       "\t26 & 26 & 1 & 3 & Asplund, Mrs. Carl Oscar (Selma Augusta Emilia Johansson) & female & 38 & 1 & 5 & 347077           &  31.3875 &             & S\\\\\n",
       "\t28 & 28 & 0 & 1 & Fortune, Mr. Charles Alexander                            & male   & 19 & 3 & 2 & 19950            & 263.0000 & C23 C25 C27 & S\\\\\n",
       "\t31 & 31 & 0 & 1 & Uruchurtu, Don. Manuel E                                  & male   & 40 & 0 & 0 & PC 17601         &  27.7208 &             & C\\\\\n",
       "\t34 & 34 & 0 & 2 & Wheadon, Mr. Edward H                                     & male   & 66 & 0 & 0 & C.A. 24579       &  10.5000 &             & S\\\\\n",
       "\t35 & 35 & 0 & 1 & Meyer, Mr. Edgar Joseph                                   & male   & 28 & 1 & 0 & PC 17604         &  82.1708 &             & C\\\\\n",
       "\t36 & 36 & 0 & 1 & Holverson, Mr. Alexander Oskar                            & male   & 42 & 1 & 0 & 113789           &  52.0000 &             & S\\\\\n",
       "\t38 & 38 & 0 & 3 & Cann, Mr. Ernest Charles                                  & male   & 21 & 0 & 0 & A./5. 2152       &   8.0500 &             & S\\\\\n",
       "\t39 & 39 & 0 & 3 & Vander Planke, Miss. Augusta Maria                        & female & 18 & 2 & 0 & 345764           &  18.0000 &             & S\\\\\n",
       "\t... & ... & ... & ... & ... & ... & ... & ... & ... & ... & ... & ... & ...\\\\\n",
       "\t857 & 857 & 1 & 1 & Wick, Mrs. George Dennick (Mary Hitchcock)          & female & 45 & 1 & 1 & 36928            & 164.8667 &             & S\\\\\n",
       "\t858 & 858 & 1 & 1 & Daly, Mr. Peter Denis                               & male   & 51 & 0 & 0 & 113055           &  26.5500 & E17         & S\\\\\n",
       "\t859 & 859 & 1 & 3 & Baclini, Mrs. Solomon (Latifa Qurban)               & female & 24 & 0 & 3 & 2666             &  19.2583 &             & C\\\\\n",
       "\t861 & 861 & 0 & 3 & Hansen, Mr. Claus Peter                             & male   & 41 & 2 & 0 & 350026           &  14.1083 &             & S\\\\\n",
       "\t862 & 862 & 0 & 2 & Giles, Mr. Frederick Edward                         & male   & 21 & 1 & 0 & 28134            &  11.5000 &             & S\\\\\n",
       "\t863 & 863 & 1 & 1 & Swift, Mrs. Frederick Joel (Margaret Welles Barron) & female & 48 & 0 & 0 & 17466            &  25.9292 & D17         & S\\\\\n",
       "\t865 & 865 & 0 & 2 & Gill, Mr. John William                              & male   & 24 & 0 & 0 & 233866           &  13.0000 &             & S\\\\\n",
       "\t866 & 866 & 1 & 2 & Bystrom, Mrs. (Karolina)                            & female & 42 & 0 & 0 & 236852           &  13.0000 &             & S\\\\\n",
       "\t867 & 867 & 1 & 2 & Duran y More, Miss. Asuncion                        & female & 27 & 1 & 0 & SC/PARIS 2149    &  13.8583 &             & C\\\\\n",
       "\t868 & 868 & 0 & 1 & Roebling, Mr. Washington Augustus II                & male   & 31 & 0 & 0 & PC 17590         &  50.4958 & A24         & S\\\\\n",
       "\t870 & 870 & 1 & 3 & Johnson, Master. Harold Theodor                     & male   &  4 & 1 & 1 & 347742           &  11.1333 &             & S\\\\\n",
       "\t871 & 871 & 0 & 3 & Balkic, Mr. Cerin                                   & male   & 26 & 0 & 0 & 349248           &   7.8958 &             & S\\\\\n",
       "\t872 & 872 & 1 & 1 & Beckwith, Mrs. Richard Leonard (Sallie Monypeny)    & female & 47 & 1 & 1 & 11751            &  52.5542 & D35         & S\\\\\n",
       "\t873 & 873 & 0 & 1 & Carlsson, Mr. Frans Olof                            & male   & 33 & 0 & 0 & 695              &   5.0000 & B51 B53 B55 & S\\\\\n",
       "\t874 & 874 & 0 & 3 & Vander Cruyssen, Mr. Victor                         & male   & 47 & 0 & 0 & 345765           &   9.0000 &             & S\\\\\n",
       "\t875 & 875 & 1 & 2 & Abelson, Mrs. Samuel (Hannah Wizosky)               & female & 28 & 1 & 0 & P/PP 3381        &  24.0000 &             & C\\\\\n",
       "\t876 & 876 & 1 & 3 & Najib, Miss. Adele Kiamie \"Jane\"                    & female & 15 & 0 & 0 & 2667             &   7.2250 &             & C\\\\\n",
       "\t877 & 877 & 0 & 3 & Gustafsson, Mr. Alfred Ossian                       & male   & 20 & 0 & 0 & 7534             &   9.8458 &             & S\\\\\n",
       "\t878 & 878 & 0 & 3 & Petroff, Mr. Nedelio                                & male   & 19 & 0 & 0 & 349212           &   7.8958 &             & S\\\\\n",
       "\t880 & 880 & 1 & 1 & Potter, Mrs. Thomas Jr (Lily Alexenia Wilson)       & female & 56 & 0 & 1 & 11767            &  83.1583 & C50         & C\\\\\n",
       "\t881 & 881 & 1 & 2 & Shelley, Mrs. William (Imanita Parrish Hall)        & female & 25 & 0 & 1 & 230433           &  26.0000 &             & S\\\\\n",
       "\t882 & 882 & 0 & 3 & Markun, Mr. Johann                                  & male   & 33 & 0 & 0 & 349257           &   7.8958 &             & S\\\\\n",
       "\t883 & 883 & 0 & 3 & Dahlberg, Miss. Gerda Ulrika                        & female & 22 & 0 & 0 & 7552             &  10.5167 &             & S\\\\\n",
       "\t884 & 884 & 0 & 2 & Banfield, Mr. Frederick James                       & male   & 28 & 0 & 0 & C.A./SOTON 34068 &  10.5000 &             & S\\\\\n",
       "\t885 & 885 & 0 & 3 & Sutehall, Mr. Henry Jr                              & male   & 25 & 0 & 0 & SOTON/OQ 392076  &   7.0500 &             & S\\\\\n",
       "\t886 & 886 & 0 & 3 & Rice, Mrs. William (Margaret Norton)                & female & 39 & 0 & 5 & 382652           &  29.1250 &             & Q\\\\\n",
       "\t887 & 887 & 0 & 2 & Montvila, Rev. Juozas                               & male   & 27 & 0 & 0 & 211536           &  13.0000 &             & S\\\\\n",
       "\t888 & 888 & 1 & 1 & Graham, Miss. Margaret Edith                        & female & 19 & 0 & 0 & 112053           &  30.0000 & B42         & S\\\\\n",
       "\t890 & 890 & 1 & 1 & Behr, Mr. Karl Howell                               & male   & 26 & 0 & 0 & 111369           &  30.0000 & C148        & C\\\\\n",
       "\t891 & 891 & 0 & 3 & Dooley, Mr. Patrick                                 & male   & 32 & 0 & 0 & 370376           &   7.7500 &             & Q\\\\\n",
       "\\end{tabular}\n"
      ],
      "text/markdown": [
       "\n",
       "A data.frame: 714 x 12\n",
       "\n",
       "| <!--/--> | PassengerId &lt;int&gt; | Survived &lt;int&gt; | Pclass &lt;int&gt; | Name &lt;chr&gt; | Sex &lt;chr&gt; | Age &lt;dbl&gt; | SibSp &lt;int&gt; | Parch &lt;int&gt; | Ticket &lt;chr&gt; | Fare &lt;dbl&gt; | Cabin &lt;chr&gt; | Embarked &lt;chr&gt; |\n",
       "|---|---|---|---|---|---|---|---|---|---|---|---|---|\n",
       "| 1 |  1 | 0 | 3 | Braund, Mr. Owen Harris                                   | male   | 22 | 1 | 0 | A/5 21171        |   7.2500 | <!----> | S |\n",
       "| 2 |  2 | 1 | 1 | Cumings, Mrs. John Bradley (Florence Briggs Thayer)       | female | 38 | 1 | 0 | PC 17599         |  71.2833 | C85         | C |\n",
       "| 3 |  3 | 1 | 3 | Heikkinen, Miss. Laina                                    | female | 26 | 0 | 0 | STON/O2. 3101282 |   7.9250 | <!----> | S |\n",
       "| 4 |  4 | 1 | 1 | Futrelle, Mrs. Jacques Heath (Lily May Peel)              | female | 35 | 1 | 0 | 113803           |  53.1000 | C123        | S |\n",
       "| 5 |  5 | 0 | 3 | Allen, Mr. William Henry                                  | male   | 35 | 0 | 0 | 373450           |   8.0500 | <!----> | S |\n",
       "| 7 |  7 | 0 | 1 | McCarthy, Mr. Timothy J                                   | male   | 54 | 0 | 0 | 17463            |  51.8625 | E46         | S |\n",
       "| 8 |  8 | 0 | 3 | Palsson, Master. Gosta Leonard                            | male   |  2 | 3 | 1 | 349909           |  21.0750 | <!----> | S |\n",
       "| 9 |  9 | 1 | 3 | Johnson, Mrs. Oscar W (Elisabeth Vilhelmina Berg)         | female | 27 | 0 | 2 | 347742           |  11.1333 | <!----> | S |\n",
       "| 10 | 10 | 1 | 2 | Nasser, Mrs. Nicholas (Adele Achem)                       | female | 14 | 1 | 0 | 237736           |  30.0708 | <!----> | C |\n",
       "| 11 | 11 | 1 | 3 | Sandstrom, Miss. Marguerite Rut                           | female |  4 | 1 | 1 | PP 9549          |  16.7000 | G6          | S |\n",
       "| 12 | 12 | 1 | 1 | Bonnell, Miss. Elizabeth                                  | female | 58 | 0 | 0 | 113783           |  26.5500 | C103        | S |\n",
       "| 13 | 13 | 0 | 3 | Saundercock, Mr. William Henry                            | male   | 20 | 0 | 0 | A/5. 2151        |   8.0500 | <!----> | S |\n",
       "| 14 | 14 | 0 | 3 | Andersson, Mr. Anders Johan                               | male   | 39 | 1 | 5 | 347082           |  31.2750 | <!----> | S |\n",
       "| 15 | 15 | 0 | 3 | Vestrom, Miss. Hulda Amanda Adolfina                      | female | 14 | 0 | 0 | 350406           |   7.8542 | <!----> | S |\n",
       "| 16 | 16 | 1 | 2 | Hewlett, Mrs. (Mary D Kingcome)                           | female | 55 | 0 | 0 | 248706           |  16.0000 | <!----> | S |\n",
       "| 17 | 17 | 0 | 3 | Rice, Master. Eugene                                      | male   |  2 | 4 | 1 | 382652           |  29.1250 | <!----> | Q |\n",
       "| 19 | 19 | 0 | 3 | Vander Planke, Mrs. Julius (Emelia Maria Vandemoortele)   | female | 31 | 1 | 0 | 345763           |  18.0000 | <!----> | S |\n",
       "| 21 | 21 | 0 | 2 | Fynney, Mr. Joseph J                                      | male   | 35 | 0 | 0 | 239865           |  26.0000 | <!----> | S |\n",
       "| 22 | 22 | 1 | 2 | Beesley, Mr. Lawrence                                     | male   | 34 | 0 | 0 | 248698           |  13.0000 | D56         | S |\n",
       "| 23 | 23 | 1 | 3 | McGowan, Miss. Anna \"Annie\"                               | female | 15 | 0 | 0 | 330923           |   8.0292 | <!----> | Q |\n",
       "| 24 | 24 | 1 | 1 | Sloper, Mr. William Thompson                              | male   | 28 | 0 | 0 | 113788           |  35.5000 | A6          | S |\n",
       "| 25 | 25 | 0 | 3 | Palsson, Miss. Torborg Danira                             | female |  8 | 3 | 1 | 349909           |  21.0750 | <!----> | S |\n",
       "| 26 | 26 | 1 | 3 | Asplund, Mrs. Carl Oscar (Selma Augusta Emilia Johansson) | female | 38 | 1 | 5 | 347077           |  31.3875 | <!----> | S |\n",
       "| 28 | 28 | 0 | 1 | Fortune, Mr. Charles Alexander                            | male   | 19 | 3 | 2 | 19950            | 263.0000 | C23 C25 C27 | S |\n",
       "| 31 | 31 | 0 | 1 | Uruchurtu, Don. Manuel E                                  | male   | 40 | 0 | 0 | PC 17601         |  27.7208 | <!----> | C |\n",
       "| 34 | 34 | 0 | 2 | Wheadon, Mr. Edward H                                     | male   | 66 | 0 | 0 | C.A. 24579       |  10.5000 | <!----> | S |\n",
       "| 35 | 35 | 0 | 1 | Meyer, Mr. Edgar Joseph                                   | male   | 28 | 1 | 0 | PC 17604         |  82.1708 | <!----> | C |\n",
       "| 36 | 36 | 0 | 1 | Holverson, Mr. Alexander Oskar                            | male   | 42 | 1 | 0 | 113789           |  52.0000 | <!----> | S |\n",
       "| 38 | 38 | 0 | 3 | Cann, Mr. Ernest Charles                                  | male   | 21 | 0 | 0 | A./5. 2152       |   8.0500 | <!----> | S |\n",
       "| 39 | 39 | 0 | 3 | Vander Planke, Miss. Augusta Maria                        | female | 18 | 2 | 0 | 345764           |  18.0000 | <!----> | S |\n",
       "| ... | ... | ... | ... | ... | ... | ... | ... | ... | ... | ... | ... | ... |\n",
       "| 857 | 857 | 1 | 1 | Wick, Mrs. George Dennick (Mary Hitchcock)          | female | 45 | 1 | 1 | 36928            | 164.8667 | <!----> | S |\n",
       "| 858 | 858 | 1 | 1 | Daly, Mr. Peter Denis                               | male   | 51 | 0 | 0 | 113055           |  26.5500 | E17         | S |\n",
       "| 859 | 859 | 1 | 3 | Baclini, Mrs. Solomon (Latifa Qurban)               | female | 24 | 0 | 3 | 2666             |  19.2583 | <!----> | C |\n",
       "| 861 | 861 | 0 | 3 | Hansen, Mr. Claus Peter                             | male   | 41 | 2 | 0 | 350026           |  14.1083 | <!----> | S |\n",
       "| 862 | 862 | 0 | 2 | Giles, Mr. Frederick Edward                         | male   | 21 | 1 | 0 | 28134            |  11.5000 | <!----> | S |\n",
       "| 863 | 863 | 1 | 1 | Swift, Mrs. Frederick Joel (Margaret Welles Barron) | female | 48 | 0 | 0 | 17466            |  25.9292 | D17         | S |\n",
       "| 865 | 865 | 0 | 2 | Gill, Mr. John William                              | male   | 24 | 0 | 0 | 233866           |  13.0000 | <!----> | S |\n",
       "| 866 | 866 | 1 | 2 | Bystrom, Mrs. (Karolina)                            | female | 42 | 0 | 0 | 236852           |  13.0000 | <!----> | S |\n",
       "| 867 | 867 | 1 | 2 | Duran y More, Miss. Asuncion                        | female | 27 | 1 | 0 | SC/PARIS 2149    |  13.8583 | <!----> | C |\n",
       "| 868 | 868 | 0 | 1 | Roebling, Mr. Washington Augustus II                | male   | 31 | 0 | 0 | PC 17590         |  50.4958 | A24         | S |\n",
       "| 870 | 870 | 1 | 3 | Johnson, Master. Harold Theodor                     | male   |  4 | 1 | 1 | 347742           |  11.1333 | <!----> | S |\n",
       "| 871 | 871 | 0 | 3 | Balkic, Mr. Cerin                                   | male   | 26 | 0 | 0 | 349248           |   7.8958 | <!----> | S |\n",
       "| 872 | 872 | 1 | 1 | Beckwith, Mrs. Richard Leonard (Sallie Monypeny)    | female | 47 | 1 | 1 | 11751            |  52.5542 | D35         | S |\n",
       "| 873 | 873 | 0 | 1 | Carlsson, Mr. Frans Olof                            | male   | 33 | 0 | 0 | 695              |   5.0000 | B51 B53 B55 | S |\n",
       "| 874 | 874 | 0 | 3 | Vander Cruyssen, Mr. Victor                         | male   | 47 | 0 | 0 | 345765           |   9.0000 | <!----> | S |\n",
       "| 875 | 875 | 1 | 2 | Abelson, Mrs. Samuel (Hannah Wizosky)               | female | 28 | 1 | 0 | P/PP 3381        |  24.0000 | <!----> | C |\n",
       "| 876 | 876 | 1 | 3 | Najib, Miss. Adele Kiamie \"Jane\"                    | female | 15 | 0 | 0 | 2667             |   7.2250 | <!----> | C |\n",
       "| 877 | 877 | 0 | 3 | Gustafsson, Mr. Alfred Ossian                       | male   | 20 | 0 | 0 | 7534             |   9.8458 | <!----> | S |\n",
       "| 878 | 878 | 0 | 3 | Petroff, Mr. Nedelio                                | male   | 19 | 0 | 0 | 349212           |   7.8958 | <!----> | S |\n",
       "| 880 | 880 | 1 | 1 | Potter, Mrs. Thomas Jr (Lily Alexenia Wilson)       | female | 56 | 0 | 1 | 11767            |  83.1583 | C50         | C |\n",
       "| 881 | 881 | 1 | 2 | Shelley, Mrs. William (Imanita Parrish Hall)        | female | 25 | 0 | 1 | 230433           |  26.0000 | <!----> | S |\n",
       "| 882 | 882 | 0 | 3 | Markun, Mr. Johann                                  | male   | 33 | 0 | 0 | 349257           |   7.8958 | <!----> | S |\n",
       "| 883 | 883 | 0 | 3 | Dahlberg, Miss. Gerda Ulrika                        | female | 22 | 0 | 0 | 7552             |  10.5167 | <!----> | S |\n",
       "| 884 | 884 | 0 | 2 | Banfield, Mr. Frederick James                       | male   | 28 | 0 | 0 | C.A./SOTON 34068 |  10.5000 | <!----> | S |\n",
       "| 885 | 885 | 0 | 3 | Sutehall, Mr. Henry Jr                              | male   | 25 | 0 | 0 | SOTON/OQ 392076  |   7.0500 | <!----> | S |\n",
       "| 886 | 886 | 0 | 3 | Rice, Mrs. William (Margaret Norton)                | female | 39 | 0 | 5 | 382652           |  29.1250 | <!----> | Q |\n",
       "| 887 | 887 | 0 | 2 | Montvila, Rev. Juozas                               | male   | 27 | 0 | 0 | 211536           |  13.0000 | <!----> | S |\n",
       "| 888 | 888 | 1 | 1 | Graham, Miss. Margaret Edith                        | female | 19 | 0 | 0 | 112053           |  30.0000 | B42         | S |\n",
       "| 890 | 890 | 1 | 1 | Behr, Mr. Karl Howell                               | male   | 26 | 0 | 0 | 111369           |  30.0000 | C148        | C |\n",
       "| 891 | 891 | 0 | 3 | Dooley, Mr. Patrick                                 | male   | 32 | 0 | 0 | 370376           |   7.7500 | <!----> | Q |\n",
       "\n"
      ],
      "text/plain": [
       "    PassengerId Survived Pclass\n",
       "1    1          0        3     \n",
       "2    2          1        1     \n",
       "3    3          1        3     \n",
       "4    4          1        1     \n",
       "5    5          0        3     \n",
       "7    7          0        1     \n",
       "8    8          0        3     \n",
       "9    9          1        3     \n",
       "10  10          1        2     \n",
       "11  11          1        3     \n",
       "12  12          1        1     \n",
       "13  13          0        3     \n",
       "14  14          0        3     \n",
       "15  15          0        3     \n",
       "16  16          1        2     \n",
       "17  17          0        3     \n",
       "19  19          0        3     \n",
       "21  21          0        2     \n",
       "22  22          1        2     \n",
       "23  23          1        3     \n",
       "24  24          1        1     \n",
       "25  25          0        3     \n",
       "26  26          1        3     \n",
       "28  28          0        1     \n",
       "31  31          0        1     \n",
       "34  34          0        2     \n",
       "35  35          0        1     \n",
       "36  36          0        1     \n",
       "38  38          0        3     \n",
       "39  39          0        3     \n",
       "... ...         ...      ...   \n",
       "857 857         1        1     \n",
       "858 858         1        1     \n",
       "859 859         1        3     \n",
       "861 861         0        3     \n",
       "862 862         0        2     \n",
       "863 863         1        1     \n",
       "865 865         0        2     \n",
       "866 866         1        2     \n",
       "867 867         1        2     \n",
       "868 868         0        1     \n",
       "870 870         1        3     \n",
       "871 871         0        3     \n",
       "872 872         1        1     \n",
       "873 873         0        1     \n",
       "874 874         0        3     \n",
       "875 875         1        2     \n",
       "876 876         1        3     \n",
       "877 877         0        3     \n",
       "878 878         0        3     \n",
       "880 880         1        1     \n",
       "881 881         1        2     \n",
       "882 882         0        3     \n",
       "883 883         0        3     \n",
       "884 884         0        2     \n",
       "885 885         0        3     \n",
       "886 886         0        3     \n",
       "887 887         0        2     \n",
       "888 888         1        1     \n",
       "890 890         1        1     \n",
       "891 891         0        3     \n",
       "    Name                                                      Sex    Age SibSp\n",
       "1   Braund, Mr. Owen Harris                                   male   22  1    \n",
       "2   Cumings, Mrs. John Bradley (Florence Briggs Thayer)       female 38  1    \n",
       "3   Heikkinen, Miss. Laina                                    female 26  0    \n",
       "4   Futrelle, Mrs. Jacques Heath (Lily May Peel)              female 35  1    \n",
       "5   Allen, Mr. William Henry                                  male   35  0    \n",
       "7   McCarthy, Mr. Timothy J                                   male   54  0    \n",
       "8   Palsson, Master. Gosta Leonard                            male    2  3    \n",
       "9   Johnson, Mrs. Oscar W (Elisabeth Vilhelmina Berg)         female 27  0    \n",
       "10  Nasser, Mrs. Nicholas (Adele Achem)                       female 14  1    \n",
       "11  Sandstrom, Miss. Marguerite Rut                           female  4  1    \n",
       "12  Bonnell, Miss. Elizabeth                                  female 58  0    \n",
       "13  Saundercock, Mr. William Henry                            male   20  0    \n",
       "14  Andersson, Mr. Anders Johan                               male   39  1    \n",
       "15  Vestrom, Miss. Hulda Amanda Adolfina                      female 14  0    \n",
       "16  Hewlett, Mrs. (Mary D Kingcome)                           female 55  0    \n",
       "17  Rice, Master. Eugene                                      male    2  4    \n",
       "19  Vander Planke, Mrs. Julius (Emelia Maria Vandemoortele)   female 31  1    \n",
       "21  Fynney, Mr. Joseph J                                      male   35  0    \n",
       "22  Beesley, Mr. Lawrence                                     male   34  0    \n",
       "23  McGowan, Miss. Anna \"Annie\"                               female 15  0    \n",
       "24  Sloper, Mr. William Thompson                              male   28  0    \n",
       "25  Palsson, Miss. Torborg Danira                             female  8  3    \n",
       "26  Asplund, Mrs. Carl Oscar (Selma Augusta Emilia Johansson) female 38  1    \n",
       "28  Fortune, Mr. Charles Alexander                            male   19  3    \n",
       "31  Uruchurtu, Don. Manuel E                                  male   40  0    \n",
       "34  Wheadon, Mr. Edward H                                     male   66  0    \n",
       "35  Meyer, Mr. Edgar Joseph                                   male   28  1    \n",
       "36  Holverson, Mr. Alexander Oskar                            male   42  1    \n",
       "38  Cann, Mr. Ernest Charles                                  male   21  0    \n",
       "39  Vander Planke, Miss. Augusta Maria                        female 18  2    \n",
       "... ...                                                       ...    ... ...  \n",
       "857 Wick, Mrs. George Dennick (Mary Hitchcock)                female 45  1    \n",
       "858 Daly, Mr. Peter Denis                                     male   51  0    \n",
       "859 Baclini, Mrs. Solomon (Latifa Qurban)                     female 24  0    \n",
       "861 Hansen, Mr. Claus Peter                                   male   41  2    \n",
       "862 Giles, Mr. Frederick Edward                               male   21  1    \n",
       "863 Swift, Mrs. Frederick Joel (Margaret Welles Barron)       female 48  0    \n",
       "865 Gill, Mr. John William                                    male   24  0    \n",
       "866 Bystrom, Mrs. (Karolina)                                  female 42  0    \n",
       "867 Duran y More, Miss. Asuncion                              female 27  1    \n",
       "868 Roebling, Mr. Washington Augustus II                      male   31  0    \n",
       "870 Johnson, Master. Harold Theodor                           male    4  1    \n",
       "871 Balkic, Mr. Cerin                                         male   26  0    \n",
       "872 Beckwith, Mrs. Richard Leonard (Sallie Monypeny)          female 47  1    \n",
       "873 Carlsson, Mr. Frans Olof                                  male   33  0    \n",
       "874 Vander Cruyssen, Mr. Victor                               male   47  0    \n",
       "875 Abelson, Mrs. Samuel (Hannah Wizosky)                     female 28  1    \n",
       "876 Najib, Miss. Adele Kiamie \"Jane\"                          female 15  0    \n",
       "877 Gustafsson, Mr. Alfred Ossian                             male   20  0    \n",
       "878 Petroff, Mr. Nedelio                                      male   19  0    \n",
       "880 Potter, Mrs. Thomas Jr (Lily Alexenia Wilson)             female 56  0    \n",
       "881 Shelley, Mrs. William (Imanita Parrish Hall)              female 25  0    \n",
       "882 Markun, Mr. Johann                                        male   33  0    \n",
       "883 Dahlberg, Miss. Gerda Ulrika                              female 22  0    \n",
       "884 Banfield, Mr. Frederick James                             male   28  0    \n",
       "885 Sutehall, Mr. Henry Jr                                    male   25  0    \n",
       "886 Rice, Mrs. William (Margaret Norton)                      female 39  0    \n",
       "887 Montvila, Rev. Juozas                                     male   27  0    \n",
       "888 Graham, Miss. Margaret Edith                              female 19  0    \n",
       "890 Behr, Mr. Karl Howell                                     male   26  0    \n",
       "891 Dooley, Mr. Patrick                                       male   32  0    \n",
       "    Parch Ticket           Fare     Cabin       Embarked\n",
       "1   0     A/5 21171          7.2500             S       \n",
       "2   0     PC 17599          71.2833 C85         C       \n",
       "3   0     STON/O2. 3101282   7.9250             S       \n",
       "4   0     113803            53.1000 C123        S       \n",
       "5   0     373450             8.0500             S       \n",
       "7   0     17463             51.8625 E46         S       \n",
       "8   1     349909            21.0750             S       \n",
       "9   2     347742            11.1333             S       \n",
       "10  0     237736            30.0708             C       \n",
       "11  1     PP 9549           16.7000 G6          S       \n",
       "12  0     113783            26.5500 C103        S       \n",
       "13  0     A/5. 2151          8.0500             S       \n",
       "14  5     347082            31.2750             S       \n",
       "15  0     350406             7.8542             S       \n",
       "16  0     248706            16.0000             S       \n",
       "17  1     382652            29.1250             Q       \n",
       "19  0     345763            18.0000             S       \n",
       "21  0     239865            26.0000             S       \n",
       "22  0     248698            13.0000 D56         S       \n",
       "23  0     330923             8.0292             Q       \n",
       "24  0     113788            35.5000 A6          S       \n",
       "25  1     349909            21.0750             S       \n",
       "26  5     347077            31.3875             S       \n",
       "28  2     19950            263.0000 C23 C25 C27 S       \n",
       "31  0     PC 17601          27.7208             C       \n",
       "34  0     C.A. 24579        10.5000             S       \n",
       "35  0     PC 17604          82.1708             C       \n",
       "36  0     113789            52.0000             S       \n",
       "38  0     A./5. 2152         8.0500             S       \n",
       "39  0     345764            18.0000             S       \n",
       "... ...   ...              ...      ...         ...     \n",
       "857 1     36928            164.8667             S       \n",
       "858 0     113055            26.5500 E17         S       \n",
       "859 3     2666              19.2583             C       \n",
       "861 0     350026            14.1083             S       \n",
       "862 0     28134             11.5000             S       \n",
       "863 0     17466             25.9292 D17         S       \n",
       "865 0     233866            13.0000             S       \n",
       "866 0     236852            13.0000             S       \n",
       "867 0     SC/PARIS 2149     13.8583             C       \n",
       "868 0     PC 17590          50.4958 A24         S       \n",
       "870 1     347742            11.1333             S       \n",
       "871 0     349248             7.8958             S       \n",
       "872 1     11751             52.5542 D35         S       \n",
       "873 0     695                5.0000 B51 B53 B55 S       \n",
       "874 0     345765             9.0000             S       \n",
       "875 0     P/PP 3381         24.0000             C       \n",
       "876 0     2667               7.2250             C       \n",
       "877 0     7534               9.8458             S       \n",
       "878 0     349212             7.8958             S       \n",
       "880 1     11767             83.1583 C50         C       \n",
       "881 1     230433            26.0000             S       \n",
       "882 0     349257             7.8958             S       \n",
       "883 0     7552              10.5167             S       \n",
       "884 0     C.A./SOTON 34068  10.5000             S       \n",
       "885 0     SOTON/OQ 392076    7.0500             S       \n",
       "886 5     382652            29.1250             Q       \n",
       "887 0     211536            13.0000             S       \n",
       "888 0     112053            30.0000 B42         S       \n",
       "890 0     111369            30.0000 C148        C       \n",
       "891 0     370376             7.7500             Q       "
      ]
     },
     "metadata": {},
     "output_type": "display_data"
    }
   ],
   "source": [
    "# train_tf#Age 가 NA인것 빼고 데이터셋 만들기\n",
    "subset(train_tf, !is.na(train_tf$Age))"
   ]
  },
  {
   "cell_type": "code",
   "execution_count": 7,
   "metadata": {
    "vscode": {
     "languageId": "r"
    }
   },
   "outputs": [
    {
     "name": "stderr",
     "output_type": "stream",
     "text": [
      "\n",
      "다음의 패키지를 부착합니다: ‘dplyr’\n",
      "\n",
      "\n",
      "The following objects are masked from ‘package:stats’:\n",
      "\n",
      "    filter, lag\n",
      "\n",
      "\n",
      "The following objects are masked from ‘package:base’:\n",
      "\n",
      "    intersect, setdiff, setequal, union\n",
      "\n",
      "\n"
     ]
    },
    {
     "data": {
      "text/html": [
       "<table class=\"dataframe\">\n",
       "<caption>A data.frame: 891 x 12</caption>\n",
       "<thead>\n",
       "\t<tr><th scope=col>PassengerId</th><th scope=col>Survived</th><th scope=col>Pclass</th><th scope=col>Name</th><th scope=col>Sex</th><th scope=col>Age</th><th scope=col>SibSp</th><th scope=col>Parch</th><th scope=col>Ticket</th><th scope=col>Fare</th><th scope=col>Cabin</th><th scope=col>Embarked</th></tr>\n",
       "\t<tr><th scope=col>&lt;int&gt;</th><th scope=col>&lt;int&gt;</th><th scope=col>&lt;int&gt;</th><th scope=col>&lt;chr&gt;</th><th scope=col>&lt;chr&gt;</th><th scope=col>&lt;dbl&gt;</th><th scope=col>&lt;int&gt;</th><th scope=col>&lt;int&gt;</th><th scope=col>&lt;chr&gt;</th><th scope=col>&lt;dbl&gt;</th><th scope=col>&lt;chr&gt;</th><th scope=col>&lt;chr&gt;</th></tr>\n",
       "</thead>\n",
       "<tbody>\n",
       "\t<tr><td> 1</td><td>0</td><td>3</td><td>Braund, Mr. Owen Harris                                 </td><td>male  </td><td>22</td><td>1</td><td>0</td><td>A/5 21171      </td><td>  7.2500</td><td>           </td><td>S</td></tr>\n",
       "\t<tr><td> 5</td><td>0</td><td>3</td><td>Allen, Mr. William Henry                                </td><td>male  </td><td>35</td><td>0</td><td>0</td><td>373450         </td><td>  8.0500</td><td>           </td><td>S</td></tr>\n",
       "\t<tr><td> 6</td><td>0</td><td>3</td><td>Moran, Mr. James                                        </td><td>male  </td><td>NA</td><td>0</td><td>0</td><td>330877         </td><td>  8.4583</td><td>           </td><td>Q</td></tr>\n",
       "\t<tr><td> 7</td><td>0</td><td>1</td><td>McCarthy, Mr. Timothy J                                 </td><td>male  </td><td>54</td><td>0</td><td>0</td><td>17463          </td><td> 51.8625</td><td>E46        </td><td>S</td></tr>\n",
       "\t<tr><td> 8</td><td>0</td><td>3</td><td>Palsson, Master. Gosta Leonard                          </td><td>male  </td><td> 2</td><td>3</td><td>1</td><td>349909         </td><td> 21.0750</td><td>           </td><td>S</td></tr>\n",
       "\t<tr><td>13</td><td>0</td><td>3</td><td>Saundercock, Mr. William Henry                          </td><td>male  </td><td>20</td><td>0</td><td>0</td><td>A/5. 2151      </td><td>  8.0500</td><td>           </td><td>S</td></tr>\n",
       "\t<tr><td>14</td><td>0</td><td>3</td><td>Andersson, Mr. Anders Johan                             </td><td>male  </td><td>39</td><td>1</td><td>5</td><td>347082         </td><td> 31.2750</td><td>           </td><td>S</td></tr>\n",
       "\t<tr><td>15</td><td>0</td><td>3</td><td>Vestrom, Miss. Hulda Amanda Adolfina                    </td><td>female</td><td>14</td><td>0</td><td>0</td><td>350406         </td><td>  7.8542</td><td>           </td><td>S</td></tr>\n",
       "\t<tr><td>17</td><td>0</td><td>3</td><td>Rice, Master. Eugene                                    </td><td>male  </td><td> 2</td><td>4</td><td>1</td><td>382652         </td><td> 29.1250</td><td>           </td><td>Q</td></tr>\n",
       "\t<tr><td>19</td><td>0</td><td>3</td><td>Vander Planke, Mrs. Julius (Emelia Maria Vandemoortele) </td><td>female</td><td>31</td><td>1</td><td>0</td><td>345763         </td><td> 18.0000</td><td>           </td><td>S</td></tr>\n",
       "\t<tr><td>21</td><td>0</td><td>2</td><td>Fynney, Mr. Joseph J                                    </td><td>male  </td><td>35</td><td>0</td><td>0</td><td>239865         </td><td> 26.0000</td><td>           </td><td>S</td></tr>\n",
       "\t<tr><td>25</td><td>0</td><td>3</td><td>Palsson, Miss. Torborg Danira                           </td><td>female</td><td> 8</td><td>3</td><td>1</td><td>349909         </td><td> 21.0750</td><td>           </td><td>S</td></tr>\n",
       "\t<tr><td>27</td><td>0</td><td>3</td><td>Emir, Mr. Farred Chehab                                 </td><td>male  </td><td>NA</td><td>0</td><td>0</td><td>2631           </td><td>  7.2250</td><td>           </td><td>C</td></tr>\n",
       "\t<tr><td>28</td><td>0</td><td>1</td><td>Fortune, Mr. Charles Alexander                          </td><td>male  </td><td>19</td><td>3</td><td>2</td><td>19950          </td><td>263.0000</td><td>C23 C25 C27</td><td>S</td></tr>\n",
       "\t<tr><td>30</td><td>0</td><td>3</td><td>Todoroff, Mr. Lalio                                     </td><td>male  </td><td>NA</td><td>0</td><td>0</td><td>349216         </td><td>  7.8958</td><td>           </td><td>S</td></tr>\n",
       "\t<tr><td>31</td><td>0</td><td>1</td><td>Uruchurtu, Don. Manuel E                                </td><td>male  </td><td>40</td><td>0</td><td>0</td><td>PC 17601       </td><td> 27.7208</td><td>           </td><td>C</td></tr>\n",
       "\t<tr><td>34</td><td>0</td><td>2</td><td>Wheadon, Mr. Edward H                                   </td><td>male  </td><td>66</td><td>0</td><td>0</td><td>C.A. 24579     </td><td> 10.5000</td><td>           </td><td>S</td></tr>\n",
       "\t<tr><td>35</td><td>0</td><td>1</td><td>Meyer, Mr. Edgar Joseph                                 </td><td>male  </td><td>28</td><td>1</td><td>0</td><td>PC 17604       </td><td> 82.1708</td><td>           </td><td>C</td></tr>\n",
       "\t<tr><td>36</td><td>0</td><td>1</td><td>Holverson, Mr. Alexander Oskar                          </td><td>male  </td><td>42</td><td>1</td><td>0</td><td>113789         </td><td> 52.0000</td><td>           </td><td>S</td></tr>\n",
       "\t<tr><td>38</td><td>0</td><td>3</td><td>Cann, Mr. Ernest Charles                                </td><td>male  </td><td>21</td><td>0</td><td>0</td><td>A./5. 2152     </td><td>  8.0500</td><td>           </td><td>S</td></tr>\n",
       "\t<tr><td>39</td><td>0</td><td>3</td><td>Vander Planke, Miss. Augusta Maria                      </td><td>female</td><td>18</td><td>2</td><td>0</td><td>345764         </td><td> 18.0000</td><td>           </td><td>S</td></tr>\n",
       "\t<tr><td>41</td><td>0</td><td>3</td><td>Ahlin, Mrs. Johan (Johanna Persdotter Larsson)          </td><td>female</td><td>40</td><td>1</td><td>0</td><td>7546           </td><td>  9.4750</td><td>           </td><td>S</td></tr>\n",
       "\t<tr><td>42</td><td>0</td><td>2</td><td>Turpin, Mrs. William John Robert (Dorothy Ann Wonnacott)</td><td>female</td><td>27</td><td>1</td><td>0</td><td>11668          </td><td> 21.0000</td><td>           </td><td>S</td></tr>\n",
       "\t<tr><td>43</td><td>0</td><td>3</td><td>Kraeff, Mr. Theodor                                     </td><td>male  </td><td>NA</td><td>0</td><td>0</td><td>349253         </td><td>  7.8958</td><td>           </td><td>C</td></tr>\n",
       "\t<tr><td>46</td><td>0</td><td>3</td><td>Rogers, Mr. William John                                </td><td>male  </td><td>NA</td><td>0</td><td>0</td><td>S.C./A.4. 23567</td><td>  8.0500</td><td>           </td><td>S</td></tr>\n",
       "\t<tr><td>47</td><td>0</td><td>3</td><td>Lennon, Mr. Denis                                       </td><td>male  </td><td>NA</td><td>1</td><td>0</td><td>370371         </td><td> 15.5000</td><td>           </td><td>Q</td></tr>\n",
       "\t<tr><td>49</td><td>0</td><td>3</td><td>Samaan, Mr. Youssef                                     </td><td>male  </td><td>NA</td><td>2</td><td>0</td><td>2662           </td><td> 21.6792</td><td>           </td><td>C</td></tr>\n",
       "\t<tr><td>50</td><td>0</td><td>3</td><td>Arnold-Franchi, Mrs. Josef (Josefine Franchi)           </td><td>female</td><td>18</td><td>1</td><td>0</td><td>349237         </td><td> 17.8000</td><td>           </td><td>S</td></tr>\n",
       "\t<tr><td>51</td><td>0</td><td>3</td><td>Panula, Master. Juha Niilo                              </td><td>male  </td><td> 7</td><td>4</td><td>1</td><td>3101295        </td><td> 39.6875</td><td>           </td><td>S</td></tr>\n",
       "\t<tr><td>52</td><td>0</td><td>3</td><td>Nosworthy, Mr. Richard Cater                            </td><td>male  </td><td>21</td><td>0</td><td>0</td><td>A/4. 39886     </td><td>  7.8000</td><td>           </td><td>S</td></tr>\n",
       "\t<tr><td>...</td><td>...</td><td>...</td><td>...</td><td>...</td><td>...</td><td>...</td><td>...</td><td>...</td><td>...</td><td>...</td><td>...</td></tr>\n",
       "\t<tr><td>810</td><td>1</td><td>1</td><td>Chambers, Mrs. Norman Campbell (Bertha Griggs)     </td><td>female</td><td>33.00</td><td>1</td><td>0</td><td>113806         </td><td> 53.1000</td><td>E8  </td><td>S</td></tr>\n",
       "\t<tr><td>821</td><td>1</td><td>1</td><td>Hays, Mrs. Charles Melville (Clara Jennings Gregg) </td><td>female</td><td>52.00</td><td>1</td><td>1</td><td>12749          </td><td> 93.5000</td><td>B69 </td><td>S</td></tr>\n",
       "\t<tr><td>822</td><td>1</td><td>3</td><td>Lulic, Mr. Nikola                                  </td><td>male  </td><td>27.00</td><td>0</td><td>0</td><td>315098         </td><td>  8.6625</td><td>    </td><td>S</td></tr>\n",
       "\t<tr><td>824</td><td>1</td><td>3</td><td>Moor, Mrs. (Beila)                                 </td><td>female</td><td>27.00</td><td>0</td><td>1</td><td>392096         </td><td> 12.4750</td><td>E121</td><td>S</td></tr>\n",
       "\t<tr><td>828</td><td>1</td><td>2</td><td>Mallet, Master. Andre                              </td><td>male  </td><td> 1.00</td><td>0</td><td>2</td><td>S.C./PARIS 2079</td><td> 37.0042</td><td>    </td><td>C</td></tr>\n",
       "\t<tr><td>829</td><td>1</td><td>3</td><td>McCormack, Mr. Thomas Joseph                       </td><td>male  </td><td>   NA</td><td>0</td><td>0</td><td>367228         </td><td>  7.7500</td><td>    </td><td>Q</td></tr>\n",
       "\t<tr><td>830</td><td>1</td><td>1</td><td>Stone, Mrs. George Nelson (Martha Evelyn)          </td><td>female</td><td>62.00</td><td>0</td><td>0</td><td>113572         </td><td> 80.0000</td><td>B28 </td><td> </td></tr>\n",
       "\t<tr><td>831</td><td>1</td><td>3</td><td>Yasbeck, Mrs. Antoni (Selini Alexander)            </td><td>female</td><td>15.00</td><td>1</td><td>0</td><td>2659           </td><td> 14.4542</td><td>    </td><td>C</td></tr>\n",
       "\t<tr><td>832</td><td>1</td><td>2</td><td>Richards, Master. George Sibley                    </td><td>male  </td><td> 0.83</td><td>1</td><td>1</td><td>29106          </td><td> 18.7500</td><td>    </td><td>S</td></tr>\n",
       "\t<tr><td>836</td><td>1</td><td>1</td><td>Compton, Miss. Sara Rebecca                        </td><td>female</td><td>39.00</td><td>1</td><td>1</td><td>PC 17756       </td><td> 83.1583</td><td>E49 </td><td>C</td></tr>\n",
       "\t<tr><td>839</td><td>1</td><td>3</td><td>Chip, Mr. Chang                                    </td><td>male  </td><td>32.00</td><td>0</td><td>0</td><td>1601           </td><td> 56.4958</td><td>    </td><td>S</td></tr>\n",
       "\t<tr><td>840</td><td>1</td><td>1</td><td>Marechal, Mr. Pierre                               </td><td>male  </td><td>   NA</td><td>0</td><td>0</td><td>11774          </td><td> 29.7000</td><td>C47 </td><td>C</td></tr>\n",
       "\t<tr><td>843</td><td>1</td><td>1</td><td>Serepeca, Miss. Augusta                            </td><td>female</td><td>30.00</td><td>0</td><td>0</td><td>113798         </td><td> 31.0000</td><td>    </td><td>C</td></tr>\n",
       "\t<tr><td>850</td><td>1</td><td>1</td><td>Goldenberg, Mrs. Samuel L (Edwiga Grabowska)       </td><td>female</td><td>   NA</td><td>1</td><td>0</td><td>17453          </td><td> 89.1042</td><td>C92 </td><td>C</td></tr>\n",
       "\t<tr><td>854</td><td>1</td><td>1</td><td>Lines, Miss. Mary Conover                          </td><td>female</td><td>16.00</td><td>0</td><td>1</td><td>PC 17592       </td><td> 39.4000</td><td>D28 </td><td>S</td></tr>\n",
       "\t<tr><td>856</td><td>1</td><td>3</td><td>Aks, Mrs. Sam (Leah Rosen)                         </td><td>female</td><td>18.00</td><td>0</td><td>1</td><td>392091         </td><td>  9.3500</td><td>    </td><td>S</td></tr>\n",
       "\t<tr><td>857</td><td>1</td><td>1</td><td>Wick, Mrs. George Dennick (Mary Hitchcock)         </td><td>female</td><td>45.00</td><td>1</td><td>1</td><td>36928          </td><td>164.8667</td><td>    </td><td>S</td></tr>\n",
       "\t<tr><td>858</td><td>1</td><td>1</td><td>Daly, Mr. Peter Denis                              </td><td>male  </td><td>51.00</td><td>0</td><td>0</td><td>113055         </td><td> 26.5500</td><td>E17 </td><td>S</td></tr>\n",
       "\t<tr><td>859</td><td>1</td><td>3</td><td>Baclini, Mrs. Solomon (Latifa Qurban)              </td><td>female</td><td>24.00</td><td>0</td><td>3</td><td>2666           </td><td> 19.2583</td><td>    </td><td>C</td></tr>\n",
       "\t<tr><td>863</td><td>1</td><td>1</td><td>Swift, Mrs. Frederick Joel (Margaret Welles Barron)</td><td>female</td><td>48.00</td><td>0</td><td>0</td><td>17466          </td><td> 25.9292</td><td>D17 </td><td>S</td></tr>\n",
       "\t<tr><td>866</td><td>1</td><td>2</td><td>Bystrom, Mrs. (Karolina)                           </td><td>female</td><td>42.00</td><td>0</td><td>0</td><td>236852         </td><td> 13.0000</td><td>    </td><td>S</td></tr>\n",
       "\t<tr><td>867</td><td>1</td><td>2</td><td>Duran y More, Miss. Asuncion                       </td><td>female</td><td>27.00</td><td>1</td><td>0</td><td>SC/PARIS 2149  </td><td> 13.8583</td><td>    </td><td>C</td></tr>\n",
       "\t<tr><td>870</td><td>1</td><td>3</td><td>Johnson, Master. Harold Theodor                    </td><td>male  </td><td> 4.00</td><td>1</td><td>1</td><td>347742         </td><td> 11.1333</td><td>    </td><td>S</td></tr>\n",
       "\t<tr><td>872</td><td>1</td><td>1</td><td>Beckwith, Mrs. Richard Leonard (Sallie Monypeny)   </td><td>female</td><td>47.00</td><td>1</td><td>1</td><td>11751          </td><td> 52.5542</td><td>D35 </td><td>S</td></tr>\n",
       "\t<tr><td>875</td><td>1</td><td>2</td><td>Abelson, Mrs. Samuel (Hannah Wizosky)              </td><td>female</td><td>28.00</td><td>1</td><td>0</td><td>P/PP 3381      </td><td> 24.0000</td><td>    </td><td>C</td></tr>\n",
       "\t<tr><td>876</td><td>1</td><td>3</td><td>Najib, Miss. Adele Kiamie \"Jane\"                   </td><td>female</td><td>15.00</td><td>0</td><td>0</td><td>2667           </td><td>  7.2250</td><td>    </td><td>C</td></tr>\n",
       "\t<tr><td>880</td><td>1</td><td>1</td><td>Potter, Mrs. Thomas Jr (Lily Alexenia Wilson)      </td><td>female</td><td>56.00</td><td>0</td><td>1</td><td>11767          </td><td> 83.1583</td><td>C50 </td><td>C</td></tr>\n",
       "\t<tr><td>881</td><td>1</td><td>2</td><td>Shelley, Mrs. William (Imanita Parrish Hall)       </td><td>female</td><td>25.00</td><td>0</td><td>1</td><td>230433         </td><td> 26.0000</td><td>    </td><td>S</td></tr>\n",
       "\t<tr><td>888</td><td>1</td><td>1</td><td>Graham, Miss. Margaret Edith                       </td><td>female</td><td>19.00</td><td>0</td><td>0</td><td>112053         </td><td> 30.0000</td><td>B42 </td><td>S</td></tr>\n",
       "\t<tr><td>890</td><td>1</td><td>1</td><td>Behr, Mr. Karl Howell                              </td><td>male  </td><td>26.00</td><td>0</td><td>0</td><td>111369         </td><td> 30.0000</td><td>C148</td><td>C</td></tr>\n",
       "</tbody>\n",
       "</table>\n"
      ],
      "text/latex": [
       "A data.frame: 891 x 12\n",
       "\\begin{tabular}{llllllllllll}\n",
       " PassengerId & Survived & Pclass & Name & Sex & Age & SibSp & Parch & Ticket & Fare & Cabin & Embarked\\\\\n",
       " <int> & <int> & <int> & <chr> & <chr> & <dbl> & <int> & <int> & <chr> & <dbl> & <chr> & <chr>\\\\\n",
       "\\hline\n",
       "\t  1 & 0 & 3 & Braund, Mr. Owen Harris                                  & male   & 22 & 1 & 0 & A/5 21171       &   7.2500 &             & S\\\\\n",
       "\t  5 & 0 & 3 & Allen, Mr. William Henry                                 & male   & 35 & 0 & 0 & 373450          &   8.0500 &             & S\\\\\n",
       "\t  6 & 0 & 3 & Moran, Mr. James                                         & male   & NA & 0 & 0 & 330877          &   8.4583 &             & Q\\\\\n",
       "\t  7 & 0 & 1 & McCarthy, Mr. Timothy J                                  & male   & 54 & 0 & 0 & 17463           &  51.8625 & E46         & S\\\\\n",
       "\t  8 & 0 & 3 & Palsson, Master. Gosta Leonard                           & male   &  2 & 3 & 1 & 349909          &  21.0750 &             & S\\\\\n",
       "\t 13 & 0 & 3 & Saundercock, Mr. William Henry                           & male   & 20 & 0 & 0 & A/5. 2151       &   8.0500 &             & S\\\\\n",
       "\t 14 & 0 & 3 & Andersson, Mr. Anders Johan                              & male   & 39 & 1 & 5 & 347082          &  31.2750 &             & S\\\\\n",
       "\t 15 & 0 & 3 & Vestrom, Miss. Hulda Amanda Adolfina                     & female & 14 & 0 & 0 & 350406          &   7.8542 &             & S\\\\\n",
       "\t 17 & 0 & 3 & Rice, Master. Eugene                                     & male   &  2 & 4 & 1 & 382652          &  29.1250 &             & Q\\\\\n",
       "\t 19 & 0 & 3 & Vander Planke, Mrs. Julius (Emelia Maria Vandemoortele)  & female & 31 & 1 & 0 & 345763          &  18.0000 &             & S\\\\\n",
       "\t 21 & 0 & 2 & Fynney, Mr. Joseph J                                     & male   & 35 & 0 & 0 & 239865          &  26.0000 &             & S\\\\\n",
       "\t 25 & 0 & 3 & Palsson, Miss. Torborg Danira                            & female &  8 & 3 & 1 & 349909          &  21.0750 &             & S\\\\\n",
       "\t 27 & 0 & 3 & Emir, Mr. Farred Chehab                                  & male   & NA & 0 & 0 & 2631            &   7.2250 &             & C\\\\\n",
       "\t 28 & 0 & 1 & Fortune, Mr. Charles Alexander                           & male   & 19 & 3 & 2 & 19950           & 263.0000 & C23 C25 C27 & S\\\\\n",
       "\t 30 & 0 & 3 & Todoroff, Mr. Lalio                                      & male   & NA & 0 & 0 & 349216          &   7.8958 &             & S\\\\\n",
       "\t 31 & 0 & 1 & Uruchurtu, Don. Manuel E                                 & male   & 40 & 0 & 0 & PC 17601        &  27.7208 &             & C\\\\\n",
       "\t 34 & 0 & 2 & Wheadon, Mr. Edward H                                    & male   & 66 & 0 & 0 & C.A. 24579      &  10.5000 &             & S\\\\\n",
       "\t 35 & 0 & 1 & Meyer, Mr. Edgar Joseph                                  & male   & 28 & 1 & 0 & PC 17604        &  82.1708 &             & C\\\\\n",
       "\t 36 & 0 & 1 & Holverson, Mr. Alexander Oskar                           & male   & 42 & 1 & 0 & 113789          &  52.0000 &             & S\\\\\n",
       "\t 38 & 0 & 3 & Cann, Mr. Ernest Charles                                 & male   & 21 & 0 & 0 & A./5. 2152      &   8.0500 &             & S\\\\\n",
       "\t 39 & 0 & 3 & Vander Planke, Miss. Augusta Maria                       & female & 18 & 2 & 0 & 345764          &  18.0000 &             & S\\\\\n",
       "\t 41 & 0 & 3 & Ahlin, Mrs. Johan (Johanna Persdotter Larsson)           & female & 40 & 1 & 0 & 7546            &   9.4750 &             & S\\\\\n",
       "\t 42 & 0 & 2 & Turpin, Mrs. William John Robert (Dorothy Ann Wonnacott) & female & 27 & 1 & 0 & 11668           &  21.0000 &             & S\\\\\n",
       "\t 43 & 0 & 3 & Kraeff, Mr. Theodor                                      & male   & NA & 0 & 0 & 349253          &   7.8958 &             & C\\\\\n",
       "\t 46 & 0 & 3 & Rogers, Mr. William John                                 & male   & NA & 0 & 0 & S.C./A.4. 23567 &   8.0500 &             & S\\\\\n",
       "\t 47 & 0 & 3 & Lennon, Mr. Denis                                        & male   & NA & 1 & 0 & 370371          &  15.5000 &             & Q\\\\\n",
       "\t 49 & 0 & 3 & Samaan, Mr. Youssef                                      & male   & NA & 2 & 0 & 2662            &  21.6792 &             & C\\\\\n",
       "\t 50 & 0 & 3 & Arnold-Franchi, Mrs. Josef (Josefine Franchi)            & female & 18 & 1 & 0 & 349237          &  17.8000 &             & S\\\\\n",
       "\t 51 & 0 & 3 & Panula, Master. Juha Niilo                               & male   &  7 & 4 & 1 & 3101295         &  39.6875 &             & S\\\\\n",
       "\t 52 & 0 & 3 & Nosworthy, Mr. Richard Cater                             & male   & 21 & 0 & 0 & A/4. 39886      &   7.8000 &             & S\\\\\n",
       "\t ... & ... & ... & ... & ... & ... & ... & ... & ... & ... & ... & ...\\\\\n",
       "\t 810 & 1 & 1 & Chambers, Mrs. Norman Campbell (Bertha Griggs)      & female & 33.00 & 1 & 0 & 113806          &  53.1000 & E8   & S\\\\\n",
       "\t 821 & 1 & 1 & Hays, Mrs. Charles Melville (Clara Jennings Gregg)  & female & 52.00 & 1 & 1 & 12749           &  93.5000 & B69  & S\\\\\n",
       "\t 822 & 1 & 3 & Lulic, Mr. Nikola                                   & male   & 27.00 & 0 & 0 & 315098          &   8.6625 &      & S\\\\\n",
       "\t 824 & 1 & 3 & Moor, Mrs. (Beila)                                  & female & 27.00 & 0 & 1 & 392096          &  12.4750 & E121 & S\\\\\n",
       "\t 828 & 1 & 2 & Mallet, Master. Andre                               & male   &  1.00 & 0 & 2 & S.C./PARIS 2079 &  37.0042 &      & C\\\\\n",
       "\t 829 & 1 & 3 & McCormack, Mr. Thomas Joseph                        & male   &    NA & 0 & 0 & 367228          &   7.7500 &      & Q\\\\\n",
       "\t 830 & 1 & 1 & Stone, Mrs. George Nelson (Martha Evelyn)           & female & 62.00 & 0 & 0 & 113572          &  80.0000 & B28  &  \\\\\n",
       "\t 831 & 1 & 3 & Yasbeck, Mrs. Antoni (Selini Alexander)             & female & 15.00 & 1 & 0 & 2659            &  14.4542 &      & C\\\\\n",
       "\t 832 & 1 & 2 & Richards, Master. George Sibley                     & male   &  0.83 & 1 & 1 & 29106           &  18.7500 &      & S\\\\\n",
       "\t 836 & 1 & 1 & Compton, Miss. Sara Rebecca                         & female & 39.00 & 1 & 1 & PC 17756        &  83.1583 & E49  & C\\\\\n",
       "\t 839 & 1 & 3 & Chip, Mr. Chang                                     & male   & 32.00 & 0 & 0 & 1601            &  56.4958 &      & S\\\\\n",
       "\t 840 & 1 & 1 & Marechal, Mr. Pierre                                & male   &    NA & 0 & 0 & 11774           &  29.7000 & C47  & C\\\\\n",
       "\t 843 & 1 & 1 & Serepeca, Miss. Augusta                             & female & 30.00 & 0 & 0 & 113798          &  31.0000 &      & C\\\\\n",
       "\t 850 & 1 & 1 & Goldenberg, Mrs. Samuel L (Edwiga Grabowska)        & female &    NA & 1 & 0 & 17453           &  89.1042 & C92  & C\\\\\n",
       "\t 854 & 1 & 1 & Lines, Miss. Mary Conover                           & female & 16.00 & 0 & 1 & PC 17592        &  39.4000 & D28  & S\\\\\n",
       "\t 856 & 1 & 3 & Aks, Mrs. Sam (Leah Rosen)                          & female & 18.00 & 0 & 1 & 392091          &   9.3500 &      & S\\\\\n",
       "\t 857 & 1 & 1 & Wick, Mrs. George Dennick (Mary Hitchcock)          & female & 45.00 & 1 & 1 & 36928           & 164.8667 &      & S\\\\\n",
       "\t 858 & 1 & 1 & Daly, Mr. Peter Denis                               & male   & 51.00 & 0 & 0 & 113055          &  26.5500 & E17  & S\\\\\n",
       "\t 859 & 1 & 3 & Baclini, Mrs. Solomon (Latifa Qurban)               & female & 24.00 & 0 & 3 & 2666            &  19.2583 &      & C\\\\\n",
       "\t 863 & 1 & 1 & Swift, Mrs. Frederick Joel (Margaret Welles Barron) & female & 48.00 & 0 & 0 & 17466           &  25.9292 & D17  & S\\\\\n",
       "\t 866 & 1 & 2 & Bystrom, Mrs. (Karolina)                            & female & 42.00 & 0 & 0 & 236852          &  13.0000 &      & S\\\\\n",
       "\t 867 & 1 & 2 & Duran y More, Miss. Asuncion                        & female & 27.00 & 1 & 0 & SC/PARIS 2149   &  13.8583 &      & C\\\\\n",
       "\t 870 & 1 & 3 & Johnson, Master. Harold Theodor                     & male   &  4.00 & 1 & 1 & 347742          &  11.1333 &      & S\\\\\n",
       "\t 872 & 1 & 1 & Beckwith, Mrs. Richard Leonard (Sallie Monypeny)    & female & 47.00 & 1 & 1 & 11751           &  52.5542 & D35  & S\\\\\n",
       "\t 875 & 1 & 2 & Abelson, Mrs. Samuel (Hannah Wizosky)               & female & 28.00 & 1 & 0 & P/PP 3381       &  24.0000 &      & C\\\\\n",
       "\t 876 & 1 & 3 & Najib, Miss. Adele Kiamie \"Jane\"                    & female & 15.00 & 0 & 0 & 2667            &   7.2250 &      & C\\\\\n",
       "\t 880 & 1 & 1 & Potter, Mrs. Thomas Jr (Lily Alexenia Wilson)       & female & 56.00 & 0 & 1 & 11767           &  83.1583 & C50  & C\\\\\n",
       "\t 881 & 1 & 2 & Shelley, Mrs. William (Imanita Parrish Hall)        & female & 25.00 & 0 & 1 & 230433          &  26.0000 &      & S\\\\\n",
       "\t 888 & 1 & 1 & Graham, Miss. Margaret Edith                        & female & 19.00 & 0 & 0 & 112053          &  30.0000 & B42  & S\\\\\n",
       "\t 890 & 1 & 1 & Behr, Mr. Karl Howell                               & male   & 26.00 & 0 & 0 & 111369          &  30.0000 & C148 & C\\\\\n",
       "\\end{tabular}\n"
      ],
      "text/markdown": [
       "\n",
       "A data.frame: 891 x 12\n",
       "\n",
       "| PassengerId &lt;int&gt; | Survived &lt;int&gt; | Pclass &lt;int&gt; | Name &lt;chr&gt; | Sex &lt;chr&gt; | Age &lt;dbl&gt; | SibSp &lt;int&gt; | Parch &lt;int&gt; | Ticket &lt;chr&gt; | Fare &lt;dbl&gt; | Cabin &lt;chr&gt; | Embarked &lt;chr&gt; |\n",
       "|---|---|---|---|---|---|---|---|---|---|---|---|\n",
       "|  1 | 0 | 3 | Braund, Mr. Owen Harris                                  | male   | 22 | 1 | 0 | A/5 21171       |   7.2500 | <!----> | S |\n",
       "|  5 | 0 | 3 | Allen, Mr. William Henry                                 | male   | 35 | 0 | 0 | 373450          |   8.0500 | <!----> | S |\n",
       "|  6 | 0 | 3 | Moran, Mr. James                                         | male   | NA | 0 | 0 | 330877          |   8.4583 | <!----> | Q |\n",
       "|  7 | 0 | 1 | McCarthy, Mr. Timothy J                                  | male   | 54 | 0 | 0 | 17463           |  51.8625 | E46         | S |\n",
       "|  8 | 0 | 3 | Palsson, Master. Gosta Leonard                           | male   |  2 | 3 | 1 | 349909          |  21.0750 | <!----> | S |\n",
       "| 13 | 0 | 3 | Saundercock, Mr. William Henry                           | male   | 20 | 0 | 0 | A/5. 2151       |   8.0500 | <!----> | S |\n",
       "| 14 | 0 | 3 | Andersson, Mr. Anders Johan                              | male   | 39 | 1 | 5 | 347082          |  31.2750 | <!----> | S |\n",
       "| 15 | 0 | 3 | Vestrom, Miss. Hulda Amanda Adolfina                     | female | 14 | 0 | 0 | 350406          |   7.8542 | <!----> | S |\n",
       "| 17 | 0 | 3 | Rice, Master. Eugene                                     | male   |  2 | 4 | 1 | 382652          |  29.1250 | <!----> | Q |\n",
       "| 19 | 0 | 3 | Vander Planke, Mrs. Julius (Emelia Maria Vandemoortele)  | female | 31 | 1 | 0 | 345763          |  18.0000 | <!----> | S |\n",
       "| 21 | 0 | 2 | Fynney, Mr. Joseph J                                     | male   | 35 | 0 | 0 | 239865          |  26.0000 | <!----> | S |\n",
       "| 25 | 0 | 3 | Palsson, Miss. Torborg Danira                            | female |  8 | 3 | 1 | 349909          |  21.0750 | <!----> | S |\n",
       "| 27 | 0 | 3 | Emir, Mr. Farred Chehab                                  | male   | NA | 0 | 0 | 2631            |   7.2250 | <!----> | C |\n",
       "| 28 | 0 | 1 | Fortune, Mr. Charles Alexander                           | male   | 19 | 3 | 2 | 19950           | 263.0000 | C23 C25 C27 | S |\n",
       "| 30 | 0 | 3 | Todoroff, Mr. Lalio                                      | male   | NA | 0 | 0 | 349216          |   7.8958 | <!----> | S |\n",
       "| 31 | 0 | 1 | Uruchurtu, Don. Manuel E                                 | male   | 40 | 0 | 0 | PC 17601        |  27.7208 | <!----> | C |\n",
       "| 34 | 0 | 2 | Wheadon, Mr. Edward H                                    | male   | 66 | 0 | 0 | C.A. 24579      |  10.5000 | <!----> | S |\n",
       "| 35 | 0 | 1 | Meyer, Mr. Edgar Joseph                                  | male   | 28 | 1 | 0 | PC 17604        |  82.1708 | <!----> | C |\n",
       "| 36 | 0 | 1 | Holverson, Mr. Alexander Oskar                           | male   | 42 | 1 | 0 | 113789          |  52.0000 | <!----> | S |\n",
       "| 38 | 0 | 3 | Cann, Mr. Ernest Charles                                 | male   | 21 | 0 | 0 | A./5. 2152      |   8.0500 | <!----> | S |\n",
       "| 39 | 0 | 3 | Vander Planke, Miss. Augusta Maria                       | female | 18 | 2 | 0 | 345764          |  18.0000 | <!----> | S |\n",
       "| 41 | 0 | 3 | Ahlin, Mrs. Johan (Johanna Persdotter Larsson)           | female | 40 | 1 | 0 | 7546            |   9.4750 | <!----> | S |\n",
       "| 42 | 0 | 2 | Turpin, Mrs. William John Robert (Dorothy Ann Wonnacott) | female | 27 | 1 | 0 | 11668           |  21.0000 | <!----> | S |\n",
       "| 43 | 0 | 3 | Kraeff, Mr. Theodor                                      | male   | NA | 0 | 0 | 349253          |   7.8958 | <!----> | C |\n",
       "| 46 | 0 | 3 | Rogers, Mr. William John                                 | male   | NA | 0 | 0 | S.C./A.4. 23567 |   8.0500 | <!----> | S |\n",
       "| 47 | 0 | 3 | Lennon, Mr. Denis                                        | male   | NA | 1 | 0 | 370371          |  15.5000 | <!----> | Q |\n",
       "| 49 | 0 | 3 | Samaan, Mr. Youssef                                      | male   | NA | 2 | 0 | 2662            |  21.6792 | <!----> | C |\n",
       "| 50 | 0 | 3 | Arnold-Franchi, Mrs. Josef (Josefine Franchi)            | female | 18 | 1 | 0 | 349237          |  17.8000 | <!----> | S |\n",
       "| 51 | 0 | 3 | Panula, Master. Juha Niilo                               | male   |  7 | 4 | 1 | 3101295         |  39.6875 | <!----> | S |\n",
       "| 52 | 0 | 3 | Nosworthy, Mr. Richard Cater                             | male   | 21 | 0 | 0 | A/4. 39886      |   7.8000 | <!----> | S |\n",
       "| ... | ... | ... | ... | ... | ... | ... | ... | ... | ... | ... | ... |\n",
       "| 810 | 1 | 1 | Chambers, Mrs. Norman Campbell (Bertha Griggs)      | female | 33.00 | 1 | 0 | 113806          |  53.1000 | E8   | S |\n",
       "| 821 | 1 | 1 | Hays, Mrs. Charles Melville (Clara Jennings Gregg)  | female | 52.00 | 1 | 1 | 12749           |  93.5000 | B69  | S |\n",
       "| 822 | 1 | 3 | Lulic, Mr. Nikola                                   | male   | 27.00 | 0 | 0 | 315098          |   8.6625 | <!----> | S |\n",
       "| 824 | 1 | 3 | Moor, Mrs. (Beila)                                  | female | 27.00 | 0 | 1 | 392096          |  12.4750 | E121 | S |\n",
       "| 828 | 1 | 2 | Mallet, Master. Andre                               | male   |  1.00 | 0 | 2 | S.C./PARIS 2079 |  37.0042 | <!----> | C |\n",
       "| 829 | 1 | 3 | McCormack, Mr. Thomas Joseph                        | male   |    NA | 0 | 0 | 367228          |   7.7500 | <!----> | Q |\n",
       "| 830 | 1 | 1 | Stone, Mrs. George Nelson (Martha Evelyn)           | female | 62.00 | 0 | 0 | 113572          |  80.0000 | B28  | <!----> |\n",
       "| 831 | 1 | 3 | Yasbeck, Mrs. Antoni (Selini Alexander)             | female | 15.00 | 1 | 0 | 2659            |  14.4542 | <!----> | C |\n",
       "| 832 | 1 | 2 | Richards, Master. George Sibley                     | male   |  0.83 | 1 | 1 | 29106           |  18.7500 | <!----> | S |\n",
       "| 836 | 1 | 1 | Compton, Miss. Sara Rebecca                         | female | 39.00 | 1 | 1 | PC 17756        |  83.1583 | E49  | C |\n",
       "| 839 | 1 | 3 | Chip, Mr. Chang                                     | male   | 32.00 | 0 | 0 | 1601            |  56.4958 | <!----> | S |\n",
       "| 840 | 1 | 1 | Marechal, Mr. Pierre                                | male   |    NA | 0 | 0 | 11774           |  29.7000 | C47  | C |\n",
       "| 843 | 1 | 1 | Serepeca, Miss. Augusta                             | female | 30.00 | 0 | 0 | 113798          |  31.0000 | <!----> | C |\n",
       "| 850 | 1 | 1 | Goldenberg, Mrs. Samuel L (Edwiga Grabowska)        | female |    NA | 1 | 0 | 17453           |  89.1042 | C92  | C |\n",
       "| 854 | 1 | 1 | Lines, Miss. Mary Conover                           | female | 16.00 | 0 | 1 | PC 17592        |  39.4000 | D28  | S |\n",
       "| 856 | 1 | 3 | Aks, Mrs. Sam (Leah Rosen)                          | female | 18.00 | 0 | 1 | 392091          |   9.3500 | <!----> | S |\n",
       "| 857 | 1 | 1 | Wick, Mrs. George Dennick (Mary Hitchcock)          | female | 45.00 | 1 | 1 | 36928           | 164.8667 | <!----> | S |\n",
       "| 858 | 1 | 1 | Daly, Mr. Peter Denis                               | male   | 51.00 | 0 | 0 | 113055          |  26.5500 | E17  | S |\n",
       "| 859 | 1 | 3 | Baclini, Mrs. Solomon (Latifa Qurban)               | female | 24.00 | 0 | 3 | 2666            |  19.2583 | <!----> | C |\n",
       "| 863 | 1 | 1 | Swift, Mrs. Frederick Joel (Margaret Welles Barron) | female | 48.00 | 0 | 0 | 17466           |  25.9292 | D17  | S |\n",
       "| 866 | 1 | 2 | Bystrom, Mrs. (Karolina)                            | female | 42.00 | 0 | 0 | 236852          |  13.0000 | <!----> | S |\n",
       "| 867 | 1 | 2 | Duran y More, Miss. Asuncion                        | female | 27.00 | 1 | 0 | SC/PARIS 2149   |  13.8583 | <!----> | C |\n",
       "| 870 | 1 | 3 | Johnson, Master. Harold Theodor                     | male   |  4.00 | 1 | 1 | 347742          |  11.1333 | <!----> | S |\n",
       "| 872 | 1 | 1 | Beckwith, Mrs. Richard Leonard (Sallie Monypeny)    | female | 47.00 | 1 | 1 | 11751           |  52.5542 | D35  | S |\n",
       "| 875 | 1 | 2 | Abelson, Mrs. Samuel (Hannah Wizosky)               | female | 28.00 | 1 | 0 | P/PP 3381       |  24.0000 | <!----> | C |\n",
       "| 876 | 1 | 3 | Najib, Miss. Adele Kiamie \"Jane\"                    | female | 15.00 | 0 | 0 | 2667            |   7.2250 | <!----> | C |\n",
       "| 880 | 1 | 1 | Potter, Mrs. Thomas Jr (Lily Alexenia Wilson)       | female | 56.00 | 0 | 1 | 11767           |  83.1583 | C50  | C |\n",
       "| 881 | 1 | 2 | Shelley, Mrs. William (Imanita Parrish Hall)        | female | 25.00 | 0 | 1 | 230433          |  26.0000 | <!----> | S |\n",
       "| 888 | 1 | 1 | Graham, Miss. Margaret Edith                        | female | 19.00 | 0 | 0 | 112053          |  30.0000 | B42  | S |\n",
       "| 890 | 1 | 1 | Behr, Mr. Karl Howell                               | male   | 26.00 | 0 | 0 | 111369          |  30.0000 | C148 | C |\n",
       "\n"
      ],
      "text/plain": [
       "    PassengerId Survived Pclass\n",
       "1    1          0        3     \n",
       "2    5          0        3     \n",
       "3    6          0        3     \n",
       "4    7          0        1     \n",
       "5    8          0        3     \n",
       "6   13          0        3     \n",
       "7   14          0        3     \n",
       "8   15          0        3     \n",
       "9   17          0        3     \n",
       "10  19          0        3     \n",
       "11  21          0        2     \n",
       "12  25          0        3     \n",
       "13  27          0        3     \n",
       "14  28          0        1     \n",
       "15  30          0        3     \n",
       "16  31          0        1     \n",
       "17  34          0        2     \n",
       "18  35          0        1     \n",
       "19  36          0        1     \n",
       "20  38          0        3     \n",
       "21  39          0        3     \n",
       "22  41          0        3     \n",
       "23  42          0        2     \n",
       "24  43          0        3     \n",
       "25  46          0        3     \n",
       "26  47          0        3     \n",
       "27  49          0        3     \n",
       "28  50          0        3     \n",
       "29  51          0        3     \n",
       "30  52          0        3     \n",
       "... ...         ...      ...   \n",
       "862 810         1        1     \n",
       "863 821         1        1     \n",
       "864 822         1        3     \n",
       "865 824         1        3     \n",
       "866 828         1        2     \n",
       "867 829         1        3     \n",
       "868 830         1        1     \n",
       "869 831         1        3     \n",
       "870 832         1        2     \n",
       "871 836         1        1     \n",
       "872 839         1        3     \n",
       "873 840         1        1     \n",
       "874 843         1        1     \n",
       "875 850         1        1     \n",
       "876 854         1        1     \n",
       "877 856         1        3     \n",
       "878 857         1        1     \n",
       "879 858         1        1     \n",
       "880 859         1        3     \n",
       "881 863         1        1     \n",
       "882 866         1        2     \n",
       "883 867         1        2     \n",
       "884 870         1        3     \n",
       "885 872         1        1     \n",
       "886 875         1        2     \n",
       "887 876         1        3     \n",
       "888 880         1        1     \n",
       "889 881         1        2     \n",
       "890 888         1        1     \n",
       "891 890         1        1     \n",
       "    Name                                                     Sex    Age   SibSp\n",
       "1   Braund, Mr. Owen Harris                                  male   22    1    \n",
       "2   Allen, Mr. William Henry                                 male   35    0    \n",
       "3   Moran, Mr. James                                         male   NA    0    \n",
       "4   McCarthy, Mr. Timothy J                                  male   54    0    \n",
       "5   Palsson, Master. Gosta Leonard                           male    2    3    \n",
       "6   Saundercock, Mr. William Henry                           male   20    0    \n",
       "7   Andersson, Mr. Anders Johan                              male   39    1    \n",
       "8   Vestrom, Miss. Hulda Amanda Adolfina                     female 14    0    \n",
       "9   Rice, Master. Eugene                                     male    2    4    \n",
       "10  Vander Planke, Mrs. Julius (Emelia Maria Vandemoortele)  female 31    1    \n",
       "11  Fynney, Mr. Joseph J                                     male   35    0    \n",
       "12  Palsson, Miss. Torborg Danira                            female  8    3    \n",
       "13  Emir, Mr. Farred Chehab                                  male   NA    0    \n",
       "14  Fortune, Mr. Charles Alexander                           male   19    3    \n",
       "15  Todoroff, Mr. Lalio                                      male   NA    0    \n",
       "16  Uruchurtu, Don. Manuel E                                 male   40    0    \n",
       "17  Wheadon, Mr. Edward H                                    male   66    0    \n",
       "18  Meyer, Mr. Edgar Joseph                                  male   28    1    \n",
       "19  Holverson, Mr. Alexander Oskar                           male   42    1    \n",
       "20  Cann, Mr. Ernest Charles                                 male   21    0    \n",
       "21  Vander Planke, Miss. Augusta Maria                       female 18    2    \n",
       "22  Ahlin, Mrs. Johan (Johanna Persdotter Larsson)           female 40    1    \n",
       "23  Turpin, Mrs. William John Robert (Dorothy Ann Wonnacott) female 27    1    \n",
       "24  Kraeff, Mr. Theodor                                      male   NA    0    \n",
       "25  Rogers, Mr. William John                                 male   NA    0    \n",
       "26  Lennon, Mr. Denis                                        male   NA    1    \n",
       "27  Samaan, Mr. Youssef                                      male   NA    2    \n",
       "28  Arnold-Franchi, Mrs. Josef (Josefine Franchi)            female 18    1    \n",
       "29  Panula, Master. Juha Niilo                               male    7    4    \n",
       "30  Nosworthy, Mr. Richard Cater                             male   21    0    \n",
       "... ...                                                      ...    ...   ...  \n",
       "862 Chambers, Mrs. Norman Campbell (Bertha Griggs)           female 33.00 1    \n",
       "863 Hays, Mrs. Charles Melville (Clara Jennings Gregg)       female 52.00 1    \n",
       "864 Lulic, Mr. Nikola                                        male   27.00 0    \n",
       "865 Moor, Mrs. (Beila)                                       female 27.00 0    \n",
       "866 Mallet, Master. Andre                                    male    1.00 0    \n",
       "867 McCormack, Mr. Thomas Joseph                             male      NA 0    \n",
       "868 Stone, Mrs. George Nelson (Martha Evelyn)                female 62.00 0    \n",
       "869 Yasbeck, Mrs. Antoni (Selini Alexander)                  female 15.00 1    \n",
       "870 Richards, Master. George Sibley                          male    0.83 1    \n",
       "871 Compton, Miss. Sara Rebecca                              female 39.00 1    \n",
       "872 Chip, Mr. Chang                                          male   32.00 0    \n",
       "873 Marechal, Mr. Pierre                                     male      NA 0    \n",
       "874 Serepeca, Miss. Augusta                                  female 30.00 0    \n",
       "875 Goldenberg, Mrs. Samuel L (Edwiga Grabowska)             female    NA 1    \n",
       "876 Lines, Miss. Mary Conover                                female 16.00 0    \n",
       "877 Aks, Mrs. Sam (Leah Rosen)                               female 18.00 0    \n",
       "878 Wick, Mrs. George Dennick (Mary Hitchcock)               female 45.00 1    \n",
       "879 Daly, Mr. Peter Denis                                    male   51.00 0    \n",
       "880 Baclini, Mrs. Solomon (Latifa Qurban)                    female 24.00 0    \n",
       "881 Swift, Mrs. Frederick Joel (Margaret Welles Barron)      female 48.00 0    \n",
       "882 Bystrom, Mrs. (Karolina)                                 female 42.00 0    \n",
       "883 Duran y More, Miss. Asuncion                             female 27.00 1    \n",
       "884 Johnson, Master. Harold Theodor                          male    4.00 1    \n",
       "885 Beckwith, Mrs. Richard Leonard (Sallie Monypeny)         female 47.00 1    \n",
       "886 Abelson, Mrs. Samuel (Hannah Wizosky)                    female 28.00 1    \n",
       "887 Najib, Miss. Adele Kiamie \"Jane\"                         female 15.00 0    \n",
       "888 Potter, Mrs. Thomas Jr (Lily Alexenia Wilson)            female 56.00 0    \n",
       "889 Shelley, Mrs. William (Imanita Parrish Hall)             female 25.00 0    \n",
       "890 Graham, Miss. Margaret Edith                             female 19.00 0    \n",
       "891 Behr, Mr. Karl Howell                                    male   26.00 0    \n",
       "    Parch Ticket          Fare     Cabin       Embarked\n",
       "1   0     A/5 21171         7.2500             S       \n",
       "2   0     373450            8.0500             S       \n",
       "3   0     330877            8.4583             Q       \n",
       "4   0     17463            51.8625 E46         S       \n",
       "5   1     349909           21.0750             S       \n",
       "6   0     A/5. 2151         8.0500             S       \n",
       "7   5     347082           31.2750             S       \n",
       "8   0     350406            7.8542             S       \n",
       "9   1     382652           29.1250             Q       \n",
       "10  0     345763           18.0000             S       \n",
       "11  0     239865           26.0000             S       \n",
       "12  1     349909           21.0750             S       \n",
       "13  0     2631              7.2250             C       \n",
       "14  2     19950           263.0000 C23 C25 C27 S       \n",
       "15  0     349216            7.8958             S       \n",
       "16  0     PC 17601         27.7208             C       \n",
       "17  0     C.A. 24579       10.5000             S       \n",
       "18  0     PC 17604         82.1708             C       \n",
       "19  0     113789           52.0000             S       \n",
       "20  0     A./5. 2152        8.0500             S       \n",
       "21  0     345764           18.0000             S       \n",
       "22  0     7546              9.4750             S       \n",
       "23  0     11668            21.0000             S       \n",
       "24  0     349253            7.8958             C       \n",
       "25  0     S.C./A.4. 23567   8.0500             S       \n",
       "26  0     370371           15.5000             Q       \n",
       "27  0     2662             21.6792             C       \n",
       "28  0     349237           17.8000             S       \n",
       "29  1     3101295          39.6875             S       \n",
       "30  0     A/4. 39886        7.8000             S       \n",
       "... ...   ...             ...      ...         ...     \n",
       "862 0     113806           53.1000 E8          S       \n",
       "863 1     12749            93.5000 B69         S       \n",
       "864 0     315098            8.6625             S       \n",
       "865 1     392096           12.4750 E121        S       \n",
       "866 2     S.C./PARIS 2079  37.0042             C       \n",
       "867 0     367228            7.7500             Q       \n",
       "868 0     113572           80.0000 B28                 \n",
       "869 0     2659             14.4542             C       \n",
       "870 1     29106            18.7500             S       \n",
       "871 1     PC 17756         83.1583 E49         C       \n",
       "872 0     1601             56.4958             S       \n",
       "873 0     11774            29.7000 C47         C       \n",
       "874 0     113798           31.0000             C       \n",
       "875 0     17453            89.1042 C92         C       \n",
       "876 1     PC 17592         39.4000 D28         S       \n",
       "877 1     392091            9.3500             S       \n",
       "878 1     36928           164.8667             S       \n",
       "879 0     113055           26.5500 E17         S       \n",
       "880 3     2666             19.2583             C       \n",
       "881 0     17466            25.9292 D17         S       \n",
       "882 0     236852           13.0000             S       \n",
       "883 0     SC/PARIS 2149    13.8583             C       \n",
       "884 1     347742           11.1333             S       \n",
       "885 1     11751            52.5542 D35         S       \n",
       "886 0     P/PP 3381        24.0000             C       \n",
       "887 0     2667              7.2250             C       \n",
       "888 1     11767            83.1583 C50         C       \n",
       "889 1     230433           26.0000             S       \n",
       "890 0     112053           30.0000 B42         S       \n",
       "891 0     111369           30.0000 C148        C       "
      ]
     },
     "metadata": {},
     "output_type": "display_data"
    }
   ],
   "source": [
    "# Survived 기준으로 정렬\n",
    "library(dplyr)\n",
    "train_tf <- arrange(train_tf, train_tf$Survived)\n",
    "train_tf\n"
   ]
  },
  {
   "cell_type": "code",
   "execution_count": 8,
   "metadata": {
    "vscode": {
     "languageId": "r"
    }
   },
   "outputs": [
    {
     "data": {
      "text/html": [
       "<table class=\"dataframe\">\n",
       "<caption>A data.frame: 6 x 12</caption>\n",
       "<thead>\n",
       "\t<tr><th></th><th scope=col>PassengerId</th><th scope=col>Survived</th><th scope=col>Pclass</th><th scope=col>Name</th><th scope=col>Sex</th><th scope=col>Age</th><th scope=col>SibSp</th><th scope=col>Parch</th><th scope=col>Ticket</th><th scope=col>Fare</th><th scope=col>Cabin</th><th scope=col>Embarked</th></tr>\n",
       "\t<tr><th></th><th scope=col>&lt;int&gt;</th><th scope=col>&lt;int&gt;</th><th scope=col>&lt;int&gt;</th><th scope=col>&lt;chr&gt;</th><th scope=col>&lt;chr&gt;</th><th scope=col>&lt;dbl&gt;</th><th scope=col>&lt;int&gt;</th><th scope=col>&lt;int&gt;</th><th scope=col>&lt;chr&gt;</th><th scope=col>&lt;dbl&gt;</th><th scope=col>&lt;chr&gt;</th><th scope=col>&lt;chr&gt;</th></tr>\n",
       "</thead>\n",
       "<tbody>\n",
       "\t<tr><th scope=row>886</th><td>875</td><td>1</td><td>2</td><td>Abelson, Mrs. Samuel (Hannah Wizosky)        </td><td>female</td><td>28</td><td>1</td><td>0</td><td>P/PP 3381</td><td>24.0000</td><td>    </td><td>C</td></tr>\n",
       "\t<tr><th scope=row>887</th><td>876</td><td>1</td><td>3</td><td>Najib, Miss. Adele Kiamie \"Jane\"             </td><td>female</td><td>15</td><td>0</td><td>0</td><td>2667     </td><td> 7.2250</td><td>    </td><td>C</td></tr>\n",
       "\t<tr><th scope=row>888</th><td>880</td><td>1</td><td>1</td><td>Potter, Mrs. Thomas Jr (Lily Alexenia Wilson)</td><td>female</td><td>56</td><td>0</td><td>1</td><td>11767    </td><td>83.1583</td><td>C50 </td><td>C</td></tr>\n",
       "\t<tr><th scope=row>889</th><td>881</td><td>1</td><td>2</td><td>Shelley, Mrs. William (Imanita Parrish Hall) </td><td>female</td><td>25</td><td>0</td><td>1</td><td>230433   </td><td>26.0000</td><td>    </td><td>S</td></tr>\n",
       "\t<tr><th scope=row>890</th><td>888</td><td>1</td><td>1</td><td>Graham, Miss. Margaret Edith                 </td><td>female</td><td>19</td><td>0</td><td>0</td><td>112053   </td><td>30.0000</td><td>B42 </td><td>S</td></tr>\n",
       "\t<tr><th scope=row>891</th><td>890</td><td>1</td><td>1</td><td>Behr, Mr. Karl Howell                        </td><td>male  </td><td>26</td><td>0</td><td>0</td><td>111369   </td><td>30.0000</td><td>C148</td><td>C</td></tr>\n",
       "</tbody>\n",
       "</table>\n"
      ],
      "text/latex": [
       "A data.frame: 6 x 12\n",
       "\\begin{tabular}{r|llllllllllll}\n",
       "  & PassengerId & Survived & Pclass & Name & Sex & Age & SibSp & Parch & Ticket & Fare & Cabin & Embarked\\\\\n",
       "  & <int> & <int> & <int> & <chr> & <chr> & <dbl> & <int> & <int> & <chr> & <dbl> & <chr> & <chr>\\\\\n",
       "\\hline\n",
       "\t886 & 875 & 1 & 2 & Abelson, Mrs. Samuel (Hannah Wizosky)         & female & 28 & 1 & 0 & P/PP 3381 & 24.0000 &      & C\\\\\n",
       "\t887 & 876 & 1 & 3 & Najib, Miss. Adele Kiamie \"Jane\"              & female & 15 & 0 & 0 & 2667      &  7.2250 &      & C\\\\\n",
       "\t888 & 880 & 1 & 1 & Potter, Mrs. Thomas Jr (Lily Alexenia Wilson) & female & 56 & 0 & 1 & 11767     & 83.1583 & C50  & C\\\\\n",
       "\t889 & 881 & 1 & 2 & Shelley, Mrs. William (Imanita Parrish Hall)  & female & 25 & 0 & 1 & 230433    & 26.0000 &      & S\\\\\n",
       "\t890 & 888 & 1 & 1 & Graham, Miss. Margaret Edith                  & female & 19 & 0 & 0 & 112053    & 30.0000 & B42  & S\\\\\n",
       "\t891 & 890 & 1 & 1 & Behr, Mr. Karl Howell                         & male   & 26 & 0 & 0 & 111369    & 30.0000 & C148 & C\\\\\n",
       "\\end{tabular}\n"
      ],
      "text/markdown": [
       "\n",
       "A data.frame: 6 x 12\n",
       "\n",
       "| <!--/--> | PassengerId &lt;int&gt; | Survived &lt;int&gt; | Pclass &lt;int&gt; | Name &lt;chr&gt; | Sex &lt;chr&gt; | Age &lt;dbl&gt; | SibSp &lt;int&gt; | Parch &lt;int&gt; | Ticket &lt;chr&gt; | Fare &lt;dbl&gt; | Cabin &lt;chr&gt; | Embarked &lt;chr&gt; |\n",
       "|---|---|---|---|---|---|---|---|---|---|---|---|---|\n",
       "| 886 | 875 | 1 | 2 | Abelson, Mrs. Samuel (Hannah Wizosky)         | female | 28 | 1 | 0 | P/PP 3381 | 24.0000 | <!----> | C |\n",
       "| 887 | 876 | 1 | 3 | Najib, Miss. Adele Kiamie \"Jane\"              | female | 15 | 0 | 0 | 2667      |  7.2250 | <!----> | C |\n",
       "| 888 | 880 | 1 | 1 | Potter, Mrs. Thomas Jr (Lily Alexenia Wilson) | female | 56 | 0 | 1 | 11767     | 83.1583 | C50  | C |\n",
       "| 889 | 881 | 1 | 2 | Shelley, Mrs. William (Imanita Parrish Hall)  | female | 25 | 0 | 1 | 230433    | 26.0000 | <!----> | S |\n",
       "| 890 | 888 | 1 | 1 | Graham, Miss. Margaret Edith                  | female | 19 | 0 | 0 | 112053    | 30.0000 | B42  | S |\n",
       "| 891 | 890 | 1 | 1 | Behr, Mr. Karl Howell                         | male   | 26 | 0 | 0 | 111369    | 30.0000 | C148 | C |\n",
       "\n"
      ],
      "text/plain": [
       "    PassengerId Survived Pclass Name                                         \n",
       "886 875         1        2      Abelson, Mrs. Samuel (Hannah Wizosky)        \n",
       "887 876         1        3      Najib, Miss. Adele Kiamie \"Jane\"             \n",
       "888 880         1        1      Potter, Mrs. Thomas Jr (Lily Alexenia Wilson)\n",
       "889 881         1        2      Shelley, Mrs. William (Imanita Parrish Hall) \n",
       "890 888         1        1      Graham, Miss. Margaret Edith                 \n",
       "891 890         1        1      Behr, Mr. Karl Howell                        \n",
       "    Sex    Age SibSp Parch Ticket    Fare    Cabin Embarked\n",
       "886 female 28  1     0     P/PP 3381 24.0000       C       \n",
       "887 female 15  0     0     2667       7.2250       C       \n",
       "888 female 56  0     1     11767     83.1583 C50   C       \n",
       "889 female 25  0     1     230433    26.0000       S       \n",
       "890 female 19  0     0     112053    30.0000 B42   S       \n",
       "891 male   26  0     0     111369    30.0000 C148  C       "
      ]
     },
     "metadata": {},
     "output_type": "display_data"
    }
   ],
   "source": [
    "tail(train_tf)"
   ]
  },
  {
   "cell_type": "markdown",
   "metadata": {},
   "source": [
    "# Target Column 성립한가?"
   ]
  },
  {
   "cell_type": "code",
   "execution_count": 9,
   "metadata": {
    "vscode": {
     "languageId": "r"
    }
   },
   "outputs": [
    {
     "data": {
      "text/plain": [
       "\n",
       "  0   1 \n",
       "549 342 "
      ]
     },
     "metadata": {},
     "output_type": "display_data"
    },
    {
     "data": {
      "text/html": [
       "891"
      ],
      "text/latex": [
       "891"
      ],
      "text/markdown": [
       "891"
      ],
      "text/plain": [
       "[1] 891"
      ]
     },
     "metadata": {},
     "output_type": "display_data"
    },
    {
     "data": {
      "text/html": [
       "38.3838383838384"
      ],
      "text/latex": [
       "38.3838383838384"
      ],
      "text/markdown": [
       "38.3838383838384"
      ],
      "text/plain": [
       "[1] 38.38384"
      ]
     },
     "metadata": {},
     "output_type": "display_data"
    },
    {
     "data": {
      "text/html": [
       "61.62"
      ],
      "text/latex": [
       "61.62"
      ],
      "text/markdown": [
       "61.62"
      ],
      "text/plain": [
       "[1] 61.62"
      ]
     },
     "metadata": {},
     "output_type": "display_data"
    }
   ],
   "source": [
    "# Survived 의 생존과 사망의 비율 검토\n",
    "table(train_tf$Survived)\n",
    "nrow(train_tf)\n",
    "\n",
    "342 / 891 * 100\n",
    "\n",
    "round(nrow(subset(train_tf, Survived == 0)) / nrow(train_tf) * 100,2)\n"
   ]
  },
  {
   "cell_type": "code",
   "execution_count": 10,
   "metadata": {
    "vscode": {
     "languageId": "r"
    }
   },
   "outputs": [],
   "source": [
    "# 너무김\n",
    "label = c(paste(\"사망\\n\",round(nrow(subset(train_tf, Survived == 0)) / nrow(train_tf) * 100,2),\"%\")\n",
    ", paste(\"사망\\n\",round(nrow(subset(train_tf, Survived == 1)) / nrow(train_tf) * 100,2),\"%\")\n",
    ")\n",
    "\n"
   ]
  },
  {
   "cell_type": "code",
   "execution_count": 11,
   "metadata": {
    "vscode": {
     "languageId": "r"
    }
   },
   "outputs": [
    {
     "ename": "ERROR",
     "evalue": "Error in parse(text = x, srcfile = src): <text>:9:29: 예기치 않은 ','입니다\n8: \n9: lable2 = round(c(paste((\"사망\",\n                               ^\n",
     "output_type": "error",
     "traceback": [
      "Error in parse(text = x, srcfile = src): <text>:9:29: 예기치 않은 ','입니다\n8: \n9: lable2 = round(c(paste((\"사망\",\n                               ^\nTraceback:\n"
     ]
    }
   ],
   "source": [
    "# 짧은버전 \n",
    "# 1\n",
    "\n",
    "aa <- data.frame(c(table(train_tf$Survived)))\n",
    "aa\n",
    "\n",
    "aa[3,]\n",
    "\n",
    "lable2 = round(c(paste((\"사망\",aa[1,] / nrow(train_tf) * 100,\"%\")),paste(\"생존\", aa[2,] /nrow(train_tf)  * 100,\"%\" )),2)\n",
    "\n",
    "\n",
    "par(family = 'AppleGothic',bg = 'white')\n",
    "pie3D(table(train_tf$Survived),\n",
    "    main = \"타이타닉호 생존율\",\n",
    "    labels = lable2,\n",
    "     labelcex = 1.2,\n",
    "     radius = 0.9, \n",
    "     explode = 0.05\n",
    ")"
   ]
  },
  {
   "cell_type": "code",
   "execution_count": null,
   "metadata": {
    "vscode": {
     "languageId": "r"
    }
   },
   "outputs": [
    {
     "data": {
      "image/png": "[encoded data removed]",
      "text/plain": [
       "Plot with title “타이타닉호 생존율”"
      ]
     },
     "metadata": {
      "image/png": {
       "height": 540,
       "width": 900
      }
     },
     "output_type": "display_data"
    }
   ],
   "source": [
    "library(plotrix)\n",
    "par(family = 'AppleGothic',bg = 'white')\n",
    "pie3D(table(train_tf$Survived),\n",
    "    main = \"타이타닉호 생존율\",\n",
    "    labels = label,\n",
    "     labelcex = 1.2,\n",
    "     radius = 0.9, \n",
    "     explode = 0.05\n",
    ")"
   ]
  },
  {
   "cell_type": "code",
   "execution_count": null,
   "metadata": {
    "vscode": {
     "languageId": "r"
    }
   },
   "outputs": [
    {
     "data": {
      "image/png": "[encoded data removed]",
      "text/plain": [
       "Plot with title “타이타닉호 생존수와 사망수”"
      ]
     },
     "metadata": {
      "image/png": {
       "height": 540,
       "width": 900
      }
     },
     "output_type": "display_data"
    }
   ],
   "source": [
    "par(family = 'AppleGothic',bg = 'white')\n",
    "barplot(table(train_tf$Survived),\n",
    "           main = \"타이타닉호 생존수와 사망수\" ,\n",
    "           xlab = \" 생존여부\",\n",
    "           ylab = \" 인원수\",\n",
    "           ylim = c(0,600),\n",
    "           col = ifelse( train_tf$Survived == 0, 'red','blue'),\n",
    "           \n",
    "           )"
   ]
  },
  {
   "cell_type": "markdown",
   "metadata": {},
   "source": [
    "Survived 컬럼은 Target 으로 적합하다"
   ]
  },
  {
   "cell_type": "markdown",
   "metadata": {},
   "source": [
    "Feature Colunm"
   ]
  },
  {
   "cell_type": "code",
   "execution_count": null,
   "metadata": {
    "vscode": {
     "languageId": "r"
    }
   },
   "outputs": [
    {
     "data": {
      "text/html": [
       "<table class=\"dataframe\">\n",
       "<caption>A data.frame: 6 x 12</caption>\n",
       "<thead>\n",
       "\t<tr><th></th><th scope=col>PassengerId</th><th scope=col>Survived</th><th scope=col>Pclass</th><th scope=col>Name</th><th scope=col>Sex</th><th scope=col>Age</th><th scope=col>SibSp</th><th scope=col>Parch</th><th scope=col>Ticket</th><th scope=col>Fare</th><th scope=col>Cabin</th><th scope=col>Embarked</th></tr>\n",
       "\t<tr><th></th><th scope=col>&lt;int&gt;</th><th scope=col>&lt;int&gt;</th><th scope=col>&lt;int&gt;</th><th scope=col>&lt;chr&gt;</th><th scope=col>&lt;chr&gt;</th><th scope=col>&lt;dbl&gt;</th><th scope=col>&lt;int&gt;</th><th scope=col>&lt;int&gt;</th><th scope=col>&lt;chr&gt;</th><th scope=col>&lt;dbl&gt;</th><th scope=col>&lt;chr&gt;</th><th scope=col>&lt;chr&gt;</th></tr>\n",
       "</thead>\n",
       "<tbody>\n",
       "\t<tr><th scope=row>1</th><td>1</td><td>0</td><td>3</td><td>Braund, Mr. Owen Harris                            </td><td>male  </td><td>22</td><td>1</td><td>0</td><td>A/5 21171       </td><td> 7.2500</td><td>    </td><td>S</td></tr>\n",
       "\t<tr><th scope=row>2</th><td>2</td><td>1</td><td>1</td><td>Cumings, Mrs. John Bradley (Florence Briggs Thayer)</td><td>female</td><td>38</td><td>1</td><td>0</td><td>PC 17599        </td><td>71.2833</td><td>C85 </td><td>C</td></tr>\n",
       "\t<tr><th scope=row>3</th><td>3</td><td>1</td><td>3</td><td>Heikkinen, Miss. Laina                             </td><td>female</td><td>26</td><td>0</td><td>0</td><td>STON/O2. 3101282</td><td> 7.9250</td><td>    </td><td>S</td></tr>\n",
       "\t<tr><th scope=row>4</th><td>4</td><td>1</td><td>1</td><td>Futrelle, Mrs. Jacques Heath (Lily May Peel)       </td><td>female</td><td>35</td><td>1</td><td>0</td><td>113803          </td><td>53.1000</td><td>C123</td><td>S</td></tr>\n",
       "\t<tr><th scope=row>5</th><td>5</td><td>0</td><td>3</td><td>Allen, Mr. William Henry                           </td><td>male  </td><td>35</td><td>0</td><td>0</td><td>373450          </td><td> 8.0500</td><td>    </td><td>S</td></tr>\n",
       "\t<tr><th scope=row>6</th><td>6</td><td>0</td><td>3</td><td>Moran, Mr. James                                   </td><td>male  </td><td>NA</td><td>0</td><td>0</td><td>330877          </td><td> 8.4583</td><td>    </td><td>Q</td></tr>\n",
       "</tbody>\n",
       "</table>\n"
      ],
      "text/latex": [
       "A data.frame: 6 x 12\n",
       "\\begin{tabular}{r|llllllllllll}\n",
       "  & PassengerId & Survived & Pclass & Name & Sex & Age & SibSp & Parch & Ticket & Fare & Cabin & Embarked\\\\\n",
       "  & <int> & <int> & <int> & <chr> & <chr> & <dbl> & <int> & <int> & <chr> & <dbl> & <chr> & <chr>\\\\\n",
       "\\hline\n",
       "\t1 & 1 & 0 & 3 & Braund, Mr. Owen Harris                             & male   & 22 & 1 & 0 & A/5 21171        &  7.2500 &      & S\\\\\n",
       "\t2 & 2 & 1 & 1 & Cumings, Mrs. John Bradley (Florence Briggs Thayer) & female & 38 & 1 & 0 & PC 17599         & 71.2833 & C85  & C\\\\\n",
       "\t3 & 3 & 1 & 3 & Heikkinen, Miss. Laina                              & female & 26 & 0 & 0 & STON/O2. 3101282 &  7.9250 &      & S\\\\\n",
       "\t4 & 4 & 1 & 1 & Futrelle, Mrs. Jacques Heath (Lily May Peel)        & female & 35 & 1 & 0 & 113803           & 53.1000 & C123 & S\\\\\n",
       "\t5 & 5 & 0 & 3 & Allen, Mr. William Henry                            & male   & 35 & 0 & 0 & 373450           &  8.0500 &      & S\\\\\n",
       "\t6 & 6 & 0 & 3 & Moran, Mr. James                                    & male   & NA & 0 & 0 & 330877           &  8.4583 &      & Q\\\\\n",
       "\\end{tabular}\n"
      ],
      "text/markdown": [
       "\n",
       "A data.frame: 6 x 12\n",
       "\n",
       "| <!--/--> | PassengerId &lt;int&gt; | Survived &lt;int&gt; | Pclass &lt;int&gt; | Name &lt;chr&gt; | Sex &lt;chr&gt; | Age &lt;dbl&gt; | SibSp &lt;int&gt; | Parch &lt;int&gt; | Ticket &lt;chr&gt; | Fare &lt;dbl&gt; | Cabin &lt;chr&gt; | Embarked &lt;chr&gt; |\n",
       "|---|---|---|---|---|---|---|---|---|---|---|---|---|\n",
       "| 1 | 1 | 0 | 3 | Braund, Mr. Owen Harris                             | male   | 22 | 1 | 0 | A/5 21171        |  7.2500 | <!----> | S |\n",
       "| 2 | 2 | 1 | 1 | Cumings, Mrs. John Bradley (Florence Briggs Thayer) | female | 38 | 1 | 0 | PC 17599         | 71.2833 | C85  | C |\n",
       "| 3 | 3 | 1 | 3 | Heikkinen, Miss. Laina                              | female | 26 | 0 | 0 | STON/O2. 3101282 |  7.9250 | <!----> | S |\n",
       "| 4 | 4 | 1 | 1 | Futrelle, Mrs. Jacques Heath (Lily May Peel)        | female | 35 | 1 | 0 | 113803           | 53.1000 | C123 | S |\n",
       "| 5 | 5 | 0 | 3 | Allen, Mr. William Henry                            | male   | 35 | 0 | 0 | 373450           |  8.0500 | <!----> | S |\n",
       "| 6 | 6 | 0 | 3 | Moran, Mr. James                                    | male   | NA | 0 | 0 | 330877           |  8.4583 | <!----> | Q |\n",
       "\n"
      ],
      "text/plain": [
       "  PassengerId Survived Pclass\n",
       "1 1           0        3     \n",
       "2 2           1        1     \n",
       "3 3           1        3     \n",
       "4 4           1        1     \n",
       "5 5           0        3     \n",
       "6 6           0        3     \n",
       "  Name                                                Sex    Age SibSp Parch\n",
       "1 Braund, Mr. Owen Harris                             male   22  1     0    \n",
       "2 Cumings, Mrs. John Bradley (Florence Briggs Thayer) female 38  1     0    \n",
       "3 Heikkinen, Miss. Laina                              female 26  0     0    \n",
       "4 Futrelle, Mrs. Jacques Heath (Lily May Peel)        female 35  1     0    \n",
       "5 Allen, Mr. William Henry                            male   35  0     0    \n",
       "6 Moran, Mr. James                                    male   NA  0     0    \n",
       "  Ticket           Fare    Cabin Embarked\n",
       "1 A/5 21171         7.2500       S       \n",
       "2 PC 17599         71.2833 C85   C       \n",
       "3 STON/O2. 3101282  7.9250       S       \n",
       "4 113803           53.1000 C123  S       \n",
       "5 373450            8.0500       S       \n",
       "6 330877            8.4583       Q       "
      ]
     },
     "metadata": {},
     "output_type": "display_data"
    }
   ],
   "source": [
    "head(train_tf)"
   ]
  },
  {
   "cell_type": "code",
   "execution_count": null,
   "metadata": {
    "vscode": {
     "languageId": "r"
    }
   },
   "outputs": [
    {
     "data": {
      "text/plain": [
       "\n",
       "female   male \n",
       "   314    577 "
      ]
     },
     "metadata": {},
     "output_type": "display_data"
    },
    {
     "data": {
      "text/html": [
       "891"
      ],
      "text/latex": [
       "891"
      ],
      "text/markdown": [
       "891"
      ],
      "text/plain": [
       "[1] 891"
      ]
     },
     "metadata": {},
     "output_type": "display_data"
    }
   ],
   "source": [
    "# Sex 컬럼 분류 확인\n",
    "table(train_tf$Sex)\n",
    "nrow(train_tf)"
   ]
  },
  {
   "cell_type": "code",
   "execution_count": null,
   "metadata": {
    "vscode": {
     "languageId": "r"
    }
   },
   "outputs": [],
   "source": [
    "# 여성의 인원과 남성의 인원 확인\n",
    "\n",
    "\n"
   ]
  },
  {
   "cell_type": "code",
   "execution_count": null,
   "metadata": {
    "vscode": {
     "languageId": "r"
    }
   },
   "outputs": [],
   "source": [
    "# 여성의 생존과 사망 인원\n",
    "#table(subset(train_tf$Sex,Sex == 'male'))\n",
    "#apply(subset(train))\n",
    "#apply(subset(train_tf, Sex == 'male'),2,sum)\n",
    " \n",
    "#dd <- subset(train_tf, Sex == 'male')\n",
    "\n",
    "#apply(dd,,sum)\n",
    "# 남성의 생존과 사망 인원\n",
    "# 84, 233\n",
    "# 468, 105 \n",
    "#aggregate(train_tf$Sex ~ train_tf$Survived, train_tf,sum)\n",
    "\n",
    "\n",
    "\n"
   ]
  },
  {
   "cell_type": "code",
   "execution_count": null,
   "metadata": {
    "vscode": {
     "languageId": "r"
    }
   },
   "outputs": [
    {
     "data": {
      "text/html": [
       "577"
      ],
      "text/latex": [
       "577"
      ],
      "text/markdown": [
       "577"
      ],
      "text/plain": [
       "[1] 577"
      ]
     },
     "metadata": {},
     "output_type": "display_data"
    },
    {
     "data": {
      "text/html": [
       "468"
      ],
      "text/latex": [
       "468"
      ],
      "text/markdown": [
       "468"
      ],
      "text/plain": [
       "[1] 468"
      ]
     },
     "metadata": {},
     "output_type": "display_data"
    },
    {
     "data": {
      "text/html": [
       "109"
      ],
      "text/latex": [
       "109"
      ],
      "text/markdown": [
       "109"
      ],
      "text/plain": [
       "[1] 109"
      ]
     },
     "metadata": {},
     "output_type": "display_data"
    },
    {
     "data": {
      "text/html": [
       "314"
      ],
      "text/latex": [
       "314"
      ],
      "text/markdown": [
       "314"
      ],
      "text/plain": [
       "[1] 314"
      ]
     },
     "metadata": {},
     "output_type": "display_data"
    },
    {
     "data": {
      "text/html": [
       "81"
      ],
      "text/latex": [
       "81"
      ],
      "text/markdown": [
       "81"
      ],
      "text/plain": [
       "[1] 81"
      ]
     },
     "metadata": {},
     "output_type": "display_data"
    },
    {
     "data": {
      "text/html": [
       "233"
      ],
      "text/latex": [
       "233"
      ],
      "text/markdown": [
       "233"
      ],
      "text/plain": [
       "[1] 233"
      ]
     },
     "metadata": {},
     "output_type": "display_data"
    }
   ],
   "source": [
    "#table()\n",
    "nrow(subset(train_tf, Sex == 'male'))\n",
    "qqq <- subset(train_tf, Sex == 'male') \n",
    "www <- subset(train_tf, Sex == 'female') \n",
    "\n",
    " nrow(subset(qqq, Survived == 0))\n",
    "\n",
    "  nrow(subset(qqq, Survived == 1))\n",
    "nrow(subset(train_tf, Sex == 'female'))\n",
    "   nrow(subset(www, Survived == 0))\n",
    "\n",
    "  nrow(subset(www, Survived == 1))\n",
    "\n",
    "\n"
   ]
  },
  {
   "cell_type": "code",
   "execution_count": null,
   "metadata": {
    "vscode": {
     "languageId": "r"
    }
   },
   "outputs": [
    {
     "ename": "ERROR",
     "evalue": "Error in parse(text = x, srcfile = src): <text>:3:0: 예상하지 못한 입력의 끝(end of input)입니다.\n1: par(family = 'AppleGothic',bg = 'white')\n2: pie3D(table()\n  ^\n",
     "output_type": "error",
     "traceback": [
      "Error in parse(text = x, srcfile = src): <text>:3:0: 예상하지 못한 입력의 끝(end of input)입니다.\n1: par(family = 'AppleGothic',bg = 'white')\n2: pie3D(table()\n  ^\nTraceback:\n"
     ]
    }
   ],
   "source": [
    "par(family = 'AppleGothic',bg = 'white')\n",
    "pie3D()"
   ]
  },
  {
   "cell_type": "code",
   "execution_count": null,
   "metadata": {
    "vscode": {
     "languageId": "r"
    }
   },
   "outputs": [],
   "source": []
  },
  {
   "cell_type": "code",
   "execution_count": null,
   "metadata": {
    "vscode": {
     "languageId": "r"
    }
   },
   "outputs": [
    {
     "data": {
      "text/html": [
       "<table class=\"dataframe\">\n",
       "<caption>A data.frame: 6 x 12</caption>\n",
       "<thead>\n",
       "\t<tr><th></th><th scope=col>PassengerId</th><th scope=col>Survived</th><th scope=col>Pclass</th><th scope=col>Name</th><th scope=col>Sex</th><th scope=col>Age</th><th scope=col>SibSp</th><th scope=col>Parch</th><th scope=col>Ticket</th><th scope=col>Fare</th><th scope=col>Cabin</th><th scope=col>Embarked</th></tr>\n",
       "\t<tr><th></th><th scope=col>&lt;int&gt;</th><th scope=col>&lt;int&gt;</th><th scope=col>&lt;int&gt;</th><th scope=col>&lt;chr&gt;</th><th scope=col>&lt;chr&gt;</th><th scope=col>&lt;dbl&gt;</th><th scope=col>&lt;int&gt;</th><th scope=col>&lt;int&gt;</th><th scope=col>&lt;chr&gt;</th><th scope=col>&lt;dbl&gt;</th><th scope=col>&lt;chr&gt;</th><th scope=col>&lt;chr&gt;</th></tr>\n",
       "</thead>\n",
       "<tbody>\n",
       "\t<tr><th scope=row>1</th><td>1</td><td>0</td><td>3</td><td>Braund, Mr. Owen Harris                            </td><td>male  </td><td>22</td><td>1</td><td>0</td><td>A/5 21171       </td><td> 7.2500</td><td>    </td><td>S</td></tr>\n",
       "\t<tr><th scope=row>2</th><td>2</td><td>1</td><td>1</td><td>Cumings, Mrs. John Bradley (Florence Briggs Thayer)</td><td>female</td><td>38</td><td>1</td><td>0</td><td>PC 17599        </td><td>71.2833</td><td>C85 </td><td>C</td></tr>\n",
       "\t<tr><th scope=row>3</th><td>3</td><td>1</td><td>3</td><td>Heikkinen, Miss. Laina                             </td><td>female</td><td>26</td><td>0</td><td>0</td><td>STON/O2. 3101282</td><td> 7.9250</td><td>    </td><td>S</td></tr>\n",
       "\t<tr><th scope=row>4</th><td>4</td><td>1</td><td>1</td><td>Futrelle, Mrs. Jacques Heath (Lily May Peel)       </td><td>female</td><td>35</td><td>1</td><td>0</td><td>113803          </td><td>53.1000</td><td>C123</td><td>S</td></tr>\n",
       "\t<tr><th scope=row>5</th><td>5</td><td>0</td><td>3</td><td>Allen, Mr. William Henry                           </td><td>male  </td><td>35</td><td>0</td><td>0</td><td>373450          </td><td> 8.0500</td><td>    </td><td>S</td></tr>\n",
       "\t<tr><th scope=row>6</th><td>6</td><td>0</td><td>3</td><td>Moran, Mr. James                                   </td><td>male  </td><td>NA</td><td>0</td><td>0</td><td>330877          </td><td> 8.4583</td><td>    </td><td>Q</td></tr>\n",
       "</tbody>\n",
       "</table>\n"
      ],
      "text/latex": [
       "A data.frame: 6 x 12\n",
       "\\begin{tabular}{r|llllllllllll}\n",
       "  & PassengerId & Survived & Pclass & Name & Sex & Age & SibSp & Parch & Ticket & Fare & Cabin & Embarked\\\\\n",
       "  & <int> & <int> & <int> & <chr> & <chr> & <dbl> & <int> & <int> & <chr> & <dbl> & <chr> & <chr>\\\\\n",
       "\\hline\n",
       "\t1 & 1 & 0 & 3 & Braund, Mr. Owen Harris                             & male   & 22 & 1 & 0 & A/5 21171        &  7.2500 &      & S\\\\\n",
       "\t2 & 2 & 1 & 1 & Cumings, Mrs. John Bradley (Florence Briggs Thayer) & female & 38 & 1 & 0 & PC 17599         & 71.2833 & C85  & C\\\\\n",
       "\t3 & 3 & 1 & 3 & Heikkinen, Miss. Laina                              & female & 26 & 0 & 0 & STON/O2. 3101282 &  7.9250 &      & S\\\\\n",
       "\t4 & 4 & 1 & 1 & Futrelle, Mrs. Jacques Heath (Lily May Peel)        & female & 35 & 1 & 0 & 113803           & 53.1000 & C123 & S\\\\\n",
       "\t5 & 5 & 0 & 3 & Allen, Mr. William Henry                            & male   & 35 & 0 & 0 & 373450           &  8.0500 &      & S\\\\\n",
       "\t6 & 6 & 0 & 3 & Moran, Mr. James                                    & male   & NA & 0 & 0 & 330877           &  8.4583 &      & Q\\\\\n",
       "\\end{tabular}\n"
      ],
      "text/markdown": [
       "\n",
       "A data.frame: 6 x 12\n",
       "\n",
       "| <!--/--> | PassengerId &lt;int&gt; | Survived &lt;int&gt; | Pclass &lt;int&gt; | Name &lt;chr&gt; | Sex &lt;chr&gt; | Age &lt;dbl&gt; | SibSp &lt;int&gt; | Parch &lt;int&gt; | Ticket &lt;chr&gt; | Fare &lt;dbl&gt; | Cabin &lt;chr&gt; | Embarked &lt;chr&gt; |\n",
       "|---|---|---|---|---|---|---|---|---|---|---|---|---|\n",
       "| 1 | 1 | 0 | 3 | Braund, Mr. Owen Harris                             | male   | 22 | 1 | 0 | A/5 21171        |  7.2500 | <!----> | S |\n",
       "| 2 | 2 | 1 | 1 | Cumings, Mrs. John Bradley (Florence Briggs Thayer) | female | 38 | 1 | 0 | PC 17599         | 71.2833 | C85  | C |\n",
       "| 3 | 3 | 1 | 3 | Heikkinen, Miss. Laina                              | female | 26 | 0 | 0 | STON/O2. 3101282 |  7.9250 | <!----> | S |\n",
       "| 4 | 4 | 1 | 1 | Futrelle, Mrs. Jacques Heath (Lily May Peel)        | female | 35 | 1 | 0 | 113803           | 53.1000 | C123 | S |\n",
       "| 5 | 5 | 0 | 3 | Allen, Mr. William Henry                            | male   | 35 | 0 | 0 | 373450           |  8.0500 | <!----> | S |\n",
       "| 6 | 6 | 0 | 3 | Moran, Mr. James                                    | male   | NA | 0 | 0 | 330877           |  8.4583 | <!----> | Q |\n",
       "\n"
      ],
      "text/plain": [
       "  PassengerId Survived Pclass\n",
       "1 1           0        3     \n",
       "2 2           1        1     \n",
       "3 3           1        3     \n",
       "4 4           1        1     \n",
       "5 5           0        3     \n",
       "6 6           0        3     \n",
       "  Name                                                Sex    Age SibSp Parch\n",
       "1 Braund, Mr. Owen Harris                             male   22  1     0    \n",
       "2 Cumings, Mrs. John Bradley (Florence Briggs Thayer) female 38  1     0    \n",
       "3 Heikkinen, Miss. Laina                              female 26  0     0    \n",
       "4 Futrelle, Mrs. Jacques Heath (Lily May Peel)        female 35  1     0    \n",
       "5 Allen, Mr. William Henry                            male   35  0     0    \n",
       "6 Moran, Mr. James                                    male   NA  0     0    \n",
       "  Ticket           Fare    Cabin Embarked\n",
       "1 A/5 21171         7.2500       S       \n",
       "2 PC 17599         71.2833 C85   C       \n",
       "3 STON/O2. 3101282  7.9250       S       \n",
       "4 113803           53.1000 C123  S       \n",
       "5 373450            8.0500       S       \n",
       "6 330877            8.4583       Q       "
      ]
     },
     "metadata": {},
     "output_type": "display_data"
    },
    {
     "data": {
      "text/html": [
       "314"
      ],
      "text/latex": [
       "314"
      ],
      "text/markdown": [
       "314"
      ],
      "text/plain": [
       "[1] 314"
      ]
     },
     "metadata": {},
     "output_type": "display_data"
    },
    {
     "data": {
      "text/html": [
       "577"
      ],
      "text/latex": [
       "577"
      ],
      "text/markdown": [
       "577"
      ],
      "text/plain": [
       "[1] 577"
      ]
     },
     "metadata": {},
     "output_type": "display_data"
    }
   ],
   "source": [
    "head(train_tf)\n",
    "nrow(subset(train_tf, Sex == 'female'))\n",
    "nrow(subset(train_tf, Sex == 'male'))"
   ]
  },
  {
   "cell_type": "code",
   "execution_count": null,
   "metadata": {
    "vscode": {
     "languageId": "r"
    }
   },
   "outputs": [
    {
     "data": {
      "image/png": "[encoded data removed]",
      "text/plain": [
       "Plot with title “ 성별 승선 인원수”"
      ]
     },
     "metadata": {
      "image/png": {
       "height": 540,
       "width": 900
      }
     },
     "output_type": "display_data"
    }
   ],
   "source": [
    "par(family = 'AppleGothic',bg = 'white')\n",
    "barplot(table(train_tf$Sex),\n",
    "         ylim = c(0,600),\n",
    "         col = ifelse(train_tf$Sex =='female','blue','red'),\n",
    "          ylab = \"승선 인원수\",\n",
    "          xlab = \"성별\",\n",
    "          main = \" 성별 승선 인원수\",\n",
    "           )\n"
   ]
  },
  {
   "cell_type": "code",
   "execution_count": null,
   "metadata": {
    "vscode": {
     "languageId": "r"
    }
   },
   "outputs": [],
   "source": []
  },
  {
   "cell_type": "code",
   "execution_count": null,
   "metadata": {
    "vscode": {
     "languageId": "r"
    }
   },
   "outputs": [],
   "source": []
  },
  {
   "cell_type": "code",
   "execution_count": null,
   "metadata": {
    "vscode": {
     "languageId": "r"
    }
   },
   "outputs": [],
   "source": []
  },
  {
   "cell_type": "code",
   "execution_count": null,
   "metadata": {
    "vscode": {
     "languageId": "r"
    }
   },
   "outputs": [],
   "source": []
  },
  {
   "cell_type": "code",
   "execution_count": null,
   "metadata": {
    "vscode": {
     "languageId": "r"
    }
   },
   "outputs": [],
   "source": []
  },
  {
   "cell_type": "code",
   "execution_count": null,
   "metadata": {
    "vscode": {
     "languageId": "r"
    }
   },
   "outputs": [
    {
     "data": {
      "text/plain": [
       "\n",
       "  1   2   3 \n",
       "216 184 491 "
      ]
     },
     "metadata": {},
     "output_type": "display_data"
    }
   ],
   "source": [
    "# 티켓등급 분류 \n",
    "    table(train_tf$Pclass)"
   ]
  },
  {
   "cell_type": "code",
   "execution_count": null,
   "metadata": {
    "vscode": {
     "languageId": "r"
    }
   },
   "outputs": [
    {
     "data": {
      "text/html": [
       "<table class=\"dataframe\">\n",
       "<caption>A data.frame: 6 x 12</caption>\n",
       "<thead>\n",
       "\t<tr><th></th><th scope=col>PassengerId</th><th scope=col>Survived</th><th scope=col>Pclass</th><th scope=col>Name</th><th scope=col>Sex</th><th scope=col>Age</th><th scope=col>SibSp</th><th scope=col>Parch</th><th scope=col>Ticket</th><th scope=col>Fare</th><th scope=col>Cabin</th><th scope=col>Embarked</th></tr>\n",
       "\t<tr><th></th><th scope=col>&lt;int&gt;</th><th scope=col>&lt;int&gt;</th><th scope=col>&lt;int&gt;</th><th scope=col>&lt;chr&gt;</th><th scope=col>&lt;chr&gt;</th><th scope=col>&lt;dbl&gt;</th><th scope=col>&lt;int&gt;</th><th scope=col>&lt;int&gt;</th><th scope=col>&lt;chr&gt;</th><th scope=col>&lt;dbl&gt;</th><th scope=col>&lt;chr&gt;</th><th scope=col>&lt;chr&gt;</th></tr>\n",
       "</thead>\n",
       "<tbody>\n",
       "\t<tr><th scope=row>1</th><td> 1</td><td>0</td><td>3</td><td>Braund, Mr. Owen Harris       </td><td>male</td><td>22</td><td>1</td><td>0</td><td>A/5 21171</td><td> 7.2500</td><td>   </td><td>S</td></tr>\n",
       "\t<tr><th scope=row>2</th><td> 5</td><td>0</td><td>3</td><td>Allen, Mr. William Henry      </td><td>male</td><td>35</td><td>0</td><td>0</td><td>373450   </td><td> 8.0500</td><td>   </td><td>S</td></tr>\n",
       "\t<tr><th scope=row>3</th><td> 6</td><td>0</td><td>3</td><td>Moran, Mr. James              </td><td>male</td><td>NA</td><td>0</td><td>0</td><td>330877   </td><td> 8.4583</td><td>   </td><td>Q</td></tr>\n",
       "\t<tr><th scope=row>4</th><td> 7</td><td>0</td><td>1</td><td>McCarthy, Mr. Timothy J       </td><td>male</td><td>54</td><td>0</td><td>0</td><td>17463    </td><td>51.8625</td><td>E46</td><td>S</td></tr>\n",
       "\t<tr><th scope=row>5</th><td> 8</td><td>0</td><td>3</td><td>Palsson, Master. Gosta Leonard</td><td>male</td><td> 2</td><td>3</td><td>1</td><td>349909   </td><td>21.0750</td><td>   </td><td>S</td></tr>\n",
       "\t<tr><th scope=row>6</th><td>13</td><td>0</td><td>3</td><td>Saundercock, Mr. William Henry</td><td>male</td><td>20</td><td>0</td><td>0</td><td>A/5. 2151</td><td> 8.0500</td><td>   </td><td>S</td></tr>\n",
       "</tbody>\n",
       "</table>\n"
      ],
      "text/latex": [
       "A data.frame: 6 x 12\n",
       "\\begin{tabular}{r|llllllllllll}\n",
       "  & PassengerId & Survived & Pclass & Name & Sex & Age & SibSp & Parch & Ticket & Fare & Cabin & Embarked\\\\\n",
       "  & <int> & <int> & <int> & <chr> & <chr> & <dbl> & <int> & <int> & <chr> & <dbl> & <chr> & <chr>\\\\\n",
       "\\hline\n",
       "\t1 &  1 & 0 & 3 & Braund, Mr. Owen Harris        & male & 22 & 1 & 0 & A/5 21171 &  7.2500 &     & S\\\\\n",
       "\t2 &  5 & 0 & 3 & Allen, Mr. William Henry       & male & 35 & 0 & 0 & 373450    &  8.0500 &     & S\\\\\n",
       "\t3 &  6 & 0 & 3 & Moran, Mr. James               & male & NA & 0 & 0 & 330877    &  8.4583 &     & Q\\\\\n",
       "\t4 &  7 & 0 & 1 & McCarthy, Mr. Timothy J        & male & 54 & 0 & 0 & 17463     & 51.8625 & E46 & S\\\\\n",
       "\t5 &  8 & 0 & 3 & Palsson, Master. Gosta Leonard & male &  2 & 3 & 1 & 349909    & 21.0750 &     & S\\\\\n",
       "\t6 & 13 & 0 & 3 & Saundercock, Mr. William Henry & male & 20 & 0 & 0 & A/5. 2151 &  8.0500 &     & S\\\\\n",
       "\\end{tabular}\n"
      ],
      "text/markdown": [
       "\n",
       "A data.frame: 6 x 12\n",
       "\n",
       "| <!--/--> | PassengerId &lt;int&gt; | Survived &lt;int&gt; | Pclass &lt;int&gt; | Name &lt;chr&gt; | Sex &lt;chr&gt; | Age &lt;dbl&gt; | SibSp &lt;int&gt; | Parch &lt;int&gt; | Ticket &lt;chr&gt; | Fare &lt;dbl&gt; | Cabin &lt;chr&gt; | Embarked &lt;chr&gt; |\n",
       "|---|---|---|---|---|---|---|---|---|---|---|---|---|\n",
       "| 1 |  1 | 0 | 3 | Braund, Mr. Owen Harris        | male | 22 | 1 | 0 | A/5 21171 |  7.2500 | <!----> | S |\n",
       "| 2 |  5 | 0 | 3 | Allen, Mr. William Henry       | male | 35 | 0 | 0 | 373450    |  8.0500 | <!----> | S |\n",
       "| 3 |  6 | 0 | 3 | Moran, Mr. James               | male | NA | 0 | 0 | 330877    |  8.4583 | <!----> | Q |\n",
       "| 4 |  7 | 0 | 1 | McCarthy, Mr. Timothy J        | male | 54 | 0 | 0 | 17463     | 51.8625 | E46 | S |\n",
       "| 5 |  8 | 0 | 3 | Palsson, Master. Gosta Leonard | male |  2 | 3 | 1 | 349909    | 21.0750 | <!----> | S |\n",
       "| 6 | 13 | 0 | 3 | Saundercock, Mr. William Henry | male | 20 | 0 | 0 | A/5. 2151 |  8.0500 | <!----> | S |\n",
       "\n"
      ],
      "text/plain": [
       "  PassengerId Survived Pclass Name                           Sex  Age SibSp\n",
       "1  1          0        3      Braund, Mr. Owen Harris        male 22  1    \n",
       "2  5          0        3      Allen, Mr. William Henry       male 35  0    \n",
       "3  6          0        3      Moran, Mr. James               male NA  0    \n",
       "4  7          0        1      McCarthy, Mr. Timothy J        male 54  0    \n",
       "5  8          0        3      Palsson, Master. Gosta Leonard male  2  3    \n",
       "6 13          0        3      Saundercock, Mr. William Henry male 20  0    \n",
       "  Parch Ticket    Fare    Cabin Embarked\n",
       "1 0     A/5 21171  7.2500       S       \n",
       "2 0     373450     8.0500       S       \n",
       "3 0     330877     8.4583       Q       \n",
       "4 0     17463     51.8625 E46   S       \n",
       "5 1     349909    21.0750       S       \n",
       "6 0     A/5. 2151  8.0500       S       "
      ]
     },
     "metadata": {},
     "output_type": "display_data"
    },
    {
     "data": {
      "text/html": [
       "91"
      ],
      "text/latex": [
       "91"
      ],
      "text/markdown": [
       "91"
      ],
      "text/plain": [
       "[1] 91"
      ]
     },
     "metadata": {},
     "output_type": "display_data"
    },
    {
     "data": {
      "text/html": [
       "94"
      ],
      "text/latex": [
       "94"
      ],
      "text/markdown": [
       "94"
      ],
      "text/plain": [
       "[1] 94"
      ]
     },
     "metadata": {},
     "output_type": "display_data"
    },
    {
     "name": "stdout",
     "output_type": "stream",
     "text": [
      "1등 객실의 여성 생존율은 91 / 94 , 96.81 %"
     ]
    }
   ],
   "source": [
    "# 1등 객실의 여성 생존율\n",
    "head(train_tf)\n",
    "\n",
    "vvv <- train_tf[c(3,2,5)]\n",
    "vvv2 <- subset(vvv, Sex == 'female')\n",
    "vvv3 <- subset(vvv2, Pclass == 1)\n",
    "nrow(subset(vvv3, Survived == 1))\n",
    "nrow(subset(vvv2, Pclass == 1))\n",
    "\n",
    "cat(paste(\"1등 객실의 여성 생존율은\",nrow(subset(vvv3, Survived == 1)),\"/\", nrow(subset(vvv2, Pclass == 1)),\",\", round(91/94 * 100,2),\"%\"  ))"
   ]
  },
  {
   "cell_type": "code",
   "execution_count": null,
   "metadata": {
    "vscode": {
     "languageId": "r"
    }
   },
   "outputs": [
    {
     "name": "stdout",
     "output_type": "stream",
     "text": [
      "1 등 객실의 여성 생존율은  91 / 94 , 96.81 %\n",
      "2 등 객실의 여성 생존율은  70 / 76 , 92.11 %\n",
      "3 등 객실의 여성 생존율은  72 / 144 , 50 %\n"
     ]
    }
   ],
   "source": [
    "# 1,2,3 등 객실의 여성 생존율을 for문을 이용해 해결\n",
    "for(i in 1:3) {\n",
    "\n",
    "    cat(i, \"등 객실의 여성 생존율은 \", nrow(subset(train_tf, (Pclass == i) & (Sex == 'female') & (Survived == 1) )), \"/\", nrow(subset(train_tf, (Pclass == i) & (Sex == 'female'))),\",\", round(nrow(subset(train_tf, (Pclass == i) & (Sex == 'female') & (Survived == 1) )) / nrow(subset(train_tf, (Pclass == i) & (Sex == 'female'))) * 100,2), \"%\\n\")  \n",
    "}"
   ]
  },
  {
   "cell_type": "code",
   "execution_count": null,
   "metadata": {
    "vscode": {
     "languageId": "r"
    }
   },
   "outputs": [
    {
     "name": "stdout",
     "output_type": "stream",
     "text": [
      "1 등 객실의 남성 생존율은  45 / 122 , 36.89 %\n",
      "2 등 객실의 남성 생존율은  17 / 108 , 15.74 %\n",
      "3 등 객실의 남성 생존율은  47 / 347 , 13.54 %\n"
     ]
    }
   ],
   "source": [
    "for(i in 1:3) {\n",
    "  \n",
    "    cat(i, \"등 객실의 남성 생존율은 \", nrow(subset(train_tf, (Pclass == i) & (Sex == 'male') & (Survived == 1) )), \"/\", nrow(subset(train_tf, (Pclass == i) & (Sex == 'male'))),\",\", round(nrow(subset(train_tf, (Pclass == i) & (Sex == 'male') & (Survived == 1) )) / nrow(subset(train_tf, (Pclass == i) & (Sex == 'male'))) * 100,2), \"%\\n\")  \n",
    "}"
   ]
  },
  {
   "cell_type": "code",
   "execution_count": null,
   "metadata": {
    "vscode": {
     "languageId": "r"
    }
   },
   "outputs": [
    {
     "ename": "ERROR",
     "evalue": "Error in parse(text = x, srcfile = src): <text>:4:100: 예기치 않은 ')'입니다\n3: for(i in 1:3) {\n4:  cat(i, \"등 객실의\", ifelse(j == 1, '여성','남성') ,\"생존율은 \", nrow(subset(train_tf, (Pclass == i) & (Sex == )\n                                                                                                      ^\n",
     "output_type": "error",
     "traceback": [
      "Error in parse(text = x, srcfile = src): <text>:4:100: 예기치 않은 ')'입니다\n3: for(i in 1:3) {\n4:  cat(i, \"등 객실의\", ifelse(j == 1, '여성','남성') ,\"생존율은 \", nrow(subset(train_tf, (Pclass == i) & (Sex == )\n                                                                                                      ^\nTraceback:\n"
     ]
    }
   ],
   "source": [
    "# 1,2,3 등 객실의 남성과 여성 생존율을 for문을 통해 해결\n",
    "for(j in 1:2) {\n",
    "for(i in 1:3) {\n",
    " cat(i, \"등 객실의\", ifelse(j == 1, '여성','남성') ,\"생존율은 \", nrow(subset(train_tf, (Pclass == i) & (Sex == ) & (Survived == 1) )), \"/\", nrow(subset(train_tf, (Pclass == i) & (ifelse(j == 1, 'female','male')))),\",\", round(nrow(subset(train_tf, (Pclass == i) & (Sex == 'female') & (Survived == 1) )) / nrow(subset(train_tf, (Pclass == i) & (Sex == 'female'))) * 100,2), \"%\\n\")  \n",
    "\n",
    "}\n",
    "}\n"
   ]
  },
  {
   "cell_type": "code",
   "execution_count": null,
   "metadata": {
    "vscode": {
     "languageId": "r"
    }
   },
   "outputs": [
    {
     "ename": "ERROR",
     "evalue": "Error in append(22): 기본값이 없는 인수 \"values\"가 누락되어 있습니다\n",
     "output_type": "error",
     "traceback": [
      "Error in append(22): 기본값이 없는 인수 \"values\"가 누락되어 있습니다\nTraceback:\n",
      "1. append(22)"
     ]
    }
   ],
   "source": [
    "data.frame()"
   ]
  },
  {
   "cell_type": "markdown",
   "metadata": {},
   "source": []
  },
  {
   "cell_type": "code",
   "execution_count": null,
   "metadata": {
    "vscode": {
     "languageId": "r"
    }
   },
   "outputs": [
    {
     "data": {
      "text/html": [
       "13.54"
      ],
      "text/latex": [
       "13.54"
      ],
      "text/markdown": [
       "13.54"
      ],
      "text/plain": [
       "[1] 13.54"
      ]
     },
     "metadata": {},
     "output_type": "display_data"
    }
   ],
   "source": [
    "for (i in 1: 3) {\n",
    "  x <- round(nrow(subset(train_tf, (Pclass == i) & (Sex == 'male') & (Survived == 1) )) / nrow(subset(train_tf, (Pclass == i) & (Sex == 'male'))) * 100,2)\n",
    "\n",
    "x\n",
    "\n",
    "}\n",
    "x"
   ]
  },
  {
   "cell_type": "code",
   "execution_count": null,
   "metadata": {
    "vscode": {
     "languageId": "r"
    }
   },
   "outputs": [],
   "source": [
    "for (i in 1: 3) {\n",
    "male  <- round(nrow(subset(train_tf, (Pclass == 2) & (Sex == 'male') & (Survived == 1) )) / nrow(subset(train_tf, (Pclass == 2) & (Sex == 'male'))) * 100,2)\n",
    "\n",
    "}\n"
   ]
  },
  {
   "cell_type": "code",
   "execution_count": null,
   "metadata": {
    "vscode": {
     "languageId": "r"
    }
   },
   "outputs": [
    {
     "ename": "ERROR",
     "evalue": "Error in barplot.default(): 기본값이 없는 인수 \"height\"가 누락되어 있습니다\n",
     "output_type": "error",
     "traceback": [
      "Error in barplot.default(): 기본값이 없는 인수 \"height\"가 누락되어 있습니다\nTraceback:\n",
      "1. barplot()",
      "2. barplot.default()"
     ]
    }
   ],
   "source": [
    "barplot()"
   ]
  },
  {
   "cell_type": "code",
   "execution_count": null,
   "metadata": {
    "vscode": {
     "languageId": "r"
    }
   },
   "outputs": [],
   "source": [
    "\n"
   ]
  },
  {
   "cell_type": "code",
   "execution_count": null,
   "metadata": {
    "vscode": {
     "languageId": "r"
    }
   },
   "outputs": [
    {
     "data": {
      "text/html": [
       "<table class=\"dataframe\">\n",
       "<caption>A data.frame: 6 x 12</caption>\n",
       "<thead>\n",
       "\t<tr><th></th><th scope=col>PassengerId</th><th scope=col>Survived</th><th scope=col>Pclass</th><th scope=col>Name</th><th scope=col>Sex</th><th scope=col>Age</th><th scope=col>SibSp</th><th scope=col>Parch</th><th scope=col>Ticket</th><th scope=col>Fare</th><th scope=col>Cabin</th><th scope=col>Embarked</th></tr>\n",
       "\t<tr><th></th><th scope=col>&lt;int&gt;</th><th scope=col>&lt;int&gt;</th><th scope=col>&lt;int&gt;</th><th scope=col>&lt;chr&gt;</th><th scope=col>&lt;chr&gt;</th><th scope=col>&lt;dbl&gt;</th><th scope=col>&lt;int&gt;</th><th scope=col>&lt;int&gt;</th><th scope=col>&lt;chr&gt;</th><th scope=col>&lt;dbl&gt;</th><th scope=col>&lt;chr&gt;</th><th scope=col>&lt;chr&gt;</th></tr>\n",
       "</thead>\n",
       "<tbody>\n",
       "\t<tr><th scope=row>1</th><td> 1</td><td>0</td><td>3</td><td>Braund, Mr. Owen Harris       </td><td>male</td><td>22</td><td>1</td><td>0</td><td>A/5 21171</td><td> 7.2500</td><td>   </td><td>S</td></tr>\n",
       "\t<tr><th scope=row>2</th><td> 5</td><td>0</td><td>3</td><td>Allen, Mr. William Henry      </td><td>male</td><td>35</td><td>0</td><td>0</td><td>373450   </td><td> 8.0500</td><td>   </td><td>S</td></tr>\n",
       "\t<tr><th scope=row>3</th><td> 6</td><td>0</td><td>3</td><td>Moran, Mr. James              </td><td>male</td><td>NA</td><td>0</td><td>0</td><td>330877   </td><td> 8.4583</td><td>   </td><td>Q</td></tr>\n",
       "\t<tr><th scope=row>4</th><td> 7</td><td>0</td><td>1</td><td>McCarthy, Mr. Timothy J       </td><td>male</td><td>54</td><td>0</td><td>0</td><td>17463    </td><td>51.8625</td><td>E46</td><td>S</td></tr>\n",
       "\t<tr><th scope=row>5</th><td> 8</td><td>0</td><td>3</td><td>Palsson, Master. Gosta Leonard</td><td>male</td><td> 2</td><td>3</td><td>1</td><td>349909   </td><td>21.0750</td><td>   </td><td>S</td></tr>\n",
       "\t<tr><th scope=row>6</th><td>13</td><td>0</td><td>3</td><td>Saundercock, Mr. William Henry</td><td>male</td><td>20</td><td>0</td><td>0</td><td>A/5. 2151</td><td> 8.0500</td><td>   </td><td>S</td></tr>\n",
       "</tbody>\n",
       "</table>\n"
      ],
      "text/latex": [
       "A data.frame: 6 x 12\n",
       "\\begin{tabular}{r|llllllllllll}\n",
       "  & PassengerId & Survived & Pclass & Name & Sex & Age & SibSp & Parch & Ticket & Fare & Cabin & Embarked\\\\\n",
       "  & <int> & <int> & <int> & <chr> & <chr> & <dbl> & <int> & <int> & <chr> & <dbl> & <chr> & <chr>\\\\\n",
       "\\hline\n",
       "\t1 &  1 & 0 & 3 & Braund, Mr. Owen Harris        & male & 22 & 1 & 0 & A/5 21171 &  7.2500 &     & S\\\\\n",
       "\t2 &  5 & 0 & 3 & Allen, Mr. William Henry       & male & 35 & 0 & 0 & 373450    &  8.0500 &     & S\\\\\n",
       "\t3 &  6 & 0 & 3 & Moran, Mr. James               & male & NA & 0 & 0 & 330877    &  8.4583 &     & Q\\\\\n",
       "\t4 &  7 & 0 & 1 & McCarthy, Mr. Timothy J        & male & 54 & 0 & 0 & 17463     & 51.8625 & E46 & S\\\\\n",
       "\t5 &  8 & 0 & 3 & Palsson, Master. Gosta Leonard & male &  2 & 3 & 1 & 349909    & 21.0750 &     & S\\\\\n",
       "\t6 & 13 & 0 & 3 & Saundercock, Mr. William Henry & male & 20 & 0 & 0 & A/5. 2151 &  8.0500 &     & S\\\\\n",
       "\\end{tabular}\n"
      ],
      "text/markdown": [
       "\n",
       "A data.frame: 6 x 12\n",
       "\n",
       "| <!--/--> | PassengerId &lt;int&gt; | Survived &lt;int&gt; | Pclass &lt;int&gt; | Name &lt;chr&gt; | Sex &lt;chr&gt; | Age &lt;dbl&gt; | SibSp &lt;int&gt; | Parch &lt;int&gt; | Ticket &lt;chr&gt; | Fare &lt;dbl&gt; | Cabin &lt;chr&gt; | Embarked &lt;chr&gt; |\n",
       "|---|---|---|---|---|---|---|---|---|---|---|---|---|\n",
       "| 1 |  1 | 0 | 3 | Braund, Mr. Owen Harris        | male | 22 | 1 | 0 | A/5 21171 |  7.2500 | <!----> | S |\n",
       "| 2 |  5 | 0 | 3 | Allen, Mr. William Henry       | male | 35 | 0 | 0 | 373450    |  8.0500 | <!----> | S |\n",
       "| 3 |  6 | 0 | 3 | Moran, Mr. James               | male | NA | 0 | 0 | 330877    |  8.4583 | <!----> | Q |\n",
       "| 4 |  7 | 0 | 1 | McCarthy, Mr. Timothy J        | male | 54 | 0 | 0 | 17463     | 51.8625 | E46 | S |\n",
       "| 5 |  8 | 0 | 3 | Palsson, Master. Gosta Leonard | male |  2 | 3 | 1 | 349909    | 21.0750 | <!----> | S |\n",
       "| 6 | 13 | 0 | 3 | Saundercock, Mr. William Henry | male | 20 | 0 | 0 | A/5. 2151 |  8.0500 | <!----> | S |\n",
       "\n"
      ],
      "text/plain": [
       "  PassengerId Survived Pclass Name                           Sex  Age SibSp\n",
       "1  1          0        3      Braund, Mr. Owen Harris        male 22  1    \n",
       "2  5          0        3      Allen, Mr. William Henry       male 35  0    \n",
       "3  6          0        3      Moran, Mr. James               male NA  0    \n",
       "4  7          0        1      McCarthy, Mr. Timothy J        male 54  0    \n",
       "5  8          0        3      Palsson, Master. Gosta Leonard male  2  3    \n",
       "6 13          0        3      Saundercock, Mr. William Henry male 20  0    \n",
       "  Parch Ticket    Fare    Cabin Embarked\n",
       "1 0     A/5 21171  7.2500       S       \n",
       "2 0     373450     8.0500       S       \n",
       "3 0     330877     8.4583       Q       \n",
       "4 0     17463     51.8625 E46   S       \n",
       "5 1     349909    21.0750       S       \n",
       "6 0     A/5. 2151  8.0500       S       "
      ]
     },
     "metadata": {},
     "output_type": "display_data"
    }
   ],
   "source": [
    "head(train_tf)"
   ]
  },
  {
   "cell_type": "code",
   "execution_count": null,
   "metadata": {
    "vscode": {
     "languageId": "r"
    }
   },
   "outputs": [
    {
     "data": {
      "text/plain": [
       "\n",
       "      C   Q   S \n",
       "  2 168  77 644 "
      ]
     },
     "metadata": {},
     "output_type": "display_data"
    }
   ],
   "source": [
    "# Embarked \n",
    "table(train_tf$Embarked)"
   ]
  },
  {
   "cell_type": "code",
   "execution_count": null,
   "metadata": {
    "vscode": {
     "languageId": "r"
    }
   },
   "outputs": [
    {
     "data": {
      "text/html": [
       "<table class=\"dataframe\">\n",
       "<caption>A data.frame: 2 x 12</caption>\n",
       "<thead>\n",
       "\t<tr><th></th><th scope=col>PassengerId</th><th scope=col>Survived</th><th scope=col>Pclass</th><th scope=col>Name</th><th scope=col>Sex</th><th scope=col>Age</th><th scope=col>SibSp</th><th scope=col>Parch</th><th scope=col>Ticket</th><th scope=col>Fare</th><th scope=col>Cabin</th><th scope=col>Embarked</th></tr>\n",
       "\t<tr><th></th><th scope=col>&lt;int&gt;</th><th scope=col>&lt;int&gt;</th><th scope=col>&lt;int&gt;</th><th scope=col>&lt;chr&gt;</th><th scope=col>&lt;chr&gt;</th><th scope=col>&lt;dbl&gt;</th><th scope=col>&lt;int&gt;</th><th scope=col>&lt;int&gt;</th><th scope=col>&lt;chr&gt;</th><th scope=col>&lt;dbl&gt;</th><th scope=col>&lt;chr&gt;</th><th scope=col>&lt;chr&gt;</th></tr>\n",
       "</thead>\n",
       "<tbody>\n",
       "\t<tr><th scope=row>577</th><td> 62</td><td>1</td><td>1</td><td>Icard, Miss. Amelie                      </td><td>female</td><td>38</td><td>0</td><td>0</td><td>113572</td><td>80</td><td>B28</td><td></td></tr>\n",
       "\t<tr><th scope=row>868</th><td>830</td><td>1</td><td>1</td><td>Stone, Mrs. George Nelson (Martha Evelyn)</td><td>female</td><td>62</td><td>0</td><td>0</td><td>113572</td><td>80</td><td>B28</td><td></td></tr>\n",
       "</tbody>\n",
       "</table>\n"
      ],
      "text/latex": [
       "A data.frame: 2 x 12\n",
       "\\begin{tabular}{r|llllllllllll}\n",
       "  & PassengerId & Survived & Pclass & Name & Sex & Age & SibSp & Parch & Ticket & Fare & Cabin & Embarked\\\\\n",
       "  & <int> & <int> & <int> & <chr> & <chr> & <dbl> & <int> & <int> & <chr> & <dbl> & <chr> & <chr>\\\\\n",
       "\\hline\n",
       "\t577 &  62 & 1 & 1 & Icard, Miss. Amelie                       & female & 38 & 0 & 0 & 113572 & 80 & B28 & \\\\\n",
       "\t868 & 830 & 1 & 1 & Stone, Mrs. George Nelson (Martha Evelyn) & female & 62 & 0 & 0 & 113572 & 80 & B28 & \\\\\n",
       "\\end{tabular}\n"
      ],
      "text/markdown": [
       "\n",
       "A data.frame: 2 x 12\n",
       "\n",
       "| <!--/--> | PassengerId &lt;int&gt; | Survived &lt;int&gt; | Pclass &lt;int&gt; | Name &lt;chr&gt; | Sex &lt;chr&gt; | Age &lt;dbl&gt; | SibSp &lt;int&gt; | Parch &lt;int&gt; | Ticket &lt;chr&gt; | Fare &lt;dbl&gt; | Cabin &lt;chr&gt; | Embarked &lt;chr&gt; |\n",
       "|---|---|---|---|---|---|---|---|---|---|---|---|---|\n",
       "| 577 |  62 | 1 | 1 | Icard, Miss. Amelie                       | female | 38 | 0 | 0 | 113572 | 80 | B28 | <!----> |\n",
       "| 868 | 830 | 1 | 1 | Stone, Mrs. George Nelson (Martha Evelyn) | female | 62 | 0 | 0 | 113572 | 80 | B28 | <!----> |\n",
       "\n"
      ],
      "text/plain": [
       "    PassengerId Survived Pclass Name                                     \n",
       "577  62         1        1      Icard, Miss. Amelie                      \n",
       "868 830         1        1      Stone, Mrs. George Nelson (Martha Evelyn)\n",
       "    Sex    Age SibSp Parch Ticket Fare Cabin Embarked\n",
       "577 female 38  0     0     113572 80   B28           \n",
       "868 female 62  0     0     113572 80   B28           "
      ]
     },
     "metadata": {},
     "output_type": "display_data"
    }
   ],
   "source": [
    "# 빈칸의 데이터 찾기\n",
    "subset(train_tf, Embarked == \"\")"
   ]
  },
  {
   "cell_type": "code",
   "execution_count": null,
   "metadata": {
    "vscode": {
     "languageId": "r"
    }
   },
   "outputs": [],
   "source": [
    "train_tf2 <- train_tf"
   ]
  },
  {
   "cell_type": "code",
   "execution_count": null,
   "metadata": {
    "vscode": {
     "languageId": "r"
    }
   },
   "outputs": [
    {
     "data": {
      "text/html": [
       "<table class=\"dataframe\">\n",
       "<caption>A data.frame: 2 x 12</caption>\n",
       "<thead>\n",
       "\t<tr><th></th><th scope=col>PassengerId</th><th scope=col>Survived</th><th scope=col>Pclass</th><th scope=col>Name</th><th scope=col>Sex</th><th scope=col>Age</th><th scope=col>SibSp</th><th scope=col>Parch</th><th scope=col>Ticket</th><th scope=col>Fare</th><th scope=col>Cabin</th><th scope=col>Embarked</th></tr>\n",
       "\t<tr><th></th><th scope=col>&lt;int&gt;</th><th scope=col>&lt;int&gt;</th><th scope=col>&lt;int&gt;</th><th scope=col>&lt;chr&gt;</th><th scope=col>&lt;chr&gt;</th><th scope=col>&lt;dbl&gt;</th><th scope=col>&lt;int&gt;</th><th scope=col>&lt;int&gt;</th><th scope=col>&lt;chr&gt;</th><th scope=col>&lt;dbl&gt;</th><th scope=col>&lt;chr&gt;</th><th scope=col>&lt;chr&gt;</th></tr>\n",
       "</thead>\n",
       "<tbody>\n",
       "\t<tr><th scope=row>577</th><td> 62</td><td>1</td><td>1</td><td>Icard, Miss. Amelie                      </td><td>female</td><td>38</td><td>0</td><td>0</td><td>113572</td><td>80</td><td>B28</td><td></td></tr>\n",
       "\t<tr><th scope=row>868</th><td>830</td><td>1</td><td>1</td><td>Stone, Mrs. George Nelson (Martha Evelyn)</td><td>female</td><td>62</td><td>0</td><td>0</td><td>113572</td><td>80</td><td>B28</td><td></td></tr>\n",
       "</tbody>\n",
       "</table>\n"
      ],
      "text/latex": [
       "A data.frame: 2 x 12\n",
       "\\begin{tabular}{r|llllllllllll}\n",
       "  & PassengerId & Survived & Pclass & Name & Sex & Age & SibSp & Parch & Ticket & Fare & Cabin & Embarked\\\\\n",
       "  & <int> & <int> & <int> & <chr> & <chr> & <dbl> & <int> & <int> & <chr> & <dbl> & <chr> & <chr>\\\\\n",
       "\\hline\n",
       "\t577 &  62 & 1 & 1 & Icard, Miss. Amelie                       & female & 38 & 0 & 0 & 113572 & 80 & B28 & \\\\\n",
       "\t868 & 830 & 1 & 1 & Stone, Mrs. George Nelson (Martha Evelyn) & female & 62 & 0 & 0 & 113572 & 80 & B28 & \\\\\n",
       "\\end{tabular}\n"
      ],
      "text/markdown": [
       "\n",
       "A data.frame: 2 x 12\n",
       "\n",
       "| <!--/--> | PassengerId &lt;int&gt; | Survived &lt;int&gt; | Pclass &lt;int&gt; | Name &lt;chr&gt; | Sex &lt;chr&gt; | Age &lt;dbl&gt; | SibSp &lt;int&gt; | Parch &lt;int&gt; | Ticket &lt;chr&gt; | Fare &lt;dbl&gt; | Cabin &lt;chr&gt; | Embarked &lt;chr&gt; |\n",
       "|---|---|---|---|---|---|---|---|---|---|---|---|---|\n",
       "| 577 |  62 | 1 | 1 | Icard, Miss. Amelie                       | female | 38 | 0 | 0 | 113572 | 80 | B28 | <!----> |\n",
       "| 868 | 830 | 1 | 1 | Stone, Mrs. George Nelson (Martha Evelyn) | female | 62 | 0 | 0 | 113572 | 80 | B28 | <!----> |\n",
       "\n"
      ],
      "text/plain": [
       "    PassengerId Survived Pclass Name                                     \n",
       "577  62         1        1      Icard, Miss. Amelie                      \n",
       "868 830         1        1      Stone, Mrs. George Nelson (Martha Evelyn)\n",
       "    Sex    Age SibSp Parch Ticket Fare Cabin Embarked\n",
       "577 female 38  0     0     113572 80   B28           \n",
       "868 female 62  0     0     113572 80   B28           "
      ]
     },
     "metadata": {},
     "output_type": "display_data"
    },
    {
     "data": {
      "text/html": [
       "<table class=\"dataframe\">\n",
       "<caption>A data.frame: 2 x 12</caption>\n",
       "<thead>\n",
       "\t<tr><th></th><th scope=col>PassengerId</th><th scope=col>Survived</th><th scope=col>Pclass</th><th scope=col>Name</th><th scope=col>Sex</th><th scope=col>Age</th><th scope=col>SibSp</th><th scope=col>Parch</th><th scope=col>Ticket</th><th scope=col>Fare</th><th scope=col>Cabin</th><th scope=col>Embarked</th></tr>\n",
       "\t<tr><th></th><th scope=col>&lt;int&gt;</th><th scope=col>&lt;int&gt;</th><th scope=col>&lt;int&gt;</th><th scope=col>&lt;chr&gt;</th><th scope=col>&lt;chr&gt;</th><th scope=col>&lt;dbl&gt;</th><th scope=col>&lt;int&gt;</th><th scope=col>&lt;int&gt;</th><th scope=col>&lt;chr&gt;</th><th scope=col>&lt;dbl&gt;</th><th scope=col>&lt;chr&gt;</th><th scope=col>&lt;chr&gt;</th></tr>\n",
       "</thead>\n",
       "<tbody>\n",
       "\t<tr><th scope=row>577</th><td> 62</td><td>1</td><td>1</td><td>Icard, Miss. Amelie                      </td><td>female</td><td>38</td><td>0</td><td>0</td><td>113572</td><td>80</td><td>B28</td><td></td></tr>\n",
       "\t<tr><th scope=row>868</th><td>830</td><td>1</td><td>1</td><td>Stone, Mrs. George Nelson (Martha Evelyn)</td><td>female</td><td>62</td><td>0</td><td>0</td><td>113572</td><td>80</td><td>B28</td><td></td></tr>\n",
       "</tbody>\n",
       "</table>\n"
      ],
      "text/latex": [
       "A data.frame: 2 x 12\n",
       "\\begin{tabular}{r|llllllllllll}\n",
       "  & PassengerId & Survived & Pclass & Name & Sex & Age & SibSp & Parch & Ticket & Fare & Cabin & Embarked\\\\\n",
       "  & <int> & <int> & <int> & <chr> & <chr> & <dbl> & <int> & <int> & <chr> & <dbl> & <chr> & <chr>\\\\\n",
       "\\hline\n",
       "\t577 &  62 & 1 & 1 & Icard, Miss. Amelie                       & female & 38 & 0 & 0 & 113572 & 80 & B28 & \\\\\n",
       "\t868 & 830 & 1 & 1 & Stone, Mrs. George Nelson (Martha Evelyn) & female & 62 & 0 & 0 & 113572 & 80 & B28 & \\\\\n",
       "\\end{tabular}\n"
      ],
      "text/markdown": [
       "\n",
       "A data.frame: 2 x 12\n",
       "\n",
       "| <!--/--> | PassengerId &lt;int&gt; | Survived &lt;int&gt; | Pclass &lt;int&gt; | Name &lt;chr&gt; | Sex &lt;chr&gt; | Age &lt;dbl&gt; | SibSp &lt;int&gt; | Parch &lt;int&gt; | Ticket &lt;chr&gt; | Fare &lt;dbl&gt; | Cabin &lt;chr&gt; | Embarked &lt;chr&gt; |\n",
       "|---|---|---|---|---|---|---|---|---|---|---|---|---|\n",
       "| 577 |  62 | 1 | 1 | Icard, Miss. Amelie                       | female | 38 | 0 | 0 | 113572 | 80 | B28 | <!----> |\n",
       "| 868 | 830 | 1 | 1 | Stone, Mrs. George Nelson (Martha Evelyn) | female | 62 | 0 | 0 | 113572 | 80 | B28 | <!----> |\n",
       "\n"
      ],
      "text/plain": [
       "    PassengerId Survived Pclass Name                                     \n",
       "577  62         1        1      Icard, Miss. Amelie                      \n",
       "868 830         1        1      Stone, Mrs. George Nelson (Martha Evelyn)\n",
       "    Sex    Age SibSp Parch Ticket Fare Cabin Embarked\n",
       "577 female 38  0     0     113572 80   B28           \n",
       "868 female 62  0     0     113572 80   B28           "
      ]
     },
     "metadata": {},
     "output_type": "display_data"
    }
   ],
   "source": [
    "# 항구별 탑승인원수를 구하여 가장 많은 탑승인원의 항구로 결정\n",
    "# S 항구\n",
    "# C 항구\n",
    "# Q 항구\n",
    "\n",
    "# 빈칸 항구 찾기 - 1\n",
    "\n",
    "subset(train_tf2, Embarked == \"\")\n",
    "\n",
    "#빈칸 항구 찾기 - 2\n",
    "train_tf2[train_tf2$Embarked ==\"\",]\n",
    "\n"
   ]
  },
  {
   "cell_type": "code",
   "execution_count": null,
   "metadata": {
    "vscode": {
     "languageId": "r"
    }
   },
   "outputs": [
    {
     "data": {
      "text/html": [
       "<table class=\"dataframe\">\n",
       "<caption>A data.frame: 0 x 12</caption>\n",
       "<thead>\n",
       "\t<tr><th scope=col>PassengerId</th><th scope=col>Survived</th><th scope=col>Pclass</th><th scope=col>Name</th><th scope=col>Sex</th><th scope=col>Age</th><th scope=col>SibSp</th><th scope=col>Parch</th><th scope=col>Ticket</th><th scope=col>Fare</th><th scope=col>Cabin</th><th scope=col>Embarked</th></tr>\n",
       "\t<tr><th scope=col>&lt;int&gt;</th><th scope=col>&lt;int&gt;</th><th scope=col>&lt;int&gt;</th><th scope=col>&lt;chr&gt;</th><th scope=col>&lt;chr&gt;</th><th scope=col>&lt;dbl&gt;</th><th scope=col>&lt;int&gt;</th><th scope=col>&lt;int&gt;</th><th scope=col>&lt;chr&gt;</th><th scope=col>&lt;dbl&gt;</th><th scope=col>&lt;chr&gt;</th><th scope=col>&lt;chr&gt;</th></tr>\n",
       "</thead>\n",
       "<tbody>\n",
       "</tbody>\n",
       "</table>\n"
      ],
      "text/latex": [
       "A data.frame: 0 x 12\n",
       "\\begin{tabular}{llllllllllll}\n",
       " PassengerId & Survived & Pclass & Name & Sex & Age & SibSp & Parch & Ticket & Fare & Cabin & Embarked\\\\\n",
       " <int> & <int> & <int> & <chr> & <chr> & <dbl> & <int> & <int> & <chr> & <dbl> & <chr> & <chr>\\\\\n",
       "\\hline\n",
       "\\end{tabular}\n"
      ],
      "text/markdown": [
       "\n",
       "A data.frame: 0 x 12\n",
       "\n",
       "| PassengerId &lt;int&gt; | Survived &lt;int&gt; | Pclass &lt;int&gt; | Name &lt;chr&gt; | Sex &lt;chr&gt; | Age &lt;dbl&gt; | SibSp &lt;int&gt; | Parch &lt;int&gt; | Ticket &lt;chr&gt; | Fare &lt;dbl&gt; | Cabin &lt;chr&gt; | Embarked &lt;chr&gt; |\n",
       "|---|---|---|---|---|---|---|---|---|---|---|---|\n",
       "\n"
      ],
      "text/plain": [
       "     PassengerId Survived Pclass Name Sex Age SibSp Parch Ticket Fare Cabin\n",
       "     Embarked"
      ]
     },
     "metadata": {},
     "output_type": "display_data"
    }
   ],
   "source": [
    "# 빈 항구의 인원을 S항구로 변경 -1 \n",
    "train_tf2$Embarked <- ifelse(train_tf2$Embarked == \"\" , 'S',train_tf2$Embarked )\n",
    "train_tf2[train_tf2$Embarked ==\"\",]"
   ]
  },
  {
   "cell_type": "code",
   "execution_count": null,
   "metadata": {
    "vscode": {
     "languageId": "r"
    }
   },
   "outputs": [],
   "source": [
    "train_tf2 <- train_tf"
   ]
  },
  {
   "cell_type": "code",
   "execution_count": null,
   "metadata": {
    "vscode": {
     "languageId": "r"
    }
   },
   "outputs": [
    {
     "ename": "ERROR",
     "evalue": "Error in `$<-.data.frame`(`*tmp*`, Embarked, value = \"S\"): replacement has 1 row, data has 0\n",
     "output_type": "error",
     "traceback": [
      "Error in `$<-.data.frame`(`*tmp*`, Embarked, value = \"S\"): replacement has 1 row, data has 0\nTraceback:\n",
      "1. `$<-`(`*tmp*`, Embarked, value = \"S\")",
      "2. `$<-.data.frame`(`*tmp*`, Embarked, value = \"S\")",
      "3. stop(sprintf(ngettext(N, \"replacement has %d row, data has %d\", \n .     \"replacement has %d rows, data has %d\"), N, nrows), domain = NA)"
     ]
    }
   ],
   "source": [
    "# 빈 항구의 인원을 S항구로 변경 -2 \n",
    "train_tf2[train_tf2$Embarked == \"\",]$Embarked <- 'S'\n"
   ]
  },
  {
   "cell_type": "code",
   "execution_count": null,
   "metadata": {
    "vscode": {
     "languageId": "r"
    }
   },
   "outputs": [
    {
     "data": {
      "text/html": [
       "<table class=\"dataframe\">\n",
       "<caption>A data.frame: 0 x 12</caption>\n",
       "<thead>\n",
       "\t<tr><th scope=col>PassengerId</th><th scope=col>Survived</th><th scope=col>Pclass</th><th scope=col>Name</th><th scope=col>Sex</th><th scope=col>Age</th><th scope=col>SibSp</th><th scope=col>Parch</th><th scope=col>Ticket</th><th scope=col>Fare</th><th scope=col>Cabin</th><th scope=col>Embarked</th></tr>\n",
       "\t<tr><th scope=col>&lt;int&gt;</th><th scope=col>&lt;int&gt;</th><th scope=col>&lt;int&gt;</th><th scope=col>&lt;chr&gt;</th><th scope=col>&lt;chr&gt;</th><th scope=col>&lt;dbl&gt;</th><th scope=col>&lt;int&gt;</th><th scope=col>&lt;int&gt;</th><th scope=col>&lt;chr&gt;</th><th scope=col>&lt;dbl&gt;</th><th scope=col>&lt;chr&gt;</th><th scope=col>&lt;chr&gt;</th></tr>\n",
       "</thead>\n",
       "<tbody>\n",
       "</tbody>\n",
       "</table>\n"
      ],
      "text/latex": [
       "A data.frame: 0 x 12\n",
       "\\begin{tabular}{llllllllllll}\n",
       " PassengerId & Survived & Pclass & Name & Sex & Age & SibSp & Parch & Ticket & Fare & Cabin & Embarked\\\\\n",
       " <int> & <int> & <int> & <chr> & <chr> & <dbl> & <int> & <int> & <chr> & <dbl> & <chr> & <chr>\\\\\n",
       "\\hline\n",
       "\\end{tabular}\n"
      ],
      "text/markdown": [
       "\n",
       "A data.frame: 0 x 12\n",
       "\n",
       "| PassengerId &lt;int&gt; | Survived &lt;int&gt; | Pclass &lt;int&gt; | Name &lt;chr&gt; | Sex &lt;chr&gt; | Age &lt;dbl&gt; | SibSp &lt;int&gt; | Parch &lt;int&gt; | Ticket &lt;chr&gt; | Fare &lt;dbl&gt; | Cabin &lt;chr&gt; | Embarked &lt;chr&gt; |\n",
       "|---|---|---|---|---|---|---|---|---|---|---|---|\n",
       "\n"
      ],
      "text/plain": [
       "     PassengerId Survived Pclass Name Sex Age SibSp Parch Ticket Fare Cabin\n",
       "     Embarked"
      ]
     },
     "metadata": {},
     "output_type": "display_data"
    }
   ],
   "source": [
    "train_tf2[train_tf2$Embarked == \"\",]"
   ]
  },
  {
   "cell_type": "code",
   "execution_count": null,
   "metadata": {
    "vscode": {
     "languageId": "r"
    }
   },
   "outputs": [],
   "source": [
    "train_tf[train_tf$Embarked == \"\",]$Embarked <- 'S'"
   ]
  },
  {
   "cell_type": "code",
   "execution_count": null,
   "metadata": {
    "vscode": {
     "languageId": "r"
    }
   },
   "outputs": [
    {
     "data": {
      "text/plain": [
       "\n",
       "  C   Q   S \n",
       "168  77 646 "
      ]
     },
     "metadata": {},
     "output_type": "display_data"
    }
   ],
   "source": [
    "table(train_tf$Embarked)"
   ]
  },
  {
   "cell_type": "code",
   "execution_count": null,
   "metadata": {
    "vscode": {
     "languageId": "r"
    }
   },
   "outputs": [
    {
     "data": {
      "text/html": [
       "<style>\n",
       ".list-inline {list-style: none; margin:0; padding: 0}\n",
       ".list-inline>li {display: inline-block}\n",
       ".list-inline>li:not(:last-child)::after {content: \"\\00b7\"; padding: 0 .5ex}\n",
       "</style>\n",
       "<ol class=list-inline><li>'S'</li><li>'S'</li><li>'Q'</li><li>'S'</li><li>'S'</li><li>'S'</li><li>'S'</li><li>'S'</li><li>'Q'</li><li>'S'</li><li>'S'</li><li>'S'</li><li>'C'</li><li>'S'</li><li>'S'</li><li>'C'</li><li>'S'</li><li>'C'</li><li>'S'</li><li>'S'</li><li>'S'</li><li>'S'</li><li>'S'</li><li>'C'</li><li>'S'</li><li>'Q'</li><li>'C'</li><li>'S'</li><li>'S'</li><li>'S'</li><li>'C'</li><li>'C'</li><li>'S'</li><li>'C'</li><li>'S'</li><li>'S'</li><li>'C'</li><li>'S'</li><li>'S'</li><li>'S'</li><li>'S'</li><li>'S'</li><li>'C'</li><li>'S'</li><li>'S'</li><li>'S'</li><li>'S'</li><li>'S'</li><li>'S'</li><li>'S'</li><li>'S'</li><li>'S'</li><li>'S'</li><li>'S'</li><li>'S'</li><li>'S'</li><li>'S'</li><li>'C'</li><li>'S'</li><li>'S'</li><li>'S'</li><li>'S'</li><li>'S'</li><li>'S'</li><li>'S'</li><li>'S'</li><li>'S'</li><li>'C'</li><li>'S'</li><li>'S'</li><li>'C'</li><li>'S'</li><li>'Q'</li><li>'S'</li><li>'C'</li><li>'S'</li><li>'S'</li><li>'S'</li><li>'C'</li><li>'S'</li><li>'Q'</li><li>'S'</li><li>'C'</li><li>'S'</li><li>'S'</li><li>'S'</li><li>'C'</li><li>'S'</li><li>'S'</li><li>'C'</li><li>'C'</li><li>'Q'</li><li>'S'</li><li>'S'</li><li>'S'</li><li>'S'</li><li>'S'</li><li>'S'</li><li>'S'</li><li>'S'</li><li>'S'</li><li>'C'</li><li>'S'</li><li>'S'</li><li>'S'</li><li>'S'</li><li>'S'</li><li>'S'</li><li>'S'</li><li>'S'</li><li>'S'</li><li>'S'</li><li>'S'</li><li>'Q'</li><li>'S'</li><li>'C'</li><li>'S'</li><li>'S'</li><li>'C'</li><li>'S'</li><li>'S'</li><li>'S'</li><li>'C'</li><li>'S'</li><li>'S'</li><li>'Q'</li><li>'S'</li><li>'S'</li><li>'Q'</li><li>'S'</li><li>'S'</li><li>'S'</li><li>'S'</li><li>'S'</li><li>'C'</li><li>'S'</li><li>'S'</li><li>'S'</li><li>'S'</li><li>'S'</li><li>'Q'</li><li>'S'</li><li>'S'</li><li>'S'</li><li>'S'</li><li>'S'</li><li>'S'</li><li>'S'</li><li>'S'</li><li>'S'</li><li>'S'</li><li>'S'</li><li>'S'</li><li>'S'</li><li>'S'</li><li>'S'</li><li>'S'</li><li>'C'</li><li>'S'</li><li>'S'</li><li>'C'</li><li>'Q'</li><li>'S'</li><li>'S'</li><li>'S'</li><li>'S'</li><li>'S'</li><li>'S'</li><li>'S'</li><li>'Q'</li><li>'S'</li><li>'S'</li><li>'Q'</li><li>'S'</li><li>'S'</li><li>'S'</li><li>'C'</li><li>'S'</li><li>'S'</li><li>'Q'</li><li>'Q'</li><li>'S'</li><li>'S'</li><li>'S'</li><li>'C'</li><li>'S'</li><li>'C'</li><li>'S'</li><li>'S'</li><li>'C'</li><li>'C'</li><li>'S'</li><li>'S'</li><li>'S'</li><li>'C'</li><li>'S'</li><li>'S'</li><li>'S'</li><li>'S'</li><li>'S'</li><li>...</li><li>'Q'</li><li>'C'</li><li>'C'</li><li>'C'</li><li>'S'</li><li>'C'</li><li>'C'</li><li>'S'</li><li>'S'</li><li>'C'</li><li>'S'</li><li>'S'</li><li>'C'</li><li>'S'</li><li>'S'</li><li>'S'</li><li>'S'</li><li>'Q'</li><li>'S'</li><li>'S'</li><li>'S'</li><li>'S'</li><li>'S'</li><li>'S'</li><li>'S'</li><li>'S'</li><li>'S'</li><li>'S'</li><li>'S'</li><li>'S'</li><li>'S'</li><li>'S'</li><li>'S'</li><li>'S'</li><li>'S'</li><li>'C'</li><li>'S'</li><li>'C'</li><li>'C'</li><li>'S'</li><li>'S'</li><li>'S'</li><li>'C'</li><li>'S'</li><li>'C'</li><li>'S'</li><li>'S'</li><li>'C'</li><li>'S'</li><li>'S'</li><li>'C'</li><li>'S'</li><li>'S'</li><li>'S'</li><li>'S'</li><li>'Q'</li><li>'S'</li><li>'C'</li><li>'S'</li><li>'S'</li><li>'S'</li><li>'C'</li><li>'S'</li><li>'S'</li><li>'C'</li><li>'S'</li><li>'C'</li><li>'C'</li><li>'S'</li><li>'S'</li><li>'S'</li><li>'C'</li><li>'S'</li><li>'C'</li><li>'C'</li><li>'S'</li><li>'C'</li><li>'S'</li><li>'S'</li><li>'S'</li><li>'S'</li><li>'S'</li><li>'S'</li><li>'Q'</li><li>'S'</li><li>'S'</li><li>'S'</li><li>'S'</li><li>'C'</li><li>'S'</li><li>'C'</li><li>'C'</li><li>'S'</li><li>'C'</li><li>'S'</li><li>'C'</li><li>'S'</li><li>'C'</li><li>'S'</li><li>'Q'</li><li>'S'</li><li>'S'</li><li>'S'</li><li>'C'</li><li>'S'</li><li>'S'</li><li>'C'</li><li>'S'</li><li>'C'</li><li>'S'</li><li>'C'</li><li>'C'</li><li>'C'</li><li>'S'</li><li>'S'</li><li>'Q'</li><li>'S'</li><li>'S'</li><li>'S'</li><li>'S'</li><li>'S'</li><li>'S'</li><li>'C'</li><li>'C'</li><li>'S'</li><li>'S'</li><li>'C'</li><li>'S'</li><li>'Q'</li><li>'C'</li><li>'S'</li><li>'S'</li><li>'S'</li><li>'S'</li><li>'C'</li><li>'C'</li><li>'S'</li><li>'C'</li><li>'S'</li><li>'S'</li><li>'S'</li><li>'S'</li><li>'Q'</li><li>'S'</li><li>'C'</li><li>'S'</li><li>'C'</li><li>'S'</li><li>'S'</li><li>'S'</li><li>'S'</li><li>'S'</li><li>'S'</li><li>'S'</li><li>'C'</li><li>'S'</li><li>'S'</li><li>'S'</li><li>'S'</li><li>'S'</li><li>'C'</li><li>'S'</li><li>'S'</li><li>'S'</li><li>'S'</li><li>'S'</li><li>'S'</li><li>'S'</li><li>'C'</li><li>'S'</li><li>'S'</li><li>'S'</li><li>'S'</li><li>'S'</li><li>'C'</li><li>'Q'</li><li>'S'</li><li>'C'</li><li>'S'</li><li>'C'</li><li>'S'</li><li>'C'</li><li>'C'</li><li>'C'</li><li>'S'</li><li>'S'</li><li>'S'</li><li>'S'</li><li>'C'</li><li>'S'</li><li>'S'</li><li>'C'</li><li>'S'</li><li>'S'</li><li>'C'</li><li>'C'</li><li>'C'</li><li>'S'</li><li>'S'</li><li>'C'</li></ol>\n"
      ],
      "text/latex": [
       "\\begin{enumerate*}\n",
       "\\item 'S'\n",
       "\\item 'S'\n",
       "\\item 'Q'\n",
       "\\item 'S'\n",
       "\\item 'S'\n",
       "\\item 'S'\n",
       "\\item 'S'\n",
       "\\item 'S'\n",
       "\\item 'Q'\n",
       "\\item 'S'\n",
       "\\item 'S'\n",
       "\\item 'S'\n",
       "\\item 'C'\n",
       "\\item 'S'\n",
       "\\item 'S'\n",
       "\\item 'C'\n",
       "\\item 'S'\n",
       "\\item 'C'\n",
       "\\item 'S'\n",
       "\\item 'S'\n",
       "\\item 'S'\n",
       "\\item 'S'\n",
       "\\item 'S'\n",
       "\\item 'C'\n",
       "\\item 'S'\n",
       "\\item 'Q'\n",
       "\\item 'C'\n",
       "\\item 'S'\n",
       "\\item 'S'\n",
       "\\item 'S'\n",
       "\\item 'C'\n",
       "\\item 'C'\n",
       "\\item 'S'\n",
       "\\item 'C'\n",
       "\\item 'S'\n",
       "\\item 'S'\n",
       "\\item 'C'\n",
       "\\item 'S'\n",
       "\\item 'S'\n",
       "\\item 'S'\n",
       "\\item 'S'\n",
       "\\item 'S'\n",
       "\\item 'C'\n",
       "\\item 'S'\n",
       "\\item 'S'\n",
       "\\item 'S'\n",
       "\\item 'S'\n",
       "\\item 'S'\n",
       "\\item 'S'\n",
       "\\item 'S'\n",
       "\\item 'S'\n",
       "\\item 'S'\n",
       "\\item 'S'\n",
       "\\item 'S'\n",
       "\\item 'S'\n",
       "\\item 'S'\n",
       "\\item 'S'\n",
       "\\item 'C'\n",
       "\\item 'S'\n",
       "\\item 'S'\n",
       "\\item 'S'\n",
       "\\item 'S'\n",
       "\\item 'S'\n",
       "\\item 'S'\n",
       "\\item 'S'\n",
       "\\item 'S'\n",
       "\\item 'S'\n",
       "\\item 'C'\n",
       "\\item 'S'\n",
       "\\item 'S'\n",
       "\\item 'C'\n",
       "\\item 'S'\n",
       "\\item 'Q'\n",
       "\\item 'S'\n",
       "\\item 'C'\n",
       "\\item 'S'\n",
       "\\item 'S'\n",
       "\\item 'S'\n",
       "\\item 'C'\n",
       "\\item 'S'\n",
       "\\item 'Q'\n",
       "\\item 'S'\n",
       "\\item 'C'\n",
       "\\item 'S'\n",
       "\\item 'S'\n",
       "\\item 'S'\n",
       "\\item 'C'\n",
       "\\item 'S'\n",
       "\\item 'S'\n",
       "\\item 'C'\n",
       "\\item 'C'\n",
       "\\item 'Q'\n",
       "\\item 'S'\n",
       "\\item 'S'\n",
       "\\item 'S'\n",
       "\\item 'S'\n",
       "\\item 'S'\n",
       "\\item 'S'\n",
       "\\item 'S'\n",
       "\\item 'S'\n",
       "\\item 'S'\n",
       "\\item 'C'\n",
       "\\item 'S'\n",
       "\\item 'S'\n",
       "\\item 'S'\n",
       "\\item 'S'\n",
       "\\item 'S'\n",
       "\\item 'S'\n",
       "\\item 'S'\n",
       "\\item 'S'\n",
       "\\item 'S'\n",
       "\\item 'S'\n",
       "\\item 'S'\n",
       "\\item 'Q'\n",
       "\\item 'S'\n",
       "\\item 'C'\n",
       "\\item 'S'\n",
       "\\item 'S'\n",
       "\\item 'C'\n",
       "\\item 'S'\n",
       "\\item 'S'\n",
       "\\item 'S'\n",
       "\\item 'C'\n",
       "\\item 'S'\n",
       "\\item 'S'\n",
       "\\item 'Q'\n",
       "\\item 'S'\n",
       "\\item 'S'\n",
       "\\item 'Q'\n",
       "\\item 'S'\n",
       "\\item 'S'\n",
       "\\item 'S'\n",
       "\\item 'S'\n",
       "\\item 'S'\n",
       "\\item 'C'\n",
       "\\item 'S'\n",
       "\\item 'S'\n",
       "\\item 'S'\n",
       "\\item 'S'\n",
       "\\item 'S'\n",
       "\\item 'Q'\n",
       "\\item 'S'\n",
       "\\item 'S'\n",
       "\\item 'S'\n",
       "\\item 'S'\n",
       "\\item 'S'\n",
       "\\item 'S'\n",
       "\\item 'S'\n",
       "\\item 'S'\n",
       "\\item 'S'\n",
       "\\item 'S'\n",
       "\\item 'S'\n",
       "\\item 'S'\n",
       "\\item 'S'\n",
       "\\item 'S'\n",
       "\\item 'S'\n",
       "\\item 'S'\n",
       "\\item 'C'\n",
       "\\item 'S'\n",
       "\\item 'S'\n",
       "\\item 'C'\n",
       "\\item 'Q'\n",
       "\\item 'S'\n",
       "\\item 'S'\n",
       "\\item 'S'\n",
       "\\item 'S'\n",
       "\\item 'S'\n",
       "\\item 'S'\n",
       "\\item 'S'\n",
       "\\item 'Q'\n",
       "\\item 'S'\n",
       "\\item 'S'\n",
       "\\item 'Q'\n",
       "\\item 'S'\n",
       "\\item 'S'\n",
       "\\item 'S'\n",
       "\\item 'C'\n",
       "\\item 'S'\n",
       "\\item 'S'\n",
       "\\item 'Q'\n",
       "\\item 'Q'\n",
       "\\item 'S'\n",
       "\\item 'S'\n",
       "\\item 'S'\n",
       "\\item 'C'\n",
       "\\item 'S'\n",
       "\\item 'C'\n",
       "\\item 'S'\n",
       "\\item 'S'\n",
       "\\item 'C'\n",
       "\\item 'C'\n",
       "\\item 'S'\n",
       "\\item 'S'\n",
       "\\item 'S'\n",
       "\\item 'C'\n",
       "\\item 'S'\n",
       "\\item 'S'\n",
       "\\item 'S'\n",
       "\\item 'S'\n",
       "\\item 'S'\n",
       "\\item ...\n",
       "\\item 'Q'\n",
       "\\item 'C'\n",
       "\\item 'C'\n",
       "\\item 'C'\n",
       "\\item 'S'\n",
       "\\item 'C'\n",
       "\\item 'C'\n",
       "\\item 'S'\n",
       "\\item 'S'\n",
       "\\item 'C'\n",
       "\\item 'S'\n",
       "\\item 'S'\n",
       "\\item 'C'\n",
       "\\item 'S'\n",
       "\\item 'S'\n",
       "\\item 'S'\n",
       "\\item 'S'\n",
       "\\item 'Q'\n",
       "\\item 'S'\n",
       "\\item 'S'\n",
       "\\item 'S'\n",
       "\\item 'S'\n",
       "\\item 'S'\n",
       "\\item 'S'\n",
       "\\item 'S'\n",
       "\\item 'S'\n",
       "\\item 'S'\n",
       "\\item 'S'\n",
       "\\item 'S'\n",
       "\\item 'S'\n",
       "\\item 'S'\n",
       "\\item 'S'\n",
       "\\item 'S'\n",
       "\\item 'S'\n",
       "\\item 'S'\n",
       "\\item 'C'\n",
       "\\item 'S'\n",
       "\\item 'C'\n",
       "\\item 'C'\n",
       "\\item 'S'\n",
       "\\item 'S'\n",
       "\\item 'S'\n",
       "\\item 'C'\n",
       "\\item 'S'\n",
       "\\item 'C'\n",
       "\\item 'S'\n",
       "\\item 'S'\n",
       "\\item 'C'\n",
       "\\item 'S'\n",
       "\\item 'S'\n",
       "\\item 'C'\n",
       "\\item 'S'\n",
       "\\item 'S'\n",
       "\\item 'S'\n",
       "\\item 'S'\n",
       "\\item 'Q'\n",
       "\\item 'S'\n",
       "\\item 'C'\n",
       "\\item 'S'\n",
       "\\item 'S'\n",
       "\\item 'S'\n",
       "\\item 'C'\n",
       "\\item 'S'\n",
       "\\item 'S'\n",
       "\\item 'C'\n",
       "\\item 'S'\n",
       "\\item 'C'\n",
       "\\item 'C'\n",
       "\\item 'S'\n",
       "\\item 'S'\n",
       "\\item 'S'\n",
       "\\item 'C'\n",
       "\\item 'S'\n",
       "\\item 'C'\n",
       "\\item 'C'\n",
       "\\item 'S'\n",
       "\\item 'C'\n",
       "\\item 'S'\n",
       "\\item 'S'\n",
       "\\item 'S'\n",
       "\\item 'S'\n",
       "\\item 'S'\n",
       "\\item 'S'\n",
       "\\item 'Q'\n",
       "\\item 'S'\n",
       "\\item 'S'\n",
       "\\item 'S'\n",
       "\\item 'S'\n",
       "\\item 'C'\n",
       "\\item 'S'\n",
       "\\item 'C'\n",
       "\\item 'C'\n",
       "\\item 'S'\n",
       "\\item 'C'\n",
       "\\item 'S'\n",
       "\\item 'C'\n",
       "\\item 'S'\n",
       "\\item 'C'\n",
       "\\item 'S'\n",
       "\\item 'Q'\n",
       "\\item 'S'\n",
       "\\item 'S'\n",
       "\\item 'S'\n",
       "\\item 'C'\n",
       "\\item 'S'\n",
       "\\item 'S'\n",
       "\\item 'C'\n",
       "\\item 'S'\n",
       "\\item 'C'\n",
       "\\item 'S'\n",
       "\\item 'C'\n",
       "\\item 'C'\n",
       "\\item 'C'\n",
       "\\item 'S'\n",
       "\\item 'S'\n",
       "\\item 'Q'\n",
       "\\item 'S'\n",
       "\\item 'S'\n",
       "\\item 'S'\n",
       "\\item 'S'\n",
       "\\item 'S'\n",
       "\\item 'S'\n",
       "\\item 'C'\n",
       "\\item 'C'\n",
       "\\item 'S'\n",
       "\\item 'S'\n",
       "\\item 'C'\n",
       "\\item 'S'\n",
       "\\item 'Q'\n",
       "\\item 'C'\n",
       "\\item 'S'\n",
       "\\item 'S'\n",
       "\\item 'S'\n",
       "\\item 'S'\n",
       "\\item 'C'\n",
       "\\item 'C'\n",
       "\\item 'S'\n",
       "\\item 'C'\n",
       "\\item 'S'\n",
       "\\item 'S'\n",
       "\\item 'S'\n",
       "\\item 'S'\n",
       "\\item 'Q'\n",
       "\\item 'S'\n",
       "\\item 'C'\n",
       "\\item 'S'\n",
       "\\item 'C'\n",
       "\\item 'S'\n",
       "\\item 'S'\n",
       "\\item 'S'\n",
       "\\item 'S'\n",
       "\\item 'S'\n",
       "\\item 'S'\n",
       "\\item 'S'\n",
       "\\item 'C'\n",
       "\\item 'S'\n",
       "\\item 'S'\n",
       "\\item 'S'\n",
       "\\item 'S'\n",
       "\\item 'S'\n",
       "\\item 'C'\n",
       "\\item 'S'\n",
       "\\item 'S'\n",
       "\\item 'S'\n",
       "\\item 'S'\n",
       "\\item 'S'\n",
       "\\item 'S'\n",
       "\\item 'S'\n",
       "\\item 'C'\n",
       "\\item 'S'\n",
       "\\item 'S'\n",
       "\\item 'S'\n",
       "\\item 'S'\n",
       "\\item 'S'\n",
       "\\item 'C'\n",
       "\\item 'Q'\n",
       "\\item 'S'\n",
       "\\item 'C'\n",
       "\\item 'S'\n",
       "\\item 'C'\n",
       "\\item 'S'\n",
       "\\item 'C'\n",
       "\\item 'C'\n",
       "\\item 'C'\n",
       "\\item 'S'\n",
       "\\item 'S'\n",
       "\\item 'S'\n",
       "\\item 'S'\n",
       "\\item 'C'\n",
       "\\item 'S'\n",
       "\\item 'S'\n",
       "\\item 'C'\n",
       "\\item 'S'\n",
       "\\item 'S'\n",
       "\\item 'C'\n",
       "\\item 'C'\n",
       "\\item 'C'\n",
       "\\item 'S'\n",
       "\\item 'S'\n",
       "\\item 'C'\n",
       "\\end{enumerate*}\n"
      ],
      "text/markdown": [
       "1. 'S'\n",
       "2. 'S'\n",
       "3. 'Q'\n",
       "4. 'S'\n",
       "5. 'S'\n",
       "6. 'S'\n",
       "7. 'S'\n",
       "8. 'S'\n",
       "9. 'Q'\n",
       "10. 'S'\n",
       "11. 'S'\n",
       "12. 'S'\n",
       "13. 'C'\n",
       "14. 'S'\n",
       "15. 'S'\n",
       "16. 'C'\n",
       "17. 'S'\n",
       "18. 'C'\n",
       "19. 'S'\n",
       "20. 'S'\n",
       "21. 'S'\n",
       "22. 'S'\n",
       "23. 'S'\n",
       "24. 'C'\n",
       "25. 'S'\n",
       "26. 'Q'\n",
       "27. 'C'\n",
       "28. 'S'\n",
       "29. 'S'\n",
       "30. 'S'\n",
       "31. 'C'\n",
       "32. 'C'\n",
       "33. 'S'\n",
       "34. 'C'\n",
       "35. 'S'\n",
       "36. 'S'\n",
       "37. 'C'\n",
       "38. 'S'\n",
       "39. 'S'\n",
       "40. 'S'\n",
       "41. 'S'\n",
       "42. 'S'\n",
       "43. 'C'\n",
       "44. 'S'\n",
       "45. 'S'\n",
       "46. 'S'\n",
       "47. 'S'\n",
       "48. 'S'\n",
       "49. 'S'\n",
       "50. 'S'\n",
       "51. 'S'\n",
       "52. 'S'\n",
       "53. 'S'\n",
       "54. 'S'\n",
       "55. 'S'\n",
       "56. 'S'\n",
       "57. 'S'\n",
       "58. 'C'\n",
       "59. 'S'\n",
       "60. 'S'\n",
       "61. 'S'\n",
       "62. 'S'\n",
       "63. 'S'\n",
       "64. 'S'\n",
       "65. 'S'\n",
       "66. 'S'\n",
       "67. 'S'\n",
       "68. 'C'\n",
       "69. 'S'\n",
       "70. 'S'\n",
       "71. 'C'\n",
       "72. 'S'\n",
       "73. 'Q'\n",
       "74. 'S'\n",
       "75. 'C'\n",
       "76. 'S'\n",
       "77. 'S'\n",
       "78. 'S'\n",
       "79. 'C'\n",
       "80. 'S'\n",
       "81. 'Q'\n",
       "82. 'S'\n",
       "83. 'C'\n",
       "84. 'S'\n",
       "85. 'S'\n",
       "86. 'S'\n",
       "87. 'C'\n",
       "88. 'S'\n",
       "89. 'S'\n",
       "90. 'C'\n",
       "91. 'C'\n",
       "92. 'Q'\n",
       "93. 'S'\n",
       "94. 'S'\n",
       "95. 'S'\n",
       "96. 'S'\n",
       "97. 'S'\n",
       "98. 'S'\n",
       "99. 'S'\n",
       "100. 'S'\n",
       "101. 'S'\n",
       "102. 'C'\n",
       "103. 'S'\n",
       "104. 'S'\n",
       "105. 'S'\n",
       "106. 'S'\n",
       "107. 'S'\n",
       "108. 'S'\n",
       "109. 'S'\n",
       "110. 'S'\n",
       "111. 'S'\n",
       "112. 'S'\n",
       "113. 'S'\n",
       "114. 'Q'\n",
       "115. 'S'\n",
       "116. 'C'\n",
       "117. 'S'\n",
       "118. 'S'\n",
       "119. 'C'\n",
       "120. 'S'\n",
       "121. 'S'\n",
       "122. 'S'\n",
       "123. 'C'\n",
       "124. 'S'\n",
       "125. 'S'\n",
       "126. 'Q'\n",
       "127. 'S'\n",
       "128. 'S'\n",
       "129. 'Q'\n",
       "130. 'S'\n",
       "131. 'S'\n",
       "132. 'S'\n",
       "133. 'S'\n",
       "134. 'S'\n",
       "135. 'C'\n",
       "136. 'S'\n",
       "137. 'S'\n",
       "138. 'S'\n",
       "139. 'S'\n",
       "140. 'S'\n",
       "141. 'Q'\n",
       "142. 'S'\n",
       "143. 'S'\n",
       "144. 'S'\n",
       "145. 'S'\n",
       "146. 'S'\n",
       "147. 'S'\n",
       "148. 'S'\n",
       "149. 'S'\n",
       "150. 'S'\n",
       "151. 'S'\n",
       "152. 'S'\n",
       "153. 'S'\n",
       "154. 'S'\n",
       "155. 'S'\n",
       "156. 'S'\n",
       "157. 'S'\n",
       "158. 'C'\n",
       "159. 'S'\n",
       "160. 'S'\n",
       "161. 'C'\n",
       "162. 'Q'\n",
       "163. 'S'\n",
       "164. 'S'\n",
       "165. 'S'\n",
       "166. 'S'\n",
       "167. 'S'\n",
       "168. 'S'\n",
       "169. 'S'\n",
       "170. 'Q'\n",
       "171. 'S'\n",
       "172. 'S'\n",
       "173. 'Q'\n",
       "174. 'S'\n",
       "175. 'S'\n",
       "176. 'S'\n",
       "177. 'C'\n",
       "178. 'S'\n",
       "179. 'S'\n",
       "180. 'Q'\n",
       "181. 'Q'\n",
       "182. 'S'\n",
       "183. 'S'\n",
       "184. 'S'\n",
       "185. 'C'\n",
       "186. 'S'\n",
       "187. 'C'\n",
       "188. 'S'\n",
       "189. 'S'\n",
       "190. 'C'\n",
       "191. 'C'\n",
       "192. 'S'\n",
       "193. 'S'\n",
       "194. 'S'\n",
       "195. 'C'\n",
       "196. 'S'\n",
       "197. 'S'\n",
       "198. 'S'\n",
       "199. 'S'\n",
       "200. 'S'\n",
       "201. ...\n",
       "202. 'Q'\n",
       "203. 'C'\n",
       "204. 'C'\n",
       "205. 'C'\n",
       "206. 'S'\n",
       "207. 'C'\n",
       "208. 'C'\n",
       "209. 'S'\n",
       "210. 'S'\n",
       "211. 'C'\n",
       "212. 'S'\n",
       "213. 'S'\n",
       "214. 'C'\n",
       "215. 'S'\n",
       "216. 'S'\n",
       "217. 'S'\n",
       "218. 'S'\n",
       "219. 'Q'\n",
       "220. 'S'\n",
       "221. 'S'\n",
       "222. 'S'\n",
       "223. 'S'\n",
       "224. 'S'\n",
       "225. 'S'\n",
       "226. 'S'\n",
       "227. 'S'\n",
       "228. 'S'\n",
       "229. 'S'\n",
       "230. 'S'\n",
       "231. 'S'\n",
       "232. 'S'\n",
       "233. 'S'\n",
       "234. 'S'\n",
       "235. 'S'\n",
       "236. 'S'\n",
       "237. 'C'\n",
       "238. 'S'\n",
       "239. 'C'\n",
       "240. 'C'\n",
       "241. 'S'\n",
       "242. 'S'\n",
       "243. 'S'\n",
       "244. 'C'\n",
       "245. 'S'\n",
       "246. 'C'\n",
       "247. 'S'\n",
       "248. 'S'\n",
       "249. 'C'\n",
       "250. 'S'\n",
       "251. 'S'\n",
       "252. 'C'\n",
       "253. 'S'\n",
       "254. 'S'\n",
       "255. 'S'\n",
       "256. 'S'\n",
       "257. 'Q'\n",
       "258. 'S'\n",
       "259. 'C'\n",
       "260. 'S'\n",
       "261. 'S'\n",
       "262. 'S'\n",
       "263. 'C'\n",
       "264. 'S'\n",
       "265. 'S'\n",
       "266. 'C'\n",
       "267. 'S'\n",
       "268. 'C'\n",
       "269. 'C'\n",
       "270. 'S'\n",
       "271. 'S'\n",
       "272. 'S'\n",
       "273. 'C'\n",
       "274. 'S'\n",
       "275. 'C'\n",
       "276. 'C'\n",
       "277. 'S'\n",
       "278. 'C'\n",
       "279. 'S'\n",
       "280. 'S'\n",
       "281. 'S'\n",
       "282. 'S'\n",
       "283. 'S'\n",
       "284. 'S'\n",
       "285. 'Q'\n",
       "286. 'S'\n",
       "287. 'S'\n",
       "288. 'S'\n",
       "289. 'S'\n",
       "290. 'C'\n",
       "291. 'S'\n",
       "292. 'C'\n",
       "293. 'C'\n",
       "294. 'S'\n",
       "295. 'C'\n",
       "296. 'S'\n",
       "297. 'C'\n",
       "298. 'S'\n",
       "299. 'C'\n",
       "300. 'S'\n",
       "301. 'Q'\n",
       "302. 'S'\n",
       "303. 'S'\n",
       "304. 'S'\n",
       "305. 'C'\n",
       "306. 'S'\n",
       "307. 'S'\n",
       "308. 'C'\n",
       "309. 'S'\n",
       "310. 'C'\n",
       "311. 'S'\n",
       "312. 'C'\n",
       "313. 'C'\n",
       "314. 'C'\n",
       "315. 'S'\n",
       "316. 'S'\n",
       "317. 'Q'\n",
       "318. 'S'\n",
       "319. 'S'\n",
       "320. 'S'\n",
       "321. 'S'\n",
       "322. 'S'\n",
       "323. 'S'\n",
       "324. 'C'\n",
       "325. 'C'\n",
       "326. 'S'\n",
       "327. 'S'\n",
       "328. 'C'\n",
       "329. 'S'\n",
       "330. 'Q'\n",
       "331. 'C'\n",
       "332. 'S'\n",
       "333. 'S'\n",
       "334. 'S'\n",
       "335. 'S'\n",
       "336. 'C'\n",
       "337. 'C'\n",
       "338. 'S'\n",
       "339. 'C'\n",
       "340. 'S'\n",
       "341. 'S'\n",
       "342. 'S'\n",
       "343. 'S'\n",
       "344. 'Q'\n",
       "345. 'S'\n",
       "346. 'C'\n",
       "347. 'S'\n",
       "348. 'C'\n",
       "349. 'S'\n",
       "350. 'S'\n",
       "351. 'S'\n",
       "352. 'S'\n",
       "353. 'S'\n",
       "354. 'S'\n",
       "355. 'S'\n",
       "356. 'C'\n",
       "357. 'S'\n",
       "358. 'S'\n",
       "359. 'S'\n",
       "360. 'S'\n",
       "361. 'S'\n",
       "362. 'C'\n",
       "363. 'S'\n",
       "364. 'S'\n",
       "365. 'S'\n",
       "366. 'S'\n",
       "367. 'S'\n",
       "368. 'S'\n",
       "369. 'S'\n",
       "370. 'C'\n",
       "371. 'S'\n",
       "372. 'S'\n",
       "373. 'S'\n",
       "374. 'S'\n",
       "375. 'S'\n",
       "376. 'C'\n",
       "377. 'Q'\n",
       "378. 'S'\n",
       "379. 'C'\n",
       "380. 'S'\n",
       "381. 'C'\n",
       "382. 'S'\n",
       "383. 'C'\n",
       "384. 'C'\n",
       "385. 'C'\n",
       "386. 'S'\n",
       "387. 'S'\n",
       "388. 'S'\n",
       "389. 'S'\n",
       "390. 'C'\n",
       "391. 'S'\n",
       "392. 'S'\n",
       "393. 'C'\n",
       "394. 'S'\n",
       "395. 'S'\n",
       "396. 'C'\n",
       "397. 'C'\n",
       "398. 'C'\n",
       "399. 'S'\n",
       "400. 'S'\n",
       "401. 'C'\n",
       "\n",
       "\n"
      ],
      "text/plain": [
       "  [1] \"S\" \"S\" \"Q\" \"S\" \"S\" \"S\" \"S\" \"S\" \"Q\" \"S\" \"S\" \"S\" \"C\" \"S\" \"S\" \"C\" \"S\" \"C\"\n",
       " [19] \"S\" \"S\" \"S\" \"S\" \"S\" \"C\" \"S\" \"Q\" \"C\" \"S\" \"S\" \"S\" \"C\" \"C\" \"S\" \"C\" \"S\" \"S\"\n",
       " [37] \"C\" \"S\" \"S\" \"S\" \"S\" \"S\" \"C\" \"S\" \"S\" \"S\" \"S\" \"S\" \"S\" \"S\" \"S\" \"S\" \"S\" \"S\"\n",
       " [55] \"S\" \"S\" \"S\" \"C\" \"S\" \"S\" \"S\" \"S\" \"S\" \"S\" \"S\" \"S\" \"S\" \"C\" \"S\" \"S\" \"C\" \"S\"\n",
       " [73] \"Q\" \"S\" \"C\" \"S\" \"S\" \"S\" \"C\" \"S\" \"Q\" \"S\" \"C\" \"S\" \"S\" \"S\" \"C\" \"S\" \"S\" \"C\"\n",
       " [91] \"C\" \"Q\" \"S\" \"S\" \"S\" \"S\" \"S\" \"S\" \"S\" \"S\" \"S\" \"C\" \"S\" \"S\" \"S\" \"S\" \"S\" \"S\"\n",
       "[109] \"S\" \"S\" \"S\" \"S\" \"S\" \"Q\" \"S\" \"C\" \"S\" \"S\" \"C\" \"S\" \"S\" \"S\" \"C\" \"S\" \"S\" \"Q\"\n",
       "[127] \"S\" \"S\" \"Q\" \"S\" \"S\" \"S\" \"S\" \"S\" \"C\" \"S\" \"S\" \"S\" \"S\" \"S\" \"Q\" \"S\" \"S\" \"S\"\n",
       "[145] \"S\" \"S\" \"S\" \"S\" \"S\" \"S\" \"S\" \"S\" \"S\" \"S\" \"S\" \"S\" \"S\" \"C\" \"S\" \"S\" \"C\" \"Q\"\n",
       "[163] \"S\" \"S\" \"S\" \"S\" \"S\" \"S\" \"S\" \"Q\" \"S\" \"S\" \"Q\" \"S\" \"S\" \"S\" \"C\" \"S\" \"S\" \"Q\"\n",
       "[181] \"Q\" \"S\" \"S\" \"S\" \"C\" \"S\" \"C\" \"S\" \"S\" \"C\" \"C\" \"S\" \"S\" \"S\" \"C\" \"S\" \"S\" \"S\"\n",
       "[199] \"S\" \"S\" \"S\" \"S\" \"S\" \"S\" \"S\" \"S\" \"S\" \"S\" \"S\" \"S\" \"S\" \"S\" \"S\" \"S\" \"S\" \"C\"\n",
       "[217] \"S\" \"C\" \"S\" \"S\" \"S\" \"C\" \"C\" \"S\" \"Q\" \"S\" \"S\" \"S\" \"C\" \"S\" \"C\" \"C\" \"S\" \"S\"\n",
       "[235] \"S\" \"S\" \"S\" \"Q\" \"S\" \"S\" \"S\" \"S\" \"S\" \"S\" \"S\" \"S\" \"S\" \"S\" \"S\" \"S\" \"S\" \"S\"\n",
       "[253] \"Q\" \"S\" \"S\" \"S\" \"S\" \"C\" \"Q\" \"S\" \"S\" \"S\" \"S\" \"Q\" \"S\" \"S\" \"S\" \"S\" \"S\" \"S\"\n",
       "[271] \"S\" \"S\" \"S\" \"C\" \"S\" \"S\" \"Q\" \"S\" \"S\" \"S\" \"S\" \"S\" \"S\" \"S\" \"Q\" \"S\" \"S\" \"S\"\n",
       "[289] \"S\" \"S\" \"S\" \"S\" \"S\" \"S\" \"S\" \"S\" \"C\" \"S\" \"S\" \"S\" \"S\" \"C\" \"S\" \"C\" \"S\" \"S\"\n",
       "[307] \"S\" \"S\" \"Q\" \"Q\" \"S\" \"C\" \"S\" \"S\" \"S\" \"S\" \"Q\" \"S\" \"S\" \"C\" \"C\" \"Q\" \"S\" \"S\"\n",
       "[325] \"S\" \"C\" \"C\" \"S\" \"S\" \"S\" \"S\" \"S\" \"C\" \"S\" \"S\" \"S\" \"Q\" \"S\" \"C\" \"Q\" \"S\" \"S\"\n",
       "[343] \"S\" \"S\" \"S\" \"S\" \"S\" \"C\" \"S\" \"S\" \"C\" \"S\" \"C\" \"C\" \"S\" \"S\" \"S\" \"S\" \"S\" \"Q\"\n",
       "[361] \"S\" \"S\" \"S\" \"C\" \"S\" \"S\" \"S\" \"S\" \"S\" \"S\" \"S\" \"Q\" \"S\" \"S\" \"S\" \"S\" \"C\" \"S\"\n",
       "[379] \"S\" \"S\" \"Q\" \"S\" \"Q\" \"S\" \"S\" \"S\" \"S\" \"S\" \"S\" \"S\" \"S\" \"S\" \"S\" \"S\" \"S\" \"S\"\n",
       "[397] \"Q\" \"S\" \"S\" \"Q\" \"S\" \"C\" \"C\" \"S\" \"S\" \"S\" \"S\" \"S\" \"S\" \"S\" \"S\" \"S\" \"S\" \"S\"\n",
       "[415] \"S\" \"Q\" \"S\" \"S\" \"S\" \"C\" \"S\" \"S\" \"S\" \"C\" \"S\" \"S\" \"S\" \"C\" \"S\" \"C\" \"Q\" \"S\"\n",
       "[433] \"S\" \"S\" \"S\" \"S\" \"S\" \"Q\" \"S\" \"S\" \"S\" \"S\" \"S\" \"S\" \"S\" \"C\" \"S\" \"S\" \"S\" \"S\"\n",
       "[451] \"S\" \"S\" \"S\" \"S\" \"S\" \"S\" \"S\" \"S\" \"Q\" \"S\" \"S\" \"S\" \"S\" \"S\" \"S\" \"S\" \"S\" \"C\"\n",
       "[469] \"Q\" \"Q\" \"S\" \"S\" \"S\" \"S\" \"C\" \"S\" \"Q\" \"Q\" \"S\" \"S\" \"S\" \"S\" \"Q\" \"C\" \"Q\" \"S\"\n",
       "[487] \"S\" \"C\" \"S\" \"S\" \"C\" \"S\" \"S\" \"S\" \"S\" \"S\" \"S\" \"S\" \"S\" \"S\" \"S\" \"S\" \"S\" \"S\"\n",
       "[505] \"C\" \"S\" \"S\" \"S\" \"S\" \"Q\" \"S\" \"C\" \"S\" \"S\" \"S\" \"S\" \"S\" \"S\" \"C\" \"S\" \"S\" \"S\"\n",
       "[523] \"C\" \"S\" \"S\" \"S\" \"C\" \"S\" \"C\" \"S\" \"S\" \"S\" \"S\" \"S\" \"S\" \"S\" \"S\" \"S\" \"S\" \"S\"\n",
       "[541] \"S\" \"S\" \"S\" \"S\" \"S\" \"Q\" \"S\" \"S\" \"Q\" \"C\" \"S\" \"S\" \"S\" \"C\" \"S\" \"S\" \"S\" \"S\"\n",
       "[559] \"C\" \"S\" \"Q\" \"S\" \"S\" \"Q\" \"C\" \"Q\" \"C\" \"C\" \"C\" \"Q\" \"Q\" \"C\" \"S\" \"S\" \"S\" \"S\"\n",
       "[577] \"S\" \"C\" \"S\" \"S\" \"S\" \"S\" \"S\" \"S\" \"Q\" \"S\" \"S\" \"S\" \"C\" \"S\" \"S\" \"S\" \"Q\" \"S\"\n",
       "[595] \"C\" \"S\" \"C\" \"S\" \"S\" \"S\" \"S\" \"S\" \"S\" \"Q\" \"S\" \"S\" \"S\" \"S\" \"S\" \"S\" \"Q\" \"S\"\n",
       "[613] \"S\" \"S\" \"S\" \"C\" \"C\" \"Q\" \"S\" \"C\" \"Q\" \"C\" \"S\" \"C\" \"S\" \"C\" \"S\" \"S\" \"S\" \"S\"\n",
       "[631] \"S\" \"S\" \"Q\" \"S\" \"S\" \"C\" \"C\" \"S\" \"C\" \"S\" \"S\" \"S\" \"S\" \"S\" \"S\" \"S\" \"Q\" \"S\"\n",
       "[649] \"S\" \"S\" \"S\" \"S\" \"Q\" \"S\" \"C\" \"S\" \"C\" \"Q\" \"Q\" \"Q\" \"S\" \"C\" \"C\" \"C\" \"C\" \"C\"\n",
       "[667] \"S\" \"S\" \"S\" \"C\" \"Q\" \"S\" \"C\" \"S\" \"S\" \"C\" \"Q\" \"S\" \"C\" \"S\" \"S\" \"S\" \"S\" \"S\"\n",
       "[685] \"S\" \"S\" \"S\" \"Q\" \"Q\" \"C\" \"C\" \"Q\" \"C\" \"C\" \"C\" \"S\" \"C\" \"C\" \"S\" \"S\" \"C\" \"S\"\n",
       "[703] \"S\" \"C\" \"S\" \"S\" \"S\" \"S\" \"Q\" \"S\" \"S\" \"S\" \"S\" \"S\" \"S\" \"S\" \"S\" \"S\" \"S\" \"S\"\n",
       "[721] \"S\" \"S\" \"S\" \"S\" \"S\" \"S\" \"C\" \"S\" \"C\" \"C\" \"S\" \"S\" \"S\" \"C\" \"S\" \"C\" \"S\" \"S\"\n",
       "[739] \"C\" \"S\" \"S\" \"C\" \"S\" \"S\" \"S\" \"S\" \"Q\" \"S\" \"C\" \"S\" \"S\" \"S\" \"C\" \"S\" \"S\" \"C\"\n",
       "[757] \"S\" \"C\" \"C\" \"S\" \"S\" \"S\" \"C\" \"S\" \"C\" \"C\" \"S\" \"C\" \"S\" \"S\" \"S\" \"S\" \"S\" \"S\"\n",
       "[775] \"Q\" \"S\" \"S\" \"S\" \"S\" \"C\" \"S\" \"C\" \"C\" \"S\" \"C\" \"S\" \"C\" \"S\" \"C\" \"S\" \"Q\" \"S\"\n",
       "[793] \"S\" \"S\" \"C\" \"S\" \"S\" \"C\" \"S\" \"C\" \"S\" \"C\" \"C\" \"C\" \"S\" \"S\" \"Q\" \"S\" \"S\" \"S\"\n",
       "[811] \"S\" \"S\" \"S\" \"C\" \"C\" \"S\" \"S\" \"C\" \"S\" \"Q\" \"C\" \"S\" \"S\" \"S\" \"S\" \"C\" \"C\" \"S\"\n",
       "[829] \"C\" \"S\" \"S\" \"S\" \"S\" \"Q\" \"S\" \"C\" \"S\" \"C\" \"S\" \"S\" \"S\" \"S\" \"S\" \"S\" \"S\" \"C\"\n",
       "[847] \"S\" \"S\" \"S\" \"S\" \"S\" \"C\" \"S\" \"S\" \"S\" \"S\" \"S\" \"S\" \"S\" \"C\" \"S\" \"S\" \"S\" \"S\"\n",
       "[865] \"S\" \"C\" \"Q\" \"S\" \"C\" \"S\" \"C\" \"S\" \"C\" \"C\" \"C\" \"S\" \"S\" \"S\" \"S\" \"C\" \"S\" \"S\"\n",
       "[883] \"C\" \"S\" \"S\" \"C\" \"C\" \"C\" \"S\" \"S\" \"C\""
      ]
     },
     "metadata": {},
     "output_type": "display_data"
    }
   ],
   "source": [
    "#subset(train_tf, Embarked)\n",
    "\n",
    "train_tf$Embarked"
   ]
  },
  {
   "cell_type": "code",
   "execution_count": null,
   "metadata": {
    "vscode": {
     "languageId": "r"
    }
   },
   "outputs": [
    {
     "data": {
      "image/png": "[encoded data removed]",
      "text/plain": [
       "Plot with title “항구별 승선 인원”"
      ]
     },
     "metadata": {
      "image/png": {
       "height": 540,
       "width": 900
      }
     },
     "output_type": "display_data"
    }
   ],
   "source": [
    "par(family = 'AppleGothic',bg = 'white')\n",
    "barplot(table(train_tf$Embarked),\n",
    "         main = \"항구별 승선 인원\",\n",
    "         xlab = \"항구별\",\n",
    "         ylab = \"인원수\",\n",
    "         col = c('blue','red','yellow'),\n",
    "         \n",
    "    \n",
    "         )\n",
    "\n"
   ]
  },
  {
   "cell_type": "code",
   "execution_count": null,
   "metadata": {
    "vscode": {
     "languageId": "r"
    }
   },
   "outputs": [
    {
     "data": {
      "text/html": [
       "<table class=\"dataframe\">\n",
       "<caption>A data.frame: 3 x 2</caption>\n",
       "<thead>\n",
       "\t<tr><th scope=col>Var1</th><th scope=col>Freq</th></tr>\n",
       "\t<tr><th scope=col>&lt;fct&gt;</th><th scope=col>&lt;int&gt;</th></tr>\n",
       "</thead>\n",
       "<tbody>\n",
       "\t<tr><td>C</td><td>168</td></tr>\n",
       "\t<tr><td>Q</td><td> 77</td></tr>\n",
       "\t<tr><td>S</td><td>646</td></tr>\n",
       "</tbody>\n",
       "</table>\n"
      ],
      "text/latex": [
       "A data.frame: 3 x 2\n",
       "\\begin{tabular}{ll}\n",
       " Var1 & Freq\\\\\n",
       " <fct> & <int>\\\\\n",
       "\\hline\n",
       "\t C & 168\\\\\n",
       "\t Q &  77\\\\\n",
       "\t S & 646\\\\\n",
       "\\end{tabular}\n"
      ],
      "text/markdown": [
       "\n",
       "A data.frame: 3 x 2\n",
       "\n",
       "| Var1 &lt;fct&gt; | Freq &lt;int&gt; |\n",
       "|---|---|\n",
       "| C | 168 |\n",
       "| Q |  77 |\n",
       "| S | 646 |\n",
       "\n"
      ],
      "text/plain": [
       "  Var1 Freq\n",
       "1 C    168 \n",
       "2 Q     77 \n",
       "3 S    646 "
      ]
     },
     "metadata": {},
     "output_type": "display_data"
    }
   ],
   "source": [
    "data3 <-  data.frame(table(train_tf$Embarked))\n",
    "data3"
   ]
  },
  {
   "cell_type": "code",
   "execution_count": null,
   "metadata": {
    "vscode": {
     "languageId": "r"
    }
   },
   "outputs": [
    {
     "data": {
      "text/html": [
       "<table class=\"dataframe\">\n",
       "<caption>A data.frame: 6 x 12</caption>\n",
       "<thead>\n",
       "\t<tr><th></th><th scope=col>PassengerId</th><th scope=col>Survived</th><th scope=col>Pclass</th><th scope=col>Name</th><th scope=col>Sex</th><th scope=col>Age</th><th scope=col>SibSp</th><th scope=col>Parch</th><th scope=col>Ticket</th><th scope=col>Fare</th><th scope=col>Cabin</th><th scope=col>Embarked</th></tr>\n",
       "\t<tr><th></th><th scope=col>&lt;int&gt;</th><th scope=col>&lt;int&gt;</th><th scope=col>&lt;int&gt;</th><th scope=col>&lt;chr&gt;</th><th scope=col>&lt;chr&gt;</th><th scope=col>&lt;dbl&gt;</th><th scope=col>&lt;int&gt;</th><th scope=col>&lt;int&gt;</th><th scope=col>&lt;chr&gt;</th><th scope=col>&lt;dbl&gt;</th><th scope=col>&lt;chr&gt;</th><th scope=col>&lt;chr&gt;</th></tr>\n",
       "</thead>\n",
       "<tbody>\n",
       "\t<tr><th scope=row>8</th><td>15</td><td>0</td><td>3</td><td>Vestrom, Miss. Hulda Amanda Adolfina                    </td><td>female</td><td>14</td><td>0</td><td>0</td><td>350406</td><td> 7.8542</td><td></td><td>S</td></tr>\n",
       "\t<tr><th scope=row>10</th><td>19</td><td>0</td><td>3</td><td>Vander Planke, Mrs. Julius (Emelia Maria Vandemoortele) </td><td>female</td><td>31</td><td>1</td><td>0</td><td>345763</td><td>18.0000</td><td></td><td>S</td></tr>\n",
       "\t<tr><th scope=row>12</th><td>25</td><td>0</td><td>3</td><td>Palsson, Miss. Torborg Danira                           </td><td>female</td><td> 8</td><td>3</td><td>1</td><td>349909</td><td>21.0750</td><td></td><td>S</td></tr>\n",
       "\t<tr><th scope=row>21</th><td>39</td><td>0</td><td>3</td><td>Vander Planke, Miss. Augusta Maria                      </td><td>female</td><td>18</td><td>2</td><td>0</td><td>345764</td><td>18.0000</td><td></td><td>S</td></tr>\n",
       "\t<tr><th scope=row>22</th><td>41</td><td>0</td><td>3</td><td>Ahlin, Mrs. Johan (Johanna Persdotter Larsson)          </td><td>female</td><td>40</td><td>1</td><td>0</td><td>7546  </td><td> 9.4750</td><td></td><td>S</td></tr>\n",
       "\t<tr><th scope=row>23</th><td>42</td><td>0</td><td>2</td><td>Turpin, Mrs. William John Robert (Dorothy Ann Wonnacott)</td><td>female</td><td>27</td><td>1</td><td>0</td><td>11668 </td><td>21.0000</td><td></td><td>S</td></tr>\n",
       "</tbody>\n",
       "</table>\n"
      ],
      "text/latex": [
       "A data.frame: 6 x 12\n",
       "\\begin{tabular}{r|llllllllllll}\n",
       "  & PassengerId & Survived & Pclass & Name & Sex & Age & SibSp & Parch & Ticket & Fare & Cabin & Embarked\\\\\n",
       "  & <int> & <int> & <int> & <chr> & <chr> & <dbl> & <int> & <int> & <chr> & <dbl> & <chr> & <chr>\\\\\n",
       "\\hline\n",
       "\t8 & 15 & 0 & 3 & Vestrom, Miss. Hulda Amanda Adolfina                     & female & 14 & 0 & 0 & 350406 &  7.8542 &  & S\\\\\n",
       "\t10 & 19 & 0 & 3 & Vander Planke, Mrs. Julius (Emelia Maria Vandemoortele)  & female & 31 & 1 & 0 & 345763 & 18.0000 &  & S\\\\\n",
       "\t12 & 25 & 0 & 3 & Palsson, Miss. Torborg Danira                            & female &  8 & 3 & 1 & 349909 & 21.0750 &  & S\\\\\n",
       "\t21 & 39 & 0 & 3 & Vander Planke, Miss. Augusta Maria                       & female & 18 & 2 & 0 & 345764 & 18.0000 &  & S\\\\\n",
       "\t22 & 41 & 0 & 3 & Ahlin, Mrs. Johan (Johanna Persdotter Larsson)           & female & 40 & 1 & 0 & 7546   &  9.4750 &  & S\\\\\n",
       "\t23 & 42 & 0 & 2 & Turpin, Mrs. William John Robert (Dorothy Ann Wonnacott) & female & 27 & 1 & 0 & 11668  & 21.0000 &  & S\\\\\n",
       "\\end{tabular}\n"
      ],
      "text/markdown": [
       "\n",
       "A data.frame: 6 x 12\n",
       "\n",
       "| <!--/--> | PassengerId &lt;int&gt; | Survived &lt;int&gt; | Pclass &lt;int&gt; | Name &lt;chr&gt; | Sex &lt;chr&gt; | Age &lt;dbl&gt; | SibSp &lt;int&gt; | Parch &lt;int&gt; | Ticket &lt;chr&gt; | Fare &lt;dbl&gt; | Cabin &lt;chr&gt; | Embarked &lt;chr&gt; |\n",
       "|---|---|---|---|---|---|---|---|---|---|---|---|---|\n",
       "| 8 | 15 | 0 | 3 | Vestrom, Miss. Hulda Amanda Adolfina                     | female | 14 | 0 | 0 | 350406 |  7.8542 | <!----> | S |\n",
       "| 10 | 19 | 0 | 3 | Vander Planke, Mrs. Julius (Emelia Maria Vandemoortele)  | female | 31 | 1 | 0 | 345763 | 18.0000 | <!----> | S |\n",
       "| 12 | 25 | 0 | 3 | Palsson, Miss. Torborg Danira                            | female |  8 | 3 | 1 | 349909 | 21.0750 | <!----> | S |\n",
       "| 21 | 39 | 0 | 3 | Vander Planke, Miss. Augusta Maria                       | female | 18 | 2 | 0 | 345764 | 18.0000 | <!----> | S |\n",
       "| 22 | 41 | 0 | 3 | Ahlin, Mrs. Johan (Johanna Persdotter Larsson)           | female | 40 | 1 | 0 | 7546   |  9.4750 | <!----> | S |\n",
       "| 23 | 42 | 0 | 2 | Turpin, Mrs. William John Robert (Dorothy Ann Wonnacott) | female | 27 | 1 | 0 | 11668  | 21.0000 | <!----> | S |\n",
       "\n"
      ],
      "text/plain": [
       "   PassengerId Survived Pclass\n",
       "8  15          0        3     \n",
       "10 19          0        3     \n",
       "12 25          0        3     \n",
       "21 39          0        3     \n",
       "22 41          0        3     \n",
       "23 42          0        2     \n",
       "   Name                                                     Sex    Age SibSp\n",
       "8  Vestrom, Miss. Hulda Amanda Adolfina                     female 14  0    \n",
       "10 Vander Planke, Mrs. Julius (Emelia Maria Vandemoortele)  female 31  1    \n",
       "12 Palsson, Miss. Torborg Danira                            female  8  3    \n",
       "21 Vander Planke, Miss. Augusta Maria                       female 18  2    \n",
       "22 Ahlin, Mrs. Johan (Johanna Persdotter Larsson)           female 40  1    \n",
       "23 Turpin, Mrs. William John Robert (Dorothy Ann Wonnacott) female 27  1    \n",
       "   Parch Ticket Fare    Cabin Embarked\n",
       "8  0     350406  7.8542       S       \n",
       "10 0     345763 18.0000       S       \n",
       "12 1     349909 21.0750       S       \n",
       "21 0     345764 18.0000       S       \n",
       "22 0     7546    9.4750       S       \n",
       "23 0     11668  21.0000       S       "
      ]
     },
     "metadata": {},
     "output_type": "display_data"
    },
    {
     "data": {
      "text/html": [
       "<table class=\"dataframe\">\n",
       "<caption>A data.frame: 6 x 12</caption>\n",
       "<thead>\n",
       "\t<tr><th></th><th scope=col>PassengerId</th><th scope=col>Survived</th><th scope=col>Pclass</th><th scope=col>Name</th><th scope=col>Sex</th><th scope=col>Age</th><th scope=col>SibSp</th><th scope=col>Parch</th><th scope=col>Ticket</th><th scope=col>Fare</th><th scope=col>Cabin</th><th scope=col>Embarked</th></tr>\n",
       "\t<tr><th></th><th scope=col>&lt;int&gt;</th><th scope=col>&lt;int&gt;</th><th scope=col>&lt;int&gt;</th><th scope=col>&lt;chr&gt;</th><th scope=col>&lt;chr&gt;</th><th scope=col>&lt;dbl&gt;</th><th scope=col>&lt;int&gt;</th><th scope=col>&lt;int&gt;</th><th scope=col>&lt;chr&gt;</th><th scope=col>&lt;dbl&gt;</th><th scope=col>&lt;chr&gt;</th><th scope=col>&lt;chr&gt;</th></tr>\n",
       "</thead>\n",
       "<tbody>\n",
       "\t<tr><th scope=row>1</th><td> 1</td><td>0</td><td>3</td><td>Braund, Mr. Owen Harris       </td><td>male</td><td>22</td><td>1</td><td>0</td><td>A/5 21171</td><td> 7.2500</td><td>   </td><td>S</td></tr>\n",
       "\t<tr><th scope=row>2</th><td> 5</td><td>0</td><td>3</td><td>Allen, Mr. William Henry      </td><td>male</td><td>35</td><td>0</td><td>0</td><td>373450   </td><td> 8.0500</td><td>   </td><td>S</td></tr>\n",
       "\t<tr><th scope=row>3</th><td> 6</td><td>0</td><td>3</td><td>Moran, Mr. James              </td><td>male</td><td>NA</td><td>0</td><td>0</td><td>330877   </td><td> 8.4583</td><td>   </td><td>Q</td></tr>\n",
       "\t<tr><th scope=row>4</th><td> 7</td><td>0</td><td>1</td><td>McCarthy, Mr. Timothy J       </td><td>male</td><td>54</td><td>0</td><td>0</td><td>17463    </td><td>51.8625</td><td>E46</td><td>S</td></tr>\n",
       "\t<tr><th scope=row>5</th><td> 8</td><td>0</td><td>3</td><td>Palsson, Master. Gosta Leonard</td><td>male</td><td> 2</td><td>3</td><td>1</td><td>349909   </td><td>21.0750</td><td>   </td><td>S</td></tr>\n",
       "\t<tr><th scope=row>6</th><td>13</td><td>0</td><td>3</td><td>Saundercock, Mr. William Henry</td><td>male</td><td>20</td><td>0</td><td>0</td><td>A/5. 2151</td><td> 8.0500</td><td>   </td><td>S</td></tr>\n",
       "</tbody>\n",
       "</table>\n"
      ],
      "text/latex": [
       "A data.frame: 6 x 12\n",
       "\\begin{tabular}{r|llllllllllll}\n",
       "  & PassengerId & Survived & Pclass & Name & Sex & Age & SibSp & Parch & Ticket & Fare & Cabin & Embarked\\\\\n",
       "  & <int> & <int> & <int> & <chr> & <chr> & <dbl> & <int> & <int> & <chr> & <dbl> & <chr> & <chr>\\\\\n",
       "\\hline\n",
       "\t1 &  1 & 0 & 3 & Braund, Mr. Owen Harris        & male & 22 & 1 & 0 & A/5 21171 &  7.2500 &     & S\\\\\n",
       "\t2 &  5 & 0 & 3 & Allen, Mr. William Henry       & male & 35 & 0 & 0 & 373450    &  8.0500 &     & S\\\\\n",
       "\t3 &  6 & 0 & 3 & Moran, Mr. James               & male & NA & 0 & 0 & 330877    &  8.4583 &     & Q\\\\\n",
       "\t4 &  7 & 0 & 1 & McCarthy, Mr. Timothy J        & male & 54 & 0 & 0 & 17463     & 51.8625 & E46 & S\\\\\n",
       "\t5 &  8 & 0 & 3 & Palsson, Master. Gosta Leonard & male &  2 & 3 & 1 & 349909    & 21.0750 &     & S\\\\\n",
       "\t6 & 13 & 0 & 3 & Saundercock, Mr. William Henry & male & 20 & 0 & 0 & A/5. 2151 &  8.0500 &     & S\\\\\n",
       "\\end{tabular}\n"
      ],
      "text/markdown": [
       "\n",
       "A data.frame: 6 x 12\n",
       "\n",
       "| <!--/--> | PassengerId &lt;int&gt; | Survived &lt;int&gt; | Pclass &lt;int&gt; | Name &lt;chr&gt; | Sex &lt;chr&gt; | Age &lt;dbl&gt; | SibSp &lt;int&gt; | Parch &lt;int&gt; | Ticket &lt;chr&gt; | Fare &lt;dbl&gt; | Cabin &lt;chr&gt; | Embarked &lt;chr&gt; |\n",
       "|---|---|---|---|---|---|---|---|---|---|---|---|---|\n",
       "| 1 |  1 | 0 | 3 | Braund, Mr. Owen Harris        | male | 22 | 1 | 0 | A/5 21171 |  7.2500 | <!----> | S |\n",
       "| 2 |  5 | 0 | 3 | Allen, Mr. William Henry       | male | 35 | 0 | 0 | 373450    |  8.0500 | <!----> | S |\n",
       "| 3 |  6 | 0 | 3 | Moran, Mr. James               | male | NA | 0 | 0 | 330877    |  8.4583 | <!----> | Q |\n",
       "| 4 |  7 | 0 | 1 | McCarthy, Mr. Timothy J        | male | 54 | 0 | 0 | 17463     | 51.8625 | E46 | S |\n",
       "| 5 |  8 | 0 | 3 | Palsson, Master. Gosta Leonard | male |  2 | 3 | 1 | 349909    | 21.0750 | <!----> | S |\n",
       "| 6 | 13 | 0 | 3 | Saundercock, Mr. William Henry | male | 20 | 0 | 0 | A/5. 2151 |  8.0500 | <!----> | S |\n",
       "\n"
      ],
      "text/plain": [
       "  PassengerId Survived Pclass Name                           Sex  Age SibSp\n",
       "1  1          0        3      Braund, Mr. Owen Harris        male 22  1    \n",
       "2  5          0        3      Allen, Mr. William Henry       male 35  0    \n",
       "3  6          0        3      Moran, Mr. James               male NA  0    \n",
       "4  7          0        1      McCarthy, Mr. Timothy J        male 54  0    \n",
       "5  8          0        3      Palsson, Master. Gosta Leonard male  2  3    \n",
       "6 13          0        3      Saundercock, Mr. William Henry male 20  0    \n",
       "  Parch Ticket    Fare    Cabin Embarked\n",
       "1 0     A/5 21171  7.2500       S       \n",
       "2 0     373450     8.0500       S       \n",
       "3 0     330877     8.4583       Q       \n",
       "4 0     17463     51.8625 E46   S       \n",
       "5 1     349909    21.0750       S       \n",
       "6 0     A/5. 2151  8.0500       S       "
      ]
     },
     "metadata": {},
     "output_type": "display_data"
    }
   ],
   "source": [
    "fe <-  subset(train_tf, Sex == 'female')\n",
    "head(fe)\n",
    "ma <-  subset(train_tf, Sex == 'male')\n",
    "head(ma)"
   ]
  },
  {
   "cell_type": "code",
   "execution_count": null,
   "metadata": {
    "vscode": {
     "languageId": "r"
    }
   },
   "outputs": [
    {
     "ename": "ERROR",
     "evalue": "Error in parse(text = x, srcfile = src): <text>:3:9: 예상하지 못한 기호(symbol)입니다.\n2: barplot(table(train_tf$Sex)\n3:         beside\n           ^\n",
     "output_type": "error",
     "traceback": [
      "Error in parse(text = x, srcfile = src): <text>:3:9: 예상하지 못한 기호(symbol)입니다.\n2: barplot(table(train_tf$Sex)\n3:         beside\n           ^\nTraceback:\n"
     ]
    }
   ],
   "source": [
    "par(family = 'AppleGothic',bg = 'white')\n",
    "barplot(table(train_tf$Sex),\n",
    "        beside = T,\n",
    ")"
   ]
  },
  {
   "cell_type": "code",
   "execution_count": null,
   "metadata": {
    "vscode": {
     "languageId": "r"
    }
   },
   "outputs": [],
   "source": []
  },
  {
   "cell_type": "code",
   "execution_count": null,
   "metadata": {
    "vscode": {
     "languageId": "r"
    }
   },
   "outputs": [
    {
     "data": {
      "text/plain": [
       "NULL"
      ]
     },
     "metadata": {},
     "output_type": "display_data"
    }
   ],
   "source": [
    "\n",
    "(c(train_tf$Embarked))"
   ]
  },
  {
   "cell_type": "code",
   "execution_count": null,
   "metadata": {
    "vscode": {
     "languageId": "r"
    }
   },
   "outputs": [
    {
     "data": {
      "text/html": [
       "<style>\n",
       ".list-inline {list-style: none; margin:0; padding: 0}\n",
       ".list-inline>li {display: inline-block}\n",
       ".list-inline>li:not(:last-child)::after {content: \"\\00b7\"; padding: 0 .5ex}\n",
       "</style>\n",
       "<ol class=list-inline><li>'S'</li><li>'S'</li><li>'Q'</li><li>'S'</li><li>'S'</li><li>'S'</li><li>'S'</li><li>'S'</li><li>'Q'</li><li>'S'</li><li>'S'</li><li>'S'</li><li>'C'</li><li>'S'</li><li>'S'</li><li>'C'</li><li>'S'</li><li>'C'</li><li>'S'</li><li>'S'</li><li>'S'</li><li>'S'</li><li>'S'</li><li>'C'</li><li>'S'</li><li>'Q'</li><li>'C'</li><li>'S'</li><li>'S'</li><li>'S'</li><li>'C'</li><li>'C'</li><li>'S'</li><li>'C'</li><li>'S'</li><li>'S'</li><li>'C'</li><li>'S'</li><li>'S'</li><li>'S'</li><li>'S'</li><li>'S'</li><li>'C'</li><li>'S'</li><li>'S'</li><li>'S'</li><li>'S'</li><li>'S'</li><li>'S'</li><li>'S'</li><li>'S'</li><li>'S'</li><li>'S'</li><li>'S'</li><li>'S'</li><li>'S'</li><li>'S'</li><li>'C'</li><li>'S'</li><li>'S'</li><li>'S'</li><li>'S'</li><li>'S'</li><li>'S'</li><li>'S'</li><li>'S'</li><li>'S'</li><li>'C'</li><li>'S'</li><li>'S'</li><li>'C'</li><li>'S'</li><li>'Q'</li><li>'S'</li><li>'C'</li><li>'S'</li><li>'S'</li><li>'S'</li><li>'C'</li><li>'S'</li><li>'Q'</li><li>'S'</li><li>'C'</li><li>'S'</li><li>'S'</li><li>'S'</li><li>'C'</li><li>'S'</li><li>'S'</li><li>'C'</li><li>'C'</li><li>'Q'</li><li>'S'</li><li>'S'</li><li>'S'</li><li>'S'</li><li>'S'</li><li>'S'</li><li>'S'</li><li>'S'</li><li>'S'</li><li>'C'</li><li>'S'</li><li>'S'</li><li>'S'</li><li>'S'</li><li>'S'</li><li>'S'</li><li>'S'</li><li>'S'</li><li>'S'</li><li>'S'</li><li>'S'</li><li>'Q'</li><li>'S'</li><li>'C'</li><li>'S'</li><li>'S'</li><li>'C'</li><li>'S'</li><li>'S'</li><li>'S'</li><li>'C'</li><li>'S'</li><li>'S'</li><li>'Q'</li><li>'S'</li><li>'S'</li><li>'Q'</li><li>'S'</li><li>'S'</li><li>'S'</li><li>'S'</li><li>'S'</li><li>'C'</li><li>'S'</li><li>'S'</li><li>'S'</li><li>'S'</li><li>'S'</li><li>'Q'</li><li>'S'</li><li>'S'</li><li>'S'</li><li>'S'</li><li>'S'</li><li>'S'</li><li>'S'</li><li>'S'</li><li>'S'</li><li>'S'</li><li>'S'</li><li>'S'</li><li>'S'</li><li>'S'</li><li>'S'</li><li>'S'</li><li>'C'</li><li>'S'</li><li>'S'</li><li>'C'</li><li>'Q'</li><li>'S'</li><li>'S'</li><li>'S'</li><li>'S'</li><li>'S'</li><li>'S'</li><li>'S'</li><li>'Q'</li><li>'S'</li><li>'S'</li><li>'Q'</li><li>'S'</li><li>'S'</li><li>'S'</li><li>'C'</li><li>'S'</li><li>'S'</li><li>'Q'</li><li>'Q'</li><li>'S'</li><li>'S'</li><li>'S'</li><li>'C'</li><li>'S'</li><li>'C'</li><li>'S'</li><li>'S'</li><li>'C'</li><li>'C'</li><li>'S'</li><li>'S'</li><li>'S'</li><li>'C'</li><li>'S'</li><li>'S'</li><li>'S'</li><li>'S'</li><li>'S'</li><li>...</li><li>'Q'</li><li>'C'</li><li>'C'</li><li>'C'</li><li>'S'</li><li>'C'</li><li>'C'</li><li>'S'</li><li>'S'</li><li>'C'</li><li>'S'</li><li>'S'</li><li>'C'</li><li>'S'</li><li>'S'</li><li>'S'</li><li>'S'</li><li>'Q'</li><li>'S'</li><li>'S'</li><li>'S'</li><li>'S'</li><li>'S'</li><li>'S'</li><li>'S'</li><li>'S'</li><li>'S'</li><li>'S'</li><li>'S'</li><li>'S'</li><li>'S'</li><li>'S'</li><li>'S'</li><li>'S'</li><li>'S'</li><li>'C'</li><li>'S'</li><li>'C'</li><li>'C'</li><li>'S'</li><li>'S'</li><li>'S'</li><li>'C'</li><li>'S'</li><li>'C'</li><li>'S'</li><li>'S'</li><li>'C'</li><li>'S'</li><li>'S'</li><li>'C'</li><li>'S'</li><li>'S'</li><li>'S'</li><li>'S'</li><li>'Q'</li><li>'S'</li><li>'C'</li><li>'S'</li><li>'S'</li><li>'S'</li><li>'C'</li><li>'S'</li><li>'S'</li><li>'C'</li><li>'S'</li><li>'C'</li><li>'C'</li><li>'S'</li><li>'S'</li><li>'S'</li><li>'C'</li><li>'S'</li><li>'C'</li><li>'C'</li><li>'S'</li><li>'C'</li><li>'S'</li><li>'S'</li><li>'S'</li><li>'S'</li><li>'S'</li><li>'S'</li><li>'Q'</li><li>'S'</li><li>'S'</li><li>'S'</li><li>'S'</li><li>'C'</li><li>'S'</li><li>'C'</li><li>'C'</li><li>'S'</li><li>'C'</li><li>'S'</li><li>'C'</li><li>'S'</li><li>'C'</li><li>'S'</li><li>'Q'</li><li>'S'</li><li>'S'</li><li>'S'</li><li>'C'</li><li>'S'</li><li>'S'</li><li>'C'</li><li>'S'</li><li>'C'</li><li>'S'</li><li>'C'</li><li>'C'</li><li>'C'</li><li>'S'</li><li>'S'</li><li>'Q'</li><li>'S'</li><li>'S'</li><li>'S'</li><li>'S'</li><li>'S'</li><li>'S'</li><li>'C'</li><li>'C'</li><li>'S'</li><li>'S'</li><li>'C'</li><li>'S'</li><li>'Q'</li><li>'C'</li><li>'S'</li><li>'S'</li><li>'S'</li><li>'S'</li><li>'C'</li><li>'C'</li><li>'S'</li><li>'C'</li><li>'S'</li><li>'S'</li><li>'S'</li><li>'S'</li><li>'Q'</li><li>'S'</li><li>'C'</li><li>'S'</li><li>'C'</li><li>'S'</li><li>'S'</li><li>'S'</li><li>'S'</li><li>'S'</li><li>'S'</li><li>'S'</li><li>'C'</li><li>'S'</li><li>'S'</li><li>'S'</li><li>'S'</li><li>'S'</li><li>'C'</li><li>'S'</li><li>'S'</li><li>'S'</li><li>'S'</li><li>'S'</li><li>'S'</li><li>'S'</li><li>'C'</li><li>'S'</li><li>'S'</li><li>'S'</li><li>'S'</li><li>'S'</li><li>'C'</li><li>'Q'</li><li>'S'</li><li>'C'</li><li>'S'</li><li>'C'</li><li>'S'</li><li>'C'</li><li>'C'</li><li>'C'</li><li>'S'</li><li>'S'</li><li>'S'</li><li>'S'</li><li>'C'</li><li>'S'</li><li>'S'</li><li>'C'</li><li>'S'</li><li>'S'</li><li>'C'</li><li>'C'</li><li>'C'</li><li>'S'</li><li>'S'</li><li>'C'</li></ol>\n"
      ],
      "text/latex": [
       "\\begin{enumerate*}\n",
       "\\item 'S'\n",
       "\\item 'S'\n",
       "\\item 'Q'\n",
       "\\item 'S'\n",
       "\\item 'S'\n",
       "\\item 'S'\n",
       "\\item 'S'\n",
       "\\item 'S'\n",
       "\\item 'Q'\n",
       "\\item 'S'\n",
       "\\item 'S'\n",
       "\\item 'S'\n",
       "\\item 'C'\n",
       "\\item 'S'\n",
       "\\item 'S'\n",
       "\\item 'C'\n",
       "\\item 'S'\n",
       "\\item 'C'\n",
       "\\item 'S'\n",
       "\\item 'S'\n",
       "\\item 'S'\n",
       "\\item 'S'\n",
       "\\item 'S'\n",
       "\\item 'C'\n",
       "\\item 'S'\n",
       "\\item 'Q'\n",
       "\\item 'C'\n",
       "\\item 'S'\n",
       "\\item 'S'\n",
       "\\item 'S'\n",
       "\\item 'C'\n",
       "\\item 'C'\n",
       "\\item 'S'\n",
       "\\item 'C'\n",
       "\\item 'S'\n",
       "\\item 'S'\n",
       "\\item 'C'\n",
       "\\item 'S'\n",
       "\\item 'S'\n",
       "\\item 'S'\n",
       "\\item 'S'\n",
       "\\item 'S'\n",
       "\\item 'C'\n",
       "\\item 'S'\n",
       "\\item 'S'\n",
       "\\item 'S'\n",
       "\\item 'S'\n",
       "\\item 'S'\n",
       "\\item 'S'\n",
       "\\item 'S'\n",
       "\\item 'S'\n",
       "\\item 'S'\n",
       "\\item 'S'\n",
       "\\item 'S'\n",
       "\\item 'S'\n",
       "\\item 'S'\n",
       "\\item 'S'\n",
       "\\item 'C'\n",
       "\\item 'S'\n",
       "\\item 'S'\n",
       "\\item 'S'\n",
       "\\item 'S'\n",
       "\\item 'S'\n",
       "\\item 'S'\n",
       "\\item 'S'\n",
       "\\item 'S'\n",
       "\\item 'S'\n",
       "\\item 'C'\n",
       "\\item 'S'\n",
       "\\item 'S'\n",
       "\\item 'C'\n",
       "\\item 'S'\n",
       "\\item 'Q'\n",
       "\\item 'S'\n",
       "\\item 'C'\n",
       "\\item 'S'\n",
       "\\item 'S'\n",
       "\\item 'S'\n",
       "\\item 'C'\n",
       "\\item 'S'\n",
       "\\item 'Q'\n",
       "\\item 'S'\n",
       "\\item 'C'\n",
       "\\item 'S'\n",
       "\\item 'S'\n",
       "\\item 'S'\n",
       "\\item 'C'\n",
       "\\item 'S'\n",
       "\\item 'S'\n",
       "\\item 'C'\n",
       "\\item 'C'\n",
       "\\item 'Q'\n",
       "\\item 'S'\n",
       "\\item 'S'\n",
       "\\item 'S'\n",
       "\\item 'S'\n",
       "\\item 'S'\n",
       "\\item 'S'\n",
       "\\item 'S'\n",
       "\\item 'S'\n",
       "\\item 'S'\n",
       "\\item 'C'\n",
       "\\item 'S'\n",
       "\\item 'S'\n",
       "\\item 'S'\n",
       "\\item 'S'\n",
       "\\item 'S'\n",
       "\\item 'S'\n",
       "\\item 'S'\n",
       "\\item 'S'\n",
       "\\item 'S'\n",
       "\\item 'S'\n",
       "\\item 'S'\n",
       "\\item 'Q'\n",
       "\\item 'S'\n",
       "\\item 'C'\n",
       "\\item 'S'\n",
       "\\item 'S'\n",
       "\\item 'C'\n",
       "\\item 'S'\n",
       "\\item 'S'\n",
       "\\item 'S'\n",
       "\\item 'C'\n",
       "\\item 'S'\n",
       "\\item 'S'\n",
       "\\item 'Q'\n",
       "\\item 'S'\n",
       "\\item 'S'\n",
       "\\item 'Q'\n",
       "\\item 'S'\n",
       "\\item 'S'\n",
       "\\item 'S'\n",
       "\\item 'S'\n",
       "\\item 'S'\n",
       "\\item 'C'\n",
       "\\item 'S'\n",
       "\\item 'S'\n",
       "\\item 'S'\n",
       "\\item 'S'\n",
       "\\item 'S'\n",
       "\\item 'Q'\n",
       "\\item 'S'\n",
       "\\item 'S'\n",
       "\\item 'S'\n",
       "\\item 'S'\n",
       "\\item 'S'\n",
       "\\item 'S'\n",
       "\\item 'S'\n",
       "\\item 'S'\n",
       "\\item 'S'\n",
       "\\item 'S'\n",
       "\\item 'S'\n",
       "\\item 'S'\n",
       "\\item 'S'\n",
       "\\item 'S'\n",
       "\\item 'S'\n",
       "\\item 'S'\n",
       "\\item 'C'\n",
       "\\item 'S'\n",
       "\\item 'S'\n",
       "\\item 'C'\n",
       "\\item 'Q'\n",
       "\\item 'S'\n",
       "\\item 'S'\n",
       "\\item 'S'\n",
       "\\item 'S'\n",
       "\\item 'S'\n",
       "\\item 'S'\n",
       "\\item 'S'\n",
       "\\item 'Q'\n",
       "\\item 'S'\n",
       "\\item 'S'\n",
       "\\item 'Q'\n",
       "\\item 'S'\n",
       "\\item 'S'\n",
       "\\item 'S'\n",
       "\\item 'C'\n",
       "\\item 'S'\n",
       "\\item 'S'\n",
       "\\item 'Q'\n",
       "\\item 'Q'\n",
       "\\item 'S'\n",
       "\\item 'S'\n",
       "\\item 'S'\n",
       "\\item 'C'\n",
       "\\item 'S'\n",
       "\\item 'C'\n",
       "\\item 'S'\n",
       "\\item 'S'\n",
       "\\item 'C'\n",
       "\\item 'C'\n",
       "\\item 'S'\n",
       "\\item 'S'\n",
       "\\item 'S'\n",
       "\\item 'C'\n",
       "\\item 'S'\n",
       "\\item 'S'\n",
       "\\item 'S'\n",
       "\\item 'S'\n",
       "\\item 'S'\n",
       "\\item ...\n",
       "\\item 'Q'\n",
       "\\item 'C'\n",
       "\\item 'C'\n",
       "\\item 'C'\n",
       "\\item 'S'\n",
       "\\item 'C'\n",
       "\\item 'C'\n",
       "\\item 'S'\n",
       "\\item 'S'\n",
       "\\item 'C'\n",
       "\\item 'S'\n",
       "\\item 'S'\n",
       "\\item 'C'\n",
       "\\item 'S'\n",
       "\\item 'S'\n",
       "\\item 'S'\n",
       "\\item 'S'\n",
       "\\item 'Q'\n",
       "\\item 'S'\n",
       "\\item 'S'\n",
       "\\item 'S'\n",
       "\\item 'S'\n",
       "\\item 'S'\n",
       "\\item 'S'\n",
       "\\item 'S'\n",
       "\\item 'S'\n",
       "\\item 'S'\n",
       "\\item 'S'\n",
       "\\item 'S'\n",
       "\\item 'S'\n",
       "\\item 'S'\n",
       "\\item 'S'\n",
       "\\item 'S'\n",
       "\\item 'S'\n",
       "\\item 'S'\n",
       "\\item 'C'\n",
       "\\item 'S'\n",
       "\\item 'C'\n",
       "\\item 'C'\n",
       "\\item 'S'\n",
       "\\item 'S'\n",
       "\\item 'S'\n",
       "\\item 'C'\n",
       "\\item 'S'\n",
       "\\item 'C'\n",
       "\\item 'S'\n",
       "\\item 'S'\n",
       "\\item 'C'\n",
       "\\item 'S'\n",
       "\\item 'S'\n",
       "\\item 'C'\n",
       "\\item 'S'\n",
       "\\item 'S'\n",
       "\\item 'S'\n",
       "\\item 'S'\n",
       "\\item 'Q'\n",
       "\\item 'S'\n",
       "\\item 'C'\n",
       "\\item 'S'\n",
       "\\item 'S'\n",
       "\\item 'S'\n",
       "\\item 'C'\n",
       "\\item 'S'\n",
       "\\item 'S'\n",
       "\\item 'C'\n",
       "\\item 'S'\n",
       "\\item 'C'\n",
       "\\item 'C'\n",
       "\\item 'S'\n",
       "\\item 'S'\n",
       "\\item 'S'\n",
       "\\item 'C'\n",
       "\\item 'S'\n",
       "\\item 'C'\n",
       "\\item 'C'\n",
       "\\item 'S'\n",
       "\\item 'C'\n",
       "\\item 'S'\n",
       "\\item 'S'\n",
       "\\item 'S'\n",
       "\\item 'S'\n",
       "\\item 'S'\n",
       "\\item 'S'\n",
       "\\item 'Q'\n",
       "\\item 'S'\n",
       "\\item 'S'\n",
       "\\item 'S'\n",
       "\\item 'S'\n",
       "\\item 'C'\n",
       "\\item 'S'\n",
       "\\item 'C'\n",
       "\\item 'C'\n",
       "\\item 'S'\n",
       "\\item 'C'\n",
       "\\item 'S'\n",
       "\\item 'C'\n",
       "\\item 'S'\n",
       "\\item 'C'\n",
       "\\item 'S'\n",
       "\\item 'Q'\n",
       "\\item 'S'\n",
       "\\item 'S'\n",
       "\\item 'S'\n",
       "\\item 'C'\n",
       "\\item 'S'\n",
       "\\item 'S'\n",
       "\\item 'C'\n",
       "\\item 'S'\n",
       "\\item 'C'\n",
       "\\item 'S'\n",
       "\\item 'C'\n",
       "\\item 'C'\n",
       "\\item 'C'\n",
       "\\item 'S'\n",
       "\\item 'S'\n",
       "\\item 'Q'\n",
       "\\item 'S'\n",
       "\\item 'S'\n",
       "\\item 'S'\n",
       "\\item 'S'\n",
       "\\item 'S'\n",
       "\\item 'S'\n",
       "\\item 'C'\n",
       "\\item 'C'\n",
       "\\item 'S'\n",
       "\\item 'S'\n",
       "\\item 'C'\n",
       "\\item 'S'\n",
       "\\item 'Q'\n",
       "\\item 'C'\n",
       "\\item 'S'\n",
       "\\item 'S'\n",
       "\\item 'S'\n",
       "\\item 'S'\n",
       "\\item 'C'\n",
       "\\item 'C'\n",
       "\\item 'S'\n",
       "\\item 'C'\n",
       "\\item 'S'\n",
       "\\item 'S'\n",
       "\\item 'S'\n",
       "\\item 'S'\n",
       "\\item 'Q'\n",
       "\\item 'S'\n",
       "\\item 'C'\n",
       "\\item 'S'\n",
       "\\item 'C'\n",
       "\\item 'S'\n",
       "\\item 'S'\n",
       "\\item 'S'\n",
       "\\item 'S'\n",
       "\\item 'S'\n",
       "\\item 'S'\n",
       "\\item 'S'\n",
       "\\item 'C'\n",
       "\\item 'S'\n",
       "\\item 'S'\n",
       "\\item 'S'\n",
       "\\item 'S'\n",
       "\\item 'S'\n",
       "\\item 'C'\n",
       "\\item 'S'\n",
       "\\item 'S'\n",
       "\\item 'S'\n",
       "\\item 'S'\n",
       "\\item 'S'\n",
       "\\item 'S'\n",
       "\\item 'S'\n",
       "\\item 'C'\n",
       "\\item 'S'\n",
       "\\item 'S'\n",
       "\\item 'S'\n",
       "\\item 'S'\n",
       "\\item 'S'\n",
       "\\item 'C'\n",
       "\\item 'Q'\n",
       "\\item 'S'\n",
       "\\item 'C'\n",
       "\\item 'S'\n",
       "\\item 'C'\n",
       "\\item 'S'\n",
       "\\item 'C'\n",
       "\\item 'C'\n",
       "\\item 'C'\n",
       "\\item 'S'\n",
       "\\item 'S'\n",
       "\\item 'S'\n",
       "\\item 'S'\n",
       "\\item 'C'\n",
       "\\item 'S'\n",
       "\\item 'S'\n",
       "\\item 'C'\n",
       "\\item 'S'\n",
       "\\item 'S'\n",
       "\\item 'C'\n",
       "\\item 'C'\n",
       "\\item 'C'\n",
       "\\item 'S'\n",
       "\\item 'S'\n",
       "\\item 'C'\n",
       "\\end{enumerate*}\n"
      ],
      "text/markdown": [
       "1. 'S'\n",
       "2. 'S'\n",
       "3. 'Q'\n",
       "4. 'S'\n",
       "5. 'S'\n",
       "6. 'S'\n",
       "7. 'S'\n",
       "8. 'S'\n",
       "9. 'Q'\n",
       "10. 'S'\n",
       "11. 'S'\n",
       "12. 'S'\n",
       "13. 'C'\n",
       "14. 'S'\n",
       "15. 'S'\n",
       "16. 'C'\n",
       "17. 'S'\n",
       "18. 'C'\n",
       "19. 'S'\n",
       "20. 'S'\n",
       "21. 'S'\n",
       "22. 'S'\n",
       "23. 'S'\n",
       "24. 'C'\n",
       "25. 'S'\n",
       "26. 'Q'\n",
       "27. 'C'\n",
       "28. 'S'\n",
       "29. 'S'\n",
       "30. 'S'\n",
       "31. 'C'\n",
       "32. 'C'\n",
       "33. 'S'\n",
       "34. 'C'\n",
       "35. 'S'\n",
       "36. 'S'\n",
       "37. 'C'\n",
       "38. 'S'\n",
       "39. 'S'\n",
       "40. 'S'\n",
       "41. 'S'\n",
       "42. 'S'\n",
       "43. 'C'\n",
       "44. 'S'\n",
       "45. 'S'\n",
       "46. 'S'\n",
       "47. 'S'\n",
       "48. 'S'\n",
       "49. 'S'\n",
       "50. 'S'\n",
       "51. 'S'\n",
       "52. 'S'\n",
       "53. 'S'\n",
       "54. 'S'\n",
       "55. 'S'\n",
       "56. 'S'\n",
       "57. 'S'\n",
       "58. 'C'\n",
       "59. 'S'\n",
       "60. 'S'\n",
       "61. 'S'\n",
       "62. 'S'\n",
       "63. 'S'\n",
       "64. 'S'\n",
       "65. 'S'\n",
       "66. 'S'\n",
       "67. 'S'\n",
       "68. 'C'\n",
       "69. 'S'\n",
       "70. 'S'\n",
       "71. 'C'\n",
       "72. 'S'\n",
       "73. 'Q'\n",
       "74. 'S'\n",
       "75. 'C'\n",
       "76. 'S'\n",
       "77. 'S'\n",
       "78. 'S'\n",
       "79. 'C'\n",
       "80. 'S'\n",
       "81. 'Q'\n",
       "82. 'S'\n",
       "83. 'C'\n",
       "84. 'S'\n",
       "85. 'S'\n",
       "86. 'S'\n",
       "87. 'C'\n",
       "88. 'S'\n",
       "89. 'S'\n",
       "90. 'C'\n",
       "91. 'C'\n",
       "92. 'Q'\n",
       "93. 'S'\n",
       "94. 'S'\n",
       "95. 'S'\n",
       "96. 'S'\n",
       "97. 'S'\n",
       "98. 'S'\n",
       "99. 'S'\n",
       "100. 'S'\n",
       "101. 'S'\n",
       "102. 'C'\n",
       "103. 'S'\n",
       "104. 'S'\n",
       "105. 'S'\n",
       "106. 'S'\n",
       "107. 'S'\n",
       "108. 'S'\n",
       "109. 'S'\n",
       "110. 'S'\n",
       "111. 'S'\n",
       "112. 'S'\n",
       "113. 'S'\n",
       "114. 'Q'\n",
       "115. 'S'\n",
       "116. 'C'\n",
       "117. 'S'\n",
       "118. 'S'\n",
       "119. 'C'\n",
       "120. 'S'\n",
       "121. 'S'\n",
       "122. 'S'\n",
       "123. 'C'\n",
       "124. 'S'\n",
       "125. 'S'\n",
       "126. 'Q'\n",
       "127. 'S'\n",
       "128. 'S'\n",
       "129. 'Q'\n",
       "130. 'S'\n",
       "131. 'S'\n",
       "132. 'S'\n",
       "133. 'S'\n",
       "134. 'S'\n",
       "135. 'C'\n",
       "136. 'S'\n",
       "137. 'S'\n",
       "138. 'S'\n",
       "139. 'S'\n",
       "140. 'S'\n",
       "141. 'Q'\n",
       "142. 'S'\n",
       "143. 'S'\n",
       "144. 'S'\n",
       "145. 'S'\n",
       "146. 'S'\n",
       "147. 'S'\n",
       "148. 'S'\n",
       "149. 'S'\n",
       "150. 'S'\n",
       "151. 'S'\n",
       "152. 'S'\n",
       "153. 'S'\n",
       "154. 'S'\n",
       "155. 'S'\n",
       "156. 'S'\n",
       "157. 'S'\n",
       "158. 'C'\n",
       "159. 'S'\n",
       "160. 'S'\n",
       "161. 'C'\n",
       "162. 'Q'\n",
       "163. 'S'\n",
       "164. 'S'\n",
       "165. 'S'\n",
       "166. 'S'\n",
       "167. 'S'\n",
       "168. 'S'\n",
       "169. 'S'\n",
       "170. 'Q'\n",
       "171. 'S'\n",
       "172. 'S'\n",
       "173. 'Q'\n",
       "174. 'S'\n",
       "175. 'S'\n",
       "176. 'S'\n",
       "177. 'C'\n",
       "178. 'S'\n",
       "179. 'S'\n",
       "180. 'Q'\n",
       "181. 'Q'\n",
       "182. 'S'\n",
       "183. 'S'\n",
       "184. 'S'\n",
       "185. 'C'\n",
       "186. 'S'\n",
       "187. 'C'\n",
       "188. 'S'\n",
       "189. 'S'\n",
       "190. 'C'\n",
       "191. 'C'\n",
       "192. 'S'\n",
       "193. 'S'\n",
       "194. 'S'\n",
       "195. 'C'\n",
       "196. 'S'\n",
       "197. 'S'\n",
       "198. 'S'\n",
       "199. 'S'\n",
       "200. 'S'\n",
       "201. ...\n",
       "202. 'Q'\n",
       "203. 'C'\n",
       "204. 'C'\n",
       "205. 'C'\n",
       "206. 'S'\n",
       "207. 'C'\n",
       "208. 'C'\n",
       "209. 'S'\n",
       "210. 'S'\n",
       "211. 'C'\n",
       "212. 'S'\n",
       "213. 'S'\n",
       "214. 'C'\n",
       "215. 'S'\n",
       "216. 'S'\n",
       "217. 'S'\n",
       "218. 'S'\n",
       "219. 'Q'\n",
       "220. 'S'\n",
       "221. 'S'\n",
       "222. 'S'\n",
       "223. 'S'\n",
       "224. 'S'\n",
       "225. 'S'\n",
       "226. 'S'\n",
       "227. 'S'\n",
       "228. 'S'\n",
       "229. 'S'\n",
       "230. 'S'\n",
       "231. 'S'\n",
       "232. 'S'\n",
       "233. 'S'\n",
       "234. 'S'\n",
       "235. 'S'\n",
       "236. 'S'\n",
       "237. 'C'\n",
       "238. 'S'\n",
       "239. 'C'\n",
       "240. 'C'\n",
       "241. 'S'\n",
       "242. 'S'\n",
       "243. 'S'\n",
       "244. 'C'\n",
       "245. 'S'\n",
       "246. 'C'\n",
       "247. 'S'\n",
       "248. 'S'\n",
       "249. 'C'\n",
       "250. 'S'\n",
       "251. 'S'\n",
       "252. 'C'\n",
       "253. 'S'\n",
       "254. 'S'\n",
       "255. 'S'\n",
       "256. 'S'\n",
       "257. 'Q'\n",
       "258. 'S'\n",
       "259. 'C'\n",
       "260. 'S'\n",
       "261. 'S'\n",
       "262. 'S'\n",
       "263. 'C'\n",
       "264. 'S'\n",
       "265. 'S'\n",
       "266. 'C'\n",
       "267. 'S'\n",
       "268. 'C'\n",
       "269. 'C'\n",
       "270. 'S'\n",
       "271. 'S'\n",
       "272. 'S'\n",
       "273. 'C'\n",
       "274. 'S'\n",
       "275. 'C'\n",
       "276. 'C'\n",
       "277. 'S'\n",
       "278. 'C'\n",
       "279. 'S'\n",
       "280. 'S'\n",
       "281. 'S'\n",
       "282. 'S'\n",
       "283. 'S'\n",
       "284. 'S'\n",
       "285. 'Q'\n",
       "286. 'S'\n",
       "287. 'S'\n",
       "288. 'S'\n",
       "289. 'S'\n",
       "290. 'C'\n",
       "291. 'S'\n",
       "292. 'C'\n",
       "293. 'C'\n",
       "294. 'S'\n",
       "295. 'C'\n",
       "296. 'S'\n",
       "297. 'C'\n",
       "298. 'S'\n",
       "299. 'C'\n",
       "300. 'S'\n",
       "301. 'Q'\n",
       "302. 'S'\n",
       "303. 'S'\n",
       "304. 'S'\n",
       "305. 'C'\n",
       "306. 'S'\n",
       "307. 'S'\n",
       "308. 'C'\n",
       "309. 'S'\n",
       "310. 'C'\n",
       "311. 'S'\n",
       "312. 'C'\n",
       "313. 'C'\n",
       "314. 'C'\n",
       "315. 'S'\n",
       "316. 'S'\n",
       "317. 'Q'\n",
       "318. 'S'\n",
       "319. 'S'\n",
       "320. 'S'\n",
       "321. 'S'\n",
       "322. 'S'\n",
       "323. 'S'\n",
       "324. 'C'\n",
       "325. 'C'\n",
       "326. 'S'\n",
       "327. 'S'\n",
       "328. 'C'\n",
       "329. 'S'\n",
       "330. 'Q'\n",
       "331. 'C'\n",
       "332. 'S'\n",
       "333. 'S'\n",
       "334. 'S'\n",
       "335. 'S'\n",
       "336. 'C'\n",
       "337. 'C'\n",
       "338. 'S'\n",
       "339. 'C'\n",
       "340. 'S'\n",
       "341. 'S'\n",
       "342. 'S'\n",
       "343. 'S'\n",
       "344. 'Q'\n",
       "345. 'S'\n",
       "346. 'C'\n",
       "347. 'S'\n",
       "348. 'C'\n",
       "349. 'S'\n",
       "350. 'S'\n",
       "351. 'S'\n",
       "352. 'S'\n",
       "353. 'S'\n",
       "354. 'S'\n",
       "355. 'S'\n",
       "356. 'C'\n",
       "357. 'S'\n",
       "358. 'S'\n",
       "359. 'S'\n",
       "360. 'S'\n",
       "361. 'S'\n",
       "362. 'C'\n",
       "363. 'S'\n",
       "364. 'S'\n",
       "365. 'S'\n",
       "366. 'S'\n",
       "367. 'S'\n",
       "368. 'S'\n",
       "369. 'S'\n",
       "370. 'C'\n",
       "371. 'S'\n",
       "372. 'S'\n",
       "373. 'S'\n",
       "374. 'S'\n",
       "375. 'S'\n",
       "376. 'C'\n",
       "377. 'Q'\n",
       "378. 'S'\n",
       "379. 'C'\n",
       "380. 'S'\n",
       "381. 'C'\n",
       "382. 'S'\n",
       "383. 'C'\n",
       "384. 'C'\n",
       "385. 'C'\n",
       "386. 'S'\n",
       "387. 'S'\n",
       "388. 'S'\n",
       "389. 'S'\n",
       "390. 'C'\n",
       "391. 'S'\n",
       "392. 'S'\n",
       "393. 'C'\n",
       "394. 'S'\n",
       "395. 'S'\n",
       "396. 'C'\n",
       "397. 'C'\n",
       "398. 'C'\n",
       "399. 'S'\n",
       "400. 'S'\n",
       "401. 'C'\n",
       "\n",
       "\n"
      ],
      "text/plain": [
       "  [1] \"S\" \"S\" \"Q\" \"S\" \"S\" \"S\" \"S\" \"S\" \"Q\" \"S\" \"S\" \"S\" \"C\" \"S\" \"S\" \"C\" \"S\" \"C\"\n",
       " [19] \"S\" \"S\" \"S\" \"S\" \"S\" \"C\" \"S\" \"Q\" \"C\" \"S\" \"S\" \"S\" \"C\" \"C\" \"S\" \"C\" \"S\" \"S\"\n",
       " [37] \"C\" \"S\" \"S\" \"S\" \"S\" \"S\" \"C\" \"S\" \"S\" \"S\" \"S\" \"S\" \"S\" \"S\" \"S\" \"S\" \"S\" \"S\"\n",
       " [55] \"S\" \"S\" \"S\" \"C\" \"S\" \"S\" \"S\" \"S\" \"S\" \"S\" \"S\" \"S\" \"S\" \"C\" \"S\" \"S\" \"C\" \"S\"\n",
       " [73] \"Q\" \"S\" \"C\" \"S\" \"S\" \"S\" \"C\" \"S\" \"Q\" \"S\" \"C\" \"S\" \"S\" \"S\" \"C\" \"S\" \"S\" \"C\"\n",
       " [91] \"C\" \"Q\" \"S\" \"S\" \"S\" \"S\" \"S\" \"S\" \"S\" \"S\" \"S\" \"C\" \"S\" \"S\" \"S\" \"S\" \"S\" \"S\"\n",
       "[109] \"S\" \"S\" \"S\" \"S\" \"S\" \"Q\" \"S\" \"C\" \"S\" \"S\" \"C\" \"S\" \"S\" \"S\" \"C\" \"S\" \"S\" \"Q\"\n",
       "[127] \"S\" \"S\" \"Q\" \"S\" \"S\" \"S\" \"S\" \"S\" \"C\" \"S\" \"S\" \"S\" \"S\" \"S\" \"Q\" \"S\" \"S\" \"S\"\n",
       "[145] \"S\" \"S\" \"S\" \"S\" \"S\" \"S\" \"S\" \"S\" \"S\" \"S\" \"S\" \"S\" \"S\" \"C\" \"S\" \"S\" \"C\" \"Q\"\n",
       "[163] \"S\" \"S\" \"S\" \"S\" \"S\" \"S\" \"S\" \"Q\" \"S\" \"S\" \"Q\" \"S\" \"S\" \"S\" \"C\" \"S\" \"S\" \"Q\"\n",
       "[181] \"Q\" \"S\" \"S\" \"S\" \"C\" \"S\" \"C\" \"S\" \"S\" \"C\" \"C\" \"S\" \"S\" \"S\" \"C\" \"S\" \"S\" \"S\"\n",
       "[199] \"S\" \"S\" \"S\" \"S\" \"S\" \"S\" \"S\" \"S\" \"S\" \"S\" \"S\" \"S\" \"S\" \"S\" \"S\" \"S\" \"S\" \"C\"\n",
       "[217] \"S\" \"C\" \"S\" \"S\" \"S\" \"C\" \"C\" \"S\" \"Q\" \"S\" \"S\" \"S\" \"C\" \"S\" \"C\" \"C\" \"S\" \"S\"\n",
       "[235] \"S\" \"S\" \"S\" \"Q\" \"S\" \"S\" \"S\" \"S\" \"S\" \"S\" \"S\" \"S\" \"S\" \"S\" \"S\" \"S\" \"S\" \"S\"\n",
       "[253] \"Q\" \"S\" \"S\" \"S\" \"S\" \"C\" \"Q\" \"S\" \"S\" \"S\" \"S\" \"Q\" \"S\" \"S\" \"S\" \"S\" \"S\" \"S\"\n",
       "[271] \"S\" \"S\" \"S\" \"C\" \"S\" \"S\" \"Q\" \"S\" \"S\" \"S\" \"S\" \"S\" \"S\" \"S\" \"Q\" \"S\" \"S\" \"S\"\n",
       "[289] \"S\" \"S\" \"S\" \"S\" \"S\" \"S\" \"S\" \"S\" \"C\" \"S\" \"S\" \"S\" \"S\" \"C\" \"S\" \"C\" \"S\" \"S\"\n",
       "[307] \"S\" \"S\" \"Q\" \"Q\" \"S\" \"C\" \"S\" \"S\" \"S\" \"S\" \"Q\" \"S\" \"S\" \"C\" \"C\" \"Q\" \"S\" \"S\"\n",
       "[325] \"S\" \"C\" \"C\" \"S\" \"S\" \"S\" \"S\" \"S\" \"C\" \"S\" \"S\" \"S\" \"Q\" \"S\" \"C\" \"Q\" \"S\" \"S\"\n",
       "[343] \"S\" \"S\" \"S\" \"S\" \"S\" \"C\" \"S\" \"S\" \"C\" \"S\" \"C\" \"C\" \"S\" \"S\" \"S\" \"S\" \"S\" \"Q\"\n",
       "[361] \"S\" \"S\" \"S\" \"C\" \"S\" \"S\" \"S\" \"S\" \"S\" \"S\" \"S\" \"Q\" \"S\" \"S\" \"S\" \"S\" \"C\" \"S\"\n",
       "[379] \"S\" \"S\" \"Q\" \"S\" \"Q\" \"S\" \"S\" \"S\" \"S\" \"S\" \"S\" \"S\" \"S\" \"S\" \"S\" \"S\" \"S\" \"S\"\n",
       "[397] \"Q\" \"S\" \"S\" \"Q\" \"S\" \"C\" \"C\" \"S\" \"S\" \"S\" \"S\" \"S\" \"S\" \"S\" \"S\" \"S\" \"S\" \"S\"\n",
       "[415] \"S\" \"Q\" \"S\" \"S\" \"S\" \"C\" \"S\" \"S\" \"S\" \"C\" \"S\" \"S\" \"S\" \"C\" \"S\" \"C\" \"Q\" \"S\"\n",
       "[433] \"S\" \"S\" \"S\" \"S\" \"S\" \"Q\" \"S\" \"S\" \"S\" \"S\" \"S\" \"S\" \"S\" \"C\" \"S\" \"S\" \"S\" \"S\"\n",
       "[451] \"S\" \"S\" \"S\" \"S\" \"S\" \"S\" \"S\" \"S\" \"Q\" \"S\" \"S\" \"S\" \"S\" \"S\" \"S\" \"S\" \"S\" \"C\"\n",
       "[469] \"Q\" \"Q\" \"S\" \"S\" \"S\" \"S\" \"C\" \"S\" \"Q\" \"Q\" \"S\" \"S\" \"S\" \"S\" \"Q\" \"C\" \"Q\" \"S\"\n",
       "[487] \"S\" \"C\" \"S\" \"S\" \"C\" \"S\" \"S\" \"S\" \"S\" \"S\" \"S\" \"S\" \"S\" \"S\" \"S\" \"S\" \"S\" \"S\"\n",
       "[505] \"C\" \"S\" \"S\" \"S\" \"S\" \"Q\" \"S\" \"C\" \"S\" \"S\" \"S\" \"S\" \"S\" \"S\" \"C\" \"S\" \"S\" \"S\"\n",
       "[523] \"C\" \"S\" \"S\" \"S\" \"C\" \"S\" \"C\" \"S\" \"S\" \"S\" \"S\" \"S\" \"S\" \"S\" \"S\" \"S\" \"S\" \"S\"\n",
       "[541] \"S\" \"S\" \"S\" \"S\" \"S\" \"Q\" \"S\" \"S\" \"Q\" \"C\" \"S\" \"S\" \"S\" \"C\" \"S\" \"S\" \"S\" \"S\"\n",
       "[559] \"C\" \"S\" \"Q\" \"S\" \"S\" \"Q\" \"C\" \"Q\" \"C\" \"C\" \"C\" \"Q\" \"Q\" \"C\" \"S\" \"S\" \"S\" \"S\"\n",
       "[577] \"S\" \"C\" \"S\" \"S\" \"S\" \"S\" \"S\" \"S\" \"Q\" \"S\" \"S\" \"S\" \"C\" \"S\" \"S\" \"S\" \"Q\" \"S\"\n",
       "[595] \"C\" \"S\" \"C\" \"S\" \"S\" \"S\" \"S\" \"S\" \"S\" \"Q\" \"S\" \"S\" \"S\" \"S\" \"S\" \"S\" \"Q\" \"S\"\n",
       "[613] \"S\" \"S\" \"S\" \"C\" \"C\" \"Q\" \"S\" \"C\" \"Q\" \"C\" \"S\" \"C\" \"S\" \"C\" \"S\" \"S\" \"S\" \"S\"\n",
       "[631] \"S\" \"S\" \"Q\" \"S\" \"S\" \"C\" \"C\" \"S\" \"C\" \"S\" \"S\" \"S\" \"S\" \"S\" \"S\" \"S\" \"Q\" \"S\"\n",
       "[649] \"S\" \"S\" \"S\" \"S\" \"Q\" \"S\" \"C\" \"S\" \"C\" \"Q\" \"Q\" \"Q\" \"S\" \"C\" \"C\" \"C\" \"C\" \"C\"\n",
       "[667] \"S\" \"S\" \"S\" \"C\" \"Q\" \"S\" \"C\" \"S\" \"S\" \"C\" \"Q\" \"S\" \"C\" \"S\" \"S\" \"S\" \"S\" \"S\"\n",
       "[685] \"S\" \"S\" \"S\" \"Q\" \"Q\" \"C\" \"C\" \"Q\" \"C\" \"C\" \"C\" \"S\" \"C\" \"C\" \"S\" \"S\" \"C\" \"S\"\n",
       "[703] \"S\" \"C\" \"S\" \"S\" \"S\" \"S\" \"Q\" \"S\" \"S\" \"S\" \"S\" \"S\" \"S\" \"S\" \"S\" \"S\" \"S\" \"S\"\n",
       "[721] \"S\" \"S\" \"S\" \"S\" \"S\" \"S\" \"C\" \"S\" \"C\" \"C\" \"S\" \"S\" \"S\" \"C\" \"S\" \"C\" \"S\" \"S\"\n",
       "[739] \"C\" \"S\" \"S\" \"C\" \"S\" \"S\" \"S\" \"S\" \"Q\" \"S\" \"C\" \"S\" \"S\" \"S\" \"C\" \"S\" \"S\" \"C\"\n",
       "[757] \"S\" \"C\" \"C\" \"S\" \"S\" \"S\" \"C\" \"S\" \"C\" \"C\" \"S\" \"C\" \"S\" \"S\" \"S\" \"S\" \"S\" \"S\"\n",
       "[775] \"Q\" \"S\" \"S\" \"S\" \"S\" \"C\" \"S\" \"C\" \"C\" \"S\" \"C\" \"S\" \"C\" \"S\" \"C\" \"S\" \"Q\" \"S\"\n",
       "[793] \"S\" \"S\" \"C\" \"S\" \"S\" \"C\" \"S\" \"C\" \"S\" \"C\" \"C\" \"C\" \"S\" \"S\" \"Q\" \"S\" \"S\" \"S\"\n",
       "[811] \"S\" \"S\" \"S\" \"C\" \"C\" \"S\" \"S\" \"C\" \"S\" \"Q\" \"C\" \"S\" \"S\" \"S\" \"S\" \"C\" \"C\" \"S\"\n",
       "[829] \"C\" \"S\" \"S\" \"S\" \"S\" \"Q\" \"S\" \"C\" \"S\" \"C\" \"S\" \"S\" \"S\" \"S\" \"S\" \"S\" \"S\" \"C\"\n",
       "[847] \"S\" \"S\" \"S\" \"S\" \"S\" \"C\" \"S\" \"S\" \"S\" \"S\" \"S\" \"S\" \"S\" \"C\" \"S\" \"S\" \"S\" \"S\"\n",
       "[865] \"S\" \"C\" \"Q\" \"S\" \"C\" \"S\" \"C\" \"S\" \"C\" \"C\" \"C\" \"S\" \"S\" \"S\" \"S\" \"C\" \"S\" \"S\"\n",
       "[883] \"C\" \"S\" \"S\" \"C\" \"C\" \"C\" \"S\" \"S\" \"C\""
      ]
     },
     "metadata": {},
     "output_type": "display_data"
    }
   ],
   "source": [
    " <- c(colnmatrain_tf$Embarked)"
   ]
  },
  {
   "cell_type": "code",
   "execution_count": null,
   "metadata": {
    "vscode": {
     "languageId": "r"
    }
   },
   "outputs": [
    {
     "data": {
      "text/plain": [
       "        Embarked\n",
       "Sex        C   Q   S\n",
       "  female  73  36 205\n",
       "  male    95  41 441"
      ]
     },
     "metadata": {},
     "output_type": "display_data"
    }
   ],
   "source": [
    "table(train_tf[c(5,12)])"
   ]
  },
  {
   "cell_type": "code",
   "execution_count": null,
   "metadata": {
    "vscode": {
     "languageId": "r"
    }
   },
   "outputs": [
    {
     "data": {
      "image/png": "[encoded data removed]",
      "text/plain": [
       "Plot with title “항구별 성별별 탑승”"
      ]
     },
     "metadata": {
      "image/png": {
       "height": 540,
       "width": 900
      }
     },
     "output_type": "display_data"
    }
   ],
   "source": [
    "par(family = 'AppleGothic',bg = 'white')\n",
    "barplot(table(train_tf[c(5,12)]),\n",
    "        beside = T,\n",
    "        main = \"항구별 성별별 탑승\",\n",
    "        col = c('red','blue'),\n",
    "        ylim = c(0, 500)\n",
    "        \n",
    "        \n",
    ")\n",
    "legend(1,300,\n",
    "        rownames(table(train_tf[c(5,12)])),\n",
    "        fill = rep(c('red','blue'),3),\n",
    "        cex =0.8\n",
    "        )"
   ]
  },
  {
   "cell_type": "code",
   "execution_count": null,
   "metadata": {
    "vscode": {
     "languageId": "r"
    }
   },
   "outputs": [
    {
     "data": {
      "image/png": "[encoded data removed]",
      "text/plain": [
       "Plot with title “항구별 생존인원”"
      ]
     },
     "metadata": {
      "image/png": {
       "height": 540,
       "width": 900
      }
     },
     "output_type": "display_data"
    }
   ],
   "source": [
    "par(family = 'AppleGothic',bg = 'white')\n",
    "par(mfrow = c(2,2))\n",
    "barplot(table(train_tf[c(3,12)]),\n",
    "        beside = T,\n",
    "        col = rep(c('red','blue','yellow'),3),\n",
    "        main = \"항구별 객실 등급별 인원\",\n",
    "        xlab = \"항구별 / 객실 등급\",\n",
    "        ylab = \"인원수\",\n",
    ")\n",
    "legend(1,300,\n",
    "        rownames(table(train_tf[c(3,12)])),\n",
    "        fill = rep(c('red','blue','yellow'),3),\n",
    "        cex =0.8\n",
    "        )\n",
    "        barplot(table(train_tf[c(5,12)]),\n",
    "        beside = T,\n",
    "        main = \"항구별 성별별 탑승\",\n",
    "        col = c('red','blue'),\n",
    "        ylim = c(0, 500),\n",
    "        xlab = '성별',\n",
    "        ylab = '탑승인원',\n",
    "        \n",
    "        \n",
    ")\n",
    "legend(1,400,\n",
    "        rownames(table(train_tf[c(5,12)])),\n",
    "        fill = rep(c('red','blue'),3),\n",
    "        cex =0.8\n",
    "        )\n",
    "        # 항구별 승선인원, 항구별 생존인원\n",
    " barplot(table(train_tf$Embarked),\n",
    "          main = '항구별 승선인원',\n",
    "          col = c('red','blue','yellow'),\n",
    "          xlab = '항구',\n",
    "          ylab = '탑승인원',\n",
    "          )\n",
    "          legend(0.3,500,\n",
    "        rownames(table(train_tf$Embarked)),\n",
    "        fill = rep(c('red','blue','yellow'),3),\n",
    "        cex =0.8\n",
    "        )\n",
    "barplot(table(train_tf[c(2,12)]),\n",
    "        beside = T,\n",
    "        ylim = c(0,500),\n",
    "        col = rep(c('red','blue'),3),\n",
    "        xlab = '항구',\n",
    "        ylab = '생존인원',\n",
    "        main = '항구별 생존인원',\n",
    "        \n",
    ")\n",
    "  legend(1,400,\n",
    "        rownames(table(train_tf[c(2,12)])),\n",
    "        fill = rep(c('red','blue'),3),\n",
    "        cex =0.8\n",
    "        )\n",
    "bar <- as.vector(table(train_tf[c(2,12)]))\n",
    "\n",
    "text(c(1:2,4:5,7:8) + 0.5, as.vector(table(train_tf[c(2,12)])) + 10, paste0(round(bar / sum(bar) * 100), \"%\")) \n",
    "#  text(5,50, \"THis is a 생픔\", srt = 50)\n",
    "#      1,2 , 4,5,  7,8\n"
   ]
  },
  {
   "cell_type": "code",
   "execution_count": null,
   "metadata": {
    "vscode": {
     "languageId": "r"
    }
   },
   "outputs": [
    {
     "data": {
      "text/html": [
       "<style>\n",
       ".list-inline {list-style: none; margin:0; padding: 0}\n",
       ".list-inline>li {display: inline-block}\n",
       ".list-inline>li:not(:last-child)::after {content: \"\\00b7\"; padding: 0 .5ex}\n",
       "</style>\n",
       "<ol class=list-inline><li>1</li><li>2</li><li>4</li><li>5</li><li>7</li><li>8</li></ol>\n"
      ],
      "text/latex": [
       "\\begin{enumerate*}\n",
       "\\item 1\n",
       "\\item 2\n",
       "\\item 4\n",
       "\\item 5\n",
       "\\item 7\n",
       "\\item 8\n",
       "\\end{enumerate*}\n"
      ],
      "text/markdown": [
       "1. 1\n",
       "2. 2\n",
       "3. 4\n",
       "4. 5\n",
       "5. 7\n",
       "6. 8\n",
       "\n",
       "\n"
      ],
      "text/plain": [
       "[1] 1 2 4 5 7 8"
      ]
     },
     "metadata": {},
     "output_type": "display_data"
    }
   ],
   "source": [
    "c(1:2,4:5,7:8)"
   ]
  },
  {
   "cell_type": "code",
   "execution_count": null,
   "metadata": {
    "vscode": {
     "languageId": "r"
    }
   },
   "outputs": [
    {
     "data": {
      "text/html": [
       "<table class=\"dataframe\">\n",
       "<caption>A data.frame: 6 x 12</caption>\n",
       "<thead>\n",
       "\t<tr><th></th><th scope=col>PassengerId</th><th scope=col>Survived</th><th scope=col>Pclass</th><th scope=col>Name</th><th scope=col>Sex</th><th scope=col>Age</th><th scope=col>SibSp</th><th scope=col>Parch</th><th scope=col>Ticket</th><th scope=col>Fare</th><th scope=col>Cabin</th><th scope=col>Embarked</th></tr>\n",
       "\t<tr><th></th><th scope=col>&lt;int&gt;</th><th scope=col>&lt;int&gt;</th><th scope=col>&lt;int&gt;</th><th scope=col>&lt;chr&gt;</th><th scope=col>&lt;chr&gt;</th><th scope=col>&lt;dbl&gt;</th><th scope=col>&lt;int&gt;</th><th scope=col>&lt;int&gt;</th><th scope=col>&lt;chr&gt;</th><th scope=col>&lt;dbl&gt;</th><th scope=col>&lt;chr&gt;</th><th scope=col>&lt;chr&gt;</th></tr>\n",
       "</thead>\n",
       "<tbody>\n",
       "\t<tr><th scope=row>1</th><td> 1</td><td>0</td><td>3</td><td>Braund, Mr. Owen Harris       </td><td>male</td><td>22</td><td>1</td><td>0</td><td>A/5 21171</td><td> 7.2500</td><td>   </td><td>S</td></tr>\n",
       "\t<tr><th scope=row>2</th><td> 5</td><td>0</td><td>3</td><td>Allen, Mr. William Henry      </td><td>male</td><td>35</td><td>0</td><td>0</td><td>373450   </td><td> 8.0500</td><td>   </td><td>S</td></tr>\n",
       "\t<tr><th scope=row>3</th><td> 6</td><td>0</td><td>3</td><td>Moran, Mr. James              </td><td>male</td><td>NA</td><td>0</td><td>0</td><td>330877   </td><td> 8.4583</td><td>   </td><td>Q</td></tr>\n",
       "\t<tr><th scope=row>4</th><td> 7</td><td>0</td><td>1</td><td>McCarthy, Mr. Timothy J       </td><td>male</td><td>54</td><td>0</td><td>0</td><td>17463    </td><td>51.8625</td><td>E46</td><td>S</td></tr>\n",
       "\t<tr><th scope=row>5</th><td> 8</td><td>0</td><td>3</td><td>Palsson, Master. Gosta Leonard</td><td>male</td><td> 2</td><td>3</td><td>1</td><td>349909   </td><td>21.0750</td><td>   </td><td>S</td></tr>\n",
       "\t<tr><th scope=row>6</th><td>13</td><td>0</td><td>3</td><td>Saundercock, Mr. William Henry</td><td>male</td><td>20</td><td>0</td><td>0</td><td>A/5. 2151</td><td> 8.0500</td><td>   </td><td>S</td></tr>\n",
       "</tbody>\n",
       "</table>\n"
      ],
      "text/latex": [
       "A data.frame: 6 x 12\n",
       "\\begin{tabular}{r|llllllllllll}\n",
       "  & PassengerId & Survived & Pclass & Name & Sex & Age & SibSp & Parch & Ticket & Fare & Cabin & Embarked\\\\\n",
       "  & <int> & <int> & <int> & <chr> & <chr> & <dbl> & <int> & <int> & <chr> & <dbl> & <chr> & <chr>\\\\\n",
       "\\hline\n",
       "\t1 &  1 & 0 & 3 & Braund, Mr. Owen Harris        & male & 22 & 1 & 0 & A/5 21171 &  7.2500 &     & S\\\\\n",
       "\t2 &  5 & 0 & 3 & Allen, Mr. William Henry       & male & 35 & 0 & 0 & 373450    &  8.0500 &     & S\\\\\n",
       "\t3 &  6 & 0 & 3 & Moran, Mr. James               & male & NA & 0 & 0 & 330877    &  8.4583 &     & Q\\\\\n",
       "\t4 &  7 & 0 & 1 & McCarthy, Mr. Timothy J        & male & 54 & 0 & 0 & 17463     & 51.8625 & E46 & S\\\\\n",
       "\t5 &  8 & 0 & 3 & Palsson, Master. Gosta Leonard & male &  2 & 3 & 1 & 349909    & 21.0750 &     & S\\\\\n",
       "\t6 & 13 & 0 & 3 & Saundercock, Mr. William Henry & male & 20 & 0 & 0 & A/5. 2151 &  8.0500 &     & S\\\\\n",
       "\\end{tabular}\n"
      ],
      "text/markdown": [
       "\n",
       "A data.frame: 6 x 12\n",
       "\n",
       "| <!--/--> | PassengerId &lt;int&gt; | Survived &lt;int&gt; | Pclass &lt;int&gt; | Name &lt;chr&gt; | Sex &lt;chr&gt; | Age &lt;dbl&gt; | SibSp &lt;int&gt; | Parch &lt;int&gt; | Ticket &lt;chr&gt; | Fare &lt;dbl&gt; | Cabin &lt;chr&gt; | Embarked &lt;chr&gt; |\n",
       "|---|---|---|---|---|---|---|---|---|---|---|---|---|\n",
       "| 1 |  1 | 0 | 3 | Braund, Mr. Owen Harris        | male | 22 | 1 | 0 | A/5 21171 |  7.2500 | <!----> | S |\n",
       "| 2 |  5 | 0 | 3 | Allen, Mr. William Henry       | male | 35 | 0 | 0 | 373450    |  8.0500 | <!----> | S |\n",
       "| 3 |  6 | 0 | 3 | Moran, Mr. James               | male | NA | 0 | 0 | 330877    |  8.4583 | <!----> | Q |\n",
       "| 4 |  7 | 0 | 1 | McCarthy, Mr. Timothy J        | male | 54 | 0 | 0 | 17463     | 51.8625 | E46 | S |\n",
       "| 5 |  8 | 0 | 3 | Palsson, Master. Gosta Leonard | male |  2 | 3 | 1 | 349909    | 21.0750 | <!----> | S |\n",
       "| 6 | 13 | 0 | 3 | Saundercock, Mr. William Henry | male | 20 | 0 | 0 | A/5. 2151 |  8.0500 | <!----> | S |\n",
       "\n"
      ],
      "text/plain": [
       "  PassengerId Survived Pclass Name                           Sex  Age SibSp\n",
       "1  1          0        3      Braund, Mr. Owen Harris        male 22  1    \n",
       "2  5          0        3      Allen, Mr. William Henry       male 35  0    \n",
       "3  6          0        3      Moran, Mr. James               male NA  0    \n",
       "4  7          0        1      McCarthy, Mr. Timothy J        male 54  0    \n",
       "5  8          0        3      Palsson, Master. Gosta Leonard male  2  3    \n",
       "6 13          0        3      Saundercock, Mr. William Henry male 20  0    \n",
       "  Parch Ticket    Fare    Cabin Embarked\n",
       "1 0     A/5 21171  7.2500       S       \n",
       "2 0     373450     8.0500       S       \n",
       "3 0     330877     8.4583       Q       \n",
       "4 0     17463     51.8625 E46   S       \n",
       "5 1     349909    21.0750       S       \n",
       "6 0     A/5. 2151  8.0500       S       "
      ]
     },
     "metadata": {},
     "output_type": "display_data"
    },
    {
     "data": {
      "text/html": [
       "<style>\n",
       ".list-inline {list-style: none; margin:0; padding: 0}\n",
       ".list-inline>li {display: inline-block}\n",
       ".list-inline>li:not(:last-child)::after {content: \"\\00b7\"; padding: 0 .5ex}\n",
       "</style>\n",
       "<ol class=list-inline><li>75</li><li>93</li><li>47</li><li>30</li><li>427</li><li>219</li></ol>\n"
      ],
      "text/latex": [
       "\\begin{enumerate*}\n",
       "\\item 75\n",
       "\\item 93\n",
       "\\item 47\n",
       "\\item 30\n",
       "\\item 427\n",
       "\\item 219\n",
       "\\end{enumerate*}\n"
      ],
      "text/markdown": [
       "1. 75\n",
       "2. 93\n",
       "3. 47\n",
       "4. 30\n",
       "5. 427\n",
       "6. 219\n",
       "\n",
       "\n"
      ],
      "text/plain": [
       "[1]  75  93  47  30 427 219"
      ]
     },
     "metadata": {},
     "output_type": "display_data"
    }
   ],
   "source": [
    "head(train_tf)\n",
    "\n",
    " as.vector(table(train_tf[c(2,12)]))\n",
    "\n"
   ]
  },
  {
   "cell_type": "code",
   "execution_count": null,
   "metadata": {
    "vscode": {
     "languageId": "r"
    }
   },
   "outputs": [
    {
     "data": {
      "text/html": [
       "<table class=\"dataframe\">\n",
       "<caption>A data.frame: 6 x 12</caption>\n",
       "<thead>\n",
       "\t<tr><th></th><th scope=col>PassengerId</th><th scope=col>Survived</th><th scope=col>Pclass</th><th scope=col>Name</th><th scope=col>Sex</th><th scope=col>Age</th><th scope=col>SibSp</th><th scope=col>Parch</th><th scope=col>Ticket</th><th scope=col>Fare</th><th scope=col>Cabin</th><th scope=col>Embarked</th></tr>\n",
       "\t<tr><th></th><th scope=col>&lt;int&gt;</th><th scope=col>&lt;int&gt;</th><th scope=col>&lt;int&gt;</th><th scope=col>&lt;chr&gt;</th><th scope=col>&lt;chr&gt;</th><th scope=col>&lt;dbl&gt;</th><th scope=col>&lt;int&gt;</th><th scope=col>&lt;int&gt;</th><th scope=col>&lt;chr&gt;</th><th scope=col>&lt;dbl&gt;</th><th scope=col>&lt;chr&gt;</th><th scope=col>&lt;chr&gt;</th></tr>\n",
       "</thead>\n",
       "<tbody>\n",
       "\t<tr><th scope=row>1</th><td> 1</td><td>0</td><td>3</td><td>Braund, Mr. Owen Harris       </td><td>male</td><td>22</td><td>1</td><td>0</td><td>A/5 21171</td><td> 7.2500</td><td>   </td><td>S</td></tr>\n",
       "\t<tr><th scope=row>2</th><td> 5</td><td>0</td><td>3</td><td>Allen, Mr. William Henry      </td><td>male</td><td>35</td><td>0</td><td>0</td><td>373450   </td><td> 8.0500</td><td>   </td><td>S</td></tr>\n",
       "\t<tr><th scope=row>3</th><td> 6</td><td>0</td><td>3</td><td>Moran, Mr. James              </td><td>male</td><td>NA</td><td>0</td><td>0</td><td>330877   </td><td> 8.4583</td><td>   </td><td>Q</td></tr>\n",
       "\t<tr><th scope=row>4</th><td> 7</td><td>0</td><td>1</td><td>McCarthy, Mr. Timothy J       </td><td>male</td><td>54</td><td>0</td><td>0</td><td>17463    </td><td>51.8625</td><td>E46</td><td>S</td></tr>\n",
       "\t<tr><th scope=row>5</th><td> 8</td><td>0</td><td>3</td><td>Palsson, Master. Gosta Leonard</td><td>male</td><td> 2</td><td>3</td><td>1</td><td>349909   </td><td>21.0750</td><td>   </td><td>S</td></tr>\n",
       "\t<tr><th scope=row>6</th><td>13</td><td>0</td><td>3</td><td>Saundercock, Mr. William Henry</td><td>male</td><td>20</td><td>0</td><td>0</td><td>A/5. 2151</td><td> 8.0500</td><td>   </td><td>S</td></tr>\n",
       "</tbody>\n",
       "</table>\n"
      ],
      "text/latex": [
       "A data.frame: 6 x 12\n",
       "\\begin{tabular}{r|llllllllllll}\n",
       "  & PassengerId & Survived & Pclass & Name & Sex & Age & SibSp & Parch & Ticket & Fare & Cabin & Embarked\\\\\n",
       "  & <int> & <int> & <int> & <chr> & <chr> & <dbl> & <int> & <int> & <chr> & <dbl> & <chr> & <chr>\\\\\n",
       "\\hline\n",
       "\t1 &  1 & 0 & 3 & Braund, Mr. Owen Harris        & male & 22 & 1 & 0 & A/5 21171 &  7.2500 &     & S\\\\\n",
       "\t2 &  5 & 0 & 3 & Allen, Mr. William Henry       & male & 35 & 0 & 0 & 373450    &  8.0500 &     & S\\\\\n",
       "\t3 &  6 & 0 & 3 & Moran, Mr. James               & male & NA & 0 & 0 & 330877    &  8.4583 &     & Q\\\\\n",
       "\t4 &  7 & 0 & 1 & McCarthy, Mr. Timothy J        & male & 54 & 0 & 0 & 17463     & 51.8625 & E46 & S\\\\\n",
       "\t5 &  8 & 0 & 3 & Palsson, Master. Gosta Leonard & male &  2 & 3 & 1 & 349909    & 21.0750 &     & S\\\\\n",
       "\t6 & 13 & 0 & 3 & Saundercock, Mr. William Henry & male & 20 & 0 & 0 & A/5. 2151 &  8.0500 &     & S\\\\\n",
       "\\end{tabular}\n"
      ],
      "text/markdown": [
       "\n",
       "A data.frame: 6 x 12\n",
       "\n",
       "| <!--/--> | PassengerId &lt;int&gt; | Survived &lt;int&gt; | Pclass &lt;int&gt; | Name &lt;chr&gt; | Sex &lt;chr&gt; | Age &lt;dbl&gt; | SibSp &lt;int&gt; | Parch &lt;int&gt; | Ticket &lt;chr&gt; | Fare &lt;dbl&gt; | Cabin &lt;chr&gt; | Embarked &lt;chr&gt; |\n",
       "|---|---|---|---|---|---|---|---|---|---|---|---|---|\n",
       "| 1 |  1 | 0 | 3 | Braund, Mr. Owen Harris        | male | 22 | 1 | 0 | A/5 21171 |  7.2500 | <!----> | S |\n",
       "| 2 |  5 | 0 | 3 | Allen, Mr. William Henry       | male | 35 | 0 | 0 | 373450    |  8.0500 | <!----> | S |\n",
       "| 3 |  6 | 0 | 3 | Moran, Mr. James               | male | NA | 0 | 0 | 330877    |  8.4583 | <!----> | Q |\n",
       "| 4 |  7 | 0 | 1 | McCarthy, Mr. Timothy J        | male | 54 | 0 | 0 | 17463     | 51.8625 | E46 | S |\n",
       "| 5 |  8 | 0 | 3 | Palsson, Master. Gosta Leonard | male |  2 | 3 | 1 | 349909    | 21.0750 | <!----> | S |\n",
       "| 6 | 13 | 0 | 3 | Saundercock, Mr. William Henry | male | 20 | 0 | 0 | A/5. 2151 |  8.0500 | <!----> | S |\n",
       "\n"
      ],
      "text/plain": [
       "  PassengerId Survived Pclass Name                           Sex  Age SibSp\n",
       "1  1          0        3      Braund, Mr. Owen Harris        male 22  1    \n",
       "2  5          0        3      Allen, Mr. William Henry       male 35  0    \n",
       "3  6          0        3      Moran, Mr. James               male NA  0    \n",
       "4  7          0        1      McCarthy, Mr. Timothy J        male 54  0    \n",
       "5  8          0        3      Palsson, Master. Gosta Leonard male  2  3    \n",
       "6 13          0        3      Saundercock, Mr. William Henry male 20  0    \n",
       "  Parch Ticket    Fare    Cabin Embarked\n",
       "1 0     A/5 21171  7.2500       S       \n",
       "2 0     373450     8.0500       S       \n",
       "3 0     330877     8.4583       Q       \n",
       "4 0     17463     51.8625 E46   S       \n",
       "5 1     349909    21.0750       S       \n",
       "6 0     A/5. 2151  8.0500       S       "
      ]
     },
     "metadata": {},
     "output_type": "display_data"
    },
    {
     "data": {
      "text/plain": [
       ", , Embarked = C\n",
       "\n",
       "        Sex\n",
       "Survived female male\n",
       "       0      9   66\n",
       "       1     64   29\n",
       "\n",
       ", , Embarked = Q\n",
       "\n",
       "        Sex\n",
       "Survived female male\n",
       "       0      9   38\n",
       "       1     27    3\n",
       "\n",
       ", , Embarked = S\n",
       "\n",
       "        Sex\n",
       "Survived female male\n",
       "       0     63  364\n",
       "       1    142   77\n"
      ]
     },
     "metadata": {},
     "output_type": "display_data"
    },
    {
     "ename": "ERROR",
     "evalue": "Error in barplot.default(table(train_tf[c(2, 5, 12)]), beside = T, ): 'height'는 반드시 벡터 또는 행렬이어야 합니다\n",
     "output_type": "error",
     "traceback": [
      "Error in barplot.default(table(train_tf[c(2, 5, 12)]), beside = T, ): 'height'는 반드시 벡터 또는 행렬이어야 합니다\nTraceback:\n",
      "1. barplot(table(train_tf[c(2, 5, 12)]), beside = T, )",
      "2. barplot.default(table(train_tf[c(2, 5, 12)]), beside = T, )",
      "3. stop(\"'height' must be a vector or a matrix\")"
     ]
    }
   ],
   "source": [
    "head(train_tf)\n",
    " table(train_tf[c(2,5,12)])\n",
    "par(family = 'AppleGothic',bg = 'white')\n",
    "barplot(table(train_tf[c(2,5,12)]),\n",
    "        beside = T,\n",
    ")"
   ]
  },
  {
   "cell_type": "markdown",
   "metadata": {},
   "source": [
    "절반 이상의 승객 이Southampton 에서 배를 탓으며 여기에서 탑승한 승객의 70% 가 남성이었으며 \n",
    "남성의 사망율이 여성보다 훨씬 높았으므로 Southampton의 사망율이 높게 나왔으며\n",
    "Southampton에서 탑승한 승격의 60%이상이 3등급 객실을 사용했다.\n",
    "Chersbourg에서 탑승한 승객들은 1등 객실 비중 및 생존율이 높은것으로 보아 이동네는 부자 동네 이다."
   ]
  },
  {
   "cell_type": "code",
   "execution_count": null,
   "metadata": {
    "vscode": {
     "languageId": "r"
    }
   },
   "outputs": [
    {
     "data": {
      "text/html": [
       "-0.338481035961015"
      ],
      "text/latex": [
       "-0.338481035961015"
      ],
      "text/markdown": [
       "-0.338481035961015"
      ],
      "text/plain": [
       "[1] -0.338481"
      ]
     },
     "metadata": {},
     "output_type": "display_data"
    }
   ],
   "source": [
    "# 생존과 티캣등급의 상관계수 \n",
    "cor(train_tf$Pclass , train_tf$Survived)\n",
    "# 상관있다\n"
   ]
  },
  {
   "cell_type": "markdown",
   "metadata": {},
   "source": [
    "[Survived] <- [Sex, Pclass, Embarked]"
   ]
  },
  {
   "cell_type": "code",
   "execution_count": null,
   "metadata": {
    "vscode": {
     "languageId": "r"
    }
   },
   "outputs": [],
   "source": [
    "train_tf3 <- train_tf"
   ]
  },
  {
   "cell_type": "code",
   "execution_count": null,
   "metadata": {
    "vscode": {
     "languageId": "r"
    }
   },
   "outputs": [
    {
     "data": {
      "text/html": [
       "<table class=\"dataframe\">\n",
       "<caption>A data.frame: 6 x 4</caption>\n",
       "<thead>\n",
       "\t<tr><th></th><th scope=col>Survived</th><th scope=col>Sex</th><th scope=col>Pclass</th><th scope=col>Embarked</th></tr>\n",
       "\t<tr><th></th><th scope=col>&lt;int&gt;</th><th scope=col>&lt;chr&gt;</th><th scope=col>&lt;int&gt;</th><th scope=col>&lt;chr&gt;</th></tr>\n",
       "</thead>\n",
       "<tbody>\n",
       "\t<tr><th scope=row>1</th><td>0</td><td>male</td><td>3</td><td>S</td></tr>\n",
       "\t<tr><th scope=row>2</th><td>0</td><td>male</td><td>3</td><td>S</td></tr>\n",
       "\t<tr><th scope=row>3</th><td>0</td><td>male</td><td>3</td><td>Q</td></tr>\n",
       "\t<tr><th scope=row>4</th><td>0</td><td>male</td><td>1</td><td>S</td></tr>\n",
       "\t<tr><th scope=row>5</th><td>0</td><td>male</td><td>3</td><td>S</td></tr>\n",
       "\t<tr><th scope=row>6</th><td>0</td><td>male</td><td>3</td><td>S</td></tr>\n",
       "</tbody>\n",
       "</table>\n"
      ],
      "text/latex": [
       "A data.frame: 6 x 4\n",
       "\\begin{tabular}{r|llll}\n",
       "  & Survived & Sex & Pclass & Embarked\\\\\n",
       "  & <int> & <chr> & <int> & <chr>\\\\\n",
       "\\hline\n",
       "\t1 & 0 & male & 3 & S\\\\\n",
       "\t2 & 0 & male & 3 & S\\\\\n",
       "\t3 & 0 & male & 3 & Q\\\\\n",
       "\t4 & 0 & male & 1 & S\\\\\n",
       "\t5 & 0 & male & 3 & S\\\\\n",
       "\t6 & 0 & male & 3 & S\\\\\n",
       "\\end{tabular}\n"
      ],
      "text/markdown": [
       "\n",
       "A data.frame: 6 x 4\n",
       "\n",
       "| <!--/--> | Survived &lt;int&gt; | Sex &lt;chr&gt; | Pclass &lt;int&gt; | Embarked &lt;chr&gt; |\n",
       "|---|---|---|---|---|\n",
       "| 1 | 0 | male | 3 | S |\n",
       "| 2 | 0 | male | 3 | S |\n",
       "| 3 | 0 | male | 3 | Q |\n",
       "| 4 | 0 | male | 1 | S |\n",
       "| 5 | 0 | male | 3 | S |\n",
       "| 6 | 0 | male | 3 | S |\n",
       "\n"
      ],
      "text/plain": [
       "  Survived Sex  Pclass Embarked\n",
       "1 0        male 3      S       \n",
       "2 0        male 3      S       \n",
       "3 0        male 3      Q       \n",
       "4 0        male 1      S       \n",
       "5 0        male 3      S       \n",
       "6 0        male 3      S       "
      ]
     },
     "metadata": {},
     "output_type": "display_data"
    }
   ],
   "source": [
    "targetcol <- c(\"Survived\", \"Sex\", \"Pclass\", \"Embarked\")\n",
    "head(train_tf3[,targetcol])"
   ]
  },
  {
   "cell_type": "code",
   "execution_count": null,
   "metadata": {
    "vscode": {
     "languageId": "r"
    }
   },
   "outputs": [],
   "source": []
  }
 ],
 "metadata": {
  "kernelspec": {
   "display_name": "R",
   "language": "R",
   "name": "r"
  },
  "language_info": {
   "codemirror_mode": "r",
   "file_extension": ".r",
   "mimetype": "text/x-r-source",
   "name": "R",
   "pygments_lexer": "r",
   "version": "4.3.3"
  }
 },
 "nbformat": 4,
 "nbformat_minor": 2
}
