{
 "cells": [
  {
   "cell_type": "code",
   "execution_count": 1,
   "metadata": {
    "vscode": {
     "languageId": "r"
    }
   },
   "outputs": [
    {
     "data": {
      "text/html": [
       "'ko_KR.UTF-8/ko_KR.UTF-8/ko_KR.UTF-8/C/ko_KR.UTF-8/C'"
      ],
      "text/latex": [
       "'ko\\_KR.UTF-8/ko\\_KR.UTF-8/ko\\_KR.UTF-8/C/ko\\_KR.UTF-8/C'"
      ],
      "text/markdown": [
       "'ko_KR.UTF-8/ko_KR.UTF-8/ko_KR.UTF-8/C/ko_KR.UTF-8/C'"
      ],
      "text/plain": [
       "[1] \"ko_KR.UTF-8/ko_KR.UTF-8/ko_KR.UTF-8/C/ko_KR.UTF-8/C\""
      ]
     },
     "metadata": {},
     "output_type": "display_data"
    }
   ],
   "source": [
    "options(warn = -1)\n",
    "options(repr.plot.width=15, repr.plot.height=9) \n",
    "Sys.setlocale(category = \"LC_ALL\", locale = \"ko_KR.UTF-8\")"
   ]
  },
  {
   "cell_type": "markdown",
   "metadata": {},
   "source": [
    "## model,price_in_euro,transmission_type,fuel_type,mileage_in_km"
   ]
  },
  {
   "cell_type": "code",
   "execution_count": 2,
   "metadata": {
    "vscode": {
     "languageId": "r"
    }
   },
   "outputs": [
    {
     "name": "stderr",
     "output_type": "stream",
     "text": [
      "\n",
      "다음의 패키지를 부착합니다: ‘dplyr’\n",
      "\n",
      "\n",
      "The following objects are masked from ‘package:stats’:\n",
      "\n",
      "    filter, lag\n",
      "\n",
      "\n",
      "The following objects are masked from ‘package:base’:\n",
      "\n",
      "    intersect, setdiff, setequal, union\n",
      "\n",
      "\n",
      "필요한 패키지를 로딩중입니다: ggplot2\n",
      "\n",
      "필요한 패키지를 로딩중입니다: lattice\n",
      "\n"
     ]
    }
   ],
   "source": [
    "library(dplyr)\n",
    "library(stringr)\n",
    "library(caret)"
   ]
  },
  {
   "cell_type": "code",
   "execution_count": 3,
   "metadata": {
    "vscode": {
     "languageId": "r"
    }
   },
   "outputs": [],
   "source": [
    "resaleCar <- read.csv(\"./Data//data.csv\")"
   ]
  },
  {
   "cell_type": "code",
   "execution_count": 4,
   "metadata": {
    "vscode": {
     "languageId": "r"
    }
   },
   "outputs": [
    {
     "data": {
      "text/html": [
       "<table class=\"dataframe\">\n",
       "<caption>A data.frame: 6 x 15</caption>\n",
       "<thead>\n",
       "\t<tr><th></th><th scope=col>X</th><th scope=col>brand</th><th scope=col>model</th><th scope=col>color</th><th scope=col>registration_date</th><th scope=col>year</th><th scope=col>price_in_euro</th><th scope=col>power_kw</th><th scope=col>power_ps</th><th scope=col>transmission_type</th><th scope=col>fuel_type</th><th scope=col>fuel_consumption_l_100km</th><th scope=col>fuel_consumption_g_km</th><th scope=col>mileage_in_km</th><th scope=col>offer_description</th></tr>\n",
       "\t<tr><th></th><th scope=col>&lt;int&gt;</th><th scope=col>&lt;chr&gt;</th><th scope=col>&lt;chr&gt;</th><th scope=col>&lt;chr&gt;</th><th scope=col>&lt;chr&gt;</th><th scope=col>&lt;chr&gt;</th><th scope=col>&lt;chr&gt;</th><th scope=col>&lt;chr&gt;</th><th scope=col>&lt;chr&gt;</th><th scope=col>&lt;chr&gt;</th><th scope=col>&lt;chr&gt;</th><th scope=col>&lt;chr&gt;</th><th scope=col>&lt;chr&gt;</th><th scope=col>&lt;dbl&gt;</th><th scope=col>&lt;chr&gt;</th></tr>\n",
       "</thead>\n",
       "<tbody>\n",
       "\t<tr><th scope=row>1</th><td>0</td><td>alfa-romeo</td><td>Alfa Romeo GTV   </td><td>red  </td><td>10/1995</td><td>1995</td><td>1300 </td><td>148</td><td>201</td><td>Manual </td><td>Petrol</td><td>10,9 l/100 km</td><td>260 g/km</td><td>160500</td><td>2.0 V6 TB                            </td></tr>\n",
       "\t<tr><th scope=row>2</th><td>1</td><td>alfa-romeo</td><td>Alfa Romeo 164   </td><td>black</td><td>02/1995</td><td>1995</td><td>24900</td><td>191</td><td>260</td><td>Manual </td><td>Petrol</td><td>             </td><td>- (g/km)</td><td>190000</td><td>Q4 Allrad, 3.2L GTA                  </td></tr>\n",
       "\t<tr><th scope=row>3</th><td>2</td><td>alfa-romeo</td><td>Alfa Romeo Spider</td><td>black</td><td>02/1995</td><td>1995</td><td>5900 </td><td>110</td><td>150</td><td>Unknown</td><td>Petrol</td><td>             </td><td>- (g/km)</td><td>129000</td><td>ALFA ROME 916                        </td></tr>\n",
       "\t<tr><th scope=row>4</th><td>3</td><td>alfa-romeo</td><td>Alfa Romeo Spider</td><td>black</td><td>07/1995</td><td>1995</td><td>4900 </td><td>110</td><td>150</td><td>Manual </td><td>Petrol</td><td>9,5 l/100 km </td><td>225 g/km</td><td>189500</td><td>2.0 16V Twin Spark L                 </td></tr>\n",
       "\t<tr><th scope=row>5</th><td>4</td><td>alfa-romeo</td><td>Alfa Romeo 164   </td><td>red  </td><td>11/1996</td><td>1996</td><td>17950</td><td>132</td><td>179</td><td>Manual </td><td>Petrol</td><td>7,2 l/100 km </td><td>- (g/km)</td><td> 96127</td><td>3.0i Super V6, absoluter Topzustand !</td></tr>\n",
       "\t<tr><th scope=row>6</th><td>5</td><td>alfa-romeo</td><td>Alfa Romeo Spider</td><td>red  </td><td>04/1996</td><td>1996</td><td>7900 </td><td>110</td><td>150</td><td>Manual </td><td>Petrol</td><td>9,5 l/100 km </td><td>225 g/km</td><td> 47307</td><td>2.0 16V Twin Spark                   </td></tr>\n",
       "</tbody>\n",
       "</table>\n"
      ],
      "text/latex": [
       "A data.frame: 6 x 15\n",
       "\\begin{tabular}{r|lllllllllllllll}\n",
       "  & X & brand & model & color & registration\\_date & year & price\\_in\\_euro & power\\_kw & power\\_ps & transmission\\_type & fuel\\_type & fuel\\_consumption\\_l\\_100km & fuel\\_consumption\\_g\\_km & mileage\\_in\\_km & offer\\_description\\\\\n",
       "  & <int> & <chr> & <chr> & <chr> & <chr> & <chr> & <chr> & <chr> & <chr> & <chr> & <chr> & <chr> & <chr> & <dbl> & <chr>\\\\\n",
       "\\hline\n",
       "\t1 & 0 & alfa-romeo & Alfa Romeo GTV    & red   & 10/1995 & 1995 & 1300  & 148 & 201 & Manual  & Petrol & 10,9 l/100 km & 260 g/km & 160500 & 2.0 V6 TB                            \\\\\n",
       "\t2 & 1 & alfa-romeo & Alfa Romeo 164    & black & 02/1995 & 1995 & 24900 & 191 & 260 & Manual  & Petrol &               & - (g/km) & 190000 & Q4 Allrad, 3.2L GTA                  \\\\\n",
       "\t3 & 2 & alfa-romeo & Alfa Romeo Spider & black & 02/1995 & 1995 & 5900  & 110 & 150 & Unknown & Petrol &               & - (g/km) & 129000 & ALFA ROME 916                        \\\\\n",
       "\t4 & 3 & alfa-romeo & Alfa Romeo Spider & black & 07/1995 & 1995 & 4900  & 110 & 150 & Manual  & Petrol & 9,5 l/100 km  & 225 g/km & 189500 & 2.0 16V Twin Spark L                 \\\\\n",
       "\t5 & 4 & alfa-romeo & Alfa Romeo 164    & red   & 11/1996 & 1996 & 17950 & 132 & 179 & Manual  & Petrol & 7,2 l/100 km  & - (g/km) &  96127 & 3.0i Super V6, absoluter Topzustand !\\\\\n",
       "\t6 & 5 & alfa-romeo & Alfa Romeo Spider & red   & 04/1996 & 1996 & 7900  & 110 & 150 & Manual  & Petrol & 9,5 l/100 km  & 225 g/km &  47307 & 2.0 16V Twin Spark                   \\\\\n",
       "\\end{tabular}\n"
      ],
      "text/markdown": [
       "\n",
       "A data.frame: 6 x 15\n",
       "\n",
       "| <!--/--> | X &lt;int&gt; | brand &lt;chr&gt; | model &lt;chr&gt; | color &lt;chr&gt; | registration_date &lt;chr&gt; | year &lt;chr&gt; | price_in_euro &lt;chr&gt; | power_kw &lt;chr&gt; | power_ps &lt;chr&gt; | transmission_type &lt;chr&gt; | fuel_type &lt;chr&gt; | fuel_consumption_l_100km &lt;chr&gt; | fuel_consumption_g_km &lt;chr&gt; | mileage_in_km &lt;dbl&gt; | offer_description &lt;chr&gt; |\n",
       "|---|---|---|---|---|---|---|---|---|---|---|---|---|---|---|---|\n",
       "| 1 | 0 | alfa-romeo | Alfa Romeo GTV    | red   | 10/1995 | 1995 | 1300  | 148 | 201 | Manual  | Petrol | 10,9 l/100 km | 260 g/km | 160500 | 2.0 V6 TB                             |\n",
       "| 2 | 1 | alfa-romeo | Alfa Romeo 164    | black | 02/1995 | 1995 | 24900 | 191 | 260 | Manual  | Petrol | <!----> | - (g/km) | 190000 | Q4 Allrad, 3.2L GTA                   |\n",
       "| 3 | 2 | alfa-romeo | Alfa Romeo Spider | black | 02/1995 | 1995 | 5900  | 110 | 150 | Unknown | Petrol | <!----> | - (g/km) | 129000 | ALFA ROME 916                         |\n",
       "| 4 | 3 | alfa-romeo | Alfa Romeo Spider | black | 07/1995 | 1995 | 4900  | 110 | 150 | Manual  | Petrol | 9,5 l/100 km  | 225 g/km | 189500 | 2.0 16V Twin Spark L                  |\n",
       "| 5 | 4 | alfa-romeo | Alfa Romeo 164    | red   | 11/1996 | 1996 | 17950 | 132 | 179 | Manual  | Petrol | 7,2 l/100 km  | - (g/km) |  96127 | 3.0i Super V6, absoluter Topzustand ! |\n",
       "| 6 | 5 | alfa-romeo | Alfa Romeo Spider | red   | 04/1996 | 1996 | 7900  | 110 | 150 | Manual  | Petrol | 9,5 l/100 km  | 225 g/km |  47307 | 2.0 16V Twin Spark                    |\n",
       "\n"
      ],
      "text/plain": [
       "  X brand      model             color registration_date year price_in_euro\n",
       "1 0 alfa-romeo Alfa Romeo GTV    red   10/1995           1995 1300         \n",
       "2 1 alfa-romeo Alfa Romeo 164    black 02/1995           1995 24900        \n",
       "3 2 alfa-romeo Alfa Romeo Spider black 02/1995           1995 5900         \n",
       "4 3 alfa-romeo Alfa Romeo Spider black 07/1995           1995 4900         \n",
       "5 4 alfa-romeo Alfa Romeo 164    red   11/1996           1996 17950        \n",
       "6 5 alfa-romeo Alfa Romeo Spider red   04/1996           1996 7900         \n",
       "  power_kw power_ps transmission_type fuel_type fuel_consumption_l_100km\n",
       "1 148      201      Manual            Petrol    10,9 l/100 km           \n",
       "2 191      260      Manual            Petrol                            \n",
       "3 110      150      Unknown           Petrol                            \n",
       "4 110      150      Manual            Petrol    9,5 l/100 km            \n",
       "5 132      179      Manual            Petrol    7,2 l/100 km            \n",
       "6 110      150      Manual            Petrol    9,5 l/100 km            \n",
       "  fuel_consumption_g_km mileage_in_km offer_description                    \n",
       "1 260 g/km              160500        2.0 V6 TB                            \n",
       "2 - (g/km)              190000        Q4 Allrad, 3.2L GTA                  \n",
       "3 - (g/km)              129000        ALFA ROME 916                        \n",
       "4 225 g/km              189500        2.0 16V Twin Spark L                 \n",
       "5 - (g/km)               96127        3.0i Super V6, absoluter Topzustand !\n",
       "6 225 g/km               47307        2.0 16V Twin Spark                   "
      ]
     },
     "metadata": {},
     "output_type": "display_data"
    }
   ],
   "source": [
    "head(resaleCar)"
   ]
  },
  {
   "cell_type": "code",
   "execution_count": 5,
   "metadata": {
    "vscode": {
     "languageId": "r"
    }
   },
   "outputs": [
    {
     "data": {
      "text/plain": [
       "\n",
       "   alfa-romeo  aston-martin          audi       bentley           bmw \n",
       "         1437           277         21161           541         19810 \n",
       "     cadillac     chevrolet      chrysler       citroen         dacia \n",
       "          157           191            32          4083          3367 \n",
       "       daewoo      daihatsu         dodge       ferrari          fiat \n",
       "           61           204           669           590          5039 \n",
       "         ford         honda       hyundai      infiniti         isuzu \n",
       "        18790           785          6989           112           206 \n",
       "       jaguar          jeep           kia          lada   lamborghini \n",
       "         1398          1749          5734           191           361 \n",
       "       lancia    land-rover      maserati         mazda mercedes-benz \n",
       "          105          3073           698          4211         27226 \n",
       "         mini    mitsubishi        nissan          opel       peugeot \n",
       "         4295           934          3784         20388          5848 \n",
       "      porsche        proton       renault         rover          saab \n",
       "         3958             1          8694            51           233 \n",
       "         seat         skoda         smart     ssangyong        toyota \n",
       "        11949         14039          1643           342          8228 \n",
       "   volkswagen         volvo \n",
       "        33281          4164 "
      ]
     },
     "metadata": {},
     "output_type": "display_data"
    }
   ],
   "source": [
    "table(resaleCar$brand)"
   ]
  },
  {
   "cell_type": "code",
   "execution_count": 6,
   "metadata": {
    "vscode": {
     "languageId": "r"
    }
   },
   "outputs": [],
   "source": [
    " foToData <- subset(resaleCar, brand == 'ford' | brand == 'toyota')"
   ]
  },
  {
   "cell_type": "code",
   "execution_count": 7,
   "metadata": {
    "vscode": {
     "languageId": "r"
    }
   },
   "outputs": [
    {
     "data": {
      "text/html": [
       "<table class=\"dataframe\">\n",
       "<caption>A data.frame: 6 x 15</caption>\n",
       "<thead>\n",
       "\t<tr><th></th><th scope=col>X</th><th scope=col>brand</th><th scope=col>model</th><th scope=col>color</th><th scope=col>registration_date</th><th scope=col>year</th><th scope=col>price_in_euro</th><th scope=col>power_kw</th><th scope=col>power_ps</th><th scope=col>transmission_type</th><th scope=col>fuel_type</th><th scope=col>fuel_consumption_l_100km</th><th scope=col>fuel_consumption_g_km</th><th scope=col>mileage_in_km</th><th scope=col>offer_description</th></tr>\n",
       "\t<tr><th></th><th scope=col>&lt;int&gt;</th><th scope=col>&lt;chr&gt;</th><th scope=col>&lt;chr&gt;</th><th scope=col>&lt;chr&gt;</th><th scope=col>&lt;chr&gt;</th><th scope=col>&lt;chr&gt;</th><th scope=col>&lt;chr&gt;</th><th scope=col>&lt;chr&gt;</th><th scope=col>&lt;chr&gt;</th><th scope=col>&lt;chr&gt;</th><th scope=col>&lt;chr&gt;</th><th scope=col>&lt;chr&gt;</th><th scope=col>&lt;chr&gt;</th><th scope=col>&lt;dbl&gt;</th><th scope=col>&lt;chr&gt;</th></tr>\n",
       "</thead>\n",
       "<tbody>\n",
       "\t<tr><th scope=row>57620</th><td>57619</td><td>ford</td><td>Ford Probe   </td><td>blue</td><td>03/1995</td><td>1995</td><td>1800</td><td>85 </td><td>116</td><td>Manual   </td><td>Petrol</td><td>8,3 l/100 km</td><td>- (g/km)</td><td>178000</td><td>16V                             </td></tr>\n",
       "\t<tr><th scope=row>57621</th><td>57620</td><td>ford</td><td>Ford Escort  </td><td>blue</td><td>07/1995</td><td>1995</td><td>999 </td><td>77 </td><td>105</td><td>Manual   </td><td>Petrol</td><td>            </td><td>- (g/km)</td><td>159436</td><td>16V XR3i                        </td></tr>\n",
       "\t<tr><th scope=row>57622</th><td>57621</td><td>ford</td><td>Ford Mustang </td><td>blue</td><td>07/1997</td><td>1997</td><td>9250</td><td>185</td><td>252</td><td>Automatic</td><td>Petrol</td><td>            </td><td>- (g/km)</td><td>112057</td><td>/ 112 Tkm/3,8l/Autom/           </td></tr>\n",
       "\t<tr><th scope=row>57623</th><td>57622</td><td>ford</td><td>Ford Windstar</td><td>blue</td><td>06/1997</td><td>1997</td><td>2450</td><td>109</td><td>148</td><td>Automatic</td><td>Petrol</td><td>            </td><td>- (g/km)</td><td> 98705</td><td>V6 1.Hand nur 98Tkm Leichenwagen</td></tr>\n",
       "\t<tr><th scope=row>57624</th><td>57623</td><td>ford</td><td>Ford Escort  </td><td>blue</td><td>06/1997</td><td>1997</td><td>2500</td><td>66 </td><td>90 </td><td>Automatic</td><td>Petrol</td><td>8,2 l/100 km</td><td>193 g/km</td><td> 69770</td><td>Turnier 16V chia                </td></tr>\n",
       "\t<tr><th scope=row>57625</th><td>57624</td><td>ford</td><td>Ford Escort  </td><td>blue</td><td>05/1997</td><td>1997</td><td>1200</td><td>66 </td><td>90 </td><td>Manual   </td><td>Petrol</td><td>8 l/100 km  </td><td>- (g/km)</td><td>101500</td><td>1.6 16V                         </td></tr>\n",
       "</tbody>\n",
       "</table>\n"
      ],
      "text/latex": [
       "A data.frame: 6 x 15\n",
       "\\begin{tabular}{r|lllllllllllllll}\n",
       "  & X & brand & model & color & registration\\_date & year & price\\_in\\_euro & power\\_kw & power\\_ps & transmission\\_type & fuel\\_type & fuel\\_consumption\\_l\\_100km & fuel\\_consumption\\_g\\_km & mileage\\_in\\_km & offer\\_description\\\\\n",
       "  & <int> & <chr> & <chr> & <chr> & <chr> & <chr> & <chr> & <chr> & <chr> & <chr> & <chr> & <chr> & <chr> & <dbl> & <chr>\\\\\n",
       "\\hline\n",
       "\t57620 & 57619 & ford & Ford Probe    & blue & 03/1995 & 1995 & 1800 & 85  & 116 & Manual    & Petrol & 8,3 l/100 km & - (g/km) & 178000 & 16V                             \\\\\n",
       "\t57621 & 57620 & ford & Ford Escort   & blue & 07/1995 & 1995 & 999  & 77  & 105 & Manual    & Petrol &              & - (g/km) & 159436 & 16V XR3i                        \\\\\n",
       "\t57622 & 57621 & ford & Ford Mustang  & blue & 07/1997 & 1997 & 9250 & 185 & 252 & Automatic & Petrol &              & - (g/km) & 112057 & / 112 Tkm/3,8l/Autom/           \\\\\n",
       "\t57623 & 57622 & ford & Ford Windstar & blue & 06/1997 & 1997 & 2450 & 109 & 148 & Automatic & Petrol &              & - (g/km) &  98705 & V6 1.Hand nur 98Tkm Leichenwagen\\\\\n",
       "\t57624 & 57623 & ford & Ford Escort   & blue & 06/1997 & 1997 & 2500 & 66  & 90  & Automatic & Petrol & 8,2 l/100 km & 193 g/km &  69770 & Turnier 16V chia                \\\\\n",
       "\t57625 & 57624 & ford & Ford Escort   & blue & 05/1997 & 1997 & 1200 & 66  & 90  & Manual    & Petrol & 8 l/100 km   & - (g/km) & 101500 & 1.6 16V                         \\\\\n",
       "\\end{tabular}\n"
      ],
      "text/markdown": [
       "\n",
       "A data.frame: 6 x 15\n",
       "\n",
       "| <!--/--> | X &lt;int&gt; | brand &lt;chr&gt; | model &lt;chr&gt; | color &lt;chr&gt; | registration_date &lt;chr&gt; | year &lt;chr&gt; | price_in_euro &lt;chr&gt; | power_kw &lt;chr&gt; | power_ps &lt;chr&gt; | transmission_type &lt;chr&gt; | fuel_type &lt;chr&gt; | fuel_consumption_l_100km &lt;chr&gt; | fuel_consumption_g_km &lt;chr&gt; | mileage_in_km &lt;dbl&gt; | offer_description &lt;chr&gt; |\n",
       "|---|---|---|---|---|---|---|---|---|---|---|---|---|---|---|---|\n",
       "| 57620 | 57619 | ford | Ford Probe    | blue | 03/1995 | 1995 | 1800 | 85  | 116 | Manual    | Petrol | 8,3 l/100 km | - (g/km) | 178000 | 16V                              |\n",
       "| 57621 | 57620 | ford | Ford Escort   | blue | 07/1995 | 1995 | 999  | 77  | 105 | Manual    | Petrol | <!----> | - (g/km) | 159436 | 16V XR3i                         |\n",
       "| 57622 | 57621 | ford | Ford Mustang  | blue | 07/1997 | 1997 | 9250 | 185 | 252 | Automatic | Petrol | <!----> | - (g/km) | 112057 | / 112 Tkm/3,8l/Autom/            |\n",
       "| 57623 | 57622 | ford | Ford Windstar | blue | 06/1997 | 1997 | 2450 | 109 | 148 | Automatic | Petrol | <!----> | - (g/km) |  98705 | V6 1.Hand nur 98Tkm Leichenwagen |\n",
       "| 57624 | 57623 | ford | Ford Escort   | blue | 06/1997 | 1997 | 2500 | 66  | 90  | Automatic | Petrol | 8,2 l/100 km | 193 g/km |  69770 | Turnier 16V chia                 |\n",
       "| 57625 | 57624 | ford | Ford Escort   | blue | 05/1997 | 1997 | 1200 | 66  | 90  | Manual    | Petrol | 8 l/100 km   | - (g/km) | 101500 | 1.6 16V                          |\n",
       "\n"
      ],
      "text/plain": [
       "      X     brand model         color registration_date year price_in_euro\n",
       "57620 57619 ford  Ford Probe    blue  03/1995           1995 1800         \n",
       "57621 57620 ford  Ford Escort   blue  07/1995           1995 999          \n",
       "57622 57621 ford  Ford Mustang  blue  07/1997           1997 9250         \n",
       "57623 57622 ford  Ford Windstar blue  06/1997           1997 2450         \n",
       "57624 57623 ford  Ford Escort   blue  06/1997           1997 2500         \n",
       "57625 57624 ford  Ford Escort   blue  05/1997           1997 1200         \n",
       "      power_kw power_ps transmission_type fuel_type fuel_consumption_l_100km\n",
       "57620 85       116      Manual            Petrol    8,3 l/100 km            \n",
       "57621 77       105      Manual            Petrol                            \n",
       "57622 185      252      Automatic         Petrol                            \n",
       "57623 109      148      Automatic         Petrol                            \n",
       "57624 66       90       Automatic         Petrol    8,2 l/100 km            \n",
       "57625 66       90       Manual            Petrol    8 l/100 km              \n",
       "      fuel_consumption_g_km mileage_in_km offer_description               \n",
       "57620 - (g/km)              178000        16V                             \n",
       "57621 - (g/km)              159436        16V XR3i                        \n",
       "57622 - (g/km)              112057        / 112 Tkm/3,8l/Autom/           \n",
       "57623 - (g/km)               98705        V6 1.Hand nur 98Tkm Leichenwagen\n",
       "57624 193 g/km               69770        Turnier 16V chia                \n",
       "57625 - (g/km)              101500        1.6 16V                         "
      ]
     },
     "metadata": {},
     "output_type": "display_data"
    }
   ],
   "source": [
    "head(foToData)\n",
    "\n",
    "foToData <- foToData[,-c(1,4,5,8,9,12,13,15)]"
   ]
  },
  {
   "cell_type": "code",
   "execution_count": 8,
   "metadata": {
    "vscode": {
     "languageId": "r"
    }
   },
   "outputs": [
    {
     "data": {
      "text/html": [
       "<table class=\"dataframe\">\n",
       "<caption>A data.frame: 6 x 7</caption>\n",
       "<thead>\n",
       "\t<tr><th></th><th scope=col>brand</th><th scope=col>model</th><th scope=col>year</th><th scope=col>price_in_euro</th><th scope=col>transmission_type</th><th scope=col>fuel_type</th><th scope=col>mileage_in_km</th></tr>\n",
       "\t<tr><th></th><th scope=col>&lt;chr&gt;</th><th scope=col>&lt;chr&gt;</th><th scope=col>&lt;chr&gt;</th><th scope=col>&lt;chr&gt;</th><th scope=col>&lt;chr&gt;</th><th scope=col>&lt;chr&gt;</th><th scope=col>&lt;dbl&gt;</th></tr>\n",
       "</thead>\n",
       "<tbody>\n",
       "\t<tr><th scope=row>57620</th><td>ford</td><td>Ford Probe   </td><td>1995</td><td>1800</td><td>Manual   </td><td>Petrol</td><td>178000</td></tr>\n",
       "\t<tr><th scope=row>57621</th><td>ford</td><td>Ford Escort  </td><td>1995</td><td>999 </td><td>Manual   </td><td>Petrol</td><td>159436</td></tr>\n",
       "\t<tr><th scope=row>57622</th><td>ford</td><td>Ford Mustang </td><td>1997</td><td>9250</td><td>Automatic</td><td>Petrol</td><td>112057</td></tr>\n",
       "\t<tr><th scope=row>57623</th><td>ford</td><td>Ford Windstar</td><td>1997</td><td>2450</td><td>Automatic</td><td>Petrol</td><td> 98705</td></tr>\n",
       "\t<tr><th scope=row>57624</th><td>ford</td><td>Ford Escort  </td><td>1997</td><td>2500</td><td>Automatic</td><td>Petrol</td><td> 69770</td></tr>\n",
       "\t<tr><th scope=row>57625</th><td>ford</td><td>Ford Escort  </td><td>1997</td><td>1200</td><td>Manual   </td><td>Petrol</td><td>101500</td></tr>\n",
       "</tbody>\n",
       "</table>\n"
      ],
      "text/latex": [
       "A data.frame: 6 x 7\n",
       "\\begin{tabular}{r|lllllll}\n",
       "  & brand & model & year & price\\_in\\_euro & transmission\\_type & fuel\\_type & mileage\\_in\\_km\\\\\n",
       "  & <chr> & <chr> & <chr> & <chr> & <chr> & <chr> & <dbl>\\\\\n",
       "\\hline\n",
       "\t57620 & ford & Ford Probe    & 1995 & 1800 & Manual    & Petrol & 178000\\\\\n",
       "\t57621 & ford & Ford Escort   & 1995 & 999  & Manual    & Petrol & 159436\\\\\n",
       "\t57622 & ford & Ford Mustang  & 1997 & 9250 & Automatic & Petrol & 112057\\\\\n",
       "\t57623 & ford & Ford Windstar & 1997 & 2450 & Automatic & Petrol &  98705\\\\\n",
       "\t57624 & ford & Ford Escort   & 1997 & 2500 & Automatic & Petrol &  69770\\\\\n",
       "\t57625 & ford & Ford Escort   & 1997 & 1200 & Manual    & Petrol & 101500\\\\\n",
       "\\end{tabular}\n"
      ],
      "text/markdown": [
       "\n",
       "A data.frame: 6 x 7\n",
       "\n",
       "| <!--/--> | brand &lt;chr&gt; | model &lt;chr&gt; | year &lt;chr&gt; | price_in_euro &lt;chr&gt; | transmission_type &lt;chr&gt; | fuel_type &lt;chr&gt; | mileage_in_km &lt;dbl&gt; |\n",
       "|---|---|---|---|---|---|---|---|\n",
       "| 57620 | ford | Ford Probe    | 1995 | 1800 | Manual    | Petrol | 178000 |\n",
       "| 57621 | ford | Ford Escort   | 1995 | 999  | Manual    | Petrol | 159436 |\n",
       "| 57622 | ford | Ford Mustang  | 1997 | 9250 | Automatic | Petrol | 112057 |\n",
       "| 57623 | ford | Ford Windstar | 1997 | 2450 | Automatic | Petrol |  98705 |\n",
       "| 57624 | ford | Ford Escort   | 1997 | 2500 | Automatic | Petrol |  69770 |\n",
       "| 57625 | ford | Ford Escort   | 1997 | 1200 | Manual    | Petrol | 101500 |\n",
       "\n"
      ],
      "text/plain": [
       "      brand model         year price_in_euro transmission_type fuel_type\n",
       "57620 ford  Ford Probe    1995 1800          Manual            Petrol   \n",
       "57621 ford  Ford Escort   1995 999           Manual            Petrol   \n",
       "57622 ford  Ford Mustang  1997 9250          Automatic         Petrol   \n",
       "57623 ford  Ford Windstar 1997 2450          Automatic         Petrol   \n",
       "57624 ford  Ford Escort   1997 2500          Automatic         Petrol   \n",
       "57625 ford  Ford Escort   1997 1200          Manual            Petrol   \n",
       "      mileage_in_km\n",
       "57620 178000       \n",
       "57621 159436       \n",
       "57622 112057       \n",
       "57623  98705       \n",
       "57624  69770       \n",
       "57625 101500       "
      ]
     },
     "metadata": {},
     "output_type": "display_data"
    }
   ],
   "source": [
    "head(foToData)"
   ]
  },
  {
   "cell_type": "code",
   "execution_count": 9,
   "metadata": {
    "vscode": {
     "languageId": "r"
    }
   },
   "outputs": [],
   "source": [
    "#foToData$year\t<- as.integer(foToData$year)\n",
    "#foToData$year <- 2024 - foToData$year\n",
    "#foToData\n",
    "foToData_no_na <- foToData[complete.cases(foToData), ]"
   ]
  },
  {
   "cell_type": "code",
   "execution_count": 10,
   "metadata": {
    "vscode": {
     "languageId": "r"
    }
   },
   "outputs": [
    {
     "data": {
      "text/plain": [
       "\n",
       " FALSE \n",
       "189014 "
      ]
     },
     "metadata": {},
     "output_type": "display_data"
    }
   ],
   "source": [
    "table(is.na(foToData_no_na))"
   ]
  },
  {
   "cell_type": "code",
   "execution_count": 19,
   "metadata": {
    "vscode": {
     "languageId": "r"
    }
   },
   "outputs": [],
   "source": [
    "foToData <- foToData_no_na"
   ]
  },
  {
   "cell_type": "code",
   "execution_count": 12,
   "metadata": {
    "vscode": {
     "languageId": "r"
    }
   },
   "outputs": [
    {
     "ename": "ERROR",
     "evalue": "Error in 2024 - foToData$year: 이항연산자에 수치가 아닌 인수입니다\n",
     "output_type": "error",
     "traceback": [
      "Error in 2024 - foToData$year: 이항연산자에 수치가 아닌 인수입니다\nTraceback:\n"
     ]
    }
   ],
   "source": [
    "foToData$year <- 2024 - foToData$year"
   ]
  },
  {
   "cell_type": "code",
   "execution_count": null,
   "metadata": {
    "vscode": {
     "languageId": "r"
    }
   },
   "outputs": [],
   "source": [
    "foToData <- foToData[foToData$fuel_type != 'Diesel Hybrid', ]\n",
    "table(foToData$fuel_type)"
   ]
  },
  {
   "cell_type": "code",
   "execution_count": null,
   "metadata": {
    "vscode": {
     "languageId": "r"
    }
   },
   "outputs": [],
   "source": [
    "foToData <- foToData[foToData$transmission_type != 'Semi-automatic', ]\n",
    "table(foToData$transmission_type)"
   ]
  },
  {
   "cell_type": "code",
   "execution_count": 20,
   "metadata": {
    "vscode": {
     "languageId": "r"
    }
   },
   "outputs": [
    {
     "data": {
      "text/html": [
       "<table class=\"dataframe\">\n",
       "<caption>A data.frame: 6 x 7</caption>\n",
       "<thead>\n",
       "\t<tr><th></th><th scope=col>brand</th><th scope=col>model</th><th scope=col>year</th><th scope=col>price_in_euro</th><th scope=col>transmission_type</th><th scope=col>fuel_type</th><th scope=col>mileage_in_km</th></tr>\n",
       "\t<tr><th></th><th scope=col>&lt;chr&gt;</th><th scope=col>&lt;chr&gt;</th><th scope=col>&lt;chr&gt;</th><th scope=col>&lt;chr&gt;</th><th scope=col>&lt;chr&gt;</th><th scope=col>&lt;chr&gt;</th><th scope=col>&lt;dbl&gt;</th></tr>\n",
       "</thead>\n",
       "<tbody>\n",
       "\t<tr><th scope=row>57620</th><td>ford</td><td>Ford Probe   </td><td>1995</td><td>1800</td><td>Manual   </td><td>Petrol</td><td>178000</td></tr>\n",
       "\t<tr><th scope=row>57621</th><td>ford</td><td>Ford Escort  </td><td>1995</td><td>999 </td><td>Manual   </td><td>Petrol</td><td>159436</td></tr>\n",
       "\t<tr><th scope=row>57622</th><td>ford</td><td>Ford Mustang </td><td>1997</td><td>9250</td><td>Automatic</td><td>Petrol</td><td>112057</td></tr>\n",
       "\t<tr><th scope=row>57623</th><td>ford</td><td>Ford Windstar</td><td>1997</td><td>2450</td><td>Automatic</td><td>Petrol</td><td> 98705</td></tr>\n",
       "\t<tr><th scope=row>57624</th><td>ford</td><td>Ford Escort  </td><td>1997</td><td>2500</td><td>Automatic</td><td>Petrol</td><td> 69770</td></tr>\n",
       "\t<tr><th scope=row>57625</th><td>ford</td><td>Ford Escort  </td><td>1997</td><td>1200</td><td>Manual   </td><td>Petrol</td><td>101500</td></tr>\n",
       "</tbody>\n",
       "</table>\n"
      ],
      "text/latex": [
       "A data.frame: 6 x 7\n",
       "\\begin{tabular}{r|lllllll}\n",
       "  & brand & model & year & price\\_in\\_euro & transmission\\_type & fuel\\_type & mileage\\_in\\_km\\\\\n",
       "  & <chr> & <chr> & <chr> & <chr> & <chr> & <chr> & <dbl>\\\\\n",
       "\\hline\n",
       "\t57620 & ford & Ford Probe    & 1995 & 1800 & Manual    & Petrol & 178000\\\\\n",
       "\t57621 & ford & Ford Escort   & 1995 & 999  & Manual    & Petrol & 159436\\\\\n",
       "\t57622 & ford & Ford Mustang  & 1997 & 9250 & Automatic & Petrol & 112057\\\\\n",
       "\t57623 & ford & Ford Windstar & 1997 & 2450 & Automatic & Petrol &  98705\\\\\n",
       "\t57624 & ford & Ford Escort   & 1997 & 2500 & Automatic & Petrol &  69770\\\\\n",
       "\t57625 & ford & Ford Escort   & 1997 & 1200 & Manual    & Petrol & 101500\\\\\n",
       "\\end{tabular}\n"
      ],
      "text/markdown": [
       "\n",
       "A data.frame: 6 x 7\n",
       "\n",
       "| <!--/--> | brand &lt;chr&gt; | model &lt;chr&gt; | year &lt;chr&gt; | price_in_euro &lt;chr&gt; | transmission_type &lt;chr&gt; | fuel_type &lt;chr&gt; | mileage_in_km &lt;dbl&gt; |\n",
       "|---|---|---|---|---|---|---|---|\n",
       "| 57620 | ford | Ford Probe    | 1995 | 1800 | Manual    | Petrol | 178000 |\n",
       "| 57621 | ford | Ford Escort   | 1995 | 999  | Manual    | Petrol | 159436 |\n",
       "| 57622 | ford | Ford Mustang  | 1997 | 9250 | Automatic | Petrol | 112057 |\n",
       "| 57623 | ford | Ford Windstar | 1997 | 2450 | Automatic | Petrol |  98705 |\n",
       "| 57624 | ford | Ford Escort   | 1997 | 2500 | Automatic | Petrol |  69770 |\n",
       "| 57625 | ford | Ford Escort   | 1997 | 1200 | Manual    | Petrol | 101500 |\n",
       "\n"
      ],
      "text/plain": [
       "      brand model         year price_in_euro transmission_type fuel_type\n",
       "57620 ford  Ford Probe    1995 1800          Manual            Petrol   \n",
       "57621 ford  Ford Escort   1995 999           Manual            Petrol   \n",
       "57622 ford  Ford Mustang  1997 9250          Automatic         Petrol   \n",
       "57623 ford  Ford Windstar 1997 2450          Automatic         Petrol   \n",
       "57624 ford  Ford Escort   1997 2500          Automatic         Petrol   \n",
       "57625 ford  Ford Escort   1997 1200          Manual            Petrol   \n",
       "      mileage_in_km\n",
       "57620 178000       \n",
       "57621 159436       \n",
       "57622 112057       \n",
       "57623  98705       \n",
       "57624  69770       \n",
       "57625 101500       "
      ]
     },
     "metadata": {},
     "output_type": "display_data"
    },
    {
     "data": {
      "text/plain": [
       "\n",
       " FALSE \n",
       "131467 "
      ]
     },
     "metadata": {},
     "output_type": "display_data"
    },
    {
     "data": {
      "text/plain": [
       "\n",
       "FALSE \n",
       "57547 "
      ]
     },
     "metadata": {},
     "output_type": "display_data"
    }
   ],
   "source": [
    "head(foToData)\n",
    "\n",
    "fordData <- subset(foToData,brand =='ford' )\n",
    "toyoData <- subset(foToData,brand =='toyota' )\n",
    "\n",
    "table(is.na(fordData))\n",
    "table(is.na(toyoData))"
   ]
  },
  {
   "cell_type": "code",
   "execution_count": null,
   "metadata": {
    "vscode": {
     "languageId": "r"
    }
   },
   "outputs": [],
   "source": [
    "table(foToData$model)"
   ]
  },
  {
   "cell_type": "code",
   "execution_count": 21,
   "metadata": {
    "vscode": {
     "languageId": "r"
    }
   },
   "outputs": [
    {
     "data": {
      "text/plain": [
       "\n",
       "   Ford Focus   Ford Fiesta     Ford Kuga   Ford Mondeo Ford EcoSport \n",
       "         3873          2785          2268          1112           863 \n",
       "   Ford S-Max \n",
       "          851 "
      ]
     },
     "metadata": {},
     "output_type": "display_data"
    }
   ],
   "source": [
    "\n",
    "sortedford <- sort(table(fordData$model), decreasing = TRUE)\n",
    "\n",
    "head(sortedford)\n"
   ]
  },
  {
   "cell_type": "code",
   "execution_count": 22,
   "metadata": {
    "vscode": {
     "languageId": "r"
    }
   },
   "outputs": [
    {
     "data": {
      "text/plain": [
       "\n",
       "  Toyota Yaris    Toyota C-HR Toyota Corolla   Toyota RAV 4    Toyota Aygo \n",
       "          1913           1259           1100            663            527 \n",
       "  Toyota Auris \n",
       "           392 "
      ]
     },
     "metadata": {},
     "output_type": "display_data"
    }
   ],
   "source": [
    "#toyoData\n",
    "\n",
    "sortedtoyo <- sort(table(toyoData$model), decreasing = TRUE)\n",
    "\n",
    "head(sortedtoyo)"
   ]
  },
  {
   "cell_type": "code",
   "execution_count": 23,
   "metadata": {
    "vscode": {
     "languageId": "r"
    }
   },
   "outputs": [],
   "source": [
    "Ford_Focus <- subset(fordData,model == 'Ford Focus')\n",
    "Ford_Fiesta <- subset(fordData,model == 'Ford Fiesta')\n",
    "Ford_Kuga <- subset(fordData,model == 'Ford Kuga')\n",
    "Ford_Mondeo <- subset(fordData,model == 'Ford Mondeo')\n",
    "Ford_EcoSport <- subset(fordData,model == 'Ford EcoSport')\n",
    "\n",
    "\n",
    "Toyo_Yaris <- subset(toyoData,model == 'Toyota Yaris')\n",
    "Toyo_Aygo <- subset(toyoData,model == 'Toyota Aygo')\n",
    "Toyo_Proace <- subset(toyoData,model == 'Toyota Proace')\n",
    "Toyo_Auris<- subset(toyoData,model == 'Toyota Auris')\n",
    "Toyo_Avensis <- subset(toyoData,model == 'Toyota Avensis')\n"
   ]
  },
  {
   "cell_type": "code",
   "execution_count": null,
   "metadata": {
    "vscode": {
     "languageId": "r"
    }
   },
   "outputs": [],
   "source": [
    "write.csv(Toyo_Avensis, file = \"./teamSave/Toyo_Avensis.csv\", row.names = FALSE)\n",
    "write.csv(Toyo_Auris, file = \"./teamSave/Toyo_Auris.csv\", row.names = FALSE)\n",
    "write.csv(Toyo_Proace, file = \"./teamSave/Toyo_Proace.csv\", row.names = FALSE)\n",
    "write.csv(Toyo_Aygo, file = \"./teamSave/Toyo_Aygo.csv\", row.names = FALSE)\n",
    "write.csv(Toyo_Yaris, file = \"./teamSave/Toyo_Yaris.csv\", row.names = FALSE)\n",
    "\n",
    "write.csv(Ford_EcoSport, file = \"./teamSave/Ford_EcoSport.csv\", row.names = FALSE)\n",
    "write.csv(Ford_Mondeo, file = \"./teamSave/Ford_Mondeo.csv\", row.names = FALSE)\n",
    "write.csv(Ford_Kuga, file = \"./teamSave/Ford_Kuga.csv\", row.names = FALSE)\n",
    "write.csv(Ford_Fiesta, file = \"./teamSave/Ford_Fiesta.csv\", row.names = FALSE)\n",
    "write.csv(Ford_Focus, file = \"./teamSave/Ford_Focus.csv\", row.names = FALSE)"
   ]
  },
  {
   "cell_type": "code",
   "execution_count": null,
   "metadata": {
    "vscode": {
     "languageId": "r"
    }
   },
   "outputs": [],
   "source": [
    "sortedford <- sort(fordData$model, decreasing = TRUE)\n",
    "\n",
    "head(sortedford)"
   ]
  },
  {
   "cell_type": "code",
   "execution_count": null,
   "metadata": {
    "vscode": {
     "languageId": "r"
    }
   },
   "outputs": [],
   "source": [
    "head(Ford_Focus)\n"
   ]
  },
  {
   "cell_type": "code",
   "execution_count": null,
   "metadata": {
    "vscode": {
     "languageId": "r"
    }
   },
   "outputs": [],
   "source": [
    "head(fordData)"
   ]
  },
  {
   "cell_type": "code",
   "execution_count": null,
   "metadata": {
    "vscode": {
     "languageId": "r"
    }
   },
   "outputs": [],
   "source": [
    "head(Ford_Focus)"
   ]
  },
  {
   "cell_type": "code",
   "execution_count": null,
   "metadata": {
    "vscode": {
     "languageId": "r"
    }
   },
   "outputs": [],
   "source": [
    "Ford_FocusV2 <- Ford_Focus[,-c(1,2)]"
   ]
  },
  {
   "cell_type": "code",
   "execution_count": null,
   "metadata": {
    "vscode": {
     "languageId": "r"
    }
   },
   "outputs": [],
   "source": [
    "Ford_FocusV2$transmission_type <- ifelse(Ford_FocusV2$transmission_type =='Manual','1','2')\n",
    "Ford_FocusV2$fuel_type <- ifelse(Ford_FocusV2$fuel_type =='Petrol','3','4')"
   ]
  },
  {
   "cell_type": "code",
   "execution_count": null,
   "metadata": {
    "vscode": {
     "languageId": "r"
    }
   },
   "outputs": [],
   "source": []
  },
  {
   "cell_type": "code",
   "execution_count": null,
   "metadata": {
    "vscode": {
     "languageId": "r"
    }
   },
   "outputs": [],
   "source": [
    "Ford_FocusV2$transmission_type <- as.integer(Ford_FocusV2$transmission_type)\n",
    "Ford_FocusV2$fuel_type <- as.integer(Ford_FocusV2$fuel_type)\n",
    "head(Ford_FocusV2)\n",
    "table(Ford_FocusV2$fuel_type)\n",
    "table(Ford_FocusV2$transmission_type)"
   ]
  },
  {
   "cell_type": "code",
   "execution_count": null,
   "metadata": {
    "vscode": {
     "languageId": "r"
    }
   },
   "outputs": [],
   "source": [
    "table(Ford_Focus$price_in_euro)"
   ]
  },
  {
   "cell_type": "code",
   "execution_count": null,
   "metadata": {
    "vscode": {
     "languageId": "r"
    }
   },
   "outputs": [],
   "source": [
    "Ford_FocusV2$transmission_type <- as.factor(Ford_FocusV2$transmission_type)\n",
    "Ford_FocusV2$fuel_type <- as.factor(Ford_FocusV2$fuel_type)\n",
    "\n",
    "# 원-핫 인코딩 수행\n",
    "encoded <- model.matrix(~ transmission_type + fuel_type - 1, data = Ford_FocusV2)"
   ]
  },
  {
   "cell_type": "code",
   "execution_count": null,
   "metadata": {
    "vscode": {
     "languageId": "r"
    }
   },
   "outputs": [],
   "source": [
    "#encoded <- model.matrix(~ transmission_type + fuel_type -1, data = Ford_FocusV2)"
   ]
  },
  {
   "cell_type": "code",
   "execution_count": null,
   "metadata": {
    "vscode": {
     "languageId": "r"
    }
   },
   "outputs": [],
   "source": [
    "checkdata <- Ford_Focus[,-c(1,2,5,6)]"
   ]
  },
  {
   "cell_type": "code",
   "execution_count": null,
   "metadata": {
    "vscode": {
     "languageId": "r"
    }
   },
   "outputs": [],
   "source": [
    " checkdata$price_in_euro <- as.factor(checkdata$price_in_euro) "
   ]
  },
  {
   "cell_type": "code",
   "execution_count": null,
   "metadata": {
    "vscode": {
     "languageId": "r"
    }
   },
   "outputs": [],
   "source": [
    "Ford_Focus$  <- as.integer(Ford_Focus$price_in_euro)\n"
   ]
  },
  {
   "cell_type": "code",
   "execution_count": null,
   "metadata": {
    "vscode": {
     "languageId": "r"
    }
   },
   "outputs": [],
   "source": [
    "# 년도와 가격\n",
    "cor(Ford_Focus$price_in_euro , Ford_Focus$year)\n",
    "# 주행거리와 가격\n",
    "cor(Ford_Focus$price_in_euro , Ford_Focus$mileage_in_km)\n",
    "# \n",
    "cor(Ford_FocusV2$price_in_euro , Ford_FocusV2$transmission_type)\n",
    "\n",
    "cor(Ford_FocusV2$price_in_euro , Ford_FocusV2$fuel_type)"
   ]
  },
  {
   "cell_type": "code",
   "execution_count": 24,
   "metadata": {
    "vscode": {
     "languageId": "r"
    }
   },
   "outputs": [
    {
     "data": {
      "text/html": [
       "3873"
      ],
      "text/latex": [
       "3873"
      ],
      "text/markdown": [
       "3873"
      ],
      "text/plain": [
       "[1] 3873"
      ]
     },
     "metadata": {},
     "output_type": "display_data"
    }
   ],
   "source": [
    "nrow(Ford_Focus)"
   ]
  },
  {
   "cell_type": "code",
   "execution_count": null,
   "metadata": {
    "vscode": {
     "languageId": "r"
    }
   },
   "outputs": [],
   "source": [
    "head(checkdata)"
   ]
  },
  {
   "cell_type": "code",
   "execution_count": null,
   "metadata": {
    "vscode": {
     "languageId": "r"
    }
   },
   "outputs": [],
   "source": [
    "data3 <- Ford_Focus"
   ]
  },
  {
   "cell_type": "code",
   "execution_count": null,
   "metadata": {
    "vscode": {
     "languageId": "r"
    }
   },
   "outputs": [],
   "source": [
    "summary(data3$mileage_in_km)"
   ]
  },
  {
   "cell_type": "code",
   "execution_count": null,
   "metadata": {
    "vscode": {
     "languageId": "r"
    }
   },
   "outputs": [],
   "source": [
    "data3$mileage_in_km[,length(data3$mileage_in_km) - 2]"
   ]
  },
  {
   "cell_type": "code",
   "execution_count": 25,
   "metadata": {
    "vscode": {
     "languageId": "r"
    }
   },
   "outputs": [],
   "source": [
    "data2 <- Ford_Focus[,-c(1,2,5,6)]"
   ]
  },
  {
   "cell_type": "code",
   "execution_count": 28,
   "metadata": {
    "vscode": {
     "languageId": "r"
    }
   },
   "outputs": [],
   "source": [
    "mydata <- Ford_Focus[,-c(1,2,5,6)]\n",
    "\n",
    " mydata$price_in_euro <- as.factor(mydata$price_in_euro)"
   ]
  },
  {
   "cell_type": "code",
   "execution_count": null,
   "metadata": {
    "vscode": {
     "languageId": "r"
    }
   },
   "outputs": [],
   "source": [
    "head(mydata)\n",
    "mydata$mileage_in_km"
   ]
  },
  {
   "cell_type": "code",
   "execution_count": 26,
   "metadata": {
    "vscode": {
     "languageId": "r"
    }
   },
   "outputs": [],
   "source": [
    "# 객관식 함수 모음\n",
    "myTest <- function(A, dataName, ntreecount, per) {\n",
    "cat(\"------------------------------------\\n\")\n",
    "cat(\"예측율\\n\")\n",
    "# 라이브러리 받기\n",
    "library(caret)\n",
    "library(e1071)\n",
    "library(nnet)\n",
    "library(randomForest)\n",
    "for(i in 1:A) {\n",
    "sampA <- createDataPartition(dataName$price_in_euro, p = per, list = F)\n",
    "# 학습용    \n",
    "data.trA <- dataName[sampA,]\n",
    "# 검증용\n",
    "data.testA <- dataName[-sampA,]\n",
    "# 문제\n",
    "xA <- subset(data.testA, select = -price_in_euro)\n",
    "# 답\n",
    "yA <- data.testA$price_in_euro\n",
    "# 문제풀기  ( 랜덤 포레스트)\n",
    "rfA <- randomForest(price_in_euro ~ ., data=data.trA, ntree = ntreecount )\n",
    "# ( SVM )\n",
    "model <- svm(price_in_euro ~ ., data=data.trA)\n",
    "\n",
    "# 예측\n",
    "# 랜덤 포레스트\n",
    "predA <- predict(rfA, xA)\n",
    "\n",
    "# SVM\n",
    "pred2A <- predict(model,xA)\n",
    "\n",
    "# 랜덤 포레스트\n",
    "cat(\"\\nRandomForest 예측율 \", mean(predA == yA),\"\\t\")\n",
    "cat(\"\\n SVM 예측율 \", mean(yA == pred2A),\"\\t\")\n",
    "\n",
    "}\n",
    "# SVM\n",
    "\n",
    "\n",
    "\n",
    "cat(\"\\n------------------------------------\\n\")\n",
    "cat(\"\\nRandom Forest의 평균 예측율 :\", mean(mean(predA == yA)),\"\\n\")\n",
    "cat(\"------------------------------------\\n\")\n",
    "cat(\"\\nSVM의 평균 예측율 :\", mean(mean(pred2A == yA)),\"\\n\")\n",
    "cat(\"------------------------------------\\n\")\n",
    "\n",
    "}"
   ]
  },
  {
   "cell_type": "code",
   "execution_count": 30,
   "metadata": {
    "vscode": {
     "languageId": "r"
    }
   },
   "outputs": [
    {
     "name": "stdout",
     "output_type": "stream",
     "text": [
      "------------------------------------\n",
      "예측율\n"
     ]
    },
    {
     "ename": "ERROR",
     "evalue": "Error: 벡터 메모리가 모두 사용되었습니다 (한계에 도달했나요?)\n",
     "output_type": "error",
     "traceback": [
      "Error: 벡터 메모리가 모두 사용되었습니다 (한계에 도달했나요?)\nTraceback:\n",
      "1. myTest(A = 10, dataName = mydata, ntreecount = 100, per = 0.7)",
      "2. svm(price_in_euro ~ ., data = data.trA)   # at line 23 of file <text>",
      "3. svm.formula(price_in_euro ~ ., data = data.trA)",
      "4. svm.default(x, y, scale = scale, ..., na.action = na.action)",
      "5. na.action(predict(ret, xhold, decision.values = TRUE))",
      "6. predict(ret, xhold, decision.values = TRUE)",
      "7. predict.svm(ret, xhold, decision.values = TRUE)",
      "8. double(nrow(newdata) * object$nclasses * (object$nclasses - 1)/2)"
     ]
    }
   ],
   "source": [
    "myTest(A = 10, dataName = mydata, ntreecount = 100,per = 0.7) "
   ]
  },
  {
   "cell_type": "code",
   "execution_count": 32,
   "metadata": {
    "vscode": {
     "languageId": "r"
    }
   },
   "outputs": [],
   "source": [
    "write.csv(Ford_EcoSport, file = \"./teamSave/mydata.csv\", row.names = FALSE)\n",
    "\n"
   ]
  },
  {
   "cell_type": "code",
   "execution_count": null,
   "metadata": {
    "vscode": {
     "languageId": "r"
    }
   },
   "outputs": [],
   "source": []
  }
 ],
 "metadata": {
  "kernelspec": {
   "display_name": "R",
   "language": "R",
   "name": "r"
  },
  "language_info": {
   "codemirror_mode": "r",
   "file_extension": ".r",
   "mimetype": "text/x-r-source",
   "name": "R",
   "pygments_lexer": "r",
   "version": "4.3.3"
  }
 },
 "nbformat": 4,
 "nbformat_minor": 2
}
