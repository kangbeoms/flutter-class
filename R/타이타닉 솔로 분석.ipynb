{
 "cells": [
  {
   "cell_type": "code",
   "execution_count": 1,
   "metadata": {
    "vscode": {
     "languageId": "r"
    }
   },
   "outputs": [
    {
     "data": {
      "text/html": [
       "'ko_KR.UTF-8/ko_KR.UTF-8/ko_KR.UTF-8/C/ko_KR.UTF-8/C'"
      ],
      "text/latex": [
       "'ko\\_KR.UTF-8/ko\\_KR.UTF-8/ko\\_KR.UTF-8/C/ko\\_KR.UTF-8/C'"
      ],
      "text/markdown": [
       "'ko_KR.UTF-8/ko_KR.UTF-8/ko_KR.UTF-8/C/ko_KR.UTF-8/C'"
      ],
      "text/plain": [
       "[1] \"ko_KR.UTF-8/ko_KR.UTF-8/ko_KR.UTF-8/C/ko_KR.UTF-8/C\""
      ]
     },
     "metadata": {},
     "output_type": "display_data"
    }
   ],
   "source": [
    "options(warn = -1)\n",
    "options(repr.plot.width=15, repr.plot.height=9) \n",
    "Sys.setlocale(category = \"LC_ALL\", locale = \"ko_KR.UTF-8\")"
   ]
  },
  {
   "cell_type": "code",
   "execution_count": 2,
   "metadata": {
    "vscode": {
     "languageId": "r"
    }
   },
   "outputs": [
    {
     "name": "stderr",
     "output_type": "stream",
     "text": [
      "필요한 패키지를 로딩중입니다: ggplot2\n",
      "\n"
     ]
    },
    {
     "name": "stderr",
     "output_type": "stream",
     "text": [
      "필요한 패키지를 로딩중입니다: lattice\n",
      "\n"
     ]
    },
    {
     "data": {
      "text/html": [
       "<table class=\"dataframe\">\n",
       "<caption>A data.frame: 6 x 12</caption>\n",
       "<thead>\n",
       "\t<tr><th></th><th scope=col>PassengerId</th><th scope=col>Survived</th><th scope=col>Pclass</th><th scope=col>Name</th><th scope=col>Sex</th><th scope=col>Age</th><th scope=col>SibSp</th><th scope=col>Parch</th><th scope=col>Ticket</th><th scope=col>Fare</th><th scope=col>Cabin</th><th scope=col>Embarked</th></tr>\n",
       "\t<tr><th></th><th scope=col>&lt;int&gt;</th><th scope=col>&lt;int&gt;</th><th scope=col>&lt;int&gt;</th><th scope=col>&lt;chr&gt;</th><th scope=col>&lt;chr&gt;</th><th scope=col>&lt;dbl&gt;</th><th scope=col>&lt;int&gt;</th><th scope=col>&lt;int&gt;</th><th scope=col>&lt;chr&gt;</th><th scope=col>&lt;dbl&gt;</th><th scope=col>&lt;chr&gt;</th><th scope=col>&lt;chr&gt;</th></tr>\n",
       "</thead>\n",
       "<tbody>\n",
       "\t<tr><th scope=row>1</th><td>1</td><td>0</td><td>3</td><td>Braund, Mr. Owen Harris                            </td><td>male  </td><td>22</td><td>1</td><td>0</td><td>A/5 21171       </td><td> 7.2500</td><td>    </td><td>S</td></tr>\n",
       "\t<tr><th scope=row>2</th><td>2</td><td>1</td><td>1</td><td>Cumings, Mrs. John Bradley (Florence Briggs Thayer)</td><td>female</td><td>38</td><td>1</td><td>0</td><td>PC 17599        </td><td>71.2833</td><td>C85 </td><td>C</td></tr>\n",
       "\t<tr><th scope=row>3</th><td>3</td><td>1</td><td>3</td><td>Heikkinen, Miss. Laina                             </td><td>female</td><td>26</td><td>0</td><td>0</td><td>STON/O2. 3101282</td><td> 7.9250</td><td>    </td><td>S</td></tr>\n",
       "\t<tr><th scope=row>4</th><td>4</td><td>1</td><td>1</td><td>Futrelle, Mrs. Jacques Heath (Lily May Peel)       </td><td>female</td><td>35</td><td>1</td><td>0</td><td>113803          </td><td>53.1000</td><td>C123</td><td>S</td></tr>\n",
       "\t<tr><th scope=row>5</th><td>5</td><td>0</td><td>3</td><td>Allen, Mr. William Henry                           </td><td>male  </td><td>35</td><td>0</td><td>0</td><td>373450          </td><td> 8.0500</td><td>    </td><td>S</td></tr>\n",
       "\t<tr><th scope=row>6</th><td>6</td><td>0</td><td>3</td><td>Moran, Mr. James                                   </td><td>male  </td><td>NA</td><td>0</td><td>0</td><td>330877          </td><td> 8.4583</td><td>    </td><td>Q</td></tr>\n",
       "</tbody>\n",
       "</table>\n"
      ],
      "text/latex": [
       "A data.frame: 6 x 12\n",
       "\\begin{tabular}{r|llllllllllll}\n",
       "  & PassengerId & Survived & Pclass & Name & Sex & Age & SibSp & Parch & Ticket & Fare & Cabin & Embarked\\\\\n",
       "  & <int> & <int> & <int> & <chr> & <chr> & <dbl> & <int> & <int> & <chr> & <dbl> & <chr> & <chr>\\\\\n",
       "\\hline\n",
       "\t1 & 1 & 0 & 3 & Braund, Mr. Owen Harris                             & male   & 22 & 1 & 0 & A/5 21171        &  7.2500 &      & S\\\\\n",
       "\t2 & 2 & 1 & 1 & Cumings, Mrs. John Bradley (Florence Briggs Thayer) & female & 38 & 1 & 0 & PC 17599         & 71.2833 & C85  & C\\\\\n",
       "\t3 & 3 & 1 & 3 & Heikkinen, Miss. Laina                              & female & 26 & 0 & 0 & STON/O2. 3101282 &  7.9250 &      & S\\\\\n",
       "\t4 & 4 & 1 & 1 & Futrelle, Mrs. Jacques Heath (Lily May Peel)        & female & 35 & 1 & 0 & 113803           & 53.1000 & C123 & S\\\\\n",
       "\t5 & 5 & 0 & 3 & Allen, Mr. William Henry                            & male   & 35 & 0 & 0 & 373450           &  8.0500 &      & S\\\\\n",
       "\t6 & 6 & 0 & 3 & Moran, Mr. James                                    & male   & NA & 0 & 0 & 330877           &  8.4583 &      & Q\\\\\n",
       "\\end{tabular}\n"
      ],
      "text/markdown": [
       "\n",
       "A data.frame: 6 x 12\n",
       "\n",
       "| <!--/--> | PassengerId &lt;int&gt; | Survived &lt;int&gt; | Pclass &lt;int&gt; | Name &lt;chr&gt; | Sex &lt;chr&gt; | Age &lt;dbl&gt; | SibSp &lt;int&gt; | Parch &lt;int&gt; | Ticket &lt;chr&gt; | Fare &lt;dbl&gt; | Cabin &lt;chr&gt; | Embarked &lt;chr&gt; |\n",
       "|---|---|---|---|---|---|---|---|---|---|---|---|---|\n",
       "| 1 | 1 | 0 | 3 | Braund, Mr. Owen Harris                             | male   | 22 | 1 | 0 | A/5 21171        |  7.2500 | <!----> | S |\n",
       "| 2 | 2 | 1 | 1 | Cumings, Mrs. John Bradley (Florence Briggs Thayer) | female | 38 | 1 | 0 | PC 17599         | 71.2833 | C85  | C |\n",
       "| 3 | 3 | 1 | 3 | Heikkinen, Miss. Laina                              | female | 26 | 0 | 0 | STON/O2. 3101282 |  7.9250 | <!----> | S |\n",
       "| 4 | 4 | 1 | 1 | Futrelle, Mrs. Jacques Heath (Lily May Peel)        | female | 35 | 1 | 0 | 113803           | 53.1000 | C123 | S |\n",
       "| 5 | 5 | 0 | 3 | Allen, Mr. William Henry                            | male   | 35 | 0 | 0 | 373450           |  8.0500 | <!----> | S |\n",
       "| 6 | 6 | 0 | 3 | Moran, Mr. James                                    | male   | NA | 0 | 0 | 330877           |  8.4583 | <!----> | Q |\n",
       "\n"
      ],
      "text/plain": [
       "  PassengerId Survived Pclass\n",
       "1 1           0        3     \n",
       "2 2           1        1     \n",
       "3 3           1        3     \n",
       "4 4           1        1     \n",
       "5 5           0        3     \n",
       "6 6           0        3     \n",
       "  Name                                                Sex    Age SibSp Parch\n",
       "1 Braund, Mr. Owen Harris                             male   22  1     0    \n",
       "2 Cumings, Mrs. John Bradley (Florence Briggs Thayer) female 38  1     0    \n",
       "3 Heikkinen, Miss. Laina                              female 26  0     0    \n",
       "4 Futrelle, Mrs. Jacques Heath (Lily May Peel)        female 35  1     0    \n",
       "5 Allen, Mr. William Henry                            male   35  0     0    \n",
       "6 Moran, Mr. James                                    male   NA  0     0    \n",
       "  Ticket           Fare    Cabin Embarked\n",
       "1 A/5 21171         7.2500       S       \n",
       "2 PC 17599         71.2833 C85   C       \n",
       "3 STON/O2. 3101282  7.9250       S       \n",
       "4 113803           53.1000 C123  S       \n",
       "5 373450            8.0500       S       \n",
       "6 330877            8.4583       Q       "
      ]
     },
     "metadata": {},
     "output_type": "display_data"
    }
   ],
   "source": [
    "library(caret)\n",
    "library(e1071)\n",
    "library(nnet)\n",
    "library(stringr)\n",
    "tai <- read.csv(\"./Data/Titanic_train.csv\")\n",
    "head(tai)"
   ]
  },
  {
   "cell_type": "markdown",
   "metadata": {},
   "source": []
  },
  {
   "cell_type": "code",
   "execution_count": 3,
   "metadata": {
    "vscode": {
     "languageId": "r"
    }
   },
   "outputs": [
    {
     "data": {
      "text/plain": [
       "\n",
       "FALSE  TRUE \n",
       "10515   177 "
      ]
     },
     "metadata": {},
     "output_type": "display_data"
    },
    {
     "data": {
      "text/html": [
       "<style>\n",
       ".dl-inline {width: auto; margin:0; padding: 0}\n",
       ".dl-inline>dt, .dl-inline>dd {float: none; width: auto; display: inline-block}\n",
       ".dl-inline>dt::after {content: \":\\0020\"; padding-right: .5ex}\n",
       ".dl-inline>dt:not(:first-of-type) {padding-left: .5ex}\n",
       "</style><dl class=dl-inline><dt>PassengerId</dt><dd>0</dd><dt>Survived</dt><dd>0</dd><dt>Pclass</dt><dd>0</dd><dt>Name</dt><dd>0</dd><dt>Sex</dt><dd>0</dd><dt>Age</dt><dd>177</dd><dt>SibSp</dt><dd>0</dd><dt>Parch</dt><dd>0</dd><dt>Ticket</dt><dd>0</dd><dt>Fare</dt><dd>0</dd><dt>Cabin</dt><dd>0</dd><dt>Embarked</dt><dd>0</dd></dl>\n"
      ],
      "text/latex": [
       "\\begin{description*}\n",
       "\\item[PassengerId] 0\n",
       "\\item[Survived] 0\n",
       "\\item[Pclass] 0\n",
       "\\item[Name] 0\n",
       "\\item[Sex] 0\n",
       "\\item[Age] 177\n",
       "\\item[SibSp] 0\n",
       "\\item[Parch] 0\n",
       "\\item[Ticket] 0\n",
       "\\item[Fare] 0\n",
       "\\item[Cabin] 0\n",
       "\\item[Embarked] 0\n",
       "\\end{description*}\n"
      ],
      "text/markdown": [
       "PassengerId\n",
       ":   0Survived\n",
       ":   0Pclass\n",
       ":   0Name\n",
       ":   0Sex\n",
       ":   0Age\n",
       ":   177SibSp\n",
       ":   0Parch\n",
       ":   0Ticket\n",
       ":   0Fare\n",
       ":   0Cabin\n",
       ":   0Embarked\n",
       ":   0\n",
       "\n"
      ],
      "text/plain": [
       "PassengerId    Survived      Pclass        Name         Sex         Age \n",
       "          0           0           0           0           0         177 \n",
       "      SibSp       Parch      Ticket        Fare       Cabin    Embarked \n",
       "          0           0           0           0           0           0 "
      ]
     },
     "metadata": {},
     "output_type": "display_data"
    }
   ],
   "source": [
    "table(is.na(tai))\n",
    "colSums(is.na(tai))"
   ]
  },
  {
   "cell_type": "code",
   "execution_count": 4,
   "metadata": {
    "vscode": {
     "languageId": "r"
    }
   },
   "outputs": [
    {
     "data": {
      "text/html": [
       "<table class=\"dataframe\">\n",
       "<caption>A data.frame: 891 x 2</caption>\n",
       "<thead>\n",
       "\t<tr><th scope=col>SibSp</th><th scope=col>Parch</th></tr>\n",
       "\t<tr><th scope=col>&lt;int&gt;</th><th scope=col>&lt;int&gt;</th></tr>\n",
       "</thead>\n",
       "<tbody>\n",
       "\t<tr><td>1</td><td>0</td></tr>\n",
       "\t<tr><td>1</td><td>0</td></tr>\n",
       "\t<tr><td>0</td><td>0</td></tr>\n",
       "\t<tr><td>1</td><td>0</td></tr>\n",
       "\t<tr><td>0</td><td>0</td></tr>\n",
       "\t<tr><td>0</td><td>0</td></tr>\n",
       "\t<tr><td>0</td><td>0</td></tr>\n",
       "\t<tr><td>3</td><td>1</td></tr>\n",
       "\t<tr><td>0</td><td>2</td></tr>\n",
       "\t<tr><td>1</td><td>0</td></tr>\n",
       "\t<tr><td>1</td><td>1</td></tr>\n",
       "\t<tr><td>0</td><td>0</td></tr>\n",
       "\t<tr><td>0</td><td>0</td></tr>\n",
       "\t<tr><td>1</td><td>5</td></tr>\n",
       "\t<tr><td>0</td><td>0</td></tr>\n",
       "\t<tr><td>0</td><td>0</td></tr>\n",
       "\t<tr><td>4</td><td>1</td></tr>\n",
       "\t<tr><td>0</td><td>0</td></tr>\n",
       "\t<tr><td>1</td><td>0</td></tr>\n",
       "\t<tr><td>0</td><td>0</td></tr>\n",
       "\t<tr><td>0</td><td>0</td></tr>\n",
       "\t<tr><td>0</td><td>0</td></tr>\n",
       "\t<tr><td>0</td><td>0</td></tr>\n",
       "\t<tr><td>0</td><td>0</td></tr>\n",
       "\t<tr><td>3</td><td>1</td></tr>\n",
       "\t<tr><td>1</td><td>5</td></tr>\n",
       "\t<tr><td>0</td><td>0</td></tr>\n",
       "\t<tr><td>3</td><td>2</td></tr>\n",
       "\t<tr><td>0</td><td>0</td></tr>\n",
       "\t<tr><td>0</td><td>0</td></tr>\n",
       "\t<tr><td>...</td><td>...</td></tr>\n",
       "\t<tr><td>1</td><td>0</td></tr>\n",
       "\t<tr><td>0</td><td>0</td></tr>\n",
       "\t<tr><td>8</td><td>2</td></tr>\n",
       "\t<tr><td>0</td><td>0</td></tr>\n",
       "\t<tr><td>0</td><td>0</td></tr>\n",
       "\t<tr><td>1</td><td>0</td></tr>\n",
       "\t<tr><td>0</td><td>0</td></tr>\n",
       "\t<tr><td>0</td><td>0</td></tr>\n",
       "\t<tr><td>1</td><td>1</td></tr>\n",
       "\t<tr><td>0</td><td>0</td></tr>\n",
       "\t<tr><td>1</td><td>1</td></tr>\n",
       "\t<tr><td>0</td><td>0</td></tr>\n",
       "\t<tr><td>0</td><td>0</td></tr>\n",
       "\t<tr><td>1</td><td>0</td></tr>\n",
       "\t<tr><td>0</td><td>0</td></tr>\n",
       "\t<tr><td>0</td><td>0</td></tr>\n",
       "\t<tr><td>0</td><td>0</td></tr>\n",
       "\t<tr><td>0</td><td>0</td></tr>\n",
       "\t<tr><td>0</td><td>1</td></tr>\n",
       "\t<tr><td>0</td><td>1</td></tr>\n",
       "\t<tr><td>0</td><td>0</td></tr>\n",
       "\t<tr><td>0</td><td>0</td></tr>\n",
       "\t<tr><td>0</td><td>0</td></tr>\n",
       "\t<tr><td>0</td><td>0</td></tr>\n",
       "\t<tr><td>0</td><td>5</td></tr>\n",
       "\t<tr><td>0</td><td>0</td></tr>\n",
       "\t<tr><td>0</td><td>0</td></tr>\n",
       "\t<tr><td>1</td><td>2</td></tr>\n",
       "\t<tr><td>0</td><td>0</td></tr>\n",
       "\t<tr><td>0</td><td>0</td></tr>\n",
       "</tbody>\n",
       "</table>\n"
      ],
      "text/latex": [
       "A data.frame: 891 x 2\n",
       "\\begin{tabular}{ll}\n",
       " SibSp & Parch\\\\\n",
       " <int> & <int>\\\\\n",
       "\\hline\n",
       "\t 1 & 0\\\\\n",
       "\t 1 & 0\\\\\n",
       "\t 0 & 0\\\\\n",
       "\t 1 & 0\\\\\n",
       "\t 0 & 0\\\\\n",
       "\t 0 & 0\\\\\n",
       "\t 0 & 0\\\\\n",
       "\t 3 & 1\\\\\n",
       "\t 0 & 2\\\\\n",
       "\t 1 & 0\\\\\n",
       "\t 1 & 1\\\\\n",
       "\t 0 & 0\\\\\n",
       "\t 0 & 0\\\\\n",
       "\t 1 & 5\\\\\n",
       "\t 0 & 0\\\\\n",
       "\t 0 & 0\\\\\n",
       "\t 4 & 1\\\\\n",
       "\t 0 & 0\\\\\n",
       "\t 1 & 0\\\\\n",
       "\t 0 & 0\\\\\n",
       "\t 0 & 0\\\\\n",
       "\t 0 & 0\\\\\n",
       "\t 0 & 0\\\\\n",
       "\t 0 & 0\\\\\n",
       "\t 3 & 1\\\\\n",
       "\t 1 & 5\\\\\n",
       "\t 0 & 0\\\\\n",
       "\t 3 & 2\\\\\n",
       "\t 0 & 0\\\\\n",
       "\t 0 & 0\\\\\n",
       "\t ... & ...\\\\\n",
       "\t 1 & 0\\\\\n",
       "\t 0 & 0\\\\\n",
       "\t 8 & 2\\\\\n",
       "\t 0 & 0\\\\\n",
       "\t 0 & 0\\\\\n",
       "\t 1 & 0\\\\\n",
       "\t 0 & 0\\\\\n",
       "\t 0 & 0\\\\\n",
       "\t 1 & 1\\\\\n",
       "\t 0 & 0\\\\\n",
       "\t 1 & 1\\\\\n",
       "\t 0 & 0\\\\\n",
       "\t 0 & 0\\\\\n",
       "\t 1 & 0\\\\\n",
       "\t 0 & 0\\\\\n",
       "\t 0 & 0\\\\\n",
       "\t 0 & 0\\\\\n",
       "\t 0 & 0\\\\\n",
       "\t 0 & 1\\\\\n",
       "\t 0 & 1\\\\\n",
       "\t 0 & 0\\\\\n",
       "\t 0 & 0\\\\\n",
       "\t 0 & 0\\\\\n",
       "\t 0 & 0\\\\\n",
       "\t 0 & 5\\\\\n",
       "\t 0 & 0\\\\\n",
       "\t 0 & 0\\\\\n",
       "\t 1 & 2\\\\\n",
       "\t 0 & 0\\\\\n",
       "\t 0 & 0\\\\\n",
       "\\end{tabular}\n"
      ],
      "text/markdown": [
       "\n",
       "A data.frame: 891 x 2\n",
       "\n",
       "| SibSp &lt;int&gt; | Parch &lt;int&gt; |\n",
       "|---|---|\n",
       "| 1 | 0 |\n",
       "| 1 | 0 |\n",
       "| 0 | 0 |\n",
       "| 1 | 0 |\n",
       "| 0 | 0 |\n",
       "| 0 | 0 |\n",
       "| 0 | 0 |\n",
       "| 3 | 1 |\n",
       "| 0 | 2 |\n",
       "| 1 | 0 |\n",
       "| 1 | 1 |\n",
       "| 0 | 0 |\n",
       "| 0 | 0 |\n",
       "| 1 | 5 |\n",
       "| 0 | 0 |\n",
       "| 0 | 0 |\n",
       "| 4 | 1 |\n",
       "| 0 | 0 |\n",
       "| 1 | 0 |\n",
       "| 0 | 0 |\n",
       "| 0 | 0 |\n",
       "| 0 | 0 |\n",
       "| 0 | 0 |\n",
       "| 0 | 0 |\n",
       "| 3 | 1 |\n",
       "| 1 | 5 |\n",
       "| 0 | 0 |\n",
       "| 3 | 2 |\n",
       "| 0 | 0 |\n",
       "| 0 | 0 |\n",
       "| ... | ... |\n",
       "| 1 | 0 |\n",
       "| 0 | 0 |\n",
       "| 8 | 2 |\n",
       "| 0 | 0 |\n",
       "| 0 | 0 |\n",
       "| 1 | 0 |\n",
       "| 0 | 0 |\n",
       "| 0 | 0 |\n",
       "| 1 | 1 |\n",
       "| 0 | 0 |\n",
       "| 1 | 1 |\n",
       "| 0 | 0 |\n",
       "| 0 | 0 |\n",
       "| 1 | 0 |\n",
       "| 0 | 0 |\n",
       "| 0 | 0 |\n",
       "| 0 | 0 |\n",
       "| 0 | 0 |\n",
       "| 0 | 1 |\n",
       "| 0 | 1 |\n",
       "| 0 | 0 |\n",
       "| 0 | 0 |\n",
       "| 0 | 0 |\n",
       "| 0 | 0 |\n",
       "| 0 | 5 |\n",
       "| 0 | 0 |\n",
       "| 0 | 0 |\n",
       "| 1 | 2 |\n",
       "| 0 | 0 |\n",
       "| 0 | 0 |\n",
       "\n"
      ],
      "text/plain": [
       "    SibSp Parch\n",
       "1   1     0    \n",
       "2   1     0    \n",
       "3   0     0    \n",
       "4   1     0    \n",
       "5   0     0    \n",
       "6   0     0    \n",
       "7   0     0    \n",
       "8   3     1    \n",
       "9   0     2    \n",
       "10  1     0    \n",
       "11  1     1    \n",
       "12  0     0    \n",
       "13  0     0    \n",
       "14  1     5    \n",
       "15  0     0    \n",
       "16  0     0    \n",
       "17  4     1    \n",
       "18  0     0    \n",
       "19  1     0    \n",
       "20  0     0    \n",
       "21  0     0    \n",
       "22  0     0    \n",
       "23  0     0    \n",
       "24  0     0    \n",
       "25  3     1    \n",
       "26  1     5    \n",
       "27  0     0    \n",
       "28  3     2    \n",
       "29  0     0    \n",
       "30  0     0    \n",
       "... ...   ...  \n",
       "862 1     0    \n",
       "863 0     0    \n",
       "864 8     2    \n",
       "865 0     0    \n",
       "866 0     0    \n",
       "867 1     0    \n",
       "868 0     0    \n",
       "869 0     0    \n",
       "870 1     1    \n",
       "871 0     0    \n",
       "872 1     1    \n",
       "873 0     0    \n",
       "874 0     0    \n",
       "875 1     0    \n",
       "876 0     0    \n",
       "877 0     0    \n",
       "878 0     0    \n",
       "879 0     0    \n",
       "880 0     1    \n",
       "881 0     1    \n",
       "882 0     0    \n",
       "883 0     0    \n",
       "884 0     0    \n",
       "885 0     0    \n",
       "886 0     5    \n",
       "887 0     0    \n",
       "888 0     0    \n",
       "889 1     2    \n",
       "890 0     0    \n",
       "891 0     0    "
      ]
     },
     "metadata": {},
     "output_type": "display_data"
    },
    {
     "data": {
      "text/html": [
       "<table class=\"dataframe\">\n",
       "<caption>A data.frame: 6 x 13</caption>\n",
       "<thead>\n",
       "\t<tr><th></th><th scope=col>PassengerId</th><th scope=col>Survived</th><th scope=col>Pclass</th><th scope=col>Name</th><th scope=col>Sex</th><th scope=col>Age</th><th scope=col>SibSp</th><th scope=col>Parch</th><th scope=col>Ticket</th><th scope=col>Fare</th><th scope=col>Cabin</th><th scope=col>Embarked</th><th scope=col>familyWhith</th></tr>\n",
       "\t<tr><th></th><th scope=col>&lt;int&gt;</th><th scope=col>&lt;int&gt;</th><th scope=col>&lt;int&gt;</th><th scope=col>&lt;chr&gt;</th><th scope=col>&lt;chr&gt;</th><th scope=col>&lt;dbl&gt;</th><th scope=col>&lt;int&gt;</th><th scope=col>&lt;int&gt;</th><th scope=col>&lt;chr&gt;</th><th scope=col>&lt;dbl&gt;</th><th scope=col>&lt;chr&gt;</th><th scope=col>&lt;chr&gt;</th><th scope=col>&lt;int&gt;</th></tr>\n",
       "</thead>\n",
       "<tbody>\n",
       "\t<tr><th scope=row>1</th><td>1</td><td>0</td><td>3</td><td>Braund, Mr. Owen Harris                            </td><td>male  </td><td>22</td><td>1</td><td>0</td><td>A/5 21171       </td><td> 7.2500</td><td>    </td><td>S</td><td>1</td></tr>\n",
       "\t<tr><th scope=row>2</th><td>2</td><td>1</td><td>1</td><td>Cumings, Mrs. John Bradley (Florence Briggs Thayer)</td><td>female</td><td>38</td><td>1</td><td>0</td><td>PC 17599        </td><td>71.2833</td><td>C85 </td><td>C</td><td>1</td></tr>\n",
       "\t<tr><th scope=row>3</th><td>3</td><td>1</td><td>3</td><td>Heikkinen, Miss. Laina                             </td><td>female</td><td>26</td><td>0</td><td>0</td><td>STON/O2. 3101282</td><td> 7.9250</td><td>    </td><td>S</td><td>0</td></tr>\n",
       "\t<tr><th scope=row>4</th><td>4</td><td>1</td><td>1</td><td>Futrelle, Mrs. Jacques Heath (Lily May Peel)       </td><td>female</td><td>35</td><td>1</td><td>0</td><td>113803          </td><td>53.1000</td><td>C123</td><td>S</td><td>1</td></tr>\n",
       "\t<tr><th scope=row>5</th><td>5</td><td>0</td><td>3</td><td>Allen, Mr. William Henry                           </td><td>male  </td><td>35</td><td>0</td><td>0</td><td>373450          </td><td> 8.0500</td><td>    </td><td>S</td><td>0</td></tr>\n",
       "\t<tr><th scope=row>6</th><td>6</td><td>0</td><td>3</td><td>Moran, Mr. James                                   </td><td>male  </td><td>NA</td><td>0</td><td>0</td><td>330877          </td><td> 8.4583</td><td>    </td><td>Q</td><td>0</td></tr>\n",
       "</tbody>\n",
       "</table>\n"
      ],
      "text/latex": [
       "A data.frame: 6 x 13\n",
       "\\begin{tabular}{r|lllllllllllll}\n",
       "  & PassengerId & Survived & Pclass & Name & Sex & Age & SibSp & Parch & Ticket & Fare & Cabin & Embarked & familyWhith\\\\\n",
       "  & <int> & <int> & <int> & <chr> & <chr> & <dbl> & <int> & <int> & <chr> & <dbl> & <chr> & <chr> & <int>\\\\\n",
       "\\hline\n",
       "\t1 & 1 & 0 & 3 & Braund, Mr. Owen Harris                             & male   & 22 & 1 & 0 & A/5 21171        &  7.2500 &      & S & 1\\\\\n",
       "\t2 & 2 & 1 & 1 & Cumings, Mrs. John Bradley (Florence Briggs Thayer) & female & 38 & 1 & 0 & PC 17599         & 71.2833 & C85  & C & 1\\\\\n",
       "\t3 & 3 & 1 & 3 & Heikkinen, Miss. Laina                              & female & 26 & 0 & 0 & STON/O2. 3101282 &  7.9250 &      & S & 0\\\\\n",
       "\t4 & 4 & 1 & 1 & Futrelle, Mrs. Jacques Heath (Lily May Peel)        & female & 35 & 1 & 0 & 113803           & 53.1000 & C123 & S & 1\\\\\n",
       "\t5 & 5 & 0 & 3 & Allen, Mr. William Henry                            & male   & 35 & 0 & 0 & 373450           &  8.0500 &      & S & 0\\\\\n",
       "\t6 & 6 & 0 & 3 & Moran, Mr. James                                    & male   & NA & 0 & 0 & 330877           &  8.4583 &      & Q & 0\\\\\n",
       "\\end{tabular}\n"
      ],
      "text/markdown": [
       "\n",
       "A data.frame: 6 x 13\n",
       "\n",
       "| <!--/--> | PassengerId &lt;int&gt; | Survived &lt;int&gt; | Pclass &lt;int&gt; | Name &lt;chr&gt; | Sex &lt;chr&gt; | Age &lt;dbl&gt; | SibSp &lt;int&gt; | Parch &lt;int&gt; | Ticket &lt;chr&gt; | Fare &lt;dbl&gt; | Cabin &lt;chr&gt; | Embarked &lt;chr&gt; | familyWhith &lt;int&gt; |\n",
       "|---|---|---|---|---|---|---|---|---|---|---|---|---|---|\n",
       "| 1 | 1 | 0 | 3 | Braund, Mr. Owen Harris                             | male   | 22 | 1 | 0 | A/5 21171        |  7.2500 | <!----> | S | 1 |\n",
       "| 2 | 2 | 1 | 1 | Cumings, Mrs. John Bradley (Florence Briggs Thayer) | female | 38 | 1 | 0 | PC 17599         | 71.2833 | C85  | C | 1 |\n",
       "| 3 | 3 | 1 | 3 | Heikkinen, Miss. Laina                              | female | 26 | 0 | 0 | STON/O2. 3101282 |  7.9250 | <!----> | S | 0 |\n",
       "| 4 | 4 | 1 | 1 | Futrelle, Mrs. Jacques Heath (Lily May Peel)        | female | 35 | 1 | 0 | 113803           | 53.1000 | C123 | S | 1 |\n",
       "| 5 | 5 | 0 | 3 | Allen, Mr. William Henry                            | male   | 35 | 0 | 0 | 373450           |  8.0500 | <!----> | S | 0 |\n",
       "| 6 | 6 | 0 | 3 | Moran, Mr. James                                    | male   | NA | 0 | 0 | 330877           |  8.4583 | <!----> | Q | 0 |\n",
       "\n"
      ],
      "text/plain": [
       "  PassengerId Survived Pclass\n",
       "1 1           0        3     \n",
       "2 2           1        1     \n",
       "3 3           1        3     \n",
       "4 4           1        1     \n",
       "5 5           0        3     \n",
       "6 6           0        3     \n",
       "  Name                                                Sex    Age SibSp Parch\n",
       "1 Braund, Mr. Owen Harris                             male   22  1     0    \n",
       "2 Cumings, Mrs. John Bradley (Florence Briggs Thayer) female 38  1     0    \n",
       "3 Heikkinen, Miss. Laina                              female 26  0     0    \n",
       "4 Futrelle, Mrs. Jacques Heath (Lily May Peel)        female 35  1     0    \n",
       "5 Allen, Mr. William Henry                            male   35  0     0    \n",
       "6 Moran, Mr. James                                    male   NA  0     0    \n",
       "  Ticket           Fare    Cabin Embarked familyWhith\n",
       "1 A/5 21171         7.2500       S        1          \n",
       "2 PC 17599         71.2833 C85   C        1          \n",
       "3 STON/O2. 3101282  7.9250       S        0          \n",
       "4 113803           53.1000 C123  S        1          \n",
       "5 373450            8.0500       S        0          \n",
       "6 330877            8.4583       Q        0          "
      ]
     },
     "metadata": {},
     "output_type": "display_data"
    }
   ],
   "source": [
    "#tai$SibSp\n",
    "tai[c(7,8)]\n",
    "\n",
    "# 7,8 컬럼을 합치면 동반가족 수를 알수있다 \n",
    "tai$familyWhith <- apply(tai[c(7,8)],1,sum)\n",
    "head(tai)"
   ]
  },
  {
   "cell_type": "code",
   "execution_count": 5,
   "metadata": {
    "vscode": {
     "languageId": "r"
    }
   },
   "outputs": [
    {
     "data": {
      "text/html": [
       "0.257306522384962"
      ],
      "text/latex": [
       "0.257306522384962"
      ],
      "text/markdown": [
       "0.257306522384962"
      ],
      "text/plain": [
       "[1] 0.2573065"
      ]
     },
     "metadata": {},
     "output_type": "display_data"
    }
   ],
   "source": [
    "# 운임이랑 생존율은 별로 상관이 없다\n",
    "cor( tai$Fare , tai$Survived)"
   ]
  },
  {
   "cell_type": "code",
   "execution_count": 6,
   "metadata": {
    "vscode": {
     "languageId": "r"
    }
   },
   "outputs": [
    {
     "data": {
      "text/html": [
       "0.0830813628456867"
      ],
      "text/latex": [
       "0.0830813628456867"
      ],
      "text/markdown": [
       "0.0830813628456867"
      ],
      "text/plain": [
       "[1] 0.08308136"
      ]
     },
     "metadata": {},
     "output_type": "display_data"
    },
    {
     "data": {
      "text/html": [
       "0.0166389892827452"
      ],
      "text/latex": [
       "0.0166389892827452"
      ],
      "text/markdown": [
       "0.0166389892827452"
      ],
      "text/plain": [
       "[1] 0.01663899"
      ]
     },
     "metadata": {},
     "output_type": "display_data"
    },
    {
     "data": {
      "text/html": [
       "0.0659969084309982"
      ],
      "text/latex": [
       "0.0659969084309982"
      ],
      "text/markdown": [
       "0.0659969084309982"
      ],
      "text/plain": [
       "[1] 0.06599691"
      ]
     },
     "metadata": {},
     "output_type": "display_data"
    }
   ],
   "source": [
    "# 동반 가족 수 와 티켓 등급 상관 진자 없음\n",
    "cor( tai$Pclass, tai$SibSp)\n",
    "# 운임 이랑 동반 가족수 상관없다\n",
    "cor( tai$Survived, tai$familyWhith)\n",
    "\n",
    "# 객실 등급이랑 가족 등반 상관없내\n",
    "cor(tai$Pclass , tai$familyWhith)\n",
    "\n",
    "# "
   ]
  },
  {
   "cell_type": "code",
   "execution_count": 7,
   "metadata": {
    "vscode": {
     "languageId": "r"
    }
   },
   "outputs": [
    {
     "data": {
      "text/html": [
       "<table class=\"dataframe\">\n",
       "<caption>A data.frame: 6 x 13</caption>\n",
       "<thead>\n",
       "\t<tr><th></th><th scope=col>PassengerId</th><th scope=col>Survived</th><th scope=col>Pclass</th><th scope=col>Name</th><th scope=col>Sex</th><th scope=col>Age</th><th scope=col>SibSp</th><th scope=col>Parch</th><th scope=col>Ticket</th><th scope=col>Fare</th><th scope=col>Cabin</th><th scope=col>Embarked</th><th scope=col>familyWhith</th></tr>\n",
       "\t<tr><th></th><th scope=col>&lt;int&gt;</th><th scope=col>&lt;int&gt;</th><th scope=col>&lt;int&gt;</th><th scope=col>&lt;chr&gt;</th><th scope=col>&lt;chr&gt;</th><th scope=col>&lt;dbl&gt;</th><th scope=col>&lt;int&gt;</th><th scope=col>&lt;int&gt;</th><th scope=col>&lt;chr&gt;</th><th scope=col>&lt;dbl&gt;</th><th scope=col>&lt;chr&gt;</th><th scope=col>&lt;chr&gt;</th><th scope=col>&lt;int&gt;</th></tr>\n",
       "</thead>\n",
       "<tbody>\n",
       "\t<tr><th scope=row>1</th><td>1</td><td>0</td><td>3</td><td>Braund, Mr. Owen Harris                            </td><td>male  </td><td>22</td><td>1</td><td>0</td><td>A/5 21171       </td><td> 7.2500</td><td>    </td><td>S</td><td>1</td></tr>\n",
       "\t<tr><th scope=row>2</th><td>2</td><td>1</td><td>1</td><td>Cumings, Mrs. John Bradley (Florence Briggs Thayer)</td><td>female</td><td>38</td><td>1</td><td>0</td><td>PC 17599        </td><td>71.2833</td><td>C85 </td><td>C</td><td>1</td></tr>\n",
       "\t<tr><th scope=row>3</th><td>3</td><td>1</td><td>3</td><td>Heikkinen, Miss. Laina                             </td><td>female</td><td>26</td><td>0</td><td>0</td><td>STON/O2. 3101282</td><td> 7.9250</td><td>    </td><td>S</td><td>0</td></tr>\n",
       "\t<tr><th scope=row>4</th><td>4</td><td>1</td><td>1</td><td>Futrelle, Mrs. Jacques Heath (Lily May Peel)       </td><td>female</td><td>35</td><td>1</td><td>0</td><td>113803          </td><td>53.1000</td><td>C123</td><td>S</td><td>1</td></tr>\n",
       "\t<tr><th scope=row>5</th><td>5</td><td>0</td><td>3</td><td>Allen, Mr. William Henry                           </td><td>male  </td><td>35</td><td>0</td><td>0</td><td>373450          </td><td> 8.0500</td><td>    </td><td>S</td><td>0</td></tr>\n",
       "\t<tr><th scope=row>6</th><td>6</td><td>0</td><td>3</td><td>Moran, Mr. James                                   </td><td>male  </td><td>NA</td><td>0</td><td>0</td><td>330877          </td><td> 8.4583</td><td>    </td><td>Q</td><td>0</td></tr>\n",
       "</tbody>\n",
       "</table>\n"
      ],
      "text/latex": [
       "A data.frame: 6 x 13\n",
       "\\begin{tabular}{r|lllllllllllll}\n",
       "  & PassengerId & Survived & Pclass & Name & Sex & Age & SibSp & Parch & Ticket & Fare & Cabin & Embarked & familyWhith\\\\\n",
       "  & <int> & <int> & <int> & <chr> & <chr> & <dbl> & <int> & <int> & <chr> & <dbl> & <chr> & <chr> & <int>\\\\\n",
       "\\hline\n",
       "\t1 & 1 & 0 & 3 & Braund, Mr. Owen Harris                             & male   & 22 & 1 & 0 & A/5 21171        &  7.2500 &      & S & 1\\\\\n",
       "\t2 & 2 & 1 & 1 & Cumings, Mrs. John Bradley (Florence Briggs Thayer) & female & 38 & 1 & 0 & PC 17599         & 71.2833 & C85  & C & 1\\\\\n",
       "\t3 & 3 & 1 & 3 & Heikkinen, Miss. Laina                              & female & 26 & 0 & 0 & STON/O2. 3101282 &  7.9250 &      & S & 0\\\\\n",
       "\t4 & 4 & 1 & 1 & Futrelle, Mrs. Jacques Heath (Lily May Peel)        & female & 35 & 1 & 0 & 113803           & 53.1000 & C123 & S & 1\\\\\n",
       "\t5 & 5 & 0 & 3 & Allen, Mr. William Henry                            & male   & 35 & 0 & 0 & 373450           &  8.0500 &      & S & 0\\\\\n",
       "\t6 & 6 & 0 & 3 & Moran, Mr. James                                    & male   & NA & 0 & 0 & 330877           &  8.4583 &      & Q & 0\\\\\n",
       "\\end{tabular}\n"
      ],
      "text/markdown": [
       "\n",
       "A data.frame: 6 x 13\n",
       "\n",
       "| <!--/--> | PassengerId &lt;int&gt; | Survived &lt;int&gt; | Pclass &lt;int&gt; | Name &lt;chr&gt; | Sex &lt;chr&gt; | Age &lt;dbl&gt; | SibSp &lt;int&gt; | Parch &lt;int&gt; | Ticket &lt;chr&gt; | Fare &lt;dbl&gt; | Cabin &lt;chr&gt; | Embarked &lt;chr&gt; | familyWhith &lt;int&gt; |\n",
       "|---|---|---|---|---|---|---|---|---|---|---|---|---|---|\n",
       "| 1 | 1 | 0 | 3 | Braund, Mr. Owen Harris                             | male   | 22 | 1 | 0 | A/5 21171        |  7.2500 | <!----> | S | 1 |\n",
       "| 2 | 2 | 1 | 1 | Cumings, Mrs. John Bradley (Florence Briggs Thayer) | female | 38 | 1 | 0 | PC 17599         | 71.2833 | C85  | C | 1 |\n",
       "| 3 | 3 | 1 | 3 | Heikkinen, Miss. Laina                              | female | 26 | 0 | 0 | STON/O2. 3101282 |  7.9250 | <!----> | S | 0 |\n",
       "| 4 | 4 | 1 | 1 | Futrelle, Mrs. Jacques Heath (Lily May Peel)        | female | 35 | 1 | 0 | 113803           | 53.1000 | C123 | S | 1 |\n",
       "| 5 | 5 | 0 | 3 | Allen, Mr. William Henry                            | male   | 35 | 0 | 0 | 373450           |  8.0500 | <!----> | S | 0 |\n",
       "| 6 | 6 | 0 | 3 | Moran, Mr. James                                    | male   | NA | 0 | 0 | 330877           |  8.4583 | <!----> | Q | 0 |\n",
       "\n"
      ],
      "text/plain": [
       "  PassengerId Survived Pclass\n",
       "1 1           0        3     \n",
       "2 2           1        1     \n",
       "3 3           1        3     \n",
       "4 4           1        1     \n",
       "5 5           0        3     \n",
       "6 6           0        3     \n",
       "  Name                                                Sex    Age SibSp Parch\n",
       "1 Braund, Mr. Owen Harris                             male   22  1     0    \n",
       "2 Cumings, Mrs. John Bradley (Florence Briggs Thayer) female 38  1     0    \n",
       "3 Heikkinen, Miss. Laina                              female 26  0     0    \n",
       "4 Futrelle, Mrs. Jacques Heath (Lily May Peel)        female 35  1     0    \n",
       "5 Allen, Mr. William Henry                            male   35  0     0    \n",
       "6 Moran, Mr. James                                    male   NA  0     0    \n",
       "  Ticket           Fare    Cabin Embarked familyWhith\n",
       "1 A/5 21171         7.2500       S        1          \n",
       "2 PC 17599         71.2833 C85   C        1          \n",
       "3 STON/O2. 3101282  7.9250       S        0          \n",
       "4 113803           53.1000 C123  S        1          \n",
       "5 373450            8.0500       S        0          \n",
       "6 330877            8.4583       Q        0          "
      ]
     },
     "metadata": {},
     "output_type": "display_data"
    },
    {
     "data": {
      "text/html": [
       "177"
      ],
      "text/latex": [
       "177"
      ],
      "text/markdown": [
       "177"
      ],
      "text/plain": [
       "[1] 177"
      ]
     },
     "metadata": {},
     "output_type": "display_data"
    },
    {
     "data": {
      "text/html": [
       "52"
      ],
      "text/latex": [
       "52"
      ],
      "text/markdown": [
       "52"
      ],
      "text/plain": [
       "[1] 52"
      ]
     },
     "metadata": {},
     "output_type": "display_data"
    },
    {
     "data": {
      "text/html": [
       "29.3785310734463"
      ],
      "text/latex": [
       "29.3785310734463"
      ],
      "text/markdown": [
       "29.3785310734463"
      ],
      "text/plain": [
       "[1] 29.37853"
      ]
     },
     "metadata": {},
     "output_type": "display_data"
    },
    {
     "data": {
      "text/html": [
       "32"
      ],
      "text/latex": [
       "32"
      ],
      "text/markdown": [
       "32"
      ],
      "text/plain": [
       "[1] 32"
      ]
     },
     "metadata": {},
     "output_type": "display_data"
    },
    {
     "data": {
      "text/plain": [
       "\n",
       "  1   2   3 \n",
       " 30  11 136 "
      ]
     },
     "metadata": {},
     "output_type": "display_data"
    }
   ],
   "source": [
    "head(tai)\n",
    "# 나이가 NA 인 거만 뽑기\n",
    "Nadata <- tai[is.na(tai$Age),]\n",
    "\n",
    "nrow(Nadata)\n",
    "sum(Nadata[2])\n",
    "# 나이가 NA 인 사람들의 생존률\n",
    "52 / 177 * 100\n",
    "\n",
    "sum(Nadata[8])\n",
    "# 3등석인 사람이 압도적으로 높다\n",
    "table(Nadata$Pclass)"
   ]
  },
  {
   "cell_type": "code",
   "execution_count": 8,
   "metadata": {
    "vscode": {
     "languageId": "r"
    }
   },
   "outputs": [
    {
     "data": {
      "text/html": [
       "5.9"
      ],
      "text/latex": [
       "5.9"
      ],
      "text/markdown": [
       "5.9"
      ],
      "text/plain": [
       "[1] 5.9"
      ]
     },
     "metadata": {},
     "output_type": "display_data"
    },
    {
     "data": {
      "text/html": [
       "16.0909090909091"
      ],
      "text/latex": [
       "16.0909090909091"
      ],
      "text/markdown": [
       "16.0909090909091"
      ],
      "text/plain": [
       "[1] 16.09091"
      ]
     },
     "metadata": {},
     "output_type": "display_data"
    },
    {
     "data": {
      "text/html": [
       "1.30147058823529"
      ],
      "text/latex": [
       "1.30147058823529"
      ],
      "text/markdown": [
       "1.30147058823529"
      ],
      "text/plain": [
       "[1] 1.301471"
      ]
     },
     "metadata": {},
     "output_type": "display_data"
    }
   ],
   "source": [
    "177 / 30 \n",
    "177 / 11\n",
    "177 / 136"
   ]
  },
  {
   "cell_type": "code",
   "execution_count": 9,
   "metadata": {
    "vscode": {
     "languageId": "r"
    }
   },
   "outputs": [
    {
     "data": {
      "text/html": [
       "<table class=\"dataframe\">\n",
       "<caption>A data.frame: 714 x 13</caption>\n",
       "<thead>\n",
       "\t<tr><th></th><th scope=col>PassengerId</th><th scope=col>Survived</th><th scope=col>Pclass</th><th scope=col>Name</th><th scope=col>Sex</th><th scope=col>Age</th><th scope=col>SibSp</th><th scope=col>Parch</th><th scope=col>Ticket</th><th scope=col>Fare</th><th scope=col>Cabin</th><th scope=col>Embarked</th><th scope=col>familyWhith</th></tr>\n",
       "\t<tr><th></th><th scope=col>&lt;int&gt;</th><th scope=col>&lt;int&gt;</th><th scope=col>&lt;int&gt;</th><th scope=col>&lt;chr&gt;</th><th scope=col>&lt;chr&gt;</th><th scope=col>&lt;dbl&gt;</th><th scope=col>&lt;int&gt;</th><th scope=col>&lt;int&gt;</th><th scope=col>&lt;chr&gt;</th><th scope=col>&lt;dbl&gt;</th><th scope=col>&lt;chr&gt;</th><th scope=col>&lt;chr&gt;</th><th scope=col>&lt;int&gt;</th></tr>\n",
       "</thead>\n",
       "<tbody>\n",
       "\t<tr><th scope=row>1</th><td> 1</td><td>0</td><td>3</td><td>Braund, Mr. Owen Harris                                  </td><td>male  </td><td>22</td><td>1</td><td>0</td><td>A/5 21171       </td><td>  7.2500</td><td>           </td><td>S</td><td>1</td></tr>\n",
       "\t<tr><th scope=row>2</th><td> 2</td><td>1</td><td>1</td><td>Cumings, Mrs. John Bradley (Florence Briggs Thayer)      </td><td>female</td><td>38</td><td>1</td><td>0</td><td>PC 17599        </td><td> 71.2833</td><td>C85        </td><td>C</td><td>1</td></tr>\n",
       "\t<tr><th scope=row>3</th><td> 3</td><td>1</td><td>3</td><td>Heikkinen, Miss. Laina                                   </td><td>female</td><td>26</td><td>0</td><td>0</td><td>STON/O2. 3101282</td><td>  7.9250</td><td>           </td><td>S</td><td>0</td></tr>\n",
       "\t<tr><th scope=row>4</th><td> 4</td><td>1</td><td>1</td><td>Futrelle, Mrs. Jacques Heath (Lily May Peel)             </td><td>female</td><td>35</td><td>1</td><td>0</td><td>113803          </td><td> 53.1000</td><td>C123       </td><td>S</td><td>1</td></tr>\n",
       "\t<tr><th scope=row>5</th><td> 5</td><td>0</td><td>3</td><td>Allen, Mr. William Henry                                 </td><td>male  </td><td>35</td><td>0</td><td>0</td><td>373450          </td><td>  8.0500</td><td>           </td><td>S</td><td>0</td></tr>\n",
       "\t<tr><th scope=row>7</th><td> 7</td><td>0</td><td>1</td><td>McCarthy, Mr. Timothy J                                  </td><td>male  </td><td>54</td><td>0</td><td>0</td><td>17463           </td><td> 51.8625</td><td>E46        </td><td>S</td><td>0</td></tr>\n",
       "\t<tr><th scope=row>8</th><td> 8</td><td>0</td><td>3</td><td>Palsson, Master. Gosta Leonard                           </td><td>male  </td><td> 2</td><td>3</td><td>1</td><td>349909          </td><td> 21.0750</td><td>           </td><td>S</td><td>4</td></tr>\n",
       "\t<tr><th scope=row>9</th><td> 9</td><td>1</td><td>3</td><td>Johnson, Mrs. Oscar W (Elisabeth Vilhelmina Berg)        </td><td>female</td><td>27</td><td>0</td><td>2</td><td>347742          </td><td> 11.1333</td><td>           </td><td>S</td><td>2</td></tr>\n",
       "\t<tr><th scope=row>10</th><td>10</td><td>1</td><td>2</td><td>Nasser, Mrs. Nicholas (Adele Achem)                      </td><td>female</td><td>14</td><td>1</td><td>0</td><td>237736          </td><td> 30.0708</td><td>           </td><td>C</td><td>1</td></tr>\n",
       "\t<tr><th scope=row>11</th><td>11</td><td>1</td><td>3</td><td>Sandstrom, Miss. Marguerite Rut                          </td><td>female</td><td> 4</td><td>1</td><td>1</td><td>PP 9549         </td><td> 16.7000</td><td>G6         </td><td>S</td><td>2</td></tr>\n",
       "\t<tr><th scope=row>12</th><td>12</td><td>1</td><td>1</td><td>Bonnell, Miss. Elizabeth                                 </td><td>female</td><td>58</td><td>0</td><td>0</td><td>113783          </td><td> 26.5500</td><td>C103       </td><td>S</td><td>0</td></tr>\n",
       "\t<tr><th scope=row>13</th><td>13</td><td>0</td><td>3</td><td>Saundercock, Mr. William Henry                           </td><td>male  </td><td>20</td><td>0</td><td>0</td><td>A/5. 2151       </td><td>  8.0500</td><td>           </td><td>S</td><td>0</td></tr>\n",
       "\t<tr><th scope=row>14</th><td>14</td><td>0</td><td>3</td><td>Andersson, Mr. Anders Johan                              </td><td>male  </td><td>39</td><td>1</td><td>5</td><td>347082          </td><td> 31.2750</td><td>           </td><td>S</td><td>6</td></tr>\n",
       "\t<tr><th scope=row>15</th><td>15</td><td>0</td><td>3</td><td>Vestrom, Miss. Hulda Amanda Adolfina                     </td><td>female</td><td>14</td><td>0</td><td>0</td><td>350406          </td><td>  7.8542</td><td>           </td><td>S</td><td>0</td></tr>\n",
       "\t<tr><th scope=row>16</th><td>16</td><td>1</td><td>2</td><td>Hewlett, Mrs. (Mary D Kingcome)                          </td><td>female</td><td>55</td><td>0</td><td>0</td><td>248706          </td><td> 16.0000</td><td>           </td><td>S</td><td>0</td></tr>\n",
       "\t<tr><th scope=row>17</th><td>17</td><td>0</td><td>3</td><td>Rice, Master. Eugene                                     </td><td>male  </td><td> 2</td><td>4</td><td>1</td><td>382652          </td><td> 29.1250</td><td>           </td><td>Q</td><td>5</td></tr>\n",
       "\t<tr><th scope=row>19</th><td>19</td><td>0</td><td>3</td><td>Vander Planke, Mrs. Julius (Emelia Maria Vandemoortele)  </td><td>female</td><td>31</td><td>1</td><td>0</td><td>345763          </td><td> 18.0000</td><td>           </td><td>S</td><td>1</td></tr>\n",
       "\t<tr><th scope=row>21</th><td>21</td><td>0</td><td>2</td><td>Fynney, Mr. Joseph J                                     </td><td>male  </td><td>35</td><td>0</td><td>0</td><td>239865          </td><td> 26.0000</td><td>           </td><td>S</td><td>0</td></tr>\n",
       "\t<tr><th scope=row>22</th><td>22</td><td>1</td><td>2</td><td>Beesley, Mr. Lawrence                                    </td><td>male  </td><td>34</td><td>0</td><td>0</td><td>248698          </td><td> 13.0000</td><td>D56        </td><td>S</td><td>0</td></tr>\n",
       "\t<tr><th scope=row>23</th><td>23</td><td>1</td><td>3</td><td>McGowan, Miss. Anna \"Annie\"                              </td><td>female</td><td>15</td><td>0</td><td>0</td><td>330923          </td><td>  8.0292</td><td>           </td><td>Q</td><td>0</td></tr>\n",
       "\t<tr><th scope=row>24</th><td>24</td><td>1</td><td>1</td><td>Sloper, Mr. William Thompson                             </td><td>male  </td><td>28</td><td>0</td><td>0</td><td>113788          </td><td> 35.5000</td><td>A6         </td><td>S</td><td>0</td></tr>\n",
       "\t<tr><th scope=row>25</th><td>25</td><td>0</td><td>3</td><td>Palsson, Miss. Torborg Danira                            </td><td>female</td><td> 8</td><td>3</td><td>1</td><td>349909          </td><td> 21.0750</td><td>           </td><td>S</td><td>4</td></tr>\n",
       "\t<tr><th scope=row>26</th><td>26</td><td>1</td><td>3</td><td>Asplund, Mrs. Carl Oscar (Selma Augusta Emilia Johansson)</td><td>female</td><td>38</td><td>1</td><td>5</td><td>347077          </td><td> 31.3875</td><td>           </td><td>S</td><td>6</td></tr>\n",
       "\t<tr><th scope=row>28</th><td>28</td><td>0</td><td>1</td><td>Fortune, Mr. Charles Alexander                           </td><td>male  </td><td>19</td><td>3</td><td>2</td><td>19950           </td><td>263.0000</td><td>C23 C25 C27</td><td>S</td><td>5</td></tr>\n",
       "\t<tr><th scope=row>31</th><td>31</td><td>0</td><td>1</td><td>Uruchurtu, Don. Manuel E                                 </td><td>male  </td><td>40</td><td>0</td><td>0</td><td>PC 17601        </td><td> 27.7208</td><td>           </td><td>C</td><td>0</td></tr>\n",
       "\t<tr><th scope=row>34</th><td>34</td><td>0</td><td>2</td><td>Wheadon, Mr. Edward H                                    </td><td>male  </td><td>66</td><td>0</td><td>0</td><td>C.A. 24579      </td><td> 10.5000</td><td>           </td><td>S</td><td>0</td></tr>\n",
       "\t<tr><th scope=row>35</th><td>35</td><td>0</td><td>1</td><td>Meyer, Mr. Edgar Joseph                                  </td><td>male  </td><td>28</td><td>1</td><td>0</td><td>PC 17604        </td><td> 82.1708</td><td>           </td><td>C</td><td>1</td></tr>\n",
       "\t<tr><th scope=row>36</th><td>36</td><td>0</td><td>1</td><td>Holverson, Mr. Alexander Oskar                           </td><td>male  </td><td>42</td><td>1</td><td>0</td><td>113789          </td><td> 52.0000</td><td>           </td><td>S</td><td>1</td></tr>\n",
       "\t<tr><th scope=row>38</th><td>38</td><td>0</td><td>3</td><td>Cann, Mr. Ernest Charles                                 </td><td>male  </td><td>21</td><td>0</td><td>0</td><td>A./5. 2152      </td><td>  8.0500</td><td>           </td><td>S</td><td>0</td></tr>\n",
       "\t<tr><th scope=row>39</th><td>39</td><td>0</td><td>3</td><td>Vander Planke, Miss. Augusta Maria                       </td><td>female</td><td>18</td><td>2</td><td>0</td><td>345764          </td><td> 18.0000</td><td>           </td><td>S</td><td>2</td></tr>\n",
       "\t<tr><th scope=row>...</th><td>...</td><td>...</td><td>...</td><td>...</td><td>...</td><td>...</td><td>...</td><td>...</td><td>...</td><td>...</td><td>...</td><td>...</td><td>...</td></tr>\n",
       "\t<tr><th scope=row>857</th><td>857</td><td>1</td><td>1</td><td>Wick, Mrs. George Dennick (Mary Hitchcock)         </td><td>female</td><td>45</td><td>1</td><td>1</td><td>36928           </td><td>164.8667</td><td>           </td><td>S</td><td>2</td></tr>\n",
       "\t<tr><th scope=row>858</th><td>858</td><td>1</td><td>1</td><td>Daly, Mr. Peter Denis                              </td><td>male  </td><td>51</td><td>0</td><td>0</td><td>113055          </td><td> 26.5500</td><td>E17        </td><td>S</td><td>0</td></tr>\n",
       "\t<tr><th scope=row>859</th><td>859</td><td>1</td><td>3</td><td>Baclini, Mrs. Solomon (Latifa Qurban)              </td><td>female</td><td>24</td><td>0</td><td>3</td><td>2666            </td><td> 19.2583</td><td>           </td><td>C</td><td>3</td></tr>\n",
       "\t<tr><th scope=row>861</th><td>861</td><td>0</td><td>3</td><td>Hansen, Mr. Claus Peter                            </td><td>male  </td><td>41</td><td>2</td><td>0</td><td>350026          </td><td> 14.1083</td><td>           </td><td>S</td><td>2</td></tr>\n",
       "\t<tr><th scope=row>862</th><td>862</td><td>0</td><td>2</td><td>Giles, Mr. Frederick Edward                        </td><td>male  </td><td>21</td><td>1</td><td>0</td><td>28134           </td><td> 11.5000</td><td>           </td><td>S</td><td>1</td></tr>\n",
       "\t<tr><th scope=row>863</th><td>863</td><td>1</td><td>1</td><td>Swift, Mrs. Frederick Joel (Margaret Welles Barron)</td><td>female</td><td>48</td><td>0</td><td>0</td><td>17466           </td><td> 25.9292</td><td>D17        </td><td>S</td><td>0</td></tr>\n",
       "\t<tr><th scope=row>865</th><td>865</td><td>0</td><td>2</td><td>Gill, Mr. John William                             </td><td>male  </td><td>24</td><td>0</td><td>0</td><td>233866          </td><td> 13.0000</td><td>           </td><td>S</td><td>0</td></tr>\n",
       "\t<tr><th scope=row>866</th><td>866</td><td>1</td><td>2</td><td>Bystrom, Mrs. (Karolina)                           </td><td>female</td><td>42</td><td>0</td><td>0</td><td>236852          </td><td> 13.0000</td><td>           </td><td>S</td><td>0</td></tr>\n",
       "\t<tr><th scope=row>867</th><td>867</td><td>1</td><td>2</td><td>Duran y More, Miss. Asuncion                       </td><td>female</td><td>27</td><td>1</td><td>0</td><td>SC/PARIS 2149   </td><td> 13.8583</td><td>           </td><td>C</td><td>1</td></tr>\n",
       "\t<tr><th scope=row>868</th><td>868</td><td>0</td><td>1</td><td>Roebling, Mr. Washington Augustus II               </td><td>male  </td><td>31</td><td>0</td><td>0</td><td>PC 17590        </td><td> 50.4958</td><td>A24        </td><td>S</td><td>0</td></tr>\n",
       "\t<tr><th scope=row>870</th><td>870</td><td>1</td><td>3</td><td>Johnson, Master. Harold Theodor                    </td><td>male  </td><td> 4</td><td>1</td><td>1</td><td>347742          </td><td> 11.1333</td><td>           </td><td>S</td><td>2</td></tr>\n",
       "\t<tr><th scope=row>871</th><td>871</td><td>0</td><td>3</td><td>Balkic, Mr. Cerin                                  </td><td>male  </td><td>26</td><td>0</td><td>0</td><td>349248          </td><td>  7.8958</td><td>           </td><td>S</td><td>0</td></tr>\n",
       "\t<tr><th scope=row>872</th><td>872</td><td>1</td><td>1</td><td>Beckwith, Mrs. Richard Leonard (Sallie Monypeny)   </td><td>female</td><td>47</td><td>1</td><td>1</td><td>11751           </td><td> 52.5542</td><td>D35        </td><td>S</td><td>2</td></tr>\n",
       "\t<tr><th scope=row>873</th><td>873</td><td>0</td><td>1</td><td>Carlsson, Mr. Frans Olof                           </td><td>male  </td><td>33</td><td>0</td><td>0</td><td>695             </td><td>  5.0000</td><td>B51 B53 B55</td><td>S</td><td>0</td></tr>\n",
       "\t<tr><th scope=row>874</th><td>874</td><td>0</td><td>3</td><td>Vander Cruyssen, Mr. Victor                        </td><td>male  </td><td>47</td><td>0</td><td>0</td><td>345765          </td><td>  9.0000</td><td>           </td><td>S</td><td>0</td></tr>\n",
       "\t<tr><th scope=row>875</th><td>875</td><td>1</td><td>2</td><td>Abelson, Mrs. Samuel (Hannah Wizosky)              </td><td>female</td><td>28</td><td>1</td><td>0</td><td>P/PP 3381       </td><td> 24.0000</td><td>           </td><td>C</td><td>1</td></tr>\n",
       "\t<tr><th scope=row>876</th><td>876</td><td>1</td><td>3</td><td>Najib, Miss. Adele Kiamie \"Jane\"                   </td><td>female</td><td>15</td><td>0</td><td>0</td><td>2667            </td><td>  7.2250</td><td>           </td><td>C</td><td>0</td></tr>\n",
       "\t<tr><th scope=row>877</th><td>877</td><td>0</td><td>3</td><td>Gustafsson, Mr. Alfred Ossian                      </td><td>male  </td><td>20</td><td>0</td><td>0</td><td>7534            </td><td>  9.8458</td><td>           </td><td>S</td><td>0</td></tr>\n",
       "\t<tr><th scope=row>878</th><td>878</td><td>0</td><td>3</td><td>Petroff, Mr. Nedelio                               </td><td>male  </td><td>19</td><td>0</td><td>0</td><td>349212          </td><td>  7.8958</td><td>           </td><td>S</td><td>0</td></tr>\n",
       "\t<tr><th scope=row>880</th><td>880</td><td>1</td><td>1</td><td>Potter, Mrs. Thomas Jr (Lily Alexenia Wilson)      </td><td>female</td><td>56</td><td>0</td><td>1</td><td>11767           </td><td> 83.1583</td><td>C50        </td><td>C</td><td>1</td></tr>\n",
       "\t<tr><th scope=row>881</th><td>881</td><td>1</td><td>2</td><td>Shelley, Mrs. William (Imanita Parrish Hall)       </td><td>female</td><td>25</td><td>0</td><td>1</td><td>230433          </td><td> 26.0000</td><td>           </td><td>S</td><td>1</td></tr>\n",
       "\t<tr><th scope=row>882</th><td>882</td><td>0</td><td>3</td><td>Markun, Mr. Johann                                 </td><td>male  </td><td>33</td><td>0</td><td>0</td><td>349257          </td><td>  7.8958</td><td>           </td><td>S</td><td>0</td></tr>\n",
       "\t<tr><th scope=row>883</th><td>883</td><td>0</td><td>3</td><td>Dahlberg, Miss. Gerda Ulrika                       </td><td>female</td><td>22</td><td>0</td><td>0</td><td>7552            </td><td> 10.5167</td><td>           </td><td>S</td><td>0</td></tr>\n",
       "\t<tr><th scope=row>884</th><td>884</td><td>0</td><td>2</td><td>Banfield, Mr. Frederick James                      </td><td>male  </td><td>28</td><td>0</td><td>0</td><td>C.A./SOTON 34068</td><td> 10.5000</td><td>           </td><td>S</td><td>0</td></tr>\n",
       "\t<tr><th scope=row>885</th><td>885</td><td>0</td><td>3</td><td>Sutehall, Mr. Henry Jr                             </td><td>male  </td><td>25</td><td>0</td><td>0</td><td>SOTON/OQ 392076 </td><td>  7.0500</td><td>           </td><td>S</td><td>0</td></tr>\n",
       "\t<tr><th scope=row>886</th><td>886</td><td>0</td><td>3</td><td>Rice, Mrs. William (Margaret Norton)               </td><td>female</td><td>39</td><td>0</td><td>5</td><td>382652          </td><td> 29.1250</td><td>           </td><td>Q</td><td>5</td></tr>\n",
       "\t<tr><th scope=row>887</th><td>887</td><td>0</td><td>2</td><td>Montvila, Rev. Juozas                              </td><td>male  </td><td>27</td><td>0</td><td>0</td><td>211536          </td><td> 13.0000</td><td>           </td><td>S</td><td>0</td></tr>\n",
       "\t<tr><th scope=row>888</th><td>888</td><td>1</td><td>1</td><td>Graham, Miss. Margaret Edith                       </td><td>female</td><td>19</td><td>0</td><td>0</td><td>112053          </td><td> 30.0000</td><td>B42        </td><td>S</td><td>0</td></tr>\n",
       "\t<tr><th scope=row>890</th><td>890</td><td>1</td><td>1</td><td>Behr, Mr. Karl Howell                              </td><td>male  </td><td>26</td><td>0</td><td>0</td><td>111369          </td><td> 30.0000</td><td>C148       </td><td>C</td><td>0</td></tr>\n",
       "\t<tr><th scope=row>891</th><td>891</td><td>0</td><td>3</td><td>Dooley, Mr. Patrick                                </td><td>male  </td><td>32</td><td>0</td><td>0</td><td>370376          </td><td>  7.7500</td><td>           </td><td>Q</td><td>0</td></tr>\n",
       "</tbody>\n",
       "</table>\n"
      ],
      "text/latex": [
       "A data.frame: 714 x 13\n",
       "\\begin{tabular}{r|lllllllllllll}\n",
       "  & PassengerId & Survived & Pclass & Name & Sex & Age & SibSp & Parch & Ticket & Fare & Cabin & Embarked & familyWhith\\\\\n",
       "  & <int> & <int> & <int> & <chr> & <chr> & <dbl> & <int> & <int> & <chr> & <dbl> & <chr> & <chr> & <int>\\\\\n",
       "\\hline\n",
       "\t1 &  1 & 0 & 3 & Braund, Mr. Owen Harris                                   & male   & 22 & 1 & 0 & A/5 21171        &   7.2500 &             & S & 1\\\\\n",
       "\t2 &  2 & 1 & 1 & Cumings, Mrs. John Bradley (Florence Briggs Thayer)       & female & 38 & 1 & 0 & PC 17599         &  71.2833 & C85         & C & 1\\\\\n",
       "\t3 &  3 & 1 & 3 & Heikkinen, Miss. Laina                                    & female & 26 & 0 & 0 & STON/O2. 3101282 &   7.9250 &             & S & 0\\\\\n",
       "\t4 &  4 & 1 & 1 & Futrelle, Mrs. Jacques Heath (Lily May Peel)              & female & 35 & 1 & 0 & 113803           &  53.1000 & C123        & S & 1\\\\\n",
       "\t5 &  5 & 0 & 3 & Allen, Mr. William Henry                                  & male   & 35 & 0 & 0 & 373450           &   8.0500 &             & S & 0\\\\\n",
       "\t7 &  7 & 0 & 1 & McCarthy, Mr. Timothy J                                   & male   & 54 & 0 & 0 & 17463            &  51.8625 & E46         & S & 0\\\\\n",
       "\t8 &  8 & 0 & 3 & Palsson, Master. Gosta Leonard                            & male   &  2 & 3 & 1 & 349909           &  21.0750 &             & S & 4\\\\\n",
       "\t9 &  9 & 1 & 3 & Johnson, Mrs. Oscar W (Elisabeth Vilhelmina Berg)         & female & 27 & 0 & 2 & 347742           &  11.1333 &             & S & 2\\\\\n",
       "\t10 & 10 & 1 & 2 & Nasser, Mrs. Nicholas (Adele Achem)                       & female & 14 & 1 & 0 & 237736           &  30.0708 &             & C & 1\\\\\n",
       "\t11 & 11 & 1 & 3 & Sandstrom, Miss. Marguerite Rut                           & female &  4 & 1 & 1 & PP 9549          &  16.7000 & G6          & S & 2\\\\\n",
       "\t12 & 12 & 1 & 1 & Bonnell, Miss. Elizabeth                                  & female & 58 & 0 & 0 & 113783           &  26.5500 & C103        & S & 0\\\\\n",
       "\t13 & 13 & 0 & 3 & Saundercock, Mr. William Henry                            & male   & 20 & 0 & 0 & A/5. 2151        &   8.0500 &             & S & 0\\\\\n",
       "\t14 & 14 & 0 & 3 & Andersson, Mr. Anders Johan                               & male   & 39 & 1 & 5 & 347082           &  31.2750 &             & S & 6\\\\\n",
       "\t15 & 15 & 0 & 3 & Vestrom, Miss. Hulda Amanda Adolfina                      & female & 14 & 0 & 0 & 350406           &   7.8542 &             & S & 0\\\\\n",
       "\t16 & 16 & 1 & 2 & Hewlett, Mrs. (Mary D Kingcome)                           & female & 55 & 0 & 0 & 248706           &  16.0000 &             & S & 0\\\\\n",
       "\t17 & 17 & 0 & 3 & Rice, Master. Eugene                                      & male   &  2 & 4 & 1 & 382652           &  29.1250 &             & Q & 5\\\\\n",
       "\t19 & 19 & 0 & 3 & Vander Planke, Mrs. Julius (Emelia Maria Vandemoortele)   & female & 31 & 1 & 0 & 345763           &  18.0000 &             & S & 1\\\\\n",
       "\t21 & 21 & 0 & 2 & Fynney, Mr. Joseph J                                      & male   & 35 & 0 & 0 & 239865           &  26.0000 &             & S & 0\\\\\n",
       "\t22 & 22 & 1 & 2 & Beesley, Mr. Lawrence                                     & male   & 34 & 0 & 0 & 248698           &  13.0000 & D56         & S & 0\\\\\n",
       "\t23 & 23 & 1 & 3 & McGowan, Miss. Anna \"Annie\"                               & female & 15 & 0 & 0 & 330923           &   8.0292 &             & Q & 0\\\\\n",
       "\t24 & 24 & 1 & 1 & Sloper, Mr. William Thompson                              & male   & 28 & 0 & 0 & 113788           &  35.5000 & A6          & S & 0\\\\\n",
       "\t25 & 25 & 0 & 3 & Palsson, Miss. Torborg Danira                             & female &  8 & 3 & 1 & 349909           &  21.0750 &             & S & 4\\\\\n",
       "\t26 & 26 & 1 & 3 & Asplund, Mrs. Carl Oscar (Selma Augusta Emilia Johansson) & female & 38 & 1 & 5 & 347077           &  31.3875 &             & S & 6\\\\\n",
       "\t28 & 28 & 0 & 1 & Fortune, Mr. Charles Alexander                            & male   & 19 & 3 & 2 & 19950            & 263.0000 & C23 C25 C27 & S & 5\\\\\n",
       "\t31 & 31 & 0 & 1 & Uruchurtu, Don. Manuel E                                  & male   & 40 & 0 & 0 & PC 17601         &  27.7208 &             & C & 0\\\\\n",
       "\t34 & 34 & 0 & 2 & Wheadon, Mr. Edward H                                     & male   & 66 & 0 & 0 & C.A. 24579       &  10.5000 &             & S & 0\\\\\n",
       "\t35 & 35 & 0 & 1 & Meyer, Mr. Edgar Joseph                                   & male   & 28 & 1 & 0 & PC 17604         &  82.1708 &             & C & 1\\\\\n",
       "\t36 & 36 & 0 & 1 & Holverson, Mr. Alexander Oskar                            & male   & 42 & 1 & 0 & 113789           &  52.0000 &             & S & 1\\\\\n",
       "\t38 & 38 & 0 & 3 & Cann, Mr. Ernest Charles                                  & male   & 21 & 0 & 0 & A./5. 2152       &   8.0500 &             & S & 0\\\\\n",
       "\t39 & 39 & 0 & 3 & Vander Planke, Miss. Augusta Maria                        & female & 18 & 2 & 0 & 345764           &  18.0000 &             & S & 2\\\\\n",
       "\t... & ... & ... & ... & ... & ... & ... & ... & ... & ... & ... & ... & ... & ...\\\\\n",
       "\t857 & 857 & 1 & 1 & Wick, Mrs. George Dennick (Mary Hitchcock)          & female & 45 & 1 & 1 & 36928            & 164.8667 &             & S & 2\\\\\n",
       "\t858 & 858 & 1 & 1 & Daly, Mr. Peter Denis                               & male   & 51 & 0 & 0 & 113055           &  26.5500 & E17         & S & 0\\\\\n",
       "\t859 & 859 & 1 & 3 & Baclini, Mrs. Solomon (Latifa Qurban)               & female & 24 & 0 & 3 & 2666             &  19.2583 &             & C & 3\\\\\n",
       "\t861 & 861 & 0 & 3 & Hansen, Mr. Claus Peter                             & male   & 41 & 2 & 0 & 350026           &  14.1083 &             & S & 2\\\\\n",
       "\t862 & 862 & 0 & 2 & Giles, Mr. Frederick Edward                         & male   & 21 & 1 & 0 & 28134            &  11.5000 &             & S & 1\\\\\n",
       "\t863 & 863 & 1 & 1 & Swift, Mrs. Frederick Joel (Margaret Welles Barron) & female & 48 & 0 & 0 & 17466            &  25.9292 & D17         & S & 0\\\\\n",
       "\t865 & 865 & 0 & 2 & Gill, Mr. John William                              & male   & 24 & 0 & 0 & 233866           &  13.0000 &             & S & 0\\\\\n",
       "\t866 & 866 & 1 & 2 & Bystrom, Mrs. (Karolina)                            & female & 42 & 0 & 0 & 236852           &  13.0000 &             & S & 0\\\\\n",
       "\t867 & 867 & 1 & 2 & Duran y More, Miss. Asuncion                        & female & 27 & 1 & 0 & SC/PARIS 2149    &  13.8583 &             & C & 1\\\\\n",
       "\t868 & 868 & 0 & 1 & Roebling, Mr. Washington Augustus II                & male   & 31 & 0 & 0 & PC 17590         &  50.4958 & A24         & S & 0\\\\\n",
       "\t870 & 870 & 1 & 3 & Johnson, Master. Harold Theodor                     & male   &  4 & 1 & 1 & 347742           &  11.1333 &             & S & 2\\\\\n",
       "\t871 & 871 & 0 & 3 & Balkic, Mr. Cerin                                   & male   & 26 & 0 & 0 & 349248           &   7.8958 &             & S & 0\\\\\n",
       "\t872 & 872 & 1 & 1 & Beckwith, Mrs. Richard Leonard (Sallie Monypeny)    & female & 47 & 1 & 1 & 11751            &  52.5542 & D35         & S & 2\\\\\n",
       "\t873 & 873 & 0 & 1 & Carlsson, Mr. Frans Olof                            & male   & 33 & 0 & 0 & 695              &   5.0000 & B51 B53 B55 & S & 0\\\\\n",
       "\t874 & 874 & 0 & 3 & Vander Cruyssen, Mr. Victor                         & male   & 47 & 0 & 0 & 345765           &   9.0000 &             & S & 0\\\\\n",
       "\t875 & 875 & 1 & 2 & Abelson, Mrs. Samuel (Hannah Wizosky)               & female & 28 & 1 & 0 & P/PP 3381        &  24.0000 &             & C & 1\\\\\n",
       "\t876 & 876 & 1 & 3 & Najib, Miss. Adele Kiamie \"Jane\"                    & female & 15 & 0 & 0 & 2667             &   7.2250 &             & C & 0\\\\\n",
       "\t877 & 877 & 0 & 3 & Gustafsson, Mr. Alfred Ossian                       & male   & 20 & 0 & 0 & 7534             &   9.8458 &             & S & 0\\\\\n",
       "\t878 & 878 & 0 & 3 & Petroff, Mr. Nedelio                                & male   & 19 & 0 & 0 & 349212           &   7.8958 &             & S & 0\\\\\n",
       "\t880 & 880 & 1 & 1 & Potter, Mrs. Thomas Jr (Lily Alexenia Wilson)       & female & 56 & 0 & 1 & 11767            &  83.1583 & C50         & C & 1\\\\\n",
       "\t881 & 881 & 1 & 2 & Shelley, Mrs. William (Imanita Parrish Hall)        & female & 25 & 0 & 1 & 230433           &  26.0000 &             & S & 1\\\\\n",
       "\t882 & 882 & 0 & 3 & Markun, Mr. Johann                                  & male   & 33 & 0 & 0 & 349257           &   7.8958 &             & S & 0\\\\\n",
       "\t883 & 883 & 0 & 3 & Dahlberg, Miss. Gerda Ulrika                        & female & 22 & 0 & 0 & 7552             &  10.5167 &             & S & 0\\\\\n",
       "\t884 & 884 & 0 & 2 & Banfield, Mr. Frederick James                       & male   & 28 & 0 & 0 & C.A./SOTON 34068 &  10.5000 &             & S & 0\\\\\n",
       "\t885 & 885 & 0 & 3 & Sutehall, Mr. Henry Jr                              & male   & 25 & 0 & 0 & SOTON/OQ 392076  &   7.0500 &             & S & 0\\\\\n",
       "\t886 & 886 & 0 & 3 & Rice, Mrs. William (Margaret Norton)                & female & 39 & 0 & 5 & 382652           &  29.1250 &             & Q & 5\\\\\n",
       "\t887 & 887 & 0 & 2 & Montvila, Rev. Juozas                               & male   & 27 & 0 & 0 & 211536           &  13.0000 &             & S & 0\\\\\n",
       "\t888 & 888 & 1 & 1 & Graham, Miss. Margaret Edith                        & female & 19 & 0 & 0 & 112053           &  30.0000 & B42         & S & 0\\\\\n",
       "\t890 & 890 & 1 & 1 & Behr, Mr. Karl Howell                               & male   & 26 & 0 & 0 & 111369           &  30.0000 & C148        & C & 0\\\\\n",
       "\t891 & 891 & 0 & 3 & Dooley, Mr. Patrick                                 & male   & 32 & 0 & 0 & 370376           &   7.7500 &             & Q & 0\\\\\n",
       "\\end{tabular}\n"
      ],
      "text/markdown": [
       "\n",
       "A data.frame: 714 x 13\n",
       "\n",
       "| <!--/--> | PassengerId &lt;int&gt; | Survived &lt;int&gt; | Pclass &lt;int&gt; | Name &lt;chr&gt; | Sex &lt;chr&gt; | Age &lt;dbl&gt; | SibSp &lt;int&gt; | Parch &lt;int&gt; | Ticket &lt;chr&gt; | Fare &lt;dbl&gt; | Cabin &lt;chr&gt; | Embarked &lt;chr&gt; | familyWhith &lt;int&gt; |\n",
       "|---|---|---|---|---|---|---|---|---|---|---|---|---|---|\n",
       "| 1 |  1 | 0 | 3 | Braund, Mr. Owen Harris                                   | male   | 22 | 1 | 0 | A/5 21171        |   7.2500 | <!----> | S | 1 |\n",
       "| 2 |  2 | 1 | 1 | Cumings, Mrs. John Bradley (Florence Briggs Thayer)       | female | 38 | 1 | 0 | PC 17599         |  71.2833 | C85         | C | 1 |\n",
       "| 3 |  3 | 1 | 3 | Heikkinen, Miss. Laina                                    | female | 26 | 0 | 0 | STON/O2. 3101282 |   7.9250 | <!----> | S | 0 |\n",
       "| 4 |  4 | 1 | 1 | Futrelle, Mrs. Jacques Heath (Lily May Peel)              | female | 35 | 1 | 0 | 113803           |  53.1000 | C123        | S | 1 |\n",
       "| 5 |  5 | 0 | 3 | Allen, Mr. William Henry                                  | male   | 35 | 0 | 0 | 373450           |   8.0500 | <!----> | S | 0 |\n",
       "| 7 |  7 | 0 | 1 | McCarthy, Mr. Timothy J                                   | male   | 54 | 0 | 0 | 17463            |  51.8625 | E46         | S | 0 |\n",
       "| 8 |  8 | 0 | 3 | Palsson, Master. Gosta Leonard                            | male   |  2 | 3 | 1 | 349909           |  21.0750 | <!----> | S | 4 |\n",
       "| 9 |  9 | 1 | 3 | Johnson, Mrs. Oscar W (Elisabeth Vilhelmina Berg)         | female | 27 | 0 | 2 | 347742           |  11.1333 | <!----> | S | 2 |\n",
       "| 10 | 10 | 1 | 2 | Nasser, Mrs. Nicholas (Adele Achem)                       | female | 14 | 1 | 0 | 237736           |  30.0708 | <!----> | C | 1 |\n",
       "| 11 | 11 | 1 | 3 | Sandstrom, Miss. Marguerite Rut                           | female |  4 | 1 | 1 | PP 9549          |  16.7000 | G6          | S | 2 |\n",
       "| 12 | 12 | 1 | 1 | Bonnell, Miss. Elizabeth                                  | female | 58 | 0 | 0 | 113783           |  26.5500 | C103        | S | 0 |\n",
       "| 13 | 13 | 0 | 3 | Saundercock, Mr. William Henry                            | male   | 20 | 0 | 0 | A/5. 2151        |   8.0500 | <!----> | S | 0 |\n",
       "| 14 | 14 | 0 | 3 | Andersson, Mr. Anders Johan                               | male   | 39 | 1 | 5 | 347082           |  31.2750 | <!----> | S | 6 |\n",
       "| 15 | 15 | 0 | 3 | Vestrom, Miss. Hulda Amanda Adolfina                      | female | 14 | 0 | 0 | 350406           |   7.8542 | <!----> | S | 0 |\n",
       "| 16 | 16 | 1 | 2 | Hewlett, Mrs. (Mary D Kingcome)                           | female | 55 | 0 | 0 | 248706           |  16.0000 | <!----> | S | 0 |\n",
       "| 17 | 17 | 0 | 3 | Rice, Master. Eugene                                      | male   |  2 | 4 | 1 | 382652           |  29.1250 | <!----> | Q | 5 |\n",
       "| 19 | 19 | 0 | 3 | Vander Planke, Mrs. Julius (Emelia Maria Vandemoortele)   | female | 31 | 1 | 0 | 345763           |  18.0000 | <!----> | S | 1 |\n",
       "| 21 | 21 | 0 | 2 | Fynney, Mr. Joseph J                                      | male   | 35 | 0 | 0 | 239865           |  26.0000 | <!----> | S | 0 |\n",
       "| 22 | 22 | 1 | 2 | Beesley, Mr. Lawrence                                     | male   | 34 | 0 | 0 | 248698           |  13.0000 | D56         | S | 0 |\n",
       "| 23 | 23 | 1 | 3 | McGowan, Miss. Anna \"Annie\"                               | female | 15 | 0 | 0 | 330923           |   8.0292 | <!----> | Q | 0 |\n",
       "| 24 | 24 | 1 | 1 | Sloper, Mr. William Thompson                              | male   | 28 | 0 | 0 | 113788           |  35.5000 | A6          | S | 0 |\n",
       "| 25 | 25 | 0 | 3 | Palsson, Miss. Torborg Danira                             | female |  8 | 3 | 1 | 349909           |  21.0750 | <!----> | S | 4 |\n",
       "| 26 | 26 | 1 | 3 | Asplund, Mrs. Carl Oscar (Selma Augusta Emilia Johansson) | female | 38 | 1 | 5 | 347077           |  31.3875 | <!----> | S | 6 |\n",
       "| 28 | 28 | 0 | 1 | Fortune, Mr. Charles Alexander                            | male   | 19 | 3 | 2 | 19950            | 263.0000 | C23 C25 C27 | S | 5 |\n",
       "| 31 | 31 | 0 | 1 | Uruchurtu, Don. Manuel E                                  | male   | 40 | 0 | 0 | PC 17601         |  27.7208 | <!----> | C | 0 |\n",
       "| 34 | 34 | 0 | 2 | Wheadon, Mr. Edward H                                     | male   | 66 | 0 | 0 | C.A. 24579       |  10.5000 | <!----> | S | 0 |\n",
       "| 35 | 35 | 0 | 1 | Meyer, Mr. Edgar Joseph                                   | male   | 28 | 1 | 0 | PC 17604         |  82.1708 | <!----> | C | 1 |\n",
       "| 36 | 36 | 0 | 1 | Holverson, Mr. Alexander Oskar                            | male   | 42 | 1 | 0 | 113789           |  52.0000 | <!----> | S | 1 |\n",
       "| 38 | 38 | 0 | 3 | Cann, Mr. Ernest Charles                                  | male   | 21 | 0 | 0 | A./5. 2152       |   8.0500 | <!----> | S | 0 |\n",
       "| 39 | 39 | 0 | 3 | Vander Planke, Miss. Augusta Maria                        | female | 18 | 2 | 0 | 345764           |  18.0000 | <!----> | S | 2 |\n",
       "| ... | ... | ... | ... | ... | ... | ... | ... | ... | ... | ... | ... | ... | ... |\n",
       "| 857 | 857 | 1 | 1 | Wick, Mrs. George Dennick (Mary Hitchcock)          | female | 45 | 1 | 1 | 36928            | 164.8667 | <!----> | S | 2 |\n",
       "| 858 | 858 | 1 | 1 | Daly, Mr. Peter Denis                               | male   | 51 | 0 | 0 | 113055           |  26.5500 | E17         | S | 0 |\n",
       "| 859 | 859 | 1 | 3 | Baclini, Mrs. Solomon (Latifa Qurban)               | female | 24 | 0 | 3 | 2666             |  19.2583 | <!----> | C | 3 |\n",
       "| 861 | 861 | 0 | 3 | Hansen, Mr. Claus Peter                             | male   | 41 | 2 | 0 | 350026           |  14.1083 | <!----> | S | 2 |\n",
       "| 862 | 862 | 0 | 2 | Giles, Mr. Frederick Edward                         | male   | 21 | 1 | 0 | 28134            |  11.5000 | <!----> | S | 1 |\n",
       "| 863 | 863 | 1 | 1 | Swift, Mrs. Frederick Joel (Margaret Welles Barron) | female | 48 | 0 | 0 | 17466            |  25.9292 | D17         | S | 0 |\n",
       "| 865 | 865 | 0 | 2 | Gill, Mr. John William                              | male   | 24 | 0 | 0 | 233866           |  13.0000 | <!----> | S | 0 |\n",
       "| 866 | 866 | 1 | 2 | Bystrom, Mrs. (Karolina)                            | female | 42 | 0 | 0 | 236852           |  13.0000 | <!----> | S | 0 |\n",
       "| 867 | 867 | 1 | 2 | Duran y More, Miss. Asuncion                        | female | 27 | 1 | 0 | SC/PARIS 2149    |  13.8583 | <!----> | C | 1 |\n",
       "| 868 | 868 | 0 | 1 | Roebling, Mr. Washington Augustus II                | male   | 31 | 0 | 0 | PC 17590         |  50.4958 | A24         | S | 0 |\n",
       "| 870 | 870 | 1 | 3 | Johnson, Master. Harold Theodor                     | male   |  4 | 1 | 1 | 347742           |  11.1333 | <!----> | S | 2 |\n",
       "| 871 | 871 | 0 | 3 | Balkic, Mr. Cerin                                   | male   | 26 | 0 | 0 | 349248           |   7.8958 | <!----> | S | 0 |\n",
       "| 872 | 872 | 1 | 1 | Beckwith, Mrs. Richard Leonard (Sallie Monypeny)    | female | 47 | 1 | 1 | 11751            |  52.5542 | D35         | S | 2 |\n",
       "| 873 | 873 | 0 | 1 | Carlsson, Mr. Frans Olof                            | male   | 33 | 0 | 0 | 695              |   5.0000 | B51 B53 B55 | S | 0 |\n",
       "| 874 | 874 | 0 | 3 | Vander Cruyssen, Mr. Victor                         | male   | 47 | 0 | 0 | 345765           |   9.0000 | <!----> | S | 0 |\n",
       "| 875 | 875 | 1 | 2 | Abelson, Mrs. Samuel (Hannah Wizosky)               | female | 28 | 1 | 0 | P/PP 3381        |  24.0000 | <!----> | C | 1 |\n",
       "| 876 | 876 | 1 | 3 | Najib, Miss. Adele Kiamie \"Jane\"                    | female | 15 | 0 | 0 | 2667             |   7.2250 | <!----> | C | 0 |\n",
       "| 877 | 877 | 0 | 3 | Gustafsson, Mr. Alfred Ossian                       | male   | 20 | 0 | 0 | 7534             |   9.8458 | <!----> | S | 0 |\n",
       "| 878 | 878 | 0 | 3 | Petroff, Mr. Nedelio                                | male   | 19 | 0 | 0 | 349212           |   7.8958 | <!----> | S | 0 |\n",
       "| 880 | 880 | 1 | 1 | Potter, Mrs. Thomas Jr (Lily Alexenia Wilson)       | female | 56 | 0 | 1 | 11767            |  83.1583 | C50         | C | 1 |\n",
       "| 881 | 881 | 1 | 2 | Shelley, Mrs. William (Imanita Parrish Hall)        | female | 25 | 0 | 1 | 230433           |  26.0000 | <!----> | S | 1 |\n",
       "| 882 | 882 | 0 | 3 | Markun, Mr. Johann                                  | male   | 33 | 0 | 0 | 349257           |   7.8958 | <!----> | S | 0 |\n",
       "| 883 | 883 | 0 | 3 | Dahlberg, Miss. Gerda Ulrika                        | female | 22 | 0 | 0 | 7552             |  10.5167 | <!----> | S | 0 |\n",
       "| 884 | 884 | 0 | 2 | Banfield, Mr. Frederick James                       | male   | 28 | 0 | 0 | C.A./SOTON 34068 |  10.5000 | <!----> | S | 0 |\n",
       "| 885 | 885 | 0 | 3 | Sutehall, Mr. Henry Jr                              | male   | 25 | 0 | 0 | SOTON/OQ 392076  |   7.0500 | <!----> | S | 0 |\n",
       "| 886 | 886 | 0 | 3 | Rice, Mrs. William (Margaret Norton)                | female | 39 | 0 | 5 | 382652           |  29.1250 | <!----> | Q | 5 |\n",
       "| 887 | 887 | 0 | 2 | Montvila, Rev. Juozas                               | male   | 27 | 0 | 0 | 211536           |  13.0000 | <!----> | S | 0 |\n",
       "| 888 | 888 | 1 | 1 | Graham, Miss. Margaret Edith                        | female | 19 | 0 | 0 | 112053           |  30.0000 | B42         | S | 0 |\n",
       "| 890 | 890 | 1 | 1 | Behr, Mr. Karl Howell                               | male   | 26 | 0 | 0 | 111369           |  30.0000 | C148        | C | 0 |\n",
       "| 891 | 891 | 0 | 3 | Dooley, Mr. Patrick                                 | male   | 32 | 0 | 0 | 370376           |   7.7500 | <!----> | Q | 0 |\n",
       "\n"
      ],
      "text/plain": [
       "    PassengerId Survived Pclass\n",
       "1    1          0        3     \n",
       "2    2          1        1     \n",
       "3    3          1        3     \n",
       "4    4          1        1     \n",
       "5    5          0        3     \n",
       "7    7          0        1     \n",
       "8    8          0        3     \n",
       "9    9          1        3     \n",
       "10  10          1        2     \n",
       "11  11          1        3     \n",
       "12  12          1        1     \n",
       "13  13          0        3     \n",
       "14  14          0        3     \n",
       "15  15          0        3     \n",
       "16  16          1        2     \n",
       "17  17          0        3     \n",
       "19  19          0        3     \n",
       "21  21          0        2     \n",
       "22  22          1        2     \n",
       "23  23          1        3     \n",
       "24  24          1        1     \n",
       "25  25          0        3     \n",
       "26  26          1        3     \n",
       "28  28          0        1     \n",
       "31  31          0        1     \n",
       "34  34          0        2     \n",
       "35  35          0        1     \n",
       "36  36          0        1     \n",
       "38  38          0        3     \n",
       "39  39          0        3     \n",
       "... ...         ...      ...   \n",
       "857 857         1        1     \n",
       "858 858         1        1     \n",
       "859 859         1        3     \n",
       "861 861         0        3     \n",
       "862 862         0        2     \n",
       "863 863         1        1     \n",
       "865 865         0        2     \n",
       "866 866         1        2     \n",
       "867 867         1        2     \n",
       "868 868         0        1     \n",
       "870 870         1        3     \n",
       "871 871         0        3     \n",
       "872 872         1        1     \n",
       "873 873         0        1     \n",
       "874 874         0        3     \n",
       "875 875         1        2     \n",
       "876 876         1        3     \n",
       "877 877         0        3     \n",
       "878 878         0        3     \n",
       "880 880         1        1     \n",
       "881 881         1        2     \n",
       "882 882         0        3     \n",
       "883 883         0        3     \n",
       "884 884         0        2     \n",
       "885 885         0        3     \n",
       "886 886         0        3     \n",
       "887 887         0        2     \n",
       "888 888         1        1     \n",
       "890 890         1        1     \n",
       "891 891         0        3     \n",
       "    Name                                                      Sex    Age SibSp\n",
       "1   Braund, Mr. Owen Harris                                   male   22  1    \n",
       "2   Cumings, Mrs. John Bradley (Florence Briggs Thayer)       female 38  1    \n",
       "3   Heikkinen, Miss. Laina                                    female 26  0    \n",
       "4   Futrelle, Mrs. Jacques Heath (Lily May Peel)              female 35  1    \n",
       "5   Allen, Mr. William Henry                                  male   35  0    \n",
       "7   McCarthy, Mr. Timothy J                                   male   54  0    \n",
       "8   Palsson, Master. Gosta Leonard                            male    2  3    \n",
       "9   Johnson, Mrs. Oscar W (Elisabeth Vilhelmina Berg)         female 27  0    \n",
       "10  Nasser, Mrs. Nicholas (Adele Achem)                       female 14  1    \n",
       "11  Sandstrom, Miss. Marguerite Rut                           female  4  1    \n",
       "12  Bonnell, Miss. Elizabeth                                  female 58  0    \n",
       "13  Saundercock, Mr. William Henry                            male   20  0    \n",
       "14  Andersson, Mr. Anders Johan                               male   39  1    \n",
       "15  Vestrom, Miss. Hulda Amanda Adolfina                      female 14  0    \n",
       "16  Hewlett, Mrs. (Mary D Kingcome)                           female 55  0    \n",
       "17  Rice, Master. Eugene                                      male    2  4    \n",
       "19  Vander Planke, Mrs. Julius (Emelia Maria Vandemoortele)   female 31  1    \n",
       "21  Fynney, Mr. Joseph J                                      male   35  0    \n",
       "22  Beesley, Mr. Lawrence                                     male   34  0    \n",
       "23  McGowan, Miss. Anna \"Annie\"                               female 15  0    \n",
       "24  Sloper, Mr. William Thompson                              male   28  0    \n",
       "25  Palsson, Miss. Torborg Danira                             female  8  3    \n",
       "26  Asplund, Mrs. Carl Oscar (Selma Augusta Emilia Johansson) female 38  1    \n",
       "28  Fortune, Mr. Charles Alexander                            male   19  3    \n",
       "31  Uruchurtu, Don. Manuel E                                  male   40  0    \n",
       "34  Wheadon, Mr. Edward H                                     male   66  0    \n",
       "35  Meyer, Mr. Edgar Joseph                                   male   28  1    \n",
       "36  Holverson, Mr. Alexander Oskar                            male   42  1    \n",
       "38  Cann, Mr. Ernest Charles                                  male   21  0    \n",
       "39  Vander Planke, Miss. Augusta Maria                        female 18  2    \n",
       "... ...                                                       ...    ... ...  \n",
       "857 Wick, Mrs. George Dennick (Mary Hitchcock)                female 45  1    \n",
       "858 Daly, Mr. Peter Denis                                     male   51  0    \n",
       "859 Baclini, Mrs. Solomon (Latifa Qurban)                     female 24  0    \n",
       "861 Hansen, Mr. Claus Peter                                   male   41  2    \n",
       "862 Giles, Mr. Frederick Edward                               male   21  1    \n",
       "863 Swift, Mrs. Frederick Joel (Margaret Welles Barron)       female 48  0    \n",
       "865 Gill, Mr. John William                                    male   24  0    \n",
       "866 Bystrom, Mrs. (Karolina)                                  female 42  0    \n",
       "867 Duran y More, Miss. Asuncion                              female 27  1    \n",
       "868 Roebling, Mr. Washington Augustus II                      male   31  0    \n",
       "870 Johnson, Master. Harold Theodor                           male    4  1    \n",
       "871 Balkic, Mr. Cerin                                         male   26  0    \n",
       "872 Beckwith, Mrs. Richard Leonard (Sallie Monypeny)          female 47  1    \n",
       "873 Carlsson, Mr. Frans Olof                                  male   33  0    \n",
       "874 Vander Cruyssen, Mr. Victor                               male   47  0    \n",
       "875 Abelson, Mrs. Samuel (Hannah Wizosky)                     female 28  1    \n",
       "876 Najib, Miss. Adele Kiamie \"Jane\"                          female 15  0    \n",
       "877 Gustafsson, Mr. Alfred Ossian                             male   20  0    \n",
       "878 Petroff, Mr. Nedelio                                      male   19  0    \n",
       "880 Potter, Mrs. Thomas Jr (Lily Alexenia Wilson)             female 56  0    \n",
       "881 Shelley, Mrs. William (Imanita Parrish Hall)              female 25  0    \n",
       "882 Markun, Mr. Johann                                        male   33  0    \n",
       "883 Dahlberg, Miss. Gerda Ulrika                              female 22  0    \n",
       "884 Banfield, Mr. Frederick James                             male   28  0    \n",
       "885 Sutehall, Mr. Henry Jr                                    male   25  0    \n",
       "886 Rice, Mrs. William (Margaret Norton)                      female 39  0    \n",
       "887 Montvila, Rev. Juozas                                     male   27  0    \n",
       "888 Graham, Miss. Margaret Edith                              female 19  0    \n",
       "890 Behr, Mr. Karl Howell                                     male   26  0    \n",
       "891 Dooley, Mr. Patrick                                       male   32  0    \n",
       "    Parch Ticket           Fare     Cabin       Embarked familyWhith\n",
       "1   0     A/5 21171          7.2500             S        1          \n",
       "2   0     PC 17599          71.2833 C85         C        1          \n",
       "3   0     STON/O2. 3101282   7.9250             S        0          \n",
       "4   0     113803            53.1000 C123        S        1          \n",
       "5   0     373450             8.0500             S        0          \n",
       "7   0     17463             51.8625 E46         S        0          \n",
       "8   1     349909            21.0750             S        4          \n",
       "9   2     347742            11.1333             S        2          \n",
       "10  0     237736            30.0708             C        1          \n",
       "11  1     PP 9549           16.7000 G6          S        2          \n",
       "12  0     113783            26.5500 C103        S        0          \n",
       "13  0     A/5. 2151          8.0500             S        0          \n",
       "14  5     347082            31.2750             S        6          \n",
       "15  0     350406             7.8542             S        0          \n",
       "16  0     248706            16.0000             S        0          \n",
       "17  1     382652            29.1250             Q        5          \n",
       "19  0     345763            18.0000             S        1          \n",
       "21  0     239865            26.0000             S        0          \n",
       "22  0     248698            13.0000 D56         S        0          \n",
       "23  0     330923             8.0292             Q        0          \n",
       "24  0     113788            35.5000 A6          S        0          \n",
       "25  1     349909            21.0750             S        4          \n",
       "26  5     347077            31.3875             S        6          \n",
       "28  2     19950            263.0000 C23 C25 C27 S        5          \n",
       "31  0     PC 17601          27.7208             C        0          \n",
       "34  0     C.A. 24579        10.5000             S        0          \n",
       "35  0     PC 17604          82.1708             C        1          \n",
       "36  0     113789            52.0000             S        1          \n",
       "38  0     A./5. 2152         8.0500             S        0          \n",
       "39  0     345764            18.0000             S        2          \n",
       "... ...   ...              ...      ...         ...      ...        \n",
       "857 1     36928            164.8667             S        2          \n",
       "858 0     113055            26.5500 E17         S        0          \n",
       "859 3     2666              19.2583             C        3          \n",
       "861 0     350026            14.1083             S        2          \n",
       "862 0     28134             11.5000             S        1          \n",
       "863 0     17466             25.9292 D17         S        0          \n",
       "865 0     233866            13.0000             S        0          \n",
       "866 0     236852            13.0000             S        0          \n",
       "867 0     SC/PARIS 2149     13.8583             C        1          \n",
       "868 0     PC 17590          50.4958 A24         S        0          \n",
       "870 1     347742            11.1333             S        2          \n",
       "871 0     349248             7.8958             S        0          \n",
       "872 1     11751             52.5542 D35         S        2          \n",
       "873 0     695                5.0000 B51 B53 B55 S        0          \n",
       "874 0     345765             9.0000             S        0          \n",
       "875 0     P/PP 3381         24.0000             C        1          \n",
       "876 0     2667               7.2250             C        0          \n",
       "877 0     7534               9.8458             S        0          \n",
       "878 0     349212             7.8958             S        0          \n",
       "880 1     11767             83.1583 C50         C        1          \n",
       "881 1     230433            26.0000             S        1          \n",
       "882 0     349257             7.8958             S        0          \n",
       "883 0     7552              10.5167             S        0          \n",
       "884 0     C.A./SOTON 34068  10.5000             S        0          \n",
       "885 0     SOTON/OQ 392076    7.0500             S        0          \n",
       "886 5     382652            29.1250             Q        5          \n",
       "887 0     211536            13.0000             S        0          \n",
       "888 0     112053            30.0000 B42         S        0          \n",
       "890 0     111369            30.0000 C148        C        0          \n",
       "891 0     370376             7.7500             Q        0          "
      ]
     },
     "metadata": {},
     "output_type": "display_data"
    },
    {
     "data": {
      "text/plain": [
       "\n",
       "  1   2   3 \n",
       "186 173 355 "
      ]
     },
     "metadata": {},
     "output_type": "display_data"
    }
   ],
   "source": [
    "#  나이가 NA 인 사람들중에 3등급 티켓인 사람들이 압도적으로 높다\n",
    "withoutNA<- subset(tai, !is.na(tai$Age))\n",
    "withoutNA\n",
    "\n",
    "table(withoutNA$Pclass)"
   ]
  },
  {
   "cell_type": "code",
   "execution_count": 10,
   "metadata": {
    "vscode": {
     "languageId": "r"
    }
   },
   "outputs": [
    {
     "data": {
      "text/html": [
       "<table class=\"dataframe\">\n",
       "<caption>A data.frame: 355 x 13</caption>\n",
       "<thead>\n",
       "\t<tr><th></th><th scope=col>PassengerId</th><th scope=col>Survived</th><th scope=col>Pclass</th><th scope=col>Name</th><th scope=col>Sex</th><th scope=col>Age</th><th scope=col>SibSp</th><th scope=col>Parch</th><th scope=col>Ticket</th><th scope=col>Fare</th><th scope=col>Cabin</th><th scope=col>Embarked</th><th scope=col>familyWhith</th></tr>\n",
       "\t<tr><th></th><th scope=col>&lt;int&gt;</th><th scope=col>&lt;int&gt;</th><th scope=col>&lt;int&gt;</th><th scope=col>&lt;chr&gt;</th><th scope=col>&lt;chr&gt;</th><th scope=col>&lt;dbl&gt;</th><th scope=col>&lt;int&gt;</th><th scope=col>&lt;int&gt;</th><th scope=col>&lt;chr&gt;</th><th scope=col>&lt;dbl&gt;</th><th scope=col>&lt;chr&gt;</th><th scope=col>&lt;chr&gt;</th><th scope=col>&lt;int&gt;</th></tr>\n",
       "</thead>\n",
       "<tbody>\n",
       "\t<tr><th scope=row>1</th><td> 1</td><td>0</td><td>3</td><td>Braund, Mr. Owen Harris                                  </td><td>male  </td><td>22.0</td><td>1</td><td>0</td><td>A/5 21171       </td><td> 7.2500</td><td>  </td><td>S</td><td>1</td></tr>\n",
       "\t<tr><th scope=row>3</th><td> 3</td><td>1</td><td>3</td><td>Heikkinen, Miss. Laina                                   </td><td>female</td><td>26.0</td><td>0</td><td>0</td><td>STON/O2. 3101282</td><td> 7.9250</td><td>  </td><td>S</td><td>0</td></tr>\n",
       "\t<tr><th scope=row>5</th><td> 5</td><td>0</td><td>3</td><td>Allen, Mr. William Henry                                 </td><td>male  </td><td>35.0</td><td>0</td><td>0</td><td>373450          </td><td> 8.0500</td><td>  </td><td>S</td><td>0</td></tr>\n",
       "\t<tr><th scope=row>8</th><td> 8</td><td>0</td><td>3</td><td>Palsson, Master. Gosta Leonard                           </td><td>male  </td><td> 2.0</td><td>3</td><td>1</td><td>349909          </td><td>21.0750</td><td>  </td><td>S</td><td>4</td></tr>\n",
       "\t<tr><th scope=row>9</th><td> 9</td><td>1</td><td>3</td><td>Johnson, Mrs. Oscar W (Elisabeth Vilhelmina Berg)        </td><td>female</td><td>27.0</td><td>0</td><td>2</td><td>347742          </td><td>11.1333</td><td>  </td><td>S</td><td>2</td></tr>\n",
       "\t<tr><th scope=row>11</th><td>11</td><td>1</td><td>3</td><td>Sandstrom, Miss. Marguerite Rut                          </td><td>female</td><td> 4.0</td><td>1</td><td>1</td><td>PP 9549         </td><td>16.7000</td><td>G6</td><td>S</td><td>2</td></tr>\n",
       "\t<tr><th scope=row>13</th><td>13</td><td>0</td><td>3</td><td>Saundercock, Mr. William Henry                           </td><td>male  </td><td>20.0</td><td>0</td><td>0</td><td>A/5. 2151       </td><td> 8.0500</td><td>  </td><td>S</td><td>0</td></tr>\n",
       "\t<tr><th scope=row>14</th><td>14</td><td>0</td><td>3</td><td>Andersson, Mr. Anders Johan                              </td><td>male  </td><td>39.0</td><td>1</td><td>5</td><td>347082          </td><td>31.2750</td><td>  </td><td>S</td><td>6</td></tr>\n",
       "\t<tr><th scope=row>15</th><td>15</td><td>0</td><td>3</td><td>Vestrom, Miss. Hulda Amanda Adolfina                     </td><td>female</td><td>14.0</td><td>0</td><td>0</td><td>350406          </td><td> 7.8542</td><td>  </td><td>S</td><td>0</td></tr>\n",
       "\t<tr><th scope=row>17</th><td>17</td><td>0</td><td>3</td><td>Rice, Master. Eugene                                     </td><td>male  </td><td> 2.0</td><td>4</td><td>1</td><td>382652          </td><td>29.1250</td><td>  </td><td>Q</td><td>5</td></tr>\n",
       "\t<tr><th scope=row>19</th><td>19</td><td>0</td><td>3</td><td>Vander Planke, Mrs. Julius (Emelia Maria Vandemoortele)  </td><td>female</td><td>31.0</td><td>1</td><td>0</td><td>345763          </td><td>18.0000</td><td>  </td><td>S</td><td>1</td></tr>\n",
       "\t<tr><th scope=row>23</th><td>23</td><td>1</td><td>3</td><td>McGowan, Miss. Anna \"Annie\"                              </td><td>female</td><td>15.0</td><td>0</td><td>0</td><td>330923          </td><td> 8.0292</td><td>  </td><td>Q</td><td>0</td></tr>\n",
       "\t<tr><th scope=row>25</th><td>25</td><td>0</td><td>3</td><td>Palsson, Miss. Torborg Danira                            </td><td>female</td><td> 8.0</td><td>3</td><td>1</td><td>349909          </td><td>21.0750</td><td>  </td><td>S</td><td>4</td></tr>\n",
       "\t<tr><th scope=row>26</th><td>26</td><td>1</td><td>3</td><td>Asplund, Mrs. Carl Oscar (Selma Augusta Emilia Johansson)</td><td>female</td><td>38.0</td><td>1</td><td>5</td><td>347077          </td><td>31.3875</td><td>  </td><td>S</td><td>6</td></tr>\n",
       "\t<tr><th scope=row>38</th><td>38</td><td>0</td><td>3</td><td>Cann, Mr. Ernest Charles                                 </td><td>male  </td><td>21.0</td><td>0</td><td>0</td><td>A./5. 2152      </td><td> 8.0500</td><td>  </td><td>S</td><td>0</td></tr>\n",
       "\t<tr><th scope=row>39</th><td>39</td><td>0</td><td>3</td><td>Vander Planke, Miss. Augusta Maria                       </td><td>female</td><td>18.0</td><td>2</td><td>0</td><td>345764          </td><td>18.0000</td><td>  </td><td>S</td><td>2</td></tr>\n",
       "\t<tr><th scope=row>40</th><td>40</td><td>1</td><td>3</td><td>Nicola-Yarred, Miss. Jamila                              </td><td>female</td><td>14.0</td><td>1</td><td>0</td><td>2651            </td><td>11.2417</td><td>  </td><td>C</td><td>1</td></tr>\n",
       "\t<tr><th scope=row>41</th><td>41</td><td>0</td><td>3</td><td>Ahlin, Mrs. Johan (Johanna Persdotter Larsson)           </td><td>female</td><td>40.0</td><td>1</td><td>0</td><td>7546            </td><td> 9.4750</td><td>  </td><td>S</td><td>1</td></tr>\n",
       "\t<tr><th scope=row>45</th><td>45</td><td>1</td><td>3</td><td>Devaney, Miss. Margaret Delia                            </td><td>female</td><td>19.0</td><td>0</td><td>0</td><td>330958          </td><td> 7.8792</td><td>  </td><td>Q</td><td>0</td></tr>\n",
       "\t<tr><th scope=row>50</th><td>50</td><td>0</td><td>3</td><td>Arnold-Franchi, Mrs. Josef (Josefine Franchi)            </td><td>female</td><td>18.0</td><td>1</td><td>0</td><td>349237          </td><td>17.8000</td><td>  </td><td>S</td><td>1</td></tr>\n",
       "\t<tr><th scope=row>51</th><td>51</td><td>0</td><td>3</td><td>Panula, Master. Juha Niilo                               </td><td>male  </td><td> 7.0</td><td>4</td><td>1</td><td>3101295         </td><td>39.6875</td><td>  </td><td>S</td><td>5</td></tr>\n",
       "\t<tr><th scope=row>52</th><td>52</td><td>0</td><td>3</td><td>Nosworthy, Mr. Richard Cater                             </td><td>male  </td><td>21.0</td><td>0</td><td>0</td><td>A/4. 39886      </td><td> 7.8000</td><td>  </td><td>S</td><td>0</td></tr>\n",
       "\t<tr><th scope=row>58</th><td>58</td><td>0</td><td>3</td><td>Novel, Mr. Mansouer                                      </td><td>male  </td><td>28.5</td><td>0</td><td>0</td><td>2697            </td><td> 7.2292</td><td>  </td><td>C</td><td>0</td></tr>\n",
       "\t<tr><th scope=row>60</th><td>60</td><td>0</td><td>3</td><td>Goodwin, Master. William Frederick                       </td><td>male  </td><td>11.0</td><td>5</td><td>2</td><td>CA 2144         </td><td>46.9000</td><td>  </td><td>S</td><td>7</td></tr>\n",
       "\t<tr><th scope=row>61</th><td>61</td><td>0</td><td>3</td><td>Sirayanian, Mr. Orsen                                    </td><td>male  </td><td>22.0</td><td>0</td><td>0</td><td>2669            </td><td> 7.2292</td><td>  </td><td>C</td><td>0</td></tr>\n",
       "\t<tr><th scope=row>64</th><td>64</td><td>0</td><td>3</td><td>Skoog, Master. Harald                                    </td><td>male  </td><td> 4.0</td><td>3</td><td>2</td><td>347088          </td><td>27.9000</td><td>  </td><td>S</td><td>5</td></tr>\n",
       "\t<tr><th scope=row>68</th><td>68</td><td>0</td><td>3</td><td>Crease, Mr. Ernest James                                 </td><td>male  </td><td>19.0</td><td>0</td><td>0</td><td>S.P. 3464       </td><td> 8.1583</td><td>  </td><td>S</td><td>0</td></tr>\n",
       "\t<tr><th scope=row>69</th><td>69</td><td>1</td><td>3</td><td>Andersson, Miss. Erna Alexandra                          </td><td>female</td><td>17.0</td><td>4</td><td>2</td><td>3101281         </td><td> 7.9250</td><td>  </td><td>S</td><td>6</td></tr>\n",
       "\t<tr><th scope=row>70</th><td>70</td><td>0</td><td>3</td><td>Kink, Mr. Vincenz                                        </td><td>male  </td><td>26.0</td><td>2</td><td>0</td><td>315151          </td><td> 8.6625</td><td>  </td><td>S</td><td>2</td></tr>\n",
       "\t<tr><th scope=row>72</th><td>72</td><td>0</td><td>3</td><td>Goodwin, Miss. Lillian Amy                               </td><td>female</td><td>16.0</td><td>5</td><td>2</td><td>CA 2144         </td><td>46.9000</td><td>  </td><td>S</td><td>7</td></tr>\n",
       "\t<tr><th scope=row>...</th><td>...</td><td>...</td><td>...</td><td>...</td><td>...</td><td>...</td><td>...</td><td>...</td><td>...</td><td>...</td><td>...</td><td>...</td><td>...</td></tr>\n",
       "\t<tr><th scope=row>822</th><td>822</td><td>1</td><td>3</td><td>Lulic, Mr. Nikola                      </td><td>male  </td><td>27.0</td><td>0</td><td>0</td><td>315098          </td><td> 8.6625</td><td>    </td><td>S</td><td>0</td></tr>\n",
       "\t<tr><th scope=row>824</th><td>824</td><td>1</td><td>3</td><td>Moor, Mrs. (Beila)                     </td><td>female</td><td>27.0</td><td>0</td><td>1</td><td>392096          </td><td>12.4750</td><td>E121</td><td>S</td><td>1</td></tr>\n",
       "\t<tr><th scope=row>825</th><td>825</td><td>0</td><td>3</td><td>Panula, Master. Urho Abraham           </td><td>male  </td><td> 2.0</td><td>4</td><td>1</td><td>3101295         </td><td>39.6875</td><td>    </td><td>S</td><td>5</td></tr>\n",
       "\t<tr><th scope=row>831</th><td>831</td><td>1</td><td>3</td><td>Yasbeck, Mrs. Antoni (Selini Alexander)</td><td>female</td><td>15.0</td><td>1</td><td>0</td><td>2659            </td><td>14.4542</td><td>    </td><td>C</td><td>1</td></tr>\n",
       "\t<tr><th scope=row>834</th><td>834</td><td>0</td><td>3</td><td>Augustsson, Mr. Albert                 </td><td>male  </td><td>23.0</td><td>0</td><td>0</td><td>347468          </td><td> 7.8542</td><td>    </td><td>S</td><td>0</td></tr>\n",
       "\t<tr><th scope=row>835</th><td>835</td><td>0</td><td>3</td><td>Allum, Mr. Owen George                 </td><td>male  </td><td>18.0</td><td>0</td><td>0</td><td>2223            </td><td> 8.3000</td><td>    </td><td>S</td><td>0</td></tr>\n",
       "\t<tr><th scope=row>837</th><td>837</td><td>0</td><td>3</td><td>Pasic, Mr. Jakob                       </td><td>male  </td><td>21.0</td><td>0</td><td>0</td><td>315097          </td><td> 8.6625</td><td>    </td><td>S</td><td>0</td></tr>\n",
       "\t<tr><th scope=row>839</th><td>839</td><td>1</td><td>3</td><td>Chip, Mr. Chang                        </td><td>male  </td><td>32.0</td><td>0</td><td>0</td><td>1601            </td><td>56.4958</td><td>    </td><td>S</td><td>0</td></tr>\n",
       "\t<tr><th scope=row>841</th><td>841</td><td>0</td><td>3</td><td>Alhomaki, Mr. Ilmari Rudolf            </td><td>male  </td><td>20.0</td><td>0</td><td>0</td><td>SOTON/O2 3101287</td><td> 7.9250</td><td>    </td><td>S</td><td>0</td></tr>\n",
       "\t<tr><th scope=row>844</th><td>844</td><td>0</td><td>3</td><td>Lemberopolous, Mr. Peter L             </td><td>male  </td><td>34.5</td><td>0</td><td>0</td><td>2683            </td><td> 6.4375</td><td>    </td><td>C</td><td>0</td></tr>\n",
       "\t<tr><th scope=row>845</th><td>845</td><td>0</td><td>3</td><td>Culumovic, Mr. Jeso                    </td><td>male  </td><td>17.0</td><td>0</td><td>0</td><td>315090          </td><td> 8.6625</td><td>    </td><td>S</td><td>0</td></tr>\n",
       "\t<tr><th scope=row>846</th><td>846</td><td>0</td><td>3</td><td>Abbing, Mr. Anthony                    </td><td>male  </td><td>42.0</td><td>0</td><td>0</td><td>C.A. 5547       </td><td> 7.5500</td><td>    </td><td>S</td><td>0</td></tr>\n",
       "\t<tr><th scope=row>848</th><td>848</td><td>0</td><td>3</td><td>Markoff, Mr. Marin                     </td><td>male  </td><td>35.0</td><td>0</td><td>0</td><td>349213          </td><td> 7.8958</td><td>    </td><td>C</td><td>0</td></tr>\n",
       "\t<tr><th scope=row>851</th><td>851</td><td>0</td><td>3</td><td>Andersson, Master. Sigvard Harald Elias</td><td>male  </td><td> 4.0</td><td>4</td><td>2</td><td>347082          </td><td>31.2750</td><td>    </td><td>S</td><td>6</td></tr>\n",
       "\t<tr><th scope=row>852</th><td>852</td><td>0</td><td>3</td><td>Svensson, Mr. Johan                    </td><td>male  </td><td>74.0</td><td>0</td><td>0</td><td>347060          </td><td> 7.7750</td><td>    </td><td>S</td><td>0</td></tr>\n",
       "\t<tr><th scope=row>853</th><td>853</td><td>0</td><td>3</td><td>Boulos, Miss. Nourelain                </td><td>female</td><td> 9.0</td><td>1</td><td>1</td><td>2678            </td><td>15.2458</td><td>    </td><td>C</td><td>2</td></tr>\n",
       "\t<tr><th scope=row>856</th><td>856</td><td>1</td><td>3</td><td>Aks, Mrs. Sam (Leah Rosen)             </td><td>female</td><td>18.0</td><td>0</td><td>1</td><td>392091          </td><td> 9.3500</td><td>    </td><td>S</td><td>1</td></tr>\n",
       "\t<tr><th scope=row>859</th><td>859</td><td>1</td><td>3</td><td>Baclini, Mrs. Solomon (Latifa Qurban)  </td><td>female</td><td>24.0</td><td>0</td><td>3</td><td>2666            </td><td>19.2583</td><td>    </td><td>C</td><td>3</td></tr>\n",
       "\t<tr><th scope=row>861</th><td>861</td><td>0</td><td>3</td><td>Hansen, Mr. Claus Peter                </td><td>male  </td><td>41.0</td><td>2</td><td>0</td><td>350026          </td><td>14.1083</td><td>    </td><td>S</td><td>2</td></tr>\n",
       "\t<tr><th scope=row>870</th><td>870</td><td>1</td><td>3</td><td>Johnson, Master. Harold Theodor        </td><td>male  </td><td> 4.0</td><td>1</td><td>1</td><td>347742          </td><td>11.1333</td><td>    </td><td>S</td><td>2</td></tr>\n",
       "\t<tr><th scope=row>871</th><td>871</td><td>0</td><td>3</td><td>Balkic, Mr. Cerin                      </td><td>male  </td><td>26.0</td><td>0</td><td>0</td><td>349248          </td><td> 7.8958</td><td>    </td><td>S</td><td>0</td></tr>\n",
       "\t<tr><th scope=row>874</th><td>874</td><td>0</td><td>3</td><td>Vander Cruyssen, Mr. Victor            </td><td>male  </td><td>47.0</td><td>0</td><td>0</td><td>345765          </td><td> 9.0000</td><td>    </td><td>S</td><td>0</td></tr>\n",
       "\t<tr><th scope=row>876</th><td>876</td><td>1</td><td>3</td><td>Najib, Miss. Adele Kiamie \"Jane\"       </td><td>female</td><td>15.0</td><td>0</td><td>0</td><td>2667            </td><td> 7.2250</td><td>    </td><td>C</td><td>0</td></tr>\n",
       "\t<tr><th scope=row>877</th><td>877</td><td>0</td><td>3</td><td>Gustafsson, Mr. Alfred Ossian          </td><td>male  </td><td>20.0</td><td>0</td><td>0</td><td>7534            </td><td> 9.8458</td><td>    </td><td>S</td><td>0</td></tr>\n",
       "\t<tr><th scope=row>878</th><td>878</td><td>0</td><td>3</td><td>Petroff, Mr. Nedelio                   </td><td>male  </td><td>19.0</td><td>0</td><td>0</td><td>349212          </td><td> 7.8958</td><td>    </td><td>S</td><td>0</td></tr>\n",
       "\t<tr><th scope=row>882</th><td>882</td><td>0</td><td>3</td><td>Markun, Mr. Johann                     </td><td>male  </td><td>33.0</td><td>0</td><td>0</td><td>349257          </td><td> 7.8958</td><td>    </td><td>S</td><td>0</td></tr>\n",
       "\t<tr><th scope=row>883</th><td>883</td><td>0</td><td>3</td><td>Dahlberg, Miss. Gerda Ulrika           </td><td>female</td><td>22.0</td><td>0</td><td>0</td><td>7552            </td><td>10.5167</td><td>    </td><td>S</td><td>0</td></tr>\n",
       "\t<tr><th scope=row>885</th><td>885</td><td>0</td><td>3</td><td>Sutehall, Mr. Henry Jr                 </td><td>male  </td><td>25.0</td><td>0</td><td>0</td><td>SOTON/OQ 392076 </td><td> 7.0500</td><td>    </td><td>S</td><td>0</td></tr>\n",
       "\t<tr><th scope=row>886</th><td>886</td><td>0</td><td>3</td><td>Rice, Mrs. William (Margaret Norton)   </td><td>female</td><td>39.0</td><td>0</td><td>5</td><td>382652          </td><td>29.1250</td><td>    </td><td>Q</td><td>5</td></tr>\n",
       "\t<tr><th scope=row>891</th><td>891</td><td>0</td><td>3</td><td>Dooley, Mr. Patrick                    </td><td>male  </td><td>32.0</td><td>0</td><td>0</td><td>370376          </td><td> 7.7500</td><td>    </td><td>Q</td><td>0</td></tr>\n",
       "</tbody>\n",
       "</table>\n"
      ],
      "text/latex": [
       "A data.frame: 355 x 13\n",
       "\\begin{tabular}{r|lllllllllllll}\n",
       "  & PassengerId & Survived & Pclass & Name & Sex & Age & SibSp & Parch & Ticket & Fare & Cabin & Embarked & familyWhith\\\\\n",
       "  & <int> & <int> & <int> & <chr> & <chr> & <dbl> & <int> & <int> & <chr> & <dbl> & <chr> & <chr> & <int>\\\\\n",
       "\\hline\n",
       "\t1 &  1 & 0 & 3 & Braund, Mr. Owen Harris                                   & male   & 22.0 & 1 & 0 & A/5 21171        &  7.2500 &    & S & 1\\\\\n",
       "\t3 &  3 & 1 & 3 & Heikkinen, Miss. Laina                                    & female & 26.0 & 0 & 0 & STON/O2. 3101282 &  7.9250 &    & S & 0\\\\\n",
       "\t5 &  5 & 0 & 3 & Allen, Mr. William Henry                                  & male   & 35.0 & 0 & 0 & 373450           &  8.0500 &    & S & 0\\\\\n",
       "\t8 &  8 & 0 & 3 & Palsson, Master. Gosta Leonard                            & male   &  2.0 & 3 & 1 & 349909           & 21.0750 &    & S & 4\\\\\n",
       "\t9 &  9 & 1 & 3 & Johnson, Mrs. Oscar W (Elisabeth Vilhelmina Berg)         & female & 27.0 & 0 & 2 & 347742           & 11.1333 &    & S & 2\\\\\n",
       "\t11 & 11 & 1 & 3 & Sandstrom, Miss. Marguerite Rut                           & female &  4.0 & 1 & 1 & PP 9549          & 16.7000 & G6 & S & 2\\\\\n",
       "\t13 & 13 & 0 & 3 & Saundercock, Mr. William Henry                            & male   & 20.0 & 0 & 0 & A/5. 2151        &  8.0500 &    & S & 0\\\\\n",
       "\t14 & 14 & 0 & 3 & Andersson, Mr. Anders Johan                               & male   & 39.0 & 1 & 5 & 347082           & 31.2750 &    & S & 6\\\\\n",
       "\t15 & 15 & 0 & 3 & Vestrom, Miss. Hulda Amanda Adolfina                      & female & 14.0 & 0 & 0 & 350406           &  7.8542 &    & S & 0\\\\\n",
       "\t17 & 17 & 0 & 3 & Rice, Master. Eugene                                      & male   &  2.0 & 4 & 1 & 382652           & 29.1250 &    & Q & 5\\\\\n",
       "\t19 & 19 & 0 & 3 & Vander Planke, Mrs. Julius (Emelia Maria Vandemoortele)   & female & 31.0 & 1 & 0 & 345763           & 18.0000 &    & S & 1\\\\\n",
       "\t23 & 23 & 1 & 3 & McGowan, Miss. Anna \"Annie\"                               & female & 15.0 & 0 & 0 & 330923           &  8.0292 &    & Q & 0\\\\\n",
       "\t25 & 25 & 0 & 3 & Palsson, Miss. Torborg Danira                             & female &  8.0 & 3 & 1 & 349909           & 21.0750 &    & S & 4\\\\\n",
       "\t26 & 26 & 1 & 3 & Asplund, Mrs. Carl Oscar (Selma Augusta Emilia Johansson) & female & 38.0 & 1 & 5 & 347077           & 31.3875 &    & S & 6\\\\\n",
       "\t38 & 38 & 0 & 3 & Cann, Mr. Ernest Charles                                  & male   & 21.0 & 0 & 0 & A./5. 2152       &  8.0500 &    & S & 0\\\\\n",
       "\t39 & 39 & 0 & 3 & Vander Planke, Miss. Augusta Maria                        & female & 18.0 & 2 & 0 & 345764           & 18.0000 &    & S & 2\\\\\n",
       "\t40 & 40 & 1 & 3 & Nicola-Yarred, Miss. Jamila                               & female & 14.0 & 1 & 0 & 2651             & 11.2417 &    & C & 1\\\\\n",
       "\t41 & 41 & 0 & 3 & Ahlin, Mrs. Johan (Johanna Persdotter Larsson)            & female & 40.0 & 1 & 0 & 7546             &  9.4750 &    & S & 1\\\\\n",
       "\t45 & 45 & 1 & 3 & Devaney, Miss. Margaret Delia                             & female & 19.0 & 0 & 0 & 330958           &  7.8792 &    & Q & 0\\\\\n",
       "\t50 & 50 & 0 & 3 & Arnold-Franchi, Mrs. Josef (Josefine Franchi)             & female & 18.0 & 1 & 0 & 349237           & 17.8000 &    & S & 1\\\\\n",
       "\t51 & 51 & 0 & 3 & Panula, Master. Juha Niilo                                & male   &  7.0 & 4 & 1 & 3101295          & 39.6875 &    & S & 5\\\\\n",
       "\t52 & 52 & 0 & 3 & Nosworthy, Mr. Richard Cater                              & male   & 21.0 & 0 & 0 & A/4. 39886       &  7.8000 &    & S & 0\\\\\n",
       "\t58 & 58 & 0 & 3 & Novel, Mr. Mansouer                                       & male   & 28.5 & 0 & 0 & 2697             &  7.2292 &    & C & 0\\\\\n",
       "\t60 & 60 & 0 & 3 & Goodwin, Master. William Frederick                        & male   & 11.0 & 5 & 2 & CA 2144          & 46.9000 &    & S & 7\\\\\n",
       "\t61 & 61 & 0 & 3 & Sirayanian, Mr. Orsen                                     & male   & 22.0 & 0 & 0 & 2669             &  7.2292 &    & C & 0\\\\\n",
       "\t64 & 64 & 0 & 3 & Skoog, Master. Harald                                     & male   &  4.0 & 3 & 2 & 347088           & 27.9000 &    & S & 5\\\\\n",
       "\t68 & 68 & 0 & 3 & Crease, Mr. Ernest James                                  & male   & 19.0 & 0 & 0 & S.P. 3464        &  8.1583 &    & S & 0\\\\\n",
       "\t69 & 69 & 1 & 3 & Andersson, Miss. Erna Alexandra                           & female & 17.0 & 4 & 2 & 3101281          &  7.9250 &    & S & 6\\\\\n",
       "\t70 & 70 & 0 & 3 & Kink, Mr. Vincenz                                         & male   & 26.0 & 2 & 0 & 315151           &  8.6625 &    & S & 2\\\\\n",
       "\t72 & 72 & 0 & 3 & Goodwin, Miss. Lillian Amy                                & female & 16.0 & 5 & 2 & CA 2144          & 46.9000 &    & S & 7\\\\\n",
       "\t... & ... & ... & ... & ... & ... & ... & ... & ... & ... & ... & ... & ... & ...\\\\\n",
       "\t822 & 822 & 1 & 3 & Lulic, Mr. Nikola                       & male   & 27.0 & 0 & 0 & 315098           &  8.6625 &      & S & 0\\\\\n",
       "\t824 & 824 & 1 & 3 & Moor, Mrs. (Beila)                      & female & 27.0 & 0 & 1 & 392096           & 12.4750 & E121 & S & 1\\\\\n",
       "\t825 & 825 & 0 & 3 & Panula, Master. Urho Abraham            & male   &  2.0 & 4 & 1 & 3101295          & 39.6875 &      & S & 5\\\\\n",
       "\t831 & 831 & 1 & 3 & Yasbeck, Mrs. Antoni (Selini Alexander) & female & 15.0 & 1 & 0 & 2659             & 14.4542 &      & C & 1\\\\\n",
       "\t834 & 834 & 0 & 3 & Augustsson, Mr. Albert                  & male   & 23.0 & 0 & 0 & 347468           &  7.8542 &      & S & 0\\\\\n",
       "\t835 & 835 & 0 & 3 & Allum, Mr. Owen George                  & male   & 18.0 & 0 & 0 & 2223             &  8.3000 &      & S & 0\\\\\n",
       "\t837 & 837 & 0 & 3 & Pasic, Mr. Jakob                        & male   & 21.0 & 0 & 0 & 315097           &  8.6625 &      & S & 0\\\\\n",
       "\t839 & 839 & 1 & 3 & Chip, Mr. Chang                         & male   & 32.0 & 0 & 0 & 1601             & 56.4958 &      & S & 0\\\\\n",
       "\t841 & 841 & 0 & 3 & Alhomaki, Mr. Ilmari Rudolf             & male   & 20.0 & 0 & 0 & SOTON/O2 3101287 &  7.9250 &      & S & 0\\\\\n",
       "\t844 & 844 & 0 & 3 & Lemberopolous, Mr. Peter L              & male   & 34.5 & 0 & 0 & 2683             &  6.4375 &      & C & 0\\\\\n",
       "\t845 & 845 & 0 & 3 & Culumovic, Mr. Jeso                     & male   & 17.0 & 0 & 0 & 315090           &  8.6625 &      & S & 0\\\\\n",
       "\t846 & 846 & 0 & 3 & Abbing, Mr. Anthony                     & male   & 42.0 & 0 & 0 & C.A. 5547        &  7.5500 &      & S & 0\\\\\n",
       "\t848 & 848 & 0 & 3 & Markoff, Mr. Marin                      & male   & 35.0 & 0 & 0 & 349213           &  7.8958 &      & C & 0\\\\\n",
       "\t851 & 851 & 0 & 3 & Andersson, Master. Sigvard Harald Elias & male   &  4.0 & 4 & 2 & 347082           & 31.2750 &      & S & 6\\\\\n",
       "\t852 & 852 & 0 & 3 & Svensson, Mr. Johan                     & male   & 74.0 & 0 & 0 & 347060           &  7.7750 &      & S & 0\\\\\n",
       "\t853 & 853 & 0 & 3 & Boulos, Miss. Nourelain                 & female &  9.0 & 1 & 1 & 2678             & 15.2458 &      & C & 2\\\\\n",
       "\t856 & 856 & 1 & 3 & Aks, Mrs. Sam (Leah Rosen)              & female & 18.0 & 0 & 1 & 392091           &  9.3500 &      & S & 1\\\\\n",
       "\t859 & 859 & 1 & 3 & Baclini, Mrs. Solomon (Latifa Qurban)   & female & 24.0 & 0 & 3 & 2666             & 19.2583 &      & C & 3\\\\\n",
       "\t861 & 861 & 0 & 3 & Hansen, Mr. Claus Peter                 & male   & 41.0 & 2 & 0 & 350026           & 14.1083 &      & S & 2\\\\\n",
       "\t870 & 870 & 1 & 3 & Johnson, Master. Harold Theodor         & male   &  4.0 & 1 & 1 & 347742           & 11.1333 &      & S & 2\\\\\n",
       "\t871 & 871 & 0 & 3 & Balkic, Mr. Cerin                       & male   & 26.0 & 0 & 0 & 349248           &  7.8958 &      & S & 0\\\\\n",
       "\t874 & 874 & 0 & 3 & Vander Cruyssen, Mr. Victor             & male   & 47.0 & 0 & 0 & 345765           &  9.0000 &      & S & 0\\\\\n",
       "\t876 & 876 & 1 & 3 & Najib, Miss. Adele Kiamie \"Jane\"        & female & 15.0 & 0 & 0 & 2667             &  7.2250 &      & C & 0\\\\\n",
       "\t877 & 877 & 0 & 3 & Gustafsson, Mr. Alfred Ossian           & male   & 20.0 & 0 & 0 & 7534             &  9.8458 &      & S & 0\\\\\n",
       "\t878 & 878 & 0 & 3 & Petroff, Mr. Nedelio                    & male   & 19.0 & 0 & 0 & 349212           &  7.8958 &      & S & 0\\\\\n",
       "\t882 & 882 & 0 & 3 & Markun, Mr. Johann                      & male   & 33.0 & 0 & 0 & 349257           &  7.8958 &      & S & 0\\\\\n",
       "\t883 & 883 & 0 & 3 & Dahlberg, Miss. Gerda Ulrika            & female & 22.0 & 0 & 0 & 7552             & 10.5167 &      & S & 0\\\\\n",
       "\t885 & 885 & 0 & 3 & Sutehall, Mr. Henry Jr                  & male   & 25.0 & 0 & 0 & SOTON/OQ 392076  &  7.0500 &      & S & 0\\\\\n",
       "\t886 & 886 & 0 & 3 & Rice, Mrs. William (Margaret Norton)    & female & 39.0 & 0 & 5 & 382652           & 29.1250 &      & Q & 5\\\\\n",
       "\t891 & 891 & 0 & 3 & Dooley, Mr. Patrick                     & male   & 32.0 & 0 & 0 & 370376           &  7.7500 &      & Q & 0\\\\\n",
       "\\end{tabular}\n"
      ],
      "text/markdown": [
       "\n",
       "A data.frame: 355 x 13\n",
       "\n",
       "| <!--/--> | PassengerId &lt;int&gt; | Survived &lt;int&gt; | Pclass &lt;int&gt; | Name &lt;chr&gt; | Sex &lt;chr&gt; | Age &lt;dbl&gt; | SibSp &lt;int&gt; | Parch &lt;int&gt; | Ticket &lt;chr&gt; | Fare &lt;dbl&gt; | Cabin &lt;chr&gt; | Embarked &lt;chr&gt; | familyWhith &lt;int&gt; |\n",
       "|---|---|---|---|---|---|---|---|---|---|---|---|---|---|\n",
       "| 1 |  1 | 0 | 3 | Braund, Mr. Owen Harris                                   | male   | 22.0 | 1 | 0 | A/5 21171        |  7.2500 | <!----> | S | 1 |\n",
       "| 3 |  3 | 1 | 3 | Heikkinen, Miss. Laina                                    | female | 26.0 | 0 | 0 | STON/O2. 3101282 |  7.9250 | <!----> | S | 0 |\n",
       "| 5 |  5 | 0 | 3 | Allen, Mr. William Henry                                  | male   | 35.0 | 0 | 0 | 373450           |  8.0500 | <!----> | S | 0 |\n",
       "| 8 |  8 | 0 | 3 | Palsson, Master. Gosta Leonard                            | male   |  2.0 | 3 | 1 | 349909           | 21.0750 | <!----> | S | 4 |\n",
       "| 9 |  9 | 1 | 3 | Johnson, Mrs. Oscar W (Elisabeth Vilhelmina Berg)         | female | 27.0 | 0 | 2 | 347742           | 11.1333 | <!----> | S | 2 |\n",
       "| 11 | 11 | 1 | 3 | Sandstrom, Miss. Marguerite Rut                           | female |  4.0 | 1 | 1 | PP 9549          | 16.7000 | G6 | S | 2 |\n",
       "| 13 | 13 | 0 | 3 | Saundercock, Mr. William Henry                            | male   | 20.0 | 0 | 0 | A/5. 2151        |  8.0500 | <!----> | S | 0 |\n",
       "| 14 | 14 | 0 | 3 | Andersson, Mr. Anders Johan                               | male   | 39.0 | 1 | 5 | 347082           | 31.2750 | <!----> | S | 6 |\n",
       "| 15 | 15 | 0 | 3 | Vestrom, Miss. Hulda Amanda Adolfina                      | female | 14.0 | 0 | 0 | 350406           |  7.8542 | <!----> | S | 0 |\n",
       "| 17 | 17 | 0 | 3 | Rice, Master. Eugene                                      | male   |  2.0 | 4 | 1 | 382652           | 29.1250 | <!----> | Q | 5 |\n",
       "| 19 | 19 | 0 | 3 | Vander Planke, Mrs. Julius (Emelia Maria Vandemoortele)   | female | 31.0 | 1 | 0 | 345763           | 18.0000 | <!----> | S | 1 |\n",
       "| 23 | 23 | 1 | 3 | McGowan, Miss. Anna \"Annie\"                               | female | 15.0 | 0 | 0 | 330923           |  8.0292 | <!----> | Q | 0 |\n",
       "| 25 | 25 | 0 | 3 | Palsson, Miss. Torborg Danira                             | female |  8.0 | 3 | 1 | 349909           | 21.0750 | <!----> | S | 4 |\n",
       "| 26 | 26 | 1 | 3 | Asplund, Mrs. Carl Oscar (Selma Augusta Emilia Johansson) | female | 38.0 | 1 | 5 | 347077           | 31.3875 | <!----> | S | 6 |\n",
       "| 38 | 38 | 0 | 3 | Cann, Mr. Ernest Charles                                  | male   | 21.0 | 0 | 0 | A./5. 2152       |  8.0500 | <!----> | S | 0 |\n",
       "| 39 | 39 | 0 | 3 | Vander Planke, Miss. Augusta Maria                        | female | 18.0 | 2 | 0 | 345764           | 18.0000 | <!----> | S | 2 |\n",
       "| 40 | 40 | 1 | 3 | Nicola-Yarred, Miss. Jamila                               | female | 14.0 | 1 | 0 | 2651             | 11.2417 | <!----> | C | 1 |\n",
       "| 41 | 41 | 0 | 3 | Ahlin, Mrs. Johan (Johanna Persdotter Larsson)            | female | 40.0 | 1 | 0 | 7546             |  9.4750 | <!----> | S | 1 |\n",
       "| 45 | 45 | 1 | 3 | Devaney, Miss. Margaret Delia                             | female | 19.0 | 0 | 0 | 330958           |  7.8792 | <!----> | Q | 0 |\n",
       "| 50 | 50 | 0 | 3 | Arnold-Franchi, Mrs. Josef (Josefine Franchi)             | female | 18.0 | 1 | 0 | 349237           | 17.8000 | <!----> | S | 1 |\n",
       "| 51 | 51 | 0 | 3 | Panula, Master. Juha Niilo                                | male   |  7.0 | 4 | 1 | 3101295          | 39.6875 | <!----> | S | 5 |\n",
       "| 52 | 52 | 0 | 3 | Nosworthy, Mr. Richard Cater                              | male   | 21.0 | 0 | 0 | A/4. 39886       |  7.8000 | <!----> | S | 0 |\n",
       "| 58 | 58 | 0 | 3 | Novel, Mr. Mansouer                                       | male   | 28.5 | 0 | 0 | 2697             |  7.2292 | <!----> | C | 0 |\n",
       "| 60 | 60 | 0 | 3 | Goodwin, Master. William Frederick                        | male   | 11.0 | 5 | 2 | CA 2144          | 46.9000 | <!----> | S | 7 |\n",
       "| 61 | 61 | 0 | 3 | Sirayanian, Mr. Orsen                                     | male   | 22.0 | 0 | 0 | 2669             |  7.2292 | <!----> | C | 0 |\n",
       "| 64 | 64 | 0 | 3 | Skoog, Master. Harald                                     | male   |  4.0 | 3 | 2 | 347088           | 27.9000 | <!----> | S | 5 |\n",
       "| 68 | 68 | 0 | 3 | Crease, Mr. Ernest James                                  | male   | 19.0 | 0 | 0 | S.P. 3464        |  8.1583 | <!----> | S | 0 |\n",
       "| 69 | 69 | 1 | 3 | Andersson, Miss. Erna Alexandra                           | female | 17.0 | 4 | 2 | 3101281          |  7.9250 | <!----> | S | 6 |\n",
       "| 70 | 70 | 0 | 3 | Kink, Mr. Vincenz                                         | male   | 26.0 | 2 | 0 | 315151           |  8.6625 | <!----> | S | 2 |\n",
       "| 72 | 72 | 0 | 3 | Goodwin, Miss. Lillian Amy                                | female | 16.0 | 5 | 2 | CA 2144          | 46.9000 | <!----> | S | 7 |\n",
       "| ... | ... | ... | ... | ... | ... | ... | ... | ... | ... | ... | ... | ... | ... |\n",
       "| 822 | 822 | 1 | 3 | Lulic, Mr. Nikola                       | male   | 27.0 | 0 | 0 | 315098           |  8.6625 | <!----> | S | 0 |\n",
       "| 824 | 824 | 1 | 3 | Moor, Mrs. (Beila)                      | female | 27.0 | 0 | 1 | 392096           | 12.4750 | E121 | S | 1 |\n",
       "| 825 | 825 | 0 | 3 | Panula, Master. Urho Abraham            | male   |  2.0 | 4 | 1 | 3101295          | 39.6875 | <!----> | S | 5 |\n",
       "| 831 | 831 | 1 | 3 | Yasbeck, Mrs. Antoni (Selini Alexander) | female | 15.0 | 1 | 0 | 2659             | 14.4542 | <!----> | C | 1 |\n",
       "| 834 | 834 | 0 | 3 | Augustsson, Mr. Albert                  | male   | 23.0 | 0 | 0 | 347468           |  7.8542 | <!----> | S | 0 |\n",
       "| 835 | 835 | 0 | 3 | Allum, Mr. Owen George                  | male   | 18.0 | 0 | 0 | 2223             |  8.3000 | <!----> | S | 0 |\n",
       "| 837 | 837 | 0 | 3 | Pasic, Mr. Jakob                        | male   | 21.0 | 0 | 0 | 315097           |  8.6625 | <!----> | S | 0 |\n",
       "| 839 | 839 | 1 | 3 | Chip, Mr. Chang                         | male   | 32.0 | 0 | 0 | 1601             | 56.4958 | <!----> | S | 0 |\n",
       "| 841 | 841 | 0 | 3 | Alhomaki, Mr. Ilmari Rudolf             | male   | 20.0 | 0 | 0 | SOTON/O2 3101287 |  7.9250 | <!----> | S | 0 |\n",
       "| 844 | 844 | 0 | 3 | Lemberopolous, Mr. Peter L              | male   | 34.5 | 0 | 0 | 2683             |  6.4375 | <!----> | C | 0 |\n",
       "| 845 | 845 | 0 | 3 | Culumovic, Mr. Jeso                     | male   | 17.0 | 0 | 0 | 315090           |  8.6625 | <!----> | S | 0 |\n",
       "| 846 | 846 | 0 | 3 | Abbing, Mr. Anthony                     | male   | 42.0 | 0 | 0 | C.A. 5547        |  7.5500 | <!----> | S | 0 |\n",
       "| 848 | 848 | 0 | 3 | Markoff, Mr. Marin                      | male   | 35.0 | 0 | 0 | 349213           |  7.8958 | <!----> | C | 0 |\n",
       "| 851 | 851 | 0 | 3 | Andersson, Master. Sigvard Harald Elias | male   |  4.0 | 4 | 2 | 347082           | 31.2750 | <!----> | S | 6 |\n",
       "| 852 | 852 | 0 | 3 | Svensson, Mr. Johan                     | male   | 74.0 | 0 | 0 | 347060           |  7.7750 | <!----> | S | 0 |\n",
       "| 853 | 853 | 0 | 3 | Boulos, Miss. Nourelain                 | female |  9.0 | 1 | 1 | 2678             | 15.2458 | <!----> | C | 2 |\n",
       "| 856 | 856 | 1 | 3 | Aks, Mrs. Sam (Leah Rosen)              | female | 18.0 | 0 | 1 | 392091           |  9.3500 | <!----> | S | 1 |\n",
       "| 859 | 859 | 1 | 3 | Baclini, Mrs. Solomon (Latifa Qurban)   | female | 24.0 | 0 | 3 | 2666             | 19.2583 | <!----> | C | 3 |\n",
       "| 861 | 861 | 0 | 3 | Hansen, Mr. Claus Peter                 | male   | 41.0 | 2 | 0 | 350026           | 14.1083 | <!----> | S | 2 |\n",
       "| 870 | 870 | 1 | 3 | Johnson, Master. Harold Theodor         | male   |  4.0 | 1 | 1 | 347742           | 11.1333 | <!----> | S | 2 |\n",
       "| 871 | 871 | 0 | 3 | Balkic, Mr. Cerin                       | male   | 26.0 | 0 | 0 | 349248           |  7.8958 | <!----> | S | 0 |\n",
       "| 874 | 874 | 0 | 3 | Vander Cruyssen, Mr. Victor             | male   | 47.0 | 0 | 0 | 345765           |  9.0000 | <!----> | S | 0 |\n",
       "| 876 | 876 | 1 | 3 | Najib, Miss. Adele Kiamie \"Jane\"        | female | 15.0 | 0 | 0 | 2667             |  7.2250 | <!----> | C | 0 |\n",
       "| 877 | 877 | 0 | 3 | Gustafsson, Mr. Alfred Ossian           | male   | 20.0 | 0 | 0 | 7534             |  9.8458 | <!----> | S | 0 |\n",
       "| 878 | 878 | 0 | 3 | Petroff, Mr. Nedelio                    | male   | 19.0 | 0 | 0 | 349212           |  7.8958 | <!----> | S | 0 |\n",
       "| 882 | 882 | 0 | 3 | Markun, Mr. Johann                      | male   | 33.0 | 0 | 0 | 349257           |  7.8958 | <!----> | S | 0 |\n",
       "| 883 | 883 | 0 | 3 | Dahlberg, Miss. Gerda Ulrika            | female | 22.0 | 0 | 0 | 7552             | 10.5167 | <!----> | S | 0 |\n",
       "| 885 | 885 | 0 | 3 | Sutehall, Mr. Henry Jr                  | male   | 25.0 | 0 | 0 | SOTON/OQ 392076  |  7.0500 | <!----> | S | 0 |\n",
       "| 886 | 886 | 0 | 3 | Rice, Mrs. William (Margaret Norton)    | female | 39.0 | 0 | 5 | 382652           | 29.1250 | <!----> | Q | 5 |\n",
       "| 891 | 891 | 0 | 3 | Dooley, Mr. Patrick                     | male   | 32.0 | 0 | 0 | 370376           |  7.7500 | <!----> | Q | 0 |\n",
       "\n"
      ],
      "text/plain": [
       "    PassengerId Survived Pclass\n",
       "1    1          0        3     \n",
       "3    3          1        3     \n",
       "5    5          0        3     \n",
       "8    8          0        3     \n",
       "9    9          1        3     \n",
       "11  11          1        3     \n",
       "13  13          0        3     \n",
       "14  14          0        3     \n",
       "15  15          0        3     \n",
       "17  17          0        3     \n",
       "19  19          0        3     \n",
       "23  23          1        3     \n",
       "25  25          0        3     \n",
       "26  26          1        3     \n",
       "38  38          0        3     \n",
       "39  39          0        3     \n",
       "40  40          1        3     \n",
       "41  41          0        3     \n",
       "45  45          1        3     \n",
       "50  50          0        3     \n",
       "51  51          0        3     \n",
       "52  52          0        3     \n",
       "58  58          0        3     \n",
       "60  60          0        3     \n",
       "61  61          0        3     \n",
       "64  64          0        3     \n",
       "68  68          0        3     \n",
       "69  69          1        3     \n",
       "70  70          0        3     \n",
       "72  72          0        3     \n",
       "... ...         ...      ...   \n",
       "822 822         1        3     \n",
       "824 824         1        3     \n",
       "825 825         0        3     \n",
       "831 831         1        3     \n",
       "834 834         0        3     \n",
       "835 835         0        3     \n",
       "837 837         0        3     \n",
       "839 839         1        3     \n",
       "841 841         0        3     \n",
       "844 844         0        3     \n",
       "845 845         0        3     \n",
       "846 846         0        3     \n",
       "848 848         0        3     \n",
       "851 851         0        3     \n",
       "852 852         0        3     \n",
       "853 853         0        3     \n",
       "856 856         1        3     \n",
       "859 859         1        3     \n",
       "861 861         0        3     \n",
       "870 870         1        3     \n",
       "871 871         0        3     \n",
       "874 874         0        3     \n",
       "876 876         1        3     \n",
       "877 877         0        3     \n",
       "878 878         0        3     \n",
       "882 882         0        3     \n",
       "883 883         0        3     \n",
       "885 885         0        3     \n",
       "886 886         0        3     \n",
       "891 891         0        3     \n",
       "    Name                                                      Sex    Age  SibSp\n",
       "1   Braund, Mr. Owen Harris                                   male   22.0 1    \n",
       "3   Heikkinen, Miss. Laina                                    female 26.0 0    \n",
       "5   Allen, Mr. William Henry                                  male   35.0 0    \n",
       "8   Palsson, Master. Gosta Leonard                            male    2.0 3    \n",
       "9   Johnson, Mrs. Oscar W (Elisabeth Vilhelmina Berg)         female 27.0 0    \n",
       "11  Sandstrom, Miss. Marguerite Rut                           female  4.0 1    \n",
       "13  Saundercock, Mr. William Henry                            male   20.0 0    \n",
       "14  Andersson, Mr. Anders Johan                               male   39.0 1    \n",
       "15  Vestrom, Miss. Hulda Amanda Adolfina                      female 14.0 0    \n",
       "17  Rice, Master. Eugene                                      male    2.0 4    \n",
       "19  Vander Planke, Mrs. Julius (Emelia Maria Vandemoortele)   female 31.0 1    \n",
       "23  McGowan, Miss. Anna \"Annie\"                               female 15.0 0    \n",
       "25  Palsson, Miss. Torborg Danira                             female  8.0 3    \n",
       "26  Asplund, Mrs. Carl Oscar (Selma Augusta Emilia Johansson) female 38.0 1    \n",
       "38  Cann, Mr. Ernest Charles                                  male   21.0 0    \n",
       "39  Vander Planke, Miss. Augusta Maria                        female 18.0 2    \n",
       "40  Nicola-Yarred, Miss. Jamila                               female 14.0 1    \n",
       "41  Ahlin, Mrs. Johan (Johanna Persdotter Larsson)            female 40.0 1    \n",
       "45  Devaney, Miss. Margaret Delia                             female 19.0 0    \n",
       "50  Arnold-Franchi, Mrs. Josef (Josefine Franchi)             female 18.0 1    \n",
       "51  Panula, Master. Juha Niilo                                male    7.0 4    \n",
       "52  Nosworthy, Mr. Richard Cater                              male   21.0 0    \n",
       "58  Novel, Mr. Mansouer                                       male   28.5 0    \n",
       "60  Goodwin, Master. William Frederick                        male   11.0 5    \n",
       "61  Sirayanian, Mr. Orsen                                     male   22.0 0    \n",
       "64  Skoog, Master. Harald                                     male    4.0 3    \n",
       "68  Crease, Mr. Ernest James                                  male   19.0 0    \n",
       "69  Andersson, Miss. Erna Alexandra                           female 17.0 4    \n",
       "70  Kink, Mr. Vincenz                                         male   26.0 2    \n",
       "72  Goodwin, Miss. Lillian Amy                                female 16.0 5    \n",
       "... ...                                                       ...    ...  ...  \n",
       "822 Lulic, Mr. Nikola                                         male   27.0 0    \n",
       "824 Moor, Mrs. (Beila)                                        female 27.0 0    \n",
       "825 Panula, Master. Urho Abraham                              male    2.0 4    \n",
       "831 Yasbeck, Mrs. Antoni (Selini Alexander)                   female 15.0 1    \n",
       "834 Augustsson, Mr. Albert                                    male   23.0 0    \n",
       "835 Allum, Mr. Owen George                                    male   18.0 0    \n",
       "837 Pasic, Mr. Jakob                                          male   21.0 0    \n",
       "839 Chip, Mr. Chang                                           male   32.0 0    \n",
       "841 Alhomaki, Mr. Ilmari Rudolf                               male   20.0 0    \n",
       "844 Lemberopolous, Mr. Peter L                                male   34.5 0    \n",
       "845 Culumovic, Mr. Jeso                                       male   17.0 0    \n",
       "846 Abbing, Mr. Anthony                                       male   42.0 0    \n",
       "848 Markoff, Mr. Marin                                        male   35.0 0    \n",
       "851 Andersson, Master. Sigvard Harald Elias                   male    4.0 4    \n",
       "852 Svensson, Mr. Johan                                       male   74.0 0    \n",
       "853 Boulos, Miss. Nourelain                                   female  9.0 1    \n",
       "856 Aks, Mrs. Sam (Leah Rosen)                                female 18.0 0    \n",
       "859 Baclini, Mrs. Solomon (Latifa Qurban)                     female 24.0 0    \n",
       "861 Hansen, Mr. Claus Peter                                   male   41.0 2    \n",
       "870 Johnson, Master. Harold Theodor                           male    4.0 1    \n",
       "871 Balkic, Mr. Cerin                                         male   26.0 0    \n",
       "874 Vander Cruyssen, Mr. Victor                               male   47.0 0    \n",
       "876 Najib, Miss. Adele Kiamie \"Jane\"                          female 15.0 0    \n",
       "877 Gustafsson, Mr. Alfred Ossian                             male   20.0 0    \n",
       "878 Petroff, Mr. Nedelio                                      male   19.0 0    \n",
       "882 Markun, Mr. Johann                                        male   33.0 0    \n",
       "883 Dahlberg, Miss. Gerda Ulrika                              female 22.0 0    \n",
       "885 Sutehall, Mr. Henry Jr                                    male   25.0 0    \n",
       "886 Rice, Mrs. William (Margaret Norton)                      female 39.0 0    \n",
       "891 Dooley, Mr. Patrick                                       male   32.0 0    \n",
       "    Parch Ticket           Fare    Cabin Embarked familyWhith\n",
       "1   0     A/5 21171         7.2500       S        1          \n",
       "3   0     STON/O2. 3101282  7.9250       S        0          \n",
       "5   0     373450            8.0500       S        0          \n",
       "8   1     349909           21.0750       S        4          \n",
       "9   2     347742           11.1333       S        2          \n",
       "11  1     PP 9549          16.7000 G6    S        2          \n",
       "13  0     A/5. 2151         8.0500       S        0          \n",
       "14  5     347082           31.2750       S        6          \n",
       "15  0     350406            7.8542       S        0          \n",
       "17  1     382652           29.1250       Q        5          \n",
       "19  0     345763           18.0000       S        1          \n",
       "23  0     330923            8.0292       Q        0          \n",
       "25  1     349909           21.0750       S        4          \n",
       "26  5     347077           31.3875       S        6          \n",
       "38  0     A./5. 2152        8.0500       S        0          \n",
       "39  0     345764           18.0000       S        2          \n",
       "40  0     2651             11.2417       C        1          \n",
       "41  0     7546              9.4750       S        1          \n",
       "45  0     330958            7.8792       Q        0          \n",
       "50  0     349237           17.8000       S        1          \n",
       "51  1     3101295          39.6875       S        5          \n",
       "52  0     A/4. 39886        7.8000       S        0          \n",
       "58  0     2697              7.2292       C        0          \n",
       "60  2     CA 2144          46.9000       S        7          \n",
       "61  0     2669              7.2292       C        0          \n",
       "64  2     347088           27.9000       S        5          \n",
       "68  0     S.P. 3464         8.1583       S        0          \n",
       "69  2     3101281           7.9250       S        6          \n",
       "70  0     315151            8.6625       S        2          \n",
       "72  2     CA 2144          46.9000       S        7          \n",
       "... ...   ...              ...     ...   ...      ...        \n",
       "822 0     315098            8.6625       S        0          \n",
       "824 1     392096           12.4750 E121  S        1          \n",
       "825 1     3101295          39.6875       S        5          \n",
       "831 0     2659             14.4542       C        1          \n",
       "834 0     347468            7.8542       S        0          \n",
       "835 0     2223              8.3000       S        0          \n",
       "837 0     315097            8.6625       S        0          \n",
       "839 0     1601             56.4958       S        0          \n",
       "841 0     SOTON/O2 3101287  7.9250       S        0          \n",
       "844 0     2683              6.4375       C        0          \n",
       "845 0     315090            8.6625       S        0          \n",
       "846 0     C.A. 5547         7.5500       S        0          \n",
       "848 0     349213            7.8958       C        0          \n",
       "851 2     347082           31.2750       S        6          \n",
       "852 0     347060            7.7750       S        0          \n",
       "853 1     2678             15.2458       C        2          \n",
       "856 1     392091            9.3500       S        1          \n",
       "859 3     2666             19.2583       C        3          \n",
       "861 0     350026           14.1083       S        2          \n",
       "870 1     347742           11.1333       S        2          \n",
       "871 0     349248            7.8958       S        0          \n",
       "874 0     345765            9.0000       S        0          \n",
       "876 0     2667              7.2250       C        0          \n",
       "877 0     7534              9.8458       S        0          \n",
       "878 0     349212            7.8958       S        0          \n",
       "882 0     349257            7.8958       S        0          \n",
       "883 0     7552             10.5167       S        0          \n",
       "885 0     SOTON/OQ 392076   7.0500       S        0          \n",
       "886 5     382652           29.1250       Q        5          \n",
       "891 0     370376            7.7500       Q        0          "
      ]
     },
     "metadata": {},
     "output_type": "display_data"
    },
    {
     "data": {
      "text/html": [
       "<strong>Age:</strong> 8924.92"
      ],
      "text/latex": [
       "\\textbf{Age:} 8924.92"
      ],
      "text/markdown": [
       "**Age:** 8924.92"
      ],
      "text/plain": [
       "    Age \n",
       "8924.92 "
      ]
     },
     "metadata": {},
     "output_type": "display_data"
    },
    {
     "data": {
      "text/html": [
       "25"
      ],
      "text/latex": [
       "25"
      ],
      "text/markdown": [
       "25"
      ],
      "text/plain": [
       "[1] 25"
      ]
     },
     "metadata": {},
     "output_type": "display_data"
    }
   ],
   "source": [
    "# 3등급 티켓인 사람들의 평균 나이를 모아보자\n",
    "class3Age <- subset(withoutNA, Pclass == 3)\n",
    "class3Age\n",
    "\n",
    "apply(class3Age[6],2,sum)\n",
    "\n",
    "# 3등급 티켓의 평균 나이 \n",
    "trunc(mean(class3Age$Age))\n",
    "# 25.1.2634.. 인데 25 살로 정함\n",
    "\n"
   ]
  },
  {
   "cell_type": "code",
   "execution_count": 11,
   "metadata": {
    "vscode": {
     "languageId": "r"
    }
   },
   "outputs": [
    {
     "data": {
      "text/html": [
       "<table class=\"dataframe\">\n",
       "<caption>A data.frame: 6 x 13</caption>\n",
       "<thead>\n",
       "\t<tr><th></th><th scope=col>PassengerId</th><th scope=col>Survived</th><th scope=col>Pclass</th><th scope=col>Name</th><th scope=col>Sex</th><th scope=col>Age</th><th scope=col>SibSp</th><th scope=col>Parch</th><th scope=col>Ticket</th><th scope=col>Fare</th><th scope=col>Cabin</th><th scope=col>Embarked</th><th scope=col>familyWhith</th></tr>\n",
       "\t<tr><th></th><th scope=col>&lt;int&gt;</th><th scope=col>&lt;int&gt;</th><th scope=col>&lt;int&gt;</th><th scope=col>&lt;chr&gt;</th><th scope=col>&lt;chr&gt;</th><th scope=col>&lt;dbl&gt;</th><th scope=col>&lt;int&gt;</th><th scope=col>&lt;int&gt;</th><th scope=col>&lt;chr&gt;</th><th scope=col>&lt;dbl&gt;</th><th scope=col>&lt;chr&gt;</th><th scope=col>&lt;chr&gt;</th><th scope=col>&lt;int&gt;</th></tr>\n",
       "</thead>\n",
       "<tbody>\n",
       "\t<tr><th scope=row>1</th><td>1</td><td>0</td><td>3</td><td>Braund, Mr. Owen Harris                            </td><td>male  </td><td>22</td><td>1</td><td>0</td><td>A/5 21171       </td><td> 7.2500</td><td>    </td><td>S</td><td>1</td></tr>\n",
       "\t<tr><th scope=row>2</th><td>2</td><td>1</td><td>1</td><td>Cumings, Mrs. John Bradley (Florence Briggs Thayer)</td><td>female</td><td>38</td><td>1</td><td>0</td><td>PC 17599        </td><td>71.2833</td><td>C85 </td><td>C</td><td>1</td></tr>\n",
       "\t<tr><th scope=row>3</th><td>3</td><td>1</td><td>3</td><td>Heikkinen, Miss. Laina                             </td><td>female</td><td>26</td><td>0</td><td>0</td><td>STON/O2. 3101282</td><td> 7.9250</td><td>    </td><td>S</td><td>0</td></tr>\n",
       "\t<tr><th scope=row>4</th><td>4</td><td>1</td><td>1</td><td>Futrelle, Mrs. Jacques Heath (Lily May Peel)       </td><td>female</td><td>35</td><td>1</td><td>0</td><td>113803          </td><td>53.1000</td><td>C123</td><td>S</td><td>1</td></tr>\n",
       "\t<tr><th scope=row>5</th><td>5</td><td>0</td><td>3</td><td>Allen, Mr. William Henry                           </td><td>male  </td><td>35</td><td>0</td><td>0</td><td>373450          </td><td> 8.0500</td><td>    </td><td>S</td><td>0</td></tr>\n",
       "\t<tr><th scope=row>6</th><td>6</td><td>0</td><td>3</td><td>Moran, Mr. James                                   </td><td>male  </td><td>NA</td><td>0</td><td>0</td><td>330877          </td><td> 8.4583</td><td>    </td><td>Q</td><td>0</td></tr>\n",
       "</tbody>\n",
       "</table>\n"
      ],
      "text/latex": [
       "A data.frame: 6 x 13\n",
       "\\begin{tabular}{r|lllllllllllll}\n",
       "  & PassengerId & Survived & Pclass & Name & Sex & Age & SibSp & Parch & Ticket & Fare & Cabin & Embarked & familyWhith\\\\\n",
       "  & <int> & <int> & <int> & <chr> & <chr> & <dbl> & <int> & <int> & <chr> & <dbl> & <chr> & <chr> & <int>\\\\\n",
       "\\hline\n",
       "\t1 & 1 & 0 & 3 & Braund, Mr. Owen Harris                             & male   & 22 & 1 & 0 & A/5 21171        &  7.2500 &      & S & 1\\\\\n",
       "\t2 & 2 & 1 & 1 & Cumings, Mrs. John Bradley (Florence Briggs Thayer) & female & 38 & 1 & 0 & PC 17599         & 71.2833 & C85  & C & 1\\\\\n",
       "\t3 & 3 & 1 & 3 & Heikkinen, Miss. Laina                              & female & 26 & 0 & 0 & STON/O2. 3101282 &  7.9250 &      & S & 0\\\\\n",
       "\t4 & 4 & 1 & 1 & Futrelle, Mrs. Jacques Heath (Lily May Peel)        & female & 35 & 1 & 0 & 113803           & 53.1000 & C123 & S & 1\\\\\n",
       "\t5 & 5 & 0 & 3 & Allen, Mr. William Henry                            & male   & 35 & 0 & 0 & 373450           &  8.0500 &      & S & 0\\\\\n",
       "\t6 & 6 & 0 & 3 & Moran, Mr. James                                    & male   & NA & 0 & 0 & 330877           &  8.4583 &      & Q & 0\\\\\n",
       "\\end{tabular}\n"
      ],
      "text/markdown": [
       "\n",
       "A data.frame: 6 x 13\n",
       "\n",
       "| <!--/--> | PassengerId &lt;int&gt; | Survived &lt;int&gt; | Pclass &lt;int&gt; | Name &lt;chr&gt; | Sex &lt;chr&gt; | Age &lt;dbl&gt; | SibSp &lt;int&gt; | Parch &lt;int&gt; | Ticket &lt;chr&gt; | Fare &lt;dbl&gt; | Cabin &lt;chr&gt; | Embarked &lt;chr&gt; | familyWhith &lt;int&gt; |\n",
       "|---|---|---|---|---|---|---|---|---|---|---|---|---|---|\n",
       "| 1 | 1 | 0 | 3 | Braund, Mr. Owen Harris                             | male   | 22 | 1 | 0 | A/5 21171        |  7.2500 | <!----> | S | 1 |\n",
       "| 2 | 2 | 1 | 1 | Cumings, Mrs. John Bradley (Florence Briggs Thayer) | female | 38 | 1 | 0 | PC 17599         | 71.2833 | C85  | C | 1 |\n",
       "| 3 | 3 | 1 | 3 | Heikkinen, Miss. Laina                              | female | 26 | 0 | 0 | STON/O2. 3101282 |  7.9250 | <!----> | S | 0 |\n",
       "| 4 | 4 | 1 | 1 | Futrelle, Mrs. Jacques Heath (Lily May Peel)        | female | 35 | 1 | 0 | 113803           | 53.1000 | C123 | S | 1 |\n",
       "| 5 | 5 | 0 | 3 | Allen, Mr. William Henry                            | male   | 35 | 0 | 0 | 373450           |  8.0500 | <!----> | S | 0 |\n",
       "| 6 | 6 | 0 | 3 | Moran, Mr. James                                    | male   | NA | 0 | 0 | 330877           |  8.4583 | <!----> | Q | 0 |\n",
       "\n"
      ],
      "text/plain": [
       "  PassengerId Survived Pclass\n",
       "1 1           0        3     \n",
       "2 2           1        1     \n",
       "3 3           1        3     \n",
       "4 4           1        1     \n",
       "5 5           0        3     \n",
       "6 6           0        3     \n",
       "  Name                                                Sex    Age SibSp Parch\n",
       "1 Braund, Mr. Owen Harris                             male   22  1     0    \n",
       "2 Cumings, Mrs. John Bradley (Florence Briggs Thayer) female 38  1     0    \n",
       "3 Heikkinen, Miss. Laina                              female 26  0     0    \n",
       "4 Futrelle, Mrs. Jacques Heath (Lily May Peel)        female 35  1     0    \n",
       "5 Allen, Mr. William Henry                            male   35  0     0    \n",
       "6 Moran, Mr. James                                    male   NA  0     0    \n",
       "  Ticket           Fare    Cabin Embarked familyWhith\n",
       "1 A/5 21171         7.2500       S        1          \n",
       "2 PC 17599         71.2833 C85   C        1          \n",
       "3 STON/O2. 3101282  7.9250       S        0          \n",
       "4 113803           53.1000 C123  S        1          \n",
       "5 373450            8.0500       S        0          \n",
       "6 330877            8.4583       Q        0          "
      ]
     },
     "metadata": {},
     "output_type": "display_data"
    },
    {
     "data": {
      "text/html": [
       "<style>\n",
       ".list-inline {list-style: none; margin:0; padding: 0}\n",
       ".list-inline>li {display: inline-block}\n",
       ".list-inline>li:not(:last-child)::after {content: \"\\00b7\"; padding: 0 .5ex}\n",
       "</style>\n",
       "<ol class=list-inline><li>0.42</li><li>80</li></ol>\n"
      ],
      "text/latex": [
       "\\begin{enumerate*}\n",
       "\\item 0.42\n",
       "\\item 80\n",
       "\\end{enumerate*}\n"
      ],
      "text/markdown": [
       "1. 0.42\n",
       "2. 80\n",
       "\n",
       "\n"
      ],
      "text/plain": [
       "[1]  0.42 80.00"
      ]
     },
     "metadata": {},
     "output_type": "display_data"
    },
    {
     "data": {
      "text/html": [
       "<style>\n",
       ".list-inline {list-style: none; margin:0; padding: 0}\n",
       ".list-inline>li {display: inline-block}\n",
       ".list-inline>li:not(:last-child)::after {content: \"\\00b7\"; padding: 0 .5ex}\n",
       "</style>\n",
       "<ol class=list-inline><li>0.42</li><li>74</li></ol>\n"
      ],
      "text/latex": [
       "\\begin{enumerate*}\n",
       "\\item 0.42\n",
       "\\item 74\n",
       "\\end{enumerate*}\n"
      ],
      "text/markdown": [
       "1. 0.42\n",
       "2. 74\n",
       "\n",
       "\n"
      ],
      "text/plain": [
       "[1]  0.42 74.00"
      ]
     },
     "metadata": {},
     "output_type": "display_data"
    }
   ],
   "source": [
    "head(tai)\n",
    "range(withoutNA$Age)\n",
    "range(class3Age$Age)"
   ]
  },
  {
   "cell_type": "code",
   "execution_count": 12,
   "metadata": {
    "vscode": {
     "languageId": "r"
    }
   },
   "outputs": [
    {
     "data": {
      "text/html": [
       "29.6991176470588"
      ],
      "text/latex": [
       "29.6991176470588"
      ],
      "text/markdown": [
       "29.6991176470588"
      ],
      "text/plain": [
       "[1] 29.69912"
      ]
     },
     "metadata": {},
     "output_type": "display_data"
    },
    {
     "data": {
      "text/html": [
       "25.1406197183099"
      ],
      "text/latex": [
       "25.1406197183099"
      ],
      "text/markdown": [
       "25.1406197183099"
      ],
      "text/plain": [
       "[1] 25.14062"
      ]
     },
     "metadata": {},
     "output_type": "display_data"
    }
   ],
   "source": [
    "# 전체 데이터에 Na 를 뺀  나이 평균\n",
    "mean(tai$Age,na.rm = T)\n",
    "# 3등급인  사람들중에 NA 뺀 나이평균\n",
    "mean(class3Age$Age)\n",
    "# "
   ]
  },
  {
   "cell_type": "code",
   "execution_count": 13,
   "metadata": {
    "vscode": {
     "languageId": "r"
    }
   },
   "outputs": [
    {
     "data": {
      "text/plain": [
       "   Min. 1st Qu.  Median    Mean 3rd Qu.    Max. \n",
       "   0.42   18.00   24.00   25.14   32.00   74.00 "
      ]
     },
     "metadata": {},
     "output_type": "display_data"
    },
    {
     "data": {
      "text/plain": [
       "\n",
       "0.42 0.75    1    2    3    4    5    6    7    8    9   10   11   12   13   14 \n",
       "   1    2    5    7    3    7    3    2    2    2    8    2    3    1    1    4 \n",
       "14.5   15   16   17   18   19   20 20.5   21   22   23 23.5   24 24.5   25   26 \n",
       "   1    4   12    8   16   14   15    1   17   20    5    1   13    1   13   14 \n",
       "  27   28 28.5   29   30 30.5   31   32   33   34 34.5   35   36   37   38   39 \n",
       "   8   12    2   11   11    2    7   12    8    4    1    6    6    2    4    6 \n",
       "  40 40.5   41   42   43   44   45 45.5   47   48   49   50   51 55.5   59   61 \n",
       "   5    2    4    4    3    4    5    1    3    2    1    1    3    1    1    1 \n",
       "  63   65 70.5   74 \n",
       "   1    1    1    1 "
      ]
     },
     "metadata": {},
     "output_type": "display_data"
    }
   ],
   "source": [
    "summary(class3Age$Age)\n",
    "# 나이가 정규분포를 이룬다\n",
    "\n",
    "table(class3Age$Age)"
   ]
  },
  {
   "cell_type": "code",
   "execution_count": 14,
   "metadata": {
    "vscode": {
     "languageId": "r"
    }
   },
   "outputs": [
    {
     "data": {
      "image/png": "[encoded data removed]",
      "text/plain": [
       "plot without title"
      ]
     },
     "metadata": {
      "image/png": {
       "height": 540,
       "width": 900
      }
     },
     "output_type": "display_data"
    },
    {
     "data": {
      "image/png": "[encoded data removed]",
      "text/plain": [
       "plot without title"
      ]
     },
     "metadata": {
      "image/png": {
       "height": 540,
       "width": 900
      }
     },
     "output_type": "display_data"
    },
    {
     "data": {
      "image/png": "[encoded data removed]",
      "text/plain": [
       "plot without title"
      ]
     },
     "metadata": {
      "image/png": {
       "height": 540,
       "width": 900
      }
     },
     "output_type": "display_data"
    },
    {
     "data": {
      "image/png": "[encoded data removed]",
      "text/plain": [
       "plot without title"
      ]
     },
     "metadata": {
      "image/png": {
       "height": 540,
       "width": 900
      }
     },
     "output_type": "display_data"
    }
   ],
   "source": [
    "par(bg = 'white')\n",
    "plot(class3Age$Age)\n",
    "plot(withoutNA$Age)\n",
    "boxplot(class3Age$Age)\n",
    "boxplot(withoutNA$Age)"
   ]
  },
  {
   "cell_type": "code",
   "execution_count": 15,
   "metadata": {
    "vscode": {
     "languageId": "r"
    }
   },
   "outputs": [
    {
     "data": {
      "text/html": [
       "<style>\n",
       ".list-inline {list-style: none; margin:0; padding: 0}\n",
       ".list-inline>li {display: inline-block}\n",
       ".list-inline>li:not(:last-child)::after {content: \"\\00b7\"; padding: 0 .5ex}\n",
       "</style>\n",
       "<ol class=list-inline><li>0.42</li><li>0.75</li><li>0.75</li><li>1</li><li>1</li><li>1</li><li>1</li><li>1</li><li>2</li><li>2</li><li>2</li><li>2</li><li>2</li><li>2</li><li>2</li><li>3</li><li>3</li><li>3</li><li>4</li><li>4</li><li>4</li><li>4</li><li>4</li><li>4</li><li>4</li><li>5</li><li>5</li><li>5</li><li>6</li><li>6</li><li>7</li><li>7</li><li>8</li><li>8</li><li>9</li><li>9</li><li>9</li><li>9</li><li>9</li><li>9</li><li>9</li><li>9</li><li>10</li><li>10</li><li>11</li><li>11</li><li>11</li><li>12</li><li>13</li><li>14</li><li>14</li><li>14</li><li>14</li><li>14.5</li><li>15</li><li>15</li><li>15</li><li>15</li><li>16</li><li>16</li><li>16</li><li>16</li><li>16</li><li>16</li><li>16</li><li>16</li><li>16</li><li>16</li><li>16</li><li>16</li><li>17</li><li>17</li><li>17</li><li>17</li><li>17</li><li>17</li><li>17</li><li>17</li><li>18</li><li>18</li><li>18</li><li>18</li><li>18</li><li>18</li><li>18</li><li>18</li><li>18</li><li>18</li><li>18</li><li>18</li><li>18</li><li>18</li><li>18</li><li>18</li><li>19</li><li>19</li><li>19</li><li>19</li><li>19</li><li>19</li><li>19</li><li>19</li><li>19</li><li>19</li><li>19</li><li>19</li><li>19</li><li>19</li><li>20</li><li>20</li><li>20</li><li>20</li><li>20</li><li>20</li><li>20</li><li>20</li><li>20</li><li>20</li><li>20</li><li>20</li><li>20</li><li>20</li><li>20</li><li>20.5</li><li>21</li><li>21</li><li>21</li><li>21</li><li>21</li><li>21</li><li>21</li><li>21</li><li>21</li><li>21</li><li>21</li><li>21</li><li>21</li><li>21</li><li>21</li><li>21</li><li>21</li><li>22</li><li>22</li><li>22</li><li>22</li><li>22</li><li>22</li><li>22</li><li>22</li><li>22</li><li>22</li><li>22</li><li>22</li><li>22</li><li>22</li><li>22</li><li>22</li><li>22</li><li>22</li><li>22</li><li>22</li><li>23</li><li>23</li><li>23</li><li>23</li><li>23</li><li>23.5</li><li>24</li><li>24</li><li>24</li><li>24</li><li>24</li><li>24</li><li>24</li><li>24</li><li>24</li><li>24</li><li>24</li><li>24</li><li>24</li><li>24.5</li><li>25</li><li>25</li><li>25</li><li>25</li><li>25</li><li>25</li><li>25</li><li>25</li><li>25</li><li>25</li><li>25</li><li>25</li><li>25</li><li>26</li><li>26</li><li>26</li><li>26</li><li>26</li><li>26</li><li>26</li><li>26</li><li>26</li><li>26</li><li>26</li><li>26</li><li>26</li><li>26</li><li>27</li><li>27</li><li>27</li><li>27</li><li>27</li><li>27</li><li>27</li><li>27</li><li>28</li><li>28</li><li>28</li><li>28</li><li>28</li><li>28</li><li>28</li><li>28</li><li>28</li><li>28</li><li>28</li><li>28</li><li>28.5</li><li>28.5</li><li>29</li><li>29</li><li>29</li><li>29</li><li>29</li><li>29</li><li>29</li><li>29</li><li>29</li><li>29</li><li>29</li><li>30</li><li>30</li><li>30</li><li>30</li><li>30</li><li>30</li><li>30</li><li>30</li><li>30</li><li>30</li><li>30</li><li>30.5</li><li>30.5</li><li>31</li><li>31</li><li>31</li><li>31</li><li>31</li><li>31</li><li>31</li><li>32</li><li>32</li><li>32</li><li>32</li><li>32</li><li>32</li><li>32</li><li>32</li><li>32</li><li>32</li><li>32</li><li>32</li><li>33</li><li>33</li><li>33</li><li>33</li><li>33</li><li>33</li><li>33</li><li>33</li><li>34</li><li>34</li><li>34</li><li>34</li><li>34.5</li><li>35</li><li>35</li><li>35</li><li>35</li><li>35</li><li>35</li><li>36</li><li>36</li><li>36</li><li>36</li><li>36</li><li>36</li><li>37</li><li>37</li><li>38</li><li>38</li><li>38</li><li>38</li><li>39</li><li>39</li><li>39</li><li>39</li><li>39</li><li>39</li><li>40</li><li>40</li><li>40</li><li>40</li><li>40</li><li>40.5</li><li>40.5</li><li>41</li><li>41</li><li>41</li><li>41</li><li>42</li><li>42</li><li>42</li><li>42</li><li>43</li><li>43</li><li>43</li><li>44</li><li>44</li><li>44</li><li>44</li><li>45</li><li>45</li><li>45</li><li>45</li><li>45</li><li>45.5</li><li>47</li><li>47</li><li>47</li><li>48</li><li>48</li><li>49</li><li>50</li><li>51</li><li>51</li><li>51</li><li>55.5</li><li>59</li><li>61</li><li>63</li><li>65</li><li>70.5</li><li>74</li></ol>\n"
      ],
      "text/latex": [
       "\\begin{enumerate*}\n",
       "\\item 0.42\n",
       "\\item 0.75\n",
       "\\item 0.75\n",
       "\\item 1\n",
       "\\item 1\n",
       "\\item 1\n",
       "\\item 1\n",
       "\\item 1\n",
       "\\item 2\n",
       "\\item 2\n",
       "\\item 2\n",
       "\\item 2\n",
       "\\item 2\n",
       "\\item 2\n",
       "\\item 2\n",
       "\\item 3\n",
       "\\item 3\n",
       "\\item 3\n",
       "\\item 4\n",
       "\\item 4\n",
       "\\item 4\n",
       "\\item 4\n",
       "\\item 4\n",
       "\\item 4\n",
       "\\item 4\n",
       "\\item 5\n",
       "\\item 5\n",
       "\\item 5\n",
       "\\item 6\n",
       "\\item 6\n",
       "\\item 7\n",
       "\\item 7\n",
       "\\item 8\n",
       "\\item 8\n",
       "\\item 9\n",
       "\\item 9\n",
       "\\item 9\n",
       "\\item 9\n",
       "\\item 9\n",
       "\\item 9\n",
       "\\item 9\n",
       "\\item 9\n",
       "\\item 10\n",
       "\\item 10\n",
       "\\item 11\n",
       "\\item 11\n",
       "\\item 11\n",
       "\\item 12\n",
       "\\item 13\n",
       "\\item 14\n",
       "\\item 14\n",
       "\\item 14\n",
       "\\item 14\n",
       "\\item 14.5\n",
       "\\item 15\n",
       "\\item 15\n",
       "\\item 15\n",
       "\\item 15\n",
       "\\item 16\n",
       "\\item 16\n",
       "\\item 16\n",
       "\\item 16\n",
       "\\item 16\n",
       "\\item 16\n",
       "\\item 16\n",
       "\\item 16\n",
       "\\item 16\n",
       "\\item 16\n",
       "\\item 16\n",
       "\\item 16\n",
       "\\item 17\n",
       "\\item 17\n",
       "\\item 17\n",
       "\\item 17\n",
       "\\item 17\n",
       "\\item 17\n",
       "\\item 17\n",
       "\\item 17\n",
       "\\item 18\n",
       "\\item 18\n",
       "\\item 18\n",
       "\\item 18\n",
       "\\item 18\n",
       "\\item 18\n",
       "\\item 18\n",
       "\\item 18\n",
       "\\item 18\n",
       "\\item 18\n",
       "\\item 18\n",
       "\\item 18\n",
       "\\item 18\n",
       "\\item 18\n",
       "\\item 18\n",
       "\\item 18\n",
       "\\item 19\n",
       "\\item 19\n",
       "\\item 19\n",
       "\\item 19\n",
       "\\item 19\n",
       "\\item 19\n",
       "\\item 19\n",
       "\\item 19\n",
       "\\item 19\n",
       "\\item 19\n",
       "\\item 19\n",
       "\\item 19\n",
       "\\item 19\n",
       "\\item 19\n",
       "\\item 20\n",
       "\\item 20\n",
       "\\item 20\n",
       "\\item 20\n",
       "\\item 20\n",
       "\\item 20\n",
       "\\item 20\n",
       "\\item 20\n",
       "\\item 20\n",
       "\\item 20\n",
       "\\item 20\n",
       "\\item 20\n",
       "\\item 20\n",
       "\\item 20\n",
       "\\item 20\n",
       "\\item 20.5\n",
       "\\item 21\n",
       "\\item 21\n",
       "\\item 21\n",
       "\\item 21\n",
       "\\item 21\n",
       "\\item 21\n",
       "\\item 21\n",
       "\\item 21\n",
       "\\item 21\n",
       "\\item 21\n",
       "\\item 21\n",
       "\\item 21\n",
       "\\item 21\n",
       "\\item 21\n",
       "\\item 21\n",
       "\\item 21\n",
       "\\item 21\n",
       "\\item 22\n",
       "\\item 22\n",
       "\\item 22\n",
       "\\item 22\n",
       "\\item 22\n",
       "\\item 22\n",
       "\\item 22\n",
       "\\item 22\n",
       "\\item 22\n",
       "\\item 22\n",
       "\\item 22\n",
       "\\item 22\n",
       "\\item 22\n",
       "\\item 22\n",
       "\\item 22\n",
       "\\item 22\n",
       "\\item 22\n",
       "\\item 22\n",
       "\\item 22\n",
       "\\item 22\n",
       "\\item 23\n",
       "\\item 23\n",
       "\\item 23\n",
       "\\item 23\n",
       "\\item 23\n",
       "\\item 23.5\n",
       "\\item 24\n",
       "\\item 24\n",
       "\\item 24\n",
       "\\item 24\n",
       "\\item 24\n",
       "\\item 24\n",
       "\\item 24\n",
       "\\item 24\n",
       "\\item 24\n",
       "\\item 24\n",
       "\\item 24\n",
       "\\item 24\n",
       "\\item 24\n",
       "\\item 24.5\n",
       "\\item 25\n",
       "\\item 25\n",
       "\\item 25\n",
       "\\item 25\n",
       "\\item 25\n",
       "\\item 25\n",
       "\\item 25\n",
       "\\item 25\n",
       "\\item 25\n",
       "\\item 25\n",
       "\\item 25\n",
       "\\item 25\n",
       "\\item 25\n",
       "\\item 26\n",
       "\\item 26\n",
       "\\item 26\n",
       "\\item 26\n",
       "\\item 26\n",
       "\\item 26\n",
       "\\item 26\n",
       "\\item 26\n",
       "\\item 26\n",
       "\\item 26\n",
       "\\item 26\n",
       "\\item 26\n",
       "\\item 26\n",
       "\\item 26\n",
       "\\item 27\n",
       "\\item 27\n",
       "\\item 27\n",
       "\\item 27\n",
       "\\item 27\n",
       "\\item 27\n",
       "\\item 27\n",
       "\\item 27\n",
       "\\item 28\n",
       "\\item 28\n",
       "\\item 28\n",
       "\\item 28\n",
       "\\item 28\n",
       "\\item 28\n",
       "\\item 28\n",
       "\\item 28\n",
       "\\item 28\n",
       "\\item 28\n",
       "\\item 28\n",
       "\\item 28\n",
       "\\item 28.5\n",
       "\\item 28.5\n",
       "\\item 29\n",
       "\\item 29\n",
       "\\item 29\n",
       "\\item 29\n",
       "\\item 29\n",
       "\\item 29\n",
       "\\item 29\n",
       "\\item 29\n",
       "\\item 29\n",
       "\\item 29\n",
       "\\item 29\n",
       "\\item 30\n",
       "\\item 30\n",
       "\\item 30\n",
       "\\item 30\n",
       "\\item 30\n",
       "\\item 30\n",
       "\\item 30\n",
       "\\item 30\n",
       "\\item 30\n",
       "\\item 30\n",
       "\\item 30\n",
       "\\item 30.5\n",
       "\\item 30.5\n",
       "\\item 31\n",
       "\\item 31\n",
       "\\item 31\n",
       "\\item 31\n",
       "\\item 31\n",
       "\\item 31\n",
       "\\item 31\n",
       "\\item 32\n",
       "\\item 32\n",
       "\\item 32\n",
       "\\item 32\n",
       "\\item 32\n",
       "\\item 32\n",
       "\\item 32\n",
       "\\item 32\n",
       "\\item 32\n",
       "\\item 32\n",
       "\\item 32\n",
       "\\item 32\n",
       "\\item 33\n",
       "\\item 33\n",
       "\\item 33\n",
       "\\item 33\n",
       "\\item 33\n",
       "\\item 33\n",
       "\\item 33\n",
       "\\item 33\n",
       "\\item 34\n",
       "\\item 34\n",
       "\\item 34\n",
       "\\item 34\n",
       "\\item 34.5\n",
       "\\item 35\n",
       "\\item 35\n",
       "\\item 35\n",
       "\\item 35\n",
       "\\item 35\n",
       "\\item 35\n",
       "\\item 36\n",
       "\\item 36\n",
       "\\item 36\n",
       "\\item 36\n",
       "\\item 36\n",
       "\\item 36\n",
       "\\item 37\n",
       "\\item 37\n",
       "\\item 38\n",
       "\\item 38\n",
       "\\item 38\n",
       "\\item 38\n",
       "\\item 39\n",
       "\\item 39\n",
       "\\item 39\n",
       "\\item 39\n",
       "\\item 39\n",
       "\\item 39\n",
       "\\item 40\n",
       "\\item 40\n",
       "\\item 40\n",
       "\\item 40\n",
       "\\item 40\n",
       "\\item 40.5\n",
       "\\item 40.5\n",
       "\\item 41\n",
       "\\item 41\n",
       "\\item 41\n",
       "\\item 41\n",
       "\\item 42\n",
       "\\item 42\n",
       "\\item 42\n",
       "\\item 42\n",
       "\\item 43\n",
       "\\item 43\n",
       "\\item 43\n",
       "\\item 44\n",
       "\\item 44\n",
       "\\item 44\n",
       "\\item 44\n",
       "\\item 45\n",
       "\\item 45\n",
       "\\item 45\n",
       "\\item 45\n",
       "\\item 45\n",
       "\\item 45.5\n",
       "\\item 47\n",
       "\\item 47\n",
       "\\item 47\n",
       "\\item 48\n",
       "\\item 48\n",
       "\\item 49\n",
       "\\item 50\n",
       "\\item 51\n",
       "\\item 51\n",
       "\\item 51\n",
       "\\item 55.5\n",
       "\\item 59\n",
       "\\item 61\n",
       "\\item 63\n",
       "\\item 65\n",
       "\\item 70.5\n",
       "\\item 74\n",
       "\\end{enumerate*}\n"
      ],
      "text/markdown": [
       "1. 0.42\n",
       "2. 0.75\n",
       "3. 0.75\n",
       "4. 1\n",
       "5. 1\n",
       "6. 1\n",
       "7. 1\n",
       "8. 1\n",
       "9. 2\n",
       "10. 2\n",
       "11. 2\n",
       "12. 2\n",
       "13. 2\n",
       "14. 2\n",
       "15. 2\n",
       "16. 3\n",
       "17. 3\n",
       "18. 3\n",
       "19. 4\n",
       "20. 4\n",
       "21. 4\n",
       "22. 4\n",
       "23. 4\n",
       "24. 4\n",
       "25. 4\n",
       "26. 5\n",
       "27. 5\n",
       "28. 5\n",
       "29. 6\n",
       "30. 6\n",
       "31. 7\n",
       "32. 7\n",
       "33. 8\n",
       "34. 8\n",
       "35. 9\n",
       "36. 9\n",
       "37. 9\n",
       "38. 9\n",
       "39. 9\n",
       "40. 9\n",
       "41. 9\n",
       "42. 9\n",
       "43. 10\n",
       "44. 10\n",
       "45. 11\n",
       "46. 11\n",
       "47. 11\n",
       "48. 12\n",
       "49. 13\n",
       "50. 14\n",
       "51. 14\n",
       "52. 14\n",
       "53. 14\n",
       "54. 14.5\n",
       "55. 15\n",
       "56. 15\n",
       "57. 15\n",
       "58. 15\n",
       "59. 16\n",
       "60. 16\n",
       "61. 16\n",
       "62. 16\n",
       "63. 16\n",
       "64. 16\n",
       "65. 16\n",
       "66. 16\n",
       "67. 16\n",
       "68. 16\n",
       "69. 16\n",
       "70. 16\n",
       "71. 17\n",
       "72. 17\n",
       "73. 17\n",
       "74. 17\n",
       "75. 17\n",
       "76. 17\n",
       "77. 17\n",
       "78. 17\n",
       "79. 18\n",
       "80. 18\n",
       "81. 18\n",
       "82. 18\n",
       "83. 18\n",
       "84. 18\n",
       "85. 18\n",
       "86. 18\n",
       "87. 18\n",
       "88. 18\n",
       "89. 18\n",
       "90. 18\n",
       "91. 18\n",
       "92. 18\n",
       "93. 18\n",
       "94. 18\n",
       "95. 19\n",
       "96. 19\n",
       "97. 19\n",
       "98. 19\n",
       "99. 19\n",
       "100. 19\n",
       "101. 19\n",
       "102. 19\n",
       "103. 19\n",
       "104. 19\n",
       "105. 19\n",
       "106. 19\n",
       "107. 19\n",
       "108. 19\n",
       "109. 20\n",
       "110. 20\n",
       "111. 20\n",
       "112. 20\n",
       "113. 20\n",
       "114. 20\n",
       "115. 20\n",
       "116. 20\n",
       "117. 20\n",
       "118. 20\n",
       "119. 20\n",
       "120. 20\n",
       "121. 20\n",
       "122. 20\n",
       "123. 20\n",
       "124. 20.5\n",
       "125. 21\n",
       "126. 21\n",
       "127. 21\n",
       "128. 21\n",
       "129. 21\n",
       "130. 21\n",
       "131. 21\n",
       "132. 21\n",
       "133. 21\n",
       "134. 21\n",
       "135. 21\n",
       "136. 21\n",
       "137. 21\n",
       "138. 21\n",
       "139. 21\n",
       "140. 21\n",
       "141. 21\n",
       "142. 22\n",
       "143. 22\n",
       "144. 22\n",
       "145. 22\n",
       "146. 22\n",
       "147. 22\n",
       "148. 22\n",
       "149. 22\n",
       "150. 22\n",
       "151. 22\n",
       "152. 22\n",
       "153. 22\n",
       "154. 22\n",
       "155. 22\n",
       "156. 22\n",
       "157. 22\n",
       "158. 22\n",
       "159. 22\n",
       "160. 22\n",
       "161. 22\n",
       "162. 23\n",
       "163. 23\n",
       "164. 23\n",
       "165. 23\n",
       "166. 23\n",
       "167. 23.5\n",
       "168. 24\n",
       "169. 24\n",
       "170. 24\n",
       "171. 24\n",
       "172. 24\n",
       "173. 24\n",
       "174. 24\n",
       "175. 24\n",
       "176. 24\n",
       "177. 24\n",
       "178. 24\n",
       "179. 24\n",
       "180. 24\n",
       "181. 24.5\n",
       "182. 25\n",
       "183. 25\n",
       "184. 25\n",
       "185. 25\n",
       "186. 25\n",
       "187. 25\n",
       "188. 25\n",
       "189. 25\n",
       "190. 25\n",
       "191. 25\n",
       "192. 25\n",
       "193. 25\n",
       "194. 25\n",
       "195. 26\n",
       "196. 26\n",
       "197. 26\n",
       "198. 26\n",
       "199. 26\n",
       "200. 26\n",
       "201. 26\n",
       "202. 26\n",
       "203. 26\n",
       "204. 26\n",
       "205. 26\n",
       "206. 26\n",
       "207. 26\n",
       "208. 26\n",
       "209. 27\n",
       "210. 27\n",
       "211. 27\n",
       "212. 27\n",
       "213. 27\n",
       "214. 27\n",
       "215. 27\n",
       "216. 27\n",
       "217. 28\n",
       "218. 28\n",
       "219. 28\n",
       "220. 28\n",
       "221. 28\n",
       "222. 28\n",
       "223. 28\n",
       "224. 28\n",
       "225. 28\n",
       "226. 28\n",
       "227. 28\n",
       "228. 28\n",
       "229. 28.5\n",
       "230. 28.5\n",
       "231. 29\n",
       "232. 29\n",
       "233. 29\n",
       "234. 29\n",
       "235. 29\n",
       "236. 29\n",
       "237. 29\n",
       "238. 29\n",
       "239. 29\n",
       "240. 29\n",
       "241. 29\n",
       "242. 30\n",
       "243. 30\n",
       "244. 30\n",
       "245. 30\n",
       "246. 30\n",
       "247. 30\n",
       "248. 30\n",
       "249. 30\n",
       "250. 30\n",
       "251. 30\n",
       "252. 30\n",
       "253. 30.5\n",
       "254. 30.5\n",
       "255. 31\n",
       "256. 31\n",
       "257. 31\n",
       "258. 31\n",
       "259. 31\n",
       "260. 31\n",
       "261. 31\n",
       "262. 32\n",
       "263. 32\n",
       "264. 32\n",
       "265. 32\n",
       "266. 32\n",
       "267. 32\n",
       "268. 32\n",
       "269. 32\n",
       "270. 32\n",
       "271. 32\n",
       "272. 32\n",
       "273. 32\n",
       "274. 33\n",
       "275. 33\n",
       "276. 33\n",
       "277. 33\n",
       "278. 33\n",
       "279. 33\n",
       "280. 33\n",
       "281. 33\n",
       "282. 34\n",
       "283. 34\n",
       "284. 34\n",
       "285. 34\n",
       "286. 34.5\n",
       "287. 35\n",
       "288. 35\n",
       "289. 35\n",
       "290. 35\n",
       "291. 35\n",
       "292. 35\n",
       "293. 36\n",
       "294. 36\n",
       "295. 36\n",
       "296. 36\n",
       "297. 36\n",
       "298. 36\n",
       "299. 37\n",
       "300. 37\n",
       "301. 38\n",
       "302. 38\n",
       "303. 38\n",
       "304. 38\n",
       "305. 39\n",
       "306. 39\n",
       "307. 39\n",
       "308. 39\n",
       "309. 39\n",
       "310. 39\n",
       "311. 40\n",
       "312. 40\n",
       "313. 40\n",
       "314. 40\n",
       "315. 40\n",
       "316. 40.5\n",
       "317. 40.5\n",
       "318. 41\n",
       "319. 41\n",
       "320. 41\n",
       "321. 41\n",
       "322. 42\n",
       "323. 42\n",
       "324. 42\n",
       "325. 42\n",
       "326. 43\n",
       "327. 43\n",
       "328. 43\n",
       "329. 44\n",
       "330. 44\n",
       "331. 44\n",
       "332. 44\n",
       "333. 45\n",
       "334. 45\n",
       "335. 45\n",
       "336. 45\n",
       "337. 45\n",
       "338. 45.5\n",
       "339. 47\n",
       "340. 47\n",
       "341. 47\n",
       "342. 48\n",
       "343. 48\n",
       "344. 49\n",
       "345. 50\n",
       "346. 51\n",
       "347. 51\n",
       "348. 51\n",
       "349. 55.5\n",
       "350. 59\n",
       "351. 61\n",
       "352. 63\n",
       "353. 65\n",
       "354. 70.5\n",
       "355. 74\n",
       "\n",
       "\n"
      ],
      "text/plain": [
       "  [1]  0.42  0.75  0.75  1.00  1.00  1.00  1.00  1.00  2.00  2.00  2.00  2.00\n",
       " [13]  2.00  2.00  2.00  3.00  3.00  3.00  4.00  4.00  4.00  4.00  4.00  4.00\n",
       " [25]  4.00  5.00  5.00  5.00  6.00  6.00  7.00  7.00  8.00  8.00  9.00  9.00\n",
       " [37]  9.00  9.00  9.00  9.00  9.00  9.00 10.00 10.00 11.00 11.00 11.00 12.00\n",
       " [49] 13.00 14.00 14.00 14.00 14.00 14.50 15.00 15.00 15.00 15.00 16.00 16.00\n",
       " [61] 16.00 16.00 16.00 16.00 16.00 16.00 16.00 16.00 16.00 16.00 17.00 17.00\n",
       " [73] 17.00 17.00 17.00 17.00 17.00 17.00 18.00 18.00 18.00 18.00 18.00 18.00\n",
       " [85] 18.00 18.00 18.00 18.00 18.00 18.00 18.00 18.00 18.00 18.00 19.00 19.00\n",
       " [97] 19.00 19.00 19.00 19.00 19.00 19.00 19.00 19.00 19.00 19.00 19.00 19.00\n",
       "[109] 20.00 20.00 20.00 20.00 20.00 20.00 20.00 20.00 20.00 20.00 20.00 20.00\n",
       "[121] 20.00 20.00 20.00 20.50 21.00 21.00 21.00 21.00 21.00 21.00 21.00 21.00\n",
       "[133] 21.00 21.00 21.00 21.00 21.00 21.00 21.00 21.00 21.00 22.00 22.00 22.00\n",
       "[145] 22.00 22.00 22.00 22.00 22.00 22.00 22.00 22.00 22.00 22.00 22.00 22.00\n",
       "[157] 22.00 22.00 22.00 22.00 22.00 23.00 23.00 23.00 23.00 23.00 23.50 24.00\n",
       "[169] 24.00 24.00 24.00 24.00 24.00 24.00 24.00 24.00 24.00 24.00 24.00 24.00\n",
       "[181] 24.50 25.00 25.00 25.00 25.00 25.00 25.00 25.00 25.00 25.00 25.00 25.00\n",
       "[193] 25.00 25.00 26.00 26.00 26.00 26.00 26.00 26.00 26.00 26.00 26.00 26.00\n",
       "[205] 26.00 26.00 26.00 26.00 27.00 27.00 27.00 27.00 27.00 27.00 27.00 27.00\n",
       "[217] 28.00 28.00 28.00 28.00 28.00 28.00 28.00 28.00 28.00 28.00 28.00 28.00\n",
       "[229] 28.50 28.50 29.00 29.00 29.00 29.00 29.00 29.00 29.00 29.00 29.00 29.00\n",
       "[241] 29.00 30.00 30.00 30.00 30.00 30.00 30.00 30.00 30.00 30.00 30.00 30.00\n",
       "[253] 30.50 30.50 31.00 31.00 31.00 31.00 31.00 31.00 31.00 32.00 32.00 32.00\n",
       "[265] 32.00 32.00 32.00 32.00 32.00 32.00 32.00 32.00 32.00 33.00 33.00 33.00\n",
       "[277] 33.00 33.00 33.00 33.00 33.00 34.00 34.00 34.00 34.00 34.50 35.00 35.00\n",
       "[289] 35.00 35.00 35.00 35.00 36.00 36.00 36.00 36.00 36.00 36.00 37.00 37.00\n",
       "[301] 38.00 38.00 38.00 38.00 39.00 39.00 39.00 39.00 39.00 39.00 40.00 40.00\n",
       "[313] 40.00 40.00 40.00 40.50 40.50 41.00 41.00 41.00 41.00 42.00 42.00 42.00\n",
       "[325] 42.00 43.00 43.00 43.00 44.00 44.00 44.00 44.00 45.00 45.00 45.00 45.00\n",
       "[337] 45.00 45.50 47.00 47.00 47.00 48.00 48.00 49.00 50.00 51.00 51.00 51.00\n",
       "[349] 55.50 59.00 61.00 63.00 65.00 70.50 74.00"
      ]
     },
     "metadata": {},
     "output_type": "display_data"
    }
   ],
   "source": [
    "sortedData <- sort(class3Age$Age)\n",
    "sortedData\n"
   ]
  },
  {
   "cell_type": "code",
   "execution_count": 16,
   "metadata": {
    "vscode": {
     "languageId": "r"
    }
   },
   "outputs": [
    {
     "data": {
      "text/html": [
       "<style>\n",
       ".list-inline {list-style: none; margin:0; padding: 0}\n",
       ".list-inline>li {display: inline-block}\n",
       ".list-inline>li:not(:last-child)::after {content: \"\\00b7\"; padding: 0 .5ex}\n",
       "</style>\n",
       "<ol class=list-inline><li>0.42</li><li>0.75</li><li>0.75</li><li>1</li><li>1</li><li>1</li><li>1</li><li>1</li><li>2</li><li>2</li><li>2</li><li>2</li><li>2</li><li>2</li><li>2</li><li>3</li><li>3</li><li>3</li><li>4</li><li>4</li><li>4</li><li>4</li><li>4</li><li>4</li><li>4</li><li>5</li><li>5</li><li>5</li><li>6</li><li>6</li><li>7</li><li>7</li><li>8</li><li>8</li><li>9</li><li>9</li><li>9</li><li>9</li><li>9</li><li>9</li><li>9</li><li>9</li><li>10</li><li>10</li><li>11</li><li>11</li><li>11</li><li>12</li><li>13</li><li>14</li><li>14</li><li>14</li><li>14</li><li>14.5</li><li>15</li><li>15</li><li>15</li><li>15</li><li>16</li><li>16</li><li>16</li><li>16</li><li>16</li><li>16</li><li>16</li><li>16</li><li>16</li><li>16</li><li>16</li><li>16</li><li>17</li><li>17</li><li>17</li><li>17</li><li>17</li><li>17</li><li>17</li><li>17</li><li>18</li><li>18</li><li>18</li><li>18</li><li>18</li><li>18</li><li>18</li><li>18</li><li>18</li><li>18</li><li>18</li><li>18</li><li>18</li><li>18</li><li>18</li><li>18</li><li>19</li><li>19</li><li>19</li><li>19</li><li>19</li><li>19</li><li>19</li><li>19</li><li>19</li><li>19</li><li>19</li><li>19</li><li>19</li><li>19</li><li>20</li><li>20</li><li>20</li><li>20</li><li>20</li><li>20</li><li>20</li><li>20</li><li>20</li><li>20</li><li>20</li><li>20</li><li>20</li><li>20</li><li>20</li><li>20.5</li><li>21</li><li>21</li><li>21</li><li>21</li><li>21</li><li>21</li><li>21</li><li>21</li><li>21</li><li>21</li><li>21</li><li>21</li><li>21</li><li>21</li><li>21</li><li>21</li><li>21</li><li>22</li><li>22</li><li>22</li><li>22</li><li>22</li><li>22</li><li>22</li><li>22</li><li>22</li><li>22</li><li>22</li><li>22</li><li>22</li><li>22</li><li>22</li><li>22</li><li>22</li><li>22</li><li>22</li><li>22</li><li>23</li><li>23</li><li>23</li><li>23</li><li>23</li><li>23.5</li><li>24</li><li>24</li><li>24</li><li>24</li><li>24</li><li>24</li><li>24</li><li>24</li><li>24</li><li>24</li><li>24</li><li>24</li><li>24</li><li>24.5</li><li>25</li><li>25</li><li>25</li><li>25</li><li>25</li><li>25</li><li>25</li><li>25</li><li>25</li><li>25</li><li>25</li><li>25</li><li>25</li><li>26</li><li>26</li><li>26</li><li>26</li><li>26</li><li>26</li><li>26</li><li>26</li><li>26</li><li>26</li><li>26</li><li>26</li><li>26</li><li>26</li><li>27</li><li>27</li><li>27</li><li>27</li><li>27</li><li>27</li><li>27</li><li>27</li><li>28</li><li>28</li><li>28</li><li>28</li><li>28</li><li>28</li><li>28</li><li>28</li><li>28</li><li>28</li><li>28</li><li>28</li><li>28.5</li><li>28.5</li><li>29</li><li>29</li><li>29</li><li>29</li><li>29</li><li>29</li><li>29</li><li>29</li><li>29</li><li>29</li><li>29</li><li>30</li><li>30</li><li>30</li><li>30</li><li>30</li><li>30</li><li>30</li><li>30</li><li>30</li><li>30</li><li>30</li><li>30.5</li><li>30.5</li><li>31</li><li>31</li><li>31</li><li>31</li><li>31</li><li>31</li><li>31</li><li>32</li><li>32</li><li>32</li><li>32</li><li>32</li><li>32</li><li>32</li><li>32</li><li>32</li><li>32</li><li>32</li><li>32</li><li>33</li><li>33</li><li>33</li><li>33</li><li>33</li><li>33</li><li>33</li><li>33</li><li>34</li><li>34</li><li>34</li><li>34</li><li>34.5</li><li>35</li><li>35</li><li>35</li><li>35</li><li>35</li><li>35</li><li>36</li><li>36</li><li>36</li><li>36</li><li>36</li><li>36</li><li>37</li><li>37</li><li>38</li><li>38</li><li>38</li><li>38</li><li>39</li><li>39</li><li>39</li><li>39</li><li>39</li><li>39</li><li>40</li><li>40</li><li>40</li><li>40</li><li>40</li><li>40.5</li><li>40.5</li><li>41</li><li>41</li><li>41</li><li>41</li><li>42</li><li>42</li><li>42</li><li>42</li><li>43</li><li>43</li><li>43</li><li>44</li><li>44</li><li>44</li><li>44</li><li>45</li><li>45</li><li>45</li><li>45</li><li>45</li><li>45.5</li><li>47</li><li>47</li><li>47</li><li>48</li><li>48</li><li>49</li><li>50</li><li>51</li><li>51</li><li>51</li></ol>\n"
      ],
      "text/latex": [
       "\\begin{enumerate*}\n",
       "\\item 0.42\n",
       "\\item 0.75\n",
       "\\item 0.75\n",
       "\\item 1\n",
       "\\item 1\n",
       "\\item 1\n",
       "\\item 1\n",
       "\\item 1\n",
       "\\item 2\n",
       "\\item 2\n",
       "\\item 2\n",
       "\\item 2\n",
       "\\item 2\n",
       "\\item 2\n",
       "\\item 2\n",
       "\\item 3\n",
       "\\item 3\n",
       "\\item 3\n",
       "\\item 4\n",
       "\\item 4\n",
       "\\item 4\n",
       "\\item 4\n",
       "\\item 4\n",
       "\\item 4\n",
       "\\item 4\n",
       "\\item 5\n",
       "\\item 5\n",
       "\\item 5\n",
       "\\item 6\n",
       "\\item 6\n",
       "\\item 7\n",
       "\\item 7\n",
       "\\item 8\n",
       "\\item 8\n",
       "\\item 9\n",
       "\\item 9\n",
       "\\item 9\n",
       "\\item 9\n",
       "\\item 9\n",
       "\\item 9\n",
       "\\item 9\n",
       "\\item 9\n",
       "\\item 10\n",
       "\\item 10\n",
       "\\item 11\n",
       "\\item 11\n",
       "\\item 11\n",
       "\\item 12\n",
       "\\item 13\n",
       "\\item 14\n",
       "\\item 14\n",
       "\\item 14\n",
       "\\item 14\n",
       "\\item 14.5\n",
       "\\item 15\n",
       "\\item 15\n",
       "\\item 15\n",
       "\\item 15\n",
       "\\item 16\n",
       "\\item 16\n",
       "\\item 16\n",
       "\\item 16\n",
       "\\item 16\n",
       "\\item 16\n",
       "\\item 16\n",
       "\\item 16\n",
       "\\item 16\n",
       "\\item 16\n",
       "\\item 16\n",
       "\\item 16\n",
       "\\item 17\n",
       "\\item 17\n",
       "\\item 17\n",
       "\\item 17\n",
       "\\item 17\n",
       "\\item 17\n",
       "\\item 17\n",
       "\\item 17\n",
       "\\item 18\n",
       "\\item 18\n",
       "\\item 18\n",
       "\\item 18\n",
       "\\item 18\n",
       "\\item 18\n",
       "\\item 18\n",
       "\\item 18\n",
       "\\item 18\n",
       "\\item 18\n",
       "\\item 18\n",
       "\\item 18\n",
       "\\item 18\n",
       "\\item 18\n",
       "\\item 18\n",
       "\\item 18\n",
       "\\item 19\n",
       "\\item 19\n",
       "\\item 19\n",
       "\\item 19\n",
       "\\item 19\n",
       "\\item 19\n",
       "\\item 19\n",
       "\\item 19\n",
       "\\item 19\n",
       "\\item 19\n",
       "\\item 19\n",
       "\\item 19\n",
       "\\item 19\n",
       "\\item 19\n",
       "\\item 20\n",
       "\\item 20\n",
       "\\item 20\n",
       "\\item 20\n",
       "\\item 20\n",
       "\\item 20\n",
       "\\item 20\n",
       "\\item 20\n",
       "\\item 20\n",
       "\\item 20\n",
       "\\item 20\n",
       "\\item 20\n",
       "\\item 20\n",
       "\\item 20\n",
       "\\item 20\n",
       "\\item 20.5\n",
       "\\item 21\n",
       "\\item 21\n",
       "\\item 21\n",
       "\\item 21\n",
       "\\item 21\n",
       "\\item 21\n",
       "\\item 21\n",
       "\\item 21\n",
       "\\item 21\n",
       "\\item 21\n",
       "\\item 21\n",
       "\\item 21\n",
       "\\item 21\n",
       "\\item 21\n",
       "\\item 21\n",
       "\\item 21\n",
       "\\item 21\n",
       "\\item 22\n",
       "\\item 22\n",
       "\\item 22\n",
       "\\item 22\n",
       "\\item 22\n",
       "\\item 22\n",
       "\\item 22\n",
       "\\item 22\n",
       "\\item 22\n",
       "\\item 22\n",
       "\\item 22\n",
       "\\item 22\n",
       "\\item 22\n",
       "\\item 22\n",
       "\\item 22\n",
       "\\item 22\n",
       "\\item 22\n",
       "\\item 22\n",
       "\\item 22\n",
       "\\item 22\n",
       "\\item 23\n",
       "\\item 23\n",
       "\\item 23\n",
       "\\item 23\n",
       "\\item 23\n",
       "\\item 23.5\n",
       "\\item 24\n",
       "\\item 24\n",
       "\\item 24\n",
       "\\item 24\n",
       "\\item 24\n",
       "\\item 24\n",
       "\\item 24\n",
       "\\item 24\n",
       "\\item 24\n",
       "\\item 24\n",
       "\\item 24\n",
       "\\item 24\n",
       "\\item 24\n",
       "\\item 24.5\n",
       "\\item 25\n",
       "\\item 25\n",
       "\\item 25\n",
       "\\item 25\n",
       "\\item 25\n",
       "\\item 25\n",
       "\\item 25\n",
       "\\item 25\n",
       "\\item 25\n",
       "\\item 25\n",
       "\\item 25\n",
       "\\item 25\n",
       "\\item 25\n",
       "\\item 26\n",
       "\\item 26\n",
       "\\item 26\n",
       "\\item 26\n",
       "\\item 26\n",
       "\\item 26\n",
       "\\item 26\n",
       "\\item 26\n",
       "\\item 26\n",
       "\\item 26\n",
       "\\item 26\n",
       "\\item 26\n",
       "\\item 26\n",
       "\\item 26\n",
       "\\item 27\n",
       "\\item 27\n",
       "\\item 27\n",
       "\\item 27\n",
       "\\item 27\n",
       "\\item 27\n",
       "\\item 27\n",
       "\\item 27\n",
       "\\item 28\n",
       "\\item 28\n",
       "\\item 28\n",
       "\\item 28\n",
       "\\item 28\n",
       "\\item 28\n",
       "\\item 28\n",
       "\\item 28\n",
       "\\item 28\n",
       "\\item 28\n",
       "\\item 28\n",
       "\\item 28\n",
       "\\item 28.5\n",
       "\\item 28.5\n",
       "\\item 29\n",
       "\\item 29\n",
       "\\item 29\n",
       "\\item 29\n",
       "\\item 29\n",
       "\\item 29\n",
       "\\item 29\n",
       "\\item 29\n",
       "\\item 29\n",
       "\\item 29\n",
       "\\item 29\n",
       "\\item 30\n",
       "\\item 30\n",
       "\\item 30\n",
       "\\item 30\n",
       "\\item 30\n",
       "\\item 30\n",
       "\\item 30\n",
       "\\item 30\n",
       "\\item 30\n",
       "\\item 30\n",
       "\\item 30\n",
       "\\item 30.5\n",
       "\\item 30.5\n",
       "\\item 31\n",
       "\\item 31\n",
       "\\item 31\n",
       "\\item 31\n",
       "\\item 31\n",
       "\\item 31\n",
       "\\item 31\n",
       "\\item 32\n",
       "\\item 32\n",
       "\\item 32\n",
       "\\item 32\n",
       "\\item 32\n",
       "\\item 32\n",
       "\\item 32\n",
       "\\item 32\n",
       "\\item 32\n",
       "\\item 32\n",
       "\\item 32\n",
       "\\item 32\n",
       "\\item 33\n",
       "\\item 33\n",
       "\\item 33\n",
       "\\item 33\n",
       "\\item 33\n",
       "\\item 33\n",
       "\\item 33\n",
       "\\item 33\n",
       "\\item 34\n",
       "\\item 34\n",
       "\\item 34\n",
       "\\item 34\n",
       "\\item 34.5\n",
       "\\item 35\n",
       "\\item 35\n",
       "\\item 35\n",
       "\\item 35\n",
       "\\item 35\n",
       "\\item 35\n",
       "\\item 36\n",
       "\\item 36\n",
       "\\item 36\n",
       "\\item 36\n",
       "\\item 36\n",
       "\\item 36\n",
       "\\item 37\n",
       "\\item 37\n",
       "\\item 38\n",
       "\\item 38\n",
       "\\item 38\n",
       "\\item 38\n",
       "\\item 39\n",
       "\\item 39\n",
       "\\item 39\n",
       "\\item 39\n",
       "\\item 39\n",
       "\\item 39\n",
       "\\item 40\n",
       "\\item 40\n",
       "\\item 40\n",
       "\\item 40\n",
       "\\item 40\n",
       "\\item 40.5\n",
       "\\item 40.5\n",
       "\\item 41\n",
       "\\item 41\n",
       "\\item 41\n",
       "\\item 41\n",
       "\\item 42\n",
       "\\item 42\n",
       "\\item 42\n",
       "\\item 42\n",
       "\\item 43\n",
       "\\item 43\n",
       "\\item 43\n",
       "\\item 44\n",
       "\\item 44\n",
       "\\item 44\n",
       "\\item 44\n",
       "\\item 45\n",
       "\\item 45\n",
       "\\item 45\n",
       "\\item 45\n",
       "\\item 45\n",
       "\\item 45.5\n",
       "\\item 47\n",
       "\\item 47\n",
       "\\item 47\n",
       "\\item 48\n",
       "\\item 48\n",
       "\\item 49\n",
       "\\item 50\n",
       "\\item 51\n",
       "\\item 51\n",
       "\\item 51\n",
       "\\end{enumerate*}\n"
      ],
      "text/markdown": [
       "1. 0.42\n",
       "2. 0.75\n",
       "3. 0.75\n",
       "4. 1\n",
       "5. 1\n",
       "6. 1\n",
       "7. 1\n",
       "8. 1\n",
       "9. 2\n",
       "10. 2\n",
       "11. 2\n",
       "12. 2\n",
       "13. 2\n",
       "14. 2\n",
       "15. 2\n",
       "16. 3\n",
       "17. 3\n",
       "18. 3\n",
       "19. 4\n",
       "20. 4\n",
       "21. 4\n",
       "22. 4\n",
       "23. 4\n",
       "24. 4\n",
       "25. 4\n",
       "26. 5\n",
       "27. 5\n",
       "28. 5\n",
       "29. 6\n",
       "30. 6\n",
       "31. 7\n",
       "32. 7\n",
       "33. 8\n",
       "34. 8\n",
       "35. 9\n",
       "36. 9\n",
       "37. 9\n",
       "38. 9\n",
       "39. 9\n",
       "40. 9\n",
       "41. 9\n",
       "42. 9\n",
       "43. 10\n",
       "44. 10\n",
       "45. 11\n",
       "46. 11\n",
       "47. 11\n",
       "48. 12\n",
       "49. 13\n",
       "50. 14\n",
       "51. 14\n",
       "52. 14\n",
       "53. 14\n",
       "54. 14.5\n",
       "55. 15\n",
       "56. 15\n",
       "57. 15\n",
       "58. 15\n",
       "59. 16\n",
       "60. 16\n",
       "61. 16\n",
       "62. 16\n",
       "63. 16\n",
       "64. 16\n",
       "65. 16\n",
       "66. 16\n",
       "67. 16\n",
       "68. 16\n",
       "69. 16\n",
       "70. 16\n",
       "71. 17\n",
       "72. 17\n",
       "73. 17\n",
       "74. 17\n",
       "75. 17\n",
       "76. 17\n",
       "77. 17\n",
       "78. 17\n",
       "79. 18\n",
       "80. 18\n",
       "81. 18\n",
       "82. 18\n",
       "83. 18\n",
       "84. 18\n",
       "85. 18\n",
       "86. 18\n",
       "87. 18\n",
       "88. 18\n",
       "89. 18\n",
       "90. 18\n",
       "91. 18\n",
       "92. 18\n",
       "93. 18\n",
       "94. 18\n",
       "95. 19\n",
       "96. 19\n",
       "97. 19\n",
       "98. 19\n",
       "99. 19\n",
       "100. 19\n",
       "101. 19\n",
       "102. 19\n",
       "103. 19\n",
       "104. 19\n",
       "105. 19\n",
       "106. 19\n",
       "107. 19\n",
       "108. 19\n",
       "109. 20\n",
       "110. 20\n",
       "111. 20\n",
       "112. 20\n",
       "113. 20\n",
       "114. 20\n",
       "115. 20\n",
       "116. 20\n",
       "117. 20\n",
       "118. 20\n",
       "119. 20\n",
       "120. 20\n",
       "121. 20\n",
       "122. 20\n",
       "123. 20\n",
       "124. 20.5\n",
       "125. 21\n",
       "126. 21\n",
       "127. 21\n",
       "128. 21\n",
       "129. 21\n",
       "130. 21\n",
       "131. 21\n",
       "132. 21\n",
       "133. 21\n",
       "134. 21\n",
       "135. 21\n",
       "136. 21\n",
       "137. 21\n",
       "138. 21\n",
       "139. 21\n",
       "140. 21\n",
       "141. 21\n",
       "142. 22\n",
       "143. 22\n",
       "144. 22\n",
       "145. 22\n",
       "146. 22\n",
       "147. 22\n",
       "148. 22\n",
       "149. 22\n",
       "150. 22\n",
       "151. 22\n",
       "152. 22\n",
       "153. 22\n",
       "154. 22\n",
       "155. 22\n",
       "156. 22\n",
       "157. 22\n",
       "158. 22\n",
       "159. 22\n",
       "160. 22\n",
       "161. 22\n",
       "162. 23\n",
       "163. 23\n",
       "164. 23\n",
       "165. 23\n",
       "166. 23\n",
       "167. 23.5\n",
       "168. 24\n",
       "169. 24\n",
       "170. 24\n",
       "171. 24\n",
       "172. 24\n",
       "173. 24\n",
       "174. 24\n",
       "175. 24\n",
       "176. 24\n",
       "177. 24\n",
       "178. 24\n",
       "179. 24\n",
       "180. 24\n",
       "181. 24.5\n",
       "182. 25\n",
       "183. 25\n",
       "184. 25\n",
       "185. 25\n",
       "186. 25\n",
       "187. 25\n",
       "188. 25\n",
       "189. 25\n",
       "190. 25\n",
       "191. 25\n",
       "192. 25\n",
       "193. 25\n",
       "194. 25\n",
       "195. 26\n",
       "196. 26\n",
       "197. 26\n",
       "198. 26\n",
       "199. 26\n",
       "200. 26\n",
       "201. 26\n",
       "202. 26\n",
       "203. 26\n",
       "204. 26\n",
       "205. 26\n",
       "206. 26\n",
       "207. 26\n",
       "208. 26\n",
       "209. 27\n",
       "210. 27\n",
       "211. 27\n",
       "212. 27\n",
       "213. 27\n",
       "214. 27\n",
       "215. 27\n",
       "216. 27\n",
       "217. 28\n",
       "218. 28\n",
       "219. 28\n",
       "220. 28\n",
       "221. 28\n",
       "222. 28\n",
       "223. 28\n",
       "224. 28\n",
       "225. 28\n",
       "226. 28\n",
       "227. 28\n",
       "228. 28\n",
       "229. 28.5\n",
       "230. 28.5\n",
       "231. 29\n",
       "232. 29\n",
       "233. 29\n",
       "234. 29\n",
       "235. 29\n",
       "236. 29\n",
       "237. 29\n",
       "238. 29\n",
       "239. 29\n",
       "240. 29\n",
       "241. 29\n",
       "242. 30\n",
       "243. 30\n",
       "244. 30\n",
       "245. 30\n",
       "246. 30\n",
       "247. 30\n",
       "248. 30\n",
       "249. 30\n",
       "250. 30\n",
       "251. 30\n",
       "252. 30\n",
       "253. 30.5\n",
       "254. 30.5\n",
       "255. 31\n",
       "256. 31\n",
       "257. 31\n",
       "258. 31\n",
       "259. 31\n",
       "260. 31\n",
       "261. 31\n",
       "262. 32\n",
       "263. 32\n",
       "264. 32\n",
       "265. 32\n",
       "266. 32\n",
       "267. 32\n",
       "268. 32\n",
       "269. 32\n",
       "270. 32\n",
       "271. 32\n",
       "272. 32\n",
       "273. 32\n",
       "274. 33\n",
       "275. 33\n",
       "276. 33\n",
       "277. 33\n",
       "278. 33\n",
       "279. 33\n",
       "280. 33\n",
       "281. 33\n",
       "282. 34\n",
       "283. 34\n",
       "284. 34\n",
       "285. 34\n",
       "286. 34.5\n",
       "287. 35\n",
       "288. 35\n",
       "289. 35\n",
       "290. 35\n",
       "291. 35\n",
       "292. 35\n",
       "293. 36\n",
       "294. 36\n",
       "295. 36\n",
       "296. 36\n",
       "297. 36\n",
       "298. 36\n",
       "299. 37\n",
       "300. 37\n",
       "301. 38\n",
       "302. 38\n",
       "303. 38\n",
       "304. 38\n",
       "305. 39\n",
       "306. 39\n",
       "307. 39\n",
       "308. 39\n",
       "309. 39\n",
       "310. 39\n",
       "311. 40\n",
       "312. 40\n",
       "313. 40\n",
       "314. 40\n",
       "315. 40\n",
       "316. 40.5\n",
       "317. 40.5\n",
       "318. 41\n",
       "319. 41\n",
       "320. 41\n",
       "321. 41\n",
       "322. 42\n",
       "323. 42\n",
       "324. 42\n",
       "325. 42\n",
       "326. 43\n",
       "327. 43\n",
       "328. 43\n",
       "329. 44\n",
       "330. 44\n",
       "331. 44\n",
       "332. 44\n",
       "333. 45\n",
       "334. 45\n",
       "335. 45\n",
       "336. 45\n",
       "337. 45\n",
       "338. 45.5\n",
       "339. 47\n",
       "340. 47\n",
       "341. 47\n",
       "342. 48\n",
       "343. 48\n",
       "344. 49\n",
       "345. 50\n",
       "346. 51\n",
       "347. 51\n",
       "348. 51\n",
       "\n",
       "\n"
      ],
      "text/plain": [
       "  [1]  0.42  0.75  0.75  1.00  1.00  1.00  1.00  1.00  2.00  2.00  2.00  2.00\n",
       " [13]  2.00  2.00  2.00  3.00  3.00  3.00  4.00  4.00  4.00  4.00  4.00  4.00\n",
       " [25]  4.00  5.00  5.00  5.00  6.00  6.00  7.00  7.00  8.00  8.00  9.00  9.00\n",
       " [37]  9.00  9.00  9.00  9.00  9.00  9.00 10.00 10.00 11.00 11.00 11.00 12.00\n",
       " [49] 13.00 14.00 14.00 14.00 14.00 14.50 15.00 15.00 15.00 15.00 16.00 16.00\n",
       " [61] 16.00 16.00 16.00 16.00 16.00 16.00 16.00 16.00 16.00 16.00 17.00 17.00\n",
       " [73] 17.00 17.00 17.00 17.00 17.00 17.00 18.00 18.00 18.00 18.00 18.00 18.00\n",
       " [85] 18.00 18.00 18.00 18.00 18.00 18.00 18.00 18.00 18.00 18.00 19.00 19.00\n",
       " [97] 19.00 19.00 19.00 19.00 19.00 19.00 19.00 19.00 19.00 19.00 19.00 19.00\n",
       "[109] 20.00 20.00 20.00 20.00 20.00 20.00 20.00 20.00 20.00 20.00 20.00 20.00\n",
       "[121] 20.00 20.00 20.00 20.50 21.00 21.00 21.00 21.00 21.00 21.00 21.00 21.00\n",
       "[133] 21.00 21.00 21.00 21.00 21.00 21.00 21.00 21.00 21.00 22.00 22.00 22.00\n",
       "[145] 22.00 22.00 22.00 22.00 22.00 22.00 22.00 22.00 22.00 22.00 22.00 22.00\n",
       "[157] 22.00 22.00 22.00 22.00 22.00 23.00 23.00 23.00 23.00 23.00 23.50 24.00\n",
       "[169] 24.00 24.00 24.00 24.00 24.00 24.00 24.00 24.00 24.00 24.00 24.00 24.00\n",
       "[181] 24.50 25.00 25.00 25.00 25.00 25.00 25.00 25.00 25.00 25.00 25.00 25.00\n",
       "[193] 25.00 25.00 26.00 26.00 26.00 26.00 26.00 26.00 26.00 26.00 26.00 26.00\n",
       "[205] 26.00 26.00 26.00 26.00 27.00 27.00 27.00 27.00 27.00 27.00 27.00 27.00\n",
       "[217] 28.00 28.00 28.00 28.00 28.00 28.00 28.00 28.00 28.00 28.00 28.00 28.00\n",
       "[229] 28.50 28.50 29.00 29.00 29.00 29.00 29.00 29.00 29.00 29.00 29.00 29.00\n",
       "[241] 29.00 30.00 30.00 30.00 30.00 30.00 30.00 30.00 30.00 30.00 30.00 30.00\n",
       "[253] 30.50 30.50 31.00 31.00 31.00 31.00 31.00 31.00 31.00 32.00 32.00 32.00\n",
       "[265] 32.00 32.00 32.00 32.00 32.00 32.00 32.00 32.00 32.00 33.00 33.00 33.00\n",
       "[277] 33.00 33.00 33.00 33.00 33.00 34.00 34.00 34.00 34.00 34.50 35.00 35.00\n",
       "[289] 35.00 35.00 35.00 35.00 36.00 36.00 36.00 36.00 36.00 36.00 37.00 37.00\n",
       "[301] 38.00 38.00 38.00 38.00 39.00 39.00 39.00 39.00 39.00 39.00 40.00 40.00\n",
       "[313] 40.00 40.00 40.00 40.50 40.50 41.00 41.00 41.00 41.00 42.00 42.00 42.00\n",
       "[325] 42.00 43.00 43.00 43.00 44.00 44.00 44.00 44.00 45.00 45.00 45.00 45.00\n",
       "[337] 45.00 45.50 47.00 47.00 47.00 48.00 48.00 49.00 50.00 51.00 51.00 51.00"
      ]
     },
     "metadata": {},
     "output_type": "display_data"
    }
   ],
   "source": [
    "sortedData <- sortedData[1:(length(sortedData)-7)]\n",
    "sortedData"
   ]
  },
  {
   "cell_type": "code",
   "execution_count": 17,
   "metadata": {
    "vscode": {
     "languageId": "r"
    }
   },
   "outputs": [
    {
     "data": {
      "image/png": "[encoded data removed]",
      "text/plain": [
       "plot without title"
      ]
     },
     "metadata": {
      "image/png": {
       "height": 540,
       "width": 900
      }
     },
     "output_type": "display_data"
    }
   ],
   "source": [
    "par(bg = 'white')\n",
    "boxplot(sortedData)\n",
    "# 이거 NA 값 뺀 나이임"
   ]
  },
  {
   "cell_type": "code",
   "execution_count": 18,
   "metadata": {
    "vscode": {
     "languageId": "r"
    }
   },
   "outputs": [
    {
     "data": {
      "text/html": [
       "<table class=\"dataframe\">\n",
       "<caption>A data.frame: 6 x 13</caption>\n",
       "<thead>\n",
       "\t<tr><th></th><th scope=col>PassengerId</th><th scope=col>Survived</th><th scope=col>Pclass</th><th scope=col>Name</th><th scope=col>Sex</th><th scope=col>Age</th><th scope=col>SibSp</th><th scope=col>Parch</th><th scope=col>Ticket</th><th scope=col>Fare</th><th scope=col>Cabin</th><th scope=col>Embarked</th><th scope=col>familyWhith</th></tr>\n",
       "\t<tr><th></th><th scope=col>&lt;int&gt;</th><th scope=col>&lt;int&gt;</th><th scope=col>&lt;int&gt;</th><th scope=col>&lt;chr&gt;</th><th scope=col>&lt;chr&gt;</th><th scope=col>&lt;dbl&gt;</th><th scope=col>&lt;int&gt;</th><th scope=col>&lt;int&gt;</th><th scope=col>&lt;chr&gt;</th><th scope=col>&lt;dbl&gt;</th><th scope=col>&lt;chr&gt;</th><th scope=col>&lt;chr&gt;</th><th scope=col>&lt;int&gt;</th></tr>\n",
       "</thead>\n",
       "<tbody>\n",
       "\t<tr><th scope=row>1</th><td>1</td><td>0</td><td>3</td><td>Braund, Mr. Owen Harris                            </td><td>male  </td><td>22</td><td>1</td><td>0</td><td>A/5 21171       </td><td> 7.2500</td><td>    </td><td>S</td><td>1</td></tr>\n",
       "\t<tr><th scope=row>2</th><td>2</td><td>1</td><td>1</td><td>Cumings, Mrs. John Bradley (Florence Briggs Thayer)</td><td>female</td><td>38</td><td>1</td><td>0</td><td>PC 17599        </td><td>71.2833</td><td>C85 </td><td>C</td><td>1</td></tr>\n",
       "\t<tr><th scope=row>3</th><td>3</td><td>1</td><td>3</td><td>Heikkinen, Miss. Laina                             </td><td>female</td><td>26</td><td>0</td><td>0</td><td>STON/O2. 3101282</td><td> 7.9250</td><td>    </td><td>S</td><td>0</td></tr>\n",
       "\t<tr><th scope=row>4</th><td>4</td><td>1</td><td>1</td><td>Futrelle, Mrs. Jacques Heath (Lily May Peel)       </td><td>female</td><td>35</td><td>1</td><td>0</td><td>113803          </td><td>53.1000</td><td>C123</td><td>S</td><td>1</td></tr>\n",
       "\t<tr><th scope=row>5</th><td>5</td><td>0</td><td>3</td><td>Allen, Mr. William Henry                           </td><td>male  </td><td>35</td><td>0</td><td>0</td><td>373450          </td><td> 8.0500</td><td>    </td><td>S</td><td>0</td></tr>\n",
       "\t<tr><th scope=row>6</th><td>6</td><td>0</td><td>3</td><td>Moran, Mr. James                                   </td><td>male  </td><td>NA</td><td>0</td><td>0</td><td>330877          </td><td> 8.4583</td><td>    </td><td>Q</td><td>0</td></tr>\n",
       "</tbody>\n",
       "</table>\n"
      ],
      "text/latex": [
       "A data.frame: 6 x 13\n",
       "\\begin{tabular}{r|lllllllllllll}\n",
       "  & PassengerId & Survived & Pclass & Name & Sex & Age & SibSp & Parch & Ticket & Fare & Cabin & Embarked & familyWhith\\\\\n",
       "  & <int> & <int> & <int> & <chr> & <chr> & <dbl> & <int> & <int> & <chr> & <dbl> & <chr> & <chr> & <int>\\\\\n",
       "\\hline\n",
       "\t1 & 1 & 0 & 3 & Braund, Mr. Owen Harris                             & male   & 22 & 1 & 0 & A/5 21171        &  7.2500 &      & S & 1\\\\\n",
       "\t2 & 2 & 1 & 1 & Cumings, Mrs. John Bradley (Florence Briggs Thayer) & female & 38 & 1 & 0 & PC 17599         & 71.2833 & C85  & C & 1\\\\\n",
       "\t3 & 3 & 1 & 3 & Heikkinen, Miss. Laina                              & female & 26 & 0 & 0 & STON/O2. 3101282 &  7.9250 &      & S & 0\\\\\n",
       "\t4 & 4 & 1 & 1 & Futrelle, Mrs. Jacques Heath (Lily May Peel)        & female & 35 & 1 & 0 & 113803           & 53.1000 & C123 & S & 1\\\\\n",
       "\t5 & 5 & 0 & 3 & Allen, Mr. William Henry                            & male   & 35 & 0 & 0 & 373450           &  8.0500 &      & S & 0\\\\\n",
       "\t6 & 6 & 0 & 3 & Moran, Mr. James                                    & male   & NA & 0 & 0 & 330877           &  8.4583 &      & Q & 0\\\\\n",
       "\\end{tabular}\n"
      ],
      "text/markdown": [
       "\n",
       "A data.frame: 6 x 13\n",
       "\n",
       "| <!--/--> | PassengerId &lt;int&gt; | Survived &lt;int&gt; | Pclass &lt;int&gt; | Name &lt;chr&gt; | Sex &lt;chr&gt; | Age &lt;dbl&gt; | SibSp &lt;int&gt; | Parch &lt;int&gt; | Ticket &lt;chr&gt; | Fare &lt;dbl&gt; | Cabin &lt;chr&gt; | Embarked &lt;chr&gt; | familyWhith &lt;int&gt; |\n",
       "|---|---|---|---|---|---|---|---|---|---|---|---|---|---|\n",
       "| 1 | 1 | 0 | 3 | Braund, Mr. Owen Harris                             | male   | 22 | 1 | 0 | A/5 21171        |  7.2500 | <!----> | S | 1 |\n",
       "| 2 | 2 | 1 | 1 | Cumings, Mrs. John Bradley (Florence Briggs Thayer) | female | 38 | 1 | 0 | PC 17599         | 71.2833 | C85  | C | 1 |\n",
       "| 3 | 3 | 1 | 3 | Heikkinen, Miss. Laina                              | female | 26 | 0 | 0 | STON/O2. 3101282 |  7.9250 | <!----> | S | 0 |\n",
       "| 4 | 4 | 1 | 1 | Futrelle, Mrs. Jacques Heath (Lily May Peel)        | female | 35 | 1 | 0 | 113803           | 53.1000 | C123 | S | 1 |\n",
       "| 5 | 5 | 0 | 3 | Allen, Mr. William Henry                            | male   | 35 | 0 | 0 | 373450           |  8.0500 | <!----> | S | 0 |\n",
       "| 6 | 6 | 0 | 3 | Moran, Mr. James                                    | male   | NA | 0 | 0 | 330877           |  8.4583 | <!----> | Q | 0 |\n",
       "\n"
      ],
      "text/plain": [
       "  PassengerId Survived Pclass\n",
       "1 1           0        3     \n",
       "2 2           1        1     \n",
       "3 3           1        3     \n",
       "4 4           1        1     \n",
       "5 5           0        3     \n",
       "6 6           0        3     \n",
       "  Name                                                Sex    Age SibSp Parch\n",
       "1 Braund, Mr. Owen Harris                             male   22  1     0    \n",
       "2 Cumings, Mrs. John Bradley (Florence Briggs Thayer) female 38  1     0    \n",
       "3 Heikkinen, Miss. Laina                              female 26  0     0    \n",
       "4 Futrelle, Mrs. Jacques Heath (Lily May Peel)        female 35  1     0    \n",
       "5 Allen, Mr. William Henry                            male   35  0     0    \n",
       "6 Moran, Mr. James                                    male   NA  0     0    \n",
       "  Ticket           Fare    Cabin Embarked familyWhith\n",
       "1 A/5 21171         7.2500       S        1          \n",
       "2 PC 17599         71.2833 C85   C        1          \n",
       "3 STON/O2. 3101282  7.9250       S        0          \n",
       "4 113803           53.1000 C123  S        1          \n",
       "5 373450            8.0500       S        0          \n",
       "6 330877            8.4583       Q        0          "
      ]
     },
     "metadata": {},
     "output_type": "display_data"
    }
   ],
   "source": [
    "# NA 를 적절한 값으로 대채해서 해보자\n",
    "head(tai)\n",
    "NAretai <- tai"
   ]
  },
  {
   "cell_type": "code",
   "execution_count": null,
   "metadata": {
    "vscode": {
     "languageId": "r"
    }
   },
   "outputs": [],
   "source": []
  },
  {
   "cell_type": "code",
   "execution_count": 19,
   "metadata": {
    "vscode": {
     "languageId": "r"
    }
   },
   "outputs": [],
   "source": [
    "NAretai[is.na(NAretai)] <- 25"
   ]
  },
  {
   "cell_type": "code",
   "execution_count": 20,
   "metadata": {
    "vscode": {
     "languageId": "r"
    }
   },
   "outputs": [
    {
     "data": {
      "text/html": [
       "<table class=\"dataframe\">\n",
       "<caption>A data.frame: 6 x 13</caption>\n",
       "<thead>\n",
       "\t<tr><th></th><th scope=col>PassengerId</th><th scope=col>Survived</th><th scope=col>Pclass</th><th scope=col>Name</th><th scope=col>Sex</th><th scope=col>Age</th><th scope=col>SibSp</th><th scope=col>Parch</th><th scope=col>Ticket</th><th scope=col>Fare</th><th scope=col>Cabin</th><th scope=col>Embarked</th><th scope=col>familyWhith</th></tr>\n",
       "\t<tr><th></th><th scope=col>&lt;int&gt;</th><th scope=col>&lt;int&gt;</th><th scope=col>&lt;int&gt;</th><th scope=col>&lt;chr&gt;</th><th scope=col>&lt;chr&gt;</th><th scope=col>&lt;dbl&gt;</th><th scope=col>&lt;int&gt;</th><th scope=col>&lt;int&gt;</th><th scope=col>&lt;chr&gt;</th><th scope=col>&lt;dbl&gt;</th><th scope=col>&lt;chr&gt;</th><th scope=col>&lt;chr&gt;</th><th scope=col>&lt;int&gt;</th></tr>\n",
       "</thead>\n",
       "<tbody>\n",
       "\t<tr><th scope=row>1</th><td>1</td><td>0</td><td>3</td><td>Braund, Mr. Owen Harris                            </td><td>male  </td><td>22</td><td>1</td><td>0</td><td>A/5 21171       </td><td> 7.2500</td><td>    </td><td>S</td><td>1</td></tr>\n",
       "\t<tr><th scope=row>2</th><td>2</td><td>1</td><td>1</td><td>Cumings, Mrs. John Bradley (Florence Briggs Thayer)</td><td>female</td><td>38</td><td>1</td><td>0</td><td>PC 17599        </td><td>71.2833</td><td>C85 </td><td>C</td><td>1</td></tr>\n",
       "\t<tr><th scope=row>3</th><td>3</td><td>1</td><td>3</td><td>Heikkinen, Miss. Laina                             </td><td>female</td><td>26</td><td>0</td><td>0</td><td>STON/O2. 3101282</td><td> 7.9250</td><td>    </td><td>S</td><td>0</td></tr>\n",
       "\t<tr><th scope=row>4</th><td>4</td><td>1</td><td>1</td><td>Futrelle, Mrs. Jacques Heath (Lily May Peel)       </td><td>female</td><td>35</td><td>1</td><td>0</td><td>113803          </td><td>53.1000</td><td>C123</td><td>S</td><td>1</td></tr>\n",
       "\t<tr><th scope=row>5</th><td>5</td><td>0</td><td>3</td><td>Allen, Mr. William Henry                           </td><td>male  </td><td>35</td><td>0</td><td>0</td><td>373450          </td><td> 8.0500</td><td>    </td><td>S</td><td>0</td></tr>\n",
       "\t<tr><th scope=row>6</th><td>6</td><td>0</td><td>3</td><td>Moran, Mr. James                                   </td><td>male  </td><td>25</td><td>0</td><td>0</td><td>330877          </td><td> 8.4583</td><td>    </td><td>Q</td><td>0</td></tr>\n",
       "</tbody>\n",
       "</table>\n"
      ],
      "text/latex": [
       "A data.frame: 6 x 13\n",
       "\\begin{tabular}{r|lllllllllllll}\n",
       "  & PassengerId & Survived & Pclass & Name & Sex & Age & SibSp & Parch & Ticket & Fare & Cabin & Embarked & familyWhith\\\\\n",
       "  & <int> & <int> & <int> & <chr> & <chr> & <dbl> & <int> & <int> & <chr> & <dbl> & <chr> & <chr> & <int>\\\\\n",
       "\\hline\n",
       "\t1 & 1 & 0 & 3 & Braund, Mr. Owen Harris                             & male   & 22 & 1 & 0 & A/5 21171        &  7.2500 &      & S & 1\\\\\n",
       "\t2 & 2 & 1 & 1 & Cumings, Mrs. John Bradley (Florence Briggs Thayer) & female & 38 & 1 & 0 & PC 17599         & 71.2833 & C85  & C & 1\\\\\n",
       "\t3 & 3 & 1 & 3 & Heikkinen, Miss. Laina                              & female & 26 & 0 & 0 & STON/O2. 3101282 &  7.9250 &      & S & 0\\\\\n",
       "\t4 & 4 & 1 & 1 & Futrelle, Mrs. Jacques Heath (Lily May Peel)        & female & 35 & 1 & 0 & 113803           & 53.1000 & C123 & S & 1\\\\\n",
       "\t5 & 5 & 0 & 3 & Allen, Mr. William Henry                            & male   & 35 & 0 & 0 & 373450           &  8.0500 &      & S & 0\\\\\n",
       "\t6 & 6 & 0 & 3 & Moran, Mr. James                                    & male   & 25 & 0 & 0 & 330877           &  8.4583 &      & Q & 0\\\\\n",
       "\\end{tabular}\n"
      ],
      "text/markdown": [
       "\n",
       "A data.frame: 6 x 13\n",
       "\n",
       "| <!--/--> | PassengerId &lt;int&gt; | Survived &lt;int&gt; | Pclass &lt;int&gt; | Name &lt;chr&gt; | Sex &lt;chr&gt; | Age &lt;dbl&gt; | SibSp &lt;int&gt; | Parch &lt;int&gt; | Ticket &lt;chr&gt; | Fare &lt;dbl&gt; | Cabin &lt;chr&gt; | Embarked &lt;chr&gt; | familyWhith &lt;int&gt; |\n",
       "|---|---|---|---|---|---|---|---|---|---|---|---|---|---|\n",
       "| 1 | 1 | 0 | 3 | Braund, Mr. Owen Harris                             | male   | 22 | 1 | 0 | A/5 21171        |  7.2500 | <!----> | S | 1 |\n",
       "| 2 | 2 | 1 | 1 | Cumings, Mrs. John Bradley (Florence Briggs Thayer) | female | 38 | 1 | 0 | PC 17599         | 71.2833 | C85  | C | 1 |\n",
       "| 3 | 3 | 1 | 3 | Heikkinen, Miss. Laina                              | female | 26 | 0 | 0 | STON/O2. 3101282 |  7.9250 | <!----> | S | 0 |\n",
       "| 4 | 4 | 1 | 1 | Futrelle, Mrs. Jacques Heath (Lily May Peel)        | female | 35 | 1 | 0 | 113803           | 53.1000 | C123 | S | 1 |\n",
       "| 5 | 5 | 0 | 3 | Allen, Mr. William Henry                            | male   | 35 | 0 | 0 | 373450           |  8.0500 | <!----> | S | 0 |\n",
       "| 6 | 6 | 0 | 3 | Moran, Mr. James                                    | male   | 25 | 0 | 0 | 330877           |  8.4583 | <!----> | Q | 0 |\n",
       "\n"
      ],
      "text/plain": [
       "  PassengerId Survived Pclass\n",
       "1 1           0        3     \n",
       "2 2           1        1     \n",
       "3 3           1        3     \n",
       "4 4           1        1     \n",
       "5 5           0        3     \n",
       "6 6           0        3     \n",
       "  Name                                                Sex    Age SibSp Parch\n",
       "1 Braund, Mr. Owen Harris                             male   22  1     0    \n",
       "2 Cumings, Mrs. John Bradley (Florence Briggs Thayer) female 38  1     0    \n",
       "3 Heikkinen, Miss. Laina                              female 26  0     0    \n",
       "4 Futrelle, Mrs. Jacques Heath (Lily May Peel)        female 35  1     0    \n",
       "5 Allen, Mr. William Henry                            male   35  0     0    \n",
       "6 Moran, Mr. James                                    male   25  0     0    \n",
       "  Ticket           Fare    Cabin Embarked familyWhith\n",
       "1 A/5 21171         7.2500       S        1          \n",
       "2 PC 17599         71.2833 C85   C        1          \n",
       "3 STON/O2. 3101282  7.9250       S        0          \n",
       "4 113803           53.1000 C123  S        1          \n",
       "5 373450            8.0500       S        0          \n",
       "6 330877            8.4583       Q        0          "
      ]
     },
     "metadata": {},
     "output_type": "display_data"
    }
   ],
   "source": [
    "head(NAretai)"
   ]
  },
  {
   "cell_type": "code",
   "execution_count": 21,
   "metadata": {
    "vscode": {
     "languageId": "r"
    }
   },
   "outputs": [
    {
     "data": {
      "text/plain": [
       "\n",
       "                            A10             A14             A16             A19 \n",
       "            687               1               1               1               1 \n",
       "            A20             A23             A24             A26             A31 \n",
       "              1               1               1               1               1 \n",
       "            A32             A34             A36              A5              A6 \n",
       "              1               1               1               1               1 \n",
       "             A7            B101            B102             B18             B19 \n",
       "              1               1               1               2               1 \n",
       "            B20             B22             B28              B3             B30 \n",
       "              2               2               2               1               1 \n",
       "            B35             B37             B38             B39              B4 \n",
       "              2               1               1               1               1 \n",
       "            B41             B42             B49              B5             B50 \n",
       "              1               1               2               2               1 \n",
       "    B51 B53 B55 B57 B59 B63 B66         B58 B60             B69             B71 \n",
       "              2               2               2               1               1 \n",
       "            B73             B77             B78             B79             B80 \n",
       "              1               2               1               1               1 \n",
       "        B82 B84             B86             B94         B96 B98            C101 \n",
       "              1               1               1               4               1 \n",
       "           C103            C104            C106            C110            C111 \n",
       "              1               1               1               1               1 \n",
       "           C118            C123            C124            C125            C126 \n",
       "              1               2               2               2               2 \n",
       "           C128            C148              C2         C22 C26     C23 C25 C27 \n",
       "              1               1               2               3               4 \n",
       "            C30             C32             C45             C46             C47 \n",
       "              1               1               1               1               1 \n",
       "            C49             C50             C52             C54         C62 C64 \n",
       "              1               1               2               1               1 \n",
       "            C65             C68              C7             C70             C78 \n",
       "              2               2               1               1               2 \n",
       "            C82             C83             C85             C86             C87 \n",
       "              1               2               1               1               1 \n",
       "            C90             C91             C92             C93             C95 \n",
       "              1               1               2               2               1 \n",
       "            C99               D         D10 D12             D11             D15 \n",
       "              1               3               1               1               1 \n",
       "            D17             D19             D20             D21             D26 \n",
       "              2               1               2               1               2 \n",
       "            D28             D30             D33             D35             D36 \n",
       "              1               1               2               2               2 \n",
       "            D37             D45             D46             D47             D48 \n",
       "              1               1               1               1               1 \n",
       "            D49             D50             D56              D6              D7 \n",
       "              1               1               1               1               1 \n",
       "             D9             E10            E101             E12            E121 \n",
       "              1               1               3               1               2 \n",
       "            E17             E24             E25             E31             E33 \n",
       "              1               2               2               1               2 \n",
       "            E34             E36             E38             E40             E44 \n",
       "              1               1               1               1               2 \n",
       "            E46             E49             E50             E58             E63 \n",
       "              1               1               1               1               1 \n",
       "            E67             E68             E77              E8           F E69 \n",
       "              2               1               1               2               1 \n",
       "          F G63           F G73              F2             F33             F38 \n",
       "              1               2               3               3               1 \n",
       "             F4              G6               T \n",
       "              2               4               1 "
      ]
     },
     "metadata": {},
     "output_type": "display_data"
    }
   ],
   "source": [
    "table(NAretai$Cabin)"
   ]
  },
  {
   "cell_type": "code",
   "execution_count": 22,
   "metadata": {
    "vscode": {
     "languageId": "r"
    }
   },
   "outputs": [
    {
     "ename": "ERROR",
     "evalue": "Error in eval(expr, envir, enclos): 객체 'AclassData'를 찾을 수 없습니다\n",
     "output_type": "error",
     "traceback": [
      "Error in eval(expr, envir, enclos): 객체 'AclassData'를 찾을 수 없습니다\nTraceback:\n",
      "1. table(AclassData$Survived)"
     ]
    }
   ],
   "source": [
    "# 티켓 번호 A ~ T 까지 위에서부터 객실이 지정된다\n",
    "#   AclassData <-  NAretai[grep(\"A\", NAretai$Cabin),]\n",
    "#AclassData\n",
    "#  BclassData <-  NAretai[grep(\"B\", NAretai$Cabin),]\n",
    "#BclassData\n",
    "#  CclassData <-  NAretai[grep(\"C\", NAretai$Cabin),]\n",
    "#CclassData\n",
    "# DclassData <-  NAretai[grep(\"D\", NAretai$Cabin),]\n",
    "#DclassData\n",
    "# EclassData <-  NAretai[grep(\"E\", NAretai$Cabin),]\n",
    "#EclassData\n",
    "# FclassData <-  NAretai[grep(\"F\", NAretai$Cabin),]\n",
    "#FclassData\n",
    "#name[grep('Co', name)]\n",
    "# 생존률 A ~ D\n",
    "table(AclassData$Survived)\n",
    "table(BclassData$Survived)\n",
    "table(CclassData$Survived)\n",
    "table(DclassData$Survived)\n",
    "table(EclassData$Survived)\n",
    "table(FclassData$Survived)"
   ]
  },
  {
   "cell_type": "code",
   "execution_count": 24,
   "metadata": {
    "vscode": {
     "languageId": "r"
    }
   },
   "outputs": [],
   "source": [
    "# 티켓 등급  데이터가 너무 적어서 보류\n",
    "FareData <- NAretai"
   ]
  },
  {
   "cell_type": "markdown",
   "metadata": {},
   "source": [
    "AclassData = 전체 데이터에서 A 방번호만 모은거"
   ]
  },
  {
   "cell_type": "code",
   "execution_count": 25,
   "metadata": {
    "vscode": {
     "languageId": "r"
    }
   },
   "outputs": [
    {
     "data": {
      "text/plain": [
       "\n",
       "       0   4.0125        5   6.2375   6.4375     6.45   6.4958     6.75 \n",
       "      15        1        1        1        1        1        2        2 \n",
       "  6.8583     6.95    6.975   7.0458     7.05   7.0542    7.125   7.1417 \n",
       "       1        1        2        1        7        2        4        1 \n",
       "   7.225   7.2292     7.25   7.3125   7.4958   7.5208     7.55   7.6292 \n",
       "      12       15       13        1        3        1        4        1 \n",
       "    7.65    7.725   7.7292   7.7333   7.7375   7.7417     7.75    7.775 \n",
       "       4        1        1        4        2        1       34       16 \n",
       "  7.7875   7.7958      7.8   7.8292   7.8542    7.875   7.8792   7.8875 \n",
       "       1        6        1        2       13        1        4        1 \n",
       "  7.8958    7.925   8.0292     8.05   8.1125   8.1375   8.1583      8.3 \n",
       "      38       18        1       43        1        1        1        1 \n",
       "  8.3625   8.4042   8.4333   8.4583   8.5167   8.6542   8.6625   8.6833 \n",
       "       1        1        1        1        1        1       13        1 \n",
       "  8.7125     8.85        9   9.2167    9.225     9.35    9.475   9.4833 \n",
       "       1        1        2        1        2        2        1        1 \n",
       "     9.5   9.5875    9.825   9.8375   9.8417   9.8458  10.1708  10.4625 \n",
       "       9        2        2        1        1        1        1        2 \n",
       "    10.5  10.5167  11.1333  11.2417     11.5       12   12.275  12.2875 \n",
       "      24        1        3        2        4        1        1        1 \n",
       "   12.35   12.475   12.525    12.65   12.875       13  13.4167     13.5 \n",
       "       3        4        1        1        1       42        1        4 \n",
       " 13.7917  13.8583  13.8625       14  14.1083     14.4  14.4542  14.4583 \n",
       "       1        1        1        1        1        2        7        3 \n",
       "    14.5       15  15.0458    15.05     15.1  15.2458     15.5    15.55 \n",
       "       7        1        1        1        1        5        8        1 \n",
       " 15.7417    15.75    15.85     15.9       16     16.1     16.7     17.4 \n",
       "       2        1        4        2        1        9        2        1 \n",
       "    17.8       18    18.75  18.7875  19.2583     19.5  19.9667  20.2125 \n",
       "       2        3        3        2        4        2        2        2 \n",
       "   20.25   20.525   20.575       21   21.075  21.6792   22.025  22.3583 \n",
       "       2        3        2        6        4        1        1        2 \n",
       "  22.525       23    23.25    23.45       24    24.15  25.4667  25.5875 \n",
       "       1        4        2        2        2        8        4        1 \n",
       "  25.925  25.9292       26    26.25  26.2833  26.2875  26.3875    26.55 \n",
       "       1        2       31        6        1        3        1       15 \n",
       "      27  27.7208    27.75     27.9     28.5  28.7125       29   29.125 \n",
       "       2        5        4        6        1        1        2        5 \n",
       "    29.7       30  30.0708     30.5  30.6958       31   31.275  31.3875 \n",
       "       3        6        2        5        2        3        7        4 \n",
       " 32.3208     32.5       33     33.5  34.0208   34.375  34.6542       35 \n",
       "       1        1        3        1        1        4        1        1 \n",
       "    35.5    36.75  37.0042     38.5       39     39.4     39.6  39.6875 \n",
       "       4        2        2        1        4        1        2        6 \n",
       "  40.125  41.5792     42.4     46.9     47.1     49.5  49.5042       50 \n",
       "       1        3        1        6        1        1        2        1 \n",
       " 50.4958  51.4792  51.8625       52  52.5542     53.1       55  55.4417 \n",
       "       1        1        2        7        3        5        2        1 \n",
       "    55.9  56.4958  56.9292       57  57.9792     59.4   61.175  61.3792 \n",
       "       2        7        2        2        2        1        1        1 \n",
       " 61.9792  63.3583       65     66.6     69.3    69.55       71  71.2833 \n",
       "       1        1        2        2        2        7        2        1 \n",
       "    73.5    75.25  76.2917  76.7292  77.2875  77.9583  78.2667    78.85 \n",
       "       5        1        1        3        2        3        2        2 \n",
       "    79.2    79.65       80  81.8583  82.1708  83.1583   83.475     86.5 \n",
       "       4        3        2        1        2        3        2        3 \n",
       " 89.1042       90  91.0792     93.5  106.425    108.9 110.8833  113.275 \n",
       "       2        4        2        2        2        2        4        3 \n",
       "     120   133.65    134.5 135.6333 146.5208   151.55 153.4625 164.8667 \n",
       "       4        2        2        3        2        4        3        2 \n",
       "211.3375    211.5 221.7792  227.525 247.5208  262.375      263 512.3292 \n",
       "       3        1        1        4        2        2        4        3 "
      ]
     },
     "metadata": {},
     "output_type": "display_data"
    }
   ],
   "source": [
    "table(NAretai$Fare)"
   ]
  },
  {
   "cell_type": "code",
   "execution_count": 26,
   "metadata": {
    "vscode": {
     "languageId": "r"
    }
   },
   "outputs": [
    {
     "data": {
      "text/plain": [
       "\n",
       "   (0,10]  (10,100] (100,200] (200,300] \n",
       "      321       502        33        17 "
      ]
     },
     "metadata": {},
     "output_type": "display_data"
    },
    {
     "name": "stdout",
     "output_type": "stream",
     "text": [
      "생존자"
     ]
    },
    {
     "data": {
      "text/html": [
       "66"
      ],
      "text/latex": [
       "66"
      ],
      "text/markdown": [
       "66"
      ],
      "text/plain": [
       "[1] 66"
      ]
     },
     "metadata": {},
     "output_type": "display_data"
    },
    {
     "data": {
      "text/html": [
       "236"
      ],
      "text/latex": [
       "236"
      ],
      "text/markdown": [
       "236"
      ],
      "text/plain": [
       "[1] 236"
      ]
     },
     "metadata": {},
     "output_type": "display_data"
    },
    {
     "data": {
      "text/html": [
       "25"
      ],
      "text/latex": [
       "25"
      ],
      "text/markdown": [
       "25"
      ],
      "text/plain": [
       "[1] 25"
      ]
     },
     "metadata": {},
     "output_type": "display_data"
    },
    {
     "data": {
      "text/html": [
       "11"
      ],
      "text/latex": [
       "11"
      ],
      "text/markdown": [
       "11"
      ],
      "text/plain": [
       "[1] 11"
      ]
     },
     "metadata": {},
     "output_type": "display_data"
    },
    {
     "name": "stdout",
     "output_type": "stream",
     "text": [
      " 사망자"
     ]
    },
    {
     "data": {
      "text/html": [
       "255"
      ],
      "text/latex": [
       "255"
      ],
      "text/markdown": [
       "255"
      ],
      "text/plain": [
       "[1] 255"
      ]
     },
     "metadata": {},
     "output_type": "display_data"
    },
    {
     "data": {
      "text/html": [
       "266"
      ],
      "text/latex": [
       "266"
      ],
      "text/markdown": [
       "266"
      ],
      "text/plain": [
       "[1] 266"
      ]
     },
     "metadata": {},
     "output_type": "display_data"
    },
    {
     "data": {
      "text/html": [
       "8"
      ],
      "text/latex": [
       "8"
      ],
      "text/markdown": [
       "8"
      ],
      "text/plain": [
       "[1] 8"
      ]
     },
     "metadata": {},
     "output_type": "display_data"
    },
    {
     "data": {
      "text/html": [
       "0"
      ],
      "text/latex": [
       "0"
      ],
      "text/markdown": [
       "0"
      ],
      "text/plain": [
       "[1] 0"
      ]
     },
     "metadata": {},
     "output_type": "display_data"
    },
    {
     "data": {
      "text/plain": [
       "\n",
       "female   male \n",
       "    38     28 "
      ]
     },
     "metadata": {},
     "output_type": "display_data"
    },
    {
     "data": {
      "text/plain": [
       "\n",
       "female   male \n",
       "   163     73 "
      ]
     },
     "metadata": {},
     "output_type": "display_data"
    },
    {
     "data": {
      "text/plain": [
       "\n",
       "female   male \n",
       "    20      5 "
      ]
     },
     "metadata": {},
     "output_type": "display_data"
    },
    {
     "data": {
      "text/plain": [
       "\n",
       "female \n",
       "    11 "
      ]
     },
     "metadata": {},
     "output_type": "display_data"
    },
    {
     "name": "stdout",
     "output_type": "stream",
     "text": [
      " 최저돈 생존률"
     ]
    },
    {
     "data": {
      "text/html": [
       "25.8823529411765"
      ],
      "text/latex": [
       "25.8823529411765"
      ],
      "text/markdown": [
       "25.8823529411765"
      ],
      "text/plain": [
       "[1] 25.88235"
      ]
     },
     "metadata": {},
     "output_type": "display_data"
    },
    {
     "name": "stdout",
     "output_type": "stream",
     "text": [
      "남자 대비 여자 생존률"
     ]
    },
    {
     "data": {
      "text/html": [
       "73.6842105263158"
      ],
      "text/latex": [
       "73.6842105263158"
      ],
      "text/markdown": [
       "73.6842105263158"
      ],
      "text/plain": [
       "[1] 73.68421"
      ]
     },
     "metadata": {},
     "output_type": "display_data"
    },
    {
     "name": "stdout",
     "output_type": "stream",
     "text": [
      " 저돈 생존률"
     ]
    },
    {
     "data": {
      "text/html": [
       "88.7218045112782"
      ],
      "text/latex": [
       "88.7218045112782"
      ],
      "text/markdown": [
       "88.7218045112782"
      ],
      "text/plain": [
       "[1] 88.7218"
      ]
     },
     "metadata": {},
     "output_type": "display_data"
    },
    {
     "name": "stdout",
     "output_type": "stream",
     "text": [
      "남자 대비 여자 생존률"
     ]
    },
    {
     "data": {
      "text/html": [
       "44.7852760736196"
      ],
      "text/latex": [
       "44.7852760736196"
      ],
      "text/markdown": [
       "44.7852760736196"
      ],
      "text/plain": [
       "[1] 44.78528"
      ]
     },
     "metadata": {},
     "output_type": "display_data"
    },
    {
     "name": "stdout",
     "output_type": "stream",
     "text": [
      " 중상돈 생존률"
     ]
    },
    {
     "data": {
      "text/html": [
       "32"
      ],
      "text/latex": [
       "32"
      ],
      "text/markdown": [
       "32"
      ],
      "text/plain": [
       "[1] 32"
      ]
     },
     "metadata": {},
     "output_type": "display_data"
    },
    {
     "name": "stdout",
     "output_type": "stream",
     "text": [
      "남자 대비 여자 생존률"
     ]
    },
    {
     "data": {
      "text/html": [
       "25"
      ],
      "text/latex": [
       "25"
      ],
      "text/markdown": [
       "25"
      ],
      "text/plain": [
       "[1] 25"
      ]
     },
     "metadata": {},
     "output_type": "display_data"
    },
    {
     "name": "stdout",
     "output_type": "stream",
     "text": [
      " 최상돈 생존률"
     ]
    },
    {
     "data": {
      "text/html": [
       "54.5454545454545"
      ],
      "text/latex": [
       "54.5454545454545"
      ],
      "text/markdown": [
       "54.5454545454545"
      ],
      "text/plain": [
       "[1] 54.54545"
      ]
     },
     "metadata": {},
     "output_type": "display_data"
    },
    {
     "name": "stdout",
     "output_type": "stream",
     "text": [
      "남자 대비 여자 생존률"
     ]
    },
    {
     "data": {
      "text/html": [
       "100"
      ],
      "text/latex": [
       "100"
      ],
      "text/markdown": [
       "100"
      ],
      "text/plain": [
       "[1] 100"
      ]
     },
     "metadata": {},
     "output_type": "display_data"
    }
   ],
   "source": [
    "#breaks <- c(0,10,20,30,40,50,60,)\n",
    "breaks <- c(0,10,100,200,300)\n",
    "\n",
    " FareData$Fare <- cut(NAretai$Fare , breaks)\n",
    " table(FareData$Fare)\n",
    "\n",
    "\n",
    " Fdata <- subset(FareData, Fare == '(0,10]' & Survived == 1 )\n",
    " Fdata2 <- subset(FareData, Fare == '(10,100]' & Survived == 1 )\n",
    " Fdata3 <- subset(FareData, Fare == '(100,200]' & Survived == 1 )\n",
    " Fdata4 <- subset(FareData, Fare == '(200,300]' & Survived == 1 )\n",
    " Fdat <- subset(FareData, Fare == '(0,10]' & Survived == 0 )\n",
    " Fdat2 <- subset(FareData, Fare == '(10,100]' & Survived == 0 )\n",
    " Fdat3 <- subset(FareData, Fare == '(100,200]' & Survived == 0 )\n",
    " Fdat4 <- subset(FareData, Fare == '(200,600]' & Survived == 0 )\n",
    " cat('생존자')\n",
    " nrow(Fdata)\n",
    " nrow(Fdata2)\n",
    " nrow(Fdata3)\n",
    " nrow(Fdata4)\n",
    " cat(' 사망자')\n",
    " nrow(Fdat)\n",
    " nrow(Fdat2)\n",
    " nrow(Fdat3)\n",
    " nrow(Fdat4)\n",
    " table(Fdata$Sex)\n",
    " table(Fdata2$Sex)\n",
    " table(Fdata3$Sex)\n",
    " table(Fdata4$Sex)\n",
    " #Fdata4$Sex\n",
    " cat(' 최저돈 생존률')\n",
    "66 / 255 * 100\n",
    "cat( '남자 대비 여자 생존률')\n",
    "28 / 38 * 100\n",
    " cat(' 저돈 생존률')\n",
    "236 / 266 * 100 \n",
    "cat( '남자 대비 여자 생존률')\n",
    "73 / 163 * 100\n",
    " cat(' 중상돈 생존률')\n",
    "8 / 25 * 100\n",
    "cat( '남자 대비 여자 생존률')\n",
    "5 / 20 * 100\n",
    " cat(' 최상돈 생존률')\n",
    "6 / 11 * 100\n",
    "cat( '남자 대비 여자 생존률')\n",
    "100\n"
   ]
  },
  {
   "cell_type": "code",
   "execution_count": 30,
   "metadata": {
    "vscode": {
     "languageId": "r"
    }
   },
   "outputs": [
    {
     "data": {
      "text/html": [
       "<table class=\"dataframe\">\n",
       "<caption>A data.frame: 6 x 12</caption>\n",
       "<thead>\n",
       "\t<tr><th></th><th scope=col>Survived</th><th scope=col>Pclass</th><th scope=col>Name</th><th scope=col>Sex</th><th scope=col>Age</th><th scope=col>SibSp</th><th scope=col>Parch</th><th scope=col>Ticket</th><th scope=col>Fare</th><th scope=col>Cabin</th><th scope=col>Embarked</th><th scope=col>familyWhith</th></tr>\n",
       "\t<tr><th></th><th scope=col>&lt;int&gt;</th><th scope=col>&lt;int&gt;</th><th scope=col>&lt;chr&gt;</th><th scope=col>&lt;chr&gt;</th><th scope=col>&lt;dbl&gt;</th><th scope=col>&lt;int&gt;</th><th scope=col>&lt;int&gt;</th><th scope=col>&lt;chr&gt;</th><th scope=col>&lt;fct&gt;</th><th scope=col>&lt;chr&gt;</th><th scope=col>&lt;chr&gt;</th><th scope=col>&lt;int&gt;</th></tr>\n",
       "</thead>\n",
       "<tbody>\n",
       "\t<tr><th scope=row>1</th><td>0</td><td>3</td><td>Braund, Mr. Owen Harris                            </td><td>male  </td><td>22</td><td>1</td><td>0</td><td>A/5 21171       </td><td>(0,10]  </td><td>    </td><td>S</td><td>1</td></tr>\n",
       "\t<tr><th scope=row>2</th><td>1</td><td>1</td><td>Cumings, Mrs. John Bradley (Florence Briggs Thayer)</td><td>female</td><td>38</td><td>1</td><td>0</td><td>PC 17599        </td><td>(10,100]</td><td>C85 </td><td>C</td><td>1</td></tr>\n",
       "\t<tr><th scope=row>3</th><td>1</td><td>3</td><td>Heikkinen, Miss. Laina                             </td><td>female</td><td>26</td><td>0</td><td>0</td><td>STON/O2. 3101282</td><td>(0,10]  </td><td>    </td><td>S</td><td>0</td></tr>\n",
       "\t<tr><th scope=row>4</th><td>1</td><td>1</td><td>Futrelle, Mrs. Jacques Heath (Lily May Peel)       </td><td>female</td><td>35</td><td>1</td><td>0</td><td>113803          </td><td>(10,100]</td><td>C123</td><td>S</td><td>1</td></tr>\n",
       "\t<tr><th scope=row>5</th><td>0</td><td>3</td><td>Allen, Mr. William Henry                           </td><td>male  </td><td>35</td><td>0</td><td>0</td><td>373450          </td><td>(0,10]  </td><td>    </td><td>S</td><td>0</td></tr>\n",
       "\t<tr><th scope=row>6</th><td>0</td><td>3</td><td>Moran, Mr. James                                   </td><td>male  </td><td>25</td><td>0</td><td>0</td><td>330877          </td><td>(0,10]  </td><td>    </td><td>Q</td><td>0</td></tr>\n",
       "</tbody>\n",
       "</table>\n"
      ],
      "text/latex": [
       "A data.frame: 6 x 12\n",
       "\\begin{tabular}{r|llllllllllll}\n",
       "  & Survived & Pclass & Name & Sex & Age & SibSp & Parch & Ticket & Fare & Cabin & Embarked & familyWhith\\\\\n",
       "  & <int> & <int> & <chr> & <chr> & <dbl> & <int> & <int> & <chr> & <fct> & <chr> & <chr> & <int>\\\\\n",
       "\\hline\n",
       "\t1 & 0 & 3 & Braund, Mr. Owen Harris                             & male   & 22 & 1 & 0 & A/5 21171        & (0,10{]}   &      & S & 1\\\\\n",
       "\t2 & 1 & 1 & Cumings, Mrs. John Bradley (Florence Briggs Thayer) & female & 38 & 1 & 0 & PC 17599         & (10,100{]} & C85  & C & 1\\\\\n",
       "\t3 & 1 & 3 & Heikkinen, Miss. Laina                              & female & 26 & 0 & 0 & STON/O2. 3101282 & (0,10{]}   &      & S & 0\\\\\n",
       "\t4 & 1 & 1 & Futrelle, Mrs. Jacques Heath (Lily May Peel)        & female & 35 & 1 & 0 & 113803           & (10,100{]} & C123 & S & 1\\\\\n",
       "\t5 & 0 & 3 & Allen, Mr. William Henry                            & male   & 35 & 0 & 0 & 373450           & (0,10{]}   &      & S & 0\\\\\n",
       "\t6 & 0 & 3 & Moran, Mr. James                                    & male   & 25 & 0 & 0 & 330877           & (0,10{]}   &      & Q & 0\\\\\n",
       "\\end{tabular}\n"
      ],
      "text/markdown": [
       "\n",
       "A data.frame: 6 x 12\n",
       "\n",
       "| <!--/--> | Survived &lt;int&gt; | Pclass &lt;int&gt; | Name &lt;chr&gt; | Sex &lt;chr&gt; | Age &lt;dbl&gt; | SibSp &lt;int&gt; | Parch &lt;int&gt; | Ticket &lt;chr&gt; | Fare &lt;fct&gt; | Cabin &lt;chr&gt; | Embarked &lt;chr&gt; | familyWhith &lt;int&gt; |\n",
       "|---|---|---|---|---|---|---|---|---|---|---|---|---|\n",
       "| 1 | 0 | 3 | Braund, Mr. Owen Harris                             | male   | 22 | 1 | 0 | A/5 21171        | (0,10]   | <!----> | S | 1 |\n",
       "| 2 | 1 | 1 | Cumings, Mrs. John Bradley (Florence Briggs Thayer) | female | 38 | 1 | 0 | PC 17599         | (10,100] | C85  | C | 1 |\n",
       "| 3 | 1 | 3 | Heikkinen, Miss. Laina                              | female | 26 | 0 | 0 | STON/O2. 3101282 | (0,10]   | <!----> | S | 0 |\n",
       "| 4 | 1 | 1 | Futrelle, Mrs. Jacques Heath (Lily May Peel)        | female | 35 | 1 | 0 | 113803           | (10,100] | C123 | S | 1 |\n",
       "| 5 | 0 | 3 | Allen, Mr. William Henry                            | male   | 35 | 0 | 0 | 373450           | (0,10]   | <!----> | S | 0 |\n",
       "| 6 | 0 | 3 | Moran, Mr. James                                    | male   | 25 | 0 | 0 | 330877           | (0,10]   | <!----> | Q | 0 |\n",
       "\n"
      ],
      "text/plain": [
       "  Survived Pclass Name                                                Sex   \n",
       "1 0        3      Braund, Mr. Owen Harris                             male  \n",
       "2 1        1      Cumings, Mrs. John Bradley (Florence Briggs Thayer) female\n",
       "3 1        3      Heikkinen, Miss. Laina                              female\n",
       "4 1        1      Futrelle, Mrs. Jacques Heath (Lily May Peel)        female\n",
       "5 0        3      Allen, Mr. William Henry                            male  \n",
       "6 0        3      Moran, Mr. James                                    male  \n",
       "  Age SibSp Parch Ticket           Fare     Cabin Embarked familyWhith\n",
       "1 22  1     0     A/5 21171        (0,10]         S        1          \n",
       "2 38  1     0     PC 17599         (10,100] C85   C        1          \n",
       "3 26  0     0     STON/O2. 3101282 (0,10]         S        0          \n",
       "4 35  1     0     113803           (10,100] C123  S        1          \n",
       "5 35  0     0     373450           (0,10]         S        0          \n",
       "6 25  0     0     330877           (0,10]         Q        0          "
      ]
     },
     "metadata": {},
     "output_type": "display_data"
    }
   ],
   "source": [
    "\n",
    "\n",
    "#FareData <- FareData[-1]\n",
    "\n",
    "head(FareData)\n"
   ]
  },
  {
   "cell_type": "markdown",
   "metadata": {},
   "source": []
  },
  {
   "cell_type": "code",
   "execution_count": 35,
   "metadata": {
    "vscode": {
     "languageId": "r"
    }
   },
   "outputs": [
    {
     "data": {
      "text/html": [
       "644"
      ],
      "text/latex": [
       "644"
      ],
      "text/markdown": [
       "644"
      ],
      "text/plain": [
       "[1] 644"
      ]
     },
     "metadata": {},
     "output_type": "display_data"
    },
    {
     "data": {
      "text/html": [
       "168"
      ],
      "text/latex": [
       "168"
      ],
      "text/markdown": [
       "168"
      ],
      "text/plain": [
       "[1] 168"
      ]
     },
     "metadata": {},
     "output_type": "display_data"
    },
    {
     "data": {
      "text/html": [
       "77"
      ],
      "text/latex": [
       "77"
      ],
      "text/markdown": [
       "77"
      ],
      "text/plain": [
       "[1] 77"
      ]
     },
     "metadata": {},
     "output_type": "display_data"
    }
   ],
   "source": [
    "FareDataS <- subset(FareData, FareData$Embarked == 'S')\n",
    "FareDataC <- subset(FareData, FareData$Embarked == 'C')\n",
    "FareDataQ <- subset(FareData, FareData$Embarked == 'Q')\n",
    "\n",
    "nrow(FareDataS)\n",
    "nrow(FareDataC)\n",
    "nrow(FareDataQ)\n",
    "\n"
   ]
  },
  {
   "cell_type": "code",
   "execution_count": null,
   "metadata": {
    "vscode": {
     "languageId": "r"
    }
   },
   "outputs": [],
   "source": []
  }
 ],
 "metadata": {
  "kernelspec": {
   "display_name": "R",
   "language": "R",
   "name": "r"
  },
  "language_info": {
   "codemirror_mode": "r",
   "file_extension": ".r",
   "mimetype": "text/x-r-source",
   "name": "R",
   "pygments_lexer": "r",
   "version": "4.3.3"
  }
 },
 "nbformat": 4,
 "nbformat_minor": 2
}
